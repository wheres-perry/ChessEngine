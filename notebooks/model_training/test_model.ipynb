{
 "cells": [
  {
   "cell_type": "code",
   "execution_count": 1,
   "id": "5bfb6291",
   "metadata": {},
   "outputs": [],
   "source": [
    "import torch\n",
    "import chess\n",
    "import os\n",
    "import sys\n",
    "\n",
    "project_root = os.path.abspath(os.path.join(os.getcwd(), '../..'))\n",
    "if project_root not in sys.path:\n",
    "    sys.path.insert(0, project_root)\n",
    "\n",
    "from src.engine.evaluators.simple_nn_eval import NN_Eval\n"
   ]
  },
  {
   "cell_type": "code",
   "execution_count": 2,
   "id": "7dda393d",
   "metadata": {},
   "outputs": [],
   "source": [
    "def test_chess_nn_model():\n",
    "    \"\"\"Test the trained ChessNN model on various chess positions.\"\"\"\n",
    "    \n",
    "    # Configuration\n",
    "    MODEL_PATH = 'best_chess_nn.pth'  # Update path if needed\n",
    "    \n",
    "    # Test positions (FEN notation)\n",
    "    test_positions = [\n",
    "        (\"r1bqkb1r/ppp2ppp/2n5/3np1N1/2B5/8/PPPP1PPP/RNBQK2R w KQkq - 0 6\", \"Starting position\"),\n",
    "    ]\n",
    "    \n",
    "    try:\n",
    "        # Initialize the neural network evaluator\n",
    "        print(\"Loading trained model...\")\n",
    "        evaluator = NN_Eval(chess.Board(), model_path=MODEL_PATH)\n",
    "        print(\"Model loaded successfully!\\n\")\n",
    "        \n",
    "        print(\"=\" * 60)\n",
    "        print(\"CHESS POSITION EVALUATION USING TRAINED NEURAL NETWORK\")\n",
    "        print(\"=\" * 60)\n",
    "        \n",
    "        for i, (fen, description) in enumerate(test_positions, 1):\n",
    "            print(f\"\\nPosition {i}: {description}\")\n",
    "            print(\"-\" * 40)\n",
    "            \n",
    "            # Create board from FEN\n",
    "            board = chess.Board(fen)\n",
    "            \n",
    "            # Update evaluator's board\n",
    "            evaluator.board = board\n",
    "            \n",
    "            # Get evaluation\n",
    "            evaluation = evaluator.evaluate()\n",
    "            \n",
    "            # Print board\n",
    "            print(board)\n",
    "            print(f\"\\nFEN: {fen}\")\n",
    "            print(f\"Turn: {'White' if board.turn else 'Black'}\")\n",
    "            print(f\"Neural Network Evaluation: {evaluation:.4f}\")\n",
    "            print(\"=\" * 60)\n",
    "            \n",
    "    except FileNotFoundError:\n",
    "        print(f\"Error: Model file '{MODEL_PATH}' not found.\")\n",
    "        print(\"Make sure you have trained the model and the path is correct.\")\n",
    "    except Exception as e:\n",
    "        print(f\"Error: {e}\")\n",
    "\n",
    "   "
   ]
  },
  {
   "cell_type": "code",
   "execution_count": 3,
   "id": "e28d4880",
   "metadata": {},
   "outputs": [
    {
     "name": "stdout",
     "output_type": "stream",
     "text": [
      "Loading trained model...\n",
      "Model loaded successfully!\n",
      "\n",
      "============================================================\n",
      "CHESS POSITION EVALUATION USING TRAINED NEURAL NETWORK\n",
      "============================================================\n",
      "\n",
      "Position 1: Starting position\n",
      "----------------------------------------\n",
      "r . b q k b . r\n",
      "p p p . . p p p\n",
      ". . n . . . . .\n",
      ". . . n p . N .\n",
      ". . B . . . . .\n",
      ". . . . . . . .\n",
      "P P P P . P P P\n",
      "R N B Q K . . R\n",
      "\n",
      "FEN: r1bqkb1r/ppp2ppp/2n5/3np1N1/2B5/8/PPPP1PPP/RNBQK2R w KQkq - 0 6\n",
      "Turn: White\n",
      "Neural Network Evaluation: -0.0368\n",
      "============================================================\n"
     ]
    }
   ],
   "source": [
    "test_chess_nn_model()"
   ]
  }
 ],
 "metadata": {
  "kernelspec": {
   "display_name": "base",
   "language": "python",
   "name": "python3"
  },
  "language_info": {
   "codemirror_mode": {
    "name": "ipython",
    "version": 3
   },
   "file_extension": ".py",
   "mimetype": "text/x-python",
   "name": "python",
   "nbconvert_exporter": "python",
   "pygments_lexer": "ipython3",
   "version": "3.13.2"
  }
 },
 "nbformat": 4,
 "nbformat_minor": 5
}
