{
 "cells": [
  {
   "cell_type": "code",
   "execution_count": 9,
   "id": "9417beee",
   "metadata": {},
   "outputs": [
    {
     "name": "stdout",
     "output_type": "stream",
     "text": [
      "Data source: ../../data/raw/lichess_eval/lichess_db_eval.jsonl\n",
      "Output directory: ../../data/preprocessed/lichess_preprocessed_chunks\n",
      "Using tensor planes: 28\n",
      "Chunk size: 50,000 positions per chunk\n",
      "Ledger file: ..\\..\\data\\preprocessed\\lichess_preprocessed_chunks\\processing_ledger.json\n"
     ]
    }
   ],
   "source": [
    "# Cell 1: Imports and Setup\n",
    "import chess\n",
    "import chess.pgn\n",
    "import numpy as np\n",
    "import pandas as pd\n",
    "import torch\n",
    "import torch.nn as nn\n",
    "from pathlib import Path\n",
    "import pyarrow as pa\n",
    "import pyarrow.parquet as pq\n",
    "from typing import List, Tuple\n",
    "import multiprocessing as mp\n",
    "from tqdm import tqdm\n",
    "import gc\n",
    "import h5py\n",
    "from concurrent.futures import ProcessPoolExecutor, ThreadPoolExecutor  # Add ThreadPoolExecutor\n",
    "import pickle\n",
    "import sys\n",
    "import os\n",
    "import json\n",
    "from datetime import datetime\n",
    "\n",
    "\n",
    "from to_tensor import create_tensor, NUM_PLANES\n",
    "\n",
    "# Configuration\n",
    "CHUNK_SIZE = 50_000  # Games per chunk (324 chunks for 162M games)\n",
    "MAX_CP = 1000\n",
    "EMBEDDING_DIM = 256\n",
    "NUM_CORES = 12  # Your CPU cores\n",
    "FILE_PATH = \"../../data/raw/lichess_eval/lichess_db_eval.jsonl\"\n",
    "OUTPUT_DIR = \"../../data/preprocessed/lichess_preprocessed_chunks\"\n",
    "NUM_CORES = 12\n",
    "DEVICE = 'cuda' if torch.cuda.is_available() else 'cpu'\n",
    "\n",
    "\n",
    "LEDGER_FILE = Path(\"../../data/preprocessed/lichess_preprocessed_chunks/processing_ledger.json\")\n",
    "\n",
    "# Initialize the ThreadPoolExecutor for asynchronous file saving\n",
    "save_executor = ThreadPoolExecutor(max_workers=1)  # Add this line!\n",
    "\n",
    "print(f\"Data source: {FILE_PATH}\")\n",
    "print(f\"Output directory: {OUTPUT_DIR}\")\n",
    "print(f\"Using tensor planes: {NUM_PLANES}\")\n",
    "print(f\"Chunk size: {CHUNK_SIZE:,} positions per chunk\")\n",
    "print(f\"Ledger file: {LEDGER_FILE}\")"
   ]
  },
  {
   "cell_type": "code",
   "execution_count": 10,
   "id": "6c2ce076",
   "metadata": {},
   "outputs": [
    {
     "name": "stdout",
     "output_type": "stream",
     "text": [
      "✓ Input file found: ../../data/raw/lichess_eval/lichess_db_eval.jsonl\n",
      "File size: 61.14 GB\n",
      "✓ Loaded existing ledger: 0 chunks already processed\n",
      "Resume from line: 0\n",
      "Total processed so far: 0 positions\n"
     ]
    }
   ],
   "source": [
    "if not os.path.exists(FILE_PATH):\n",
    "    raise FileNotFoundError(f\"Input file not found: {FILE_PATH}\")\n",
    "\n",
    "print(f\"✓ Input file found: {FILE_PATH}\")\n",
    "file_size_gb = os.path.getsize(FILE_PATH) / 1024 / 1024 / 1024\n",
    "print(f\"File size: {file_size_gb:.2f} GB\")\n",
    "\n",
    "# Initialize or load existing ledger\n",
    "def load_ledger():\n",
    "    \"\"\"Load existing processing ledger or create new one\"\"\"\n",
    "    if LEDGER_FILE.exists():\n",
    "        with open(LEDGER_FILE, 'r') as f:\n",
    "            ledger = json.load(f)\n",
    "        print(f\"✓ Loaded existing ledger: {len(ledger['completed_chunks'])} chunks already processed\")\n",
    "        return ledger\n",
    "    else:\n",
    "        ledger = {\n",
    "            'source_file': FILE_PATH,\n",
    "            'file_size_bytes': os.path.getsize(FILE_PATH),\n",
    "            'chunk_size': CHUNK_SIZE,\n",
    "            'num_planes': NUM_PLANES,\n",
    "            'max_cp': MAX_CP,\n",
    "            'started_at': datetime.now().isoformat(),\n",
    "            'last_updated': datetime.now().isoformat(),\n",
    "            'completed_chunks': [],\n",
    "            'failed_chunks': [],\n",
    "            'total_positions_processed': 0,\n",
    "            'last_processed_line': 0,\n",
    "            'status': 'initialized'\n",
    "        }\n",
    "        print(\"✓ Created new processing ledger\")\n",
    "        return ledger\n",
    "\n",
    "def save_ledger(ledger):\n",
    "    \"\"\"Save ledger to disk\"\"\"\n",
    "    ledger['last_updated'] = datetime.now().isoformat()\n",
    "    with open(LEDGER_FILE, 'w') as f:\n",
    "        json.dump(ledger, f, indent=2)\n",
    "\n",
    "# Load ledger\n",
    "processing_ledger = load_ledger()\n",
    "print(f\"Resume from line: {processing_ledger['last_processed_line']}\")\n",
    "print(f\"Total processed so far: {processing_ledger['total_positions_processed']:,} positions\")\n"
   ]
  },
  {
   "cell_type": "code",
   "execution_count": 11,
   "id": "767d653b",
   "metadata": {},
   "outputs": [
    {
     "name": "stdout",
     "output_type": "stream",
     "text": [
      "✓ Data processing functions ready\n"
     ]
    }
   ],
   "source": [
    "class ChessPositionProcessor:\n",
    "    def __init__(self):\n",
    "        pass\n",
    "        \n",
    "    def tensor_to_transformer_input(self, chess_tensor: torch.Tensor) -> np.ndarray:\n",
    "        \"\"\"Convert 28x8x8 chess tensor to transformer input format (64, 28)\"\"\"\n",
    "        if chess_tensor.is_cuda:\n",
    "            chess_tensor = chess_tensor.cpu()\n",
    "            \n",
    "        if isinstance(chess_tensor, torch.Tensor):\n",
    "            chess_tensor = chess_tensor.numpy()\n",
    "            \n",
    "        # Reshape from (28, 8, 8) to (28, 64)\n",
    "        tensor_flat = chess_tensor.reshape(NUM_PLANES, 64)\n",
    "        \n",
    "        # Transpose to get 64 tokens with 28 features each\n",
    "        square_tokens = tensor_flat.T  # (64, 28)\n",
    "        \n",
    "        return square_tokens.astype(np.float32)\n",
    "    \n",
    "    def create_position_data(self, square_tokens: np.ndarray, evaluation: float, metadata: dict) -> dict:\n",
    "        \"\"\"Create complete position data\"\"\"\n",
    "        return {\n",
    "            'square_tokens': square_tokens,\n",
    "            'evaluation': evaluation,\n",
    "            'raw_cp': metadata.get('raw_cp', 0),\n",
    "            'clipped_cp': metadata.get('clipped_cp', 0),\n",
    "            'fen': metadata.get('fen', ''),\n",
    "            'line_number': metadata.get('line_number', 0)\n",
    "        }\n",
    "\n",
    "def process_jsonl_line(line: str, line_number: int, processor: ChessPositionProcessor):\n",
    "    \"\"\"Process a single JSONL line and return position data or None\"\"\"\n",
    "    try:\n",
    "        obj = json.loads(line.strip())\n",
    "        fen = obj.get('fen')\n",
    "        cp = None\n",
    "\n",
    "        # Extract centipawn evaluation\n",
    "        if obj.get('evals') and len(obj['evals']) > 0:\n",
    "            if obj['evals'][0].get('pvs') and len(obj['evals'][0]['pvs']) > 0:\n",
    "                cp_value = obj['evals'][0]['pvs'][0].get('cp')\n",
    "                if cp_value is not None:\n",
    "                    cp = int(cp_value)\n",
    "\n",
    "        if fen is not None and cp is not None:\n",
    "            try:\n",
    "                board = chess.Board(fen)\n",
    "                \n",
    "                # Create tensor using your function\n",
    "                chess_tensor = create_tensor(board)\n",
    "                \n",
    "                # Convert to transformer input\n",
    "                transformer_input = processor.tensor_to_transformer_input(chess_tensor)\n",
    "                \n",
    "                # Clip and normalize evaluation\n",
    "                clipped_cp = max(min(cp, MAX_CP), -MAX_CP)\n",
    "                normalized_evaluation = clipped_cp / MAX_CP\n",
    "                \n",
    "                # Create metadata\n",
    "                metadata = {\n",
    "                    'raw_cp': cp,\n",
    "                    'clipped_cp': clipped_cp,\n",
    "                    'fen': fen,\n",
    "                    'line_number': line_number\n",
    "                }\n",
    "                \n",
    "                return processor.create_position_data(transformer_input, normalized_evaluation, metadata)\n",
    "                \n",
    "            except (ValueError, Exception):\n",
    "                return None\n",
    "    except (json.JSONDecodeError, Exception):\n",
    "        return None\n",
    "    \n",
    "    return None\n",
    "\n",
    "print(\"✓ Data processing functions ready\")\n"
   ]
  },
  {
   "cell_type": "code",
   "execution_count": 12,
   "id": "3a25b742",
   "metadata": {},
   "outputs": [
    {
     "name": "stdout",
     "output_type": "stream",
     "text": [
      "✓ Chunk saving functions ready\n"
     ]
    }
   ],
   "source": [
    "def save_chunk(positions_data: List[dict], chunk_id: int) -> dict:\n",
    "    \"\"\"Save a chunk of positions to disk\"\"\"\n",
    "    chunk_path = Path(OUTPUT_DIR) / f\"chunk_{chunk_id:04d}.h5\"\n",
    "    \n",
    "    with h5py.File(chunk_path, 'w') as f:\n",
    "        # Store square tokens\n",
    "        tokens_array = np.array([pos['square_tokens'] for pos in positions_data])\n",
    "        f.create_dataset('square_tokens', data=tokens_array, compression='gzip', compression_opts=9)\n",
    "        \n",
    "        # Store evaluations\n",
    "        evaluations = np.array([pos['evaluation'] for pos in positions_data], dtype=np.float32)\n",
    "        f.create_dataset('evaluations', data=evaluations, compression='gzip')\n",
    "        \n",
    "        # Store metadata\n",
    "        raw_cps = np.array([pos['raw_cp'] for pos in positions_data], dtype=np.int32)\n",
    "        clipped_cps = np.array([pos['clipped_cp'] for pos in positions_data], dtype=np.int32)\n",
    "        line_numbers = np.array([pos['line_number'] for pos in positions_data], dtype=np.int32)\n",
    "        \n",
    "        f.create_dataset('raw_cp', data=raw_cps)\n",
    "        f.create_dataset('clipped_cp', data=clipped_cps)\n",
    "        f.create_dataset('line_numbers', data=line_numbers)\n",
    "        \n",
    "        # Store FEN strings (variable length)\n",
    "        fens = [pos['fen'].encode('utf-8') for pos in positions_data]\n",
    "        dt = h5py.special_dtype(vlen=str)\n",
    "        f.create_dataset('fens', data=[pos['fen'] for pos in positions_data], dtype=dt)\n",
    "        \n",
    "        # Store chunk metadata\n",
    "        f.attrs['chunk_id'] = chunk_id\n",
    "        f.attrs['num_positions'] = len(positions_data)\n",
    "        f.attrs['num_planes'] = NUM_PLANES\n",
    "        f.attrs['max_cp'] = MAX_CP\n",
    "        f.attrs['source_file'] = os.path.basename(FILE_PATH)\n",
    "        f.attrs['created_at'] = datetime.now().isoformat()\n",
    "    \n",
    "    file_size_mb = chunk_path.stat().st_size / 1024 / 1024\n",
    "    \n",
    "    return {\n",
    "        'chunk_id': chunk_id,\n",
    "        'num_positions': len(positions_data),\n",
    "        'file_path': str(chunk_path),\n",
    "        'file_size_mb': file_size_mb,\n",
    "        'created_at': datetime.now().isoformat()\n",
    "    }\n",
    "\n",
    "def get_next_chunk_id(ledger):\n",
    "    \"\"\"Get the next chunk ID to process\"\"\"\n",
    "    if ledger['completed_chunks']:\n",
    "        return max(chunk['chunk_id'] for chunk in ledger['completed_chunks']) + 1\n",
    "    else:\n",
    "        return 0\n",
    "\n",
    "print(\"✓ Chunk saving functions ready\")\n"
   ]
  },
  {
   "cell_type": "code",
   "execution_count": 13,
   "id": "62099dff",
   "metadata": {},
   "outputs": [
    {
     "name": "stdout",
     "output_type": "stream",
     "text": [
      "✓ Main processing function ready\n"
     ]
    }
   ],
   "source": [
    "def process_file_from_resume_point():\n",
    "    \"\"\"Process the file starting from the last processed line\"\"\"\n",
    "    \n",
    "    processor = ChessPositionProcessor()\n",
    "    current_chunk_data = []\n",
    "    current_line = 0\n",
    "    positions_processed_this_session = 0\n",
    "    start_line = processing_ledger['last_processed_line']\n",
    "    \n",
    "    active_save_future = None # To keep track of the save operation for the current/previous chunk\n",
    "\n",
    "    print(f\"Starting processing from line {start_line + 1}\")\n",
    "    print(f\"Target chunk size: {CHUNK_SIZE:,} positions\")\n",
    "    \n",
    "    try:\n",
    "        with open(FILE_PATH, 'r', encoding='utf-8') as file:\n",
    "            # Skip already processed lines\n",
    "            for _ in range(start_line):\n",
    "                next(file)\n",
    "                current_line += 1\n",
    "            \n",
    "            # Process remaining lines\n",
    "            for line in tqdm(file, desc=\"Processing positions\", unit=\"lines\", initial=start_line):\n",
    "                current_line += 1\n",
    "                \n",
    "                # Process this line\n",
    "                position_data = process_jsonl_line(line, current_line, processor)\n",
    "                \n",
    "                if position_data is not None:\n",
    "                    current_chunk_data.append(position_data)\n",
    "                    positions_processed_this_session += 1\n",
    "                    \n",
    "                    # Check if chunk is full\n",
    "                    if len(current_chunk_data) >= CHUNK_SIZE:\n",
    "                        # A chunk is ready. First, ensure the previous save (if any) is complete.\n",
    "                        if active_save_future:\n",
    "                            try:\n",
    "                                chunk_info = active_save_future.result() # Wait for previous save\n",
    "                                processing_ledger['completed_chunks'].append(chunk_info)\n",
    "                                # Ledger already reflects total_positions and last_line from submission time.\n",
    "                                # Here we just confirm completion.\n",
    "                                save_ledger(processing_ledger) # Persist the completed chunk info\n",
    "                                print(f\"\\n✓ Previous chunk {chunk_info['chunk_id']} saved. Ledger updated.\")\n",
    "                            except Exception as e:\n",
    "                                associated_chunk_id = getattr(active_save_future, 'associated_chunk_id', 'unknown')\n",
    "                                print(f\"\\n✗ Error saving previous chunk (ID: {associated_chunk_id}): {e}\")\n",
    "                                processing_ledger['failed_chunks'].append({\n",
    "                                    'chunk_id': associated_chunk_id, 'error': str(e), \n",
    "                                    'timestamp': datetime.now().isoformat(),\n",
    "                                    'last_processed_line_at_failure': processing_ledger['last_processed_line']\n",
    "                                })\n",
    "                                save_ledger(processing_ledger)\n",
    "                            finally:\n",
    "                                active_save_future = None\n",
    "                        \n",
    "                        # Prepare and submit the current chunk for saving\n",
    "                        chunk_id = get_next_chunk_id(processing_ledger)\n",
    "                        data_to_save = list(current_chunk_data) # Create a copy for the thread\n",
    "\n",
    "                        print(f\"\\nSubmitting chunk {chunk_id} ({len(data_to_save)} positions) for asynchronous saving...\")\n",
    "                        active_save_future = save_executor.submit(save_chunk, data_to_save, chunk_id)\n",
    "                        active_save_future.associated_chunk_id = chunk_id # Store for error reporting\n",
    "\n",
    "                        # Optimistically update ledger for submitted chunk\n",
    "                        processing_ledger['total_positions_processed'] += len(data_to_save)\n",
    "                        processing_ledger['last_processed_line'] = current_line\n",
    "                        processing_ledger['status'] = 'processing'\n",
    "                        save_ledger(processing_ledger) # Save progress including this submitted chunk\n",
    "                        \n",
    "                        print(f\"  Chunk {chunk_id} submitted. Main thread continues.\")\n",
    "                        print(f\"  Total processed (optimistic): {processing_ledger['total_positions_processed']:,} positions\")\n",
    "                        print(f\"  Progress: Line {current_line:,}\")\n",
    "                        \n",
    "                        # Reset for next chunk\n",
    "                        current_chunk_data = []\n",
    "                        gc.collect()\n",
    "                \n",
    "                # Save progress every 100k lines\n",
    "                if current_line % 100000 == 0 and current_line > start_line : # Avoid saving at the very start if resuming\n",
    "                    # Periodic save of overall progress (last_processed_line)\n",
    "                    # The main chunk saving logic already updates the ledger more frequently.\n",
    "                    # This specific periodic save might be redundant or can be adjusted.\n",
    "                    # For safety, ensure ledger reflects current line.\n",
    "                    processing_ledger['last_processed_line'] = current_line\n",
    "                    save_ledger(processing_ledger)\n",
    "                    print(f\"Progress checkpoint: Line {current_line:,}, Found {positions_processed_this_session:,} valid positions this session.\")\n",
    "        \n",
    "        # After the loop, handle the last (potentially partial) chunk\n",
    "        if current_chunk_data:\n",
    "            if active_save_future: # Wait for any pending save from a full chunk\n",
    "                try:\n",
    "                    chunk_info = active_save_future.result()\n",
    "                    processing_ledger['completed_chunks'].append(chunk_info)\n",
    "                    save_ledger(processing_ledger)\n",
    "                    print(f\"\\n✓ Previous chunk {chunk_info['chunk_id']} saved before final. Ledger updated.\")\n",
    "                except Exception as e:\n",
    "                    associated_chunk_id = getattr(active_save_future, 'associated_chunk_id', 'unknown')\n",
    "                    print(f\"\\n✗ Error saving previous chunk (ID: {associated_chunk_id}) before final: {e}\")\n",
    "                    processing_ledger['failed_chunks'].append({\n",
    "                        'chunk_id': associated_chunk_id, 'error': str(e),\n",
    "                        'timestamp': datetime.now().isoformat()\n",
    "                    })\n",
    "                    save_ledger(processing_ledger)\n",
    "                finally:\n",
    "                    active_save_future = None\n",
    "\n",
    "            chunk_id = get_next_chunk_id(processing_ledger)\n",
    "            data_to_save = list(current_chunk_data)\n",
    "            print(f\"\\nSubmitting final chunk {chunk_id} ({len(data_to_save)} positions) for asynchronous saving...\")\n",
    "            active_save_future = save_executor.submit(save_chunk, data_to_save, chunk_id)\n",
    "            active_save_future.associated_chunk_id = chunk_id\n",
    "\n",
    "            processing_ledger['total_positions_processed'] += len(data_to_save)\n",
    "            processing_ledger['last_processed_line'] = current_line\n",
    "            save_ledger(processing_ledger) # Save progress for the submission of the final chunk\n",
    "\n",
    "        # Wait for the very last submitted save operation to complete\n",
    "        if active_save_future:\n",
    "            try:\n",
    "                chunk_info = active_save_future.result()\n",
    "                processing_ledger['completed_chunks'].append(chunk_info)\n",
    "                print(f\"\\n✓ Final chunk {chunk_info['chunk_id']} saved. Ledger updated.\")\n",
    "            except Exception as e:\n",
    "                associated_chunk_id = getattr(active_save_future, 'associated_chunk_id', 'unknown')\n",
    "                print(f\"\\n✗ Error saving final chunk (ID: {associated_chunk_id}): {e}\")\n",
    "                processing_ledger['failed_chunks'].append({\n",
    "                    'chunk_id': associated_chunk_id, 'error': str(e),\n",
    "                    'timestamp': datetime.now().isoformat()\n",
    "                })\n",
    "            finally:\n",
    "                active_save_future = None\n",
    "        \n",
    "        processing_ledger['status'] = 'completed'\n",
    "        processing_ledger['completed_at'] = datetime.now().isoformat()\n",
    "        save_ledger(processing_ledger)\n",
    "        \n",
    "        print(f\"\\n\" + \"=\"*60)\n",
    "        print(f\"PROCESSING COMPLETED!\")\n",
    "        print(f\"Total chunks created: {len(processing_ledger['completed_chunks'])}\")\n",
    "        print(f\"Total positions processed: {processing_ledger['total_positions_processed']:,}\")\n",
    "        print(f\"Total lines processed: {current_line:,}\")\n",
    "        print(f\"Positions this session: {positions_processed_this_session:,}\")\n",
    "        \n",
    "        total_size_mb = sum(chunk['file_size_mb'] for chunk in processing_ledger['completed_chunks'])\n",
    "        print(f\"Total storage used: {total_size_mb / 1024:.2f} GB\")\n",
    "        print(f\"=\"*60)\n",
    "        \n",
    "    except KeyboardInterrupt:\n",
    "        print(f\"\\n⚠ Processing interrupted by user\")\n",
    "        processing_ledger['last_processed_line'] = current_line\n",
    "        processing_ledger['status'] = 'interrupted'\n",
    "        save_ledger(processing_ledger)\n",
    "        print(f\"Progress saved. Can resume from line {current_line + 1}\") # +1 if current_line is 0-indexed last processed\n",
    "        \n",
    "    except Exception as e:\n",
    "        print(f\"\\n✗ Error during processing: {e}\")\n",
    "        processing_ledger['last_processed_line'] = current_line\n",
    "        processing_ledger['status'] = 'error'\n",
    "        processing_ledger['last_error'] = str(e)\n",
    "        save_ledger(processing_ledger)\n",
    "        raise\n",
    "    finally:\n",
    "        print(\"Shutting down save executor...\")\n",
    "        save_executor.shutdown(wait=True) # Ensure all pending save tasks are completed\n",
    "        print(\"Save executor shut down.\")\n",
    "\n",
    "print(\"✓ Main processing function ready\")"
   ]
  },
  {
   "cell_type": "code",
   "execution_count": 14,
   "id": "88b1d875",
   "metadata": {},
   "outputs": [
    {
     "name": "stdout",
     "output_type": "stream",
     "text": [
      "✓ Loaded existing ledger: 0 chunks already processed\n",
      "==================================================\n",
      "PROCESSING STATUS\n",
      "==================================================\n",
      "Source file: lichess_db_eval.jsonl\n",
      "File size: 61.14 GB\n",
      "Status: INTERRUPTED\n",
      "Started: 2025-06-16T23:51:37.065746\n",
      "Last updated: 2025-06-17T00:05:11.499410\n",
      "\n",
      "Chunks completed: 0\n",
      "Positions processed: 0\n",
      "Last processed line: 0\n",
      "Last error: name 'save_executor' is not defined\n",
      "==================================================\n"
     ]
    }
   ],
   "source": [
    "def show_processing_status():\n",
    "    \"\"\"Display current processing status\"\"\"\n",
    "    ledger = load_ledger()\n",
    "    \n",
    "    print(\"=\"*50)\n",
    "    print(\"PROCESSING STATUS\")\n",
    "    print(\"=\"*50)\n",
    "    print(f\"Source file: {os.path.basename(ledger['source_file'])}\")\n",
    "    print(f\"File size: {ledger['file_size_bytes'] / 1024 / 1024 / 1024:.2f} GB\")\n",
    "    print(f\"Status: {ledger['status'].upper()}\")\n",
    "    print(f\"Started: {ledger['started_at']}\")\n",
    "    print(f\"Last updated: {ledger['last_updated']}\")\n",
    "    print()\n",
    "    print(f\"Chunks completed: {len(ledger['completed_chunks'])}\")\n",
    "    print(f\"Positions processed: {ledger['total_positions_processed']:,}\")\n",
    "    print(f\"Last processed line: {ledger['last_processed_line']:,}\")\n",
    "    \n",
    "    if ledger['completed_chunks']:\n",
    "        total_size = sum(chunk['file_size_mb'] for chunk in ledger['completed_chunks'])\n",
    "        avg_positions_per_chunk = ledger['total_positions_processed'] / len(ledger['completed_chunks'])\n",
    "        print(f\"Total storage: {total_size / 1024:.2f} GB\")\n",
    "        print(f\"Avg positions per chunk: {avg_positions_per_chunk:,.0f}\")\n",
    "    \n",
    "    if ledger['failed_chunks']:\n",
    "        print(f\"Failed chunks: {len(ledger['failed_chunks'])}\")\n",
    "    \n",
    "    if 'last_error' in ledger:\n",
    "        print(f\"Last error: {ledger['last_error']}\")\n",
    "    \n",
    "    print(\"=\"*50)\n",
    "\n",
    "def list_completed_chunks():\n",
    "    \"\"\"List all completed chunks\"\"\"\n",
    "    ledger = load_ledger()\n",
    "    \n",
    "    if not ledger['completed_chunks']:\n",
    "        print(\"No chunks completed yet\")\n",
    "        return\n",
    "    \n",
    "    chunks_df = pd.DataFrame(ledger['completed_chunks'])\n",
    "    chunks_df['file_size_mb'] = chunks_df['file_size_mb'].round(1)\n",
    "    \n",
    "    print(\"Completed chunks:\")\n",
    "    print(chunks_df[['chunk_id', 'num_positions', 'file_size_mb', 'created_at']])\n",
    "    \n",
    "    return chunks_df\n",
    "\n",
    "def verify_chunk_files():\n",
    "    \"\"\"Verify that all chunk files exist and are readable\"\"\"\n",
    "    ledger = load_ledger()\n",
    "    missing_files = []\n",
    "    corrupted_files = []\n",
    "    \n",
    "    print(\"Verifying chunk files...\")\n",
    "    \n",
    "    for chunk in tqdm(ledger['completed_chunks'], desc=\"Checking chunks\"):\n",
    "        chunk_path = Path(chunk['file_path'])\n",
    "        \n",
    "        if not chunk_path.exists():\n",
    "            missing_files.append(chunk['chunk_id'])\n",
    "            continue\n",
    "            \n",
    "        try:\n",
    "            with h5py.File(chunk_path, 'r') as f:\n",
    "                # Quick verification\n",
    "                tokens = f['square_tokens']\n",
    "                evals = f['evaluations']\n",
    "                \n",
    "                if tokens.shape[0] != evals.shape[0]:\n",
    "                    corrupted_files.append(chunk['chunk_id'])\n",
    "                    \n",
    "        except Exception as e:\n",
    "            corrupted_files.append(chunk['chunk_id'])\n",
    "    \n",
    "    if missing_files:\n",
    "        print(f\"⚠ Missing chunk files: {missing_files}\")\n",
    "    \n",
    "    if corrupted_files:\n",
    "        print(f\"⚠ Corrupted chunk files: {corrupted_files}\")\n",
    "    \n",
    "    if not missing_files and not corrupted_files:\n",
    "        print(\"✓ All chunk files verified successfully\")\n",
    "    \n",
    "    return missing_files, corrupted_files\n",
    "\n",
    "# Show current status\n",
    "show_processing_status()\n"
   ]
  },
  {
   "cell_type": "code",
   "execution_count": 15,
   "id": "9c75d58b",
   "metadata": {},
   "outputs": [
    {
     "name": "stdout",
     "output_type": "stream",
     "text": [
      "Ready to process!\n",
      "Run start_processing() to begin\n"
     ]
    }
   ],
   "source": [
    "def start_processing():\n",
    "    \"\"\"Start or resume processing\"\"\"\n",
    "    ledger = load_ledger()\n",
    "    \n",
    "    if ledger['status'] == 'completed':\n",
    "        print(\"✓ Processing already completed!\")\n",
    "        show_processing_status()\n",
    "        return\n",
    "    \n",
    "    print(\"Starting data processing...\")\n",
    "    print(f\"Will process {FILE_PATH}\")\n",
    "    print(f\"Resume from line: {ledger['last_processed_line'] + 1}\")\n",
    "    print(f\"Output directory: {OUTPUT_DIR}\")\n",
    "    print()\n",
    "    print(\"Press Ctrl+C to safely interrupt and save progress\")\n",
    "    print(\"-\" * 50)\n",
    "    \n",
    "    try:\n",
    "        process_file_from_resume_point()\n",
    "    except Exception as e:\n",
    "        print(f\"Processing failed: {e}\")\n",
    "        return\n",
    "    \n",
    "    print(\"\\n✓ Processing completed successfully!\")\n",
    "    print(\"Run verify_chunk_files() to verify all files\")\n",
    "\n",
    "# Uncomment the line below to start processing\n",
    "# start_processing()\n",
    "\n",
    "print(\"Ready to process!\")\n",
    "print(\"Run start_processing() to begin\")\n"
   ]
  },
  {
   "cell_type": "code",
   "execution_count": 16,
   "id": "37e7fe70",
   "metadata": {},
   "outputs": [
    {
     "name": "stdout",
     "output_type": "stream",
     "text": [
      "✓ Loaded existing ledger: 0 chunks already processed\n",
      "No data processed yet\n",
      "\n",
      "🎯 AVAILABLE COMMANDS:\n",
      "- start_processing()     : Start/resume processing\n",
      "- show_processing_status(): Show detailed status\n",
      "- list_completed_chunks(): List all chunks\n",
      "- verify_chunk_files()   : Check file integrity\n",
      "- print_quick_stats()    : Show summary stats\n"
     ]
    }
   ],
   "source": [
    "def print_quick_stats():\n",
    "    \"\"\"Print quick statistics about processed data\"\"\"\n",
    "    ledger = load_ledger()\n",
    "    \n",
    "    if not ledger['completed_chunks']:\n",
    "        print(\"No data processed yet\")\n",
    "        return\n",
    "    \n",
    "    # Calculate stats\n",
    "    total_chunks = len(ledger['completed_chunks'])\n",
    "    total_positions = ledger['total_positions_processed']\n",
    "    total_size_gb = sum(chunk['file_size_mb'] for chunk in ledger['completed_chunks']) / 1024\n",
    "    \n",
    "    chunk_sizes = [chunk['num_positions'] for chunk in ledger['completed_chunks']]\n",
    "    avg_chunk_size = np.mean(chunk_sizes)\n",
    "    min_chunk_size = np.min(chunk_sizes)\n",
    "    max_chunk_size = np.max(chunk_sizes)\n",
    "    \n",
    "    print(\"📊 PROCESSING SUMMARY\")\n",
    "    print(\"-\" * 30)\n",
    "    print(f\"Total chunks: {total_chunks}\")\n",
    "    print(f\"Total positions: {total_positions:,}\")\n",
    "    print(f\"Total storage: {total_size_gb:.2f} GB\")\n",
    "    print(f\"Avg chunk size: {avg_chunk_size:,.0f} positions\")\n",
    "    print(f\"Min chunk size: {min_chunk_size:,} positions\")\n",
    "    print(f\"Max chunk size: {max_chunk_size:,} positions\")\n",
    "    \n",
    "    if total_positions > 0:\n",
    "        compression_ratio = (total_positions * 64 * NUM_PLANES * 4) / (total_size_gb * 1024**3)\n",
    "        print(f\"Compression ratio: {compression_ratio:.1f}x\")\n",
    "    \n",
    "    print(f\"Status: {ledger['status']}\")\n",
    "\n",
    "# Print stats if data exists\n",
    "print_quick_stats()\n",
    "\n",
    "print(\"\\n🎯 AVAILABLE COMMANDS:\")\n",
    "print(\"- start_processing()     : Start/resume processing\")\n",
    "print(\"- show_processing_status(): Show detailed status\")  \n",
    "print(\"- list_completed_chunks(): List all chunks\")\n",
    "print(\"- verify_chunk_files()   : Check file integrity\")\n",
    "print(\"- print_quick_stats()    : Show summary stats\")\n"
   ]
  },
  {
   "cell_type": "code",
   "execution_count": 17,
   "id": "909d9891",
   "metadata": {},
   "outputs": [
    {
     "name": "stdout",
     "output_type": "stream",
     "text": [
      "✓ Loaded existing ledger: 0 chunks already processed\n",
      "Starting data processing...\n",
      "Will process ../../data/raw/lichess_eval/lichess_db_eval.jsonl\n",
      "Resume from line: 1\n",
      "Output directory: ../../data/preprocessed/lichess_preprocessed_chunks\n",
      "\n",
      "Press Ctrl+C to safely interrupt and save progress\n",
      "--------------------------------------------------\n",
      "Starting processing from line 1\n",
      "Target chunk size: 50,000 positions\n"
     ]
    },
    {
     "name": "stderr",
     "output_type": "stream",
     "text": [
      "Processing positions: 61399lines [01:03, 727.50lines/s] "
     ]
    },
    {
     "name": "stdout",
     "output_type": "stream",
     "text": [
      "\n",
      "Submitting chunk 0 (50000 positions) for asynchronous saving...\n",
      "  Chunk 0 submitted. Main thread continues.\n",
      "  Total processed (optimistic): 50,000 positions\n",
      "  Progress: Line 61,365\n"
     ]
    },
    {
     "name": "stderr",
     "output_type": "stream",
     "text": [
      "Processing positions: 100118lines [01:46, 929.44lines/s]"
     ]
    },
    {
     "name": "stdout",
     "output_type": "stream",
     "text": [
      "Progress checkpoint: Line 100,000, Found 81,463 valid positions this session.\n"
     ]
    },
    {
     "name": "stderr",
     "output_type": "stream",
     "text": [
      "Processing positions: 122885lines [02:10, 608.12lines/s] "
     ]
    },
    {
     "name": "stdout",
     "output_type": "stream",
     "text": [
      "\n",
      "✓ Previous chunk 0 saved. Ledger updated.\n",
      "\n",
      "Submitting chunk 1 (50000 positions) for asynchronous saving...\n",
      "  Chunk 1 submitted. Main thread continues.\n",
      "  Total processed (optimistic): 100,000 positions\n",
      "  Progress: Line 122,811\n"
     ]
    },
    {
     "name": "stderr",
     "output_type": "stream",
     "text": [
      "Processing positions: 183111lines [03:18, 556.00lines/s] "
     ]
    },
    {
     "name": "stdout",
     "output_type": "stream",
     "text": [
      "\n",
      "✓ Previous chunk 1 saved. Ledger updated.\n",
      "\n",
      "Submitting chunk 2 (50000 positions) for asynchronous saving...\n",
      "  Chunk 2 submitted. Main thread continues.\n",
      "  Total processed (optimistic): 150,000 positions\n",
      "  Progress: Line 183,094\n"
     ]
    },
    {
     "name": "stderr",
     "output_type": "stream",
     "text": [
      "Processing positions: 200145lines [03:37, 874.50lines/s] "
     ]
    },
    {
     "name": "stdout",
     "output_type": "stream",
     "text": [
      "Progress checkpoint: Line 200,000, Found 163,812 valid positions this session.\n"
     ]
    },
    {
     "name": "stderr",
     "output_type": "stream",
     "text": [
      "Processing positions: 244650lines [04:24, 894.13lines/s] "
     ]
    },
    {
     "name": "stdout",
     "output_type": "stream",
     "text": [
      "\n",
      "✓ Previous chunk 2 saved. Ledger updated.\n",
      "\n",
      "Submitting chunk 3 (50000 positions) for asynchronous saving...\n",
      "  Chunk 3 submitted. Main thread continues.\n",
      "  Total processed (optimistic): 200,000 positions\n",
      "  Progress: Line 244,651\n"
     ]
    },
    {
     "name": "stderr",
     "output_type": "stream",
     "text": [
      "Processing positions: 300097lines [05:23, 964.73lines/s] "
     ]
    },
    {
     "name": "stdout",
     "output_type": "stream",
     "text": [
      "Progress checkpoint: Line 300,000, Found 243,739 valid positions this session.\n"
     ]
    },
    {
     "name": "stderr",
     "output_type": "stream",
     "text": [
      "Processing positions: 307926lines [05:31, 597.19lines/s] "
     ]
    },
    {
     "name": "stdout",
     "output_type": "stream",
     "text": [
      "\n",
      "✓ Previous chunk 3 saved. Ledger updated.\n",
      "\n",
      "Submitting chunk 4 (50000 positions) for asynchronous saving...\n",
      "  Chunk 4 submitted. Main thread continues.\n",
      "  Total processed (optimistic): 250,000 positions\n",
      "  Progress: Line 307,904\n"
     ]
    },
    {
     "name": "stderr",
     "output_type": "stream",
     "text": [
      "Processing positions: 368231lines [06:36, 590.91lines/s] "
     ]
    },
    {
     "name": "stdout",
     "output_type": "stream",
     "text": [
      "\n",
      "✓ Previous chunk 4 saved. Ledger updated.\n",
      "\n",
      "Submitting chunk 5 (50000 positions) for asynchronous saving...\n",
      "  Chunk 5 submitted. Main thread continues.\n",
      "  Total processed (optimistic): 300,000 positions\n",
      "  Progress: Line 368,198\n"
     ]
    },
    {
     "name": "stderr",
     "output_type": "stream",
     "text": [
      "Processing positions: 400160lines [07:10, 930.66lines/s] "
     ]
    },
    {
     "name": "stdout",
     "output_type": "stream",
     "text": [
      "Progress checkpoint: Line 400,000, Found 325,936 valid positions this session.\n"
     ]
    },
    {
     "name": "stderr",
     "output_type": "stream",
     "text": [
      "Processing positions: 429486lines [07:41, 818.42lines/s] "
     ]
    },
    {
     "name": "stdout",
     "output_type": "stream",
     "text": [
      "\n",
      "✓ Previous chunk 5 saved. Ledger updated.\n",
      "\n",
      "Submitting chunk 6 (50000 positions) for asynchronous saving...\n",
      "  Chunk 6 submitted. Main thread continues.\n",
      "  Total processed (optimistic): 350,000 positions\n",
      "  Progress: Line 429,486\n"
     ]
    },
    {
     "name": "stderr",
     "output_type": "stream",
     "text": [
      "Processing positions: 491169lines [08:36, 949.85lines/s] "
     ]
    },
    {
     "name": "stdout",
     "output_type": "stream",
     "text": [
      "\n",
      "✓ Previous chunk 6 saved. Ledger updated.\n",
      "\n",
      "Submitting chunk 7 (50000 positions) for asynchronous saving...\n",
      "  Chunk 7 submitted. Main thread continues.\n",
      "  Total processed (optimistic): 400,000 positions\n",
      "  Progress: Line 491,098\n"
     ]
    },
    {
     "name": "stderr",
     "output_type": "stream",
     "text": [
      "Processing positions: 500282lines [08:44, 1359.63lines/s]"
     ]
    },
    {
     "name": "stdout",
     "output_type": "stream",
     "text": [
      "Progress checkpoint: Line 500,000, Found 407,505 valid positions this session.\n"
     ]
    },
    {
     "name": "stderr",
     "output_type": "stream",
     "text": [
      "Processing positions: 552987lines [09:33, 840.29lines/s] "
     ]
    },
    {
     "name": "stdout",
     "output_type": "stream",
     "text": [
      "\n",
      "✓ Previous chunk 7 saved. Ledger updated.\n",
      "\n",
      "Submitting chunk 8 (50000 positions) for asynchronous saving...\n",
      "  Chunk 8 submitted. Main thread continues.\n",
      "  Total processed (optimistic): 450,000 positions\n",
      "  Progress: Line 552,995\n"
     ]
    },
    {
     "name": "stderr",
     "output_type": "stream",
     "text": [
      "Processing positions: 600145lines [10:27, 862.63lines/s] "
     ]
    },
    {
     "name": "stdout",
     "output_type": "stream",
     "text": [
      "Progress checkpoint: Line 600,000, Found 489,083 valid positions this session.\n"
     ]
    },
    {
     "name": "stderr",
     "output_type": "stream",
     "text": [
      "Processing positions: 613145lines [10:40, 867.02lines/s] "
     ]
    },
    {
     "name": "stdout",
     "output_type": "stream",
     "text": [
      "\n",
      "✓ Previous chunk 8 saved. Ledger updated.\n",
      "\n",
      "Submitting chunk 9 (50000 positions) for asynchronous saving...\n",
      "  Chunk 9 submitted. Main thread continues.\n",
      "  Total processed (optimistic): 500,000 positions\n",
      "  Progress: Line 613,159\n"
     ]
    },
    {
     "name": "stderr",
     "output_type": "stream",
     "text": [
      "Processing positions: 673675lines [11:45, 623.82lines/s] "
     ]
    },
    {
     "name": "stdout",
     "output_type": "stream",
     "text": [
      "\n",
      "✓ Previous chunk 9 saved. Ledger updated.\n",
      "\n",
      "Submitting chunk 10 (50000 positions) for asynchronous saving...\n",
      "  Chunk 10 submitted. Main thread continues.\n",
      "  Total processed (optimistic): 550,000 positions\n",
      "  Progress: Line 673,622\n"
     ]
    },
    {
     "name": "stderr",
     "output_type": "stream",
     "text": [
      "Processing positions: 700105lines [12:15, 989.56lines/s] "
     ]
    },
    {
     "name": "stdout",
     "output_type": "stream",
     "text": [
      "Progress checkpoint: Line 700,000, Found 572,292 valid positions this session.\n"
     ]
    },
    {
     "name": "stderr",
     "output_type": "stream",
     "text": [
      "Processing positions: 732481lines [12:53, 643.79lines/s] "
     ]
    },
    {
     "name": "stdout",
     "output_type": "stream",
     "text": [
      "\n",
      "✓ Previous chunk 10 saved. Ledger updated.\n",
      "\n",
      "Submitting chunk 11 (50000 positions) for asynchronous saving...\n",
      "  Chunk 11 submitted. Main thread continues.\n",
      "  Total processed (optimistic): 600,000 positions\n",
      "  Progress: Line 732,455\n"
     ]
    },
    {
     "name": "stderr",
     "output_type": "stream",
     "text": [
      "Processing positions: 791713lines [13:59, 843.39lines/s] "
     ]
    },
    {
     "name": "stdout",
     "output_type": "stream",
     "text": [
      "\n",
      "✓ Previous chunk 11 saved. Ledger updated.\n",
      "\n",
      "Submitting chunk 12 (50000 positions) for asynchronous saving...\n",
      "  Chunk 12 submitted. Main thread continues.\n",
      "  Total processed (optimistic): 650,000 positions\n",
      "  Progress: Line 791,726\n"
     ]
    },
    {
     "name": "stderr",
     "output_type": "stream",
     "text": [
      "Processing positions: 800100lines [14:09, 790.82lines/s] "
     ]
    },
    {
     "name": "stdout",
     "output_type": "stream",
     "text": [
      "Progress checkpoint: Line 800,000, Found 657,373 valid positions this session.\n"
     ]
    },
    {
     "name": "stderr",
     "output_type": "stream",
     "text": [
      "Processing positions: 850523lines [15:04, 719.61lines/s] "
     ]
    },
    {
     "name": "stdout",
     "output_type": "stream",
     "text": [
      "\n",
      "✓ Previous chunk 12 saved. Ledger updated.\n",
      "\n",
      "Submitting chunk 13 (50000 positions) for asynchronous saving...\n",
      "  Chunk 13 submitted. Main thread continues.\n",
      "  Total processed (optimistic): 700,000 positions\n",
      "  Progress: Line 850,475\n"
     ]
    },
    {
     "name": "stderr",
     "output_type": "stream",
     "text": [
      "Processing positions: 900090lines [15:57, 1110.49lines/s]"
     ]
    },
    {
     "name": "stdout",
     "output_type": "stream",
     "text": [
      "Progress checkpoint: Line 900,000, Found 740,989 valid positions this session.\n"
     ]
    },
    {
     "name": "stderr",
     "output_type": "stream",
     "text": [
      "Processing positions: 910771lines [16:08, 843.39lines/s] "
     ]
    },
    {
     "name": "stdout",
     "output_type": "stream",
     "text": [
      "\n",
      "✓ Previous chunk 13 saved. Ledger updated.\n",
      "\n",
      "Submitting chunk 14 (50000 positions) for asynchronous saving...\n",
      "  Chunk 14 submitted. Main thread continues.\n",
      "  Total processed (optimistic): 750,000 positions\n",
      "  Progress: Line 910,788\n"
     ]
    },
    {
     "name": "stderr",
     "output_type": "stream",
     "text": [
      "Processing positions: 970507lines [17:15, 652.23lines/s] "
     ]
    },
    {
     "name": "stdout",
     "output_type": "stream",
     "text": [
      "\n",
      "✓ Previous chunk 14 saved. Ledger updated.\n",
      "\n",
      "Submitting chunk 15 (50000 positions) for asynchronous saving...\n",
      "  Chunk 15 submitted. Main thread continues.\n",
      "  Total processed (optimistic): 800,000 positions\n",
      "  Progress: Line 970,492\n"
     ]
    },
    {
     "name": "stderr",
     "output_type": "stream",
     "text": [
      "Processing positions: 1000088lines [17:47, 858.62lines/s]"
     ]
    },
    {
     "name": "stdout",
     "output_type": "stream",
     "text": [
      "Progress checkpoint: Line 1,000,000, Found 823,860 valid positions this session.\n"
     ]
    },
    {
     "name": "stderr",
     "output_type": "stream",
     "text": [
      "Processing positions: 1030687lines [18:21, 748.86lines/s] "
     ]
    },
    {
     "name": "stdout",
     "output_type": "stream",
     "text": [
      "\n",
      "✓ Previous chunk 15 saved. Ledger updated.\n",
      "\n",
      "Submitting chunk 16 (50000 positions) for asynchronous saving...\n",
      "  Chunk 16 submitted. Main thread continues.\n",
      "  Total processed (optimistic): 850,000 positions\n",
      "  Progress: Line 1,030,724\n"
     ]
    },
    {
     "name": "stderr",
     "output_type": "stream",
     "text": [
      "Processing positions: 1088863lines [19:25, 819.87lines/s] "
     ]
    },
    {
     "name": "stdout",
     "output_type": "stream",
     "text": [
      "\n",
      "✓ Previous chunk 16 saved. Ledger updated.\n",
      "\n",
      "Submitting chunk 17 (50000 positions) for asynchronous saving...\n",
      "  Chunk 17 submitted. Main thread continues.\n",
      "  Total processed (optimistic): 900,000 positions\n",
      "  Progress: Line 1,088,774\n"
     ]
    },
    {
     "name": "stderr",
     "output_type": "stream",
     "text": [
      "Processing positions: 1100095lines [19:37, 967.75lines/s] "
     ]
    },
    {
     "name": "stdout",
     "output_type": "stream",
     "text": [
      "Progress checkpoint: Line 1,100,000, Found 909,527 valid positions this session.\n"
     ]
    },
    {
     "name": "stderr",
     "output_type": "stream",
     "text": [
      "Processing positions: 1148638lines [20:28, 704.42lines/s] "
     ]
    },
    {
     "name": "stdout",
     "output_type": "stream",
     "text": [
      "\n",
      "✓ Previous chunk 17 saved. Ledger updated.\n",
      "\n",
      "Submitting chunk 18 (50000 positions) for asynchronous saving...\n",
      "  Chunk 18 submitted. Main thread continues.\n",
      "  Total processed (optimistic): 950,000 positions\n",
      "  Progress: Line 1,148,560\n"
     ]
    },
    {
     "name": "stderr",
     "output_type": "stream",
     "text": [
      "Processing positions: 1200159lines [21:23, 1003.59lines/s]"
     ]
    },
    {
     "name": "stdout",
     "output_type": "stream",
     "text": [
      "Progress checkpoint: Line 1,200,000, Found 992,987 valid positions this session.\n"
     ]
    },
    {
     "name": "stderr",
     "output_type": "stream",
     "text": [
      "Processing positions: 1208416lines [21:32, 767.90lines/s] "
     ]
    },
    {
     "name": "stdout",
     "output_type": "stream",
     "text": [
      "\n",
      "✓ Previous chunk 18 saved. Ledger updated.\n",
      "\n",
      "Submitting chunk 19 (50000 positions) for asynchronous saving...\n",
      "  Chunk 19 submitted. Main thread continues.\n",
      "  Total processed (optimistic): 1,000,000 positions\n",
      "  Progress: Line 1,208,326\n"
     ]
    },
    {
     "name": "stderr",
     "output_type": "stream",
     "text": [
      "Processing positions: 1267887lines [22:34, 717.06lines/s] "
     ]
    },
    {
     "name": "stdout",
     "output_type": "stream",
     "text": [
      "\n",
      "✓ Previous chunk 19 saved. Ledger updated.\n",
      "\n",
      "Submitting chunk 20 (50000 positions) for asynchronous saving...\n",
      "  Chunk 20 submitted. Main thread continues.\n",
      "  Total processed (optimistic): 1,050,000 positions\n",
      "  Progress: Line 1,267,871\n"
     ]
    },
    {
     "name": "stderr",
     "output_type": "stream",
     "text": [
      "Processing positions: 1300143lines [23:05, 1040.75lines/s]"
     ]
    },
    {
     "name": "stdout",
     "output_type": "stream",
     "text": [
      "Progress checkpoint: Line 1,300,000, Found 1,076,551 valid positions this session.\n"
     ]
    },
    {
     "name": "stderr",
     "output_type": "stream",
     "text": [
      "Processing positions: 1327149lines [23:34, 618.94lines/s] "
     ]
    },
    {
     "name": "stdout",
     "output_type": "stream",
     "text": [
      "\n",
      "✓ Previous chunk 20 saved. Ledger updated.\n",
      "\n",
      "Submitting chunk 21 (50000 positions) for asynchronous saving...\n",
      "  Chunk 21 submitted. Main thread continues.\n",
      "  Total processed (optimistic): 1,100,000 positions\n",
      "  Progress: Line 1,327,106\n"
     ]
    },
    {
     "name": "stderr",
     "output_type": "stream",
     "text": [
      "Processing positions: 1386122lines [24:36, 1091.81lines/s]"
     ]
    },
    {
     "name": "stdout",
     "output_type": "stream",
     "text": [
      "\n",
      "✓ Previous chunk 21 saved. Ledger updated.\n",
      "\n",
      "Submitting chunk 22 (50000 positions) for asynchronous saving...\n",
      "  Chunk 22 submitted. Main thread continues.\n",
      "  Total processed (optimistic): 1,150,000 positions\n",
      "  Progress: Line 1,386,147\n"
     ]
    },
    {
     "name": "stderr",
     "output_type": "stream",
     "text": [
      "Processing positions: 1400099lines [24:50, 1112.70lines/s]"
     ]
    },
    {
     "name": "stdout",
     "output_type": "stream",
     "text": [
      "Progress checkpoint: Line 1,400,000, Found 1,161,412 valid positions this session.\n"
     ]
    },
    {
     "name": "stderr",
     "output_type": "stream",
     "text": [
      "Processing positions: 1445927lines [25:36, 828.61lines/s] "
     ]
    },
    {
     "name": "stdout",
     "output_type": "stream",
     "text": [
      "\n",
      "✓ Previous chunk 22 saved. Ledger updated.\n",
      "\n",
      "Submitting chunk 23 (50000 positions) for asynchronous saving...\n",
      "  Chunk 23 submitted. Main thread continues.\n",
      "  Total processed (optimistic): 1,200,000 positions\n",
      "  Progress: Line 1,445,913\n"
     ]
    },
    {
     "name": "stderr",
     "output_type": "stream",
     "text": [
      "Processing positions: 1500157lines [26:30, 958.63lines/s] "
     ]
    },
    {
     "name": "stdout",
     "output_type": "stream",
     "text": [
      "Progress checkpoint: Line 1,500,000, Found 1,244,660 valid positions this session.\n"
     ]
    },
    {
     "name": "stderr",
     "output_type": "stream",
     "text": [
      "Processing positions: 1506597lines [26:37, 816.65lines/s] "
     ]
    },
    {
     "name": "stdout",
     "output_type": "stream",
     "text": [
      "\n",
      "✓ Previous chunk 23 saved. Ledger updated.\n",
      "\n",
      "Submitting chunk 24 (50000 positions) for asynchronous saving...\n",
      "  Chunk 24 submitted. Main thread continues.\n",
      "  Total processed (optimistic): 1,250,000 positions\n",
      "  Progress: Line 1,506,582\n"
     ]
    },
    {
     "name": "stderr",
     "output_type": "stream",
     "text": [
      "Processing positions: 1566663lines [27:41, 862.16lines/s] "
     ]
    },
    {
     "name": "stdout",
     "output_type": "stream",
     "text": [
      "\n",
      "✓ Previous chunk 24 saved. Ledger updated.\n",
      "\n",
      "Submitting chunk 25 (50000 positions) for asynchronous saving...\n",
      "  Chunk 25 submitted. Main thread continues.\n",
      "  Total processed (optimistic): 1,300,000 positions\n",
      "  Progress: Line 1,566,671\n"
     ]
    },
    {
     "name": "stderr",
     "output_type": "stream",
     "text": [
      "Processing positions: 1600157lines [28:17, 940.69lines/s] "
     ]
    },
    {
     "name": "stdout",
     "output_type": "stream",
     "text": [
      "Progress checkpoint: Line 1,600,000, Found 1,329,361 valid positions this session.\n"
     ]
    },
    {
     "name": "stderr",
     "output_type": "stream",
     "text": [
      "Processing positions: 1623380lines [28:44, 605.49lines/s] "
     ]
    },
    {
     "name": "stdout",
     "output_type": "stream",
     "text": [
      "\n",
      "✓ Previous chunk 25 saved. Ledger updated.\n",
      "\n",
      "Submitting chunk 26 (50000 positions) for asynchronous saving...\n",
      "  Chunk 26 submitted. Main thread continues.\n",
      "  Total processed (optimistic): 1,350,000 positions\n",
      "  Progress: Line 1,623,312\n"
     ]
    },
    {
     "name": "stderr",
     "output_type": "stream",
     "text": [
      "Processing positions: 1678224lines [29:46, 1047.06lines/s]"
     ]
    },
    {
     "name": "stdout",
     "output_type": "stream",
     "text": [
      "\n",
      "✓ Previous chunk 26 saved. Ledger updated.\n",
      "\n",
      "Submitting chunk 27 (50000 positions) for asynchronous saving...\n",
      "  Chunk 27 submitted. Main thread continues.\n",
      "  Total processed (optimistic): 1,400,000 positions\n",
      "  Progress: Line 1,678,238\n"
     ]
    },
    {
     "name": "stderr",
     "output_type": "stream",
     "text": [
      "Processing positions: 1700099lines [30:12, 850.34lines/s] "
     ]
    },
    {
     "name": "stdout",
     "output_type": "stream",
     "text": [
      "Progress checkpoint: Line 1,700,000, Found 1,419,660 valid positions this session.\n"
     ]
    },
    {
     "name": "stderr",
     "output_type": "stream",
     "text": [
      "Processing positions: 1734221lines [30:48, 998.72lines/s] "
     ]
    },
    {
     "name": "stdout",
     "output_type": "stream",
     "text": [
      "\n",
      "✓ Previous chunk 27 saved. Ledger updated.\n",
      "\n",
      "Submitting chunk 28 (50000 positions) for asynchronous saving...\n",
      "  Chunk 28 submitted. Main thread continues.\n",
      "  Total processed (optimistic): 1,450,000 positions\n",
      "  Progress: Line 1,734,273\n"
     ]
    },
    {
     "name": "stderr",
     "output_type": "stream",
     "text": [
      "Processing positions: 1789463lines [31:47, 741.48lines/s] "
     ]
    },
    {
     "name": "stdout",
     "output_type": "stream",
     "text": [
      "\n",
      "✓ Previous chunk 28 saved. Ledger updated.\n",
      "\n",
      "Submitting chunk 29 (50000 positions) for asynchronous saving...\n",
      "  Chunk 29 submitted. Main thread continues.\n",
      "  Total processed (optimistic): 1,500,000 positions\n",
      "  Progress: Line 1,789,463\n"
     ]
    },
    {
     "name": "stderr",
     "output_type": "stream",
     "text": [
      "Processing positions: 1800161lines [31:58, 1071.71lines/s]"
     ]
    },
    {
     "name": "stdout",
     "output_type": "stream",
     "text": [
      "Progress checkpoint: Line 1,800,000, Found 1,509,328 valid positions this session.\n"
     ]
    },
    {
     "name": "stderr",
     "output_type": "stream",
     "text": [
      "Processing positions: 1847402lines [32:43, 788.53lines/s] "
     ]
    },
    {
     "name": "stdout",
     "output_type": "stream",
     "text": [
      "\n",
      "✓ Previous chunk 29 saved. Ledger updated.\n",
      "\n",
      "Submitting chunk 30 (50000 positions) for asynchronous saving...\n",
      "  Chunk 30 submitted. Main thread continues.\n",
      "  Total processed (optimistic): 1,550,000 positions\n",
      "  Progress: Line 1,847,349\n"
     ]
    },
    {
     "name": "stderr",
     "output_type": "stream",
     "text": [
      "Processing positions: 1900101lines [33:31, 881.74lines/s] "
     ]
    },
    {
     "name": "stdout",
     "output_type": "stream",
     "text": [
      "Progress checkpoint: Line 1,900,000, Found 1,593,205 valid positions this session.\n"
     ]
    },
    {
     "name": "stderr",
     "output_type": "stream",
     "text": [
      "Processing positions: 1907505lines [33:39, 676.34lines/s] "
     ]
    },
    {
     "name": "stdout",
     "output_type": "stream",
     "text": [
      "\n",
      "✓ Previous chunk 30 saved. Ledger updated.\n",
      "\n",
      "Submitting chunk 31 (50000 positions) for asynchronous saving...\n",
      "  Chunk 31 submitted. Main thread continues.\n",
      "  Total processed (optimistic): 1,600,000 positions\n",
      "  Progress: Line 1,907,483\n"
     ]
    },
    {
     "name": "stderr",
     "output_type": "stream",
     "text": [
      "Processing positions: 1969238lines [34:38, 874.13lines/s] "
     ]
    },
    {
     "name": "stdout",
     "output_type": "stream",
     "text": [
      "\n",
      "✓ Previous chunk 31 saved. Ledger updated.\n",
      "\n",
      "Submitting chunk 32 (50000 positions) for asynchronous saving...\n",
      "  Chunk 32 submitted. Main thread continues.\n",
      "  Total processed (optimistic): 1,650,000 positions\n",
      "  Progress: Line 1,969,204\n"
     ]
    },
    {
     "name": "stderr",
     "output_type": "stream",
     "text": [
      "Processing positions: 2000105lines [35:09, 841.20lines/s] "
     ]
    },
    {
     "name": "stdout",
     "output_type": "stream",
     "text": [
      "Progress checkpoint: Line 2,000,000, Found 1,675,283 valid positions this session.\n"
     ]
    },
    {
     "name": "stderr",
     "output_type": "stream",
     "text": [
      "Processing positions: 2030470lines [35:41, 1130.63lines/s]"
     ]
    },
    {
     "name": "stdout",
     "output_type": "stream",
     "text": [
      "\n",
      "✓ Previous chunk 32 saved. Ledger updated.\n",
      "\n",
      "Submitting chunk 33 (50000 positions) for asynchronous saving...\n",
      "  Chunk 33 submitted. Main thread continues.\n",
      "  Total processed (optimistic): 1,700,000 positions\n",
      "  Progress: Line 2,030,522\n"
     ]
    },
    {
     "name": "stderr",
     "output_type": "stream",
     "text": [
      "Processing positions: 2091581lines [36:45, 604.37lines/s] "
     ]
    },
    {
     "name": "stdout",
     "output_type": "stream",
     "text": [
      "\n",
      "✓ Previous chunk 33 saved. Ledger updated.\n",
      "\n",
      "Submitting chunk 34 (50000 positions) for asynchronous saving...\n",
      "  Chunk 34 submitted. Main thread continues.\n",
      "  Total processed (optimistic): 1,750,000 positions\n",
      "  Progress: Line 2,091,549\n"
     ]
    },
    {
     "name": "stderr",
     "output_type": "stream",
     "text": [
      "Processing positions: 2100103lines [36:55, 881.34lines/s] "
     ]
    },
    {
     "name": "stdout",
     "output_type": "stream",
     "text": [
      "Progress checkpoint: Line 2,100,000, Found 1,757,095 valid positions this session.\n"
     ]
    },
    {
     "name": "stderr",
     "output_type": "stream",
     "text": [
      "Processing positions: 2151227lines [37:51, 805.00lines/s] "
     ]
    },
    {
     "name": "stdout",
     "output_type": "stream",
     "text": [
      "\n",
      "✓ Previous chunk 34 saved. Ledger updated.\n",
      "\n",
      "Submitting chunk 35 (50000 positions) for asynchronous saving...\n",
      "  Chunk 35 submitted. Main thread continues.\n",
      "  Total processed (optimistic): 1,800,000 positions\n",
      "  Progress: Line 2,151,227\n"
     ]
    },
    {
     "name": "stderr",
     "output_type": "stream",
     "text": [
      "Processing positions: 2200187lines [38:43, 984.05lines/s] "
     ]
    },
    {
     "name": "stdout",
     "output_type": "stream",
     "text": [
      "Progress checkpoint: Line 2,200,000, Found 1,840,484 valid positions this session.\n"
     ]
    },
    {
     "name": "stderr",
     "output_type": "stream",
     "text": [
      "Processing positions: 2211256lines [38:56, 976.93lines/s] "
     ]
    },
    {
     "name": "stdout",
     "output_type": "stream",
     "text": [
      "\n",
      "✓ Previous chunk 35 saved. Ledger updated.\n",
      "\n",
      "Submitting chunk 36 (50000 positions) for asynchronous saving...\n",
      "  Chunk 36 submitted. Main thread continues.\n",
      "  Total processed (optimistic): 1,850,000 positions\n",
      "  Progress: Line 2,211,304\n"
     ]
    },
    {
     "name": "stderr",
     "output_type": "stream",
     "text": [
      "Processing positions: 2271642lines [40:00, 983.75lines/s] "
     ]
    },
    {
     "name": "stdout",
     "output_type": "stream",
     "text": [
      "\n",
      "✓ Previous chunk 36 saved. Ledger updated.\n",
      "\n",
      "Submitting chunk 37 (50000 positions) for asynchronous saving...\n",
      "  Chunk 37 submitted. Main thread continues.\n",
      "  Total processed (optimistic): 1,900,000 positions\n",
      "  Progress: Line 2,271,665\n"
     ]
    },
    {
     "name": "stderr",
     "output_type": "stream",
     "text": [
      "Processing positions: 2300150lines [40:31, 830.46lines/s] "
     ]
    },
    {
     "name": "stdout",
     "output_type": "stream",
     "text": [
      "Progress checkpoint: Line 2,300,000, Found 1,923,323 valid positions this session.\n"
     ]
    },
    {
     "name": "stderr",
     "output_type": "stream",
     "text": [
      "Processing positions: 2331789lines [41:07, 862.42lines/s] "
     ]
    },
    {
     "name": "stdout",
     "output_type": "stream",
     "text": [
      "\n",
      "✓ Previous chunk 37 saved. Ledger updated.\n",
      "\n",
      "Submitting chunk 38 (50000 positions) for asynchronous saving...\n",
      "  Chunk 38 submitted. Main thread continues.\n",
      "  Total processed (optimistic): 1,950,000 positions\n",
      "  Progress: Line 2,331,802\n"
     ]
    },
    {
     "name": "stderr",
     "output_type": "stream",
     "text": [
      "Processing positions: 2390775lines [42:12, 646.41lines/s] "
     ]
    },
    {
     "name": "stdout",
     "output_type": "stream",
     "text": [
      "\n",
      "✓ Previous chunk 38 saved. Ledger updated.\n",
      "\n",
      "Submitting chunk 39 (50000 positions) for asynchronous saving...\n",
      "  Chunk 39 submitted. Main thread continues.\n",
      "  Total processed (optimistic): 2,000,000 positions\n",
      "  Progress: Line 2,390,735\n"
     ]
    },
    {
     "name": "stderr",
     "output_type": "stream",
     "text": [
      "Processing positions: 2400218lines [42:23, 1056.58lines/s]"
     ]
    },
    {
     "name": "stdout",
     "output_type": "stream",
     "text": [
      "Progress checkpoint: Line 2,400,000, Found 2,007,976 valid positions this session.\n"
     ]
    },
    {
     "name": "stderr",
     "output_type": "stream",
     "text": [
      "Processing positions: 2451061lines [43:18, 726.42lines/s] "
     ]
    },
    {
     "name": "stdout",
     "output_type": "stream",
     "text": [
      "\n",
      "✓ Previous chunk 39 saved. Ledger updated.\n",
      "\n",
      "Submitting chunk 40 (50000 positions) for asynchronous saving...\n",
      "  Chunk 40 submitted. Main thread continues.\n",
      "  Total processed (optimistic): 2,050,000 positions\n",
      "  Progress: Line 2,451,061\n"
     ]
    },
    {
     "name": "stderr",
     "output_type": "stream",
     "text": [
      "Processing positions: 2500137lines [44:14, 949.52lines/s] "
     ]
    },
    {
     "name": "stdout",
     "output_type": "stream",
     "text": [
      "Progress checkpoint: Line 2,500,000, Found 2,090,881 valid positions this session.\n"
     ]
    },
    {
     "name": "stderr",
     "output_type": "stream",
     "text": [
      "Processing positions: 2511155lines [44:26, 754.10lines/s] "
     ]
    },
    {
     "name": "stdout",
     "output_type": "stream",
     "text": [
      "\n",
      "✓ Previous chunk 40 saved. Ledger updated.\n",
      "\n",
      "Submitting chunk 41 (50000 positions) for asynchronous saving...\n",
      "  Chunk 41 submitted. Main thread continues.\n",
      "  Total processed (optimistic): 2,100,000 positions\n",
      "  Progress: Line 2,511,155\n"
     ]
    },
    {
     "name": "stderr",
     "output_type": "stream",
     "text": [
      "Processing positions: 2570584lines [45:33, 658.49lines/s] "
     ]
    },
    {
     "name": "stdout",
     "output_type": "stream",
     "text": [
      "\n",
      "✓ Previous chunk 41 saved. Ledger updated.\n",
      "\n",
      "Submitting chunk 42 (50000 positions) for asynchronous saving...\n",
      "  Chunk 42 submitted. Main thread continues.\n",
      "  Total processed (optimistic): 2,150,000 positions\n",
      "  Progress: Line 2,570,536\n"
     ]
    },
    {
     "name": "stderr",
     "output_type": "stream",
     "text": [
      "Processing positions: 2600074lines [46:07, 751.57lines/s] "
     ]
    },
    {
     "name": "stdout",
     "output_type": "stream",
     "text": [
      "Progress checkpoint: Line 2,600,000, Found 2,175,320 valid positions this session.\n"
     ]
    },
    {
     "name": "stderr",
     "output_type": "stream",
     "text": [
      "Processing positions: 2627468lines [46:39, 933.61lines/s] "
     ]
    },
    {
     "name": "stdout",
     "output_type": "stream",
     "text": [
      "\n",
      "✓ Previous chunk 42 saved. Ledger updated.\n",
      "\n",
      "Submitting chunk 43 (50000 positions) for asynchronous saving...\n",
      "  Chunk 43 submitted. Main thread continues.\n",
      "  Total processed (optimistic): 2,200,000 positions\n",
      "  Progress: Line 2,627,477\n"
     ]
    },
    {
     "name": "stderr",
     "output_type": "stream",
     "text": [
      "Processing positions: 2683936lines [47:47, 662.23lines/s] "
     ]
    },
    {
     "name": "stdout",
     "output_type": "stream",
     "text": [
      "\n",
      "✓ Previous chunk 43 saved. Ledger updated.\n",
      "\n",
      "Submitting chunk 44 (50000 positions) for asynchronous saving...\n",
      "  Chunk 44 submitted. Main thread continues.\n",
      "  Total processed (optimistic): 2,250,000 positions\n",
      "  Progress: Line 2,683,936\n"
     ]
    },
    {
     "name": "stderr",
     "output_type": "stream",
     "text": [
      "Processing positions: 2700155lines [48:06, 850.02lines/s] "
     ]
    },
    {
     "name": "stdout",
     "output_type": "stream",
     "text": [
      "Progress checkpoint: Line 2,700,000, Found 2,264,221 valid positions this session.\n"
     ]
    },
    {
     "name": "stderr",
     "output_type": "stream",
     "text": [
      "Processing positions: 2739331lines [48:51, 716.91lines/s] "
     ]
    },
    {
     "name": "stdout",
     "output_type": "stream",
     "text": [
      "\n",
      "✓ Previous chunk 44 saved. Ledger updated.\n",
      "\n",
      "Submitting chunk 45 (50000 positions) for asynchronous saving...\n",
      "  Chunk 45 submitted. Main thread continues.\n",
      "  Total processed (optimistic): 2,300,000 positions\n",
      "  Progress: Line 2,739,365\n"
     ]
    },
    {
     "name": "stderr",
     "output_type": "stream",
     "text": [
      "Processing positions: 2794449lines [49:52, 583.57lines/s] "
     ]
    },
    {
     "name": "stdout",
     "output_type": "stream",
     "text": [
      "\n",
      "✓ Previous chunk 45 saved. Ledger updated.\n",
      "\n",
      "Submitting chunk 46 (50000 positions) for asynchronous saving...\n",
      "  Chunk 46 submitted. Main thread continues.\n",
      "  Total processed (optimistic): 2,350,000 positions\n",
      "  Progress: Line 2,794,401\n"
     ]
    },
    {
     "name": "stderr",
     "output_type": "stream",
     "text": [
      "Processing positions: 2800107lines [49:59, 1173.42lines/s]"
     ]
    },
    {
     "name": "stdout",
     "output_type": "stream",
     "text": [
      "Progress checkpoint: Line 2,800,000, Found 2,355,124 valid positions this session.\n"
     ]
    },
    {
     "name": "stderr",
     "output_type": "stream",
     "text": [
      "Processing positions: 2849244lines [50:51, 629.05lines/s] "
     ]
    },
    {
     "name": "stdout",
     "output_type": "stream",
     "text": [
      "\n",
      "✓ Previous chunk 46 saved. Ledger updated.\n",
      "\n",
      "Submitting chunk 47 (50000 positions) for asynchronous saving...\n",
      "  Chunk 47 submitted. Main thread continues.\n",
      "  Total processed (optimistic): 2,400,000 positions\n",
      "  Progress: Line 2,849,181\n"
     ]
    },
    {
     "name": "stderr",
     "output_type": "stream",
     "text": [
      "Processing positions: 2900110lines [51:38, 1011.00lines/s]"
     ]
    },
    {
     "name": "stdout",
     "output_type": "stream",
     "text": [
      "Progress checkpoint: Line 2,900,000, Found 2,444,813 valid positions this session.\n"
     ]
    },
    {
     "name": "stderr",
     "output_type": "stream",
     "text": [
      "Processing positions: 2906019lines [51:44, 1136.96lines/s]"
     ]
    },
    {
     "name": "stdout",
     "output_type": "stream",
     "text": [
      "\n",
      "✓ Previous chunk 47 saved. Ledger updated.\n",
      "\n",
      "Submitting chunk 48 (50000 positions) for asynchronous saving...\n",
      "  Chunk 48 submitted. Main thread continues.\n",
      "  Total processed (optimistic): 2,450,000 positions\n",
      "  Progress: Line 2,906,039\n"
     ]
    },
    {
     "name": "stderr",
     "output_type": "stream",
     "text": [
      "Processing positions: 2967656lines [52:40, 780.23lines/s] "
     ]
    },
    {
     "name": "stdout",
     "output_type": "stream",
     "text": [
      "\n",
      "✓ Previous chunk 48 saved. Ledger updated.\n",
      "\n",
      "Submitting chunk 49 (50000 positions) for asynchronous saving...\n",
      "  Chunk 49 submitted. Main thread continues.\n",
      "  Total processed (optimistic): 2,500,000 positions\n",
      "  Progress: Line 2,967,620\n"
     ]
    },
    {
     "name": "stderr",
     "output_type": "stream",
     "text": [
      "Processing positions: 3000108lines [53:12, 1057.42lines/s]"
     ]
    },
    {
     "name": "stdout",
     "output_type": "stream",
     "text": [
      "Progress checkpoint: Line 3,000,000, Found 2,526,603 valid positions this session.\n"
     ]
    },
    {
     "name": "stderr",
     "output_type": "stream",
     "text": [
      "Processing positions: 3028130lines [53:41, 661.16lines/s] "
     ]
    },
    {
     "name": "stdout",
     "output_type": "stream",
     "text": [
      "\n",
      "✓ Previous chunk 49 saved. Ledger updated.\n",
      "\n",
      "Submitting chunk 50 (50000 positions) for asynchronous saving...\n",
      "  Chunk 50 submitted. Main thread continues.\n",
      "  Total processed (optimistic): 2,550,000 positions\n",
      "  Progress: Line 3,028,074\n"
     ]
    },
    {
     "name": "stderr",
     "output_type": "stream",
     "text": [
      "Processing positions: 3088399lines [54:44, 747.83lines/s] "
     ]
    },
    {
     "name": "stdout",
     "output_type": "stream",
     "text": [
      "\n",
      "✓ Previous chunk 50 saved. Ledger updated.\n",
      "\n",
      "Submitting chunk 51 (50000 positions) for asynchronous saving...\n",
      "  Chunk 51 submitted. Main thread continues.\n",
      "  Total processed (optimistic): 2,600,000 positions\n",
      "  Progress: Line 3,088,391\n"
     ]
    },
    {
     "name": "stderr",
     "output_type": "stream",
     "text": [
      "Processing positions: 3100199lines [54:55, 1187.83lines/s]"
     ]
    },
    {
     "name": "stdout",
     "output_type": "stream",
     "text": [
      "Progress checkpoint: Line 3,100,000, Found 2,609,562 valid positions this session.\n"
     ]
    },
    {
     "name": "stderr",
     "output_type": "stream",
     "text": [
      "Processing positions: 3147990lines [55:46, 643.14lines/s] "
     ]
    },
    {
     "name": "stdout",
     "output_type": "stream",
     "text": [
      "\n",
      "✓ Previous chunk 51 saved. Ledger updated.\n",
      "\n",
      "Submitting chunk 52 (50000 positions) for asynchronous saving...\n",
      "  Chunk 52 submitted. Main thread continues.\n",
      "  Total processed (optimistic): 2,650,000 positions\n",
      "  Progress: Line 3,147,977\n"
     ]
    },
    {
     "name": "stderr",
     "output_type": "stream",
     "text": [
      "Processing positions: 3200129lines [56:41, 994.68lines/s] "
     ]
    },
    {
     "name": "stdout",
     "output_type": "stream",
     "text": [
      "Progress checkpoint: Line 3,200,000, Found 2,694,761 valid positions this session.\n"
     ]
    },
    {
     "name": "stderr",
     "output_type": "stream",
     "text": [
      "Processing positions: 3206285lines [56:47, 1207.16lines/s]"
     ]
    },
    {
     "name": "stdout",
     "output_type": "stream",
     "text": [
      "\n",
      "✓ Previous chunk 52 saved. Ledger updated.\n",
      "\n",
      "Submitting chunk 53 (50000 positions) for asynchronous saving...\n",
      "  Chunk 53 submitted. Main thread continues.\n",
      "  Total processed (optimistic): 2,700,000 positions\n",
      "  Progress: Line 3,206,320\n"
     ]
    },
    {
     "name": "stderr",
     "output_type": "stream",
     "text": [
      "Processing positions: 3266928lines [57:45, 691.98lines/s] "
     ]
    },
    {
     "name": "stdout",
     "output_type": "stream",
     "text": [
      "\n",
      "✓ Previous chunk 53 saved. Ledger updated.\n",
      "\n",
      "Submitting chunk 54 (50000 positions) for asynchronous saving...\n",
      "  Chunk 54 submitted. Main thread continues.\n",
      "  Total processed (optimistic): 2,750,000 positions\n",
      "  Progress: Line 3,266,872\n"
     ]
    },
    {
     "name": "stderr",
     "output_type": "stream",
     "text": [
      "Processing positions: 3300191lines [58:20, 1032.53lines/s]"
     ]
    },
    {
     "name": "stdout",
     "output_type": "stream",
     "text": [
      "Progress checkpoint: Line 3,300,000, Found 2,777,561 valid positions this session.\n"
     ]
    },
    {
     "name": "stderr",
     "output_type": "stream",
     "text": [
      "Processing positions: 3326559lines [58:48, 933.33lines/s] "
     ]
    },
    {
     "name": "stdout",
     "output_type": "stream",
     "text": [
      "\n",
      "✓ Previous chunk 54 saved. Ledger updated.\n",
      "\n",
      "Submitting chunk 55 (50000 positions) for asynchronous saving...\n",
      "  Chunk 55 submitted. Main thread continues.\n",
      "  Total processed (optimistic): 2,800,000 positions\n",
      "  Progress: Line 3,326,577\n"
     ]
    },
    {
     "name": "stderr",
     "output_type": "stream",
     "text": [
      "Processing positions: 3386048lines [59:48, 637.43lines/s] "
     ]
    },
    {
     "name": "stdout",
     "output_type": "stream",
     "text": [
      "\n",
      "✓ Previous chunk 55 saved. Ledger updated.\n",
      "\n",
      "Submitting chunk 56 (50000 positions) for asynchronous saving...\n",
      "  Chunk 56 submitted. Main thread continues.\n",
      "  Total processed (optimistic): 2,850,000 positions\n",
      "  Progress: Line 3,386,018\n"
     ]
    },
    {
     "name": "stderr",
     "output_type": "stream",
     "text": [
      "Processing positions: 3400100lines [1:00:03, 1122.83lines/s]"
     ]
    },
    {
     "name": "stdout",
     "output_type": "stream",
     "text": [
      "Progress checkpoint: Line 3,400,000, Found 2,861,754 valid positions this session.\n"
     ]
    },
    {
     "name": "stderr",
     "output_type": "stream",
     "text": [
      "Processing positions: 3445866lines [1:00:50, 634.30lines/s] "
     ]
    },
    {
     "name": "stdout",
     "output_type": "stream",
     "text": [
      "\n",
      "✓ Previous chunk 56 saved. Ledger updated.\n",
      "\n",
      "Submitting chunk 57 (50000 positions) for asynchronous saving...\n",
      "  Chunk 57 submitted. Main thread continues.\n",
      "  Total processed (optimistic): 2,900,000 positions\n",
      "  Progress: Line 3,445,836\n"
     ]
    },
    {
     "name": "stderr",
     "output_type": "stream",
     "text": [
      "Processing positions: 3500140lines [1:01:45, 959.76lines/s] "
     ]
    },
    {
     "name": "stdout",
     "output_type": "stream",
     "text": [
      "Progress checkpoint: Line 3,500,000, Found 2,945,798 valid positions this session.\n"
     ]
    },
    {
     "name": "stderr",
     "output_type": "stream",
     "text": [
      "Processing positions: 3504939lines [1:01:50, 717.89lines/s] "
     ]
    },
    {
     "name": "stdout",
     "output_type": "stream",
     "text": [
      "\n",
      "✓ Previous chunk 57 saved. Ledger updated.\n",
      "\n",
      "Submitting chunk 58 (50000 positions) for asynchronous saving...\n",
      "  Chunk 58 submitted. Main thread continues.\n",
      "  Total processed (optimistic): 2,950,000 positions\n",
      "  Progress: Line 3,504,915\n"
     ]
    },
    {
     "name": "stderr",
     "output_type": "stream",
     "text": [
      "Processing positions: 3564237lines [1:02:52, 739.13lines/s] "
     ]
    },
    {
     "name": "stdout",
     "output_type": "stream",
     "text": [
      "\n",
      "✓ Previous chunk 58 saved. Ledger updated.\n",
      "\n",
      "Submitting chunk 59 (50000 positions) for asynchronous saving...\n",
      "  Chunk 59 submitted. Main thread continues.\n",
      "  Total processed (optimistic): 3,000,000 positions\n",
      "  Progress: Line 3,564,151\n"
     ]
    },
    {
     "name": "stderr",
     "output_type": "stream",
     "text": [
      "Processing positions: 3600099lines [1:03:29, 928.41lines/s] "
     ]
    },
    {
     "name": "stdout",
     "output_type": "stream",
     "text": [
      "Progress checkpoint: Line 3,600,000, Found 3,030,915 valid positions this session.\n"
     ]
    },
    {
     "name": "stderr",
     "output_type": "stream",
     "text": [
      "Processing positions: 3621683lines [1:03:54, 637.84lines/s] "
     ]
    },
    {
     "name": "stdout",
     "output_type": "stream",
     "text": [
      "\n",
      "✓ Previous chunk 59 saved. Ledger updated.\n",
      "\n",
      "Submitting chunk 60 (50000 positions) for asynchronous saving...\n",
      "  Chunk 60 submitted. Main thread continues.\n",
      "  Total processed (optimistic): 3,050,000 positions\n",
      "  Progress: Line 3,621,660\n"
     ]
    },
    {
     "name": "stderr",
     "output_type": "stream",
     "text": [
      "Processing positions: 3678493lines [1:04:54, 849.25lines/s] "
     ]
    },
    {
     "name": "stdout",
     "output_type": "stream",
     "text": [
      "\n",
      "✓ Previous chunk 60 saved. Ledger updated.\n",
      "\n",
      "Submitting chunk 61 (50000 positions) for asynchronous saving...\n",
      "  Chunk 61 submitted. Main thread continues.\n",
      "  Total processed (optimistic): 3,100,000 positions\n",
      "  Progress: Line 3,678,486\n"
     ]
    },
    {
     "name": "stderr",
     "output_type": "stream",
     "text": [
      "Processing positions: 3700107lines [1:05:17, 1018.55lines/s]"
     ]
    },
    {
     "name": "stdout",
     "output_type": "stream",
     "text": [
      "Progress checkpoint: Line 3,700,000, Found 3,118,583 valid positions this session.\n"
     ]
    },
    {
     "name": "stderr",
     "output_type": "stream",
     "text": [
      "Processing positions: 3735806lines [1:05:55, 674.12lines/s] "
     ]
    },
    {
     "name": "stdout",
     "output_type": "stream",
     "text": [
      "\n",
      "✓ Previous chunk 61 saved. Ledger updated.\n",
      "\n",
      "Submitting chunk 62 (50000 positions) for asynchronous saving...\n",
      "  Chunk 62 submitted. Main thread continues.\n",
      "  Total processed (optimistic): 3,150,000 positions\n",
      "  Progress: Line 3,735,768\n"
     ]
    },
    {
     "name": "stderr",
     "output_type": "stream",
     "text": [
      "Processing positions: 3794898lines [1:06:59, 784.74lines/s] "
     ]
    },
    {
     "name": "stdout",
     "output_type": "stream",
     "text": [
      "\n",
      "✓ Previous chunk 62 saved. Ledger updated.\n",
      "\n",
      "Submitting chunk 63 (50000 positions) for asynchronous saving...\n",
      "  Chunk 63 submitted. Main thread continues.\n",
      "  Total processed (optimistic): 3,200,000 positions\n",
      "  Progress: Line 3,794,793\n"
     ]
    },
    {
     "name": "stderr",
     "output_type": "stream",
     "text": [
      "Processing positions: 3800219lines [1:07:05, 1171.89lines/s]"
     ]
    },
    {
     "name": "stdout",
     "output_type": "stream",
     "text": [
      "Progress checkpoint: Line 3,800,000, Found 3,204,325 valid positions this session.\n"
     ]
    },
    {
     "name": "stderr",
     "output_type": "stream",
     "text": [
      "Processing positions: 3854529lines [1:08:00, 622.13lines/s] "
     ]
    },
    {
     "name": "stdout",
     "output_type": "stream",
     "text": [
      "\n",
      "✓ Previous chunk 63 saved. Ledger updated.\n",
      "\n",
      "Submitting chunk 64 (50000 positions) for asynchronous saving...\n",
      "  Chunk 64 submitted. Main thread continues.\n",
      "  Total processed (optimistic): 3,250,000 positions\n",
      "  Progress: Line 3,854,465\n"
     ]
    },
    {
     "name": "stderr",
     "output_type": "stream",
     "text": [
      "Processing positions: 3900110lines [1:08:46, 910.14lines/s] "
     ]
    },
    {
     "name": "stdout",
     "output_type": "stream",
     "text": [
      "Progress checkpoint: Line 3,900,000, Found 3,287,717 valid positions this session.\n"
     ]
    },
    {
     "name": "stderr",
     "output_type": "stream",
     "text": [
      "Processing positions: 3914477lines [1:09:02, 940.31lines/s] "
     ]
    },
    {
     "name": "stdout",
     "output_type": "stream",
     "text": [
      "\n",
      "✓ Previous chunk 64 saved. Ledger updated.\n",
      "\n",
      "Submitting chunk 65 (50000 positions) for asynchronous saving...\n",
      "  Chunk 65 submitted. Main thread continues.\n",
      "  Total processed (optimistic): 3,300,000 positions\n",
      "  Progress: Line 3,914,493\n"
     ]
    },
    {
     "name": "stderr",
     "output_type": "stream",
     "text": [
      "Processing positions: 3972958lines [1:10:06, 591.64lines/s] "
     ]
    },
    {
     "name": "stdout",
     "output_type": "stream",
     "text": [
      "\n",
      "✓ Previous chunk 65 saved. Ledger updated.\n",
      "\n",
      "Submitting chunk 66 (50000 positions) for asynchronous saving...\n",
      "  Chunk 66 submitted. Main thread continues.\n",
      "  Total processed (optimistic): 3,350,000 positions\n",
      "  Progress: Line 3,972,937\n"
     ]
    },
    {
     "name": "stderr",
     "output_type": "stream",
     "text": [
      "Processing positions: 4000069lines [1:10:36, 1066.04lines/s]"
     ]
    },
    {
     "name": "stdout",
     "output_type": "stream",
     "text": [
      "Progress checkpoint: Line 4,000,000, Found 3,373,493 valid positions this session.\n"
     ]
    },
    {
     "name": "stderr",
     "output_type": "stream",
     "text": [
      "Processing positions: 4031250lines [1:11:10, 740.80lines/s] "
     ]
    },
    {
     "name": "stdout",
     "output_type": "stream",
     "text": [
      "\n",
      "✓ Previous chunk 66 saved. Ledger updated.\n",
      "\n",
      "Submitting chunk 67 (50000 positions) for asynchronous saving...\n",
      "  Chunk 67 submitted. Main thread continues.\n",
      "  Total processed (optimistic): 3,400,000 positions\n",
      "  Progress: Line 4,031,207\n"
     ]
    },
    {
     "name": "stderr",
     "output_type": "stream",
     "text": [
      "Processing positions: 4090902lines [1:12:13, 918.91lines/s] "
     ]
    },
    {
     "name": "stdout",
     "output_type": "stream",
     "text": [
      "\n",
      "✓ Previous chunk 67 saved. Ledger updated.\n",
      "\n",
      "Submitting chunk 68 (50000 positions) for asynchronous saving...\n",
      "  Chunk 68 submitted. Main thread continues.\n",
      "  Total processed (optimistic): 3,450,000 positions\n",
      "  Progress: Line 4,090,912\n"
     ]
    },
    {
     "name": "stderr",
     "output_type": "stream",
     "text": [
      "Processing positions: 4100104lines [1:12:24, 934.75lines/s] "
     ]
    },
    {
     "name": "stdout",
     "output_type": "stream",
     "text": [
      "Progress checkpoint: Line 4,100,000, Found 3,457,848 valid positions this session.\n"
     ]
    },
    {
     "name": "stderr",
     "output_type": "stream",
     "text": [
      "Processing positions: 4149794lines [1:13:19, 706.02lines/s] "
     ]
    },
    {
     "name": "stdout",
     "output_type": "stream",
     "text": [
      "\n",
      "✓ Previous chunk 68 saved. Ledger updated.\n",
      "\n",
      "Submitting chunk 69 (50000 positions) for asynchronous saving...\n",
      "  Chunk 69 submitted. Main thread continues.\n",
      "  Total processed (optimistic): 3,500,000 positions\n",
      "  Progress: Line 4,149,783\n"
     ]
    },
    {
     "name": "stderr",
     "output_type": "stream",
     "text": [
      "Processing positions: 4200105lines [1:14:14, 822.95lines/s] "
     ]
    },
    {
     "name": "stdout",
     "output_type": "stream",
     "text": [
      "Progress checkpoint: Line 4,200,000, Found 3,543,058 valid positions this session.\n"
     ]
    },
    {
     "name": "stderr",
     "output_type": "stream",
     "text": [
      "Processing positions: 4208269lines [1:14:24, 636.05lines/s] "
     ]
    },
    {
     "name": "stdout",
     "output_type": "stream",
     "text": [
      "\n",
      "✓ Previous chunk 69 saved. Ledger updated.\n",
      "\n",
      "Submitting chunk 70 (50000 positions) for asynchronous saving...\n",
      "  Chunk 70 submitted. Main thread continues.\n",
      "  Total processed (optimistic): 3,550,000 positions\n",
      "  Progress: Line 4,208,214\n"
     ]
    },
    {
     "name": "stderr",
     "output_type": "stream",
     "text": [
      "Processing positions: 4266997lines [1:15:28, 689.81lines/s] "
     ]
    },
    {
     "name": "stdout",
     "output_type": "stream",
     "text": [
      "\n",
      "✓ Previous chunk 70 saved. Ledger updated.\n",
      "\n",
      "Submitting chunk 71 (50000 positions) for asynchronous saving...\n",
      "  Chunk 71 submitted. Main thread continues.\n",
      "  Total processed (optimistic): 3,600,000 positions\n",
      "  Progress: Line 4,266,921\n"
     ]
    },
    {
     "name": "stderr",
     "output_type": "stream",
     "text": [
      "Processing positions: 4300105lines [1:16:03, 852.19lines/s] "
     ]
    },
    {
     "name": "stdout",
     "output_type": "stream",
     "text": [
      "Progress checkpoint: Line 4,300,000, Found 3,627,630 valid positions this session.\n"
     ]
    },
    {
     "name": "stderr",
     "output_type": "stream",
     "text": [
      "Processing positions: 4326569lines [1:16:32, 875.60lines/s] "
     ]
    },
    {
     "name": "stdout",
     "output_type": "stream",
     "text": [
      "\n",
      "✓ Previous chunk 71 saved. Ledger updated.\n",
      "\n",
      "Submitting chunk 72 (50000 positions) for asynchronous saving...\n",
      "  Chunk 72 submitted. Main thread continues.\n",
      "  Total processed (optimistic): 3,650,000 positions\n",
      "  Progress: Line 4,326,610\n"
     ]
    },
    {
     "name": "stderr",
     "output_type": "stream",
     "text": [
      "Processing positions: 4384645lines [1:17:36, 580.17lines/s] "
     ]
    },
    {
     "name": "stdout",
     "output_type": "stream",
     "text": [
      "\n",
      "✓ Previous chunk 72 saved. Ledger updated.\n",
      "\n",
      "Submitting chunk 73 (50000 positions) for asynchronous saving...\n",
      "  Chunk 73 submitted. Main thread continues.\n",
      "  Total processed (optimistic): 3,700,000 positions\n",
      "  Progress: Line 4,384,611\n"
     ]
    },
    {
     "name": "stderr",
     "output_type": "stream",
     "text": [
      "Processing positions: 4400154lines [1:17:55, 968.50lines/s] "
     ]
    },
    {
     "name": "stdout",
     "output_type": "stream",
     "text": [
      "Progress checkpoint: Line 4,400,000, Found 3,713,905 valid positions this session.\n"
     ]
    },
    {
     "name": "stderr",
     "output_type": "stream",
     "text": [
      "Processing positions: 4439976lines [1:18:42, 862.55lines/s] "
     ]
    },
    {
     "name": "stdout",
     "output_type": "stream",
     "text": [
      "\n",
      "✓ Previous chunk 73 saved. Ledger updated.\n",
      "\n",
      "Submitting chunk 74 (50000 positions) for asynchronous saving...\n",
      "  Chunk 74 submitted. Main thread continues.\n",
      "  Total processed (optimistic): 3,750,000 positions\n",
      "  Progress: Line 4,439,982\n"
     ]
    },
    {
     "name": "stderr",
     "output_type": "stream",
     "text": [
      "Processing positions: 4494966lines [1:19:46, 564.59lines/s] "
     ]
    },
    {
     "name": "stdout",
     "output_type": "stream",
     "text": [
      "\n",
      "✓ Previous chunk 74 saved. Ledger updated.\n",
      "\n",
      "Submitting chunk 75 (50000 positions) for asynchronous saving...\n",
      "  Chunk 75 submitted. Main thread continues.\n",
      "  Total processed (optimistic): 3,800,000 positions\n",
      "  Progress: Line 4,494,912\n"
     ]
    },
    {
     "name": "stderr",
     "output_type": "stream",
     "text": [
      "Processing positions: 4500152lines [1:19:53, 923.57lines/s] "
     ]
    },
    {
     "name": "stdout",
     "output_type": "stream",
     "text": [
      "Progress checkpoint: Line 4,500,000, Found 3,804,767 valid positions this session.\n"
     ]
    },
    {
     "name": "stderr",
     "output_type": "stream",
     "text": [
      "Processing positions: 4549388lines [1:20:51, 541.78lines/s] "
     ]
    },
    {
     "name": "stdout",
     "output_type": "stream",
     "text": [
      "\n",
      "✓ Previous chunk 75 saved. Ledger updated.\n",
      "\n",
      "Submitting chunk 76 (50000 positions) for asynchronous saving...\n",
      "  Chunk 76 submitted. Main thread continues.\n",
      "  Total processed (optimistic): 3,850,000 positions\n",
      "  Progress: Line 4,549,338\n"
     ]
    },
    {
     "name": "stderr",
     "output_type": "stream",
     "text": [
      "Processing positions: 4600111lines [1:21:52, 922.31lines/s] "
     ]
    },
    {
     "name": "stdout",
     "output_type": "stream",
     "text": [
      "Progress checkpoint: Line 4,600,000, Found 3,895,864 valid positions this session.\n"
     ]
    },
    {
     "name": "stderr",
     "output_type": "stream",
     "text": [
      "Processing positions: 4604589lines [1:21:57, 551.23lines/s]"
     ]
    },
    {
     "name": "stdout",
     "output_type": "stream",
     "text": [
      "\n",
      "✓ Previous chunk 76 saved. Ledger updated.\n",
      "\n",
      "Submitting chunk 77 (50000 positions) for asynchronous saving...\n",
      "  Chunk 77 submitted. Main thread continues.\n",
      "  Total processed (optimistic): 3,900,000 positions\n",
      "  Progress: Line 4,604,562\n"
     ]
    },
    {
     "name": "stderr",
     "output_type": "stream",
     "text": [
      "Processing positions: 4659923lines [1:23:02, 595.90lines/s] "
     ]
    },
    {
     "name": "stdout",
     "output_type": "stream",
     "text": [
      "\n",
      "✓ Previous chunk 77 saved. Ledger updated.\n",
      "\n",
      "Submitting chunk 78 (50000 positions) for asynchronous saving...\n",
      "  Chunk 78 submitted. Main thread continues.\n",
      "  Total processed (optimistic): 3,950,000 positions\n",
      "  Progress: Line 4,659,898\n"
     ]
    },
    {
     "name": "stderr",
     "output_type": "stream",
     "text": [
      "Processing positions: 4700101lines [1:23:46, 1013.01lines/s]"
     ]
    },
    {
     "name": "stdout",
     "output_type": "stream",
     "text": [
      "Progress checkpoint: Line 4,700,000, Found 3,985,875 valid positions this session.\n"
     ]
    },
    {
     "name": "stderr",
     "output_type": "stream",
     "text": [
      "Processing positions: 4715954lines [1:24:02, 1049.10lines/s]"
     ]
    },
    {
     "name": "stdout",
     "output_type": "stream",
     "text": [
      "\n",
      "✓ Previous chunk 78 saved. Ledger updated.\n",
      "\n",
      "Submitting chunk 79 (50000 positions) for asynchronous saving...\n",
      "  Chunk 79 submitted. Main thread continues.\n",
      "  Total processed (optimistic): 4,000,000 positions\n",
      "  Progress: Line 4,715,965\n"
     ]
    },
    {
     "name": "stderr",
     "output_type": "stream",
     "text": [
      "Processing positions: 4780623lines [1:25:00, 520.92lines/s] "
     ]
    },
    {
     "name": "stdout",
     "output_type": "stream",
     "text": [
      "\n",
      "✓ Previous chunk 79 saved. Ledger updated.\n",
      "\n",
      "Submitting chunk 80 (50000 positions) for asynchronous saving...\n",
      "  Chunk 80 submitted. Main thread continues.\n",
      "  Total processed (optimistic): 4,050,000 positions\n",
      "  Progress: Line 4,780,569\n"
     ]
    },
    {
     "name": "stderr",
     "output_type": "stream",
     "text": [
      "Processing positions: 4800088lines [1:25:20, 1038.47lines/s]"
     ]
    },
    {
     "name": "stdout",
     "output_type": "stream",
     "text": [
      "Progress checkpoint: Line 4,800,000, Found 4,066,503 valid positions this session.\n"
     ]
    },
    {
     "name": "stderr",
     "output_type": "stream",
     "text": [
      "Processing positions: 4839812lines [1:26:04, 535.35lines/s] "
     ]
    },
    {
     "name": "stdout",
     "output_type": "stream",
     "text": [
      "\n",
      "✓ Previous chunk 80 saved. Ledger updated.\n",
      "\n",
      "Submitting chunk 81 (50000 positions) for asynchronous saving...\n",
      "  Chunk 81 submitted. Main thread continues.\n",
      "  Total processed (optimistic): 4,100,000 positions\n",
      "  Progress: Line 4,839,780\n"
     ]
    },
    {
     "name": "stderr",
     "output_type": "stream",
     "text": [
      "Processing positions: 4900243lines [1:27:09, 1203.99lines/s]"
     ]
    },
    {
     "name": "stdout",
     "output_type": "stream",
     "text": [
      "Progress checkpoint: Line 4,900,000, Found 4,149,375 valid positions this session.\n"
     ]
    },
    {
     "name": "stderr",
     "output_type": "stream",
     "text": [
      "Processing positions: 4900843lines [1:27:10, 684.39lines/s] "
     ]
    },
    {
     "name": "stdout",
     "output_type": "stream",
     "text": [
      "\n",
      "✓ Previous chunk 81 saved. Ledger updated.\n",
      "\n",
      "Submitting chunk 82 (50000 positions) for asynchronous saving...\n",
      "  Chunk 82 submitted. Main thread continues.\n",
      "  Total processed (optimistic): 4,150,000 positions\n",
      "  Progress: Line 4,900,778\n"
     ]
    },
    {
     "name": "stderr",
     "output_type": "stream",
     "text": [
      "Processing positions: 4961037lines [1:28:16, 600.78lines/s] "
     ]
    },
    {
     "name": "stdout",
     "output_type": "stream",
     "text": [
      "\n",
      "✓ Previous chunk 82 saved. Ledger updated.\n",
      "\n",
      "Submitting chunk 83 (50000 positions) for asynchronous saving...\n",
      "  Chunk 83 submitted. Main thread continues.\n",
      "  Total processed (optimistic): 4,200,000 positions\n",
      "  Progress: Line 4,961,035\n"
     ]
    },
    {
     "name": "stderr",
     "output_type": "stream",
     "text": [
      "Processing positions: 5000098lines [1:29:01, 906.18lines/s] "
     ]
    },
    {
     "name": "stdout",
     "output_type": "stream",
     "text": [
      "Progress checkpoint: Line 5,000,000, Found 4,233,319 valid positions this session.\n"
     ]
    },
    {
     "name": "stderr",
     "output_type": "stream",
     "text": [
      "Processing positions: 5019904lines [1:29:22, 567.71lines/s] "
     ]
    },
    {
     "name": "stdout",
     "output_type": "stream",
     "text": [
      "\n",
      "✓ Previous chunk 83 saved. Ledger updated.\n",
      "\n",
      "Submitting chunk 84 (50000 positions) for asynchronous saving...\n",
      "  Chunk 84 submitted. Main thread continues.\n",
      "  Total processed (optimistic): 4,250,000 positions\n",
      "  Progress: Line 5,019,837\n"
     ]
    },
    {
     "name": "stderr",
     "output_type": "stream",
     "text": [
      "Processing positions: 5078103lines [1:30:27, 640.18lines/s] "
     ]
    },
    {
     "name": "stdout",
     "output_type": "stream",
     "text": [
      "\n",
      "✓ Previous chunk 84 saved. Ledger updated.\n",
      "\n",
      "Submitting chunk 85 (50000 positions) for asynchronous saving...\n",
      "  Chunk 85 submitted. Main thread continues.\n",
      "  Total processed (optimistic): 4,300,000 positions\n",
      "  Progress: Line 5,078,069\n"
     ]
    },
    {
     "name": "stderr",
     "output_type": "stream",
     "text": [
      "Processing positions: 5100229lines [1:30:50, 1024.81lines/s]"
     ]
    },
    {
     "name": "stdout",
     "output_type": "stream",
     "text": [
      "Progress checkpoint: Line 5,100,000, Found 4,318,688 valid positions this session.\n"
     ]
    },
    {
     "name": "stderr",
     "output_type": "stream",
     "text": [
      "Processing positions: 5137810lines [1:31:31, 582.05lines/s] "
     ]
    },
    {
     "name": "stdout",
     "output_type": "stream",
     "text": [
      "\n",
      "✓ Previous chunk 85 saved. Ledger updated.\n",
      "\n",
      "Submitting chunk 86 (50000 positions) for asynchronous saving...\n",
      "  Chunk 86 submitted. Main thread continues.\n",
      "  Total processed (optimistic): 4,350,000 positions\n",
      "  Progress: Line 5,137,773\n"
     ]
    },
    {
     "name": "stderr",
     "output_type": "stream",
     "text": [
      "Processing positions: 5196210lines [1:32:37, 893.74lines/s] "
     ]
    },
    {
     "name": "stdout",
     "output_type": "stream",
     "text": [
      "\n",
      "✓ Previous chunk 86 saved. Ledger updated.\n",
      "\n",
      "Submitting chunk 87 (50000 positions) for asynchronous saving...\n",
      "  Chunk 87 submitted. Main thread continues.\n",
      "  Total processed (optimistic): 4,400,000 positions\n",
      "  Progress: Line 5,196,217\n"
     ]
    },
    {
     "name": "stderr",
     "output_type": "stream",
     "text": [
      "Processing positions: 5200141lines [1:32:42, 807.41lines/s] "
     ]
    },
    {
     "name": "stdout",
     "output_type": "stream",
     "text": [
      "Progress checkpoint: Line 5,200,000, Found 4,403,208 valid positions this session.\n"
     ]
    },
    {
     "name": "stderr",
     "output_type": "stream",
     "text": [
      "Processing positions: 5253958lines [1:33:39, 598.30lines/s] "
     ]
    },
    {
     "name": "stdout",
     "output_type": "stream",
     "text": [
      "\n",
      "✓ Previous chunk 87 saved. Ledger updated.\n",
      "\n",
      "Submitting chunk 88 (50000 positions) for asynchronous saving...\n",
      "  Chunk 88 submitted. Main thread continues.\n",
      "  Total processed (optimistic): 4,450,000 positions\n",
      "  Progress: Line 5,253,917\n"
     ]
    },
    {
     "name": "stderr",
     "output_type": "stream",
     "text": [
      "Processing positions: 5300142lines [1:34:28, 1053.23lines/s]"
     ]
    },
    {
     "name": "stdout",
     "output_type": "stream",
     "text": [
      "Progress checkpoint: Line 5,300,000, Found 4,489,669 valid positions this session.\n"
     ]
    },
    {
     "name": "stderr",
     "output_type": "stream",
     "text": [
      "Processing positions: 5312471lines [1:34:41, 848.60lines/s] "
     ]
    },
    {
     "name": "stdout",
     "output_type": "stream",
     "text": [
      "\n",
      "✓ Previous chunk 88 saved. Ledger updated.\n",
      "\n",
      "Submitting chunk 89 (50000 positions) for asynchronous saving...\n",
      "  Chunk 89 submitted. Main thread continues.\n",
      "  Total processed (optimistic): 4,500,000 positions\n",
      "  Progress: Line 5,312,475\n"
     ]
    },
    {
     "name": "stderr",
     "output_type": "stream",
     "text": [
      "Processing positions: 5371519lines [1:35:45, 604.18lines/s] "
     ]
    },
    {
     "name": "stdout",
     "output_type": "stream",
     "text": [
      "\n",
      "✓ Previous chunk 89 saved. Ledger updated.\n",
      "\n",
      "Submitting chunk 90 (50000 positions) for asynchronous saving...\n",
      "  Chunk 90 submitted. Main thread continues.\n",
      "  Total processed (optimistic): 4,550,000 positions\n",
      "  Progress: Line 5,371,513\n"
     ]
    },
    {
     "name": "stderr",
     "output_type": "stream",
     "text": [
      "Processing positions: 5400185lines [1:36:14, 920.66lines/s] "
     ]
    },
    {
     "name": "stdout",
     "output_type": "stream",
     "text": [
      "Progress checkpoint: Line 5,400,000, Found 4,574,662 valid positions this session.\n"
     ]
    },
    {
     "name": "stderr",
     "output_type": "stream",
     "text": [
      "Processing positions: 5427659lines [1:36:47, 574.30lines/s]"
     ]
    },
    {
     "name": "stdout",
     "output_type": "stream",
     "text": [
      "\n",
      "✓ Previous chunk 90 saved. Ledger updated.\n",
      "\n",
      "Submitting chunk 91 (50000 positions) for asynchronous saving...\n",
      "  Chunk 91 submitted. Main thread continues.\n",
      "  Total processed (optimistic): 4,600,000 positions\n",
      "  Progress: Line 5,427,610\n"
     ]
    },
    {
     "name": "stderr",
     "output_type": "stream",
     "text": [
      "Processing positions: 5482137lines [1:37:50, 979.62lines/s] "
     ]
    },
    {
     "name": "stdout",
     "output_type": "stream",
     "text": [
      "\n",
      "✓ Previous chunk 91 saved. Ledger updated.\n",
      "\n",
      "Submitting chunk 92 (50000 positions) for asynchronous saving...\n",
      "  Chunk 92 submitted. Main thread continues.\n",
      "  Total processed (optimistic): 4,650,000 positions\n",
      "  Progress: Line 5,482,162\n"
     ]
    },
    {
     "name": "stderr",
     "output_type": "stream",
     "text": [
      "Processing positions: 5500100lines [1:38:10, 1045.94lines/s]"
     ]
    },
    {
     "name": "stdout",
     "output_type": "stream",
     "text": [
      "Progress checkpoint: Line 5,500,000, Found 4,666,120 valid positions this session.\n"
     ]
    },
    {
     "name": "stderr",
     "output_type": "stream",
     "text": [
      "Processing positions: 5537095lines [1:38:50, 990.40lines/s] "
     ]
    },
    {
     "name": "stdout",
     "output_type": "stream",
     "text": [
      "\n",
      "✓ Previous chunk 92 saved. Ledger updated.\n",
      "\n",
      "Submitting chunk 93 (50000 positions) for asynchronous saving...\n",
      "  Chunk 93 submitted. Main thread continues.\n",
      "  Total processed (optimistic): 4,700,000 positions\n",
      "  Progress: Line 5,537,118\n"
     ]
    },
    {
     "name": "stderr",
     "output_type": "stream",
     "text": [
      "Processing positions: 5593484lines [1:39:49, 805.03lines/s] "
     ]
    },
    {
     "name": "stdout",
     "output_type": "stream",
     "text": [
      "\n",
      "✓ Previous chunk 93 saved. Ledger updated.\n",
      "\n",
      "Submitting chunk 94 (50000 positions) for asynchronous saving...\n",
      "  Chunk 94 submitted. Main thread continues.\n",
      "  Total processed (optimistic): 4,750,000 positions\n",
      "  Progress: Line 5,593,478\n"
     ]
    },
    {
     "name": "stderr",
     "output_type": "stream",
     "text": [
      "Processing positions: 5600166lines [1:39:56, 977.33lines/s] "
     ]
    },
    {
     "name": "stdout",
     "output_type": "stream",
     "text": [
      "Progress checkpoint: Line 5,600,000, Found 4,755,684 valid positions this session.\n"
     ]
    },
    {
     "name": "stderr",
     "output_type": "stream",
     "text": [
      "Processing positions: 5649900lines [1:40:46, 751.37lines/s] "
     ]
    },
    {
     "name": "stdout",
     "output_type": "stream",
     "text": [
      "\n",
      "✓ Previous chunk 94 saved. Ledger updated.\n",
      "\n",
      "Submitting chunk 95 (50000 positions) for asynchronous saving...\n",
      "  Chunk 95 submitted. Main thread continues.\n",
      "  Total processed (optimistic): 4,800,000 positions\n",
      "  Progress: Line 5,649,882\n"
     ]
    },
    {
     "name": "stderr",
     "output_type": "stream",
     "text": [
      "Processing positions: 5700165lines [1:41:35, 1072.83lines/s]"
     ]
    },
    {
     "name": "stdout",
     "output_type": "stream",
     "text": [
      "Progress checkpoint: Line 5,700,000, Found 4,843,944 valid positions this session.\n"
     ]
    },
    {
     "name": "stderr",
     "output_type": "stream",
     "text": [
      "Processing positions: 5707205lines [1:41:41, 831.69lines/s] "
     ]
    },
    {
     "name": "stdout",
     "output_type": "stream",
     "text": [
      "\n",
      "✓ Previous chunk 95 saved. Ledger updated.\n",
      "\n",
      "Submitting chunk 96 (50000 positions) for asynchronous saving...\n",
      "  Chunk 96 submitted. Main thread continues.\n",
      "  Total processed (optimistic): 4,850,000 positions\n",
      "  Progress: Line 5,707,189\n"
     ]
    },
    {
     "name": "stderr",
     "output_type": "stream",
     "text": [
      "Processing positions: 5763515lines [1:42:31, 1115.89lines/s]"
     ]
    },
    {
     "name": "stdout",
     "output_type": "stream",
     "text": [
      "\n",
      "✓ Previous chunk 96 saved. Ledger updated.\n",
      "\n",
      "Submitting chunk 97 (50000 positions) for asynchronous saving...\n",
      "  Chunk 97 submitted. Main thread continues.\n",
      "  Total processed (optimistic): 4,900,000 positions\n",
      "  Progress: Line 5,763,520\n"
     ]
    },
    {
     "name": "stderr",
     "output_type": "stream",
     "text": [
      "Processing positions: 5800142lines [1:43:03, 1148.83lines/s]"
     ]
    },
    {
     "name": "stdout",
     "output_type": "stream",
     "text": [
      "Progress checkpoint: Line 5,800,000, Found 4,931,140 valid positions this session.\n"
     ]
    },
    {
     "name": "stderr",
     "output_type": "stream",
     "text": [
      "Processing positions: 5826508lines [1:43:24, 1230.23lines/s]"
     ]
    },
    {
     "name": "stdout",
     "output_type": "stream",
     "text": [
      "\n",
      "✓ Previous chunk 97 saved. Ledger updated.\n",
      "\n",
      "Submitting chunk 98 (50000 positions) for asynchronous saving...\n",
      "  Chunk 98 submitted. Main thread continues.\n",
      "  Total processed (optimistic): 4,950,000 positions\n",
      "  Progress: Line 5,826,471\n"
     ]
    },
    {
     "name": "stderr",
     "output_type": "stream",
     "text": [
      "Processing positions: 5888857lines [1:44:20, 736.46lines/s] "
     ]
    },
    {
     "name": "stdout",
     "output_type": "stream",
     "text": [
      "\n",
      "✓ Previous chunk 98 saved. Ledger updated.\n",
      "\n",
      "Submitting chunk 99 (50000 positions) for asynchronous saving...\n",
      "  Chunk 99 submitted. Main thread continues.\n",
      "  Total processed (optimistic): 5,000,000 positions\n",
      "  Progress: Line 5,888,857\n"
     ]
    },
    {
     "name": "stderr",
     "output_type": "stream",
     "text": [
      "Processing positions: 5900253lines [1:44:32, 1184.89lines/s]"
     ]
    },
    {
     "name": "stdout",
     "output_type": "stream",
     "text": [
      "Progress checkpoint: Line 5,900,000, Found 5,009,225 valid positions this session.\n"
     ]
    },
    {
     "name": "stderr",
     "output_type": "stream",
     "text": [
      "Processing positions: 5949717lines [1:45:22, 1132.74lines/s]"
     ]
    },
    {
     "name": "stdout",
     "output_type": "stream",
     "text": [
      "\n",
      "✓ Previous chunk 99 saved. Ledger updated.\n",
      "\n",
      "Submitting chunk 100 (50000 positions) for asynchronous saving...\n",
      "  Chunk 100 submitted. Main thread continues.\n",
      "  Total processed (optimistic): 5,050,000 positions\n",
      "  Progress: Line 5,949,765\n"
     ]
    },
    {
     "name": "stderr",
     "output_type": "stream",
     "text": [
      "Processing positions: 6000155lines [1:46:14, 911.52lines/s] "
     ]
    },
    {
     "name": "stdout",
     "output_type": "stream",
     "text": [
      "Progress checkpoint: Line 6,000,000, Found 5,091,775 valid positions this session.\n"
     ]
    },
    {
     "name": "stderr",
     "output_type": "stream",
     "text": [
      "Processing positions: 6009941lines [1:46:25, 734.46lines/s] "
     ]
    },
    {
     "name": "stdout",
     "output_type": "stream",
     "text": [
      "\n",
      "✓ Previous chunk 100 saved. Ledger updated.\n",
      "\n",
      "Submitting chunk 101 (50000 positions) for asynchronous saving...\n",
      "  Chunk 101 submitted. Main thread continues.\n",
      "  Total processed (optimistic): 5,100,000 positions\n",
      "  Progress: Line 6,009,940\n"
     ]
    },
    {
     "name": "stderr",
     "output_type": "stream",
     "text": [
      "Processing positions: 6069875lines [1:47:27, 611.13lines/s] "
     ]
    },
    {
     "name": "stdout",
     "output_type": "stream",
     "text": [
      "\n",
      "✓ Previous chunk 101 saved. Ledger updated.\n",
      "\n",
      "Submitting chunk 102 (50000 positions) for asynchronous saving...\n",
      "  Chunk 102 submitted. Main thread continues.\n",
      "  Total processed (optimistic): 5,150,000 positions\n",
      "  Progress: Line 6,069,821\n"
     ]
    },
    {
     "name": "stderr",
     "output_type": "stream",
     "text": [
      "Processing positions: 6100153lines [1:47:58, 868.81lines/s] "
     ]
    },
    {
     "name": "stdout",
     "output_type": "stream",
     "text": [
      "Progress checkpoint: Line 6,100,000, Found 5,175,293 valid positions this session.\n"
     ]
    },
    {
     "name": "stderr",
     "output_type": "stream",
     "text": [
      "Processing positions: 6129801lines [1:48:29, 630.14lines/s] "
     ]
    },
    {
     "name": "stdout",
     "output_type": "stream",
     "text": [
      "\n",
      "✓ Previous chunk 102 saved. Ledger updated.\n",
      "\n",
      "Submitting chunk 103 (50000 positions) for asynchronous saving...\n",
      "  Chunk 103 submitted. Main thread continues.\n",
      "  Total processed (optimistic): 5,200,000 positions\n",
      "  Progress: Line 6,129,787\n"
     ]
    },
    {
     "name": "stderr",
     "output_type": "stream",
     "text": [
      "Processing positions: 6190497lines [1:49:31, 736.90lines/s] "
     ]
    },
    {
     "name": "stdout",
     "output_type": "stream",
     "text": [
      "\n",
      "✓ Previous chunk 103 saved. Ledger updated.\n",
      "\n",
      "Submitting chunk 104 (50000 positions) for asynchronous saving...\n",
      "  Chunk 104 submitted. Main thread continues.\n",
      "  Total processed (optimistic): 5,250,000 positions\n",
      "  Progress: Line 6,190,497\n"
     ]
    },
    {
     "name": "stderr",
     "output_type": "stream",
     "text": [
      "Processing positions: 6200060lines [1:49:41, 875.92lines/s] "
     ]
    },
    {
     "name": "stdout",
     "output_type": "stream",
     "text": [
      "Progress checkpoint: Line 6,200,000, Found 5,257,707 valid positions this session.\n"
     ]
    },
    {
     "name": "stderr",
     "output_type": "stream",
     "text": [
      "Processing positions: 6250699lines [1:50:35, 908.52lines/s] "
     ]
    },
    {
     "name": "stdout",
     "output_type": "stream",
     "text": [
      "\n",
      "✓ Previous chunk 104 saved. Ledger updated.\n",
      "\n",
      "Submitting chunk 105 (50000 positions) for asynchronous saving...\n",
      "  Chunk 105 submitted. Main thread continues.\n",
      "  Total processed (optimistic): 5,300,000 positions\n",
      "  Progress: Line 6,250,703\n"
     ]
    },
    {
     "name": "stderr",
     "output_type": "stream",
     "text": [
      "Processing positions: 6300110lines [1:51:25, 912.59lines/s] "
     ]
    },
    {
     "name": "stdout",
     "output_type": "stream",
     "text": [
      "Progress checkpoint: Line 6,300,000, Found 5,341,283 valid positions this session.\n"
     ]
    },
    {
     "name": "stderr",
     "output_type": "stream",
     "text": [
      "Processing positions: 6310121lines [1:51:37, 698.22lines/s] "
     ]
    },
    {
     "name": "stdout",
     "output_type": "stream",
     "text": [
      "\n",
      "✓ Previous chunk 105 saved. Ledger updated.\n",
      "\n",
      "Submitting chunk 106 (50000 positions) for asynchronous saving...\n",
      "  Chunk 106 submitted. Main thread continues.\n",
      "  Total processed (optimistic): 5,350,000 positions\n",
      "  Progress: Line 6,310,085\n"
     ]
    },
    {
     "name": "stderr",
     "output_type": "stream",
     "text": [
      "Processing positions: 6369043lines [1:52:40, 689.88lines/s] "
     ]
    },
    {
     "name": "stdout",
     "output_type": "stream",
     "text": [
      "\n",
      "✓ Previous chunk 106 saved. Ledger updated.\n",
      "\n",
      "Submitting chunk 107 (50000 positions) for asynchronous saving...\n",
      "  Chunk 107 submitted. Main thread continues.\n",
      "  Total processed (optimistic): 5,400,000 positions\n",
      "  Progress: Line 6,369,041\n"
     ]
    },
    {
     "name": "stderr",
     "output_type": "stream",
     "text": [
      "Processing positions: 6400113lines [1:53:13, 877.89lines/s] "
     ]
    },
    {
     "name": "stdout",
     "output_type": "stream",
     "text": [
      "Progress checkpoint: Line 6,400,000, Found 5,426,303 valid positions this session.\n"
     ]
    },
    {
     "name": "stderr",
     "output_type": "stream",
     "text": [
      "Processing positions: 6427747lines [1:53:43, 804.93lines/s] "
     ]
    },
    {
     "name": "stdout",
     "output_type": "stream",
     "text": [
      "\n",
      "✓ Previous chunk 107 saved. Ledger updated.\n",
      "\n",
      "Submitting chunk 108 (50000 positions) for asynchronous saving...\n",
      "  Chunk 108 submitted. Main thread continues.\n",
      "  Total processed (optimistic): 5,450,000 positions\n",
      "  Progress: Line 6,427,747\n"
     ]
    },
    {
     "name": "stderr",
     "output_type": "stream",
     "text": [
      "Processing positions: 6486033lines [1:54:47, 585.08lines/s] "
     ]
    },
    {
     "name": "stdout",
     "output_type": "stream",
     "text": [
      "\n",
      "✓ Previous chunk 108 saved. Ledger updated.\n",
      "\n",
      "Submitting chunk 109 (50000 positions) for asynchronous saving...\n",
      "  Chunk 109 submitted. Main thread continues.\n",
      "  Total processed (optimistic): 5,500,000 positions\n",
      "  Progress: Line 6,485,967\n"
     ]
    },
    {
     "name": "stderr",
     "output_type": "stream",
     "text": [
      "Processing positions: 6500181lines [1:55:03, 979.15lines/s] "
     ]
    },
    {
     "name": "stdout",
     "output_type": "stream",
     "text": [
      "Progress checkpoint: Line 6,500,000, Found 5,512,210 valid positions this session.\n"
     ]
    },
    {
     "name": "stderr",
     "output_type": "stream",
     "text": [
      "Processing positions: 6544494lines [1:55:53, 614.41lines/s] "
     ]
    },
    {
     "name": "stdout",
     "output_type": "stream",
     "text": [
      "\n",
      "✓ Previous chunk 109 saved. Ledger updated.\n",
      "\n",
      "Submitting chunk 110 (50000 positions) for asynchronous saving...\n",
      "  Chunk 110 submitted. Main thread continues.\n",
      "  Total processed (optimistic): 5,550,000 positions\n",
      "  Progress: Line 6,544,440\n"
     ]
    },
    {
     "name": "stderr",
     "output_type": "stream",
     "text": [
      "Processing positions: 6600115lines [1:56:52, 906.80lines/s] "
     ]
    },
    {
     "name": "stdout",
     "output_type": "stream",
     "text": [
      "Progress checkpoint: Line 6,600,000, Found 5,596,920 valid positions this session.\n"
     ]
    },
    {
     "name": "stderr",
     "output_type": "stream",
     "text": [
      "Processing positions: 6603576lines [1:56:56, 579.48lines/s]"
     ]
    },
    {
     "name": "stdout",
     "output_type": "stream",
     "text": [
      "\n",
      "✓ Previous chunk 110 saved. Ledger updated.\n",
      "\n",
      "Submitting chunk 111 (50000 positions) for asynchronous saving...\n",
      "  Chunk 111 submitted. Main thread continues.\n",
      "  Total processed (optimistic): 5,600,000 positions\n",
      "  Progress: Line 6,603,501\n"
     ]
    },
    {
     "name": "stderr",
     "output_type": "stream",
     "text": [
      "Processing positions: 6662516lines [1:58:02, 690.01lines/s] "
     ]
    },
    {
     "name": "stdout",
     "output_type": "stream",
     "text": [
      "\n",
      "✓ Previous chunk 111 saved. Ledger updated.\n",
      "\n",
      "Submitting chunk 112 (50000 positions) for asynchronous saving...\n",
      "  Chunk 112 submitted. Main thread continues.\n",
      "  Total processed (optimistic): 5,650,000 positions\n",
      "  Progress: Line 6,662,490\n"
     ]
    },
    {
     "name": "stderr",
     "output_type": "stream",
     "text": [
      "Processing positions: 6700091lines [1:58:42, 944.00lines/s] "
     ]
    },
    {
     "name": "stdout",
     "output_type": "stream",
     "text": [
      "Progress checkpoint: Line 6,700,000, Found 5,681,439 valid positions this session.\n"
     ]
    },
    {
     "name": "stderr",
     "output_type": "stream",
     "text": [
      "Processing positions: 6722414lines [1:59:07, 599.64lines/s] "
     ]
    },
    {
     "name": "stdout",
     "output_type": "stream",
     "text": [
      "\n",
      "✓ Previous chunk 112 saved. Ledger updated.\n",
      "\n",
      "Submitting chunk 113 (50000 positions) for asynchronous saving...\n",
      "  Chunk 113 submitted. Main thread continues.\n",
      "  Total processed (optimistic): 5,700,000 positions\n",
      "  Progress: Line 6,722,343\n"
     ]
    },
    {
     "name": "stderr",
     "output_type": "stream",
     "text": [
      "Processing positions: 6780509lines [2:00:13, 558.62lines/s] "
     ]
    },
    {
     "name": "stdout",
     "output_type": "stream",
     "text": [
      "\n",
      "✓ Previous chunk 113 saved. Ledger updated.\n",
      "\n",
      "Submitting chunk 114 (50000 positions) for asynchronous saving...\n",
      "  Chunk 114 submitted. Main thread continues.\n",
      "  Total processed (optimistic): 5,750,000 positions\n",
      "  Progress: Line 6,780,464\n"
     ]
    },
    {
     "name": "stderr",
     "output_type": "stream",
     "text": [
      "Processing positions: 6800010lines [2:00:34, 983.74lines/s] "
     ]
    },
    {
     "name": "stdout",
     "output_type": "stream",
     "text": [
      "Progress checkpoint: Line 6,800,000, Found 5,766,708 valid positions this session.\n"
     ]
    },
    {
     "name": "stderr",
     "output_type": "stream",
     "text": [
      "Processing positions: 6838454lines [2:01:18, 946.85lines/s] "
     ]
    },
    {
     "name": "stdout",
     "output_type": "stream",
     "text": [
      "\n",
      "✓ Previous chunk 114 saved. Ledger updated.\n",
      "\n",
      "Submitting chunk 115 (50000 positions) for asynchronous saving...\n",
      "  Chunk 115 submitted. Main thread continues.\n",
      "  Total processed (optimistic): 5,800,000 positions\n",
      "  Progress: Line 6,838,474\n"
     ]
    },
    {
     "name": "stderr",
     "output_type": "stream",
     "text": [
      "Processing positions: 6898440lines [2:02:21, 657.58lines/s] "
     ]
    },
    {
     "name": "stdout",
     "output_type": "stream",
     "text": [
      "\n",
      "✓ Previous chunk 115 saved. Ledger updated.\n",
      "\n",
      "Submitting chunk 116 (50000 positions) for asynchronous saving...\n",
      "  Chunk 116 submitted. Main thread continues.\n",
      "  Total processed (optimistic): 5,850,000 positions\n",
      "  Progress: Line 6,898,434\n"
     ]
    },
    {
     "name": "stderr",
     "output_type": "stream",
     "text": [
      "Processing positions: 6900208lines [2:02:24, 1019.95lines/s]"
     ]
    },
    {
     "name": "stdout",
     "output_type": "stream",
     "text": [
      "Progress checkpoint: Line 6,900,000, Found 5,851,379 valid positions this session.\n"
     ]
    },
    {
     "name": "stderr",
     "output_type": "stream",
     "text": [
      "Processing positions: 6958620lines [2:03:25, 753.15lines/s] "
     ]
    },
    {
     "name": "stdout",
     "output_type": "stream",
     "text": [
      "\n",
      "✓ Previous chunk 116 saved. Ledger updated.\n",
      "\n",
      "Submitting chunk 117 (50000 positions) for asynchronous saving...\n",
      "  Chunk 117 submitted. Main thread continues.\n",
      "  Total processed (optimistic): 5,900,000 positions\n",
      "  Progress: Line 6,958,555\n"
     ]
    },
    {
     "name": "stderr",
     "output_type": "stream",
     "text": [
      "Processing positions: 7000131lines [2:04:05, 965.19lines/s] "
     ]
    },
    {
     "name": "stdout",
     "output_type": "stream",
     "text": [
      "Progress checkpoint: Line 7,000,000, Found 5,934,040 valid positions this session.\n"
     ]
    },
    {
     "name": "stderr",
     "output_type": "stream",
     "text": [
      "Processing positions: 7019259lines [2:04:25, 687.79lines/s] "
     ]
    },
    {
     "name": "stdout",
     "output_type": "stream",
     "text": [
      "\n",
      "✓ Previous chunk 117 saved. Ledger updated.\n",
      "\n",
      "Submitting chunk 118 (50000 positions) for asynchronous saving...\n",
      "  Chunk 118 submitted. Main thread continues.\n",
      "  Total processed (optimistic): 5,950,000 positions\n",
      "  Progress: Line 7,019,213\n"
     ]
    },
    {
     "name": "stderr",
     "output_type": "stream",
     "text": [
      "Processing positions: 7078241lines [2:05:27, 913.53lines/s] "
     ]
    },
    {
     "name": "stdout",
     "output_type": "stream",
     "text": [
      "\n",
      "✓ Previous chunk 118 saved. Ledger updated.\n",
      "\n",
      "Submitting chunk 119 (50000 positions) for asynchronous saving...\n",
      "  Chunk 119 submitted. Main thread continues.\n",
      "  Total processed (optimistic): 6,000,000 positions\n",
      "  Progress: Line 7,078,252\n"
     ]
    },
    {
     "name": "stderr",
     "output_type": "stream",
     "text": [
      "Processing positions: 7100182lines [2:05:48, 1118.74lines/s]"
     ]
    },
    {
     "name": "stdout",
     "output_type": "stream",
     "text": [
      "Progress checkpoint: Line 7,100,000, Found 6,018,408 valid positions this session.\n"
     ]
    },
    {
     "name": "stderr",
     "output_type": "stream",
     "text": [
      "Processing positions: 7136985lines [2:06:28, 576.06lines/s] "
     ]
    },
    {
     "name": "stdout",
     "output_type": "stream",
     "text": [
      "\n",
      "✓ Previous chunk 119 saved. Ledger updated.\n",
      "\n",
      "Submitting chunk 120 (50000 positions) for asynchronous saving...\n",
      "  Chunk 120 submitted. Main thread continues.\n",
      "  Total processed (optimistic): 6,050,000 positions\n",
      "  Progress: Line 7,136,969\n"
     ]
    },
    {
     "name": "stderr",
     "output_type": "stream",
     "text": [
      "Processing positions: 7194011lines [2:07:29, 1099.43lines/s]"
     ]
    },
    {
     "name": "stdout",
     "output_type": "stream",
     "text": [
      "\n",
      "✓ Previous chunk 120 saved. Ledger updated.\n",
      "\n",
      "Submitting chunk 121 (50000 positions) for asynchronous saving...\n",
      "  Chunk 121 submitted. Main thread continues.\n",
      "  Total processed (optimistic): 6,100,000 positions\n",
      "  Progress: Line 7,194,012\n"
     ]
    },
    {
     "name": "stderr",
     "output_type": "stream",
     "text": [
      "Processing positions: 7200122lines [2:07:36, 885.40lines/s] "
     ]
    },
    {
     "name": "stdout",
     "output_type": "stream",
     "text": [
      "Progress checkpoint: Line 7,200,000, Found 6,104,999 valid positions this session.\n"
     ]
    },
    {
     "name": "stderr",
     "output_type": "stream",
     "text": [
      "Processing positions: 7254087lines [2:08:32, 758.68lines/s] "
     ]
    },
    {
     "name": "stdout",
     "output_type": "stream",
     "text": [
      "\n",
      "✓ Previous chunk 121 saved. Ledger updated.\n",
      "\n",
      "Submitting chunk 122 (50000 positions) for asynchronous saving...\n",
      "  Chunk 122 submitted. Main thread continues.\n",
      "  Total processed (optimistic): 6,150,000 positions\n",
      "  Progress: Line 7,254,002\n"
     ]
    },
    {
     "name": "stderr",
     "output_type": "stream",
     "text": [
      "Processing positions: 7300216lines [2:09:20, 972.25lines/s] "
     ]
    },
    {
     "name": "stdout",
     "output_type": "stream",
     "text": [
      "Progress checkpoint: Line 7,300,000, Found 6,188,927 valid positions this session.\n"
     ]
    },
    {
     "name": "stderr",
     "output_type": "stream",
     "text": [
      "Processing positions: 7313372lines [2:09:34, 723.91lines/s] "
     ]
    },
    {
     "name": "stdout",
     "output_type": "stream",
     "text": [
      "\n",
      "✓ Previous chunk 122 saved. Ledger updated.\n",
      "\n",
      "Submitting chunk 123 (50000 positions) for asynchronous saving...\n",
      "  Chunk 123 submitted. Main thread continues.\n",
      "  Total processed (optimistic): 6,200,000 positions\n",
      "  Progress: Line 7,313,281\n"
     ]
    },
    {
     "name": "stderr",
     "output_type": "stream",
     "text": [
      "Processing positions: 7373037lines [2:10:37, 767.72lines/s] "
     ]
    },
    {
     "name": "stdout",
     "output_type": "stream",
     "text": [
      "\n",
      "✓ Previous chunk 123 saved. Ledger updated.\n",
      "\n",
      "Submitting chunk 124 (50000 positions) for asynchronous saving...\n",
      "  Chunk 124 submitted. Main thread continues.\n",
      "  Total processed (optimistic): 6,250,000 positions\n",
      "  Progress: Line 7,373,005\n"
     ]
    },
    {
     "name": "stderr",
     "output_type": "stream",
     "text": [
      "Processing positions: 7400117lines [2:11:06, 979.13lines/s] "
     ]
    },
    {
     "name": "stdout",
     "output_type": "stream",
     "text": [
      "Progress checkpoint: Line 7,400,000, Found 6,272,413 valid positions this session.\n"
     ]
    },
    {
     "name": "stderr",
     "output_type": "stream",
     "text": [
      "Processing positions: 7432482lines [2:11:41, 779.41lines/s] "
     ]
    },
    {
     "name": "stdout",
     "output_type": "stream",
     "text": [
      "\n",
      "✓ Previous chunk 124 saved. Ledger updated.\n",
      "\n",
      "Submitting chunk 125 (50000 positions) for asynchronous saving...\n",
      "  Chunk 125 submitted. Main thread continues.\n",
      "  Total processed (optimistic): 6,300,000 positions\n",
      "  Progress: Line 7,432,482\n"
     ]
    },
    {
     "name": "stderr",
     "output_type": "stream",
     "text": [
      "Processing positions: 7492075lines [2:12:42, 766.85lines/s] "
     ]
    },
    {
     "name": "stdout",
     "output_type": "stream",
     "text": [
      "\n",
      "✓ Previous chunk 125 saved. Ledger updated.\n",
      "\n",
      "Submitting chunk 126 (50000 positions) for asynchronous saving...\n",
      "  Chunk 126 submitted. Main thread continues.\n",
      "  Total processed (optimistic): 6,350,000 positions\n",
      "  Progress: Line 7,492,069\n"
     ]
    },
    {
     "name": "stderr",
     "output_type": "stream",
     "text": [
      "Processing positions: 7500150lines [2:12:51, 1074.03lines/s]"
     ]
    },
    {
     "name": "stdout",
     "output_type": "stream",
     "text": [
      "Progress checkpoint: Line 7,500,000, Found 6,356,816 valid positions this session.\n"
     ]
    },
    {
     "name": "stderr",
     "output_type": "stream",
     "text": [
      "Processing positions: 7551508lines [2:13:43, 900.24lines/s] "
     ]
    },
    {
     "name": "stdout",
     "output_type": "stream",
     "text": [
      "\n",
      "✓ Previous chunk 126 saved. Ledger updated.\n",
      "\n",
      "Submitting chunk 127 (50000 positions) for asynchronous saving...\n",
      "  Chunk 127 submitted. Main thread continues.\n",
      "  Total processed (optimistic): 6,400,000 positions\n",
      "  Progress: Line 7,551,543\n"
     ]
    },
    {
     "name": "stderr",
     "output_type": "stream",
     "text": [
      "Processing positions: 7600161lines [2:14:32, 938.12lines/s] "
     ]
    },
    {
     "name": "stdout",
     "output_type": "stream",
     "text": [
      "Progress checkpoint: Line 7,600,000, Found 6,441,389 valid positions this session.\n"
     ]
    },
    {
     "name": "stderr",
     "output_type": "stream",
     "text": [
      "Processing positions: 7610365lines [2:14:43, 687.45lines/s] "
     ]
    },
    {
     "name": "stdout",
     "output_type": "stream",
     "text": [
      "\n",
      "✓ Previous chunk 127 saved. Ledger updated.\n",
      "\n",
      "Submitting chunk 128 (50000 positions) for asynchronous saving...\n",
      "  Chunk 128 submitted. Main thread continues.\n",
      "  Total processed (optimistic): 6,450,000 positions\n",
      "  Progress: Line 7,610,305\n"
     ]
    },
    {
     "name": "stderr",
     "output_type": "stream",
     "text": [
      "Processing positions: 7669636lines [2:15:45, 969.78lines/s] "
     ]
    },
    {
     "name": "stdout",
     "output_type": "stream",
     "text": [
      "\n",
      "✓ Previous chunk 128 saved. Ledger updated.\n",
      "\n",
      "Submitting chunk 129 (50000 positions) for asynchronous saving...\n",
      "  Chunk 129 submitted. Main thread continues.\n",
      "  Total processed (optimistic): 6,500,000 positions\n",
      "  Progress: Line 7,669,647\n"
     ]
    },
    {
     "name": "stderr",
     "output_type": "stream",
     "text": [
      "Processing positions: 7700152lines [2:16:16, 1046.17lines/s]"
     ]
    },
    {
     "name": "stdout",
     "output_type": "stream",
     "text": [
      "Progress checkpoint: Line 7,700,000, Found 6,525,674 valid positions this session.\n"
     ]
    },
    {
     "name": "stderr",
     "output_type": "stream",
     "text": [
      "Processing positions: 7728637lines [2:16:47, 987.64lines/s] "
     ]
    },
    {
     "name": "stdout",
     "output_type": "stream",
     "text": [
      "\n",
      "✓ Previous chunk 129 saved. Ledger updated.\n",
      "\n",
      "Submitting chunk 130 (50000 positions) for asynchronous saving...\n",
      "  Chunk 130 submitted. Main thread continues.\n",
      "  Total processed (optimistic): 6,550,000 positions\n",
      "  Progress: Line 7,728,645\n"
     ]
    },
    {
     "name": "stderr",
     "output_type": "stream",
     "text": [
      "Processing positions: 7787059lines [2:17:49, 581.17lines/s] "
     ]
    },
    {
     "name": "stdout",
     "output_type": "stream",
     "text": [
      "\n",
      "✓ Previous chunk 130 saved. Ledger updated.\n",
      "\n",
      "Submitting chunk 131 (50000 positions) for asynchronous saving...\n",
      "  Chunk 131 submitted. Main thread continues.\n",
      "  Total processed (optimistic): 6,600,000 positions\n",
      "  Progress: Line 7,787,015\n"
     ]
    },
    {
     "name": "stderr",
     "output_type": "stream",
     "text": [
      "Processing positions: 7800093lines [2:18:04, 1048.15lines/s]"
     ]
    },
    {
     "name": "stdout",
     "output_type": "stream",
     "text": [
      "Progress checkpoint: Line 7,800,000, Found 6,611,491 valid positions this session.\n"
     ]
    },
    {
     "name": "stderr",
     "output_type": "stream",
     "text": [
      "Processing positions: 7845140lines [2:18:51, 820.04lines/s] "
     ]
    },
    {
     "name": "stdout",
     "output_type": "stream",
     "text": [
      "\n",
      "✓ Previous chunk 131 saved. Ledger updated.\n",
      "\n",
      "Submitting chunk 132 (50000 positions) for asynchronous saving...\n",
      "  Chunk 132 submitted. Main thread continues.\n",
      "  Total processed (optimistic): 6,650,000 positions\n",
      "  Progress: Line 7,845,078\n"
     ]
    },
    {
     "name": "stderr",
     "output_type": "stream",
     "text": [
      "Processing positions: 7900101lines [2:19:50, 1008.39lines/s]"
     ]
    },
    {
     "name": "stdout",
     "output_type": "stream",
     "text": [
      "Progress checkpoint: Line 7,900,000, Found 6,696,900 valid positions this session.\n"
     ]
    },
    {
     "name": "stderr",
     "output_type": "stream",
     "text": [
      "Processing positions: 7903651lines [2:19:54, 725.48lines/s] "
     ]
    },
    {
     "name": "stdout",
     "output_type": "stream",
     "text": [
      "\n",
      "✓ Previous chunk 132 saved. Ledger updated.\n",
      "\n",
      "Submitting chunk 133 (50000 positions) for asynchronous saving...\n",
      "  Chunk 133 submitted. Main thread continues.\n",
      "  Total processed (optimistic): 6,700,000 positions\n",
      "  Progress: Line 7,903,648\n"
     ]
    },
    {
     "name": "stderr",
     "output_type": "stream",
     "text": [
      "Processing positions: 7962957lines [2:20:57, 531.70lines/s] "
     ]
    },
    {
     "name": "stdout",
     "output_type": "stream",
     "text": [
      "\n",
      "✓ Previous chunk 133 saved. Ledger updated.\n",
      "\n",
      "Submitting chunk 134 (50000 positions) for asynchronous saving...\n",
      "  Chunk 134 submitted. Main thread continues.\n",
      "  Total processed (optimistic): 6,750,000 positions\n",
      "  Progress: Line 7,962,904\n"
     ]
    },
    {
     "name": "stderr",
     "output_type": "stream",
     "text": [
      "Processing positions: 8000177lines [2:21:36, 945.12lines/s] "
     ]
    },
    {
     "name": "stdout",
     "output_type": "stream",
     "text": [
      "Progress checkpoint: Line 8,000,000, Found 6,781,918 valid positions this session.\n"
     ]
    },
    {
     "name": "stderr",
     "output_type": "stream",
     "text": [
      "Processing positions: 8022040lines [2:21:59, 820.60lines/s] "
     ]
    },
    {
     "name": "stdout",
     "output_type": "stream",
     "text": [
      "\n",
      "✓ Previous chunk 134 saved. Ledger updated.\n",
      "\n",
      "Submitting chunk 135 (50000 positions) for asynchronous saving...\n",
      "  Chunk 135 submitted. Main thread continues.\n",
      "  Total processed (optimistic): 6,800,000 positions\n",
      "  Progress: Line 8,022,040\n"
     ]
    },
    {
     "name": "stderr",
     "output_type": "stream",
     "text": [
      "Processing positions: 8080822lines [2:23:01, 702.07lines/s] "
     ]
    },
    {
     "name": "stdout",
     "output_type": "stream",
     "text": [
      "\n",
      "✓ Previous chunk 135 saved. Ledger updated.\n",
      "\n",
      "Submitting chunk 136 (50000 positions) for asynchronous saving...\n",
      "  Chunk 136 submitted. Main thread continues.\n",
      "  Total processed (optimistic): 6,850,000 positions\n",
      "  Progress: Line 8,080,822\n"
     ]
    },
    {
     "name": "stderr",
     "output_type": "stream",
     "text": [
      "Processing positions: 8100101lines [2:23:21, 1044.03lines/s]"
     ]
    },
    {
     "name": "stdout",
     "output_type": "stream",
     "text": [
      "Progress checkpoint: Line 8,100,000, Found 6,866,372 valid positions this session.\n"
     ]
    },
    {
     "name": "stderr",
     "output_type": "stream",
     "text": [
      "Processing positions: 8140276lines [2:24:03, 679.24lines/s] "
     ]
    },
    {
     "name": "stdout",
     "output_type": "stream",
     "text": [
      "\n",
      "✓ Previous chunk 136 saved. Ledger updated.\n",
      "\n",
      "Submitting chunk 137 (50000 positions) for asynchronous saving...\n",
      "  Chunk 137 submitted. Main thread continues.\n",
      "  Total processed (optimistic): 6,900,000 positions\n",
      "  Progress: Line 8,140,256\n"
     ]
    },
    {
     "name": "stderr",
     "output_type": "stream",
     "text": [
      "Processing positions: 8200190lines [2:25:07, 965.80lines/s] "
     ]
    },
    {
     "name": "stdout",
     "output_type": "stream",
     "text": [
      "Progress checkpoint: Line 8,200,000, Found 6,949,617 valid positions this session.\n"
     ]
    },
    {
     "name": "stderr",
     "output_type": "stream",
     "text": [
      "Processing positions: 8200507lines [2:25:07, 961.48lines/s] "
     ]
    },
    {
     "name": "stdout",
     "output_type": "stream",
     "text": [
      "\n",
      "✓ Previous chunk 137 saved. Ledger updated.\n",
      "\n",
      "Submitting chunk 138 (50000 positions) for asynchronous saving...\n",
      "  Chunk 138 submitted. Main thread continues.\n",
      "  Total processed (optimistic): 6,950,000 positions\n",
      "  Progress: Line 8,200,511\n"
     ]
    },
    {
     "name": "stderr",
     "output_type": "stream",
     "text": [
      "Processing positions: 8260452lines [2:26:10, 717.66lines/s] "
     ]
    },
    {
     "name": "stdout",
     "output_type": "stream",
     "text": [
      "\n",
      "✓ Previous chunk 138 saved. Ledger updated.\n",
      "\n",
      "Submitting chunk 139 (50000 positions) for asynchronous saving...\n",
      "  Chunk 139 submitted. Main thread continues.\n",
      "  Total processed (optimistic): 7,000,000 positions\n",
      "  Progress: Line 8,260,394\n"
     ]
    },
    {
     "name": "stderr",
     "output_type": "stream",
     "text": [
      "Processing positions: 8300224lines [2:26:51, 1160.92lines/s]"
     ]
    },
    {
     "name": "stdout",
     "output_type": "stream",
     "text": [
      "Progress checkpoint: Line 8,300,000, Found 7,032,952 valid positions this session.\n"
     ]
    },
    {
     "name": "stderr",
     "output_type": "stream",
     "text": [
      "Processing positions: 8320644lines [2:27:14, 636.18lines/s] "
     ]
    },
    {
     "name": "stdout",
     "output_type": "stream",
     "text": [
      "\n",
      "✓ Previous chunk 139 saved. Ledger updated.\n",
      "\n",
      "Submitting chunk 140 (50000 positions) for asynchronous saving...\n",
      "  Chunk 140 submitted. Main thread continues.\n",
      "  Total processed (optimistic): 7,050,000 positions\n",
      "  Progress: Line 8,320,623\n"
     ]
    },
    {
     "name": "stderr",
     "output_type": "stream",
     "text": [
      "Processing positions: 8381077lines [2:28:18, 993.63lines/s] "
     ]
    },
    {
     "name": "stdout",
     "output_type": "stream",
     "text": [
      "\n",
      "✓ Previous chunk 140 saved. Ledger updated.\n",
      "\n",
      "Submitting chunk 141 (50000 positions) for asynchronous saving...\n",
      "  Chunk 141 submitted. Main thread continues.\n",
      "  Total processed (optimistic): 7,100,000 positions\n",
      "  Progress: Line 8,381,099\n"
     ]
    },
    {
     "name": "stderr",
     "output_type": "stream",
     "text": [
      "Processing positions: 8400221lines [2:28:38, 1027.47lines/s]"
     ]
    },
    {
     "name": "stdout",
     "output_type": "stream",
     "text": [
      "Progress checkpoint: Line 8,400,000, Found 7,115,954 valid positions this session.\n"
     ]
    },
    {
     "name": "stderr",
     "output_type": "stream",
     "text": [
      "Processing positions: 8440095lines [2:29:23, 1006.28lines/s]"
     ]
    },
    {
     "name": "stdout",
     "output_type": "stream",
     "text": [
      "\n",
      "✓ Previous chunk 141 saved. Ledger updated.\n",
      "\n",
      "Submitting chunk 142 (50000 positions) for asynchronous saving...\n",
      "  Chunk 142 submitted. Main thread continues.\n",
      "  Total processed (optimistic): 7,150,000 positions\n",
      "  Progress: Line 8,440,120\n"
     ]
    },
    {
     "name": "stderr",
     "output_type": "stream",
     "text": [
      "Processing positions: 8496821lines [2:30:28, 606.11lines/s] "
     ]
    },
    {
     "name": "stdout",
     "output_type": "stream",
     "text": [
      "\n",
      "✓ Previous chunk 142 saved. Ledger updated.\n",
      "\n",
      "Submitting chunk 143 (50000 positions) for asynchronous saving...\n",
      "  Chunk 143 submitted. Main thread continues.\n",
      "  Total processed (optimistic): 7,200,000 positions\n",
      "  Progress: Line 8,496,775\n"
     ]
    },
    {
     "name": "stderr",
     "output_type": "stream",
     "text": [
      "Processing positions: 8500204lines [2:30:32, 1004.26lines/s]"
     ]
    },
    {
     "name": "stdout",
     "output_type": "stream",
     "text": [
      "Progress checkpoint: Line 8,500,000, Found 7,202,834 valid positions this session.\n"
     ]
    },
    {
     "name": "stderr",
     "output_type": "stream",
     "text": [
      "Processing positions: 8554851lines [2:31:33, 635.70lines/s] "
     ]
    },
    {
     "name": "stdout",
     "output_type": "stream",
     "text": [
      "\n",
      "✓ Previous chunk 143 saved. Ledger updated.\n",
      "\n",
      "Submitting chunk 144 (50000 positions) for asynchronous saving...\n",
      "  Chunk 144 submitted. Main thread continues.\n",
      "  Total processed (optimistic): 7,250,000 positions\n",
      "  Progress: Line 8,554,819\n"
     ]
    },
    {
     "name": "stderr",
     "output_type": "stream",
     "text": [
      "Processing positions: 8600114lines [2:32:21, 838.78lines/s] "
     ]
    },
    {
     "name": "stdout",
     "output_type": "stream",
     "text": [
      "Progress checkpoint: Line 8,600,000, Found 7,287,250 valid positions this session.\n"
     ]
    },
    {
     "name": "stderr",
     "output_type": "stream",
     "text": [
      "Processing positions: 8615444lines [2:32:38, 684.95lines/s] "
     ]
    },
    {
     "name": "stdout",
     "output_type": "stream",
     "text": [
      "\n",
      "✓ Previous chunk 144 saved. Ledger updated.\n",
      "\n",
      "Submitting chunk 145 (50000 positions) for asynchronous saving...\n",
      "  Chunk 145 submitted. Main thread continues.\n",
      "  Total processed (optimistic): 7,300,000 positions\n",
      "  Progress: Line 8,615,394\n"
     ]
    },
    {
     "name": "stderr",
     "output_type": "stream",
     "text": [
      "Processing positions: 8674430lines [2:33:44, 623.78lines/s] "
     ]
    },
    {
     "name": "stdout",
     "output_type": "stream",
     "text": [
      "\n",
      "✓ Previous chunk 145 saved. Ledger updated.\n",
      "\n",
      "Submitting chunk 146 (50000 positions) for asynchronous saving...\n",
      "  Chunk 146 submitted. Main thread continues.\n",
      "  Total processed (optimistic): 7,350,000 positions\n",
      "  Progress: Line 8,674,429\n"
     ]
    },
    {
     "name": "stderr",
     "output_type": "stream",
     "text": [
      "Processing positions: 8700115lines [2:34:13, 1027.09lines/s]"
     ]
    },
    {
     "name": "stdout",
     "output_type": "stream",
     "text": [
      "Progress checkpoint: Line 8,700,000, Found 7,371,285 valid positions this session.\n"
     ]
    },
    {
     "name": "stderr",
     "output_type": "stream",
     "text": [
      "Processing positions: 8733189lines [2:34:51, 915.44lines/s] "
     ]
    },
    {
     "name": "stdout",
     "output_type": "stream",
     "text": [
      "\n",
      "✓ Previous chunk 146 saved. Ledger updated.\n",
      "\n",
      "Submitting chunk 147 (50000 positions) for asynchronous saving...\n",
      "  Chunk 147 submitted. Main thread continues.\n",
      "  Total processed (optimistic): 7,400,000 positions\n",
      "  Progress: Line 8,733,213\n"
     ]
    },
    {
     "name": "stderr",
     "output_type": "stream",
     "text": [
      "Processing positions: 8791830lines [2:35:56, 820.01lines/s] "
     ]
    },
    {
     "name": "stdout",
     "output_type": "stream",
     "text": [
      "\n",
      "✓ Previous chunk 147 saved. Ledger updated.\n",
      "\n",
      "Submitting chunk 148 (50000 positions) for asynchronous saving...\n",
      "  Chunk 148 submitted. Main thread continues.\n",
      "  Total processed (optimistic): 7,450,000 positions\n",
      "  Progress: Line 8,791,830\n"
     ]
    },
    {
     "name": "stderr",
     "output_type": "stream",
     "text": [
      "Processing positions: 8800154lines [2:36:06, 816.11lines/s] "
     ]
    },
    {
     "name": "stdout",
     "output_type": "stream",
     "text": [
      "Progress checkpoint: Line 8,800,000, Found 7,456,891 valid positions this session.\n"
     ]
    },
    {
     "name": "stderr",
     "output_type": "stream",
     "text": [
      "Processing positions: 8851345lines [2:37:02, 767.63lines/s] "
     ]
    },
    {
     "name": "stdout",
     "output_type": "stream",
     "text": [
      "\n",
      "✓ Previous chunk 148 saved. Ledger updated.\n",
      "\n",
      "Submitting chunk 149 (50000 positions) for asynchronous saving...\n",
      "  Chunk 149 submitted. Main thread continues.\n",
      "  Total processed (optimistic): 7,500,000 positions\n",
      "  Progress: Line 8,851,340\n"
     ]
    },
    {
     "name": "stderr",
     "output_type": "stream",
     "text": [
      "Processing positions: 8900156lines [2:37:56, 877.77lines/s] "
     ]
    },
    {
     "name": "stdout",
     "output_type": "stream",
     "text": [
      "Progress checkpoint: Line 8,900,000, Found 7,541,598 valid positions this session.\n"
     ]
    },
    {
     "name": "stderr",
     "output_type": "stream",
     "text": [
      "Processing positions: 8910076lines [2:38:06, 797.51lines/s] "
     ]
    },
    {
     "name": "stdout",
     "output_type": "stream",
     "text": [
      "\n",
      "✓ Previous chunk 149 saved. Ledger updated.\n",
      "\n",
      "Submitting chunk 150 (50000 positions) for asynchronous saving...\n",
      "  Chunk 150 submitted. Main thread continues.\n",
      "  Total processed (optimistic): 7,550,000 positions\n",
      "  Progress: Line 8,910,058\n"
     ]
    },
    {
     "name": "stderr",
     "output_type": "stream",
     "text": [
      "Processing positions: 8969546lines [2:39:12, 655.81lines/s] "
     ]
    },
    {
     "name": "stdout",
     "output_type": "stream",
     "text": [
      "\n",
      "✓ Previous chunk 150 saved. Ledger updated.\n",
      "\n",
      "Submitting chunk 151 (50000 positions) for asynchronous saving...\n",
      "  Chunk 151 submitted. Main thread continues.\n",
      "  Total processed (optimistic): 7,600,000 positions\n",
      "  Progress: Line 8,969,543\n"
     ]
    },
    {
     "name": "stderr",
     "output_type": "stream",
     "text": [
      "Processing positions: 9000209lines [2:39:46, 1180.22lines/s]"
     ]
    },
    {
     "name": "stdout",
     "output_type": "stream",
     "text": [
      "Progress checkpoint: Line 9,000,000, Found 7,626,228 valid positions this session.\n"
     ]
    },
    {
     "name": "stderr",
     "output_type": "stream",
     "text": [
      "Processing positions: 9027554lines [2:40:18, 556.90lines/s] "
     ]
    },
    {
     "name": "stdout",
     "output_type": "stream",
     "text": [
      "\n",
      "✓ Previous chunk 151 saved. Ledger updated.\n",
      "\n",
      "Submitting chunk 152 (50000 positions) for asynchronous saving...\n",
      "  Chunk 152 submitted. Main thread continues.\n",
      "  Total processed (optimistic): 7,650,000 positions\n",
      "  Progress: Line 9,027,503\n"
     ]
    },
    {
     "name": "stderr",
     "output_type": "stream",
     "text": [
      "Processing positions: 9085520lines [2:41:22, 851.51lines/s] "
     ]
    },
    {
     "name": "stdout",
     "output_type": "stream",
     "text": [
      "\n",
      "✓ Previous chunk 152 saved. Ledger updated.\n",
      "\n",
      "Submitting chunk 153 (50000 positions) for asynchronous saving...\n",
      "  Chunk 153 submitted. Main thread continues.\n",
      "  Total processed (optimistic): 7,700,000 positions\n",
      "  Progress: Line 9,085,562\n"
     ]
    },
    {
     "name": "stderr",
     "output_type": "stream",
     "text": [
      "Processing positions: 9100063lines [2:41:38, 909.86lines/s] "
     ]
    },
    {
     "name": "stdout",
     "output_type": "stream",
     "text": [
      "Progress checkpoint: Line 9,100,000, Found 7,712,376 valid positions this session.\n"
     ]
    },
    {
     "name": "stderr",
     "output_type": "stream",
     "text": [
      "Processing positions: 9143206lines [2:42:27, 826.01lines/s] "
     ]
    },
    {
     "name": "stdout",
     "output_type": "stream",
     "text": [
      "\n",
      "✓ Previous chunk 153 saved. Ledger updated.\n",
      "\n",
      "Submitting chunk 154 (50000 positions) for asynchronous saving...\n",
      "  Chunk 154 submitted. Main thread continues.\n",
      "  Total processed (optimistic): 7,750,000 positions\n",
      "  Progress: Line 9,143,195\n"
     ]
    },
    {
     "name": "stderr",
     "output_type": "stream",
     "text": [
      "Processing positions: 9200200lines [2:43:30, 1092.95lines/s]"
     ]
    },
    {
     "name": "stdout",
     "output_type": "stream",
     "text": [
      "Progress checkpoint: Line 9,200,000, Found 7,798,345 valid positions this session.\n"
     ]
    },
    {
     "name": "stderr",
     "output_type": "stream",
     "text": [
      "Processing positions: 9202046lines [2:43:32, 709.96lines/s] "
     ]
    },
    {
     "name": "stdout",
     "output_type": "stream",
     "text": [
      "\n",
      "✓ Previous chunk 154 saved. Ledger updated.\n",
      "\n",
      "Submitting chunk 155 (50000 positions) for asynchronous saving...\n",
      "  Chunk 155 submitted. Main thread continues.\n",
      "  Total processed (optimistic): 7,800,000 positions\n",
      "  Progress: Line 9,202,044\n"
     ]
    },
    {
     "name": "stderr",
     "output_type": "stream",
     "text": [
      "Processing positions: 9261316lines [2:44:36, 632.04lines/s] "
     ]
    },
    {
     "name": "stdout",
     "output_type": "stream",
     "text": [
      "\n",
      "✓ Previous chunk 155 saved. Ledger updated.\n",
      "\n",
      "Submitting chunk 156 (50000 positions) for asynchronous saving...\n",
      "  Chunk 156 submitted. Main thread continues.\n",
      "  Total processed (optimistic): 7,850,000 positions\n",
      "  Progress: Line 9,261,277\n"
     ]
    },
    {
     "name": "stderr",
     "output_type": "stream",
     "text": [
      "Processing positions: 9300087lines [2:45:18, 849.76lines/s] "
     ]
    },
    {
     "name": "stdout",
     "output_type": "stream",
     "text": [
      "Progress checkpoint: Line 9,300,000, Found 7,881,937 valid positions this session.\n"
     ]
    },
    {
     "name": "stderr",
     "output_type": "stream",
     "text": [
      "Processing positions: 9321665lines [2:45:41, 683.13lines/s] "
     ]
    },
    {
     "name": "stdout",
     "output_type": "stream",
     "text": [
      "\n",
      "✓ Previous chunk 156 saved. Ledger updated.\n",
      "\n",
      "Submitting chunk 157 (50000 positions) for asynchronous saving...\n",
      "  Chunk 157 submitted. Main thread continues.\n",
      "  Total processed (optimistic): 7,900,000 positions\n",
      "  Progress: Line 9,321,578\n"
     ]
    },
    {
     "name": "stderr",
     "output_type": "stream",
     "text": [
      "Processing positions: 9381486lines [2:46:43, 686.11lines/s] "
     ]
    },
    {
     "name": "stdout",
     "output_type": "stream",
     "text": [
      "\n",
      "✓ Previous chunk 157 saved. Ledger updated.\n",
      "\n",
      "Submitting chunk 158 (50000 positions) for asynchronous saving...\n",
      "  Chunk 158 submitted. Main thread continues.\n",
      "  Total processed (optimistic): 7,950,000 positions\n",
      "  Progress: Line 9,381,463\n"
     ]
    },
    {
     "name": "stderr",
     "output_type": "stream",
     "text": [
      "Processing positions: 9400090lines [2:47:03, 1032.54lines/s]"
     ]
    },
    {
     "name": "stdout",
     "output_type": "stream",
     "text": [
      "Progress checkpoint: Line 9,400,000, Found 7,965,612 valid positions this session.\n"
     ]
    },
    {
     "name": "stderr",
     "output_type": "stream",
     "text": [
      "Processing positions: 9440968lines [2:47:47, 593.08lines/s] "
     ]
    },
    {
     "name": "stdout",
     "output_type": "stream",
     "text": [
      "\n",
      "✓ Previous chunk 158 saved. Ledger updated.\n",
      "\n",
      "Submitting chunk 159 (50000 positions) for asynchronous saving...\n",
      "  Chunk 159 submitted. Main thread continues.\n",
      "  Total processed (optimistic): 8,000,000 positions\n",
      "  Progress: Line 9,440,914\n"
     ]
    },
    {
     "name": "stderr",
     "output_type": "stream",
     "text": [
      "Processing positions: 9498580lines [2:48:50, 643.18lines/s] "
     ]
    },
    {
     "name": "stdout",
     "output_type": "stream",
     "text": [
      "\n",
      "✓ Previous chunk 159 saved. Ledger updated.\n",
      "\n",
      "Submitting chunk 160 (50000 positions) for asynchronous saving...\n",
      "  Chunk 160 submitted. Main thread continues.\n",
      "  Total processed (optimistic): 8,050,000 positions\n",
      "  Progress: Line 9,498,553\n"
     ]
    },
    {
     "name": "stderr",
     "output_type": "stream",
     "text": [
      "Processing positions: 9500209lines [2:48:52, 1042.17lines/s]"
     ]
    },
    {
     "name": "stdout",
     "output_type": "stream",
     "text": [
      "Progress checkpoint: Line 9,500,000, Found 8,051,227 valid positions this session.\n"
     ]
    },
    {
     "name": "stderr",
     "output_type": "stream",
     "text": [
      "Processing positions: 9556805lines [2:49:53, 750.63lines/s] "
     ]
    },
    {
     "name": "stdout",
     "output_type": "stream",
     "text": [
      "\n",
      "✓ Previous chunk 160 saved. Ledger updated.\n",
      "\n",
      "Submitting chunk 161 (50000 positions) for asynchronous saving...\n",
      "  Chunk 161 submitted. Main thread continues.\n",
      "  Total processed (optimistic): 8,100,000 positions\n",
      "  Progress: Line 9,556,778\n"
     ]
    },
    {
     "name": "stderr",
     "output_type": "stream",
     "text": [
      "Processing positions: 9600145lines [2:50:39, 1059.52lines/s]"
     ]
    },
    {
     "name": "stdout",
     "output_type": "stream",
     "text": [
      "Progress checkpoint: Line 9,600,000, Found 8,137,048 valid positions this session.\n"
     ]
    },
    {
     "name": "stderr",
     "output_type": "stream",
     "text": [
      "Processing positions: 9615000lines [2:50:55, 891.36lines/s] "
     ]
    },
    {
     "name": "stdout",
     "output_type": "stream",
     "text": [
      "\n",
      "✓ Previous chunk 161 saved. Ledger updated.\n",
      "\n",
      "Submitting chunk 162 (50000 positions) for asynchronous saving...\n",
      "  Chunk 162 submitted. Main thread continues.\n",
      "  Total processed (optimistic): 8,150,000 positions\n",
      "  Progress: Line 9,615,016\n"
     ]
    },
    {
     "name": "stderr",
     "output_type": "stream",
     "text": [
      "Processing positions: 9672980lines [2:51:58, 748.61lines/s] "
     ]
    },
    {
     "name": "stdout",
     "output_type": "stream",
     "text": [
      "\n",
      "✓ Previous chunk 162 saved. Ledger updated.\n",
      "\n",
      "Submitting chunk 163 (50000 positions) for asynchronous saving...\n",
      "  Chunk 163 submitted. Main thread continues.\n",
      "  Total processed (optimistic): 8,200,000 positions\n",
      "  Progress: Line 9,672,948\n"
     ]
    },
    {
     "name": "stderr",
     "output_type": "stream",
     "text": [
      "Processing positions: 9700085lines [2:52:25, 972.17lines/s] "
     ]
    },
    {
     "name": "stdout",
     "output_type": "stream",
     "text": [
      "Progress checkpoint: Line 9,700,000, Found 8,223,476 valid positions this session.\n"
     ]
    },
    {
     "name": "stderr",
     "output_type": "stream",
     "text": [
      "Processing positions: 9730818lines [2:52:56, 1041.60lines/s]"
     ]
    },
    {
     "name": "stdout",
     "output_type": "stream",
     "text": [
      "\n",
      "✓ Previous chunk 163 saved. Ledger updated.\n",
      "\n",
      "Submitting chunk 164 (50000 positions) for asynchronous saving...\n",
      "  Chunk 164 submitted. Main thread continues.\n",
      "  Total processed (optimistic): 8,250,000 positions\n",
      "  Progress: Line 9,730,838\n"
     ]
    },
    {
     "name": "stderr",
     "output_type": "stream",
     "text": [
      "Processing positions: 9788731lines [2:53:56, 646.45lines/s] "
     ]
    },
    {
     "name": "stdout",
     "output_type": "stream",
     "text": [
      "\n",
      "✓ Previous chunk 164 saved. Ledger updated.\n",
      "\n",
      "Submitting chunk 165 (50000 positions) for asynchronous saving...\n",
      "  Chunk 165 submitted. Main thread continues.\n",
      "  Total processed (optimistic): 8,300,000 positions\n",
      "  Progress: Line 9,788,725\n"
     ]
    },
    {
     "name": "stderr",
     "output_type": "stream",
     "text": [
      "Processing positions: 9800125lines [2:54:09, 1044.84lines/s]"
     ]
    },
    {
     "name": "stdout",
     "output_type": "stream",
     "text": [
      "Progress checkpoint: Line 9,800,000, Found 8,309,873 valid positions this session.\n"
     ]
    },
    {
     "name": "stderr",
     "output_type": "stream",
     "text": [
      "Processing positions: 9845803lines [2:54:57, 622.94lines/s] "
     ]
    },
    {
     "name": "stdout",
     "output_type": "stream",
     "text": [
      "\n",
      "✓ Previous chunk 165 saved. Ledger updated.\n",
      "\n",
      "Submitting chunk 166 (50000 positions) for asynchronous saving...\n",
      "  Chunk 166 submitted. Main thread continues.\n",
      "  Total processed (optimistic): 8,350,000 positions\n",
      "  Progress: Line 9,845,777\n"
     ]
    },
    {
     "name": "stderr",
     "output_type": "stream",
     "text": [
      "Processing positions: 9900093lines [2:55:56, 875.22lines/s] "
     ]
    },
    {
     "name": "stdout",
     "output_type": "stream",
     "text": [
      "Progress checkpoint: Line 9,900,000, Found 8,397,973 valid positions this session.\n"
     ]
    },
    {
     "name": "stderr",
     "output_type": "stream",
     "text": [
      "Processing positions: 9902291lines [2:55:59, 657.83lines/s] "
     ]
    },
    {
     "name": "stdout",
     "output_type": "stream",
     "text": [
      "\n",
      "✓ Previous chunk 166 saved. Ledger updated.\n",
      "\n",
      "Submitting chunk 167 (50000 positions) for asynchronous saving...\n",
      "  Chunk 167 submitted. Main thread continues.\n",
      "  Total processed (optimistic): 8,400,000 positions\n",
      "  Progress: Line 9,902,281\n"
     ]
    },
    {
     "name": "stderr",
     "output_type": "stream",
     "text": [
      "Processing positions: 9959309lines [2:57:01, 645.91lines/s] "
     ]
    },
    {
     "name": "stdout",
     "output_type": "stream",
     "text": [
      "\n",
      "✓ Previous chunk 167 saved. Ledger updated.\n",
      "\n",
      "Submitting chunk 168 (50000 positions) for asynchronous saving...\n",
      "  Chunk 168 submitted. Main thread continues.\n",
      "  Total processed (optimistic): 8,450,000 positions\n",
      "  Progress: Line 9,959,280\n"
     ]
    },
    {
     "name": "stderr",
     "output_type": "stream",
     "text": [
      "Processing positions: 10000133lines [2:57:41, 965.74lines/s]"
     ]
    },
    {
     "name": "stdout",
     "output_type": "stream",
     "text": [
      "Progress checkpoint: Line 10,000,000, Found 8,484,635 valid positions this session.\n"
     ]
    },
    {
     "name": "stderr",
     "output_type": "stream",
     "text": [
      "Processing positions: 10018062lines [2:58:00, 630.87lines/s] "
     ]
    },
    {
     "name": "stdout",
     "output_type": "stream",
     "text": [
      "\n",
      "✓ Previous chunk 168 saved. Ledger updated.\n",
      "\n",
      "Submitting chunk 169 (50000 positions) for asynchronous saving...\n",
      "  Chunk 169 submitted. Main thread continues.\n",
      "  Total processed (optimistic): 8,500,000 positions\n",
      "  Progress: Line 10,017,989\n"
     ]
    },
    {
     "name": "stderr",
     "output_type": "stream",
     "text": [
      "Processing positions: 10076429lines [2:59:02, 900.76lines/s] "
     ]
    },
    {
     "name": "stdout",
     "output_type": "stream",
     "text": [
      "\n",
      "✓ Previous chunk 169 saved. Ledger updated.\n",
      "\n",
      "Submitting chunk 170 (50000 positions) for asynchronous saving...\n",
      "  Chunk 170 submitted. Main thread continues.\n",
      "  Total processed (optimistic): 8,550,000 positions\n",
      "  Progress: Line 10,076,435\n"
     ]
    },
    {
     "name": "stderr",
     "output_type": "stream",
     "text": [
      "Processing positions: 10100228lines [2:59:25, 1051.11lines/s]"
     ]
    },
    {
     "name": "stdout",
     "output_type": "stream",
     "text": [
      "Progress checkpoint: Line 10,100,000, Found 8,569,777 valid positions this session.\n"
     ]
    },
    {
     "name": "stderr",
     "output_type": "stream",
     "text": [
      "Processing positions: 10135316lines [3:00:02, 696.57lines/s] "
     ]
    },
    {
     "name": "stdout",
     "output_type": "stream",
     "text": [
      "\n",
      "✓ Previous chunk 170 saved. Ledger updated.\n",
      "\n",
      "Submitting chunk 171 (50000 positions) for asynchronous saving...\n",
      "  Chunk 171 submitted. Main thread continues.\n",
      "  Total processed (optimistic): 8,600,000 positions\n",
      "  Progress: Line 10,135,256\n"
     ]
    },
    {
     "name": "stderr",
     "output_type": "stream",
     "text": [
      "Processing positions: 10193164lines [3:01:02, 929.86lines/s] "
     ]
    },
    {
     "name": "stdout",
     "output_type": "stream",
     "text": [
      "\n",
      "✓ Previous chunk 171 saved. Ledger updated.\n",
      "\n",
      "Submitting chunk 172 (50000 positions) for asynchronous saving...\n",
      "  Chunk 172 submitted. Main thread continues.\n",
      "  Total processed (optimistic): 8,650,000 positions\n",
      "  Progress: Line 10,193,180\n"
     ]
    },
    {
     "name": "stderr",
     "output_type": "stream",
     "text": [
      "Processing positions: 10200162lines [3:01:09, 1057.87lines/s]"
     ]
    },
    {
     "name": "stdout",
     "output_type": "stream",
     "text": [
      "Progress checkpoint: Line 10,200,000, Found 8,655,798 valid positions this session.\n"
     ]
    },
    {
     "name": "stderr",
     "output_type": "stream",
     "text": [
      "Processing positions: 10251420lines [3:02:03, 714.25lines/s] "
     ]
    },
    {
     "name": "stdout",
     "output_type": "stream",
     "text": [
      "\n",
      "✓ Previous chunk 172 saved. Ledger updated.\n",
      "\n",
      "Submitting chunk 173 (50000 positions) for asynchronous saving...\n",
      "  Chunk 173 submitted. Main thread continues.\n",
      "  Total processed (optimistic): 8,700,000 positions\n",
      "  Progress: Line 10,251,408\n"
     ]
    },
    {
     "name": "stderr",
     "output_type": "stream",
     "text": [
      "Processing positions: 10300090lines [3:02:53, 895.31lines/s] "
     ]
    },
    {
     "name": "stdout",
     "output_type": "stream",
     "text": [
      "Progress checkpoint: Line 10,300,000, Found 8,742,394 valid positions this session.\n"
     ]
    },
    {
     "name": "stderr",
     "output_type": "stream",
     "text": [
      "Processing positions: 10308575lines [3:03:03, 744.40lines/s] "
     ]
    },
    {
     "name": "stdout",
     "output_type": "stream",
     "text": [
      "\n",
      "✓ Previous chunk 173 saved. Ledger updated.\n",
      "\n",
      "Submitting chunk 174 (50000 positions) for asynchronous saving...\n",
      "  Chunk 174 submitted. Main thread continues.\n",
      "  Total processed (optimistic): 8,750,000 positions\n",
      "  Progress: Line 10,308,575\n"
     ]
    },
    {
     "name": "stderr",
     "output_type": "stream",
     "text": [
      "Processing positions: 10366348lines [3:04:04, 772.08lines/s] "
     ]
    },
    {
     "name": "stdout",
     "output_type": "stream",
     "text": [
      "\n",
      "✓ Previous chunk 174 saved. Ledger updated.\n",
      "\n",
      "Submitting chunk 175 (50000 positions) for asynchronous saving...\n",
      "  Chunk 175 submitted. Main thread continues.\n",
      "  Total processed (optimistic): 8,800,000 positions\n",
      "  Progress: Line 10,366,348\n"
     ]
    },
    {
     "name": "stderr",
     "output_type": "stream",
     "text": [
      "Processing positions: 10400178lines [3:04:39, 915.95lines/s] "
     ]
    },
    {
     "name": "stdout",
     "output_type": "stream",
     "text": [
      "Progress checkpoint: Line 10,400,000, Found 8,829,017 valid positions this session.\n"
     ]
    },
    {
     "name": "stderr",
     "output_type": "stream",
     "text": [
      "Processing positions: 10424026lines [3:05:05, 711.52lines/s] "
     ]
    },
    {
     "name": "stdout",
     "output_type": "stream",
     "text": [
      "\n",
      "✓ Previous chunk 175 saved. Ledger updated.\n",
      "\n",
      "Submitting chunk 176 (50000 positions) for asynchronous saving...\n",
      "  Chunk 176 submitted. Main thread continues.\n",
      "  Total processed (optimistic): 8,850,000 positions\n",
      "  Progress: Line 10,424,026\n"
     ]
    },
    {
     "name": "stderr",
     "output_type": "stream",
     "text": [
      "Processing positions: 10483354lines [3:06:04, 722.43lines/s] "
     ]
    },
    {
     "name": "stdout",
     "output_type": "stream",
     "text": [
      "\n",
      "✓ Previous chunk 176 saved. Ledger updated.\n",
      "\n",
      "Submitting chunk 177 (50000 positions) for asynchronous saving...\n",
      "  Chunk 177 submitted. Main thread continues.\n",
      "  Total processed (optimistic): 8,900,000 positions\n",
      "  Progress: Line 10,483,338\n"
     ]
    },
    {
     "name": "stderr",
     "output_type": "stream",
     "text": [
      "Processing positions: 10500176lines [3:06:21, 1002.50lines/s]"
     ]
    },
    {
     "name": "stdout",
     "output_type": "stream",
     "text": [
      "Progress checkpoint: Line 10,500,000, Found 8,914,466 valid positions this session.\n"
     ]
    },
    {
     "name": "stderr",
     "output_type": "stream",
     "text": [
      "Processing positions: 10540676lines [3:07:05, 845.95lines/s] "
     ]
    },
    {
     "name": "stdout",
     "output_type": "stream",
     "text": [
      "\n",
      "✓ Previous chunk 177 saved. Ledger updated.\n",
      "\n",
      "Submitting chunk 178 (50000 positions) for asynchronous saving...\n",
      "  Chunk 178 submitted. Main thread continues.\n",
      "  Total processed (optimistic): 8,950,000 positions\n",
      "  Progress: Line 10,540,698\n"
     ]
    },
    {
     "name": "stderr",
     "output_type": "stream",
     "text": [
      "Processing positions: 10598295lines [3:08:06, 593.34lines/s] "
     ]
    },
    {
     "name": "stdout",
     "output_type": "stream",
     "text": [
      "\n",
      "✓ Previous chunk 178 saved. Ledger updated.\n",
      "\n",
      "Submitting chunk 179 (50000 positions) for asynchronous saving...\n",
      "  Chunk 179 submitted. Main thread continues.\n",
      "  Total processed (optimistic): 9,000,000 positions\n",
      "  Progress: Line 10,598,285\n"
     ]
    },
    {
     "name": "stderr",
     "output_type": "stream",
     "text": [
      "Processing positions: 10600116lines [3:08:09, 842.21lines/s]"
     ]
    },
    {
     "name": "stdout",
     "output_type": "stream",
     "text": [
      "Progress checkpoint: Line 10,600,000, Found 9,001,457 valid positions this session.\n"
     ]
    },
    {
     "name": "stderr",
     "output_type": "stream",
     "text": [
      "Processing positions: 10655179lines [3:09:10, 715.77lines/s] "
     ]
    },
    {
     "name": "stdout",
     "output_type": "stream",
     "text": [
      "\n",
      "✓ Previous chunk 179 saved. Ledger updated.\n",
      "\n",
      "Submitting chunk 180 (50000 positions) for asynchronous saving...\n",
      "  Chunk 180 submitted. Main thread continues.\n",
      "  Total processed (optimistic): 9,050,000 positions\n",
      "  Progress: Line 10,655,179\n"
     ]
    },
    {
     "name": "stderr",
     "output_type": "stream",
     "text": [
      "Processing positions: 10700089lines [3:09:58, 1059.06lines/s]"
     ]
    },
    {
     "name": "stdout",
     "output_type": "stream",
     "text": [
      "Progress checkpoint: Line 10,700,000, Found 9,089,274 valid positions this session.\n"
     ]
    },
    {
     "name": "stderr",
     "output_type": "stream",
     "text": [
      "Processing positions: 10712602lines [3:10:11, 724.53lines/s] "
     ]
    },
    {
     "name": "stdout",
     "output_type": "stream",
     "text": [
      "\n",
      "✓ Previous chunk 180 saved. Ledger updated.\n",
      "\n",
      "Submitting chunk 181 (50000 positions) for asynchronous saving...\n",
      "  Chunk 181 submitted. Main thread continues.\n",
      "  Total processed (optimistic): 9,100,000 positions\n",
      "  Progress: Line 10,712,543\n"
     ]
    },
    {
     "name": "stderr",
     "output_type": "stream",
     "text": [
      "Processing positions: 10772905lines [3:11:14, 707.57lines/s] "
     ]
    },
    {
     "name": "stdout",
     "output_type": "stream",
     "text": [
      "\n",
      "✓ Previous chunk 181 saved. Ledger updated.\n",
      "\n",
      "Submitting chunk 182 (50000 positions) for asynchronous saving...\n",
      "  Chunk 182 submitted. Main thread continues.\n",
      "  Total processed (optimistic): 9,150,000 positions\n",
      "  Progress: Line 10,772,902\n"
     ]
    },
    {
     "name": "stderr",
     "output_type": "stream",
     "text": [
      "Processing positions: 10800101lines [3:11:44, 893.03lines/s] "
     ]
    },
    {
     "name": "stdout",
     "output_type": "stream",
     "text": [
      "Progress checkpoint: Line 10,800,000, Found 9,173,031 valid positions this session.\n"
     ]
    },
    {
     "name": "stderr",
     "output_type": "stream",
     "text": [
      "Processing positions: 10832268lines [3:12:20, 602.06lines/s] "
     ]
    },
    {
     "name": "stdout",
     "output_type": "stream",
     "text": [
      "\n",
      "✓ Previous chunk 182 saved. Ledger updated.\n",
      "\n",
      "Submitting chunk 183 (50000 positions) for asynchronous saving...\n",
      "  Chunk 183 submitted. Main thread continues.\n",
      "  Total processed (optimistic): 9,200,000 positions\n",
      "  Progress: Line 10,832,214\n"
     ]
    },
    {
     "name": "stderr",
     "output_type": "stream",
     "text": [
      "Processing positions: 10891018lines [3:13:24, 873.43lines/s] "
     ]
    },
    {
     "name": "stdout",
     "output_type": "stream",
     "text": [
      "\n",
      "✓ Previous chunk 183 saved. Ledger updated.\n",
      "\n",
      "Submitting chunk 184 (50000 positions) for asynchronous saving...\n",
      "  Chunk 184 submitted. Main thread continues.\n",
      "  Total processed (optimistic): 9,250,000 positions\n",
      "  Progress: Line 10,891,066\n"
     ]
    },
    {
     "name": "stderr",
     "output_type": "stream",
     "text": [
      "Processing positions: 10900129lines [3:13:34, 1140.23lines/s]"
     ]
    },
    {
     "name": "stdout",
     "output_type": "stream",
     "text": [
      "Progress checkpoint: Line 10,900,000, Found 9,257,594 valid positions this session.\n"
     ]
    },
    {
     "name": "stderr",
     "output_type": "stream",
     "text": [
      "Processing positions: 10949866lines [3:14:29, 706.60lines/s] "
     ]
    },
    {
     "name": "stdout",
     "output_type": "stream",
     "text": [
      "\n",
      "✓ Previous chunk 184 saved. Ledger updated.\n",
      "\n",
      "Submitting chunk 185 (50000 positions) for asynchronous saving...\n",
      "  Chunk 185 submitted. Main thread continues.\n",
      "  Total processed (optimistic): 9,300,000 positions\n",
      "  Progress: Line 10,949,789\n"
     ]
    },
    {
     "name": "stderr",
     "output_type": "stream",
     "text": [
      "Processing positions: 11000207lines [3:15:21, 1043.41lines/s]"
     ]
    },
    {
     "name": "stdout",
     "output_type": "stream",
     "text": [
      "Progress checkpoint: Line 11,000,000, Found 9,342,088 valid positions this session.\n"
     ]
    },
    {
     "name": "stderr",
     "output_type": "stream",
     "text": [
      "Processing positions: 11009552lines [3:15:31, 602.38lines/s] "
     ]
    },
    {
     "name": "stdout",
     "output_type": "stream",
     "text": [
      "\n",
      "✓ Previous chunk 185 saved. Ledger updated.\n",
      "\n",
      "Submitting chunk 186 (50000 positions) for asynchronous saving...\n",
      "  Chunk 186 submitted. Main thread continues.\n",
      "  Total processed (optimistic): 9,350,000 positions\n",
      "  Progress: Line 11,009,527\n"
     ]
    },
    {
     "name": "stderr",
     "output_type": "stream",
     "text": [
      "Processing positions: 11067982lines [3:16:34, 888.81lines/s] "
     ]
    },
    {
     "name": "stdout",
     "output_type": "stream",
     "text": [
      "\n",
      "✓ Previous chunk 186 saved. Ledger updated.\n",
      "\n",
      "Submitting chunk 187 (50000 positions) for asynchronous saving...\n",
      "  Chunk 187 submitted. Main thread continues.\n",
      "  Total processed (optimistic): 9,400,000 positions\n",
      "  Progress: Line 11,067,994\n"
     ]
    },
    {
     "name": "stderr",
     "output_type": "stream",
     "text": [
      "Processing positions: 11100179lines [3:17:10, 900.90lines/s] "
     ]
    },
    {
     "name": "stdout",
     "output_type": "stream",
     "text": [
      "Progress checkpoint: Line 11,100,000, Found 9,427,656 valid positions this session.\n"
     ]
    },
    {
     "name": "stderr",
     "output_type": "stream",
     "text": [
      "Processing positions: 11125696lines [3:17:38, 620.30lines/s] "
     ]
    },
    {
     "name": "stdout",
     "output_type": "stream",
     "text": [
      "\n",
      "✓ Previous chunk 187 saved. Ledger updated.\n",
      "\n",
      "Submitting chunk 188 (50000 positions) for asynchronous saving...\n",
      "  Chunk 188 submitted. Main thread continues.\n",
      "  Total processed (optimistic): 9,450,000 positions\n",
      "  Progress: Line 11,125,665\n"
     ]
    },
    {
     "name": "stderr",
     "output_type": "stream",
     "text": [
      "Processing positions: 11183501lines [3:18:40, 646.12lines/s] "
     ]
    },
    {
     "name": "stdout",
     "output_type": "stream",
     "text": [
      "\n",
      "✓ Previous chunk 188 saved. Ledger updated.\n",
      "\n",
      "Submitting chunk 189 (50000 positions) for asynchronous saving...\n",
      "  Chunk 189 submitted. Main thread continues.\n",
      "  Total processed (optimistic): 9,500,000 positions\n",
      "  Progress: Line 11,183,461\n"
     ]
    },
    {
     "name": "stderr",
     "output_type": "stream",
     "text": [
      "Processing positions: 11200129lines [3:18:58, 993.91lines/s] "
     ]
    },
    {
     "name": "stdout",
     "output_type": "stream",
     "text": [
      "Progress checkpoint: Line 11,200,000, Found 9,514,537 valid positions this session.\n"
     ]
    },
    {
     "name": "stderr",
     "output_type": "stream",
     "text": [
      "Processing positions: 11242013lines [3:19:42, 628.45lines/s] "
     ]
    },
    {
     "name": "stdout",
     "output_type": "stream",
     "text": [
      "\n",
      "✓ Previous chunk 189 saved. Ledger updated.\n",
      "\n",
      "Submitting chunk 190 (50000 positions) for asynchronous saving...\n",
      "  Chunk 190 submitted. Main thread continues.\n",
      "  Total processed (optimistic): 9,550,000 positions\n",
      "  Progress: Line 11,241,978\n"
     ]
    },
    {
     "name": "stderr",
     "output_type": "stream",
     "text": [
      "Processing positions: 11300111lines [3:20:43, 995.90lines/s] "
     ]
    },
    {
     "name": "stdout",
     "output_type": "stream",
     "text": [
      "Progress checkpoint: Line 11,300,000, Found 9,599,623 valid positions this session.\n"
     ]
    },
    {
     "name": "stderr",
     "output_type": "stream",
     "text": [
      "Processing positions: 11300450lines [3:20:43, 1091.29lines/s]"
     ]
    },
    {
     "name": "stdout",
     "output_type": "stream",
     "text": [
      "\n",
      "✓ Previous chunk 190 saved. Ledger updated.\n",
      "\n",
      "Submitting chunk 191 (50000 positions) for asynchronous saving...\n",
      "  Chunk 191 submitted. Main thread continues.\n",
      "  Total processed (optimistic): 9,600,000 positions\n",
      "  Progress: Line 11,300,455\n"
     ]
    },
    {
     "name": "stderr",
     "output_type": "stream",
     "text": [
      "Processing positions: 11358811lines [3:21:46, 596.70lines/s] "
     ]
    },
    {
     "name": "stdout",
     "output_type": "stream",
     "text": [
      "\n",
      "✓ Previous chunk 191 saved. Ledger updated.\n",
      "\n",
      "Submitting chunk 192 (50000 positions) for asynchronous saving...\n",
      "  Chunk 192 submitted. Main thread continues.\n",
      "  Total processed (optimistic): 9,650,000 positions\n",
      "  Progress: Line 11,358,802\n"
     ]
    },
    {
     "name": "stderr",
     "output_type": "stream",
     "text": [
      "Processing positions: 11400146lines [3:22:33, 916.31lines/s] "
     ]
    },
    {
     "name": "stdout",
     "output_type": "stream",
     "text": [
      "Progress checkpoint: Line 11,400,000, Found 9,685,353 valid positions this session.\n"
     ]
    },
    {
     "name": "stderr",
     "output_type": "stream",
     "text": [
      "Processing positions: 11416620lines [3:22:51, 681.03lines/s] "
     ]
    },
    {
     "name": "stdout",
     "output_type": "stream",
     "text": [
      "\n",
      "✓ Previous chunk 192 saved. Ledger updated.\n",
      "\n",
      "Submitting chunk 193 (50000 positions) for asynchronous saving...\n",
      "  Chunk 193 submitted. Main thread continues.\n",
      "  Total processed (optimistic): 9,700,000 positions\n",
      "  Progress: Line 11,416,617\n"
     ]
    },
    {
     "name": "stderr",
     "output_type": "stream",
     "text": [
      "Processing positions: 11475323lines [3:23:54, 1075.80lines/s]"
     ]
    },
    {
     "name": "stdout",
     "output_type": "stream",
     "text": [
      "\n",
      "✓ Previous chunk 193 saved. Ledger updated.\n",
      "\n",
      "Submitting chunk 194 (50000 positions) for asynchronous saving...\n",
      "  Chunk 194 submitted. Main thread continues.\n",
      "  Total processed (optimistic): 9,750,000 positions\n",
      "  Progress: Line 11,475,332\n"
     ]
    },
    {
     "name": "stderr",
     "output_type": "stream",
     "text": [
      "Processing positions: 11500090lines [3:24:21, 913.20lines/s] "
     ]
    },
    {
     "name": "stdout",
     "output_type": "stream",
     "text": [
      "Progress checkpoint: Line 11,500,000, Found 9,770,365 valid positions this session.\n"
     ]
    },
    {
     "name": "stderr",
     "output_type": "stream",
     "text": [
      "Processing positions: 11535620lines [3:24:59, 591.14lines/s] "
     ]
    },
    {
     "name": "stdout",
     "output_type": "stream",
     "text": [
      "\n",
      "✓ Previous chunk 194 saved. Ledger updated.\n",
      "\n",
      "Submitting chunk 195 (50000 positions) for asynchronous saving...\n",
      "  Chunk 195 submitted. Main thread continues.\n",
      "  Total processed (optimistic): 9,800,000 positions\n",
      "  Progress: Line 11,535,567\n"
     ]
    },
    {
     "name": "stderr",
     "output_type": "stream",
     "text": [
      "Processing positions: 11594311lines [3:26:01, 720.36lines/s] "
     ]
    },
    {
     "name": "stdout",
     "output_type": "stream",
     "text": [
      "\n",
      "✓ Previous chunk 195 saved. Ledger updated.\n",
      "\n",
      "Submitting chunk 196 (50000 positions) for asynchronous saving...\n",
      "  Chunk 196 submitted. Main thread continues.\n",
      "  Total processed (optimistic): 9,850,000 positions\n",
      "  Progress: Line 11,594,310\n"
     ]
    },
    {
     "name": "stderr",
     "output_type": "stream",
     "text": [
      "Processing positions: 11600136lines [3:26:08, 1049.99lines/s]"
     ]
    },
    {
     "name": "stdout",
     "output_type": "stream",
     "text": [
      "Progress checkpoint: Line 11,600,000, Found 9,854,780 valid positions this session.\n"
     ]
    },
    {
     "name": "stderr",
     "output_type": "stream",
     "text": [
      "Processing positions: 11653469lines [3:27:04, 998.78lines/s] "
     ]
    },
    {
     "name": "stdout",
     "output_type": "stream",
     "text": [
      "\n",
      "✓ Previous chunk 196 saved. Ledger updated.\n",
      "\n",
      "Submitting chunk 197 (50000 positions) for asynchronous saving...\n",
      "  Chunk 197 submitted. Main thread continues.\n",
      "  Total processed (optimistic): 9,900,000 positions\n",
      "  Progress: Line 11,653,488\n"
     ]
    },
    {
     "name": "stderr",
     "output_type": "stream",
     "text": [
      "Processing positions: 11700128lines [3:27:53, 956.03lines/s] "
     ]
    },
    {
     "name": "stdout",
     "output_type": "stream",
     "text": [
      "Progress checkpoint: Line 11,700,000, Found 9,939,191 valid positions this session.\n"
     ]
    },
    {
     "name": "stderr",
     "output_type": "stream",
     "text": [
      "Processing positions: 11712636lines [3:28:07, 1132.06lines/s]"
     ]
    },
    {
     "name": "stdout",
     "output_type": "stream",
     "text": [
      "\n",
      "✓ Previous chunk 197 saved. Ledger updated.\n",
      "\n",
      "Submitting chunk 198 (50000 positions) for asynchronous saving...\n",
      "  Chunk 198 submitted. Main thread continues.\n",
      "  Total processed (optimistic): 9,950,000 positions\n",
      "  Progress: Line 11,712,665\n"
     ]
    },
    {
     "name": "stderr",
     "output_type": "stream",
     "text": [
      "Processing positions: 11771483lines [3:29:08, 873.79lines/s] "
     ]
    },
    {
     "name": "stdout",
     "output_type": "stream",
     "text": [
      "\n",
      "✓ Previous chunk 198 saved. Ledger updated.\n",
      "\n",
      "Submitting chunk 199 (50000 positions) for asynchronous saving...\n",
      "  Chunk 199 submitted. Main thread continues.\n",
      "  Total processed (optimistic): 10,000,000 positions\n",
      "  Progress: Line 11,771,484\n"
     ]
    },
    {
     "name": "stderr",
     "output_type": "stream",
     "text": [
      "Processing positions: 11800126lines [3:29:38, 888.24lines/s] "
     ]
    },
    {
     "name": "stdout",
     "output_type": "stream",
     "text": [
      "Progress checkpoint: Line 11,800,000, Found 10,024,525 valid positions this session.\n"
     ]
    },
    {
     "name": "stderr",
     "output_type": "stream",
     "text": [
      "Processing positions: 11830356lines [3:30:11, 770.15lines/s] "
     ]
    },
    {
     "name": "stdout",
     "output_type": "stream",
     "text": [
      "\n",
      "✓ Previous chunk 199 saved. Ledger updated.\n",
      "\n",
      "Submitting chunk 200 (50000 positions) for asynchronous saving...\n",
      "  Chunk 200 submitted. Main thread continues.\n",
      "  Total processed (optimistic): 10,050,000 positions\n",
      "  Progress: Line 11,830,353\n"
     ]
    },
    {
     "name": "stderr",
     "output_type": "stream",
     "text": [
      "Processing positions: 11888757lines [3:31:12, 690.25lines/s] "
     ]
    },
    {
     "name": "stdout",
     "output_type": "stream",
     "text": [
      "\n",
      "✓ Previous chunk 200 saved. Ledger updated.\n",
      "\n",
      "Submitting chunk 201 (50000 positions) for asynchronous saving...\n",
      "  Chunk 201 submitted. Main thread continues.\n",
      "  Total processed (optimistic): 10,100,000 positions\n",
      "  Progress: Line 11,888,733\n"
     ]
    },
    {
     "name": "stderr",
     "output_type": "stream",
     "text": [
      "Processing positions: 11900087lines [3:31:24, 996.67lines/s] "
     ]
    },
    {
     "name": "stdout",
     "output_type": "stream",
     "text": [
      "Progress checkpoint: Line 11,900,000, Found 10,109,683 valid positions this session.\n"
     ]
    },
    {
     "name": "stderr",
     "output_type": "stream",
     "text": [
      "Processing positions: 11947574lines [3:32:14, 684.57lines/s] "
     ]
    },
    {
     "name": "stdout",
     "output_type": "stream",
     "text": [
      "\n",
      "✓ Previous chunk 201 saved. Ledger updated.\n",
      "\n",
      "Submitting chunk 202 (50000 positions) for asynchronous saving...\n",
      "  Chunk 202 submitted. Main thread continues.\n",
      "  Total processed (optimistic): 10,150,000 positions\n",
      "  Progress: Line 11,947,511\n"
     ]
    },
    {
     "name": "stderr",
     "output_type": "stream",
     "text": [
      "Processing positions: 12000181lines [3:33:08, 983.06lines/s] "
     ]
    },
    {
     "name": "stdout",
     "output_type": "stream",
     "text": [
      "Progress checkpoint: Line 12,000,000, Found 10,195,428 valid positions this session.\n"
     ]
    },
    {
     "name": "stderr",
     "output_type": "stream",
     "text": [
      "Processing positions: 12005537lines [3:33:14, 705.01lines/s] "
     ]
    },
    {
     "name": "stdout",
     "output_type": "stream",
     "text": [
      "\n",
      "✓ Previous chunk 202 saved. Ledger updated.\n",
      "\n",
      "Submitting chunk 203 (50000 positions) for asynchronous saving...\n",
      "  Chunk 203 submitted. Main thread continues.\n",
      "  Total processed (optimistic): 10,200,000 positions\n",
      "  Progress: Line 12,005,472\n"
     ]
    },
    {
     "name": "stderr",
     "output_type": "stream",
     "text": [
      "Processing positions: 12065270lines [3:34:15, 704.93lines/s] "
     ]
    },
    {
     "name": "stdout",
     "output_type": "stream",
     "text": [
      "\n",
      "✓ Previous chunk 203 saved. Ledger updated.\n",
      "\n",
      "Submitting chunk 204 (50000 positions) for asynchronous saving...\n",
      "  Chunk 204 submitted. Main thread continues.\n",
      "  Total processed (optimistic): 10,250,000 positions\n",
      "  Progress: Line 12,065,260\n"
     ]
    },
    {
     "name": "stderr",
     "output_type": "stream",
     "text": [
      "Processing positions: 12100101lines [3:34:50, 922.00lines/s] "
     ]
    },
    {
     "name": "stdout",
     "output_type": "stream",
     "text": [
      "Progress checkpoint: Line 12,100,000, Found 10,279,186 valid positions this session.\n"
     ]
    },
    {
     "name": "stderr",
     "output_type": "stream",
     "text": [
      "Processing positions: 12125030lines [3:35:16, 680.73lines/s] "
     ]
    },
    {
     "name": "stdout",
     "output_type": "stream",
     "text": [
      "\n",
      "✓ Previous chunk 204 saved. Ledger updated.\n",
      "\n",
      "Submitting chunk 205 (50000 positions) for asynchronous saving...\n",
      "  Chunk 205 submitted. Main thread continues.\n",
      "  Total processed (optimistic): 10,300,000 positions\n",
      "  Progress: Line 12,125,023\n"
     ]
    },
    {
     "name": "stderr",
     "output_type": "stream",
     "text": [
      "Processing positions: 12184206lines [3:36:18, 994.43lines/s] "
     ]
    },
    {
     "name": "stdout",
     "output_type": "stream",
     "text": [
      "\n",
      "✓ Previous chunk 205 saved. Ledger updated.\n",
      "\n",
      "Submitting chunk 206 (50000 positions) for asynchronous saving...\n",
      "  Chunk 206 submitted. Main thread continues.\n",
      "  Total processed (optimistic): 10,350,000 positions\n",
      "  Progress: Line 12,184,225\n"
     ]
    },
    {
     "name": "stderr",
     "output_type": "stream",
     "text": [
      "Processing positions: 12200244lines [3:36:33, 1117.89lines/s]"
     ]
    },
    {
     "name": "stdout",
     "output_type": "stream",
     "text": [
      "Progress checkpoint: Line 12,200,000, Found 10,363,113 valid positions this session.\n"
     ]
    },
    {
     "name": "stderr",
     "output_type": "stream",
     "text": [
      "Processing positions: 12242291lines [3:37:18, 995.63lines/s] "
     ]
    },
    {
     "name": "stdout",
     "output_type": "stream",
     "text": [
      "\n",
      "✓ Previous chunk 206 saved. Ledger updated.\n",
      "\n",
      "Submitting chunk 207 (50000 positions) for asynchronous saving...\n",
      "  Chunk 207 submitted. Main thread continues.\n",
      "  Total processed (optimistic): 10,400,000 positions\n",
      "  Progress: Line 12,242,297\n"
     ]
    },
    {
     "name": "stderr",
     "output_type": "stream",
     "text": [
      "Processing positions: 12300160lines [3:38:17, 836.63lines/s] "
     ]
    },
    {
     "name": "stdout",
     "output_type": "stream",
     "text": [
      "Progress checkpoint: Line 12,300,000, Found 10,448,539 valid positions this session.\n"
     ]
    },
    {
     "name": "stderr",
     "output_type": "stream",
     "text": [
      "Processing positions: 12301794lines [3:38:19, 722.03lines/s] "
     ]
    },
    {
     "name": "stdout",
     "output_type": "stream",
     "text": [
      "\n",
      "✓ Previous chunk 207 saved. Ledger updated.\n",
      "\n",
      "Submitting chunk 208 (50000 positions) for asynchronous saving...\n",
      "  Chunk 208 submitted. Main thread continues.\n",
      "  Total processed (optimistic): 10,450,000 positions\n",
      "  Progress: Line 12,301,710\n"
     ]
    },
    {
     "name": "stderr",
     "output_type": "stream",
     "text": [
      "Processing positions: 12360218lines [3:39:20, 583.51lines/s] "
     ]
    },
    {
     "name": "stdout",
     "output_type": "stream",
     "text": [
      "\n",
      "✓ Previous chunk 208 saved. Ledger updated.\n",
      "\n",
      "Submitting chunk 209 (50000 positions) for asynchronous saving...\n",
      "  Chunk 209 submitted. Main thread continues.\n",
      "  Total processed (optimistic): 10,500,000 positions\n",
      "  Progress: Line 12,360,211\n"
     ]
    },
    {
     "name": "stderr",
     "output_type": "stream",
     "text": [
      "Processing positions: 12400083lines [3:40:02, 974.26lines/s] "
     ]
    },
    {
     "name": "stdout",
     "output_type": "stream",
     "text": [
      "Progress checkpoint: Line 12,400,000, Found 10,534,477 valid positions this session.\n"
     ]
    },
    {
     "name": "stderr",
     "output_type": "stream",
     "text": [
      "Processing positions: 12417849lines [3:40:22, 921.08lines/s] "
     ]
    },
    {
     "name": "stdout",
     "output_type": "stream",
     "text": [
      "\n",
      "✓ Previous chunk 209 saved. Ledger updated.\n",
      "\n",
      "Submitting chunk 210 (50000 positions) for asynchronous saving...\n",
      "  Chunk 210 submitted. Main thread continues.\n",
      "  Total processed (optimistic): 10,550,000 positions\n",
      "  Progress: Line 12,417,884\n"
     ]
    },
    {
     "name": "stderr",
     "output_type": "stream",
     "text": [
      "Processing positions: 12477078lines [3:41:23, 704.39lines/s] "
     ]
    },
    {
     "name": "stdout",
     "output_type": "stream",
     "text": [
      "\n",
      "✓ Previous chunk 210 saved. Ledger updated.\n",
      "\n",
      "Submitting chunk 211 (50000 positions) for asynchronous saving...\n",
      "  Chunk 211 submitted. Main thread continues.\n",
      "  Total processed (optimistic): 10,600,000 positions\n",
      "  Progress: Line 12,477,078\n"
     ]
    },
    {
     "name": "stderr",
     "output_type": "stream",
     "text": [
      "Processing positions: 12500179lines [3:41:48, 920.28lines/s] "
     ]
    },
    {
     "name": "stdout",
     "output_type": "stream",
     "text": [
      "Progress checkpoint: Line 12,500,000, Found 10,619,340 valid positions this session.\n"
     ]
    },
    {
     "name": "stderr",
     "output_type": "stream",
     "text": [
      "Processing positions: 12535189lines [3:42:25, 1040.48lines/s]"
     ]
    },
    {
     "name": "stdout",
     "output_type": "stream",
     "text": [
      "\n",
      "✓ Previous chunk 211 saved. Ledger updated.\n",
      "\n",
      "Submitting chunk 212 (50000 positions) for asynchronous saving...\n",
      "  Chunk 212 submitted. Main thread continues.\n",
      "  Total processed (optimistic): 10,650,000 positions\n",
      "  Progress: Line 12,535,211\n"
     ]
    },
    {
     "name": "stderr",
     "output_type": "stream",
     "text": [
      "Processing positions: 12593639lines [3:43:25, 966.86lines/s] "
     ]
    },
    {
     "name": "stdout",
     "output_type": "stream",
     "text": [
      "\n",
      "✓ Previous chunk 212 saved. Ledger updated.\n",
      "\n",
      "Submitting chunk 213 (50000 positions) for asynchronous saving...\n",
      "  Chunk 213 submitted. Main thread continues.\n",
      "  Total processed (optimistic): 10,700,000 positions\n",
      "  Progress: Line 12,593,646\n"
     ]
    },
    {
     "name": "stderr",
     "output_type": "stream",
     "text": [
      "Processing positions: 12600125lines [3:43:32, 911.30lines/s] "
     ]
    },
    {
     "name": "stdout",
     "output_type": "stream",
     "text": [
      "Progress checkpoint: Line 12,600,000, Found 10,705,468 valid positions this session.\n"
     ]
    },
    {
     "name": "stderr",
     "output_type": "stream",
     "text": [
      "Processing positions: 12650932lines [3:44:29, 932.92lines/s] "
     ]
    },
    {
     "name": "stdout",
     "output_type": "stream",
     "text": [
      "\n",
      "✓ Previous chunk 213 saved. Ledger updated.\n",
      "\n",
      "Submitting chunk 214 (50000 positions) for asynchronous saving...\n",
      "  Chunk 214 submitted. Main thread continues.\n",
      "  Total processed (optimistic): 10,750,000 positions\n",
      "  Progress: Line 12,650,944\n"
     ]
    },
    {
     "name": "stderr",
     "output_type": "stream",
     "text": [
      "Processing positions: 12700175lines [3:45:22, 1015.99lines/s]"
     ]
    },
    {
     "name": "stdout",
     "output_type": "stream",
     "text": [
      "Progress checkpoint: Line 12,700,000, Found 10,792,360 valid positions this session.\n"
     ]
    },
    {
     "name": "stderr",
     "output_type": "stream",
     "text": [
      "Processing positions: 12709071lines [3:45:32, 1056.84lines/s]"
     ]
    },
    {
     "name": "stdout",
     "output_type": "stream",
     "text": [
      "\n",
      "✓ Previous chunk 214 saved. Ledger updated.\n",
      "\n",
      "Submitting chunk 215 (50000 positions) for asynchronous saving...\n",
      "  Chunk 215 submitted. Main thread continues.\n",
      "  Total processed (optimistic): 10,800,000 positions\n",
      "  Progress: Line 12,709,083\n"
     ]
    },
    {
     "name": "stderr",
     "output_type": "stream",
     "text": [
      "Processing positions: 12767372lines [3:46:37, 667.34lines/s] "
     ]
    },
    {
     "name": "stdout",
     "output_type": "stream",
     "text": [
      "\n",
      "✓ Previous chunk 215 saved. Ledger updated.\n",
      "\n",
      "Submitting chunk 216 (50000 positions) for asynchronous saving...\n",
      "  Chunk 216 submitted. Main thread continues.\n",
      "  Total processed (optimistic): 10,850,000 positions\n",
      "  Progress: Line 12,767,322\n"
     ]
    },
    {
     "name": "stderr",
     "output_type": "stream",
     "text": [
      "Processing positions: 12800176lines [3:47:09, 863.49lines/s] "
     ]
    },
    {
     "name": "stdout",
     "output_type": "stream",
     "text": [
      "Progress checkpoint: Line 12,800,000, Found 10,877,118 valid positions this session.\n"
     ]
    },
    {
     "name": "stderr",
     "output_type": "stream",
     "text": [
      "Processing positions: 12827197lines [3:47:39, 575.09lines/s] "
     ]
    },
    {
     "name": "stdout",
     "output_type": "stream",
     "text": [
      "\n",
      "✓ Previous chunk 216 saved. Ledger updated.\n",
      "\n",
      "Submitting chunk 217 (50000 positions) for asynchronous saving...\n",
      "  Chunk 217 submitted. Main thread continues.\n",
      "  Total processed (optimistic): 10,900,000 positions\n",
      "  Progress: Line 12,827,154\n"
     ]
    },
    {
     "name": "stderr",
     "output_type": "stream",
     "text": [
      "Processing positions: 12885874lines [3:48:44, 652.78lines/s] "
     ]
    },
    {
     "name": "stdout",
     "output_type": "stream",
     "text": [
      "\n",
      "✓ Previous chunk 217 saved. Ledger updated.\n",
      "\n",
      "Submitting chunk 218 (50000 positions) for asynchronous saving...\n",
      "  Chunk 218 submitted. Main thread continues.\n",
      "  Total processed (optimistic): 10,950,000 positions\n",
      "  Progress: Line 12,885,833\n"
     ]
    },
    {
     "name": "stderr",
     "output_type": "stream",
     "text": [
      "Processing positions: 12900120lines [3:48:59, 878.86lines/s] "
     ]
    },
    {
     "name": "stdout",
     "output_type": "stream",
     "text": [
      "Progress checkpoint: Line 12,900,000, Found 10,962,409 valid positions this session.\n"
     ]
    },
    {
     "name": "stderr",
     "output_type": "stream",
     "text": [
      "Processing positions: 12944182lines [3:49:46, 1061.44lines/s]"
     ]
    },
    {
     "name": "stdout",
     "output_type": "stream",
     "text": [
      "\n",
      "✓ Previous chunk 218 saved. Ledger updated.\n",
      "\n",
      "Submitting chunk 219 (50000 positions) for asynchronous saving...\n",
      "  Chunk 219 submitted. Main thread continues.\n",
      "  Total processed (optimistic): 11,000,000 positions\n",
      "  Progress: Line 12,944,221\n"
     ]
    },
    {
     "name": "stderr",
     "output_type": "stream",
     "text": [
      "Processing positions: 13000138lines [3:50:47, 922.59lines/s] "
     ]
    },
    {
     "name": "stdout",
     "output_type": "stream",
     "text": [
      "Progress checkpoint: Line 13,000,000, Found 11,047,096 valid positions this session.\n"
     ]
    },
    {
     "name": "stderr",
     "output_type": "stream",
     "text": [
      "Processing positions: 13003337lines [3:50:51, 994.66lines/s] "
     ]
    },
    {
     "name": "stdout",
     "output_type": "stream",
     "text": [
      "\n",
      "✓ Previous chunk 219 saved. Ledger updated.\n",
      "\n",
      "Submitting chunk 220 (50000 positions) for asynchronous saving...\n",
      "  Chunk 220 submitted. Main thread continues.\n",
      "  Total processed (optimistic): 11,050,000 positions\n",
      "  Progress: Line 13,003,350\n"
     ]
    },
    {
     "name": "stderr",
     "output_type": "stream",
     "text": [
      "Processing positions: 13062010lines [3:51:56, 860.89lines/s] "
     ]
    },
    {
     "name": "stdout",
     "output_type": "stream",
     "text": [
      "\n",
      "✓ Previous chunk 220 saved. Ledger updated.\n",
      "\n",
      "Submitting chunk 221 (50000 positions) for asynchronous saving...\n",
      "  Chunk 221 submitted. Main thread continues.\n",
      "  Total processed (optimistic): 11,100,000 positions\n",
      "  Progress: Line 13,062,037\n"
     ]
    },
    {
     "name": "stderr",
     "output_type": "stream",
     "text": [
      "Processing positions: 13100140lines [3:52:37, 867.87lines/s] "
     ]
    },
    {
     "name": "stdout",
     "output_type": "stream",
     "text": [
      "Progress checkpoint: Line 13,100,000, Found 11,132,788 valid positions this session.\n"
     ]
    },
    {
     "name": "stderr",
     "output_type": "stream",
     "text": [
      "Processing positions: 13120071lines [3:52:59, 597.70lines/s] "
     ]
    },
    {
     "name": "stdout",
     "output_type": "stream",
     "text": [
      "\n",
      "✓ Previous chunk 221 saved. Ledger updated.\n",
      "\n",
      "Submitting chunk 222 (50000 positions) for asynchronous saving...\n",
      "  Chunk 222 submitted. Main thread continues.\n",
      "  Total processed (optimistic): 11,150,000 positions\n",
      "  Progress: Line 13,120,031\n"
     ]
    },
    {
     "name": "stderr",
     "output_type": "stream",
     "text": [
      "Processing positions: 13179691lines [3:54:02, 721.34lines/s] "
     ]
    },
    {
     "name": "stdout",
     "output_type": "stream",
     "text": [
      "\n",
      "✓ Previous chunk 222 saved. Ledger updated.\n",
      "\n",
      "Submitting chunk 223 (50000 positions) for asynchronous saving...\n",
      "  Chunk 223 submitted. Main thread continues.\n",
      "  Total processed (optimistic): 11,200,000 positions\n",
      "  Progress: Line 13,179,691\n"
     ]
    },
    {
     "name": "stderr",
     "output_type": "stream",
     "text": [
      "Processing positions: 13200183lines [3:54:22, 933.62lines/s] "
     ]
    },
    {
     "name": "stdout",
     "output_type": "stream",
     "text": [
      "Progress checkpoint: Line 13,200,000, Found 11,217,085 valid positions this session.\n"
     ]
    },
    {
     "name": "stderr",
     "output_type": "stream",
     "text": [
      "Processing positions: 13238874lines [3:55:04, 661.34lines/s] "
     ]
    },
    {
     "name": "stdout",
     "output_type": "stream",
     "text": [
      "\n",
      "✓ Previous chunk 223 saved. Ledger updated.\n",
      "\n",
      "Submitting chunk 224 (50000 positions) for asynchronous saving...\n",
      "  Chunk 224 submitted. Main thread continues.\n",
      "  Total processed (optimistic): 11,250,000 positions\n",
      "  Progress: Line 13,238,806\n"
     ]
    },
    {
     "name": "stderr",
     "output_type": "stream",
     "text": [
      "Processing positions: 13297116lines [3:56:09, 822.06lines/s] "
     ]
    },
    {
     "name": "stdout",
     "output_type": "stream",
     "text": [
      "\n",
      "✓ Previous chunk 224 saved. Ledger updated.\n",
      "\n",
      "Submitting chunk 225 (50000 positions) for asynchronous saving...\n",
      "  Chunk 225 submitted. Main thread continues.\n",
      "  Total processed (optimistic): 11,300,000 positions\n",
      "  Progress: Line 13,297,133\n"
     ]
    },
    {
     "name": "stderr",
     "output_type": "stream",
     "text": [
      "Processing positions: 13300145lines [3:56:14, 870.46lines/s]"
     ]
    },
    {
     "name": "stdout",
     "output_type": "stream",
     "text": [
      "Progress checkpoint: Line 13,300,000, Found 11,302,620 valid positions this session.\n"
     ]
    },
    {
     "name": "stderr",
     "output_type": "stream",
     "text": [
      "Processing positions: 13356279lines [3:57:14, 747.54lines/s] "
     ]
    },
    {
     "name": "stdout",
     "output_type": "stream",
     "text": [
      "\n",
      "✓ Previous chunk 225 saved. Ledger updated.\n",
      "\n",
      "Submitting chunk 226 (50000 positions) for asynchronous saving...\n",
      "  Chunk 226 submitted. Main thread continues.\n",
      "  Total processed (optimistic): 11,350,000 positions\n",
      "  Progress: Line 13,356,182\n"
     ]
    },
    {
     "name": "stderr",
     "output_type": "stream",
     "text": [
      "Processing positions: 13400174lines [3:58:01, 955.56lines/s] "
     ]
    },
    {
     "name": "stdout",
     "output_type": "stream",
     "text": [
      "Progress checkpoint: Line 13,400,000, Found 11,386,580 valid positions this session.\n"
     ]
    },
    {
     "name": "stderr",
     "output_type": "stream",
     "text": [
      "Processing positions: 13415988lines [3:58:19, 796.08lines/s] "
     ]
    },
    {
     "name": "stdout",
     "output_type": "stream",
     "text": [
      "\n",
      "✓ Previous chunk 226 saved. Ledger updated.\n",
      "\n",
      "Submitting chunk 227 (50000 positions) for asynchronous saving...\n",
      "  Chunk 227 submitted. Main thread continues.\n",
      "  Total processed (optimistic): 11,400,000 positions\n",
      "  Progress: Line 13,415,970\n"
     ]
    },
    {
     "name": "stderr",
     "output_type": "stream",
     "text": [
      "Processing positions: 13475452lines [3:59:24, 869.59lines/s] "
     ]
    },
    {
     "name": "stdout",
     "output_type": "stream",
     "text": [
      "\n",
      "✓ Previous chunk 227 saved. Ledger updated.\n",
      "\n",
      "Submitting chunk 228 (50000 positions) for asynchronous saving...\n",
      "  Chunk 228 submitted. Main thread continues.\n",
      "  Total processed (optimistic): 11,450,000 positions\n",
      "  Progress: Line 13,475,455\n"
     ]
    },
    {
     "name": "stderr",
     "output_type": "stream",
     "text": [
      "Processing positions: 13500146lines [3:59:50, 834.90lines/s] "
     ]
    },
    {
     "name": "stdout",
     "output_type": "stream",
     "text": [
      "Progress checkpoint: Line 13,500,000, Found 11,470,999 valid positions this session.\n"
     ]
    },
    {
     "name": "stderr",
     "output_type": "stream",
     "text": [
      "Processing positions: 13533325lines [4:00:26, 643.90lines/s] "
     ]
    },
    {
     "name": "stdout",
     "output_type": "stream",
     "text": [
      "\n",
      "✓ Previous chunk 228 saved. Ledger updated.\n",
      "\n",
      "Submitting chunk 229 (50000 positions) for asynchronous saving...\n",
      "  Chunk 229 submitted. Main thread continues.\n",
      "  Total processed (optimistic): 11,500,000 positions\n",
      "  Progress: Line 13,533,290\n"
     ]
    },
    {
     "name": "stderr",
     "output_type": "stream",
     "text": [
      "Processing positions: 13591986lines [4:01:29, 1025.46lines/s]"
     ]
    },
    {
     "name": "stdout",
     "output_type": "stream",
     "text": [
      "\n",
      "✓ Previous chunk 229 saved. Ledger updated.\n",
      "\n",
      "Submitting chunk 230 (50000 positions) for asynchronous saving...\n",
      "  Chunk 230 submitted. Main thread continues.\n",
      "  Total processed (optimistic): 11,550,000 positions\n",
      "  Progress: Line 13,592,026\n"
     ]
    },
    {
     "name": "stderr",
     "output_type": "stream",
     "text": [
      "Processing positions: 13600160lines [4:01:38, 1130.43lines/s]"
     ]
    },
    {
     "name": "stdout",
     "output_type": "stream",
     "text": [
      "Progress checkpoint: Line 13,600,000, Found 11,556,879 valid positions this session.\n"
     ]
    },
    {
     "name": "stderr",
     "output_type": "stream",
     "text": [
      "Processing positions: 13649409lines [4:02:30, 619.30lines/s] "
     ]
    },
    {
     "name": "stdout",
     "output_type": "stream",
     "text": [
      "\n",
      "✓ Previous chunk 230 saved. Ledger updated.\n",
      "\n",
      "Submitting chunk 231 (50000 positions) for asynchronous saving...\n",
      "  Chunk 231 submitted. Main thread continues.\n",
      "  Total processed (optimistic): 11,600,000 positions\n",
      "  Progress: Line 13,649,394\n"
     ]
    },
    {
     "name": "stderr",
     "output_type": "stream",
     "text": [
      "Processing positions: 13700144lines [4:03:21, 900.46lines/s] "
     ]
    },
    {
     "name": "stdout",
     "output_type": "stream",
     "text": [
      "Progress checkpoint: Line 13,700,000, Found 11,643,854 valid positions this session.\n"
     ]
    },
    {
     "name": "stderr",
     "output_type": "stream",
     "text": [
      "Processing positions: 13707302lines [4:03:28, 645.69lines/s] "
     ]
    },
    {
     "name": "stdout",
     "output_type": "stream",
     "text": [
      "\n",
      "✓ Previous chunk 231 saved. Ledger updated.\n",
      "\n",
      "Submitting chunk 232 (50000 positions) for asynchronous saving...\n",
      "  Chunk 232 submitted. Main thread continues.\n",
      "  Total processed (optimistic): 11,650,000 positions\n",
      "  Progress: Line 13,707,275\n"
     ]
    },
    {
     "name": "stderr",
     "output_type": "stream",
     "text": [
      "Processing positions: 13765701lines [4:04:29, 970.10lines/s] "
     ]
    },
    {
     "name": "stdout",
     "output_type": "stream",
     "text": [
      "\n",
      "✓ Previous chunk 232 saved. Ledger updated.\n",
      "\n",
      "Submitting chunk 233 (50000 positions) for asynchronous saving...\n",
      "  Chunk 233 submitted. Main thread continues.\n",
      "  Total processed (optimistic): 11,700,000 positions\n",
      "  Progress: Line 13,765,741\n"
     ]
    },
    {
     "name": "stderr",
     "output_type": "stream",
     "text": [
      "Processing positions: 13800247lines [4:05:02, 1131.13lines/s]"
     ]
    },
    {
     "name": "stdout",
     "output_type": "stream",
     "text": [
      "Progress checkpoint: Line 13,800,000, Found 11,729,156 valid positions this session.\n"
     ]
    },
    {
     "name": "stderr",
     "output_type": "stream",
     "text": [
      "Processing positions: 13824540lines [4:05:29, 614.09lines/s] "
     ]
    },
    {
     "name": "stdout",
     "output_type": "stream",
     "text": [
      "\n",
      "✓ Previous chunk 233 saved. Ledger updated.\n",
      "\n",
      "Submitting chunk 234 (50000 positions) for asynchronous saving...\n",
      "  Chunk 234 submitted. Main thread continues.\n",
      "  Total processed (optimistic): 11,750,000 positions\n",
      "  Progress: Line 13,824,471\n"
     ]
    },
    {
     "name": "stderr",
     "output_type": "stream",
     "text": [
      "Processing positions: 13882695lines [4:06:29, 781.99lines/s] "
     ]
    },
    {
     "name": "stdout",
     "output_type": "stream",
     "text": [
      "\n",
      "✓ Previous chunk 234 saved. Ledger updated.\n",
      "\n",
      "Submitting chunk 235 (50000 positions) for asynchronous saving...\n",
      "  Chunk 235 submitted. Main thread continues.\n",
      "  Total processed (optimistic): 11,800,000 positions\n",
      "  Progress: Line 13,882,623\n"
     ]
    },
    {
     "name": "stderr",
     "output_type": "stream",
     "text": [
      "Processing positions: 13900139lines [4:06:46, 920.02lines/s] "
     ]
    },
    {
     "name": "stdout",
     "output_type": "stream",
     "text": [
      "Progress checkpoint: Line 13,900,000, Found 11,814,790 valid positions this session.\n"
     ]
    },
    {
     "name": "stderr",
     "output_type": "stream",
     "text": [
      "Processing positions: 13939971lines [4:07:29, 568.23lines/s] "
     ]
    },
    {
     "name": "stdout",
     "output_type": "stream",
     "text": [
      "\n",
      "✓ Previous chunk 235 saved. Ledger updated.\n",
      "\n",
      "Submitting chunk 236 (50000 positions) for asynchronous saving...\n",
      "  Chunk 236 submitted. Main thread continues.\n",
      "  Total processed (optimistic): 11,850,000 positions\n",
      "  Progress: Line 13,939,908\n"
     ]
    },
    {
     "name": "stderr",
     "output_type": "stream",
     "text": [
      "Processing positions: 13998431lines [4:08:30, 998.82lines/s] "
     ]
    },
    {
     "name": "stdout",
     "output_type": "stream",
     "text": [
      "\n",
      "✓ Previous chunk 236 saved. Ledger updated.\n",
      "\n",
      "Submitting chunk 237 (50000 positions) for asynchronous saving...\n",
      "  Chunk 237 submitted. Main thread continues.\n",
      "  Total processed (optimistic): 11,900,000 positions\n",
      "  Progress: Line 13,998,455\n"
     ]
    },
    {
     "name": "stderr",
     "output_type": "stream",
     "text": [
      "Processing positions: 14000193lines [4:08:33, 924.42lines/s]"
     ]
    },
    {
     "name": "stdout",
     "output_type": "stream",
     "text": [
      "Progress checkpoint: Line 14,000,000, Found 11,901,270 valid positions this session.\n"
     ]
    },
    {
     "name": "stderr",
     "output_type": "stream",
     "text": [
      "Processing positions: 14057069lines [4:09:31, 1088.29lines/s]"
     ]
    },
    {
     "name": "stdout",
     "output_type": "stream",
     "text": [
      "\n",
      "✓ Previous chunk 237 saved. Ledger updated.\n",
      "\n",
      "Submitting chunk 238 (50000 positions) for asynchronous saving...\n",
      "  Chunk 238 submitted. Main thread continues.\n",
      "  Total processed (optimistic): 11,950,000 positions\n",
      "  Progress: Line 14,057,115\n"
     ]
    },
    {
     "name": "stderr",
     "output_type": "stream",
     "text": [
      "Processing positions: 14100237lines [4:10:14, 1075.34lines/s]"
     ]
    },
    {
     "name": "stdout",
     "output_type": "stream",
     "text": [
      "Progress checkpoint: Line 14,100,000, Found 11,985,709 valid positions this session.\n"
     ]
    },
    {
     "name": "stderr",
     "output_type": "stream",
     "text": [
      "Processing positions: 14117290lines [4:10:33, 703.48lines/s] "
     ]
    },
    {
     "name": "stdout",
     "output_type": "stream",
     "text": [
      "\n",
      "✓ Previous chunk 238 saved. Ledger updated.\n",
      "\n",
      "Submitting chunk 239 (50000 positions) for asynchronous saving...\n",
      "  Chunk 239 submitted. Main thread continues.\n",
      "  Total processed (optimistic): 12,000,000 positions\n",
      "  Progress: Line 14,117,284\n"
     ]
    },
    {
     "name": "stderr",
     "output_type": "stream",
     "text": [
      "Processing positions: 14176455lines [4:11:33, 639.40lines/s] "
     ]
    },
    {
     "name": "stdout",
     "output_type": "stream",
     "text": [
      "\n",
      "✓ Previous chunk 239 saved. Ledger updated.\n",
      "\n",
      "Submitting chunk 240 (50000 positions) for asynchronous saving...\n",
      "  Chunk 240 submitted. Main thread continues.\n",
      "  Total processed (optimistic): 12,050,000 positions\n",
      "  Progress: Line 14,176,451\n"
     ]
    },
    {
     "name": "stderr",
     "output_type": "stream",
     "text": [
      "Processing positions: 14200161lines [4:11:56, 1009.24lines/s]"
     ]
    },
    {
     "name": "stdout",
     "output_type": "stream",
     "text": [
      "Progress checkpoint: Line 14,200,000, Found 12,070,280 valid positions this session.\n"
     ]
    },
    {
     "name": "stderr",
     "output_type": "stream",
     "text": [
      "Processing positions: 14234556lines [4:12:32, 670.42lines/s] "
     ]
    },
    {
     "name": "stdout",
     "output_type": "stream",
     "text": [
      "\n",
      "✓ Previous chunk 240 saved. Ledger updated.\n",
      "\n",
      "Submitting chunk 241 (50000 positions) for asynchronous saving...\n",
      "  Chunk 241 submitted. Main thread continues.\n",
      "  Total processed (optimistic): 12,100,000 positions\n",
      "  Progress: Line 14,234,531\n"
     ]
    },
    {
     "name": "stderr",
     "output_type": "stream",
     "text": [
      "Processing positions: 14293234lines [4:13:33, 934.13lines/s] "
     ]
    },
    {
     "name": "stdout",
     "output_type": "stream",
     "text": [
      "\n",
      "✓ Previous chunk 241 saved. Ledger updated.\n",
      "\n",
      "Submitting chunk 242 (50000 positions) for asynchronous saving...\n",
      "  Chunk 242 submitted. Main thread continues.\n",
      "  Total processed (optimistic): 12,150,000 positions\n",
      "  Progress: Line 14,293,260\n"
     ]
    },
    {
     "name": "stderr",
     "output_type": "stream",
     "text": [
      "Processing positions: 14300150lines [4:13:41, 1207.47lines/s]"
     ]
    },
    {
     "name": "stdout",
     "output_type": "stream",
     "text": [
      "Progress checkpoint: Line 14,300,000, Found 12,155,832 valid positions this session.\n"
     ]
    },
    {
     "name": "stderr",
     "output_type": "stream",
     "text": [
      "Processing positions: 14351576lines [4:14:34, 1214.21lines/s]"
     ]
    },
    {
     "name": "stdout",
     "output_type": "stream",
     "text": [
      "\n",
      "✓ Previous chunk 242 saved. Ledger updated.\n",
      "\n",
      "Submitting chunk 243 (50000 positions) for asynchronous saving...\n",
      "  Chunk 243 submitted. Main thread continues.\n",
      "  Total processed (optimistic): 12,200,000 positions\n",
      "  Progress: Line 14,351,618\n"
     ]
    },
    {
     "name": "stderr",
     "output_type": "stream",
     "text": [
      "Processing positions: 14400251lines [4:15:21, 1253.89lines/s]"
     ]
    },
    {
     "name": "stdout",
     "output_type": "stream",
     "text": [
      "Progress checkpoint: Line 14,400,000, Found 12,241,802 valid positions this session.\n"
     ]
    },
    {
     "name": "stderr",
     "output_type": "stream",
     "text": [
      "Processing positions: 14409675lines [4:15:29, 860.77lines/s] "
     ]
    },
    {
     "name": "stdout",
     "output_type": "stream",
     "text": [
      "\n",
      "✓ Previous chunk 243 saved. Ledger updated.\n",
      "\n",
      "Submitting chunk 244 (50000 positions) for asynchronous saving...\n",
      "  Chunk 244 submitted. Main thread continues.\n",
      "  Total processed (optimistic): 12,250,000 positions\n",
      "  Progress: Line 14,409,654\n"
     ]
    },
    {
     "name": "stderr",
     "output_type": "stream",
     "text": [
      "Processing positions: 14466992lines [4:16:23, 854.14lines/s] "
     ]
    },
    {
     "name": "stdout",
     "output_type": "stream",
     "text": [
      "\n",
      "✓ Previous chunk 244 saved. Ledger updated.\n",
      "\n",
      "Submitting chunk 245 (50000 positions) for asynchronous saving...\n",
      "  Chunk 245 submitted. Main thread continues.\n",
      "  Total processed (optimistic): 12,300,000 positions\n",
      "  Progress: Line 14,466,955\n"
     ]
    },
    {
     "name": "stderr",
     "output_type": "stream",
     "text": [
      "Processing positions: 14500193lines [4:16:56, 1056.24lines/s]"
     ]
    },
    {
     "name": "stdout",
     "output_type": "stream",
     "text": [
      "Progress checkpoint: Line 14,500,000, Found 12,328,440 valid positions this session.\n"
     ]
    },
    {
     "name": "stderr",
     "output_type": "stream",
     "text": [
      "Processing positions: 14524946lines [4:17:17, 1329.33lines/s]"
     ]
    },
    {
     "name": "stdout",
     "output_type": "stream",
     "text": [
      "\n",
      "✓ Previous chunk 245 saved. Ledger updated.\n",
      "\n",
      "Submitting chunk 246 (50000 positions) for asynchronous saving...\n",
      "  Chunk 246 submitted. Main thread continues.\n",
      "  Total processed (optimistic): 12,350,000 positions\n",
      "  Progress: Line 14,524,964\n"
     ]
    },
    {
     "name": "stderr",
     "output_type": "stream",
     "text": [
      "Processing positions: 14583464lines [4:18:11, 807.15lines/s] "
     ]
    },
    {
     "name": "stdout",
     "output_type": "stream",
     "text": [
      "\n",
      "✓ Previous chunk 246 saved. Ledger updated.\n",
      "\n",
      "Submitting chunk 247 (50000 positions) for asynchronous saving...\n",
      "  Chunk 247 submitted. Main thread continues.\n",
      "  Total processed (optimistic): 12,400,000 positions\n",
      "  Progress: Line 14,583,411\n"
     ]
    },
    {
     "name": "stderr",
     "output_type": "stream",
     "text": [
      "Processing positions: 14600118lines [4:18:30, 936.69lines/s] "
     ]
    },
    {
     "name": "stdout",
     "output_type": "stream",
     "text": [
      "Progress checkpoint: Line 14,600,000, Found 12,414,577 valid positions this session.\n"
     ]
    },
    {
     "name": "stderr",
     "output_type": "stream",
     "text": [
      "Processing positions: 14640538lines [4:19:06, 1163.71lines/s]"
     ]
    },
    {
     "name": "stdout",
     "output_type": "stream",
     "text": [
      "\n",
      "✓ Previous chunk 247 saved. Ledger updated.\n",
      "\n",
      "Submitting chunk 248 (50000 positions) for asynchronous saving...\n",
      "  Chunk 248 submitted. Main thread continues.\n",
      "  Total processed (optimistic): 12,450,000 positions\n",
      "  Progress: Line 14,640,558\n"
     ]
    },
    {
     "name": "stderr",
     "output_type": "stream",
     "text": [
      "Processing positions: 14698594lines [4:20:00, 1128.34lines/s]"
     ]
    },
    {
     "name": "stdout",
     "output_type": "stream",
     "text": [
      "\n",
      "✓ Previous chunk 248 saved. Ledger updated.\n",
      "\n",
      "Submitting chunk 249 (50000 positions) for asynchronous saving...\n",
      "  Chunk 249 submitted. Main thread continues.\n",
      "  Total processed (optimistic): 12,500,000 positions\n",
      "  Progress: Line 14,698,605\n"
     ]
    },
    {
     "name": "stderr",
     "output_type": "stream",
     "text": [
      "Processing positions: 14700212lines [4:20:03, 891.84lines/s] "
     ]
    },
    {
     "name": "stdout",
     "output_type": "stream",
     "text": [
      "Progress checkpoint: Line 14,700,000, Found 12,501,241 valid positions this session.\n"
     ]
    },
    {
     "name": "stderr",
     "output_type": "stream",
     "text": [
      "Processing positions: 14758010lines [4:20:54, 1355.55lines/s]"
     ]
    },
    {
     "name": "stdout",
     "output_type": "stream",
     "text": [
      "\n",
      "✓ Previous chunk 249 saved. Ledger updated.\n",
      "\n",
      "Submitting chunk 250 (50000 positions) for asynchronous saving...\n",
      "  Chunk 250 submitted. Main thread continues.\n",
      "  Total processed (optimistic): 12,550,000 positions\n",
      "  Progress: Line 14,758,029\n"
     ]
    },
    {
     "name": "stderr",
     "output_type": "stream",
     "text": [
      "Processing positions: 14800150lines [4:21:34, 1136.44lines/s]"
     ]
    },
    {
     "name": "stdout",
     "output_type": "stream",
     "text": [
      "Progress checkpoint: Line 14,800,000, Found 12,585,131 valid positions this session.\n"
     ]
    },
    {
     "name": "stderr",
     "output_type": "stream",
     "text": [
      "Processing positions: 14817603lines [4:21:48, 799.91lines/s] "
     ]
    },
    {
     "name": "stdout",
     "output_type": "stream",
     "text": [
      "\n",
      "✓ Previous chunk 250 saved. Ledger updated.\n",
      "\n",
      "Submitting chunk 251 (50000 positions) for asynchronous saving...\n",
      "  Chunk 251 submitted. Main thread continues.\n",
      "  Total processed (optimistic): 12,600,000 positions\n",
      "  Progress: Line 14,817,542\n"
     ]
    },
    {
     "name": "stderr",
     "output_type": "stream",
     "text": [
      "Processing positions: 14876961lines [4:22:41, 999.89lines/s] "
     ]
    },
    {
     "name": "stdout",
     "output_type": "stream",
     "text": [
      "\n",
      "✓ Previous chunk 251 saved. Ledger updated.\n",
      "\n",
      "Submitting chunk 252 (50000 positions) for asynchronous saving...\n",
      "  Chunk 252 submitted. Main thread continues.\n",
      "  Total processed (optimistic): 12,650,000 positions\n",
      "  Progress: Line 14,876,961\n"
     ]
    },
    {
     "name": "stderr",
     "output_type": "stream",
     "text": [
      "Processing positions: 14900202lines [4:23:06, 1056.23lines/s]"
     ]
    },
    {
     "name": "stdout",
     "output_type": "stream",
     "text": [
      "Progress checkpoint: Line 14,900,000, Found 12,669,523 valid positions this session.\n"
     ]
    },
    {
     "name": "stderr",
     "output_type": "stream",
     "text": [
      "Processing positions: 14934927lines [4:23:35, 880.76lines/s] "
     ]
    },
    {
     "name": "stdout",
     "output_type": "stream",
     "text": [
      "\n",
      "✓ Previous chunk 252 saved. Ledger updated.\n",
      "\n",
      "Submitting chunk 253 (50000 positions) for asynchronous saving...\n",
      "  Chunk 253 submitted. Main thread continues.\n",
      "  Total processed (optimistic): 12,700,000 positions\n",
      "  Progress: Line 14,934,904\n"
     ]
    },
    {
     "name": "stderr",
     "output_type": "stream",
     "text": [
      "Processing positions: 14993222lines [4:24:30, 779.55lines/s] "
     ]
    },
    {
     "name": "stdout",
     "output_type": "stream",
     "text": [
      "\n",
      "✓ Previous chunk 253 saved. Ledger updated.\n",
      "\n",
      "Submitting chunk 254 (50000 positions) for asynchronous saving...\n",
      "  Chunk 254 submitted. Main thread continues.\n",
      "  Total processed (optimistic): 12,750,000 positions\n",
      "  Progress: Line 14,993,221\n"
     ]
    },
    {
     "name": "stderr",
     "output_type": "stream",
     "text": [
      "Processing positions: 15000146lines [4:24:39, 1153.51lines/s]"
     ]
    },
    {
     "name": "stdout",
     "output_type": "stream",
     "text": [
      "Progress checkpoint: Line 15,000,000, Found 12,755,979 valid positions this session.\n"
     ]
    },
    {
     "name": "stderr",
     "output_type": "stream",
     "text": [
      "Processing positions: 15050803lines [4:25:25, 879.12lines/s] "
     ]
    },
    {
     "name": "stdout",
     "output_type": "stream",
     "text": [
      "\n",
      "✓ Previous chunk 254 saved. Ledger updated.\n",
      "\n",
      "Submitting chunk 255 (50000 positions) for asynchronous saving...\n",
      "  Chunk 255 submitted. Main thread continues.\n",
      "  Total processed (optimistic): 12,800,000 positions\n",
      "  Progress: Line 15,050,781\n"
     ]
    },
    {
     "name": "stderr",
     "output_type": "stream",
     "text": [
      "Processing positions: 15100299lines [4:26:11, 1355.19lines/s]"
     ]
    },
    {
     "name": "stdout",
     "output_type": "stream",
     "text": [
      "Progress checkpoint: Line 15,100,000, Found 12,842,281 valid positions this session.\n"
     ]
    },
    {
     "name": "stderr",
     "output_type": "stream",
     "text": [
      "Processing positions: 15109286lines [4:26:18, 1312.57lines/s]"
     ]
    },
    {
     "name": "stdout",
     "output_type": "stream",
     "text": [
      "\n",
      "✓ Previous chunk 255 saved. Ledger updated.\n",
      "\n",
      "Submitting chunk 256 (50000 positions) for asynchronous saving...\n",
      "  Chunk 256 submitted. Main thread continues.\n",
      "  Total processed (optimistic): 12,850,000 positions\n",
      "  Progress: Line 15,109,312\n"
     ]
    },
    {
     "name": "stderr",
     "output_type": "stream",
     "text": [
      "Processing positions: 15168566lines [4:27:12, 872.98lines/s] "
     ]
    },
    {
     "name": "stdout",
     "output_type": "stream",
     "text": [
      "\n",
      "✓ Previous chunk 256 saved. Ledger updated.\n",
      "\n",
      "Submitting chunk 257 (50000 positions) for asynchronous saving...\n",
      "  Chunk 257 submitted. Main thread continues.\n",
      "  Total processed (optimistic): 12,900,000 positions\n",
      "  Progress: Line 15,168,530\n"
     ]
    },
    {
     "name": "stderr",
     "output_type": "stream",
     "text": [
      "Processing positions: 15200153lines [4:27:44, 1072.85lines/s]"
     ]
    },
    {
     "name": "stdout",
     "output_type": "stream",
     "text": [
      "Progress checkpoint: Line 15,200,000, Found 12,927,607 valid positions this session.\n"
     ]
    },
    {
     "name": "stderr",
     "output_type": "stream",
     "text": [
      "Processing positions: 15225068lines [4:28:06, 1155.09lines/s]"
     ]
    },
    {
     "name": "stdout",
     "output_type": "stream",
     "text": [
      "\n",
      "✓ Previous chunk 257 saved. Ledger updated.\n",
      "\n",
      "Submitting chunk 258 (50000 positions) for asynchronous saving...\n",
      "  Chunk 258 submitted. Main thread continues.\n",
      "  Total processed (optimistic): 12,950,000 positions\n",
      "  Progress: Line 15,225,107\n"
     ]
    },
    {
     "name": "stderr",
     "output_type": "stream",
     "text": [
      "Processing positions: 15282204lines [4:29:01, 1204.75lines/s]"
     ]
    },
    {
     "name": "stdout",
     "output_type": "stream",
     "text": [
      "\n",
      "✓ Previous chunk 258 saved. Ledger updated.\n",
      "\n",
      "Submitting chunk 259 (50000 positions) for asynchronous saving...\n",
      "  Chunk 259 submitted. Main thread continues.\n",
      "  Total processed (optimistic): 13,000,000 positions\n",
      "  Progress: Line 15,282,225\n"
     ]
    },
    {
     "name": "stderr",
     "output_type": "stream",
     "text": [
      "Processing positions: 15300074lines [4:29:20, 1112.61lines/s]"
     ]
    },
    {
     "name": "stdout",
     "output_type": "stream",
     "text": [
      "Progress checkpoint: Line 15,300,000, Found 13,015,593 valid positions this session.\n"
     ]
    },
    {
     "name": "stderr",
     "output_type": "stream",
     "text": [
      "Processing positions: 15339404lines [4:29:55, 1073.64lines/s]"
     ]
    },
    {
     "name": "stdout",
     "output_type": "stream",
     "text": [
      "\n",
      "✓ Previous chunk 259 saved. Ledger updated.\n",
      "\n",
      "Submitting chunk 260 (50000 positions) for asynchronous saving...\n",
      "  Chunk 260 submitted. Main thread continues.\n",
      "  Total processed (optimistic): 13,050,000 positions\n",
      "  Progress: Line 15,339,416\n"
     ]
    },
    {
     "name": "stderr",
     "output_type": "stream",
     "text": [
      "Processing positions: 15398517lines [4:30:49, 801.60lines/s] "
     ]
    },
    {
     "name": "stdout",
     "output_type": "stream",
     "text": [
      "\n",
      "✓ Previous chunk 260 saved. Ledger updated.\n",
      "\n",
      "Submitting chunk 261 (50000 positions) for asynchronous saving...\n",
      "  Chunk 261 submitted. Main thread continues.\n",
      "  Total processed (optimistic): 13,100,000 positions\n",
      "  Progress: Line 15,398,457\n"
     ]
    },
    {
     "name": "stderr",
     "output_type": "stream",
     "text": [
      "Processing positions: 15400143lines [4:30:52, 862.45lines/s]"
     ]
    },
    {
     "name": "stdout",
     "output_type": "stream",
     "text": [
      "Progress checkpoint: Line 15,400,000, Found 13,101,329 valid positions this session.\n"
     ]
    },
    {
     "name": "stderr",
     "output_type": "stream",
     "text": [
      "Processing positions: 15456220lines [4:31:43, 891.04lines/s] "
     ]
    },
    {
     "name": "stdout",
     "output_type": "stream",
     "text": [
      "\n",
      "✓ Previous chunk 261 saved. Ledger updated.\n",
      "\n",
      "Submitting chunk 262 (50000 positions) for asynchronous saving...\n",
      "  Chunk 262 submitted. Main thread continues.\n",
      "  Total processed (optimistic): 13,150,000 positions\n",
      "  Progress: Line 15,456,216\n"
     ]
    },
    {
     "name": "stderr",
     "output_type": "stream",
     "text": [
      "Processing positions: 15500209lines [4:32:25, 1140.19lines/s]"
     ]
    },
    {
     "name": "stdout",
     "output_type": "stream",
     "text": [
      "Progress checkpoint: Line 15,500,000, Found 13,187,364 valid positions this session.\n"
     ]
    },
    {
     "name": "stderr",
     "output_type": "stream",
     "text": [
      "Processing positions: 15515063lines [4:32:37, 804.50lines/s] "
     ]
    },
    {
     "name": "stdout",
     "output_type": "stream",
     "text": [
      "\n",
      "✓ Previous chunk 262 saved. Ledger updated.\n",
      "\n",
      "Submitting chunk 263 (50000 positions) for asynchronous saving...\n",
      "  Chunk 263 submitted. Main thread continues.\n",
      "  Total processed (optimistic): 13,200,000 positions\n",
      "  Progress: Line 15,515,020\n"
     ]
    },
    {
     "name": "stderr",
     "output_type": "stream",
     "text": [
      "Processing positions: 15573592lines [4:33:31, 820.70lines/s] "
     ]
    },
    {
     "name": "stdout",
     "output_type": "stream",
     "text": [
      "\n",
      "✓ Previous chunk 263 saved. Ledger updated.\n",
      "\n",
      "Submitting chunk 264 (50000 positions) for asynchronous saving...\n",
      "  Chunk 264 submitted. Main thread continues.\n",
      "  Total processed (optimistic): 13,250,000 positions\n",
      "  Progress: Line 15,573,553\n"
     ]
    },
    {
     "name": "stderr",
     "output_type": "stream",
     "text": [
      "Processing positions: 15600103lines [4:33:58, 1181.32lines/s]"
     ]
    },
    {
     "name": "stdout",
     "output_type": "stream",
     "text": [
      "Progress checkpoint: Line 15,600,000, Found 13,272,842 valid positions this session.\n"
     ]
    },
    {
     "name": "stderr",
     "output_type": "stream",
     "text": [
      "Processing positions: 15631615lines [4:34:24, 1255.49lines/s]"
     ]
    },
    {
     "name": "stdout",
     "output_type": "stream",
     "text": [
      "\n",
      "✓ Previous chunk 264 saved. Ledger updated.\n",
      "\n",
      "Submitting chunk 265 (50000 positions) for asynchronous saving...\n",
      "  Chunk 265 submitted. Main thread continues.\n",
      "  Total processed (optimistic): 13,300,000 positions\n",
      "  Progress: Line 15,631,648\n"
     ]
    },
    {
     "name": "stderr",
     "output_type": "stream",
     "text": [
      "Processing positions: 15689727lines [4:35:18, 1135.91lines/s]"
     ]
    },
    {
     "name": "stdout",
     "output_type": "stream",
     "text": [
      "\n",
      "✓ Previous chunk 265 saved. Ledger updated.\n",
      "\n",
      "Submitting chunk 266 (50000 positions) for asynchronous saving...\n",
      "  Chunk 266 submitted. Main thread continues.\n",
      "  Total processed (optimistic): 13,350,000 positions\n",
      "  Progress: Line 15,689,747\n"
     ]
    },
    {
     "name": "stderr",
     "output_type": "stream",
     "text": [
      "Processing positions: 15700169lines [4:35:30, 1063.85lines/s]"
     ]
    },
    {
     "name": "stdout",
     "output_type": "stream",
     "text": [
      "Progress checkpoint: Line 15,700,000, Found 13,358,678 valid positions this session.\n"
     ]
    },
    {
     "name": "stderr",
     "output_type": "stream",
     "text": [
      "Processing positions: 15748458lines [4:36:12, 833.98lines/s] "
     ]
    },
    {
     "name": "stdout",
     "output_type": "stream",
     "text": [
      "\n",
      "✓ Previous chunk 266 saved. Ledger updated.\n",
      "\n",
      "Submitting chunk 267 (50000 positions) for asynchronous saving...\n",
      "  Chunk 267 submitted. Main thread continues.\n",
      "  Total processed (optimistic): 13,400,000 positions\n",
      "  Progress: Line 15,748,390\n"
     ]
    },
    {
     "name": "stderr",
     "output_type": "stream",
     "text": [
      "Processing positions: 15800136lines [4:37:00, 1150.01lines/s]"
     ]
    },
    {
     "name": "stdout",
     "output_type": "stream",
     "text": [
      "Progress checkpoint: Line 15,800,000, Found 13,444,162 valid positions this session.\n"
     ]
    },
    {
     "name": "stderr",
     "output_type": "stream",
     "text": [
      "Processing positions: 15806723lines [4:37:06, 1283.75lines/s]"
     ]
    },
    {
     "name": "stdout",
     "output_type": "stream",
     "text": [
      "\n",
      "✓ Previous chunk 267 saved. Ledger updated.\n",
      "\n",
      "Submitting chunk 268 (50000 positions) for asynchronous saving...\n",
      "  Chunk 268 submitted. Main thread continues.\n",
      "  Total processed (optimistic): 13,450,000 positions\n",
      "  Progress: Line 15,806,779\n"
     ]
    },
    {
     "name": "stderr",
     "output_type": "stream",
     "text": [
      "Processing positions: 15864807lines [4:38:00, 1173.55lines/s]"
     ]
    },
    {
     "name": "stdout",
     "output_type": "stream",
     "text": [
      "\n",
      "✓ Previous chunk 268 saved. Ledger updated.\n",
      "\n",
      "Submitting chunk 269 (50000 positions) for asynchronous saving...\n",
      "  Chunk 269 submitted. Main thread continues.\n",
      "  Total processed (optimistic): 13,500,000 positions\n",
      "  Progress: Line 15,864,843\n"
     ]
    },
    {
     "name": "stderr",
     "output_type": "stream",
     "text": [
      "Processing positions: 15900186lines [4:38:36, 1049.32lines/s]"
     ]
    },
    {
     "name": "stdout",
     "output_type": "stream",
     "text": [
      "Progress checkpoint: Line 15,900,000, Found 13,530,578 valid positions this session.\n"
     ]
    },
    {
     "name": "stderr",
     "output_type": "stream",
     "text": [
      "Processing positions: 15922107lines [4:38:55, 834.26lines/s] "
     ]
    },
    {
     "name": "stdout",
     "output_type": "stream",
     "text": [
      "\n",
      "✓ Previous chunk 269 saved. Ledger updated.\n",
      "\n",
      "Submitting chunk 270 (50000 positions) for asynchronous saving...\n",
      "  Chunk 270 submitted. Main thread continues.\n",
      "  Total processed (optimistic): 13,550,000 positions\n",
      "  Progress: Line 15,922,059\n"
     ]
    },
    {
     "name": "stderr",
     "output_type": "stream",
     "text": [
      "Processing positions: 15980339lines [4:39:50, 1128.57lines/s]"
     ]
    },
    {
     "name": "stdout",
     "output_type": "stream",
     "text": [
      "\n",
      "✓ Previous chunk 270 saved. Ledger updated.\n",
      "\n",
      "Submitting chunk 271 (50000 positions) for asynchronous saving...\n",
      "  Chunk 271 submitted. Main thread continues.\n",
      "  Total processed (optimistic): 13,600,000 positions\n",
      "  Progress: Line 15,980,376\n"
     ]
    },
    {
     "name": "stderr",
     "output_type": "stream",
     "text": [
      "Processing positions: 16000114lines [4:40:11, 937.42lines/s] "
     ]
    },
    {
     "name": "stdout",
     "output_type": "stream",
     "text": [
      "Progress checkpoint: Line 16,000,000, Found 13,617,040 valid positions this session.\n"
     ]
    },
    {
     "name": "stderr",
     "output_type": "stream",
     "text": [
      "Processing positions: 16039246lines [4:40:44, 1159.46lines/s]"
     ]
    },
    {
     "name": "stdout",
     "output_type": "stream",
     "text": [
      "\n",
      "✓ Previous chunk 271 saved. Ledger updated.\n",
      "\n",
      "Submitting chunk 272 (50000 positions) for asynchronous saving...\n",
      "  Chunk 272 submitted. Main thread continues.\n",
      "  Total processed (optimistic): 13,650,000 positions\n",
      "  Progress: Line 16,039,272\n"
     ]
    },
    {
     "name": "stderr",
     "output_type": "stream",
     "text": [
      "Processing positions: 16097399lines [4:41:38, 895.51lines/s] "
     ]
    },
    {
     "name": "stdout",
     "output_type": "stream",
     "text": [
      "\n",
      "✓ Previous chunk 272 saved. Ledger updated.\n",
      "\n",
      "Submitting chunk 273 (50000 positions) for asynchronous saving...\n",
      "  Chunk 273 submitted. Main thread continues.\n",
      "  Total processed (optimistic): 13,700,000 positions\n",
      "  Progress: Line 16,097,374\n"
     ]
    },
    {
     "name": "stderr",
     "output_type": "stream",
     "text": [
      "Processing positions: 16100174lines [4:41:42, 1162.67lines/s]"
     ]
    },
    {
     "name": "stdout",
     "output_type": "stream",
     "text": [
      "Progress checkpoint: Line 16,100,000, Found 13,702,192 valid positions this session.\n"
     ]
    },
    {
     "name": "stderr",
     "output_type": "stream",
     "text": [
      "Processing positions: 16157191lines [4:42:31, 868.09lines/s] "
     ]
    },
    {
     "name": "stdout",
     "output_type": "stream",
     "text": [
      "\n",
      "✓ Previous chunk 273 saved. Ledger updated.\n",
      "\n",
      "Submitting chunk 274 (50000 positions) for asynchronous saving...\n",
      "  Chunk 274 submitted. Main thread continues.\n",
      "  Total processed (optimistic): 13,750,000 positions\n",
      "  Progress: Line 16,157,178\n"
     ]
    },
    {
     "name": "stderr",
     "output_type": "stream",
     "text": [
      "Processing positions: 16200159lines [4:43:13, 1103.79lines/s]"
     ]
    },
    {
     "name": "stdout",
     "output_type": "stream",
     "text": [
      "Progress checkpoint: Line 16,200,000, Found 13,786,504 valid positions this session.\n"
     ]
    },
    {
     "name": "stderr",
     "output_type": "stream",
     "text": [
      "Processing positions: 16215811lines [4:43:26, 836.08lines/s] "
     ]
    },
    {
     "name": "stdout",
     "output_type": "stream",
     "text": [
      "\n",
      "✓ Previous chunk 274 saved. Ledger updated.\n",
      "\n",
      "Submitting chunk 275 (50000 positions) for asynchronous saving...\n",
      "  Chunk 275 submitted. Main thread continues.\n",
      "  Total processed (optimistic): 13,800,000 positions\n",
      "  Progress: Line 16,215,787\n"
     ]
    },
    {
     "name": "stderr",
     "output_type": "stream",
     "text": [
      "Processing positions: 16275128lines [4:44:20, 930.11lines/s] "
     ]
    },
    {
     "name": "stdout",
     "output_type": "stream",
     "text": [
      "\n",
      "✓ Previous chunk 275 saved. Ledger updated.\n",
      "\n",
      "Submitting chunk 276 (50000 positions) for asynchronous saving...\n",
      "  Chunk 276 submitted. Main thread continues.\n",
      "  Total processed (optimistic): 13,850,000 positions\n",
      "  Progress: Line 16,275,128\n"
     ]
    },
    {
     "name": "stderr",
     "output_type": "stream",
     "text": [
      "Processing positions: 16300173lines [4:44:47, 1252.43lines/s]"
     ]
    },
    {
     "name": "stdout",
     "output_type": "stream",
     "text": [
      "Progress checkpoint: Line 16,300,000, Found 13,871,495 valid positions this session.\n"
     ]
    },
    {
     "name": "stderr",
     "output_type": "stream",
     "text": [
      "Processing positions: 16333738lines [4:45:14, 810.84lines/s] "
     ]
    },
    {
     "name": "stdout",
     "output_type": "stream",
     "text": [
      "\n",
      "✓ Previous chunk 276 saved. Ledger updated.\n",
      "\n",
      "Submitting chunk 277 (50000 positions) for asynchronous saving...\n",
      "  Chunk 277 submitted. Main thread continues.\n",
      "  Total processed (optimistic): 13,900,000 positions\n",
      "  Progress: Line 16,333,668\n"
     ]
    },
    {
     "name": "stderr",
     "output_type": "stream",
     "text": [
      "Processing positions: 16392648lines [4:46:08, 824.57lines/s] "
     ]
    },
    {
     "name": "stdout",
     "output_type": "stream",
     "text": [
      "\n",
      "✓ Previous chunk 277 saved. Ledger updated.\n",
      "\n",
      "Submitting chunk 278 (50000 positions) for asynchronous saving...\n",
      "  Chunk 278 submitted. Main thread continues.\n",
      "  Total processed (optimistic): 13,950,000 positions\n",
      "  Progress: Line 16,392,612\n"
     ]
    },
    {
     "name": "stderr",
     "output_type": "stream",
     "text": [
      "Processing positions: 16400093lines [4:46:16, 931.51lines/s] "
     ]
    },
    {
     "name": "stdout",
     "output_type": "stream",
     "text": [
      "Progress checkpoint: Line 16,400,000, Found 13,956,228 valid positions this session.\n"
     ]
    },
    {
     "name": "stderr",
     "output_type": "stream",
     "text": [
      "Processing positions: 16449772lines [4:47:01, 1385.42lines/s]"
     ]
    },
    {
     "name": "stdout",
     "output_type": "stream",
     "text": [
      "\n",
      "✓ Previous chunk 278 saved. Ledger updated.\n",
      "\n",
      "Submitting chunk 279 (50000 positions) for asynchronous saving...\n",
      "  Chunk 279 submitted. Main thread continues.\n",
      "  Total processed (optimistic): 14,000,000 positions\n",
      "  Progress: Line 16,449,826\n"
     ]
    },
    {
     "name": "stderr",
     "output_type": "stream",
     "text": [
      "Processing positions: 16500187lines [4:47:49, 1181.73lines/s]"
     ]
    },
    {
     "name": "stdout",
     "output_type": "stream",
     "text": [
      "Progress checkpoint: Line 16,500,000, Found 14,043,071 valid positions this session.\n"
     ]
    },
    {
     "name": "stderr",
     "output_type": "stream",
     "text": [
      "Processing positions: 16508272lines [4:47:56, 1150.96lines/s]"
     ]
    },
    {
     "name": "stdout",
     "output_type": "stream",
     "text": [
      "\n",
      "✓ Previous chunk 279 saved. Ledger updated.\n",
      "\n",
      "Submitting chunk 280 (50000 positions) for asynchronous saving...\n",
      "  Chunk 280 submitted. Main thread continues.\n",
      "  Total processed (optimistic): 14,050,000 positions\n",
      "  Progress: Line 16,508,275\n"
     ]
    },
    {
     "name": "stderr",
     "output_type": "stream",
     "text": [
      "Processing positions: 16567953lines [4:48:49, 1159.82lines/s]"
     ]
    },
    {
     "name": "stdout",
     "output_type": "stream",
     "text": [
      "\n",
      "✓ Previous chunk 280 saved. Ledger updated.\n",
      "\n",
      "Submitting chunk 281 (50000 positions) for asynchronous saving...\n",
      "  Chunk 281 submitted. Main thread continues.\n",
      "  Total processed (optimistic): 14,100,000 positions\n",
      "  Progress: Line 16,567,976\n"
     ]
    },
    {
     "name": "stderr",
     "output_type": "stream",
     "text": [
      "Processing positions: 16600262lines [4:49:22, 1250.09lines/s]"
     ]
    },
    {
     "name": "stdout",
     "output_type": "stream",
     "text": [
      "Progress checkpoint: Line 16,600,000, Found 14,127,554 valid positions this session.\n"
     ]
    },
    {
     "name": "stderr",
     "output_type": "stream",
     "text": [
      "Processing positions: 16626530lines [4:49:44, 878.91lines/s] "
     ]
    },
    {
     "name": "stdout",
     "output_type": "stream",
     "text": [
      "\n",
      "✓ Previous chunk 281 saved. Ledger updated.\n",
      "\n",
      "Submitting chunk 282 (50000 positions) for asynchronous saving...\n",
      "  Chunk 282 submitted. Main thread continues.\n",
      "  Total processed (optimistic): 14,150,000 positions\n",
      "  Progress: Line 16,626,457\n"
     ]
    },
    {
     "name": "stderr",
     "output_type": "stream",
     "text": [
      "Processing positions: 16685758lines [4:50:38, 1149.42lines/s]"
     ]
    },
    {
     "name": "stdout",
     "output_type": "stream",
     "text": [
      "\n",
      "✓ Previous chunk 282 saved. Ledger updated.\n",
      "\n",
      "Submitting chunk 283 (50000 positions) for asynchronous saving...\n",
      "  Chunk 283 submitted. Main thread continues.\n",
      "  Total processed (optimistic): 14,200,000 positions\n",
      "  Progress: Line 16,685,794\n"
     ]
    },
    {
     "name": "stderr",
     "output_type": "stream",
     "text": [
      "Processing positions: 16700107lines [4:50:54, 830.52lines/s] "
     ]
    },
    {
     "name": "stdout",
     "output_type": "stream",
     "text": [
      "Progress checkpoint: Line 16,700,000, Found 14,212,022 valid positions this session.\n"
     ]
    },
    {
     "name": "stderr",
     "output_type": "stream",
     "text": [
      "Processing positions: 16745038lines [4:51:32, 1149.46lines/s]"
     ]
    },
    {
     "name": "stdout",
     "output_type": "stream",
     "text": [
      "\n",
      "✓ Previous chunk 283 saved. Ledger updated.\n",
      "\n",
      "Submitting chunk 284 (50000 positions) for asynchronous saving...\n",
      "  Chunk 284 submitted. Main thread continues.\n",
      "  Total processed (optimistic): 14,250,000 positions\n",
      "  Progress: Line 16,745,071\n"
     ]
    },
    {
     "name": "stderr",
     "output_type": "stream",
     "text": [
      "Processing positions: 16800233lines [4:52:23, 1283.13lines/s]"
     ]
    },
    {
     "name": "stdout",
     "output_type": "stream",
     "text": [
      "Progress checkpoint: Line 16,800,000, Found 14,297,080 valid positions this session.\n"
     ]
    },
    {
     "name": "stderr",
     "output_type": "stream",
     "text": [
      "Processing positions: 16803447lines [4:52:26, 865.17lines/s] "
     ]
    },
    {
     "name": "stdout",
     "output_type": "stream",
     "text": [
      "\n",
      "✓ Previous chunk 284 saved. Ledger updated.\n",
      "\n",
      "Submitting chunk 285 (50000 positions) for asynchronous saving...\n",
      "  Chunk 285 submitted. Main thread continues.\n",
      "  Total processed (optimistic): 14,300,000 positions\n",
      "  Progress: Line 16,803,438\n"
     ]
    },
    {
     "name": "stderr",
     "output_type": "stream",
     "text": [
      "Processing positions: 16863164lines [4:53:19, 1151.14lines/s]"
     ]
    },
    {
     "name": "stdout",
     "output_type": "stream",
     "text": [
      "\n",
      "✓ Previous chunk 285 saved. Ledger updated.\n",
      "\n",
      "Submitting chunk 286 (50000 positions) for asynchronous saving...\n",
      "  Chunk 286 submitted. Main thread continues.\n",
      "  Total processed (optimistic): 14,350,000 positions\n",
      "  Progress: Line 16,863,217\n"
     ]
    },
    {
     "name": "stderr",
     "output_type": "stream",
     "text": [
      "Processing positions: 16900186lines [4:53:55, 1153.47lines/s]"
     ]
    },
    {
     "name": "stdout",
     "output_type": "stream",
     "text": [
      "Progress checkpoint: Line 16,900,000, Found 14,381,196 valid positions this session.\n"
     ]
    },
    {
     "name": "stderr",
     "output_type": "stream",
     "text": [
      "Processing positions: 16921788lines [4:54:13, 1215.38lines/s]"
     ]
    },
    {
     "name": "stdout",
     "output_type": "stream",
     "text": [
      "\n",
      "✓ Previous chunk 286 saved. Ledger updated.\n",
      "\n",
      "Submitting chunk 287 (50000 positions) for asynchronous saving...\n",
      "  Chunk 287 submitted. Main thread continues.\n",
      "  Total processed (optimistic): 14,400,000 positions\n",
      "  Progress: Line 16,921,820\n"
     ]
    },
    {
     "name": "stderr",
     "output_type": "stream",
     "text": [
      "Processing positions: 16980790lines [4:55:06, 828.52lines/s] "
     ]
    },
    {
     "name": "stdout",
     "output_type": "stream",
     "text": [
      "\n",
      "✓ Previous chunk 287 saved. Ledger updated.\n",
      "\n",
      "Submitting chunk 288 (50000 positions) for asynchronous saving...\n",
      "  Chunk 288 submitted. Main thread continues.\n",
      "  Total processed (optimistic): 14,450,000 positions\n",
      "  Progress: Line 16,980,764\n"
     ]
    },
    {
     "name": "stderr",
     "output_type": "stream",
     "text": [
      "Processing positions: 17000223lines [4:55:28, 1011.70lines/s]"
     ]
    },
    {
     "name": "stdout",
     "output_type": "stream",
     "text": [
      "Progress checkpoint: Line 17,000,000, Found 14,466,330 valid positions this session.\n"
     ]
    },
    {
     "name": "stderr",
     "output_type": "stream",
     "text": [
      "Processing positions: 17038528lines [4:56:01, 1173.71lines/s]"
     ]
    },
    {
     "name": "stdout",
     "output_type": "stream",
     "text": [
      "\n",
      "✓ Previous chunk 288 saved. Ledger updated.\n",
      "\n",
      "Submitting chunk 289 (50000 positions) for asynchronous saving...\n",
      "  Chunk 289 submitted. Main thread continues.\n",
      "  Total processed (optimistic): 14,500,000 positions\n",
      "  Progress: Line 17,038,535\n"
     ]
    },
    {
     "name": "stderr",
     "output_type": "stream",
     "text": [
      "Processing positions: 17096003lines [4:56:55, 893.29lines/s] "
     ]
    },
    {
     "name": "stdout",
     "output_type": "stream",
     "text": [
      "\n",
      "✓ Previous chunk 289 saved. Ledger updated.\n",
      "\n",
      "Submitting chunk 290 (50000 positions) for asynchronous saving...\n",
      "  Chunk 290 submitted. Main thread continues.\n",
      "  Total processed (optimistic): 14,550,000 positions\n",
      "  Progress: Line 17,095,998\n"
     ]
    },
    {
     "name": "stderr",
     "output_type": "stream",
     "text": [
      "Processing positions: 17100120lines [4:57:01, 978.50lines/s] "
     ]
    },
    {
     "name": "stdout",
     "output_type": "stream",
     "text": [
      "Progress checkpoint: Line 17,100,000, Found 14,553,543 valid positions this session.\n"
     ]
    },
    {
     "name": "stderr",
     "output_type": "stream",
     "text": [
      "Processing positions: 17154886lines [4:57:50, 841.45lines/s] "
     ]
    },
    {
     "name": "stdout",
     "output_type": "stream",
     "text": [
      "\n",
      "✓ Previous chunk 290 saved. Ledger updated.\n",
      "\n",
      "Submitting chunk 291 (50000 positions) for asynchronous saving...\n",
      "  Chunk 291 submitted. Main thread continues.\n",
      "  Total processed (optimistic): 14,600,000 positions\n",
      "  Progress: Line 17,154,834\n"
     ]
    },
    {
     "name": "stderr",
     "output_type": "stream",
     "text": [
      "Processing positions: 17200215lines [4:58:33, 1152.21lines/s]"
     ]
    },
    {
     "name": "stdout",
     "output_type": "stream",
     "text": [
      "Progress checkpoint: Line 17,200,000, Found 14,638,286 valid positions this session.\n"
     ]
    },
    {
     "name": "stderr",
     "output_type": "stream",
     "text": [
      "Processing positions: 17213824lines [4:58:44, 875.12lines/s] "
     ]
    },
    {
     "name": "stdout",
     "output_type": "stream",
     "text": [
      "\n",
      "✓ Previous chunk 291 saved. Ledger updated.\n",
      "\n",
      "Submitting chunk 292 (50000 positions) for asynchronous saving...\n",
      "  Chunk 292 submitted. Main thread continues.\n",
      "  Total processed (optimistic): 14,650,000 positions\n",
      "  Progress: Line 17,213,786\n"
     ]
    },
    {
     "name": "stderr",
     "output_type": "stream",
     "text": [
      "Processing positions: 17273322lines [4:59:39, 1217.19lines/s]"
     ]
    },
    {
     "name": "stdout",
     "output_type": "stream",
     "text": [
      "\n",
      "✓ Previous chunk 292 saved. Ledger updated.\n",
      "\n",
      "Submitting chunk 293 (50000 positions) for asynchronous saving...\n",
      "  Chunk 293 submitted. Main thread continues.\n",
      "  Total processed (optimistic): 14,700,000 positions\n",
      "  Progress: Line 17,273,329\n"
     ]
    },
    {
     "name": "stderr",
     "output_type": "stream",
     "text": [
      "Processing positions: 17300190lines [5:00:06, 1192.23lines/s]"
     ]
    },
    {
     "name": "stdout",
     "output_type": "stream",
     "text": [
      "Progress checkpoint: Line 17,300,000, Found 14,722,627 valid positions this session.\n"
     ]
    },
    {
     "name": "stderr",
     "output_type": "stream",
     "text": [
      "Processing positions: 17332101lines [5:00:32, 1300.84lines/s]"
     ]
    },
    {
     "name": "stdout",
     "output_type": "stream",
     "text": [
      "\n",
      "✓ Previous chunk 293 saved. Ledger updated.\n",
      "\n",
      "Submitting chunk 294 (50000 positions) for asynchronous saving...\n",
      "  Chunk 294 submitted. Main thread continues.\n",
      "  Total processed (optimistic): 14,750,000 positions\n",
      "  Progress: Line 17,332,110\n"
     ]
    },
    {
     "name": "stderr",
     "output_type": "stream",
     "text": [
      "Processing positions: 17390289lines [5:01:26, 860.04lines/s] "
     ]
    },
    {
     "name": "stdout",
     "output_type": "stream",
     "text": [
      "\n",
      "✓ Previous chunk 294 saved. Ledger updated.\n",
      "\n",
      "Submitting chunk 295 (50000 positions) for asynchronous saving...\n",
      "  Chunk 295 submitted. Main thread continues.\n",
      "  Total processed (optimistic): 14,800,000 positions\n",
      "  Progress: Line 17,390,271\n"
     ]
    },
    {
     "name": "stderr",
     "output_type": "stream",
     "text": [
      "Processing positions: 17400132lines [5:01:37, 996.33lines/s] "
     ]
    },
    {
     "name": "stdout",
     "output_type": "stream",
     "text": [
      "Progress checkpoint: Line 17,400,000, Found 14,808,132 valid positions this session.\n"
     ]
    },
    {
     "name": "stderr",
     "output_type": "stream",
     "text": [
      "Processing positions: 17449291lines [5:02:20, 834.73lines/s] "
     ]
    },
    {
     "name": "stdout",
     "output_type": "stream",
     "text": [
      "\n",
      "✓ Previous chunk 295 saved. Ledger updated.\n",
      "\n",
      "Submitting chunk 296 (50000 positions) for asynchronous saving...\n",
      "  Chunk 296 submitted. Main thread continues.\n",
      "  Total processed (optimistic): 14,850,000 positions\n",
      "  Progress: Line 17,449,256\n"
     ]
    },
    {
     "name": "stderr",
     "output_type": "stream",
     "text": [
      "Processing positions: 17500149lines [5:03:05, 1154.00lines/s]"
     ]
    },
    {
     "name": "stdout",
     "output_type": "stream",
     "text": [
      "Progress checkpoint: Line 17,500,000, Found 14,892,235 valid positions this session.\n"
     ]
    },
    {
     "name": "stderr",
     "output_type": "stream",
     "text": [
      "Processing positions: 17509051lines [5:03:13, 993.68lines/s] "
     ]
    },
    {
     "name": "stdout",
     "output_type": "stream",
     "text": [
      "\n",
      "✓ Previous chunk 296 saved. Ledger updated.\n",
      "\n",
      "Submitting chunk 297 (50000 positions) for asynchronous saving...\n",
      "  Chunk 297 submitted. Main thread continues.\n",
      "  Total processed (optimistic): 14,900,000 positions\n",
      "  Progress: Line 17,509,013\n"
     ]
    },
    {
     "name": "stderr",
     "output_type": "stream",
     "text": [
      "Processing positions: 17567791lines [5:04:07, 781.17lines/s] "
     ]
    },
    {
     "name": "stdout",
     "output_type": "stream",
     "text": [
      "\n",
      "✓ Previous chunk 297 saved. Ledger updated.\n",
      "\n",
      "Submitting chunk 298 (50000 positions) for asynchronous saving...\n",
      "  Chunk 298 submitted. Main thread continues.\n",
      "  Total processed (optimistic): 14,950,000 positions\n",
      "  Progress: Line 17,567,733\n"
     ]
    },
    {
     "name": "stderr",
     "output_type": "stream",
     "text": [
      "Processing positions: 17600159lines [5:04:38, 1213.34lines/s]"
     ]
    },
    {
     "name": "stdout",
     "output_type": "stream",
     "text": [
      "Progress checkpoint: Line 17,600,000, Found 14,977,526 valid positions this session.\n"
     ]
    },
    {
     "name": "stderr",
     "output_type": "stream",
     "text": [
      "Processing positions: 17626577lines [5:05:00, 1081.37lines/s]"
     ]
    },
    {
     "name": "stdout",
     "output_type": "stream",
     "text": [
      "\n",
      "✓ Previous chunk 298 saved. Ledger updated.\n",
      "\n",
      "Submitting chunk 299 (50000 positions) for asynchronous saving...\n",
      "  Chunk 299 submitted. Main thread continues.\n",
      "  Total processed (optimistic): 15,000,000 positions\n",
      "  Progress: Line 17,626,609\n"
     ]
    },
    {
     "name": "stderr",
     "output_type": "stream",
     "text": [
      "Processing positions: 17683818lines [5:05:55, 1119.40lines/s]"
     ]
    },
    {
     "name": "stdout",
     "output_type": "stream",
     "text": [
      "\n",
      "✓ Previous chunk 299 saved. Ledger updated.\n",
      "\n",
      "Submitting chunk 300 (50000 positions) for asynchronous saving...\n",
      "  Chunk 300 submitted. Main thread continues.\n",
      "  Total processed (optimistic): 15,050,000 positions\n",
      "  Progress: Line 17,683,841\n"
     ]
    },
    {
     "name": "stderr",
     "output_type": "stream",
     "text": [
      "Processing positions: 17700079lines [5:06:13, 893.32lines/s] "
     ]
    },
    {
     "name": "stdout",
     "output_type": "stream",
     "text": [
      "Progress checkpoint: Line 17,700,000, Found 15,064,229 valid positions this session.\n"
     ]
    },
    {
     "name": "stderr",
     "output_type": "stream",
     "text": [
      "Processing positions: 17742746lines [5:06:49, 892.88lines/s] "
     ]
    },
    {
     "name": "stdout",
     "output_type": "stream",
     "text": [
      "\n",
      "✓ Previous chunk 300 saved. Ledger updated.\n",
      "\n",
      "Submitting chunk 301 (50000 positions) for asynchronous saving...\n",
      "  Chunk 301 submitted. Main thread continues.\n",
      "  Total processed (optimistic): 15,100,000 positions\n",
      "  Progress: Line 17,742,729\n"
     ]
    },
    {
     "name": "stderr",
     "output_type": "stream",
     "text": [
      "Processing positions: 17800149lines [5:07:41, 1120.28lines/s]"
     ]
    },
    {
     "name": "stdout",
     "output_type": "stream",
     "text": [
      "Progress checkpoint: Line 17,800,000, Found 15,148,128 valid positions this session.\n"
     ]
    },
    {
     "name": "stderr",
     "output_type": "stream",
     "text": [
      "Processing positions: 17802139lines [5:07:42, 1126.73lines/s]"
     ]
    },
    {
     "name": "stdout",
     "output_type": "stream",
     "text": [
      "\n",
      "✓ Previous chunk 301 saved. Ledger updated.\n",
      "\n",
      "Submitting chunk 302 (50000 positions) for asynchronous saving...\n",
      "  Chunk 302 submitted. Main thread continues.\n",
      "  Total processed (optimistic): 15,150,000 positions\n",
      "  Progress: Line 17,802,146\n"
     ]
    },
    {
     "name": "stderr",
     "output_type": "stream",
     "text": [
      "Processing positions: 17862474lines [5:08:37, 1119.75lines/s]"
     ]
    },
    {
     "name": "stdout",
     "output_type": "stream",
     "text": [
      "\n",
      "✓ Previous chunk 302 saved. Ledger updated.\n",
      "\n",
      "Submitting chunk 303 (50000 positions) for asynchronous saving...\n",
      "  Chunk 303 submitted. Main thread continues.\n",
      "  Total processed (optimistic): 15,200,000 positions\n",
      "  Progress: Line 17,862,496\n"
     ]
    },
    {
     "name": "stderr",
     "output_type": "stream",
     "text": [
      "Processing positions: 17900168lines [5:09:13, 1129.66lines/s]"
     ]
    },
    {
     "name": "stdout",
     "output_type": "stream",
     "text": [
      "Progress checkpoint: Line 17,900,000, Found 15,231,706 valid positions this session.\n"
     ]
    },
    {
     "name": "stderr",
     "output_type": "stream",
     "text": [
      "Processing positions: 17921346lines [5:09:31, 760.96lines/s] "
     ]
    },
    {
     "name": "stdout",
     "output_type": "stream",
     "text": [
      "\n",
      "✓ Previous chunk 303 saved. Ledger updated.\n",
      "\n",
      "Submitting chunk 304 (50000 positions) for asynchronous saving...\n",
      "  Chunk 304 submitted. Main thread continues.\n",
      "  Total processed (optimistic): 15,250,000 positions\n",
      "  Progress: Line 17,921,297\n"
     ]
    },
    {
     "name": "stderr",
     "output_type": "stream",
     "text": [
      "Processing positions: 17980277lines [5:10:25, 1245.91lines/s]"
     ]
    },
    {
     "name": "stdout",
     "output_type": "stream",
     "text": [
      "\n",
      "✓ Previous chunk 304 saved. Ledger updated.\n",
      "\n",
      "Submitting chunk 305 (50000 positions) for asynchronous saving...\n",
      "  Chunk 305 submitted. Main thread continues.\n",
      "  Total processed (optimistic): 15,300,000 positions\n",
      "  Progress: Line 17,980,325\n"
     ]
    },
    {
     "name": "stderr",
     "output_type": "stream",
     "text": [
      "Processing positions: 18000218lines [5:10:45, 1088.84lines/s]"
     ]
    },
    {
     "name": "stdout",
     "output_type": "stream",
     "text": [
      "Progress checkpoint: Line 18,000,000, Found 15,316,654 valid positions this session.\n"
     ]
    },
    {
     "name": "stderr",
     "output_type": "stream",
     "text": [
      "Processing positions: 18039490lines [5:11:18, 885.07lines/s] "
     ]
    },
    {
     "name": "stdout",
     "output_type": "stream",
     "text": [
      "\n",
      "✓ Previous chunk 305 saved. Ledger updated.\n",
      "\n",
      "Submitting chunk 306 (50000 positions) for asynchronous saving...\n",
      "  Chunk 306 submitted. Main thread continues.\n",
      "  Total processed (optimistic): 15,350,000 positions\n",
      "  Progress: Line 18,039,455\n"
     ]
    },
    {
     "name": "stderr",
     "output_type": "stream",
     "text": [
      "Processing positions: 18096733lines [5:12:11, 1169.81lines/s]"
     ]
    },
    {
     "name": "stdout",
     "output_type": "stream",
     "text": [
      "\n",
      "✓ Previous chunk 306 saved. Ledger updated.\n",
      "\n",
      "Submitting chunk 307 (50000 positions) for asynchronous saving...\n",
      "  Chunk 307 submitted. Main thread continues.\n",
      "  Total processed (optimistic): 15,400,000 positions\n",
      "  Progress: Line 18,096,775\n"
     ]
    },
    {
     "name": "stderr",
     "output_type": "stream",
     "text": [
      "Processing positions: 18100211lines [5:12:16, 1050.02lines/s]"
     ]
    },
    {
     "name": "stdout",
     "output_type": "stream",
     "text": [
      "Progress checkpoint: Line 18,100,000, Found 15,402,897 valid positions this session.\n"
     ]
    },
    {
     "name": "stderr",
     "output_type": "stream",
     "text": [
      "Processing positions: 18155123lines [5:13:04, 1212.50lines/s]"
     ]
    },
    {
     "name": "stdout",
     "output_type": "stream",
     "text": [
      "\n",
      "✓ Previous chunk 307 saved. Ledger updated.\n",
      "\n",
      "Submitting chunk 308 (50000 positions) for asynchronous saving...\n",
      "  Chunk 308 submitted. Main thread continues.\n",
      "  Total processed (optimistic): 15,450,000 positions\n",
      "  Progress: Line 18,155,166\n"
     ]
    },
    {
     "name": "stderr",
     "output_type": "stream",
     "text": [
      "Processing positions: 18200146lines [5:13:47, 1097.35lines/s]"
     ]
    },
    {
     "name": "stdout",
     "output_type": "stream",
     "text": [
      "Progress checkpoint: Line 18,200,000, Found 15,489,310 valid positions this session.\n"
     ]
    },
    {
     "name": "stderr",
     "output_type": "stream",
     "text": [
      "Processing positions: 18212452lines [5:13:58, 1147.60lines/s]"
     ]
    },
    {
     "name": "stdout",
     "output_type": "stream",
     "text": [
      "\n",
      "✓ Previous chunk 308 saved. Ledger updated.\n",
      "\n",
      "Submitting chunk 309 (50000 positions) for asynchronous saving...\n",
      "  Chunk 309 submitted. Main thread continues.\n",
      "  Total processed (optimistic): 15,500,000 positions\n",
      "  Progress: Line 18,212,499\n"
     ]
    },
    {
     "name": "stderr",
     "output_type": "stream",
     "text": [
      "Processing positions: 18270411lines [5:14:52, 1188.54lines/s]"
     ]
    },
    {
     "name": "stdout",
     "output_type": "stream",
     "text": [
      "\n",
      "✓ Previous chunk 309 saved. Ledger updated.\n",
      "\n",
      "Submitting chunk 310 (50000 positions) for asynchronous saving...\n",
      "  Chunk 310 submitted. Main thread continues.\n",
      "  Total processed (optimistic): 15,550,000 positions\n",
      "  Progress: Line 18,270,440\n"
     ]
    },
    {
     "name": "stderr",
     "output_type": "stream",
     "text": [
      "Processing positions: 18300154lines [5:15:22, 1190.72lines/s]"
     ]
    },
    {
     "name": "stdout",
     "output_type": "stream",
     "text": [
      "Progress checkpoint: Line 18,300,000, Found 15,576,298 valid positions this session.\n"
     ]
    },
    {
     "name": "stderr",
     "output_type": "stream",
     "text": [
      "Processing positions: 18327283lines [5:15:45, 1170.86lines/s]"
     ]
    },
    {
     "name": "stdout",
     "output_type": "stream",
     "text": [
      "\n",
      "✓ Previous chunk 310 saved. Ledger updated.\n",
      "\n",
      "Submitting chunk 311 (50000 positions) for asynchronous saving...\n",
      "  Chunk 311 submitted. Main thread continues.\n",
      "  Total processed (optimistic): 15,600,000 positions\n",
      "  Progress: Line 18,327,292\n"
     ]
    },
    {
     "name": "stderr",
     "output_type": "stream",
     "text": [
      "Processing positions: 18386354lines [5:16:40, 1026.56lines/s]"
     ]
    },
    {
     "name": "stdout",
     "output_type": "stream",
     "text": [
      "\n",
      "✓ Previous chunk 311 saved. Ledger updated.\n",
      "\n",
      "Submitting chunk 312 (50000 positions) for asynchronous saving...\n",
      "  Chunk 312 submitted. Main thread continues.\n",
      "  Total processed (optimistic): 15,650,000 positions\n",
      "  Progress: Line 18,386,352\n"
     ]
    },
    {
     "name": "stderr",
     "output_type": "stream",
     "text": [
      "Processing positions: 18400173lines [5:16:55, 1073.60lines/s]"
     ]
    },
    {
     "name": "stdout",
     "output_type": "stream",
     "text": [
      "Progress checkpoint: Line 18,400,000, Found 15,661,444 valid positions this session.\n"
     ]
    },
    {
     "name": "stderr",
     "output_type": "stream",
     "text": [
      "Processing positions: 18445818lines [5:17:34, 1228.94lines/s]"
     ]
    },
    {
     "name": "stdout",
     "output_type": "stream",
     "text": [
      "\n",
      "✓ Previous chunk 312 saved. Ledger updated.\n",
      "\n",
      "Submitting chunk 313 (50000 positions) for asynchronous saving...\n",
      "  Chunk 313 submitted. Main thread continues.\n",
      "  Total processed (optimistic): 15,700,000 positions\n",
      "  Progress: Line 18,445,844\n"
     ]
    },
    {
     "name": "stderr",
     "output_type": "stream",
     "text": [
      "Processing positions: 18500225lines [5:18:24, 1295.51lines/s]"
     ]
    },
    {
     "name": "stdout",
     "output_type": "stream",
     "text": [
      "Progress checkpoint: Line 18,500,000, Found 15,745,084 valid positions this session.\n"
     ]
    },
    {
     "name": "stderr",
     "output_type": "stream",
     "text": [
      "Processing positions: 18506019lines [5:18:28, 1193.87lines/s]"
     ]
    },
    {
     "name": "stdout",
     "output_type": "stream",
     "text": [
      "\n",
      "✓ Previous chunk 313 saved. Ledger updated.\n",
      "\n",
      "Submitting chunk 314 (50000 positions) for asynchronous saving...\n",
      "  Chunk 314 submitted. Main thread continues.\n",
      "  Total processed (optimistic): 15,750,000 positions\n",
      "  Progress: Line 18,506,031\n"
     ]
    },
    {
     "name": "stderr",
     "output_type": "stream",
     "text": [
      "Processing positions: 18565987lines [5:19:22, 1386.45lines/s]"
     ]
    },
    {
     "name": "stdout",
     "output_type": "stream",
     "text": [
      "\n",
      "✓ Previous chunk 314 saved. Ledger updated.\n",
      "\n",
      "Submitting chunk 315 (50000 positions) for asynchronous saving...\n",
      "  Chunk 315 submitted. Main thread continues.\n",
      "  Total processed (optimistic): 15,800,000 positions\n",
      "  Progress: Line 18,566,033\n"
     ]
    },
    {
     "name": "stderr",
     "output_type": "stream",
     "text": [
      "Processing positions: 18600222lines [5:19:54, 1386.04lines/s]"
     ]
    },
    {
     "name": "stdout",
     "output_type": "stream",
     "text": [
      "Progress checkpoint: Line 18,600,000, Found 15,827,978 valid positions this session.\n"
     ]
    },
    {
     "name": "stderr",
     "output_type": "stream",
     "text": [
      "Processing positions: 18625730lines [5:20:15, 762.27lines/s] "
     ]
    },
    {
     "name": "stdout",
     "output_type": "stream",
     "text": [
      "\n",
      "✓ Previous chunk 315 saved. Ledger updated.\n",
      "\n",
      "Submitting chunk 316 (50000 positions) for asynchronous saving...\n",
      "  Chunk 316 submitted. Main thread continues.\n",
      "  Total processed (optimistic): 15,850,000 positions\n",
      "  Progress: Line 18,625,688\n"
     ]
    },
    {
     "name": "stderr",
     "output_type": "stream",
     "text": [
      "Processing positions: 18685158lines [5:21:09, 906.55lines/s] "
     ]
    },
    {
     "name": "stdout",
     "output_type": "stream",
     "text": [
      "\n",
      "✓ Previous chunk 316 saved. Ledger updated.\n",
      "\n",
      "Submitting chunk 317 (50000 positions) for asynchronous saving...\n",
      "  Chunk 317 submitted. Main thread continues.\n",
      "  Total processed (optimistic): 15,900,000 positions\n",
      "  Progress: Line 18,685,148\n"
     ]
    },
    {
     "name": "stderr",
     "output_type": "stream",
     "text": [
      "Processing positions: 18700084lines [5:21:26, 915.27lines/s] "
     ]
    },
    {
     "name": "stdout",
     "output_type": "stream",
     "text": [
      "Progress checkpoint: Line 18,700,000, Found 15,912,651 valid positions this session.\n"
     ]
    },
    {
     "name": "stderr",
     "output_type": "stream",
     "text": [
      "Processing positions: 18743034lines [5:22:03, 863.54lines/s] "
     ]
    },
    {
     "name": "stdout",
     "output_type": "stream",
     "text": [
      "\n",
      "✓ Previous chunk 317 saved. Ledger updated.\n",
      "\n",
      "Submitting chunk 318 (50000 positions) for asynchronous saving...\n",
      "  Chunk 318 submitted. Main thread continues.\n",
      "  Total processed (optimistic): 15,950,000 positions\n",
      "  Progress: Line 18,743,002\n"
     ]
    },
    {
     "name": "stderr",
     "output_type": "stream",
     "text": [
      "Processing positions: 18800127lines [5:22:55, 1129.53lines/s]"
     ]
    },
    {
     "name": "stdout",
     "output_type": "stream",
     "text": [
      "Progress checkpoint: Line 18,800,000, Found 15,999,080 valid positions this session.\n"
     ]
    },
    {
     "name": "stderr",
     "output_type": "stream",
     "text": [
      "Processing positions: 18800963lines [5:22:56, 1194.56lines/s]"
     ]
    },
    {
     "name": "stdout",
     "output_type": "stream",
     "text": [
      "\n",
      "✓ Previous chunk 318 saved. Ledger updated.\n",
      "\n",
      "Submitting chunk 319 (50000 positions) for asynchronous saving...\n",
      "  Chunk 319 submitted. Main thread continues.\n",
      "  Total processed (optimistic): 16,000,000 positions\n",
      "  Progress: Line 18,801,005\n"
     ]
    },
    {
     "name": "stderr",
     "output_type": "stream",
     "text": [
      "Processing positions: 18859149lines [5:23:50, 1238.42lines/s]"
     ]
    },
    {
     "name": "stdout",
     "output_type": "stream",
     "text": [
      "\n",
      "✓ Previous chunk 319 saved. Ledger updated.\n",
      "\n",
      "Submitting chunk 320 (50000 positions) for asynchronous saving...\n",
      "  Chunk 320 submitted. Main thread continues.\n",
      "  Total processed (optimistic): 16,050,000 positions\n",
      "  Progress: Line 18,859,170\n"
     ]
    },
    {
     "name": "stderr",
     "output_type": "stream",
     "text": [
      "Processing positions: 18900129lines [5:24:31, 1083.59lines/s]"
     ]
    },
    {
     "name": "stdout",
     "output_type": "stream",
     "text": [
      "Progress checkpoint: Line 18,900,000, Found 16,085,771 valid positions this session.\n"
     ]
    },
    {
     "name": "stderr",
     "output_type": "stream",
     "text": [
      "Processing positions: 18916131lines [5:24:45, 910.96lines/s] "
     ]
    },
    {
     "name": "stdout",
     "output_type": "stream",
     "text": [
      "\n",
      "✓ Previous chunk 320 saved. Ledger updated.\n",
      "\n",
      "Submitting chunk 321 (50000 positions) for asynchronous saving...\n",
      "  Chunk 321 submitted. Main thread continues.\n",
      "  Total processed (optimistic): 16,100,000 positions\n",
      "  Progress: Line 18,916,123\n"
     ]
    },
    {
     "name": "stderr",
     "output_type": "stream",
     "text": [
      "Processing positions: 18973473lines [5:25:39, 1113.63lines/s]"
     ]
    },
    {
     "name": "stdout",
     "output_type": "stream",
     "text": [
      "\n",
      "✓ Previous chunk 321 saved. Ledger updated.\n",
      "\n",
      "Submitting chunk 322 (50000 positions) for asynchronous saving...\n",
      "  Chunk 322 submitted. Main thread continues.\n",
      "  Total processed (optimistic): 16,150,000 positions\n",
      "  Progress: Line 18,973,512\n"
     ]
    },
    {
     "name": "stderr",
     "output_type": "stream",
     "text": [
      "Processing positions: 19000130lines [5:26:06, 1168.11lines/s]"
     ]
    },
    {
     "name": "stdout",
     "output_type": "stream",
     "text": [
      "Progress checkpoint: Line 19,000,000, Found 16,172,565 valid positions this session.\n"
     ]
    },
    {
     "name": "stderr",
     "output_type": "stream",
     "text": [
      "Processing positions: 19031995lines [5:26:33, 844.54lines/s] "
     ]
    },
    {
     "name": "stdout",
     "output_type": "stream",
     "text": [
      "\n",
      "✓ Previous chunk 322 saved. Ledger updated.\n",
      "\n",
      "Submitting chunk 323 (50000 positions) for asynchronous saving...\n",
      "  Chunk 323 submitted. Main thread continues.\n",
      "  Total processed (optimistic): 16,200,000 positions\n",
      "  Progress: Line 19,031,963\n"
     ]
    },
    {
     "name": "stderr",
     "output_type": "stream",
     "text": [
      "Processing positions: 19091696lines [5:27:27, 907.00lines/s] "
     ]
    },
    {
     "name": "stdout",
     "output_type": "stream",
     "text": [
      "\n",
      "✓ Previous chunk 323 saved. Ledger updated.\n",
      "\n",
      "Submitting chunk 324 (50000 positions) for asynchronous saving...\n",
      "  Chunk 324 submitted. Main thread continues.\n",
      "  Total processed (optimistic): 16,250,000 positions\n",
      "  Progress: Line 19,091,687\n"
     ]
    },
    {
     "name": "stderr",
     "output_type": "stream",
     "text": [
      "Processing positions: 19100162lines [5:27:37, 943.66lines/s] "
     ]
    },
    {
     "name": "stdout",
     "output_type": "stream",
     "text": [
      "Progress checkpoint: Line 19,100,000, Found 16,256,728 valid positions this session.\n"
     ]
    },
    {
     "name": "stderr",
     "output_type": "stream",
     "text": [
      "Processing positions: 19151488lines [5:28:21, 1291.58lines/s]"
     ]
    },
    {
     "name": "stdout",
     "output_type": "stream",
     "text": [
      "\n",
      "✓ Previous chunk 324 saved. Ledger updated.\n",
      "\n",
      "Submitting chunk 325 (50000 positions) for asynchronous saving...\n",
      "  Chunk 325 submitted. Main thread continues.\n",
      "  Total processed (optimistic): 16,300,000 positions\n",
      "  Progress: Line 19,151,531\n"
     ]
    },
    {
     "name": "stderr",
     "output_type": "stream",
     "text": [
      "Processing positions: 19200090lines [5:29:05, 1279.08lines/s]"
     ]
    },
    {
     "name": "stdout",
     "output_type": "stream",
     "text": [
      "Progress checkpoint: Line 19,200,000, Found 16,341,000 valid positions this session.\n"
     ]
    },
    {
     "name": "stderr",
     "output_type": "stream",
     "text": [
      "Processing positions: 19210266lines [5:29:13, 865.89lines/s] "
     ]
    },
    {
     "name": "stdout",
     "output_type": "stream",
     "text": [
      "\n",
      "✓ Previous chunk 325 saved. Ledger updated.\n",
      "\n",
      "Submitting chunk 326 (50000 positions) for asynchronous saving...\n",
      "  Chunk 326 submitted. Main thread continues.\n",
      "  Total processed (optimistic): 16,350,000 positions\n",
      "  Progress: Line 19,210,260\n"
     ]
    },
    {
     "name": "stderr",
     "output_type": "stream",
     "text": [
      "Processing positions: 19270725lines [5:30:07, 850.75lines/s] "
     ]
    },
    {
     "name": "stdout",
     "output_type": "stream",
     "text": [
      "\n",
      "✓ Previous chunk 326 saved. Ledger updated.\n",
      "\n",
      "Submitting chunk 327 (50000 positions) for asynchronous saving...\n",
      "  Chunk 327 submitted. Main thread continues.\n",
      "  Total processed (optimistic): 16,400,000 positions\n",
      "  Progress: Line 19,270,655\n"
     ]
    },
    {
     "name": "stderr",
     "output_type": "stream",
     "text": [
      "Processing positions: 19300130lines [5:30:35, 1206.33lines/s]"
     ]
    },
    {
     "name": "stdout",
     "output_type": "stream",
     "text": [
      "Progress checkpoint: Line 19,300,000, Found 16,424,343 valid positions this session.\n"
     ]
    },
    {
     "name": "stderr",
     "output_type": "stream",
     "text": [
      "Processing positions: 19330832lines [5:31:00, 1202.83lines/s]"
     ]
    },
    {
     "name": "stdout",
     "output_type": "stream",
     "text": [
      "\n",
      "✓ Previous chunk 327 saved. Ledger updated.\n",
      "\n",
      "Submitting chunk 328 (50000 positions) for asynchronous saving...\n",
      "  Chunk 328 submitted. Main thread continues.\n",
      "  Total processed (optimistic): 16,450,000 positions\n",
      "  Progress: Line 19,330,866\n"
     ]
    },
    {
     "name": "stderr",
     "output_type": "stream",
     "text": [
      "Processing positions: 19390533lines [5:31:53, 1284.04lines/s]"
     ]
    },
    {
     "name": "stdout",
     "output_type": "stream",
     "text": [
      "\n",
      "✓ Previous chunk 328 saved. Ledger updated.\n",
      "\n",
      "Submitting chunk 329 (50000 positions) for asynchronous saving...\n",
      "  Chunk 329 submitted. Main thread continues.\n",
      "  Total processed (optimistic): 16,500,000 positions\n",
      "  Progress: Line 19,390,557\n"
     ]
    },
    {
     "name": "stderr",
     "output_type": "stream",
     "text": [
      "Processing positions: 19400149lines [5:32:05, 958.83lines/s] "
     ]
    },
    {
     "name": "stdout",
     "output_type": "stream",
     "text": [
      "Progress checkpoint: Line 19,400,000, Found 16,508,346 valid positions this session.\n"
     ]
    },
    {
     "name": "stderr",
     "output_type": "stream",
     "text": [
      "Processing positions: 19448096lines [5:32:47, 892.08lines/s] "
     ]
    },
    {
     "name": "stdout",
     "output_type": "stream",
     "text": [
      "\n",
      "✓ Previous chunk 329 saved. Ledger updated.\n",
      "\n",
      "Submitting chunk 330 (50000 positions) for asynchronous saving...\n",
      "  Chunk 330 submitted. Main thread continues.\n",
      "  Total processed (optimistic): 16,550,000 positions\n",
      "  Progress: Line 19,448,085\n"
     ]
    },
    {
     "name": "stderr",
     "output_type": "stream",
     "text": [
      "Processing positions: 19500149lines [5:33:36, 1150.21lines/s]"
     ]
    },
    {
     "name": "stdout",
     "output_type": "stream",
     "text": [
      "Progress checkpoint: Line 19,500,000, Found 16,595,103 valid positions this session.\n"
     ]
    },
    {
     "name": "stderr",
     "output_type": "stream",
     "text": [
      "Processing positions: 19505586lines [5:33:41, 1063.77lines/s]"
     ]
    },
    {
     "name": "stdout",
     "output_type": "stream",
     "text": [
      "\n",
      "✓ Previous chunk 330 saved. Ledger updated.\n",
      "\n",
      "Submitting chunk 331 (50000 positions) for asynchronous saving...\n",
      "  Chunk 331 submitted. Main thread continues.\n",
      "  Total processed (optimistic): 16,600,000 positions\n",
      "  Progress: Line 19,505,632\n"
     ]
    },
    {
     "name": "stderr",
     "output_type": "stream",
     "text": [
      "Processing positions: 19562160lines [5:34:36, 1182.47lines/s]"
     ]
    },
    {
     "name": "stdout",
     "output_type": "stream",
     "text": [
      "\n",
      "✓ Previous chunk 331 saved. Ledger updated.\n",
      "\n",
      "Submitting chunk 332 (50000 positions) for asynchronous saving...\n",
      "  Chunk 332 submitted. Main thread continues.\n",
      "  Total processed (optimistic): 16,650,000 positions\n",
      "  Progress: Line 19,562,168\n"
     ]
    },
    {
     "name": "stderr",
     "output_type": "stream",
     "text": [
      "Processing positions: 19600155lines [5:35:14, 1211.58lines/s]"
     ]
    },
    {
     "name": "stdout",
     "output_type": "stream",
     "text": [
      "Progress checkpoint: Line 19,600,000, Found 16,683,346 valid positions this session.\n"
     ]
    },
    {
     "name": "stderr",
     "output_type": "stream",
     "text": [
      "Processing positions: 19619066lines [5:35:31, 782.91lines/s] "
     ]
    },
    {
     "name": "stdout",
     "output_type": "stream",
     "text": [
      "\n",
      "✓ Previous chunk 332 saved. Ledger updated.\n",
      "\n",
      "Submitting chunk 333 (50000 positions) for asynchronous saving...\n",
      "  Chunk 333 submitted. Main thread continues.\n",
      "  Total processed (optimistic): 16,700,000 positions\n",
      "  Progress: Line 19,619,053\n"
     ]
    },
    {
     "name": "stderr",
     "output_type": "stream",
     "text": [
      "Processing positions: 19677736lines [5:36:25, 1204.51lines/s]"
     ]
    },
    {
     "name": "stdout",
     "output_type": "stream",
     "text": [
      "\n",
      "✓ Previous chunk 333 saved. Ledger updated.\n",
      "\n",
      "Submitting chunk 334 (50000 positions) for asynchronous saving...\n",
      "  Chunk 334 submitted. Main thread continues.\n",
      "  Total processed (optimistic): 16,750,000 positions\n",
      "  Progress: Line 19,677,791\n"
     ]
    },
    {
     "name": "stderr",
     "output_type": "stream",
     "text": [
      "Processing positions: 19700161lines [5:36:49, 1120.51lines/s]"
     ]
    },
    {
     "name": "stdout",
     "output_type": "stream",
     "text": [
      "Progress checkpoint: Line 19,700,000, Found 16,768,724 valid positions this session.\n"
     ]
    },
    {
     "name": "stderr",
     "output_type": "stream",
     "text": [
      "Processing positions: 19736731lines [5:37:19, 1290.44lines/s]"
     ]
    },
    {
     "name": "stdout",
     "output_type": "stream",
     "text": [
      "\n",
      "✓ Previous chunk 334 saved. Ledger updated.\n",
      "\n",
      "Submitting chunk 335 (50000 positions) for asynchronous saving...\n",
      "  Chunk 335 submitted. Main thread continues.\n",
      "  Total processed (optimistic): 16,800,000 positions\n",
      "  Progress: Line 19,736,773\n"
     ]
    },
    {
     "name": "stderr",
     "output_type": "stream",
     "text": [
      "Processing positions: 19795308lines [5:38:13, 859.21lines/s] "
     ]
    },
    {
     "name": "stdout",
     "output_type": "stream",
     "text": [
      "\n",
      "✓ Previous chunk 335 saved. Ledger updated.\n",
      "\n",
      "Submitting chunk 336 (50000 positions) for asynchronous saving...\n",
      "  Chunk 336 submitted. Main thread continues.\n",
      "  Total processed (optimistic): 16,850,000 positions\n",
      "  Progress: Line 19,795,295\n"
     ]
    },
    {
     "name": "stderr",
     "output_type": "stream",
     "text": [
      "Processing positions: 19800143lines [5:38:20, 988.10lines/s] "
     ]
    },
    {
     "name": "stdout",
     "output_type": "stream",
     "text": [
      "Progress checkpoint: Line 19,800,000, Found 16,854,042 valid positions this session.\n"
     ]
    },
    {
     "name": "stderr",
     "output_type": "stream",
     "text": [
      "Processing positions: 19853606lines [5:39:08, 1211.43lines/s]"
     ]
    },
    {
     "name": "stdout",
     "output_type": "stream",
     "text": [
      "\n",
      "✓ Previous chunk 336 saved. Ledger updated.\n",
      "\n",
      "Submitting chunk 337 (50000 positions) for asynchronous saving...\n",
      "  Chunk 337 submitted. Main thread continues.\n",
      "  Total processed (optimistic): 16,900,000 positions\n",
      "  Progress: Line 19,853,620\n"
     ]
    },
    {
     "name": "stderr",
     "output_type": "stream",
     "text": [
      "Processing positions: 19900227lines [5:39:53, 1229.82lines/s]"
     ]
    },
    {
     "name": "stdout",
     "output_type": "stream",
     "text": [
      "Progress checkpoint: Line 19,900,000, Found 16,939,973 valid positions this session.\n"
     ]
    },
    {
     "name": "stderr",
     "output_type": "stream",
     "text": [
      "Processing positions: 19911527lines [5:40:03, 916.09lines/s] "
     ]
    },
    {
     "name": "stdout",
     "output_type": "stream",
     "text": [
      "\n",
      "✓ Previous chunk 337 saved. Ledger updated.\n",
      "\n",
      "Submitting chunk 338 (50000 positions) for asynchronous saving...\n",
      "  Chunk 338 submitted. Main thread continues.\n",
      "  Total processed (optimistic): 16,950,000 positions\n",
      "  Progress: Line 19,911,527\n"
     ]
    },
    {
     "name": "stderr",
     "output_type": "stream",
     "text": [
      "Processing positions: 19969696lines [5:40:58, 1127.48lines/s]"
     ]
    },
    {
     "name": "stdout",
     "output_type": "stream",
     "text": [
      "\n",
      "✓ Previous chunk 338 saved. Ledger updated.\n",
      "\n",
      "Submitting chunk 339 (50000 positions) for asynchronous saving...\n",
      "  Chunk 339 submitted. Main thread continues.\n",
      "  Total processed (optimistic): 17,000,000 positions\n",
      "  Progress: Line 19,969,719\n"
     ]
    },
    {
     "name": "stderr",
     "output_type": "stream",
     "text": [
      "Processing positions: 20000189lines [5:41:29, 1209.09lines/s]"
     ]
    },
    {
     "name": "stdout",
     "output_type": "stream",
     "text": [
      "Progress checkpoint: Line 20,000,000, Found 17,025,974 valid positions this session.\n"
     ]
    },
    {
     "name": "stderr",
     "output_type": "stream",
     "text": [
      "Processing positions: 20027479lines [5:41:52, 850.92lines/s] "
     ]
    },
    {
     "name": "stdout",
     "output_type": "stream",
     "text": [
      "\n",
      "✓ Previous chunk 339 saved. Ledger updated.\n",
      "\n",
      "Submitting chunk 340 (50000 positions) for asynchronous saving...\n",
      "  Chunk 340 submitted. Main thread continues.\n",
      "  Total processed (optimistic): 17,050,000 positions\n",
      "  Progress: Line 20,027,455\n"
     ]
    },
    {
     "name": "stderr",
     "output_type": "stream",
     "text": [
      "Processing positions: 20085301lines [5:42:47, 1160.53lines/s]"
     ]
    },
    {
     "name": "stdout",
     "output_type": "stream",
     "text": [
      "\n",
      "✓ Previous chunk 340 saved. Ledger updated.\n",
      "\n",
      "Submitting chunk 341 (50000 positions) for asynchronous saving...\n",
      "  Chunk 341 submitted. Main thread continues.\n",
      "  Total processed (optimistic): 17,100,000 positions\n",
      "  Progress: Line 20,085,341\n"
     ]
    },
    {
     "name": "stderr",
     "output_type": "stream",
     "text": [
      "Processing positions: 20100106lines [5:43:04, 957.98lines/s] "
     ]
    },
    {
     "name": "stdout",
     "output_type": "stream",
     "text": [
      "Progress checkpoint: Line 20,100,000, Found 17,113,054 valid positions this session.\n"
     ]
    },
    {
     "name": "stderr",
     "output_type": "stream",
     "text": [
      "Processing positions: 20142418lines [5:43:42, 803.17lines/s] "
     ]
    },
    {
     "name": "stdout",
     "output_type": "stream",
     "text": [
      "\n",
      "✓ Previous chunk 341 saved. Ledger updated.\n",
      "\n",
      "Submitting chunk 342 (50000 positions) for asynchronous saving...\n",
      "  Chunk 342 submitted. Main thread continues.\n",
      "  Total processed (optimistic): 17,150,000 positions\n",
      "  Progress: Line 20,142,405\n"
     ]
    },
    {
     "name": "stderr",
     "output_type": "stream",
     "text": [
      "Processing positions: 20199981lines [5:44:37, 1266.85lines/s]"
     ]
    },
    {
     "name": "stdout",
     "output_type": "stream",
     "text": [
      "Progress checkpoint: Line 20,200,000, Found 17,199,990 valid positions this session.\n",
      "\n",
      "✓ Previous chunk 342 saved. Ledger updated.\n",
      "\n",
      "Submitting chunk 343 (50000 positions) for asynchronous saving...\n",
      "  Chunk 343 submitted. Main thread continues.\n",
      "  Total processed (optimistic): 17,200,000 positions\n",
      "  Progress: Line 20,200,012\n"
     ]
    },
    {
     "name": "stderr",
     "output_type": "stream",
     "text": [
      "Processing positions: 20258474lines [5:45:31, 1104.45lines/s]"
     ]
    },
    {
     "name": "stdout",
     "output_type": "stream",
     "text": [
      "\n",
      "✓ Previous chunk 343 saved. Ledger updated.\n",
      "\n",
      "Submitting chunk 344 (50000 positions) for asynchronous saving...\n",
      "  Chunk 344 submitted. Main thread continues.\n",
      "  Total processed (optimistic): 17,250,000 positions\n",
      "  Progress: Line 20,258,504\n"
     ]
    },
    {
     "name": "stderr",
     "output_type": "stream",
     "text": [
      "Processing positions: 20300161lines [5:46:11, 1122.25lines/s]"
     ]
    },
    {
     "name": "stdout",
     "output_type": "stream",
     "text": [
      "Progress checkpoint: Line 20,300,000, Found 17,284,989 valid positions this session.\n"
     ]
    },
    {
     "name": "stderr",
     "output_type": "stream",
     "text": [
      "Processing positions: 20317866lines [5:46:26, 939.99lines/s] "
     ]
    },
    {
     "name": "stdout",
     "output_type": "stream",
     "text": [
      "\n",
      "✓ Previous chunk 344 saved. Ledger updated.\n",
      "\n",
      "Submitting chunk 345 (50000 positions) for asynchronous saving...\n",
      "  Chunk 345 submitted. Main thread continues.\n",
      "  Total processed (optimistic): 17,300,000 positions\n",
      "  Progress: Line 20,317,864\n"
     ]
    },
    {
     "name": "stderr",
     "output_type": "stream",
     "text": [
      "Processing positions: 20377764lines [5:47:20, 843.03lines/s] "
     ]
    },
    {
     "name": "stdout",
     "output_type": "stream",
     "text": [
      "\n",
      "✓ Previous chunk 345 saved. Ledger updated.\n",
      "\n",
      "Submitting chunk 346 (50000 positions) for asynchronous saving...\n",
      "  Chunk 346 submitted. Main thread continues.\n",
      "  Total processed (optimistic): 17,350,000 positions\n",
      "  Progress: Line 20,377,716\n"
     ]
    },
    {
     "name": "stderr",
     "output_type": "stream",
     "text": [
      "Processing positions: 20400213lines [5:47:46, 1041.60lines/s]"
     ]
    },
    {
     "name": "stdout",
     "output_type": "stream",
     "text": [
      "Progress checkpoint: Line 20,400,000, Found 17,369,002 valid positions this session.\n"
     ]
    },
    {
     "name": "stderr",
     "output_type": "stream",
     "text": [
      "Processing positions: 20436192lines [5:48:16, 850.11lines/s] "
     ]
    },
    {
     "name": "stdout",
     "output_type": "stream",
     "text": [
      "\n",
      "✓ Previous chunk 346 saved. Ledger updated.\n",
      "\n",
      "Submitting chunk 347 (50000 positions) for asynchronous saving...\n",
      "  Chunk 347 submitted. Main thread continues.\n",
      "  Total processed (optimistic): 17,400,000 positions\n",
      "  Progress: Line 20,436,159\n"
     ]
    },
    {
     "name": "stderr",
     "output_type": "stream",
     "text": [
      "Processing positions: 20493906lines [5:49:11, 1229.40lines/s]"
     ]
    },
    {
     "name": "stdout",
     "output_type": "stream",
     "text": [
      "\n",
      "✓ Previous chunk 347 saved. Ledger updated.\n",
      "\n",
      "Submitting chunk 348 (50000 positions) for asynchronous saving...\n",
      "  Chunk 348 submitted. Main thread continues.\n",
      "  Total processed (optimistic): 17,450,000 positions\n",
      "  Progress: Line 20,493,964\n"
     ]
    },
    {
     "name": "stderr",
     "output_type": "stream",
     "text": [
      "Processing positions: 20500139lines [5:49:19, 909.49lines/s] "
     ]
    },
    {
     "name": "stdout",
     "output_type": "stream",
     "text": [
      "Progress checkpoint: Line 20,500,000, Found 17,455,297 valid positions this session.\n"
     ]
    },
    {
     "name": "stderr",
     "output_type": "stream",
     "text": [
      "Processing positions: 20552221lines [5:50:06, 819.77lines/s] "
     ]
    },
    {
     "name": "stdout",
     "output_type": "stream",
     "text": [
      "\n",
      "✓ Previous chunk 348 saved. Ledger updated.\n",
      "\n",
      "Submitting chunk 349 (50000 positions) for asynchronous saving...\n",
      "  Chunk 349 submitted. Main thread continues.\n",
      "  Total processed (optimistic): 17,500,000 positions\n",
      "  Progress: Line 20,552,168\n"
     ]
    },
    {
     "name": "stderr",
     "output_type": "stream",
     "text": [
      "Processing positions: 20600236lines [5:50:50, 1175.87lines/s]"
     ]
    },
    {
     "name": "stdout",
     "output_type": "stream",
     "text": [
      "Progress checkpoint: Line 20,600,000, Found 17,541,093 valid positions this session.\n"
     ]
    },
    {
     "name": "stderr",
     "output_type": "stream",
     "text": [
      "Processing positions: 20610481lines [5:50:59, 1310.04lines/s]"
     ]
    },
    {
     "name": "stdout",
     "output_type": "stream",
     "text": [
      "\n",
      "✓ Previous chunk 349 saved. Ledger updated.\n",
      "\n",
      "Submitting chunk 350 (50000 positions) for asynchronous saving...\n",
      "  Chunk 350 submitted. Main thread continues.\n",
      "  Total processed (optimistic): 17,550,000 positions\n",
      "  Progress: Line 20,610,510\n"
     ]
    },
    {
     "name": "stderr",
     "output_type": "stream",
     "text": [
      "Processing positions: 20668498lines [5:51:54, 814.66lines/s] "
     ]
    },
    {
     "name": "stdout",
     "output_type": "stream",
     "text": [
      "\n",
      "✓ Previous chunk 350 saved. Ledger updated.\n",
      "\n",
      "Submitting chunk 351 (50000 positions) for asynchronous saving...\n",
      "  Chunk 351 submitted. Main thread continues.\n",
      "  Total processed (optimistic): 17,600,000 positions\n",
      "  Progress: Line 20,668,448\n"
     ]
    },
    {
     "name": "stderr",
     "output_type": "stream",
     "text": [
      "Processing positions: 20700183lines [5:52:26, 1165.88lines/s]"
     ]
    },
    {
     "name": "stdout",
     "output_type": "stream",
     "text": [
      "Progress checkpoint: Line 20,700,000, Found 17,627,411 valid positions this session.\n"
     ]
    },
    {
     "name": "stderr",
     "output_type": "stream",
     "text": [
      "Processing positions: 20725855lines [5:52:48, 1107.93lines/s]"
     ]
    },
    {
     "name": "stdout",
     "output_type": "stream",
     "text": [
      "\n",
      "✓ Previous chunk 351 saved. Ledger updated.\n",
      "\n",
      "Submitting chunk 352 (50000 positions) for asynchronous saving...\n",
      "  Chunk 352 submitted. Main thread continues.\n",
      "  Total processed (optimistic): 17,650,000 positions\n",
      "  Progress: Line 20,725,888\n"
     ]
    },
    {
     "name": "stderr",
     "output_type": "stream",
     "text": [
      "Processing positions: 20783751lines [5:53:44, 1187.33lines/s]"
     ]
    },
    {
     "name": "stdout",
     "output_type": "stream",
     "text": [
      "\n",
      "✓ Previous chunk 352 saved. Ledger updated.\n",
      "\n",
      "Submitting chunk 353 (50000 positions) for asynchronous saving...\n",
      "  Chunk 353 submitted. Main thread continues.\n",
      "  Total processed (optimistic): 17,700,000 positions\n",
      "  Progress: Line 20,783,768\n"
     ]
    },
    {
     "name": "stderr",
     "output_type": "stream",
     "text": [
      "Processing positions: 20800123lines [5:54:02, 839.78lines/s] "
     ]
    },
    {
     "name": "stdout",
     "output_type": "stream",
     "text": [
      "Progress checkpoint: Line 20,800,000, Found 17,713,873 valid positions this session.\n"
     ]
    },
    {
     "name": "stderr",
     "output_type": "stream",
     "text": [
      "Processing positions: 20841667lines [5:54:38, 1124.87lines/s]"
     ]
    },
    {
     "name": "stdout",
     "output_type": "stream",
     "text": [
      "\n",
      "✓ Previous chunk 353 saved. Ledger updated.\n",
      "\n",
      "Submitting chunk 354 (50000 positions) for asynchronous saving...\n",
      "  Chunk 354 submitted. Main thread continues.\n",
      "  Total processed (optimistic): 17,750,000 positions\n",
      "  Progress: Line 20,841,668\n"
     ]
    },
    {
     "name": "stderr",
     "output_type": "stream",
     "text": [
      "Processing positions: 20900136lines [5:55:31, 1194.98lines/s]"
     ]
    },
    {
     "name": "stdout",
     "output_type": "stream",
     "text": [
      "Progress checkpoint: Line 20,900,000, Found 17,798,689 valid positions this session.\n"
     ]
    },
    {
     "name": "stderr",
     "output_type": "stream",
     "text": [
      "Processing positions: 20901634lines [5:55:32, 833.17lines/s] "
     ]
    },
    {
     "name": "stdout",
     "output_type": "stream",
     "text": [
      "\n",
      "✓ Previous chunk 354 saved. Ledger updated.\n",
      "\n",
      "Submitting chunk 355 (50000 positions) for asynchronous saving...\n",
      "  Chunk 355 submitted. Main thread continues.\n",
      "  Total processed (optimistic): 17,800,000 positions\n",
      "  Progress: Line 20,901,595\n"
     ]
    },
    {
     "name": "stderr",
     "output_type": "stream",
     "text": [
      "Processing positions: 20960133lines [5:56:26, 1149.65lines/s]"
     ]
    },
    {
     "name": "stdout",
     "output_type": "stream",
     "text": [
      "\n",
      "✓ Previous chunk 355 saved. Ledger updated.\n",
      "\n",
      "Submitting chunk 356 (50000 positions) for asynchronous saving...\n",
      "  Chunk 356 submitted. Main thread continues.\n",
      "  Total processed (optimistic): 17,850,000 positions\n",
      "  Progress: Line 20,960,155\n"
     ]
    },
    {
     "name": "stderr",
     "output_type": "stream",
     "text": [
      "Processing positions: 21000163lines [5:57:06, 1166.86lines/s]"
     ]
    },
    {
     "name": "stdout",
     "output_type": "stream",
     "text": [
      "Progress checkpoint: Line 21,000,000, Found 17,884,497 valid positions this session.\n"
     ]
    },
    {
     "name": "stderr",
     "output_type": "stream",
     "text": [
      "Processing positions: 21018421lines [5:57:21, 903.09lines/s] "
     ]
    },
    {
     "name": "stdout",
     "output_type": "stream",
     "text": [
      "\n",
      "✓ Previous chunk 356 saved. Ledger updated.\n",
      "\n",
      "Submitting chunk 357 (50000 positions) for asynchronous saving...\n",
      "  Chunk 357 submitted. Main thread continues.\n",
      "  Total processed (optimistic): 17,900,000 positions\n",
      "  Progress: Line 21,018,417\n"
     ]
    },
    {
     "name": "stderr",
     "output_type": "stream",
     "text": [
      "Processing positions: 21077472lines [5:58:15, 812.02lines/s] "
     ]
    },
    {
     "name": "stdout",
     "output_type": "stream",
     "text": [
      "\n",
      "✓ Previous chunk 357 saved. Ledger updated.\n",
      "\n",
      "Submitting chunk 358 (50000 positions) for asynchronous saving...\n",
      "  Chunk 358 submitted. Main thread continues.\n",
      "  Total processed (optimistic): 17,950,000 positions\n",
      "  Progress: Line 21,077,415\n"
     ]
    },
    {
     "name": "stderr",
     "output_type": "stream",
     "text": [
      "Processing positions: 21100139lines [5:58:38, 963.32lines/s] "
     ]
    },
    {
     "name": "stdout",
     "output_type": "stream",
     "text": [
      "Progress checkpoint: Line 21,100,000, Found 17,968,831 valid positions this session.\n"
     ]
    },
    {
     "name": "stderr",
     "output_type": "stream",
     "text": [
      "Processing positions: 21136950lines [5:59:09, 910.90lines/s] "
     ]
    },
    {
     "name": "stdout",
     "output_type": "stream",
     "text": [
      "\n",
      "✓ Previous chunk 358 saved. Ledger updated.\n",
      "\n",
      "Submitting chunk 359 (50000 positions) for asynchronous saving...\n",
      "  Chunk 359 submitted. Main thread continues.\n",
      "  Total processed (optimistic): 18,000,000 positions\n",
      "  Progress: Line 21,136,919\n"
     ]
    },
    {
     "name": "stderr",
     "output_type": "stream",
     "text": [
      "Processing positions: 21195303lines [6:00:03, 886.57lines/s] "
     ]
    },
    {
     "name": "stdout",
     "output_type": "stream",
     "text": [
      "\n",
      "✓ Previous chunk 359 saved. Ledger updated.\n",
      "\n",
      "Submitting chunk 360 (50000 positions) for asynchronous saving...\n",
      "  Chunk 360 submitted. Main thread continues.\n",
      "  Total processed (optimistic): 18,050,000 positions\n",
      "  Progress: Line 21,195,297\n"
     ]
    },
    {
     "name": "stderr",
     "output_type": "stream",
     "text": [
      "Processing positions: 21200087lines [6:00:09, 846.44lines/s] "
     ]
    },
    {
     "name": "stdout",
     "output_type": "stream",
     "text": [
      "Progress checkpoint: Line 21,200,000, Found 18,054,135 valid positions this session.\n"
     ]
    },
    {
     "name": "stderr",
     "output_type": "stream",
     "text": [
      "Processing positions: 21253084lines [6:00:57, 915.40lines/s] "
     ]
    },
    {
     "name": "stdout",
     "output_type": "stream",
     "text": [
      "\n",
      "✓ Previous chunk 360 saved. Ledger updated.\n",
      "\n",
      "Submitting chunk 361 (50000 positions) for asynchronous saving...\n",
      "  Chunk 361 submitted. Main thread continues.\n",
      "  Total processed (optimistic): 18,100,000 positions\n",
      "  Progress: Line 21,253,083\n"
     ]
    },
    {
     "name": "stderr",
     "output_type": "stream",
     "text": [
      "Processing positions: 21300104lines [6:01:45, 1092.77lines/s]"
     ]
    },
    {
     "name": "stdout",
     "output_type": "stream",
     "text": [
      "Progress checkpoint: Line 21,300,000, Found 18,141,190 valid positions this session.\n"
     ]
    },
    {
     "name": "stderr",
     "output_type": "stream",
     "text": [
      "Processing positions: 21310271lines [6:01:54, 871.25lines/s] "
     ]
    },
    {
     "name": "stdout",
     "output_type": "stream",
     "text": [
      "\n",
      "✓ Previous chunk 361 saved. Ledger updated.\n",
      "\n",
      "Submitting chunk 362 (50000 positions) for asynchronous saving...\n",
      "  Chunk 362 submitted. Main thread continues.\n",
      "  Total processed (optimistic): 18,150,000 positions\n",
      "  Progress: Line 21,310,255\n"
     ]
    },
    {
     "name": "stderr",
     "output_type": "stream",
     "text": [
      "Processing positions: 21369084lines [6:02:49, 951.10lines/s] "
     ]
    },
    {
     "name": "stdout",
     "output_type": "stream",
     "text": [
      "\n",
      "✓ Previous chunk 362 saved. Ledger updated.\n",
      "\n",
      "Submitting chunk 363 (50000 positions) for asynchronous saving...\n",
      "  Chunk 363 submitted. Main thread continues.\n",
      "  Total processed (optimistic): 18,200,000 positions\n",
      "  Progress: Line 21,369,084\n"
     ]
    },
    {
     "name": "stderr",
     "output_type": "stream",
     "text": [
      "Processing positions: 21400129lines [6:03:19, 1122.17lines/s]"
     ]
    },
    {
     "name": "stdout",
     "output_type": "stream",
     "text": [
      "Progress checkpoint: Line 21,400,000, Found 18,226,523 valid positions this session.\n"
     ]
    },
    {
     "name": "stderr",
     "output_type": "stream",
     "text": [
      "Processing positions: 21427248lines [6:03:43, 824.91lines/s] "
     ]
    },
    {
     "name": "stdout",
     "output_type": "stream",
     "text": [
      "\n",
      "✓ Previous chunk 363 saved. Ledger updated.\n",
      "\n",
      "Submitting chunk 364 (50000 positions) for asynchronous saving...\n",
      "  Chunk 364 submitted. Main thread continues.\n",
      "  Total processed (optimistic): 18,250,000 positions\n",
      "  Progress: Line 21,427,213\n"
     ]
    },
    {
     "name": "stderr",
     "output_type": "stream",
     "text": [
      "Processing positions: 21486883lines [6:04:36, 1204.98lines/s]"
     ]
    },
    {
     "name": "stdout",
     "output_type": "stream",
     "text": [
      "\n",
      "✓ Previous chunk 364 saved. Ledger updated.\n",
      "\n",
      "Submitting chunk 365 (50000 positions) for asynchronous saving...\n",
      "  Chunk 365 submitted. Main thread continues.\n",
      "  Total processed (optimistic): 18,300,000 positions\n",
      "  Progress: Line 21,486,937\n"
     ]
    },
    {
     "name": "stderr",
     "output_type": "stream",
     "text": [
      "Processing positions: 21500132lines [6:04:51, 1052.18lines/s]"
     ]
    },
    {
     "name": "stdout",
     "output_type": "stream",
     "text": [
      "Progress checkpoint: Line 21,500,000, Found 18,310,642 valid positions this session.\n"
     ]
    },
    {
     "name": "stderr",
     "output_type": "stream",
     "text": [
      "Processing positions: 21547369lines [6:05:31, 893.16lines/s] "
     ]
    },
    {
     "name": "stdout",
     "output_type": "stream",
     "text": [
      "\n",
      "✓ Previous chunk 365 saved. Ledger updated.\n",
      "\n",
      "Submitting chunk 366 (50000 positions) for asynchronous saving...\n",
      "  Chunk 366 submitted. Main thread continues.\n",
      "  Total processed (optimistic): 18,350,000 positions\n",
      "  Progress: Line 21,547,347\n"
     ]
    },
    {
     "name": "stderr",
     "output_type": "stream",
     "text": [
      "Processing positions: 21600199lines [6:06:20, 1085.14lines/s]"
     ]
    },
    {
     "name": "stdout",
     "output_type": "stream",
     "text": [
      "Progress checkpoint: Line 21,600,000, Found 18,394,785 valid positions this session.\n"
     ]
    },
    {
     "name": "stderr",
     "output_type": "stream",
     "text": [
      "Processing positions: 21606030lines [6:06:25, 860.48lines/s] "
     ]
    },
    {
     "name": "stdout",
     "output_type": "stream",
     "text": [
      "\n",
      "✓ Previous chunk 366 saved. Ledger updated.\n",
      "\n",
      "Submitting chunk 367 (50000 positions) for asynchronous saving...\n",
      "  Chunk 367 submitted. Main thread continues.\n",
      "  Total processed (optimistic): 18,400,000 positions\n",
      "  Progress: Line 21,606,026\n"
     ]
    },
    {
     "name": "stderr",
     "output_type": "stream",
     "text": [
      "Processing positions: 21664506lines [6:07:20, 1360.61lines/s]"
     ]
    },
    {
     "name": "stdout",
     "output_type": "stream",
     "text": [
      "\n",
      "✓ Previous chunk 367 saved. Ledger updated.\n",
      "\n",
      "Submitting chunk 368 (50000 positions) for asynchronous saving...\n",
      "  Chunk 368 submitted. Main thread continues.\n",
      "  Total processed (optimistic): 18,450,000 positions\n",
      "  Progress: Line 21,664,561\n"
     ]
    },
    {
     "name": "stderr",
     "output_type": "stream",
     "text": [
      "Processing positions: 21700136lines [6:07:54, 1203.21lines/s]"
     ]
    },
    {
     "name": "stdout",
     "output_type": "stream",
     "text": [
      "Progress checkpoint: Line 21,700,000, Found 18,479,640 valid positions this session.\n"
     ]
    },
    {
     "name": "stderr",
     "output_type": "stream",
     "text": [
      "Processing positions: 21723885lines [6:08:14, 1164.54lines/s]"
     ]
    },
    {
     "name": "stdout",
     "output_type": "stream",
     "text": [
      "\n",
      "✓ Previous chunk 368 saved. Ledger updated.\n",
      "\n",
      "Submitting chunk 369 (50000 positions) for asynchronous saving...\n",
      "  Chunk 369 submitted. Main thread continues.\n",
      "  Total processed (optimistic): 18,500,000 positions\n",
      "  Progress: Line 21,723,933\n"
     ]
    },
    {
     "name": "stderr",
     "output_type": "stream",
     "text": [
      "Processing positions: 21782840lines [6:09:09, 800.55lines/s] "
     ]
    },
    {
     "name": "stdout",
     "output_type": "stream",
     "text": [
      "\n",
      "✓ Previous chunk 369 saved. Ledger updated.\n",
      "\n",
      "Submitting chunk 370 (50000 positions) for asynchronous saving...\n",
      "  Chunk 370 submitted. Main thread continues.\n",
      "  Total processed (optimistic): 18,550,000 positions\n",
      "  Progress: Line 21,782,796\n"
     ]
    },
    {
     "name": "stderr",
     "output_type": "stream",
     "text": [
      "Processing positions: 21800160lines [6:09:27, 1203.02lines/s]"
     ]
    },
    {
     "name": "stdout",
     "output_type": "stream",
     "text": [
      "Progress checkpoint: Line 21,800,000, Found 18,564,568 valid positions this session.\n"
     ]
    },
    {
     "name": "stderr",
     "output_type": "stream",
     "text": [
      "Processing positions: 21840498lines [6:10:03, 873.50lines/s] "
     ]
    },
    {
     "name": "stdout",
     "output_type": "stream",
     "text": [
      "\n",
      "✓ Previous chunk 370 saved. Ledger updated.\n",
      "\n",
      "Submitting chunk 371 (50000 positions) for asynchronous saving...\n",
      "  Chunk 371 submitted. Main thread continues.\n",
      "  Total processed (optimistic): 18,600,000 positions\n",
      "  Progress: Line 21,840,482\n"
     ]
    },
    {
     "name": "stderr",
     "output_type": "stream",
     "text": [
      "Processing positions: 21897938lines [6:10:57, 1183.24lines/s]"
     ]
    },
    {
     "name": "stdout",
     "output_type": "stream",
     "text": [
      "\n",
      "✓ Previous chunk 371 saved. Ledger updated.\n",
      "\n",
      "Submitting chunk 372 (50000 positions) for asynchronous saving...\n",
      "  Chunk 372 submitted. Main thread continues.\n",
      "  Total processed (optimistic): 18,650,000 positions\n",
      "  Progress: Line 21,897,978\n"
     ]
    },
    {
     "name": "stderr",
     "output_type": "stream",
     "text": [
      "Processing positions: 21900157lines [6:11:00, 982.54lines/s] "
     ]
    },
    {
     "name": "stdout",
     "output_type": "stream",
     "text": [
      "Progress checkpoint: Line 21,900,000, Found 18,651,786 valid positions this session.\n"
     ]
    },
    {
     "name": "stderr",
     "output_type": "stream",
     "text": [
      "Processing positions: 21956107lines [6:11:51, 1270.59lines/s]"
     ]
    },
    {
     "name": "stdout",
     "output_type": "stream",
     "text": [
      "\n",
      "✓ Previous chunk 372 saved. Ledger updated.\n",
      "\n",
      "Submitting chunk 373 (50000 positions) for asynchronous saving...\n",
      "  Chunk 373 submitted. Main thread continues.\n",
      "  Total processed (optimistic): 18,700,000 positions\n",
      "  Progress: Line 21,956,147\n"
     ]
    },
    {
     "name": "stderr",
     "output_type": "stream",
     "text": [
      "Processing positions: 22000243lines [6:12:33, 1164.94lines/s]"
     ]
    },
    {
     "name": "stdout",
     "output_type": "stream",
     "text": [
      "Progress checkpoint: Line 22,000,000, Found 18,736,659 valid positions this session.\n"
     ]
    },
    {
     "name": "stderr",
     "output_type": "stream",
     "text": [
      "Processing positions: 22015298lines [6:12:46, 853.02lines/s] "
     ]
    },
    {
     "name": "stdout",
     "output_type": "stream",
     "text": [
      "\n",
      "✓ Previous chunk 373 saved. Ledger updated.\n",
      "\n",
      "Submitting chunk 374 (50000 positions) for asynchronous saving...\n",
      "  Chunk 374 submitted. Main thread continues.\n",
      "  Total processed (optimistic): 18,750,000 positions\n",
      "  Progress: Line 22,015,266\n"
     ]
    },
    {
     "name": "stderr",
     "output_type": "stream",
     "text": [
      "Processing positions: 22073951lines [6:13:41, 838.77lines/s] "
     ]
    },
    {
     "name": "stdout",
     "output_type": "stream",
     "text": [
      "\n",
      "✓ Previous chunk 374 saved. Ledger updated.\n",
      "\n",
      "Submitting chunk 375 (50000 positions) for asynchronous saving...\n",
      "  Chunk 375 submitted. Main thread continues.\n",
      "  Total processed (optimistic): 18,800,000 positions\n",
      "  Progress: Line 22,073,890\n"
     ]
    },
    {
     "name": "stderr",
     "output_type": "stream",
     "text": [
      "Processing positions: 22100217lines [6:14:08, 1287.55lines/s]"
     ]
    },
    {
     "name": "stdout",
     "output_type": "stream",
     "text": [
      "Progress checkpoint: Line 22,100,000, Found 18,822,121 valid positions this session.\n"
     ]
    },
    {
     "name": "stderr",
     "output_type": "stream",
     "text": [
      "Processing positions: 22132339lines [6:14:35, 1110.76lines/s]"
     ]
    },
    {
     "name": "stdout",
     "output_type": "stream",
     "text": [
      "\n",
      "✓ Previous chunk 375 saved. Ledger updated.\n",
      "\n",
      "Submitting chunk 376 (50000 positions) for asynchronous saving...\n",
      "  Chunk 376 submitted. Main thread continues.\n",
      "  Total processed (optimistic): 18,850,000 positions\n",
      "  Progress: Line 22,132,381\n"
     ]
    },
    {
     "name": "stderr",
     "output_type": "stream",
     "text": [
      "Processing positions: 22189872lines [6:15:30, 900.36lines/s] "
     ]
    },
    {
     "name": "stdout",
     "output_type": "stream",
     "text": [
      "\n",
      "✓ Previous chunk 376 saved. Ledger updated.\n",
      "\n",
      "Submitting chunk 377 (50000 positions) for asynchronous saving...\n",
      "  Chunk 377 submitted. Main thread continues.\n",
      "  Total processed (optimistic): 18,900,000 positions\n",
      "  Progress: Line 22,189,860\n"
     ]
    },
    {
     "name": "stderr",
     "output_type": "stream",
     "text": [
      "Processing positions: 22200128lines [6:15:42, 899.10lines/s] "
     ]
    },
    {
     "name": "stdout",
     "output_type": "stream",
     "text": [
      "Progress checkpoint: Line 22,200,000, Found 18,908,700 valid positions this session.\n"
     ]
    },
    {
     "name": "stderr",
     "output_type": "stream",
     "text": [
      "Processing positions: 22248173lines [6:16:24, 832.69lines/s] "
     ]
    },
    {
     "name": "stdout",
     "output_type": "stream",
     "text": [
      "\n",
      "✓ Previous chunk 377 saved. Ledger updated.\n",
      "\n",
      "Submitting chunk 378 (50000 positions) for asynchronous saving...\n",
      "  Chunk 378 submitted. Main thread continues.\n",
      "  Total processed (optimistic): 18,950,000 positions\n",
      "  Progress: Line 22,248,166\n"
     ]
    },
    {
     "name": "stderr",
     "output_type": "stream",
     "text": [
      "Processing positions: 22300126lines [6:17:12, 1187.43lines/s]"
     ]
    },
    {
     "name": "stdout",
     "output_type": "stream",
     "text": [
      "Progress checkpoint: Line 22,300,000, Found 18,994,175 valid positions this session.\n"
     ]
    },
    {
     "name": "stderr",
     "output_type": "stream",
     "text": [
      "Processing positions: 22307019lines [6:17:18, 819.03lines/s] "
     ]
    },
    {
     "name": "stdout",
     "output_type": "stream",
     "text": [
      "\n",
      "✓ Previous chunk 378 saved. Ledger updated.\n",
      "\n",
      "Submitting chunk 379 (50000 positions) for asynchronous saving...\n",
      "  Chunk 379 submitted. Main thread continues.\n",
      "  Total processed (optimistic): 19,000,000 positions\n",
      "  Progress: Line 22,306,975\n"
     ]
    },
    {
     "name": "stderr",
     "output_type": "stream",
     "text": [
      "Processing positions: 22365123lines [6:18:13, 725.70lines/s] "
     ]
    },
    {
     "name": "stdout",
     "output_type": "stream",
     "text": [
      "\n",
      "✓ Previous chunk 379 saved. Ledger updated.\n",
      "\n",
      "Submitting chunk 380 (50000 positions) for asynchronous saving...\n",
      "  Chunk 380 submitted. Main thread continues.\n",
      "  Total processed (optimistic): 19,050,000 positions\n",
      "  Progress: Line 22,365,054\n"
     ]
    },
    {
     "name": "stderr",
     "output_type": "stream",
     "text": [
      "Processing positions: 22400089lines [6:18:49, 1093.64lines/s]"
     ]
    },
    {
     "name": "stdout",
     "output_type": "stream",
     "text": [
      "Progress checkpoint: Line 22,400,000, Found 19,080,483 valid positions this session.\n"
     ]
    },
    {
     "name": "stderr",
     "output_type": "stream",
     "text": [
      "Processing positions: 22422704lines [6:19:08, 1088.91lines/s]"
     ]
    },
    {
     "name": "stdout",
     "output_type": "stream",
     "text": [
      "\n",
      "✓ Previous chunk 380 saved. Ledger updated.\n",
      "\n",
      "Submitting chunk 381 (50000 positions) for asynchronous saving...\n",
      "  Chunk 381 submitted. Main thread continues.\n",
      "  Total processed (optimistic): 19,100,000 positions\n",
      "  Progress: Line 22,422,722\n"
     ]
    },
    {
     "name": "stderr",
     "output_type": "stream",
     "text": [
      "Processing positions: 22479830lines [6:20:03, 781.33lines/s] "
     ]
    },
    {
     "name": "stdout",
     "output_type": "stream",
     "text": [
      "\n",
      "✓ Previous chunk 381 saved. Ledger updated.\n",
      "\n",
      "Submitting chunk 382 (50000 positions) for asynchronous saving...\n",
      "  Chunk 382 submitted. Main thread continues.\n",
      "  Total processed (optimistic): 19,150,000 positions\n",
      "  Progress: Line 22,479,780\n"
     ]
    },
    {
     "name": "stderr",
     "output_type": "stream",
     "text": [
      "Processing positions: 22500104lines [6:20:24, 897.00lines/s] "
     ]
    },
    {
     "name": "stdout",
     "output_type": "stream",
     "text": [
      "Progress checkpoint: Line 22,500,000, Found 19,167,096 valid positions this session.\n"
     ]
    },
    {
     "name": "stderr",
     "output_type": "stream",
     "text": [
      "Processing positions: 22539032lines [6:20:57, 944.73lines/s] "
     ]
    },
    {
     "name": "stdout",
     "output_type": "stream",
     "text": [
      "\n",
      "✓ Previous chunk 382 saved. Ledger updated.\n",
      "\n",
      "Submitting chunk 383 (50000 positions) for asynchronous saving...\n",
      "  Chunk 383 submitted. Main thread continues.\n",
      "  Total processed (optimistic): 19,200,000 positions\n",
      "  Progress: Line 22,539,028\n"
     ]
    },
    {
     "name": "stderr",
     "output_type": "stream",
     "text": [
      "Processing positions: 22598783lines [6:21:51, 867.99lines/s] "
     ]
    },
    {
     "name": "stdout",
     "output_type": "stream",
     "text": [
      "\n",
      "✓ Previous chunk 383 saved. Ledger updated.\n",
      "\n",
      "Submitting chunk 384 (50000 positions) for asynchronous saving...\n",
      "  Chunk 384 submitted. Main thread continues.\n",
      "  Total processed (optimistic): 19,250,000 positions\n",
      "  Progress: Line 22,598,748\n"
     ]
    },
    {
     "name": "stderr",
     "output_type": "stream",
     "text": [
      "Processing positions: 22600082lines [6:21:54, 516.72lines/s]"
     ]
    },
    {
     "name": "stdout",
     "output_type": "stream",
     "text": [
      "Progress checkpoint: Line 22,600,000, Found 19,251,055 valid positions this session.\n"
     ]
    },
    {
     "name": "stderr",
     "output_type": "stream",
     "text": [
      "Processing positions: 22657557lines [6:22:45, 884.22lines/s] "
     ]
    },
    {
     "name": "stdout",
     "output_type": "stream",
     "text": [
      "\n",
      "✓ Previous chunk 384 saved. Ledger updated.\n",
      "\n",
      "Submitting chunk 385 (50000 positions) for asynchronous saving...\n",
      "  Chunk 385 submitted. Main thread continues.\n",
      "  Total processed (optimistic): 19,300,000 positions\n",
      "  Progress: Line 22,657,550\n"
     ]
    },
    {
     "name": "stderr",
     "output_type": "stream",
     "text": [
      "Processing positions: 22700129lines [6:23:26, 1080.07lines/s]"
     ]
    },
    {
     "name": "stdout",
     "output_type": "stream",
     "text": [
      "Progress checkpoint: Line 22,700,000, Found 19,336,722 valid positions this session.\n"
     ]
    },
    {
     "name": "stderr",
     "output_type": "stream",
     "text": [
      "Processing positions: 22714980lines [6:23:40, 820.60lines/s] "
     ]
    },
    {
     "name": "stdout",
     "output_type": "stream",
     "text": [
      "\n",
      "✓ Previous chunk 385 saved. Ledger updated.\n",
      "\n",
      "Submitting chunk 386 (50000 positions) for asynchronous saving...\n",
      "  Chunk 386 submitted. Main thread continues.\n",
      "  Total processed (optimistic): 19,350,000 positions\n",
      "  Progress: Line 22,714,977\n"
     ]
    },
    {
     "name": "stderr",
     "output_type": "stream",
     "text": [
      "Processing positions: 22772588lines [6:24:34, 1159.85lines/s]"
     ]
    },
    {
     "name": "stdout",
     "output_type": "stream",
     "text": [
      "\n",
      "✓ Previous chunk 386 saved. Ledger updated.\n",
      "\n",
      "Submitting chunk 387 (50000 positions) for asynchronous saving...\n",
      "  Chunk 387 submitted. Main thread continues.\n",
      "  Total processed (optimistic): 19,400,000 positions\n",
      "  Progress: Line 22,772,628\n"
     ]
    },
    {
     "name": "stderr",
     "output_type": "stream",
     "text": [
      "Processing positions: 22800239lines [6:25:03, 1181.79lines/s]"
     ]
    },
    {
     "name": "stdout",
     "output_type": "stream",
     "text": [
      "Progress checkpoint: Line 22,800,000, Found 19,423,822 valid positions this session.\n"
     ]
    },
    {
     "name": "stderr",
     "output_type": "stream",
     "text": [
      "Processing positions: 22830456lines [6:25:29, 885.53lines/s] "
     ]
    },
    {
     "name": "stdout",
     "output_type": "stream",
     "text": [
      "\n",
      "✓ Previous chunk 387 saved. Ledger updated.\n",
      "\n",
      "Submitting chunk 388 (50000 positions) for asynchronous saving...\n",
      "  Chunk 388 submitted. Main thread continues.\n",
      "  Total processed (optimistic): 19,450,000 positions\n",
      "  Progress: Line 22,830,411\n"
     ]
    },
    {
     "name": "stderr",
     "output_type": "stream",
     "text": [
      "Processing positions: 22889439lines [6:26:23, 1182.36lines/s]"
     ]
    },
    {
     "name": "stdout",
     "output_type": "stream",
     "text": [
      "\n",
      "✓ Previous chunk 388 saved. Ledger updated.\n",
      "\n",
      "Submitting chunk 389 (50000 positions) for asynchronous saving...\n",
      "  Chunk 389 submitted. Main thread continues.\n",
      "  Total processed (optimistic): 19,500,000 positions\n",
      "  Progress: Line 22,889,471\n"
     ]
    },
    {
     "name": "stderr",
     "output_type": "stream",
     "text": [
      "Processing positions: 22900127lines [6:26:35, 1068.58lines/s]"
     ]
    },
    {
     "name": "stdout",
     "output_type": "stream",
     "text": [
      "Progress checkpoint: Line 22,900,000, Found 19,508,748 valid positions this session.\n"
     ]
    },
    {
     "name": "stderr",
     "output_type": "stream",
     "text": [
      "Processing positions: 22947363lines [6:27:17, 911.65lines/s] "
     ]
    },
    {
     "name": "stdout",
     "output_type": "stream",
     "text": [
      "\n",
      "✓ Previous chunk 389 saved. Ledger updated.\n",
      "\n",
      "Submitting chunk 390 (50000 positions) for asynchronous saving...\n",
      "  Chunk 390 submitted. Main thread continues.\n",
      "  Total processed (optimistic): 19,550,000 positions\n",
      "  Progress: Line 22,947,349\n"
     ]
    },
    {
     "name": "stderr",
     "output_type": "stream",
     "text": [
      "Processing positions: 23000164lines [6:28:07, 1114.53lines/s]"
     ]
    },
    {
     "name": "stdout",
     "output_type": "stream",
     "text": [
      "Progress checkpoint: Line 23,000,000, Found 19,596,103 valid positions this session.\n"
     ]
    },
    {
     "name": "stderr",
     "output_type": "stream",
     "text": [
      "Processing positions: 23004464lines [6:28:11, 808.91lines/s] "
     ]
    },
    {
     "name": "stdout",
     "output_type": "stream",
     "text": [
      "\n",
      "✓ Previous chunk 390 saved. Ledger updated.\n",
      "\n",
      "Submitting chunk 391 (50000 positions) for asynchronous saving...\n",
      "  Chunk 391 submitted. Main thread continues.\n",
      "  Total processed (optimistic): 19,600,000 positions\n",
      "  Progress: Line 23,004,430\n"
     ]
    },
    {
     "name": "stderr",
     "output_type": "stream",
     "text": [
      "Processing positions: 23060812lines [6:29:05, 825.18lines/s] "
     ]
    },
    {
     "name": "stdout",
     "output_type": "stream",
     "text": [
      "\n",
      "✓ Previous chunk 391 saved. Ledger updated.\n",
      "\n",
      "Submitting chunk 392 (50000 positions) for asynchronous saving...\n",
      "  Chunk 392 submitted. Main thread continues.\n",
      "  Total processed (optimistic): 19,650,000 positions\n",
      "  Progress: Line 23,060,782\n"
     ]
    },
    {
     "name": "stderr",
     "output_type": "stream",
     "text": [
      "Processing positions: 23100210lines [6:29:45, 1108.42lines/s]"
     ]
    },
    {
     "name": "stdout",
     "output_type": "stream",
     "text": [
      "Progress checkpoint: Line 23,100,000, Found 19,684,694 valid positions this session.\n"
     ]
    },
    {
     "name": "stderr",
     "output_type": "stream",
     "text": [
      "Processing positions: 23117224lines [6:30:00, 1207.41lines/s]"
     ]
    },
    {
     "name": "stdout",
     "output_type": "stream",
     "text": [
      "\n",
      "✓ Previous chunk 392 saved. Ledger updated.\n",
      "\n",
      "Submitting chunk 393 (50000 positions) for asynchronous saving...\n",
      "  Chunk 393 submitted. Main thread continues.\n",
      "  Total processed (optimistic): 19,700,000 positions\n",
      "  Progress: Line 23,117,266\n"
     ]
    },
    {
     "name": "stderr",
     "output_type": "stream",
     "text": [
      "Processing positions: 23174807lines [6:30:54, 829.83lines/s] "
     ]
    },
    {
     "name": "stdout",
     "output_type": "stream",
     "text": [
      "\n",
      "✓ Previous chunk 393 saved. Ledger updated.\n",
      "\n",
      "Submitting chunk 394 (50000 positions) for asynchronous saving...\n",
      "  Chunk 394 submitted. Main thread continues.\n",
      "  Total processed (optimistic): 19,750,000 positions\n",
      "  Progress: Line 23,174,759\n"
     ]
    },
    {
     "name": "stderr",
     "output_type": "stream",
     "text": [
      "Processing positions: 23200213lines [6:31:21, 1217.46lines/s]"
     ]
    },
    {
     "name": "stdout",
     "output_type": "stream",
     "text": [
      "Progress checkpoint: Line 23,200,000, Found 19,771,721 valid positions this session.\n"
     ]
    },
    {
     "name": "stderr",
     "output_type": "stream",
     "text": [
      "Processing positions: 23233745lines [6:31:49, 866.43lines/s] "
     ]
    },
    {
     "name": "stdout",
     "output_type": "stream",
     "text": [
      "\n",
      "✓ Previous chunk 394 saved. Ledger updated.\n",
      "\n",
      "Submitting chunk 395 (50000 positions) for asynchronous saving...\n",
      "  Chunk 395 submitted. Main thread continues.\n",
      "  Total processed (optimistic): 19,800,000 positions\n",
      "  Progress: Line 23,233,714\n"
     ]
    },
    {
     "name": "stderr",
     "output_type": "stream",
     "text": [
      "Processing positions: 23291491lines [6:32:44, 862.88lines/s] "
     ]
    },
    {
     "name": "stdout",
     "output_type": "stream",
     "text": [
      "\n",
      "✓ Previous chunk 395 saved. Ledger updated.\n",
      "\n",
      "Submitting chunk 396 (50000 positions) for asynchronous saving...\n",
      "  Chunk 396 submitted. Main thread continues.\n",
      "  Total processed (optimistic): 19,850,000 positions\n",
      "  Progress: Line 23,291,460\n"
     ]
    },
    {
     "name": "stderr",
     "output_type": "stream",
     "text": [
      "Processing positions: 23300110lines [6:32:55, 1000.85lines/s]"
     ]
    },
    {
     "name": "stdout",
     "output_type": "stream",
     "text": [
      "Progress checkpoint: Line 23,300,000, Found 19,857,557 valid positions this session.\n"
     ]
    },
    {
     "name": "stderr",
     "output_type": "stream",
     "text": [
      "Processing positions: 23348638lines [6:33:39, 804.77lines/s] "
     ]
    },
    {
     "name": "stdout",
     "output_type": "stream",
     "text": [
      "\n",
      "✓ Previous chunk 396 saved. Ledger updated.\n",
      "\n",
      "Submitting chunk 397 (50000 positions) for asynchronous saving...\n",
      "  Chunk 397 submitted. Main thread continues.\n",
      "  Total processed (optimistic): 19,900,000 positions\n",
      "  Progress: Line 23,348,591\n"
     ]
    },
    {
     "name": "stderr",
     "output_type": "stream",
     "text": [
      "Processing positions: 23400163lines [6:34:28, 1027.64lines/s]"
     ]
    },
    {
     "name": "stdout",
     "output_type": "stream",
     "text": [
      "Progress checkpoint: Line 23,400,000, Found 19,945,142 valid positions this session.\n"
     ]
    },
    {
     "name": "stderr",
     "output_type": "stream",
     "text": [
      "Processing positions: 23405637lines [6:34:33, 859.46lines/s] "
     ]
    },
    {
     "name": "stdout",
     "output_type": "stream",
     "text": [
      "\n",
      "✓ Previous chunk 397 saved. Ledger updated.\n",
      "\n",
      "Submitting chunk 398 (50000 positions) for asynchronous saving...\n",
      "  Chunk 398 submitted. Main thread continues.\n",
      "  Total processed (optimistic): 19,950,000 positions\n",
      "  Progress: Line 23,405,607\n"
     ]
    },
    {
     "name": "stderr",
     "output_type": "stream",
     "text": [
      "Processing positions: 23463361lines [6:35:27, 1193.69lines/s]"
     ]
    },
    {
     "name": "stdout",
     "output_type": "stream",
     "text": [
      "\n",
      "✓ Previous chunk 398 saved. Ledger updated.\n",
      "\n",
      "Submitting chunk 399 (50000 positions) for asynchronous saving...\n",
      "  Chunk 399 submitted. Main thread continues.\n",
      "  Total processed (optimistic): 20,000,000 positions\n",
      "  Progress: Line 23,463,397\n"
     ]
    },
    {
     "name": "stderr",
     "output_type": "stream",
     "text": [
      "Processing positions: 23500216lines [6:36:02, 1201.59lines/s]"
     ]
    },
    {
     "name": "stdout",
     "output_type": "stream",
     "text": [
      "Progress checkpoint: Line 23,500,000, Found 20,031,359 valid positions this session.\n"
     ]
    },
    {
     "name": "stderr",
     "output_type": "stream",
     "text": [
      "Processing positions: 23521547lines [6:36:20, 814.39lines/s] "
     ]
    },
    {
     "name": "stdout",
     "output_type": "stream",
     "text": [
      "\n",
      "✓ Previous chunk 399 saved. Ledger updated.\n",
      "\n",
      "Submitting chunk 400 (50000 positions) for asynchronous saving...\n",
      "  Chunk 400 submitted. Main thread continues.\n",
      "  Total processed (optimistic): 20,050,000 positions\n",
      "  Progress: Line 23,521,481\n"
     ]
    },
    {
     "name": "stderr",
     "output_type": "stream",
     "text": [
      "Processing positions: 23579892lines [6:37:14, 807.15lines/s] "
     ]
    },
    {
     "name": "stdout",
     "output_type": "stream",
     "text": [
      "\n",
      "✓ Previous chunk 400 saved. Ledger updated.\n",
      "\n",
      "Submitting chunk 401 (50000 positions) for asynchronous saving...\n",
      "  Chunk 401 submitted. Main thread continues.\n",
      "  Total processed (optimistic): 20,100,000 positions\n",
      "  Progress: Line 23,579,833\n"
     ]
    },
    {
     "name": "stderr",
     "output_type": "stream",
     "text": [
      "Processing positions: 23600150lines [6:37:37, 926.41lines/s] "
     ]
    },
    {
     "name": "stdout",
     "output_type": "stream",
     "text": [
      "Progress checkpoint: Line 23,600,000, Found 20,117,848 valid positions this session.\n"
     ]
    },
    {
     "name": "stderr",
     "output_type": "stream",
     "text": [
      "Processing positions: 23637109lines [6:38:08, 926.45lines/s] "
     ]
    },
    {
     "name": "stdout",
     "output_type": "stream",
     "text": [
      "\n",
      "✓ Previous chunk 401 saved. Ledger updated.\n",
      "\n",
      "Submitting chunk 402 (50000 positions) for asynchronous saving...\n",
      "  Chunk 402 submitted. Main thread continues.\n",
      "  Total processed (optimistic): 20,150,000 positions\n",
      "  Progress: Line 23,637,102\n"
     ]
    },
    {
     "name": "stderr",
     "output_type": "stream",
     "text": [
      "Processing positions: 23694316lines [6:39:02, 791.32lines/s] "
     ]
    },
    {
     "name": "stdout",
     "output_type": "stream",
     "text": [
      "\n",
      "✓ Previous chunk 402 saved. Ledger updated.\n",
      "\n",
      "Submitting chunk 403 (50000 positions) for asynchronous saving...\n",
      "  Chunk 403 submitted. Main thread continues.\n",
      "  Total processed (optimistic): 20,200,000 positions\n",
      "  Progress: Line 23,694,266\n"
     ]
    },
    {
     "name": "stderr",
     "output_type": "stream",
     "text": [
      "Processing positions: 23700121lines [6:39:10, 959.26lines/s] "
     ]
    },
    {
     "name": "stdout",
     "output_type": "stream",
     "text": [
      "Progress checkpoint: Line 23,700,000, Found 20,205,114 valid positions this session.\n"
     ]
    },
    {
     "name": "stderr",
     "output_type": "stream",
     "text": [
      "Processing positions: 23751438lines [6:39:56, 1101.73lines/s]"
     ]
    },
    {
     "name": "stdout",
     "output_type": "stream",
     "text": [
      "\n",
      "✓ Previous chunk 403 saved. Ledger updated.\n",
      "\n",
      "Submitting chunk 404 (50000 positions) for asynchronous saving...\n",
      "  Chunk 404 submitted. Main thread continues.\n",
      "  Total processed (optimistic): 20,250,000 positions\n",
      "  Progress: Line 23,751,449\n"
     ]
    },
    {
     "name": "stderr",
     "output_type": "stream",
     "text": [
      "Processing positions: 23800223lines [6:40:43, 1116.50lines/s]"
     ]
    },
    {
     "name": "stdout",
     "output_type": "stream",
     "text": [
      "Progress checkpoint: Line 23,800,000, Found 20,292,546 valid positions this session.\n"
     ]
    },
    {
     "name": "stderr",
     "output_type": "stream",
     "text": [
      "Processing positions: 23808453lines [6:40:51, 736.32lines/s] "
     ]
    },
    {
     "name": "stdout",
     "output_type": "stream",
     "text": [
      "\n",
      "✓ Previous chunk 404 saved. Ledger updated.\n",
      "\n",
      "Submitting chunk 405 (50000 positions) for asynchronous saving...\n",
      "  Chunk 405 submitted. Main thread continues.\n",
      "  Total processed (optimistic): 20,300,000 positions\n",
      "  Progress: Line 23,808,388\n"
     ]
    },
    {
     "name": "stderr",
     "output_type": "stream",
     "text": [
      "Processing positions: 23866230lines [6:41:45, 838.22lines/s] "
     ]
    },
    {
     "name": "stdout",
     "output_type": "stream",
     "text": [
      "\n",
      "✓ Previous chunk 405 saved. Ledger updated.\n",
      "\n",
      "Submitting chunk 406 (50000 positions) for asynchronous saving...\n",
      "  Chunk 406 submitted. Main thread continues.\n",
      "  Total processed (optimistic): 20,350,000 positions\n",
      "  Progress: Line 23,866,210\n"
     ]
    },
    {
     "name": "stderr",
     "output_type": "stream",
     "text": [
      "Processing positions: 23900215lines [6:42:20, 1185.43lines/s]"
     ]
    },
    {
     "name": "stdout",
     "output_type": "stream",
     "text": [
      "Progress checkpoint: Line 23,900,000, Found 20,379,611 valid positions this session.\n"
     ]
    },
    {
     "name": "stderr",
     "output_type": "stream",
     "text": [
      "Processing positions: 23923615lines [6:42:40, 788.30lines/s] "
     ]
    },
    {
     "name": "stdout",
     "output_type": "stream",
     "text": [
      "\n",
      "✓ Previous chunk 406 saved. Ledger updated.\n",
      "\n",
      "Submitting chunk 407 (50000 positions) for asynchronous saving...\n",
      "  Chunk 407 submitted. Main thread continues.\n",
      "  Total processed (optimistic): 20,400,000 positions\n",
      "  Progress: Line 23,923,594\n"
     ]
    },
    {
     "name": "stderr",
     "output_type": "stream",
     "text": [
      "Processing positions: 23981227lines [6:43:34, 889.97lines/s] "
     ]
    },
    {
     "name": "stdout",
     "output_type": "stream",
     "text": [
      "\n",
      "✓ Previous chunk 407 saved. Ledger updated.\n",
      "\n",
      "Submitting chunk 408 (50000 positions) for asynchronous saving...\n",
      "  Chunk 408 submitted. Main thread continues.\n",
      "  Total processed (optimistic): 20,450,000 positions\n",
      "  Progress: Line 23,981,221\n"
     ]
    },
    {
     "name": "stderr",
     "output_type": "stream",
     "text": [
      "Processing positions: 24000104lines [6:43:55, 881.66lines/s] "
     ]
    },
    {
     "name": "stdout",
     "output_type": "stream",
     "text": [
      "Progress checkpoint: Line 24,000,000, Found 20,466,377 valid positions this session.\n"
     ]
    },
    {
     "name": "stderr",
     "output_type": "stream",
     "text": [
      "Processing positions: 24038846lines [6:44:29, 1100.12lines/s]"
     ]
    },
    {
     "name": "stdout",
     "output_type": "stream",
     "text": [
      "\n",
      "✓ Previous chunk 408 saved. Ledger updated.\n",
      "\n",
      "Submitting chunk 409 (50000 positions) for asynchronous saving...\n",
      "  Chunk 409 submitted. Main thread continues.\n",
      "  Total processed (optimistic): 20,500,000 positions\n",
      "  Progress: Line 24,038,849\n"
     ]
    },
    {
     "name": "stderr",
     "output_type": "stream",
     "text": [
      "Processing positions: 24096490lines [6:45:23, 918.26lines/s] "
     ]
    },
    {
     "name": "stdout",
     "output_type": "stream",
     "text": [
      "\n",
      "✓ Previous chunk 409 saved. Ledger updated.\n",
      "\n",
      "Submitting chunk 410 (50000 positions) for asynchronous saving...\n",
      "  Chunk 410 submitted. Main thread continues.\n",
      "  Total processed (optimistic): 20,550,000 positions\n",
      "  Progress: Line 24,096,483\n"
     ]
    },
    {
     "name": "stderr",
     "output_type": "stream",
     "text": [
      "Processing positions: 24100210lines [6:45:28, 986.15lines/s] "
     ]
    },
    {
     "name": "stdout",
     "output_type": "stream",
     "text": [
      "Progress checkpoint: Line 24,100,000, Found 20,553,022 valid positions this session.\n"
     ]
    },
    {
     "name": "stderr",
     "output_type": "stream",
     "text": [
      "Processing positions: 24154746lines [6:46:16, 1183.60lines/s]"
     ]
    },
    {
     "name": "stdout",
     "output_type": "stream",
     "text": [
      "\n",
      "✓ Previous chunk 410 saved. Ledger updated.\n",
      "\n",
      "Submitting chunk 411 (50000 positions) for asynchronous saving...\n",
      "  Chunk 411 submitted. Main thread continues.\n",
      "  Total processed (optimistic): 20,600,000 positions\n",
      "  Progress: Line 24,154,790\n"
     ]
    },
    {
     "name": "stderr",
     "output_type": "stream",
     "text": [
      "Processing positions: 24200140lines [6:47:00, 1116.66lines/s]"
     ]
    },
    {
     "name": "stdout",
     "output_type": "stream",
     "text": [
      "Progress checkpoint: Line 24,200,000, Found 20,639,165 valid positions this session.\n"
     ]
    },
    {
     "name": "stderr",
     "output_type": "stream",
     "text": [
      "Processing positions: 24212456lines [6:47:10, 1227.21lines/s]"
     ]
    },
    {
     "name": "stdout",
     "output_type": "stream",
     "text": [
      "\n",
      "✓ Previous chunk 411 saved. Ledger updated.\n",
      "\n",
      "Submitting chunk 412 (50000 positions) for asynchronous saving...\n",
      "  Chunk 412 submitted. Main thread continues.\n",
      "  Total processed (optimistic): 20,650,000 positions\n",
      "  Progress: Line 24,212,468\n"
     ]
    },
    {
     "name": "stderr",
     "output_type": "stream",
     "text": [
      "Processing positions: 24270198lines [6:48:03, 1227.02lines/s]"
     ]
    },
    {
     "name": "stdout",
     "output_type": "stream",
     "text": [
      "\n",
      "✓ Previous chunk 412 saved. Ledger updated.\n",
      "\n",
      "Submitting chunk 413 (50000 positions) for asynchronous saving...\n",
      "  Chunk 413 submitted. Main thread continues.\n",
      "  Total processed (optimistic): 20,700,000 positions\n",
      "  Progress: Line 24,270,208\n"
     ]
    },
    {
     "name": "stderr",
     "output_type": "stream",
     "text": [
      "Processing positions: 24300237lines [6:48:34, 1150.18lines/s]"
     ]
    },
    {
     "name": "stdout",
     "output_type": "stream",
     "text": [
      "Progress checkpoint: Line 24,300,000, Found 20,726,263 valid positions this session.\n"
     ]
    },
    {
     "name": "stderr",
     "output_type": "stream",
     "text": [
      "Processing positions: 24326735lines [6:48:58, 1233.42lines/s]"
     ]
    },
    {
     "name": "stdout",
     "output_type": "stream",
     "text": [
      "\n",
      "✓ Previous chunk 413 saved. Ledger updated.\n",
      "\n",
      "Submitting chunk 414 (50000 positions) for asynchronous saving...\n",
      "  Chunk 414 submitted. Main thread continues.\n",
      "  Total processed (optimistic): 20,750,000 positions\n",
      "  Progress: Line 24,326,747\n"
     ]
    },
    {
     "name": "stderr",
     "output_type": "stream",
     "text": [
      "Processing positions: 24384171lines [6:49:52, 1157.59lines/s]"
     ]
    },
    {
     "name": "stdout",
     "output_type": "stream",
     "text": [
      "\n",
      "✓ Previous chunk 414 saved. Ledger updated.\n",
      "\n",
      "Submitting chunk 415 (50000 positions) for asynchronous saving...\n",
      "  Chunk 415 submitted. Main thread continues.\n",
      "  Total processed (optimistic): 20,800,000 positions\n",
      "  Progress: Line 24,384,175\n"
     ]
    },
    {
     "name": "stderr",
     "output_type": "stream",
     "text": [
      "Processing positions: 24400177lines [6:50:09, 1011.61lines/s]"
     ]
    },
    {
     "name": "stdout",
     "output_type": "stream",
     "text": [
      "Progress checkpoint: Line 24,400,000, Found 20,813,453 valid positions this session.\n"
     ]
    },
    {
     "name": "stderr",
     "output_type": "stream",
     "text": [
      "Processing positions: 24442239lines [6:50:46, 1172.24lines/s]"
     ]
    },
    {
     "name": "stdout",
     "output_type": "stream",
     "text": [
      "\n",
      "✓ Previous chunk 415 saved. Ledger updated.\n",
      "\n",
      "Submitting chunk 416 (50000 positions) for asynchronous saving...\n",
      "  Chunk 416 submitted. Main thread continues.\n",
      "  Total processed (optimistic): 20,850,000 positions\n",
      "  Progress: Line 24,442,262\n"
     ]
    },
    {
     "name": "stderr",
     "output_type": "stream",
     "text": [
      "Processing positions: 24500076lines [6:51:40, 1140.00lines/s]"
     ]
    },
    {
     "name": "stdout",
     "output_type": "stream",
     "text": [
      "Progress checkpoint: Line 24,500,000, Found 20,899,915 valid positions this session.\n",
      "\n",
      "✓ Previous chunk 416 saved. Ledger updated.\n",
      "\n",
      "Submitting chunk 417 (50000 positions) for asynchronous saving...\n",
      "  Chunk 417 submitted. Main thread continues.\n",
      "  Total processed (optimistic): 20,900,000 positions\n",
      "  Progress: Line 24,500,092\n"
     ]
    },
    {
     "name": "stderr",
     "output_type": "stream",
     "text": [
      "Processing positions: 24558016lines [6:52:35, 877.82lines/s] "
     ]
    },
    {
     "name": "stdout",
     "output_type": "stream",
     "text": [
      "\n",
      "✓ Previous chunk 417 saved. Ledger updated.\n",
      "\n",
      "Submitting chunk 418 (50000 positions) for asynchronous saving...\n",
      "  Chunk 418 submitted. Main thread continues.\n",
      "  Total processed (optimistic): 20,950,000 positions\n",
      "  Progress: Line 24,557,979\n"
     ]
    },
    {
     "name": "stderr",
     "output_type": "stream",
     "text": [
      "Processing positions: 24600180lines [6:53:17, 1272.59lines/s]"
     ]
    },
    {
     "name": "stdout",
     "output_type": "stream",
     "text": [
      "Progress checkpoint: Line 24,600,000, Found 20,987,059 valid positions this session.\n"
     ]
    },
    {
     "name": "stderr",
     "output_type": "stream",
     "text": [
      "Processing positions: 24615392lines [6:53:29, 969.70lines/s] "
     ]
    },
    {
     "name": "stdout",
     "output_type": "stream",
     "text": [
      "\n",
      "✓ Previous chunk 418 saved. Ledger updated.\n",
      "\n",
      "Submitting chunk 419 (50000 positions) for asynchronous saving...\n",
      "  Chunk 419 submitted. Main thread continues.\n",
      "  Total processed (optimistic): 21,000,000 positions\n",
      "  Progress: Line 24,615,367\n"
     ]
    },
    {
     "name": "stderr",
     "output_type": "stream",
     "text": [
      "Processing positions: 24672285lines [6:54:23, 1204.27lines/s]"
     ]
    },
    {
     "name": "stdout",
     "output_type": "stream",
     "text": [
      "\n",
      "✓ Previous chunk 419 saved. Ledger updated.\n",
      "\n",
      "Submitting chunk 420 (50000 positions) for asynchronous saving...\n",
      "  Chunk 420 submitted. Main thread continues.\n",
      "  Total processed (optimistic): 21,050,000 positions\n",
      "  Progress: Line 24,672,324\n"
     ]
    },
    {
     "name": "stderr",
     "output_type": "stream",
     "text": [
      "Processing positions: 24700158lines [6:54:52, 1178.34lines/s]"
     ]
    },
    {
     "name": "stdout",
     "output_type": "stream",
     "text": [
      "Progress checkpoint: Line 24,700,000, Found 21,074,447 valid positions this session.\n"
     ]
    },
    {
     "name": "stderr",
     "output_type": "stream",
     "text": [
      "Processing positions: 24729457lines [6:55:16, 1151.56lines/s]"
     ]
    },
    {
     "name": "stdout",
     "output_type": "stream",
     "text": [
      "\n",
      "✓ Previous chunk 420 saved. Ledger updated.\n",
      "\n",
      "Submitting chunk 421 (50000 positions) for asynchronous saving...\n",
      "  Chunk 421 submitted. Main thread continues.\n",
      "  Total processed (optimistic): 21,100,000 positions\n",
      "  Progress: Line 24,729,479\n"
     ]
    },
    {
     "name": "stderr",
     "output_type": "stream",
     "text": [
      "Processing positions: 24789751lines [6:56:10, 785.05lines/s] "
     ]
    },
    {
     "name": "stdout",
     "output_type": "stream",
     "text": [
      "\n",
      "✓ Previous chunk 421 saved. Ledger updated.\n",
      "\n",
      "Submitting chunk 422 (50000 positions) for asynchronous saving...\n",
      "  Chunk 422 submitted. Main thread continues.\n",
      "  Total processed (optimistic): 21,150,000 positions\n",
      "  Progress: Line 24,789,676\n"
     ]
    },
    {
     "name": "stderr",
     "output_type": "stream",
     "text": [
      "Processing positions: 24800118lines [6:56:22, 925.91lines/s] "
     ]
    },
    {
     "name": "stdout",
     "output_type": "stream",
     "text": [
      "Progress checkpoint: Line 24,800,000, Found 21,158,869 valid positions this session.\n"
     ]
    },
    {
     "name": "stderr",
     "output_type": "stream",
     "text": [
      "Processing positions: 24848392lines [6:57:04, 856.97lines/s] "
     ]
    },
    {
     "name": "stdout",
     "output_type": "stream",
     "text": [
      "\n",
      "✓ Previous chunk 422 saved. Ledger updated.\n",
      "\n",
      "Submitting chunk 423 (50000 positions) for asynchronous saving...\n",
      "  Chunk 423 submitted. Main thread continues.\n",
      "  Total processed (optimistic): 21,200,000 positions\n",
      "  Progress: Line 24,848,380\n"
     ]
    },
    {
     "name": "stderr",
     "output_type": "stream",
     "text": [
      "Processing positions: 24900178lines [6:57:53, 1145.89lines/s]"
     ]
    },
    {
     "name": "stdout",
     "output_type": "stream",
     "text": [
      "Progress checkpoint: Line 24,900,000, Found 21,244,152 valid positions this session.\n"
     ]
    },
    {
     "name": "stderr",
     "output_type": "stream",
     "text": [
      "Processing positions: 24906739lines [6:57:58, 1222.82lines/s]"
     ]
    },
    {
     "name": "stdout",
     "output_type": "stream",
     "text": [
      "\n",
      "✓ Previous chunk 423 saved. Ledger updated.\n",
      "\n",
      "Submitting chunk 424 (50000 positions) for asynchronous saving...\n",
      "  Chunk 424 submitted. Main thread continues.\n",
      "  Total processed (optimistic): 21,250,000 positions\n",
      "  Progress: Line 24,906,784\n"
     ]
    },
    {
     "name": "stderr",
     "output_type": "stream",
     "text": [
      "Processing positions: 24964004lines [6:58:53, 1178.28lines/s]"
     ]
    },
    {
     "name": "stdout",
     "output_type": "stream",
     "text": [
      "\n",
      "✓ Previous chunk 424 saved. Ledger updated.\n",
      "\n",
      "Submitting chunk 425 (50000 positions) for asynchronous saving...\n",
      "  Chunk 425 submitted. Main thread continues.\n",
      "  Total processed (optimistic): 21,300,000 positions\n",
      "  Progress: Line 24,964,055\n"
     ]
    },
    {
     "name": "stderr",
     "output_type": "stream",
     "text": [
      "Processing positions: 25000218lines [6:59:29, 1175.14lines/s]"
     ]
    },
    {
     "name": "stdout",
     "output_type": "stream",
     "text": [
      "Progress checkpoint: Line 25,000,000, Found 21,331,279 valid positions this session.\n"
     ]
    },
    {
     "name": "stderr",
     "output_type": "stream",
     "text": [
      "Processing positions: 25021176lines [6:59:48, 1129.60lines/s]"
     ]
    },
    {
     "name": "stdout",
     "output_type": "stream",
     "text": [
      "\n",
      "✓ Previous chunk 425 saved. Ledger updated.\n",
      "\n",
      "Submitting chunk 426 (50000 positions) for asynchronous saving...\n",
      "  Chunk 426 submitted. Main thread continues.\n",
      "  Total processed (optimistic): 21,350,000 positions\n",
      "  Progress: Line 25,021,223\n"
     ]
    },
    {
     "name": "stderr",
     "output_type": "stream",
     "text": [
      "Processing positions: 25079107lines [7:00:43, 1216.98lines/s]"
     ]
    },
    {
     "name": "stdout",
     "output_type": "stream",
     "text": [
      "\n",
      "✓ Previous chunk 426 saved. Ledger updated.\n",
      "\n",
      "Submitting chunk 427 (50000 positions) for asynchronous saving...\n",
      "  Chunk 427 submitted. Main thread continues.\n",
      "  Total processed (optimistic): 21,400,000 positions\n",
      "  Progress: Line 25,079,134\n"
     ]
    },
    {
     "name": "stderr",
     "output_type": "stream",
     "text": [
      "Processing positions: 25100109lines [7:01:06, 951.74lines/s] "
     ]
    },
    {
     "name": "stdout",
     "output_type": "stream",
     "text": [
      "Progress checkpoint: Line 25,100,000, Found 21,417,779 valid positions this session.\n"
     ]
    },
    {
     "name": "stderr",
     "output_type": "stream",
     "text": [
      "Processing positions: 25137831lines [7:01:38, 838.75lines/s] "
     ]
    },
    {
     "name": "stdout",
     "output_type": "stream",
     "text": [
      "\n",
      "✓ Previous chunk 427 saved. Ledger updated.\n",
      "\n",
      "Submitting chunk 428 (50000 positions) for asynchronous saving...\n",
      "  Chunk 428 submitted. Main thread continues.\n",
      "  Total processed (optimistic): 21,450,000 positions\n",
      "  Progress: Line 25,137,793\n"
     ]
    },
    {
     "name": "stderr",
     "output_type": "stream",
     "text": [
      "Processing positions: 25196069lines [7:02:32, 906.70lines/s] "
     ]
    },
    {
     "name": "stdout",
     "output_type": "stream",
     "text": [
      "\n",
      "✓ Previous chunk 428 saved. Ledger updated.\n",
      "\n",
      "Submitting chunk 429 (50000 positions) for asynchronous saving...\n",
      "  Chunk 429 submitted. Main thread continues.\n",
      "  Total processed (optimistic): 21,500,000 positions\n",
      "  Progress: Line 25,196,062\n"
     ]
    },
    {
     "name": "stderr",
     "output_type": "stream",
     "text": [
      "Processing positions: 25200104lines [7:02:37, 1022.60lines/s]"
     ]
    },
    {
     "name": "stdout",
     "output_type": "stream",
     "text": [
      "Progress checkpoint: Line 25,200,000, Found 21,503,518 valid positions this session.\n"
     ]
    },
    {
     "name": "stderr",
     "output_type": "stream",
     "text": [
      "Processing positions: 25253805lines [7:03:26, 1212.12lines/s]"
     ]
    },
    {
     "name": "stdout",
     "output_type": "stream",
     "text": [
      "\n",
      "✓ Previous chunk 429 saved. Ledger updated.\n",
      "\n",
      "Submitting chunk 430 (50000 positions) for asynchronous saving...\n",
      "  Chunk 430 submitted. Main thread continues.\n",
      "  Total processed (optimistic): 21,550,000 positions\n",
      "  Progress: Line 25,253,827\n"
     ]
    },
    {
     "name": "stderr",
     "output_type": "stream",
     "text": [
      "Processing positions: 25300159lines [7:04:11, 1230.74lines/s]"
     ]
    },
    {
     "name": "stdout",
     "output_type": "stream",
     "text": [
      "Progress checkpoint: Line 25,300,000, Found 21,589,961 valid positions this session.\n"
     ]
    },
    {
     "name": "stderr",
     "output_type": "stream",
     "text": [
      "Processing positions: 25311505lines [7:04:20, 1154.93lines/s]"
     ]
    },
    {
     "name": "stdout",
     "output_type": "stream",
     "text": [
      "\n",
      "✓ Previous chunk 430 saved. Ledger updated.\n",
      "\n",
      "Submitting chunk 431 (50000 positions) for asynchronous saving...\n",
      "  Chunk 431 submitted. Main thread continues.\n",
      "  Total processed (optimistic): 21,600,000 positions\n",
      "  Progress: Line 25,311,540\n"
     ]
    },
    {
     "name": "stderr",
     "output_type": "stream",
     "text": [
      "Processing positions: 25370012lines [7:05:13, 769.68lines/s] "
     ]
    },
    {
     "name": "stdout",
     "output_type": "stream",
     "text": [
      "\n",
      "✓ Previous chunk 431 saved. Ledger updated.\n",
      "\n",
      "Submitting chunk 432 (50000 positions) for asynchronous saving...\n",
      "  Chunk 432 submitted. Main thread continues.\n",
      "  Total processed (optimistic): 21,650,000 positions\n",
      "  Progress: Line 25,369,942\n"
     ]
    },
    {
     "name": "stderr",
     "output_type": "stream",
     "text": [
      "Processing positions: 25400147lines [7:05:44, 1211.35lines/s]"
     ]
    },
    {
     "name": "stdout",
     "output_type": "stream",
     "text": [
      "Progress checkpoint: Line 25,400,000, Found 21,675,866 valid positions this session.\n"
     ]
    },
    {
     "name": "stderr",
     "output_type": "stream",
     "text": [
      "Processing positions: 25427896lines [7:06:08, 1164.17lines/s]"
     ]
    },
    {
     "name": "stdout",
     "output_type": "stream",
     "text": [
      "\n",
      "✓ Previous chunk 432 saved. Ledger updated.\n",
      "\n",
      "Submitting chunk 433 (50000 positions) for asynchronous saving...\n",
      "  Chunk 433 submitted. Main thread continues.\n",
      "  Total processed (optimistic): 21,700,000 positions\n",
      "  Progress: Line 25,427,917\n"
     ]
    },
    {
     "name": "stderr",
     "output_type": "stream",
     "text": [
      "Processing positions: 25486615lines [7:07:00, 1216.78lines/s]"
     ]
    },
    {
     "name": "stdout",
     "output_type": "stream",
     "text": [
      "\n",
      "✓ Previous chunk 433 saved. Ledger updated.\n",
      "\n",
      "Submitting chunk 434 (50000 positions) for asynchronous saving...\n",
      "  Chunk 434 submitted. Main thread continues.\n",
      "  Total processed (optimistic): 21,750,000 positions\n",
      "  Progress: Line 25,486,633\n"
     ]
    },
    {
     "name": "stderr",
     "output_type": "stream",
     "text": [
      "Processing positions: 25500144lines [7:07:15, 953.07lines/s] "
     ]
    },
    {
     "name": "stdout",
     "output_type": "stream",
     "text": [
      "Progress checkpoint: Line 25,500,000, Found 21,761,587 valid positions this session.\n"
     ]
    },
    {
     "name": "stderr",
     "output_type": "stream",
     "text": [
      "Processing positions: 25544469lines [7:07:55, 849.24lines/s] "
     ]
    },
    {
     "name": "stdout",
     "output_type": "stream",
     "text": [
      "\n",
      "✓ Previous chunk 434 saved. Ledger updated.\n",
      "\n",
      "Submitting chunk 435 (50000 positions) for asynchronous saving...\n",
      "  Chunk 435 submitted. Main thread continues.\n",
      "  Total processed (optimistic): 21,800,000 positions\n",
      "  Progress: Line 25,544,429\n"
     ]
    },
    {
     "name": "stderr",
     "output_type": "stream",
     "text": [
      "Processing positions: 25600144lines [7:08:48, 1064.82lines/s]"
     ]
    },
    {
     "name": "stdout",
     "output_type": "stream",
     "text": [
      "Progress checkpoint: Line 25,600,000, Found 21,848,940 valid positions this session.\n"
     ]
    },
    {
     "name": "stderr",
     "output_type": "stream",
     "text": [
      "Processing positions: 25601195lines [7:08:49, 1208.73lines/s]"
     ]
    },
    {
     "name": "stdout",
     "output_type": "stream",
     "text": [
      "\n",
      "✓ Previous chunk 435 saved. Ledger updated.\n",
      "\n",
      "Submitting chunk 436 (50000 positions) for asynchronous saving...\n",
      "  Chunk 436 submitted. Main thread continues.\n",
      "  Total processed (optimistic): 21,850,000 positions\n",
      "  Progress: Line 25,601,200\n"
     ]
    },
    {
     "name": "stderr",
     "output_type": "stream",
     "text": [
      "Processing positions: 25659590lines [7:09:43, 1228.15lines/s]"
     ]
    },
    {
     "name": "stdout",
     "output_type": "stream",
     "text": [
      "\n",
      "✓ Previous chunk 436 saved. Ledger updated.\n",
      "\n",
      "Submitting chunk 437 (50000 positions) for asynchronous saving...\n",
      "  Chunk 437 submitted. Main thread continues.\n",
      "  Total processed (optimistic): 21,900,000 positions\n",
      "  Progress: Line 25,659,622\n"
     ]
    },
    {
     "name": "stderr",
     "output_type": "stream",
     "text": [
      "Processing positions: 25700186lines [7:10:22, 1184.58lines/s]"
     ]
    },
    {
     "name": "stdout",
     "output_type": "stream",
     "text": [
      "Progress checkpoint: Line 25,700,000, Found 21,934,296 valid positions this session.\n"
     ]
    },
    {
     "name": "stderr",
     "output_type": "stream",
     "text": [
      "Processing positions: 25718843lines [7:10:37, 1301.99lines/s]"
     ]
    },
    {
     "name": "stdout",
     "output_type": "stream",
     "text": [
      "\n",
      "✓ Previous chunk 437 saved. Ledger updated.\n",
      "\n",
      "Submitting chunk 438 (50000 positions) for asynchronous saving...\n",
      "  Chunk 438 submitted. Main thread continues.\n",
      "  Total processed (optimistic): 21,950,000 positions\n",
      "  Progress: Line 25,718,905\n"
     ]
    },
    {
     "name": "stderr",
     "output_type": "stream",
     "text": [
      "Processing positions: 25777478lines [7:11:33, 1263.04lines/s]"
     ]
    },
    {
     "name": "stdout",
     "output_type": "stream",
     "text": [
      "\n",
      "✓ Previous chunk 438 saved. Ledger updated.\n",
      "\n",
      "Submitting chunk 439 (50000 positions) for asynchronous saving...\n",
      "  Chunk 439 submitted. Main thread continues.\n",
      "  Total processed (optimistic): 22,000,000 positions\n",
      "  Progress: Line 25,777,517\n"
     ]
    },
    {
     "name": "stderr",
     "output_type": "stream",
     "text": [
      "Processing positions: 25800170lines [7:11:57, 1160.06lines/s]"
     ]
    },
    {
     "name": "stdout",
     "output_type": "stream",
     "text": [
      "Progress checkpoint: Line 25,800,000, Found 22,018,941 valid positions this session.\n"
     ]
    },
    {
     "name": "stderr",
     "output_type": "stream",
     "text": [
      "Processing positions: 25835771lines [7:12:27, 1085.71lines/s]"
     ]
    },
    {
     "name": "stdout",
     "output_type": "stream",
     "text": [
      "\n",
      "✓ Previous chunk 439 saved. Ledger updated.\n",
      "\n",
      "Submitting chunk 440 (50000 positions) for asynchronous saving...\n",
      "  Chunk 440 submitted. Main thread continues.\n",
      "  Total processed (optimistic): 22,050,000 positions\n",
      "  Progress: Line 25,835,802\n"
     ]
    },
    {
     "name": "stderr",
     "output_type": "stream",
     "text": [
      "Processing positions: 25894521lines [7:13:23, 811.48lines/s] "
     ]
    },
    {
     "name": "stdout",
     "output_type": "stream",
     "text": [
      "\n",
      "✓ Previous chunk 440 saved. Ledger updated.\n",
      "\n",
      "Submitting chunk 441 (50000 positions) for asynchronous saving...\n",
      "  Chunk 441 submitted. Main thread continues.\n",
      "  Total processed (optimistic): 22,100,000 positions\n",
      "  Progress: Line 25,894,478\n"
     ]
    },
    {
     "name": "stderr",
     "output_type": "stream",
     "text": [
      "Processing positions: 25900080lines [7:13:30, 943.08lines/s] "
     ]
    },
    {
     "name": "stdout",
     "output_type": "stream",
     "text": [
      "Progress checkpoint: Line 25,900,000, Found 22,104,775 valid positions this session.\n"
     ]
    },
    {
     "name": "stderr",
     "output_type": "stream",
     "text": [
      "Processing positions: 25952441lines [7:14:17, 875.41lines/s] "
     ]
    },
    {
     "name": "stdout",
     "output_type": "stream",
     "text": [
      "\n",
      "✓ Previous chunk 441 saved. Ledger updated.\n",
      "\n",
      "Submitting chunk 442 (50000 positions) for asynchronous saving...\n",
      "  Chunk 442 submitted. Main thread continues.\n",
      "  Total processed (optimistic): 22,150,000 positions\n",
      "  Progress: Line 25,952,420\n"
     ]
    },
    {
     "name": "stderr",
     "output_type": "stream",
     "text": [
      "Processing positions: 26000222lines [7:15:01, 1216.01lines/s]"
     ]
    },
    {
     "name": "stdout",
     "output_type": "stream",
     "text": [
      "Progress checkpoint: Line 26,000,000, Found 22,190,326 valid positions this session.\n"
     ]
    },
    {
     "name": "stderr",
     "output_type": "stream",
     "text": [
      "Processing positions: 26011371lines [7:15:11, 1221.19lines/s]"
     ]
    },
    {
     "name": "stdout",
     "output_type": "stream",
     "text": [
      "\n",
      "✓ Previous chunk 442 saved. Ledger updated.\n",
      "\n",
      "Submitting chunk 443 (50000 positions) for asynchronous saving...\n",
      "  Chunk 443 submitted. Main thread continues.\n",
      "  Total processed (optimistic): 22,200,000 positions\n",
      "  Progress: Line 26,011,390\n"
     ]
    },
    {
     "name": "stderr",
     "output_type": "stream",
     "text": [
      "Processing positions: 26069701lines [7:16:04, 751.49lines/s] "
     ]
    },
    {
     "name": "stdout",
     "output_type": "stream",
     "text": [
      "\n",
      "✓ Previous chunk 443 saved. Ledger updated.\n",
      "\n",
      "Submitting chunk 444 (50000 positions) for asynchronous saving...\n",
      "  Chunk 444 submitted. Main thread continues.\n",
      "  Total processed (optimistic): 22,250,000 positions\n",
      "  Progress: Line 26,069,643\n"
     ]
    },
    {
     "name": "stderr",
     "output_type": "stream",
     "text": [
      "Processing positions: 26100184lines [7:16:36, 1138.51lines/s]"
     ]
    },
    {
     "name": "stdout",
     "output_type": "stream",
     "text": [
      "Progress checkpoint: Line 26,100,000, Found 22,276,648 valid positions this session.\n"
     ]
    },
    {
     "name": "stderr",
     "output_type": "stream",
     "text": [
      "Processing positions: 26126623lines [7:16:59, 764.92lines/s] "
     ]
    },
    {
     "name": "stdout",
     "output_type": "stream",
     "text": [
      "\n",
      "✓ Previous chunk 444 saved. Ledger updated.\n",
      "\n",
      "Submitting chunk 445 (50000 positions) for asynchronous saving...\n",
      "  Chunk 445 submitted. Main thread continues.\n",
      "  Total processed (optimistic): 22,300,000 positions\n",
      "  Progress: Line 26,126,577\n"
     ]
    },
    {
     "name": "stderr",
     "output_type": "stream",
     "text": [
      "Processing positions: 26183781lines [7:17:54, 793.54lines/s] "
     ]
    },
    {
     "name": "stdout",
     "output_type": "stream",
     "text": [
      "\n",
      "✓ Previous chunk 445 saved. Ledger updated.\n",
      "\n",
      "Submitting chunk 446 (50000 positions) for asynchronous saving...\n",
      "  Chunk 446 submitted. Main thread continues.\n",
      "  Total processed (optimistic): 22,350,000 positions\n",
      "  Progress: Line 26,183,723\n"
     ]
    },
    {
     "name": "stderr",
     "output_type": "stream",
     "text": [
      "Processing positions: 26200151lines [7:18:12, 902.70lines/s] "
     ]
    },
    {
     "name": "stdout",
     "output_type": "stream",
     "text": [
      "Progress checkpoint: Line 26,200,000, Found 22,364,107 valid positions this session.\n"
     ]
    },
    {
     "name": "stderr",
     "output_type": "stream",
     "text": [
      "Processing positions: 26241957lines [7:18:48, 934.39lines/s] "
     ]
    },
    {
     "name": "stdout",
     "output_type": "stream",
     "text": [
      "\n",
      "✓ Previous chunk 446 saved. Ledger updated.\n",
      "\n",
      "Submitting chunk 447 (50000 positions) for asynchronous saving...\n",
      "  Chunk 447 submitted. Main thread continues.\n",
      "  Total processed (optimistic): 22,400,000 positions\n",
      "  Progress: Line 26,241,957\n"
     ]
    },
    {
     "name": "stderr",
     "output_type": "stream",
     "text": [
      "Processing positions: 26300143lines [7:19:43, 1104.39lines/s]"
     ]
    },
    {
     "name": "stdout",
     "output_type": "stream",
     "text": [
      "Progress checkpoint: Line 26,300,000, Found 22,449,643 valid positions this session.\n"
     ]
    },
    {
     "name": "stderr",
     "output_type": "stream",
     "text": [
      "Processing positions: 26300366lines [7:19:43, 998.15lines/s] "
     ]
    },
    {
     "name": "stdout",
     "output_type": "stream",
     "text": [
      "\n",
      "✓ Previous chunk 447 saved. Ledger updated.\n",
      "\n",
      "Submitting chunk 448 (50000 positions) for asynchronous saving...\n",
      "  Chunk 448 submitted. Main thread continues.\n",
      "  Total processed (optimistic): 22,450,000 positions\n",
      "  Progress: Line 26,300,400\n"
     ]
    },
    {
     "name": "stderr",
     "output_type": "stream",
     "text": [
      "Processing positions: 26358406lines [7:20:37, 1183.63lines/s]"
     ]
    },
    {
     "name": "stdout",
     "output_type": "stream",
     "text": [
      "\n",
      "✓ Previous chunk 448 saved. Ledger updated.\n",
      "\n",
      "Submitting chunk 449 (50000 positions) for asynchronous saving...\n",
      "  Chunk 449 submitted. Main thread continues.\n",
      "  Total processed (optimistic): 22,500,000 positions\n",
      "  Progress: Line 26,358,430\n"
     ]
    },
    {
     "name": "stderr",
     "output_type": "stream",
     "text": [
      "Processing positions: 26400266lines [7:21:17, 1190.97lines/s]"
     ]
    },
    {
     "name": "stdout",
     "output_type": "stream",
     "text": [
      "Progress checkpoint: Line 26,400,000, Found 22,535,172 valid positions this session.\n"
     ]
    },
    {
     "name": "stderr",
     "output_type": "stream",
     "text": [
      "Processing positions: 26417902lines [7:21:31, 964.32lines/s] "
     ]
    },
    {
     "name": "stdout",
     "output_type": "stream",
     "text": [
      "\n",
      "✓ Previous chunk 449 saved. Ledger updated.\n",
      "\n",
      "Submitting chunk 450 (50000 positions) for asynchronous saving...\n",
      "  Chunk 450 submitted. Main thread continues.\n",
      "  Total processed (optimistic): 22,550,000 positions\n",
      "  Progress: Line 26,417,870\n"
     ]
    },
    {
     "name": "stderr",
     "output_type": "stream",
     "text": [
      "Processing positions: 26477316lines [7:22:26, 827.09lines/s] "
     ]
    },
    {
     "name": "stdout",
     "output_type": "stream",
     "text": [
      "\n",
      "✓ Previous chunk 450 saved. Ledger updated.\n",
      "\n",
      "Submitting chunk 451 (50000 positions) for asynchronous saving...\n",
      "  Chunk 451 submitted. Main thread continues.\n",
      "  Total processed (optimistic): 22,600,000 positions\n",
      "  Progress: Line 26,477,266\n"
     ]
    },
    {
     "name": "stderr",
     "output_type": "stream",
     "text": [
      "Processing positions: 26500154lines [7:22:50, 1137.29lines/s]"
     ]
    },
    {
     "name": "stdout",
     "output_type": "stream",
     "text": [
      "Progress checkpoint: Line 26,500,000, Found 22,619,617 valid positions this session.\n"
     ]
    },
    {
     "name": "stderr",
     "output_type": "stream",
     "text": [
      "Processing positions: 26535310lines [7:23:19, 1208.55lines/s]"
     ]
    },
    {
     "name": "stdout",
     "output_type": "stream",
     "text": [
      "\n",
      "✓ Previous chunk 451 saved. Ledger updated.\n",
      "\n",
      "Submitting chunk 452 (50000 positions) for asynchronous saving...\n",
      "  Chunk 452 submitted. Main thread continues.\n",
      "  Total processed (optimistic): 22,650,000 positions\n",
      "  Progress: Line 26,535,340\n"
     ]
    },
    {
     "name": "stderr",
     "output_type": "stream",
     "text": [
      "Processing positions: 26593821lines [7:24:13, 1257.40lines/s]"
     ]
    },
    {
     "name": "stdout",
     "output_type": "stream",
     "text": [
      "\n",
      "✓ Previous chunk 452 saved. Ledger updated.\n",
      "\n",
      "Submitting chunk 453 (50000 positions) for asynchronous saving...\n",
      "  Chunk 453 submitted. Main thread continues.\n",
      "  Total processed (optimistic): 22,700,000 positions\n",
      "  Progress: Line 26,593,851\n"
     ]
    },
    {
     "name": "stderr",
     "output_type": "stream",
     "text": [
      "Processing positions: 26600133lines [7:24:21, 901.85lines/s] "
     ]
    },
    {
     "name": "stdout",
     "output_type": "stream",
     "text": [
      "Progress checkpoint: Line 26,600,000, Found 22,705,225 valid positions this session.\n"
     ]
    },
    {
     "name": "stderr",
     "output_type": "stream",
     "text": [
      "Processing positions: 26651663lines [7:25:08, 868.86lines/s] "
     ]
    },
    {
     "name": "stdout",
     "output_type": "stream",
     "text": [
      "\n",
      "✓ Previous chunk 453 saved. Ledger updated.\n",
      "\n",
      "Submitting chunk 454 (50000 positions) for asynchronous saving...\n",
      "  Chunk 454 submitted. Main thread continues.\n",
      "  Total processed (optimistic): 22,750,000 positions\n",
      "  Progress: Line 26,651,657\n"
     ]
    },
    {
     "name": "stderr",
     "output_type": "stream",
     "text": [
      "Processing positions: 26700144lines [7:25:55, 1208.44lines/s]"
     ]
    },
    {
     "name": "stdout",
     "output_type": "stream",
     "text": [
      "Progress checkpoint: Line 26,700,000, Found 22,792,722 valid positions this session.\n"
     ]
    },
    {
     "name": "stderr",
     "output_type": "stream",
     "text": [
      "Processing positions: 26708303lines [7:26:02, 811.81lines/s] "
     ]
    },
    {
     "name": "stdout",
     "output_type": "stream",
     "text": [
      "\n",
      "✓ Previous chunk 454 saved. Ledger updated.\n",
      "\n",
      "Submitting chunk 455 (50000 positions) for asynchronous saving...\n",
      "  Chunk 455 submitted. Main thread continues.\n",
      "  Total processed (optimistic): 22,800,000 positions\n",
      "  Progress: Line 26,708,262\n"
     ]
    },
    {
     "name": "stderr",
     "output_type": "stream",
     "text": [
      "Processing positions: 26765696lines [7:26:57, 809.85lines/s] "
     ]
    },
    {
     "name": "stdout",
     "output_type": "stream",
     "text": [
      "\n",
      "✓ Previous chunk 455 saved. Ledger updated.\n",
      "\n",
      "Submitting chunk 456 (50000 positions) for asynchronous saving...\n",
      "  Chunk 456 submitted. Main thread continues.\n",
      "  Total processed (optimistic): 22,850,000 positions\n",
      "  Progress: Line 26,765,661\n"
     ]
    },
    {
     "name": "stderr",
     "output_type": "stream",
     "text": [
      "Processing positions: 26800160lines [7:27:31, 1374.34lines/s]"
     ]
    },
    {
     "name": "stdout",
     "output_type": "stream",
     "text": [
      "Progress checkpoint: Line 26,800,000, Found 22,879,046 valid positions this session.\n"
     ]
    },
    {
     "name": "stderr",
     "output_type": "stream",
     "text": [
      "Processing positions: 26824569lines [7:27:51, 893.22lines/s] "
     ]
    },
    {
     "name": "stdout",
     "output_type": "stream",
     "text": [
      "\n",
      "✓ Previous chunk 456 saved. Ledger updated.\n",
      "\n",
      "Submitting chunk 457 (50000 positions) for asynchronous saving...\n",
      "  Chunk 457 submitted. Main thread continues.\n",
      "  Total processed (optimistic): 22,900,000 positions\n",
      "  Progress: Line 26,824,527\n"
     ]
    },
    {
     "name": "stderr",
     "output_type": "stream",
     "text": [
      "Processing positions: 26884527lines [7:28:46, 1137.61lines/s]"
     ]
    },
    {
     "name": "stdout",
     "output_type": "stream",
     "text": [
      "\n",
      "✓ Previous chunk 457 saved. Ledger updated.\n",
      "\n",
      "Submitting chunk 458 (50000 positions) for asynchronous saving...\n",
      "  Chunk 458 submitted. Main thread continues.\n",
      "  Total processed (optimistic): 22,950,000 positions\n",
      "  Progress: Line 26,884,554\n"
     ]
    },
    {
     "name": "stderr",
     "output_type": "stream",
     "text": [
      "Processing positions: 26900163lines [7:29:03, 926.60lines/s] "
     ]
    },
    {
     "name": "stdout",
     "output_type": "stream",
     "text": [
      "Progress checkpoint: Line 26,900,000, Found 22,963,206 valid positions this session.\n"
     ]
    },
    {
     "name": "stderr",
     "output_type": "stream",
     "text": [
      "Processing positions: 26942827lines [7:29:40, 831.00lines/s] "
     ]
    },
    {
     "name": "stdout",
     "output_type": "stream",
     "text": [
      "\n",
      "✓ Previous chunk 458 saved. Ledger updated.\n",
      "\n",
      "Submitting chunk 459 (50000 positions) for asynchronous saving...\n",
      "  Chunk 459 submitted. Main thread continues.\n",
      "  Total processed (optimistic): 23,000,000 positions\n",
      "  Progress: Line 26,942,778\n"
     ]
    },
    {
     "name": "stderr",
     "output_type": "stream",
     "text": [
      "Processing positions: 27000168lines [7:30:33, 1238.10lines/s]"
     ]
    },
    {
     "name": "stdout",
     "output_type": "stream",
     "text": [
      "Progress checkpoint: Line 27,000,000, Found 23,048,527 valid positions this session.\n"
     ]
    },
    {
     "name": "stderr",
     "output_type": "stream",
     "text": [
      "Processing positions: 27001706lines [7:30:35, 824.68lines/s] "
     ]
    },
    {
     "name": "stdout",
     "output_type": "stream",
     "text": [
      "\n",
      "✓ Previous chunk 459 saved. Ledger updated.\n",
      "\n",
      "Submitting chunk 460 (50000 positions) for asynchronous saving...\n",
      "  Chunk 460 submitted. Main thread continues.\n",
      "  Total processed (optimistic): 23,050,000 positions\n",
      "  Progress: Line 27,001,677\n"
     ]
    },
    {
     "name": "stderr",
     "output_type": "stream",
     "text": [
      "Processing positions: 27059409lines [7:31:29, 1190.47lines/s]"
     ]
    },
    {
     "name": "stdout",
     "output_type": "stream",
     "text": [
      "\n",
      "✓ Previous chunk 460 saved. Ledger updated.\n",
      "\n",
      "Submitting chunk 461 (50000 positions) for asynchronous saving...\n",
      "  Chunk 461 submitted. Main thread continues.\n",
      "  Total processed (optimistic): 23,100,000 positions\n",
      "  Progress: Line 27,059,443\n"
     ]
    },
    {
     "name": "stderr",
     "output_type": "stream",
     "text": [
      "Processing positions: 27100121lines [7:32:08, 1113.34lines/s]"
     ]
    },
    {
     "name": "stdout",
     "output_type": "stream",
     "text": [
      "Progress checkpoint: Line 27,100,000, Found 23,134,694 valid positions this session.\n"
     ]
    },
    {
     "name": "stderr",
     "output_type": "stream",
     "text": [
      "Processing positions: 27117780lines [7:32:23, 779.17lines/s] "
     ]
    },
    {
     "name": "stdout",
     "output_type": "stream",
     "text": [
      "\n",
      "✓ Previous chunk 461 saved. Ledger updated.\n",
      "\n",
      "Submitting chunk 462 (50000 positions) for asynchronous saving...\n",
      "  Chunk 462 submitted. Main thread continues.\n",
      "  Total processed (optimistic): 23,150,000 positions\n",
      "  Progress: Line 27,117,728\n"
     ]
    },
    {
     "name": "stderr",
     "output_type": "stream",
     "text": [
      "Processing positions: 27175389lines [7:33:17, 831.76lines/s] "
     ]
    },
    {
     "name": "stdout",
     "output_type": "stream",
     "text": [
      "\n",
      "✓ Previous chunk 462 saved. Ledger updated.\n",
      "\n",
      "Submitting chunk 463 (50000 positions) for asynchronous saving...\n",
      "  Chunk 463 submitted. Main thread continues.\n",
      "  Total processed (optimistic): 23,200,000 positions\n",
      "  Progress: Line 27,175,360\n"
     ]
    },
    {
     "name": "stderr",
     "output_type": "stream",
     "text": [
      "Processing positions: 27200174lines [7:33:43, 1124.00lines/s]"
     ]
    },
    {
     "name": "stdout",
     "output_type": "stream",
     "text": [
      "Progress checkpoint: Line 27,200,000, Found 23,221,156 valid positions this session.\n"
     ]
    },
    {
     "name": "stderr",
     "output_type": "stream",
     "text": [
      "Processing positions: 27232721lines [7:34:11, 825.97lines/s] "
     ]
    },
    {
     "name": "stdout",
     "output_type": "stream",
     "text": [
      "\n",
      "✓ Previous chunk 463 saved. Ledger updated.\n",
      "\n",
      "Submitting chunk 464 (50000 positions) for asynchronous saving...\n",
      "  Chunk 464 submitted. Main thread continues.\n",
      "  Total processed (optimistic): 23,250,000 positions\n",
      "  Progress: Line 27,232,692\n"
     ]
    },
    {
     "name": "stderr",
     "output_type": "stream",
     "text": [
      "Processing positions: 27289850lines [7:35:04, 875.52lines/s] "
     ]
    },
    {
     "name": "stdout",
     "output_type": "stream",
     "text": [
      "\n",
      "✓ Previous chunk 464 saved. Ledger updated.\n",
      "\n",
      "Submitting chunk 465 (50000 positions) for asynchronous saving...\n",
      "  Chunk 465 submitted. Main thread continues.\n",
      "  Total processed (optimistic): 23,300,000 positions\n",
      "  Progress: Line 27,289,839\n"
     ]
    },
    {
     "name": "stderr",
     "output_type": "stream",
     "text": [
      "Processing positions: 27300140lines [7:35:15, 887.59lines/s] "
     ]
    },
    {
     "name": "stdout",
     "output_type": "stream",
     "text": [
      "Progress checkpoint: Line 27,300,000, Found 23,308,771 valid positions this session.\n"
     ]
    },
    {
     "name": "stderr",
     "output_type": "stream",
     "text": [
      "Processing positions: 27346886lines [7:35:58, 850.83lines/s] "
     ]
    },
    {
     "name": "stdout",
     "output_type": "stream",
     "text": [
      "\n",
      "✓ Previous chunk 465 saved. Ledger updated.\n",
      "\n",
      "Submitting chunk 466 (50000 positions) for asynchronous saving...\n",
      "  Chunk 466 submitted. Main thread continues.\n",
      "  Total processed (optimistic): 23,350,000 positions\n",
      "  Progress: Line 27,346,866\n"
     ]
    },
    {
     "name": "stderr",
     "output_type": "stream",
     "text": [
      "Processing positions: 27400142lines [7:36:51, 1047.44lines/s]"
     ]
    },
    {
     "name": "stdout",
     "output_type": "stream",
     "text": [
      "Progress checkpoint: Line 27,400,000, Found 23,397,930 valid positions this session.\n"
     ]
    },
    {
     "name": "stderr",
     "output_type": "stream",
     "text": [
      "Processing positions: 27402225lines [7:36:53, 1108.19lines/s]"
     ]
    },
    {
     "name": "stdout",
     "output_type": "stream",
     "text": [
      "\n",
      "✓ Previous chunk 466 saved. Ledger updated.\n",
      "\n",
      "Submitting chunk 467 (50000 positions) for asynchronous saving...\n",
      "  Chunk 467 submitted. Main thread continues.\n",
      "  Total processed (optimistic): 23,400,000 positions\n",
      "  Progress: Line 27,402,241\n"
     ]
    },
    {
     "name": "stderr",
     "output_type": "stream",
     "text": [
      "Processing positions: 27460041lines [7:37:47, 815.73lines/s] "
     ]
    },
    {
     "name": "stdout",
     "output_type": "stream",
     "text": [
      "\n",
      "✓ Previous chunk 467 saved. Ledger updated.\n",
      "\n",
      "Submitting chunk 468 (50000 positions) for asynchronous saving...\n",
      "  Chunk 468 submitted. Main thread continues.\n",
      "  Total processed (optimistic): 23,450,000 positions\n",
      "  Progress: Line 27,460,012\n"
     ]
    },
    {
     "name": "stderr",
     "output_type": "stream",
     "text": [
      "Processing positions: 27500108lines [7:38:27, 1094.71lines/s]"
     ]
    },
    {
     "name": "stdout",
     "output_type": "stream",
     "text": [
      "Progress checkpoint: Line 27,500,000, Found 23,484,765 valid positions this session.\n"
     ]
    },
    {
     "name": "stderr",
     "output_type": "stream",
     "text": [
      "Processing positions: 27518133lines [7:38:42, 816.36lines/s] "
     ]
    },
    {
     "name": "stdout",
     "output_type": "stream",
     "text": [
      "\n",
      "✓ Previous chunk 468 saved. Ledger updated.\n",
      "\n",
      "Submitting chunk 469 (50000 positions) for asynchronous saving...\n",
      "  Chunk 469 submitted. Main thread continues.\n",
      "  Total processed (optimistic): 23,500,000 positions\n",
      "  Progress: Line 27,518,095\n"
     ]
    },
    {
     "name": "stderr",
     "output_type": "stream",
     "text": [
      "Processing positions: 27577827lines [7:39:36, 1202.24lines/s]"
     ]
    },
    {
     "name": "stdout",
     "output_type": "stream",
     "text": [
      "\n",
      "✓ Previous chunk 469 saved. Ledger updated.\n",
      "\n",
      "Submitting chunk 470 (50000 positions) for asynchronous saving...\n",
      "  Chunk 470 submitted. Main thread continues.\n",
      "  Total processed (optimistic): 23,550,000 positions\n",
      "  Progress: Line 27,577,847\n"
     ]
    },
    {
     "name": "stderr",
     "output_type": "stream",
     "text": [
      "Processing positions: 27600257lines [7:40:00, 1158.04lines/s]"
     ]
    },
    {
     "name": "stdout",
     "output_type": "stream",
     "text": [
      "Progress checkpoint: Line 27,600,000, Found 23,568,989 valid positions this session.\n"
     ]
    },
    {
     "name": "stderr",
     "output_type": "stream",
     "text": [
      "Processing positions: 27636600lines [7:40:30, 853.80lines/s] "
     ]
    },
    {
     "name": "stdout",
     "output_type": "stream",
     "text": [
      "\n",
      "✓ Previous chunk 470 saved. Ledger updated.\n",
      "\n",
      "Submitting chunk 471 (50000 positions) for asynchronous saving...\n",
      "  Chunk 471 submitted. Main thread continues.\n",
      "  Total processed (optimistic): 23,600,000 positions\n",
      "  Progress: Line 27,636,597\n"
     ]
    },
    {
     "name": "stderr",
     "output_type": "stream",
     "text": [
      "Processing positions: 27694719lines [7:41:24, 1162.99lines/s]"
     ]
    },
    {
     "name": "stdout",
     "output_type": "stream",
     "text": [
      "\n",
      "✓ Previous chunk 471 saved. Ledger updated.\n",
      "\n",
      "Submitting chunk 472 (50000 positions) for asynchronous saving...\n",
      "  Chunk 472 submitted. Main thread continues.\n",
      "  Total processed (optimistic): 23,650,000 positions\n",
      "  Progress: Line 27,694,725\n"
     ]
    },
    {
     "name": "stderr",
     "output_type": "stream",
     "text": [
      "Processing positions: 27700157lines [7:41:31, 938.49lines/s] "
     ]
    },
    {
     "name": "stdout",
     "output_type": "stream",
     "text": [
      "Progress checkpoint: Line 27,700,000, Found 23,654,680 valid positions this session.\n"
     ]
    },
    {
     "name": "stderr",
     "output_type": "stream",
     "text": [
      "Processing positions: 27751296lines [7:42:18, 1158.99lines/s]"
     ]
    },
    {
     "name": "stdout",
     "output_type": "stream",
     "text": [
      "\n",
      "✓ Previous chunk 472 saved. Ledger updated.\n",
      "\n",
      "Submitting chunk 473 (50000 positions) for asynchronous saving...\n",
      "  Chunk 473 submitted. Main thread continues.\n",
      "  Total processed (optimistic): 23,700,000 positions\n",
      "  Progress: Line 27,751,302\n"
     ]
    },
    {
     "name": "stderr",
     "output_type": "stream",
     "text": [
      "Processing positions: 27800215lines [7:43:05, 1087.51lines/s]"
     ]
    },
    {
     "name": "stdout",
     "output_type": "stream",
     "text": [
      "Progress checkpoint: Line 27,800,000, Found 23,742,322 valid positions this session.\n"
     ]
    },
    {
     "name": "stderr",
     "output_type": "stream",
     "text": [
      "Processing positions: 27808477lines [7:43:13, 806.98lines/s] "
     ]
    },
    {
     "name": "stdout",
     "output_type": "stream",
     "text": [
      "\n",
      "✓ Previous chunk 473 saved. Ledger updated.\n",
      "\n",
      "Submitting chunk 474 (50000 positions) for asynchronous saving...\n",
      "  Chunk 474 submitted. Main thread continues.\n",
      "  Total processed (optimistic): 23,750,000 positions\n",
      "  Progress: Line 27,808,469\n"
     ]
    },
    {
     "name": "stderr",
     "output_type": "stream",
     "text": [
      "Processing positions: 27866419lines [7:44:06, 930.70lines/s] "
     ]
    },
    {
     "name": "stdout",
     "output_type": "stream",
     "text": [
      "\n",
      "✓ Previous chunk 474 saved. Ledger updated.\n",
      "\n",
      "Submitting chunk 475 (50000 positions) for asynchronous saving...\n",
      "  Chunk 475 submitted. Main thread continues.\n",
      "  Total processed (optimistic): 23,800,000 positions\n",
      "  Progress: Line 27,866,419\n"
     ]
    },
    {
     "name": "stderr",
     "output_type": "stream",
     "text": [
      "Processing positions: 27900162lines [7:44:41, 1166.28lines/s]"
     ]
    },
    {
     "name": "stdout",
     "output_type": "stream",
     "text": [
      "Progress checkpoint: Line 27,900,000, Found 23,829,814 valid positions this session.\n"
     ]
    },
    {
     "name": "stderr",
     "output_type": "stream",
     "text": [
      "Processing positions: 27923202lines [7:45:00, 849.04lines/s] "
     ]
    },
    {
     "name": "stdout",
     "output_type": "stream",
     "text": [
      "\n",
      "✓ Previous chunk 475 saved. Ledger updated.\n",
      "\n",
      "Submitting chunk 476 (50000 positions) for asynchronous saving...\n",
      "  Chunk 476 submitted. Main thread continues.\n",
      "  Total processed (optimistic): 23,850,000 positions\n",
      "  Progress: Line 27,923,192\n"
     ]
    },
    {
     "name": "stderr",
     "output_type": "stream",
     "text": [
      "Processing positions: 27979666lines [7:45:54, 1189.55lines/s]"
     ]
    },
    {
     "name": "stdout",
     "output_type": "stream",
     "text": [
      "\n",
      "✓ Previous chunk 476 saved. Ledger updated.\n",
      "\n",
      "Submitting chunk 477 (50000 positions) for asynchronous saving...\n",
      "  Chunk 477 submitted. Main thread continues.\n",
      "  Total processed (optimistic): 23,900,000 positions\n",
      "  Progress: Line 27,979,716\n"
     ]
    },
    {
     "name": "stderr",
     "output_type": "stream",
     "text": [
      "Processing positions: 28000087lines [7:46:17, 953.73lines/s] "
     ]
    },
    {
     "name": "stdout",
     "output_type": "stream",
     "text": [
      "Progress checkpoint: Line 28,000,000, Found 23,918,021 valid positions this session.\n"
     ]
    },
    {
     "name": "stderr",
     "output_type": "stream",
     "text": [
      "Processing positions: 28036160lines [7:46:48, 1136.43lines/s]"
     ]
    },
    {
     "name": "stdout",
     "output_type": "stream",
     "text": [
      "\n",
      "✓ Previous chunk 477 saved. Ledger updated.\n",
      "\n",
      "Submitting chunk 478 (50000 positions) for asynchronous saving...\n",
      "  Chunk 478 submitted. Main thread continues.\n",
      "  Total processed (optimistic): 23,950,000 positions\n",
      "  Progress: Line 28,036,170\n"
     ]
    },
    {
     "name": "stderr",
     "output_type": "stream",
     "text": [
      "Processing positions: 28093329lines [7:47:41, 1183.10lines/s]"
     ]
    },
    {
     "name": "stdout",
     "output_type": "stream",
     "text": [
      "\n",
      "✓ Previous chunk 478 saved. Ledger updated.\n",
      "\n",
      "Submitting chunk 479 (50000 positions) for asynchronous saving...\n",
      "  Chunk 479 submitted. Main thread continues.\n",
      "  Total processed (optimistic): 24,000,000 positions\n",
      "  Progress: Line 28,093,361\n"
     ]
    },
    {
     "name": "stderr",
     "output_type": "stream",
     "text": [
      "Processing positions: 28100164lines [7:47:49, 984.69lines/s] "
     ]
    },
    {
     "name": "stdout",
     "output_type": "stream",
     "text": [
      "Progress checkpoint: Line 28,100,000, Found 24,005,785 valid positions this session.\n"
     ]
    },
    {
     "name": "stderr",
     "output_type": "stream",
     "text": [
      "Processing positions: 28152940lines [7:48:35, 917.97lines/s] "
     ]
    },
    {
     "name": "stdout",
     "output_type": "stream",
     "text": [
      "\n",
      "✓ Previous chunk 479 saved. Ledger updated.\n",
      "\n",
      "Submitting chunk 480 (50000 positions) for asynchronous saving...\n",
      "  Chunk 480 submitted. Main thread continues.\n",
      "  Total processed (optimistic): 24,050,000 positions\n",
      "  Progress: Line 28,152,940\n"
     ]
    },
    {
     "name": "stderr",
     "output_type": "stream",
     "text": [
      "Processing positions: 28200092lines [7:49:20, 934.63lines/s] "
     ]
    },
    {
     "name": "stdout",
     "output_type": "stream",
     "text": [
      "Progress checkpoint: Line 28,200,000, Found 24,090,980 valid positions this session.\n"
     ]
    },
    {
     "name": "stderr",
     "output_type": "stream",
     "text": [
      "Processing positions: 28210436lines [7:49:29, 836.85lines/s] "
     ]
    },
    {
     "name": "stdout",
     "output_type": "stream",
     "text": [
      "\n",
      "✓ Previous chunk 480 saved. Ledger updated.\n",
      "\n",
      "Submitting chunk 481 (50000 positions) for asynchronous saving...\n",
      "  Chunk 481 submitted. Main thread continues.\n",
      "  Total processed (optimistic): 24,100,000 positions\n",
      "  Progress: Line 28,210,385\n"
     ]
    },
    {
     "name": "stderr",
     "output_type": "stream",
     "text": [
      "Processing positions: 28269101lines [7:50:24, 887.17lines/s] "
     ]
    },
    {
     "name": "stdout",
     "output_type": "stream",
     "text": [
      "\n",
      "✓ Previous chunk 481 saved. Ledger updated.\n",
      "\n",
      "Submitting chunk 482 (50000 positions) for asynchronous saving...\n",
      "  Chunk 482 submitted. Main thread continues.\n",
      "  Total processed (optimistic): 24,150,000 positions\n",
      "  Progress: Line 28,269,068\n"
     ]
    },
    {
     "name": "stderr",
     "output_type": "stream",
     "text": [
      "Processing positions: 28300195lines [7:50:56, 1160.55lines/s]"
     ]
    },
    {
     "name": "stdout",
     "output_type": "stream",
     "text": [
      "Progress checkpoint: Line 28,300,000, Found 24,176,621 valid positions this session.\n"
     ]
    },
    {
     "name": "stderr",
     "output_type": "stream",
     "text": [
      "Processing positions: 28326851lines [7:51:18, 1227.69lines/s]"
     ]
    },
    {
     "name": "stdout",
     "output_type": "stream",
     "text": [
      "\n",
      "✓ Previous chunk 482 saved. Ledger updated.\n",
      "\n",
      "Submitting chunk 483 (50000 positions) for asynchronous saving...\n",
      "  Chunk 483 submitted. Main thread continues.\n",
      "  Total processed (optimistic): 24,200,000 positions\n",
      "  Progress: Line 28,326,857\n"
     ]
    },
    {
     "name": "stderr",
     "output_type": "stream",
     "text": [
      "Processing positions: 28384292lines [7:52:13, 1094.79lines/s]"
     ]
    },
    {
     "name": "stdout",
     "output_type": "stream",
     "text": [
      "\n",
      "✓ Previous chunk 483 saved. Ledger updated.\n",
      "\n",
      "Submitting chunk 484 (50000 positions) for asynchronous saving...\n",
      "  Chunk 484 submitted. Main thread continues.\n",
      "  Total processed (optimistic): 24,250,000 positions\n",
      "  Progress: Line 28,384,304\n"
     ]
    },
    {
     "name": "stderr",
     "output_type": "stream",
     "text": [
      "Processing positions: 28400122lines [7:52:31, 1048.93lines/s]"
     ]
    },
    {
     "name": "stdout",
     "output_type": "stream",
     "text": [
      "Progress checkpoint: Line 28,400,000, Found 24,264,197 valid positions this session.\n"
     ]
    },
    {
     "name": "stderr",
     "output_type": "stream",
     "text": [
      "Processing positions: 28440344lines [7:53:06, 1195.25lines/s]"
     ]
    },
    {
     "name": "stdout",
     "output_type": "stream",
     "text": [
      "\n",
      "✓ Previous chunk 484 saved. Ledger updated.\n",
      "\n",
      "Submitting chunk 485 (50000 positions) for asynchronous saving...\n",
      "  Chunk 485 submitted. Main thread continues.\n",
      "  Total processed (optimistic): 24,300,000 positions\n",
      "  Progress: Line 28,440,351\n"
     ]
    },
    {
     "name": "stderr",
     "output_type": "stream",
     "text": [
      "Processing positions: 28497641lines [7:53:59, 1141.96lines/s]"
     ]
    },
    {
     "name": "stdout",
     "output_type": "stream",
     "text": [
      "\n",
      "✓ Previous chunk 485 saved. Ledger updated.\n",
      "\n",
      "Submitting chunk 486 (50000 positions) for asynchronous saving...\n",
      "  Chunk 486 submitted. Main thread continues.\n",
      "  Total processed (optimistic): 24,350,000 positions\n",
      "  Progress: Line 28,497,682\n"
     ]
    },
    {
     "name": "stderr",
     "output_type": "stream",
     "text": [
      "Processing positions: 28500069lines [7:54:03, 885.88lines/s] "
     ]
    },
    {
     "name": "stdout",
     "output_type": "stream",
     "text": [
      "Progress checkpoint: Line 28,500,000, Found 24,352,069 valid positions this session.\n"
     ]
    },
    {
     "name": "stderr",
     "output_type": "stream",
     "text": [
      "Processing positions: 28554454lines [7:54:52, 1188.45lines/s]"
     ]
    },
    {
     "name": "stdout",
     "output_type": "stream",
     "text": [
      "\n",
      "✓ Previous chunk 486 saved. Ledger updated.\n",
      "\n",
      "Submitting chunk 487 (50000 positions) for asynchronous saving...\n",
      "  Chunk 487 submitted. Main thread continues.\n",
      "  Total processed (optimistic): 24,400,000 positions\n",
      "  Progress: Line 28,554,483\n"
     ]
    },
    {
     "name": "stderr",
     "output_type": "stream",
     "text": [
      "Processing positions: 28600188lines [7:55:36, 1099.02lines/s]"
     ]
    },
    {
     "name": "stdout",
     "output_type": "stream",
     "text": [
      "Progress checkpoint: Line 28,600,000, Found 24,440,220 valid positions this session.\n"
     ]
    },
    {
     "name": "stderr",
     "output_type": "stream",
     "text": [
      "Processing positions: 28611329lines [7:55:46, 1158.52lines/s]"
     ]
    },
    {
     "name": "stdout",
     "output_type": "stream",
     "text": [
      "\n",
      "✓ Previous chunk 487 saved. Ledger updated.\n",
      "\n",
      "Submitting chunk 488 (50000 positions) for asynchronous saving...\n",
      "  Chunk 488 submitted. Main thread continues.\n",
      "  Total processed (optimistic): 24,450,000 positions\n",
      "  Progress: Line 28,611,330\n"
     ]
    },
    {
     "name": "stderr",
     "output_type": "stream",
     "text": [
      "Processing positions: 28668463lines [7:56:40, 1154.23lines/s]"
     ]
    },
    {
     "name": "stdout",
     "output_type": "stream",
     "text": [
      "\n",
      "✓ Previous chunk 488 saved. Ledger updated.\n",
      "\n",
      "Submitting chunk 489 (50000 positions) for asynchronous saving...\n",
      "  Chunk 489 submitted. Main thread continues.\n",
      "  Total processed (optimistic): 24,500,000 positions\n",
      "  Progress: Line 28,668,464\n"
     ]
    },
    {
     "name": "stderr",
     "output_type": "stream",
     "text": [
      "Processing positions: 28700258lines [7:57:13, 1198.63lines/s]"
     ]
    },
    {
     "name": "stdout",
     "output_type": "stream",
     "text": [
      "Progress checkpoint: Line 28,700,000, Found 24,527,522 valid positions this session.\n"
     ]
    },
    {
     "name": "stderr",
     "output_type": "stream",
     "text": [
      "Processing positions: 28726131lines [7:57:35, 874.95lines/s] "
     ]
    },
    {
     "name": "stdout",
     "output_type": "stream",
     "text": [
      "\n",
      "✓ Previous chunk 489 saved. Ledger updated.\n",
      "\n",
      "Submitting chunk 490 (50000 positions) for asynchronous saving...\n",
      "  Chunk 490 submitted. Main thread continues.\n",
      "  Total processed (optimistic): 24,550,000 positions\n",
      "  Progress: Line 28,726,112\n"
     ]
    },
    {
     "name": "stderr",
     "output_type": "stream",
     "text": [
      "Processing positions: 28784110lines [7:58:29, 818.41lines/s] "
     ]
    },
    {
     "name": "stdout",
     "output_type": "stream",
     "text": [
      "\n",
      "✓ Previous chunk 490 saved. Ledger updated.\n",
      "\n",
      "Submitting chunk 491 (50000 positions) for asynchronous saving...\n",
      "  Chunk 491 submitted. Main thread continues.\n",
      "  Total processed (optimistic): 24,600,000 positions\n",
      "  Progress: Line 28,784,108\n"
     ]
    },
    {
     "name": "stderr",
     "output_type": "stream",
     "text": [
      "Processing positions: 28800096lines [7:58:46, 987.35lines/s] "
     ]
    },
    {
     "name": "stdout",
     "output_type": "stream",
     "text": [
      "Progress checkpoint: Line 28,800,000, Found 24,613,713 valid positions this session.\n"
     ]
    },
    {
     "name": "stderr",
     "output_type": "stream",
     "text": [
      "Processing positions: 28841917lines [7:59:23, 876.06lines/s] "
     ]
    },
    {
     "name": "stdout",
     "output_type": "stream",
     "text": [
      "\n",
      "✓ Previous chunk 491 saved. Ledger updated.\n",
      "\n",
      "Submitting chunk 492 (50000 positions) for asynchronous saving...\n",
      "  Chunk 492 submitted. Main thread continues.\n",
      "  Total processed (optimistic): 24,650,000 positions\n",
      "  Progress: Line 28,841,884\n"
     ]
    },
    {
     "name": "stderr",
     "output_type": "stream",
     "text": [
      "Processing positions: 28900208lines [8:00:16, 1246.45lines/s]"
     ]
    },
    {
     "name": "stdout",
     "output_type": "stream",
     "text": [
      "Progress checkpoint: Line 28,900,000, Found 24,698,893 valid positions this session.\n"
     ]
    },
    {
     "name": "stderr",
     "output_type": "stream",
     "text": [
      "Processing positions: 28901339lines [8:00:16, 1246.89lines/s]"
     ]
    },
    {
     "name": "stdout",
     "output_type": "stream",
     "text": [
      "\n",
      "✓ Previous chunk 492 saved. Ledger updated.\n",
      "\n",
      "Submitting chunk 493 (50000 positions) for asynchronous saving...\n",
      "  Chunk 493 submitted. Main thread continues.\n",
      "  Total processed (optimistic): 24,700,000 positions\n",
      "  Progress: Line 28,901,376\n"
     ]
    },
    {
     "name": "stderr",
     "output_type": "stream",
     "text": [
      "Processing positions: 28960017lines [8:01:10, 854.07lines/s] "
     ]
    },
    {
     "name": "stdout",
     "output_type": "stream",
     "text": [
      "\n",
      "✓ Previous chunk 493 saved. Ledger updated.\n",
      "\n",
      "Submitting chunk 494 (50000 positions) for asynchronous saving...\n",
      "  Chunk 494 submitted. Main thread continues.\n",
      "  Total processed (optimistic): 24,750,000 positions\n",
      "  Progress: Line 28,959,994\n"
     ]
    },
    {
     "name": "stderr",
     "output_type": "stream",
     "text": [
      "Processing positions: 29000182lines [8:01:50, 1096.44lines/s]"
     ]
    },
    {
     "name": "stdout",
     "output_type": "stream",
     "text": [
      "Progress checkpoint: Line 29,000,000, Found 24,784,854 valid positions this session.\n"
     ]
    },
    {
     "name": "stderr",
     "output_type": "stream",
     "text": [
      "Processing positions: 29017293lines [8:02:04, 1161.93lines/s]"
     ]
    },
    {
     "name": "stdout",
     "output_type": "stream",
     "text": [
      "\n",
      "✓ Previous chunk 494 saved. Ledger updated.\n",
      "\n",
      "Submitting chunk 495 (50000 positions) for asynchronous saving...\n",
      "  Chunk 495 submitted. Main thread continues.\n",
      "  Total processed (optimistic): 24,800,000 positions\n",
      "  Progress: Line 29,017,298\n"
     ]
    },
    {
     "name": "stderr",
     "output_type": "stream",
     "text": [
      "Processing positions: 29073658lines [8:02:58, 1218.40lines/s]"
     ]
    },
    {
     "name": "stdout",
     "output_type": "stream",
     "text": [
      "\n",
      "✓ Previous chunk 495 saved. Ledger updated.\n",
      "\n",
      "Submitting chunk 496 (50000 positions) for asynchronous saving...\n",
      "  Chunk 496 submitted. Main thread continues.\n",
      "  Total processed (optimistic): 24,850,000 positions\n",
      "  Progress: Line 29,073,666\n"
     ]
    },
    {
     "name": "stderr",
     "output_type": "stream",
     "text": [
      "Processing positions: 29100164lines [8:03:26, 1197.97lines/s]"
     ]
    },
    {
     "name": "stdout",
     "output_type": "stream",
     "text": [
      "Progress checkpoint: Line 29,100,000, Found 24,873,341 valid positions this session.\n"
     ]
    },
    {
     "name": "stderr",
     "output_type": "stream",
     "text": [
      "Processing positions: 29131162lines [8:03:51, 1005.92lines/s]"
     ]
    },
    {
     "name": "stdout",
     "output_type": "stream",
     "text": [
      "\n",
      "✓ Previous chunk 496 saved. Ledger updated.\n",
      "\n",
      "Submitting chunk 497 (50000 positions) for asynchronous saving...\n",
      "  Chunk 497 submitted. Main thread continues.\n",
      "  Total processed (optimistic): 24,900,000 positions\n",
      "  Progress: Line 29,131,160\n"
     ]
    },
    {
     "name": "stderr",
     "output_type": "stream",
     "text": [
      "Processing positions: 29188162lines [8:04:45, 1211.68lines/s]"
     ]
    },
    {
     "name": "stdout",
     "output_type": "stream",
     "text": [
      "\n",
      "✓ Previous chunk 497 saved. Ledger updated.\n",
      "\n",
      "Submitting chunk 498 (50000 positions) for asynchronous saving...\n",
      "  Chunk 498 submitted. Main thread continues.\n",
      "  Total processed (optimistic): 24,950,000 positions\n",
      "  Progress: Line 29,188,204\n"
     ]
    },
    {
     "name": "stderr",
     "output_type": "stream",
     "text": [
      "Processing positions: 29200144lines [8:04:58, 951.51lines/s] "
     ]
    },
    {
     "name": "stdout",
     "output_type": "stream",
     "text": [
      "Progress checkpoint: Line 29,200,000, Found 24,960,304 valid positions this session.\n"
     ]
    },
    {
     "name": "stderr",
     "output_type": "stream",
     "text": [
      "Processing positions: 29246068lines [8:05:38, 775.88lines/s] "
     ]
    },
    {
     "name": "stdout",
     "output_type": "stream",
     "text": [
      "\n",
      "✓ Previous chunk 498 saved. Ledger updated.\n",
      "\n",
      "Submitting chunk 499 (50000 positions) for asynchronous saving...\n",
      "  Chunk 499 submitted. Main thread continues.\n",
      "  Total processed (optimistic): 25,000,000 positions\n",
      "  Progress: Line 29,246,026\n"
     ]
    },
    {
     "name": "stderr",
     "output_type": "stream",
     "text": [
      "Processing positions: 29300155lines [8:06:31, 1063.03lines/s]"
     ]
    },
    {
     "name": "stdout",
     "output_type": "stream",
     "text": [
      "Progress checkpoint: Line 29,300,000, Found 25,047,556 valid positions this session.\n"
     ]
    },
    {
     "name": "stderr",
     "output_type": "stream",
     "text": [
      "Processing positions: 29302676lines [8:06:33, 724.76lines/s] "
     ]
    },
    {
     "name": "stdout",
     "output_type": "stream",
     "text": [
      "\n",
      "✓ Previous chunk 499 saved. Ledger updated.\n",
      "\n",
      "Submitting chunk 500 (50000 positions) for asynchronous saving...\n",
      "  Chunk 500 submitted. Main thread continues.\n",
      "  Total processed (optimistic): 25,050,000 positions\n",
      "  Progress: Line 29,302,604\n"
     ]
    },
    {
     "name": "stderr",
     "output_type": "stream",
     "text": [
      "Processing positions: 29359330lines [8:07:27, 910.64lines/s] "
     ]
    },
    {
     "name": "stdout",
     "output_type": "stream",
     "text": [
      "\n",
      "✓ Previous chunk 500 saved. Ledger updated.\n",
      "\n",
      "Submitting chunk 501 (50000 positions) for asynchronous saving...\n",
      "  Chunk 501 submitted. Main thread continues.\n",
      "  Total processed (optimistic): 25,100,000 positions\n",
      "  Progress: Line 29,359,294\n"
     ]
    },
    {
     "name": "stderr",
     "output_type": "stream",
     "text": [
      "Processing positions: 29400264lines [8:08:07, 1299.01lines/s]"
     ]
    },
    {
     "name": "stdout",
     "output_type": "stream",
     "text": [
      "Progress checkpoint: Line 29,400,000, Found 25,135,071 valid positions this session.\n"
     ]
    },
    {
     "name": "stderr",
     "output_type": "stream",
     "text": [
      "Processing positions: 29417268lines [8:08:21, 885.96lines/s] "
     ]
    },
    {
     "name": "stdout",
     "output_type": "stream",
     "text": [
      "\n",
      "✓ Previous chunk 501 saved. Ledger updated.\n",
      "\n",
      "Submitting chunk 502 (50000 positions) for asynchronous saving...\n",
      "  Chunk 502 submitted. Main thread continues.\n",
      "  Total processed (optimistic): 25,150,000 positions\n",
      "  Progress: Line 29,417,263\n"
     ]
    },
    {
     "name": "stderr",
     "output_type": "stream",
     "text": [
      "Processing positions: 29475626lines [8:09:16, 1257.37lines/s]"
     ]
    },
    {
     "name": "stdout",
     "output_type": "stream",
     "text": [
      "\n",
      "✓ Previous chunk 502 saved. Ledger updated.\n",
      "\n",
      "Submitting chunk 503 (50000 positions) for asynchronous saving...\n",
      "  Chunk 503 submitted. Main thread continues.\n",
      "  Total processed (optimistic): 25,200,000 positions\n",
      "  Progress: Line 29,475,686\n"
     ]
    },
    {
     "name": "stderr",
     "output_type": "stream",
     "text": [
      "Processing positions: 29500174lines [8:09:42, 1193.82lines/s]"
     ]
    },
    {
     "name": "stdout",
     "output_type": "stream",
     "text": [
      "Progress checkpoint: Line 29,500,000, Found 25,220,849 valid positions this session.\n"
     ]
    },
    {
     "name": "stderr",
     "output_type": "stream",
     "text": [
      "Processing positions: 29534059lines [8:10:11, 1199.18lines/s]"
     ]
    },
    {
     "name": "stdout",
     "output_type": "stream",
     "text": [
      "\n",
      "✓ Previous chunk 503 saved. Ledger updated.\n",
      "\n",
      "Submitting chunk 504 (50000 positions) for asynchronous saving...\n",
      "  Chunk 504 submitted. Main thread continues.\n",
      "  Total processed (optimistic): 25,250,000 positions\n",
      "  Progress: Line 29,534,070\n"
     ]
    },
    {
     "name": "stderr",
     "output_type": "stream",
     "text": [
      "Processing positions: 29591855lines [8:11:05, 1175.77lines/s]"
     ]
    },
    {
     "name": "stdout",
     "output_type": "stream",
     "text": [
      "\n",
      "✓ Previous chunk 504 saved. Ledger updated.\n",
      "\n",
      "Submitting chunk 505 (50000 positions) for asynchronous saving...\n",
      "  Chunk 505 submitted. Main thread continues.\n",
      "  Total processed (optimistic): 25,300,000 positions\n",
      "  Progress: Line 29,591,889\n"
     ]
    },
    {
     "name": "stderr",
     "output_type": "stream",
     "text": [
      "Processing positions: 29600102lines [8:11:15, 972.03lines/s] "
     ]
    },
    {
     "name": "stdout",
     "output_type": "stream",
     "text": [
      "Progress checkpoint: Line 29,600,000, Found 25,306,940 valid positions this session.\n"
     ]
    },
    {
     "name": "stderr",
     "output_type": "stream",
     "text": [
      "Processing positions: 29649899lines [8:12:00, 913.33lines/s] "
     ]
    },
    {
     "name": "stdout",
     "output_type": "stream",
     "text": [
      "\n",
      "✓ Previous chunk 505 saved. Ledger updated.\n",
      "\n",
      "Submitting chunk 506 (50000 positions) for asynchronous saving...\n",
      "  Chunk 506 submitted. Main thread continues.\n",
      "  Total processed (optimistic): 25,350,000 positions\n",
      "  Progress: Line 29,649,899\n"
     ]
    },
    {
     "name": "stderr",
     "output_type": "stream",
     "text": [
      "Processing positions: 29700216lines [8:12:48, 1118.90lines/s]"
     ]
    },
    {
     "name": "stdout",
     "output_type": "stream",
     "text": [
      "Progress checkpoint: Line 29,700,000, Found 25,393,855 valid positions this session.\n"
     ]
    },
    {
     "name": "stderr",
     "output_type": "stream",
     "text": [
      "Processing positions: 29706814lines [8:12:54, 1144.91lines/s]"
     ]
    },
    {
     "name": "stdout",
     "output_type": "stream",
     "text": [
      "\n",
      "✓ Previous chunk 506 saved. Ledger updated.\n",
      "\n",
      "Submitting chunk 507 (50000 positions) for asynchronous saving...\n",
      "  Chunk 507 submitted. Main thread continues.\n",
      "  Total processed (optimistic): 25,400,000 positions\n",
      "  Progress: Line 29,706,843\n"
     ]
    },
    {
     "name": "stderr",
     "output_type": "stream",
     "text": [
      "Processing positions: 29763897lines [8:13:48, 1300.89lines/s]"
     ]
    },
    {
     "name": "stdout",
     "output_type": "stream",
     "text": [
      "\n",
      "✓ Previous chunk 507 saved. Ledger updated.\n",
      "\n",
      "Submitting chunk 508 (50000 positions) for asynchronous saving...\n",
      "  Chunk 508 submitted. Main thread continues.\n",
      "  Total processed (optimistic): 25,450,000 positions\n",
      "  Progress: Line 29,763,925\n"
     ]
    },
    {
     "name": "stderr",
     "output_type": "stream",
     "text": [
      "Processing positions: 29800228lines [8:14:23, 1179.85lines/s]"
     ]
    },
    {
     "name": "stdout",
     "output_type": "stream",
     "text": [
      "Progress checkpoint: Line 29,800,000, Found 25,481,402 valid positions this session.\n"
     ]
    },
    {
     "name": "stderr",
     "output_type": "stream",
     "text": [
      "Processing positions: 29822356lines [8:14:40, 1530.66lines/s]"
     ]
    },
    {
     "name": "stdout",
     "output_type": "stream",
     "text": [
      "\n",
      "✓ Previous chunk 508 saved. Ledger updated.\n",
      "\n",
      "Submitting chunk 509 (50000 positions) for asynchronous saving...\n",
      "  Chunk 509 submitted. Main thread continues.\n",
      "  Total processed (optimistic): 25,500,000 positions\n",
      "  Progress: Line 29,822,427\n"
     ]
    },
    {
     "name": "stderr",
     "output_type": "stream",
     "text": [
      "Processing positions: 29882887lines [8:15:33, 1320.92lines/s]"
     ]
    },
    {
     "name": "stdout",
     "output_type": "stream",
     "text": [
      "\n",
      "✓ Previous chunk 509 saved. Ledger updated.\n",
      "\n",
      "Submitting chunk 510 (50000 positions) for asynchronous saving...\n",
      "  Chunk 510 submitted. Main thread continues.\n",
      "  Total processed (optimistic): 25,550,000 positions\n",
      "  Progress: Line 29,882,901\n"
     ]
    },
    {
     "name": "stderr",
     "output_type": "stream",
     "text": [
      "Processing positions: 29900134lines [8:15:52, 893.41lines/s] "
     ]
    },
    {
     "name": "stdout",
     "output_type": "stream",
     "text": [
      "Progress checkpoint: Line 29,900,000, Found 25,564,862 valid positions this session.\n"
     ]
    },
    {
     "name": "stderr",
     "output_type": "stream",
     "text": [
      "Processing positions: 29940481lines [8:16:27, 880.69lines/s] "
     ]
    },
    {
     "name": "stdout",
     "output_type": "stream",
     "text": [
      "\n",
      "✓ Previous chunk 510 saved. Ledger updated.\n",
      "\n",
      "Submitting chunk 511 (50000 positions) for asynchronous saving...\n",
      "  Chunk 511 submitted. Main thread continues.\n",
      "  Total processed (optimistic): 25,600,000 positions\n",
      "  Progress: Line 29,940,448\n"
     ]
    },
    {
     "name": "stderr",
     "output_type": "stream",
     "text": [
      "Processing positions: 29997877lines [8:17:21, 834.13lines/s] "
     ]
    },
    {
     "name": "stdout",
     "output_type": "stream",
     "text": [
      "\n",
      "✓ Previous chunk 511 saved. Ledger updated.\n",
      "\n",
      "Submitting chunk 512 (50000 positions) for asynchronous saving...\n",
      "  Chunk 512 submitted. Main thread continues.\n",
      "  Total processed (optimistic): 25,650,000 positions\n",
      "  Progress: Line 29,997,847\n"
     ]
    },
    {
     "name": "stderr",
     "output_type": "stream",
     "text": [
      "Processing positions: 30000214lines [8:17:24, 1133.99lines/s]"
     ]
    },
    {
     "name": "stdout",
     "output_type": "stream",
     "text": [
      "Progress checkpoint: Line 30,000,000, Found 25,651,698 valid positions this session.\n"
     ]
    },
    {
     "name": "stderr",
     "output_type": "stream",
     "text": [
      "Processing positions: 30057137lines [8:18:15, 763.43lines/s] "
     ]
    },
    {
     "name": "stdout",
     "output_type": "stream",
     "text": [
      "\n",
      "✓ Previous chunk 512 saved. Ledger updated.\n",
      "\n",
      "Submitting chunk 513 (50000 positions) for asynchronous saving...\n",
      "  Chunk 513 submitted. Main thread continues.\n",
      "  Total processed (optimistic): 25,700,000 positions\n",
      "  Progress: Line 30,057,108\n"
     ]
    },
    {
     "name": "stderr",
     "output_type": "stream",
     "text": [
      "Processing positions: 30100213lines [8:18:55, 1157.17lines/s]"
     ]
    },
    {
     "name": "stdout",
     "output_type": "stream",
     "text": [
      "Progress checkpoint: Line 30,100,000, Found 25,736,039 valid positions this session.\n"
     ]
    },
    {
     "name": "stderr",
     "output_type": "stream",
     "text": [
      "Processing positions: 30116563lines [8:19:09, 1183.17lines/s]"
     ]
    },
    {
     "name": "stdout",
     "output_type": "stream",
     "text": [
      "\n",
      "✓ Previous chunk 513 saved. Ledger updated.\n",
      "\n",
      "Submitting chunk 514 (50000 positions) for asynchronous saving...\n",
      "  Chunk 514 submitted. Main thread continues.\n",
      "  Total processed (optimistic): 25,750,000 positions\n",
      "  Progress: Line 30,116,585\n"
     ]
    },
    {
     "name": "stderr",
     "output_type": "stream",
     "text": [
      "Processing positions: 30174345lines [8:20:04, 1148.71lines/s]"
     ]
    },
    {
     "name": "stdout",
     "output_type": "stream",
     "text": [
      "\n",
      "✓ Previous chunk 514 saved. Ledger updated.\n",
      "\n",
      "Submitting chunk 515 (50000 positions) for asynchronous saving...\n",
      "  Chunk 515 submitted. Main thread continues.\n",
      "  Total processed (optimistic): 25,800,000 positions\n",
      "  Progress: Line 30,174,351\n"
     ]
    },
    {
     "name": "stderr",
     "output_type": "stream",
     "text": [
      "Processing positions: 30200136lines [8:20:30, 1229.47lines/s]"
     ]
    },
    {
     "name": "stdout",
     "output_type": "stream",
     "text": [
      "Progress checkpoint: Line 30,200,000, Found 25,821,366 valid positions this session.\n"
     ]
    },
    {
     "name": "stderr",
     "output_type": "stream",
     "text": [
      "Processing positions: 30233168lines [8:20:58, 769.45lines/s] "
     ]
    },
    {
     "name": "stdout",
     "output_type": "stream",
     "text": [
      "\n",
      "✓ Previous chunk 515 saved. Ledger updated.\n",
      "\n",
      "Submitting chunk 516 (50000 positions) for asynchronous saving...\n",
      "  Chunk 516 submitted. Main thread continues.\n",
      "  Total processed (optimistic): 25,850,000 positions\n",
      "  Progress: Line 30,233,128\n"
     ]
    },
    {
     "name": "stderr",
     "output_type": "stream",
     "text": [
      "Processing positions: 30292524lines [8:21:53, 860.35lines/s] "
     ]
    },
    {
     "name": "stdout",
     "output_type": "stream",
     "text": [
      "\n",
      "✓ Previous chunk 516 saved. Ledger updated.\n",
      "\n",
      "Submitting chunk 517 (50000 positions) for asynchronous saving...\n",
      "  Chunk 517 submitted. Main thread continues.\n",
      "  Total processed (optimistic): 25,900,000 positions\n",
      "  Progress: Line 30,292,479\n"
     ]
    },
    {
     "name": "stderr",
     "output_type": "stream",
     "text": [
      "Processing positions: 30300138lines [8:22:02, 974.72lines/s] "
     ]
    },
    {
     "name": "stdout",
     "output_type": "stream",
     "text": [
      "Progress checkpoint: Line 30,300,000, Found 25,906,525 valid positions this session.\n"
     ]
    },
    {
     "name": "stderr",
     "output_type": "stream",
     "text": [
      "Processing positions: 30349968lines [8:22:47, 755.54lines/s] "
     ]
    },
    {
     "name": "stdout",
     "output_type": "stream",
     "text": [
      "\n",
      "✓ Previous chunk 517 saved. Ledger updated.\n",
      "\n",
      "Submitting chunk 518 (50000 positions) for asynchronous saving...\n",
      "  Chunk 518 submitted. Main thread continues.\n",
      "  Total processed (optimistic): 25,950,000 positions\n",
      "  Progress: Line 30,349,915\n"
     ]
    },
    {
     "name": "stderr",
     "output_type": "stream",
     "text": [
      "Processing positions: 30400200lines [8:23:34, 1182.31lines/s]"
     ]
    },
    {
     "name": "stdout",
     "output_type": "stream",
     "text": [
      "Progress checkpoint: Line 30,400,000, Found 25,994,269 valid positions this session.\n"
     ]
    },
    {
     "name": "stderr",
     "output_type": "stream",
     "text": [
      "Processing positions: 30406537lines [8:23:40, 1135.91lines/s]"
     ]
    },
    {
     "name": "stdout",
     "output_type": "stream",
     "text": [
      "\n",
      "✓ Previous chunk 518 saved. Ledger updated.\n",
      "\n",
      "Submitting chunk 519 (50000 positions) for asynchronous saving...\n",
      "  Chunk 519 submitted. Main thread continues.\n",
      "  Total processed (optimistic): 26,000,000 positions\n",
      "  Progress: Line 30,406,569\n"
     ]
    },
    {
     "name": "stderr",
     "output_type": "stream",
     "text": [
      "Processing positions: 30463741lines [8:24:31, 871.51lines/s] "
     ]
    },
    {
     "name": "stdout",
     "output_type": "stream",
     "text": [
      "\n",
      "✓ Previous chunk 519 saved. Ledger updated.\n",
      "\n",
      "Submitting chunk 520 (50000 positions) for asynchronous saving...\n",
      "  Chunk 520 submitted. Main thread continues.\n",
      "  Total processed (optimistic): 26,050,000 positions\n",
      "  Progress: Line 30,463,727\n"
     ]
    },
    {
     "name": "stderr",
     "output_type": "stream",
     "text": [
      "Processing positions: 30500103lines [8:25:05, 1163.08lines/s]"
     ]
    },
    {
     "name": "stdout",
     "output_type": "stream",
     "text": [
      "Progress checkpoint: Line 30,500,000, Found 26,082,028 valid positions this session.\n"
     ]
    },
    {
     "name": "stderr",
     "output_type": "stream",
     "text": [
      "Processing positions: 30521733lines [8:25:21, 883.43lines/s] "
     ]
    },
    {
     "name": "stdout",
     "output_type": "stream",
     "text": [
      "\n",
      "✓ Previous chunk 520 saved. Ledger updated.\n",
      "\n",
      "Submitting chunk 521 (50000 positions) for asynchronous saving...\n",
      "  Chunk 521 submitted. Main thread continues.\n",
      "  Total processed (optimistic): 26,100,000 positions\n",
      "  Progress: Line 30,521,656\n"
     ]
    },
    {
     "name": "stderr",
     "output_type": "stream",
     "text": [
      "Processing positions: 30579922lines [8:26:14, 796.01lines/s] "
     ]
    },
    {
     "name": "stdout",
     "output_type": "stream",
     "text": [
      "\n",
      "✓ Previous chunk 521 saved. Ledger updated.\n",
      "\n",
      "Submitting chunk 522 (50000 positions) for asynchronous saving...\n",
      "  Chunk 522 submitted. Main thread continues.\n",
      "  Total processed (optimistic): 26,150,000 positions\n",
      "  Progress: Line 30,579,864\n"
     ]
    },
    {
     "name": "stderr",
     "output_type": "stream",
     "text": [
      "Processing positions: 30600191lines [8:26:36, 1192.52lines/s]"
     ]
    },
    {
     "name": "stdout",
     "output_type": "stream",
     "text": [
      "Progress checkpoint: Line 30,600,000, Found 26,167,510 valid positions this session.\n"
     ]
    },
    {
     "name": "stderr",
     "output_type": "stream",
     "text": [
      "Processing positions: 30637551lines [8:27:08, 795.49lines/s] "
     ]
    },
    {
     "name": "stdout",
     "output_type": "stream",
     "text": [
      "\n",
      "✓ Previous chunk 522 saved. Ledger updated.\n",
      "\n",
      "Submitting chunk 523 (50000 positions) for asynchronous saving...\n",
      "  Chunk 523 submitted. Main thread continues.\n",
      "  Total processed (optimistic): 26,200,000 positions\n",
      "  Progress: Line 30,637,499\n"
     ]
    },
    {
     "name": "stderr",
     "output_type": "stream",
     "text": [
      "Processing positions: 30696050lines [8:28:01, 1311.12lines/s]"
     ]
    },
    {
     "name": "stdout",
     "output_type": "stream",
     "text": [
      "\n",
      "✓ Previous chunk 523 saved. Ledger updated.\n",
      "\n",
      "Submitting chunk 524 (50000 positions) for asynchronous saving...\n",
      "  Chunk 524 submitted. Main thread continues.\n",
      "  Total processed (optimistic): 26,250,000 positions\n",
      "  Progress: Line 30,696,080\n"
     ]
    },
    {
     "name": "stderr",
     "output_type": "stream",
     "text": [
      "Processing positions: 30700185lines [8:28:07, 1042.37lines/s]"
     ]
    },
    {
     "name": "stdout",
     "output_type": "stream",
     "text": [
      "Progress checkpoint: Line 30,700,000, Found 26,253,388 valid positions this session.\n"
     ]
    },
    {
     "name": "stderr",
     "output_type": "stream",
     "text": [
      "Processing positions: 30754476lines [8:28:56, 868.42lines/s] "
     ]
    },
    {
     "name": "stdout",
     "output_type": "stream",
     "text": [
      "\n",
      "✓ Previous chunk 524 saved. Ledger updated.\n",
      "\n",
      "Submitting chunk 525 (50000 positions) for asynchronous saving...\n",
      "  Chunk 525 submitted. Main thread continues.\n",
      "  Total processed (optimistic): 26,300,000 positions\n",
      "  Progress: Line 30,754,475\n"
     ]
    },
    {
     "name": "stderr",
     "output_type": "stream",
     "text": [
      "Processing positions: 30800104lines [8:29:40, 1170.24lines/s]"
     ]
    },
    {
     "name": "stdout",
     "output_type": "stream",
     "text": [
      "Progress checkpoint: Line 30,800,000, Found 26,339,921 valid positions this session.\n"
     ]
    },
    {
     "name": "stderr",
     "output_type": "stream",
     "text": [
      "Processing positions: 30811471lines [8:29:50, 1305.70lines/s]"
     ]
    },
    {
     "name": "stdout",
     "output_type": "stream",
     "text": [
      "\n",
      "✓ Previous chunk 525 saved. Ledger updated.\n",
      "\n",
      "Submitting chunk 526 (50000 positions) for asynchronous saving...\n",
      "  Chunk 526 submitted. Main thread continues.\n",
      "  Total processed (optimistic): 26,350,000 positions\n",
      "  Progress: Line 30,811,477\n"
     ]
    },
    {
     "name": "stderr",
     "output_type": "stream",
     "text": [
      "Processing positions: 30869800lines [8:30:44, 1197.94lines/s]"
     ]
    },
    {
     "name": "stdout",
     "output_type": "stream",
     "text": [
      "\n",
      "✓ Previous chunk 526 saved. Ledger updated.\n",
      "\n",
      "Submitting chunk 527 (50000 positions) for asynchronous saving...\n",
      "  Chunk 527 submitted. Main thread continues.\n",
      "  Total processed (optimistic): 26,400,000 positions\n",
      "  Progress: Line 30,869,811\n"
     ]
    },
    {
     "name": "stderr",
     "output_type": "stream",
     "text": [
      "Processing positions: 30900195lines [8:31:15, 1081.20lines/s]"
     ]
    },
    {
     "name": "stdout",
     "output_type": "stream",
     "text": [
      "Progress checkpoint: Line 30,900,000, Found 26,426,229 valid positions this session.\n"
     ]
    },
    {
     "name": "stderr",
     "output_type": "stream",
     "text": [
      "Processing positions: 30926898lines [8:31:39, 854.43lines/s] "
     ]
    },
    {
     "name": "stdout",
     "output_type": "stream",
     "text": [
      "\n",
      "✓ Previous chunk 527 saved. Ledger updated.\n",
      "\n",
      "Submitting chunk 528 (50000 positions) for asynchronous saving...\n",
      "  Chunk 528 submitted. Main thread continues.\n",
      "  Total processed (optimistic): 26,450,000 positions\n",
      "  Progress: Line 30,926,889\n"
     ]
    },
    {
     "name": "stderr",
     "output_type": "stream",
     "text": [
      "Processing positions: 30983504lines [8:32:34, 779.66lines/s] "
     ]
    },
    {
     "name": "stdout",
     "output_type": "stream",
     "text": [
      "\n",
      "✓ Previous chunk 528 saved. Ledger updated.\n",
      "\n",
      "Submitting chunk 529 (50000 positions) for asynchronous saving...\n",
      "  Chunk 529 submitted. Main thread continues.\n",
      "  Total processed (optimistic): 26,500,000 positions\n",
      "  Progress: Line 30,983,440\n"
     ]
    },
    {
     "name": "stderr",
     "output_type": "stream",
     "text": [
      "Processing positions: 31000111lines [8:32:52, 994.78lines/s] "
     ]
    },
    {
     "name": "stdout",
     "output_type": "stream",
     "text": [
      "Progress checkpoint: Line 31,000,000, Found 26,514,077 valid positions this session.\n"
     ]
    },
    {
     "name": "stderr",
     "output_type": "stream",
     "text": [
      "Processing positions: 31040970lines [8:33:27, 1253.27lines/s]"
     ]
    },
    {
     "name": "stdout",
     "output_type": "stream",
     "text": [
      "\n",
      "✓ Previous chunk 529 saved. Ledger updated.\n",
      "\n",
      "Submitting chunk 530 (50000 positions) for asynchronous saving...\n",
      "  Chunk 530 submitted. Main thread continues.\n",
      "  Total processed (optimistic): 26,550,000 positions\n",
      "  Progress: Line 31,040,995\n"
     ]
    },
    {
     "name": "stderr",
     "output_type": "stream",
     "text": [
      "Processing positions: 31098823lines [8:34:21, 1236.82lines/s]"
     ]
    },
    {
     "name": "stdout",
     "output_type": "stream",
     "text": [
      "\n",
      "✓ Previous chunk 530 saved. Ledger updated.\n",
      "\n",
      "Submitting chunk 531 (50000 positions) for asynchronous saving...\n",
      "  Chunk 531 submitted. Main thread continues.\n",
      "  Total processed (optimistic): 26,600,000 positions\n",
      "  Progress: Line 31,098,829\n"
     ]
    },
    {
     "name": "stderr",
     "output_type": "stream",
     "text": [
      "Processing positions: 31100084lines [8:34:24, 487.04lines/s] "
     ]
    },
    {
     "name": "stdout",
     "output_type": "stream",
     "text": [
      "Progress checkpoint: Line 31,100,000, Found 26,600,987 valid positions this session.\n"
     ]
    },
    {
     "name": "stderr",
     "output_type": "stream",
     "text": [
      "Processing positions: 31156236lines [8:35:14, 1254.60lines/s]"
     ]
    },
    {
     "name": "stdout",
     "output_type": "stream",
     "text": [
      "\n",
      "✓ Previous chunk 531 saved. Ledger updated.\n",
      "\n",
      "Submitting chunk 532 (50000 positions) for asynchronous saving...\n",
      "  Chunk 532 submitted. Main thread continues.\n",
      "  Total processed (optimistic): 26,650,000 positions\n",
      "  Progress: Line 31,156,268\n"
     ]
    },
    {
     "name": "stderr",
     "output_type": "stream",
     "text": [
      "Processing positions: 31200150lines [8:35:57, 1164.24lines/s]"
     ]
    },
    {
     "name": "stdout",
     "output_type": "stream",
     "text": [
      "Progress checkpoint: Line 31,200,000, Found 26,688,492 valid positions this session.\n"
     ]
    },
    {
     "name": "stderr",
     "output_type": "stream",
     "text": [
      "Processing positions: 31213340lines [8:36:08, 781.05lines/s] "
     ]
    },
    {
     "name": "stdout",
     "output_type": "stream",
     "text": [
      "\n",
      "✓ Previous chunk 532 saved. Ledger updated.\n",
      "\n",
      "Submitting chunk 533 (50000 positions) for asynchronous saving...\n",
      "  Chunk 533 submitted. Main thread continues.\n",
      "  Total processed (optimistic): 26,700,000 positions\n",
      "  Progress: Line 31,213,294\n"
     ]
    },
    {
     "name": "stderr",
     "output_type": "stream",
     "text": [
      "Processing positions: 31272039lines [8:37:02, 1221.25lines/s]"
     ]
    },
    {
     "name": "stdout",
     "output_type": "stream",
     "text": [
      "\n",
      "✓ Previous chunk 533 saved. Ledger updated.\n",
      "\n",
      "Submitting chunk 534 (50000 positions) for asynchronous saving...\n",
      "  Chunk 534 submitted. Main thread continues.\n",
      "  Total processed (optimistic): 26,750,000 positions\n",
      "  Progress: Line 31,272,043\n"
     ]
    },
    {
     "name": "stderr",
     "output_type": "stream",
     "text": [
      "Processing positions: 31300182lines [8:37:31, 1250.70lines/s]"
     ]
    },
    {
     "name": "stdout",
     "output_type": "stream",
     "text": [
      "Progress checkpoint: Line 31,300,000, Found 26,773,578 valid positions this session.\n"
     ]
    },
    {
     "name": "stderr",
     "output_type": "stream",
     "text": [
      "Processing positions: 31331428lines [8:37:57, 966.34lines/s] "
     ]
    },
    {
     "name": "stdout",
     "output_type": "stream",
     "text": [
      "\n",
      "✓ Previous chunk 534 saved. Ledger updated.\n",
      "\n",
      "Submitting chunk 535 (50000 positions) for asynchronous saving...\n",
      "  Chunk 535 submitted. Main thread continues.\n",
      "  Total processed (optimistic): 26,800,000 positions\n",
      "  Progress: Line 31,331,428\n"
     ]
    },
    {
     "name": "stderr",
     "output_type": "stream",
     "text": [
      "Processing positions: 31390666lines [8:38:51, 1240.82lines/s]"
     ]
    },
    {
     "name": "stdout",
     "output_type": "stream",
     "text": [
      "\n",
      "✓ Previous chunk 535 saved. Ledger updated.\n",
      "\n",
      "Submitting chunk 536 (50000 positions) for asynchronous saving...\n",
      "  Chunk 536 submitted. Main thread continues.\n",
      "  Total processed (optimistic): 26,850,000 positions\n",
      "  Progress: Line 31,390,722\n"
     ]
    },
    {
     "name": "stderr",
     "output_type": "stream",
     "text": [
      "Processing positions: 31400149lines [8:39:03, 875.79lines/s] "
     ]
    },
    {
     "name": "stdout",
     "output_type": "stream",
     "text": [
      "Progress checkpoint: Line 31,400,000, Found 26,858,093 valid positions this session.\n"
     ]
    },
    {
     "name": "stderr",
     "output_type": "stream",
     "text": [
      "Processing positions: 31447572lines [8:39:47, 789.66lines/s] "
     ]
    },
    {
     "name": "stdout",
     "output_type": "stream",
     "text": [
      "\n",
      "✓ Previous chunk 536 saved. Ledger updated.\n",
      "\n",
      "Submitting chunk 537 (50000 positions) for asynchronous saving...\n",
      "  Chunk 537 submitted. Main thread continues.\n",
      "  Total processed (optimistic): 26,900,000 positions\n",
      "  Progress: Line 31,447,535\n"
     ]
    },
    {
     "name": "stderr",
     "output_type": "stream",
     "text": [
      "Processing positions: 31500199lines [8:40:37, 1128.56lines/s]"
     ]
    },
    {
     "name": "stdout",
     "output_type": "stream",
     "text": [
      "Progress checkpoint: Line 31,500,000, Found 26,945,860 valid positions this session.\n"
     ]
    },
    {
     "name": "stderr",
     "output_type": "stream",
     "text": [
      "Processing positions: 31504625lines [8:40:41, 818.59lines/s] "
     ]
    },
    {
     "name": "stdout",
     "output_type": "stream",
     "text": [
      "\n",
      "✓ Previous chunk 537 saved. Ledger updated.\n",
      "\n",
      "Submitting chunk 538 (50000 positions) for asynchronous saving...\n",
      "  Chunk 538 submitted. Main thread continues.\n",
      "  Total processed (optimistic): 26,950,000 positions\n",
      "  Progress: Line 31,504,606\n"
     ]
    },
    {
     "name": "stderr",
     "output_type": "stream",
     "text": [
      "Processing positions: 31561298lines [8:41:36, 1140.14lines/s]"
     ]
    },
    {
     "name": "stdout",
     "output_type": "stream",
     "text": [
      "\n",
      "✓ Previous chunk 538 saved. Ledger updated.\n",
      "\n",
      "Submitting chunk 539 (50000 positions) for asynchronous saving...\n",
      "  Chunk 539 submitted. Main thread continues.\n",
      "  Total processed (optimistic): 27,000,000 positions\n",
      "  Progress: Line 31,561,329\n"
     ]
    },
    {
     "name": "stderr",
     "output_type": "stream",
     "text": [
      "Processing positions: 31600142lines [8:42:14, 1087.34lines/s]"
     ]
    },
    {
     "name": "stdout",
     "output_type": "stream",
     "text": [
      "Progress checkpoint: Line 31,600,000, Found 27,034,132 valid positions this session.\n"
     ]
    },
    {
     "name": "stderr",
     "output_type": "stream",
     "text": [
      "Processing positions: 31618040lines [8:42:29, 744.13lines/s] "
     ]
    },
    {
     "name": "stdout",
     "output_type": "stream",
     "text": [
      "\n",
      "✓ Previous chunk 539 saved. Ledger updated.\n",
      "\n",
      "Submitting chunk 540 (50000 positions) for asynchronous saving...\n",
      "  Chunk 540 submitted. Main thread continues.\n",
      "  Total processed (optimistic): 27,050,000 positions\n",
      "  Progress: Line 31,617,989\n"
     ]
    },
    {
     "name": "stderr",
     "output_type": "stream",
     "text": [
      "Processing positions: 31674318lines [8:43:21, 867.16lines/s] "
     ]
    },
    {
     "name": "stdout",
     "output_type": "stream",
     "text": [
      "\n",
      "✓ Previous chunk 540 saved. Ledger updated.\n",
      "\n",
      "Submitting chunk 541 (50000 positions) for asynchronous saving...\n",
      "  Chunk 541 submitted. Main thread continues.\n",
      "  Total processed (optimistic): 27,100,000 positions\n",
      "  Progress: Line 31,674,261\n"
     ]
    },
    {
     "name": "stderr",
     "output_type": "stream",
     "text": [
      "Processing positions: 31700189lines [8:43:47, 1113.91lines/s]"
     ]
    },
    {
     "name": "stdout",
     "output_type": "stream",
     "text": [
      "Progress checkpoint: Line 31,700,000, Found 27,122,797 valid positions this session.\n"
     ]
    },
    {
     "name": "stderr",
     "output_type": "stream",
     "text": [
      "Processing positions: 31730511lines [8:44:11, 885.78lines/s] "
     ]
    },
    {
     "name": "stdout",
     "output_type": "stream",
     "text": [
      "\n",
      "✓ Previous chunk 541 saved. Ledger updated.\n",
      "\n",
      "Submitting chunk 542 (50000 positions) for asynchronous saving...\n",
      "  Chunk 542 submitted. Main thread continues.\n",
      "  Total processed (optimistic): 27,150,000 positions\n",
      "  Progress: Line 31,730,497\n"
     ]
    },
    {
     "name": "stderr",
     "output_type": "stream",
     "text": [
      "Processing positions: 31787503lines [8:45:01, 1151.30lines/s]"
     ]
    },
    {
     "name": "stdout",
     "output_type": "stream",
     "text": [
      "\n",
      "✓ Previous chunk 542 saved. Ledger updated.\n",
      "\n",
      "Submitting chunk 543 (50000 positions) for asynchronous saving...\n",
      "  Chunk 543 submitted. Main thread continues.\n",
      "  Total processed (optimistic): 27,200,000 positions\n",
      "  Progress: Line 31,787,549\n"
     ]
    },
    {
     "name": "stderr",
     "output_type": "stream",
     "text": [
      "Processing positions: 31800185lines [8:45:16, 1017.77lines/s]"
     ]
    },
    {
     "name": "stdout",
     "output_type": "stream",
     "text": [
      "Progress checkpoint: Line 31,800,000, Found 27,210,947 valid positions this session.\n"
     ]
    },
    {
     "name": "stderr",
     "output_type": "stream",
     "text": [
      "Processing positions: 31843738lines [8:45:55, 1204.97lines/s]"
     ]
    },
    {
     "name": "stdout",
     "output_type": "stream",
     "text": [
      "\n",
      "✓ Previous chunk 543 saved. Ledger updated.\n",
      "\n",
      "Submitting chunk 544 (50000 positions) for asynchronous saving...\n",
      "  Chunk 544 submitted. Main thread continues.\n",
      "  Total processed (optimistic): 27,250,000 positions\n",
      "  Progress: Line 31,843,761\n"
     ]
    },
    {
     "name": "stderr",
     "output_type": "stream",
     "text": [
      "Processing positions: 31900114lines [8:46:49, 1093.48lines/s]"
     ]
    },
    {
     "name": "stdout",
     "output_type": "stream",
     "text": [
      "Progress checkpoint: Line 31,900,000, Found 27,299,488 valid positions this session.\n"
     ]
    },
    {
     "name": "stderr",
     "output_type": "stream",
     "text": [
      "Processing positions: 31900591lines [8:46:49, 916.81lines/s] "
     ]
    },
    {
     "name": "stdout",
     "output_type": "stream",
     "text": [
      "\n",
      "✓ Previous chunk 544 saved. Ledger updated.\n",
      "\n",
      "Submitting chunk 545 (50000 positions) for asynchronous saving...\n",
      "  Chunk 545 submitted. Main thread continues.\n",
      "  Total processed (optimistic): 27,300,000 positions\n",
      "  Progress: Line 31,900,591\n"
     ]
    },
    {
     "name": "stderr",
     "output_type": "stream",
     "text": [
      "Processing positions: 31957832lines [8:47:42, 1229.70lines/s]"
     ]
    },
    {
     "name": "stdout",
     "output_type": "stream",
     "text": [
      "\n",
      "✓ Previous chunk 545 saved. Ledger updated.\n",
      "\n",
      "Submitting chunk 546 (50000 positions) for asynchronous saving...\n",
      "  Chunk 546 submitted. Main thread continues.\n",
      "  Total processed (optimistic): 27,350,000 positions\n",
      "  Progress: Line 31,957,873\n"
     ]
    },
    {
     "name": "stderr",
     "output_type": "stream",
     "text": [
      "Processing positions: 32000211lines [8:48:23, 1265.37lines/s]"
     ]
    },
    {
     "name": "stdout",
     "output_type": "stream",
     "text": [
      "Progress checkpoint: Line 32,000,000, Found 27,385,756 valid positions this session.\n"
     ]
    },
    {
     "name": "stderr",
     "output_type": "stream",
     "text": [
      "Processing positions: 32016560lines [8:48:37, 886.68lines/s] "
     ]
    },
    {
     "name": "stdout",
     "output_type": "stream",
     "text": [
      "\n",
      "✓ Previous chunk 546 saved. Ledger updated.\n",
      "\n",
      "Submitting chunk 547 (50000 positions) for asynchronous saving...\n",
      "  Chunk 547 submitted. Main thread continues.\n",
      "  Total processed (optimistic): 27,400,000 positions\n",
      "  Progress: Line 32,016,545\n"
     ]
    },
    {
     "name": "stderr",
     "output_type": "stream",
     "text": [
      "Processing positions: 32074245lines [8:49:31, 868.11lines/s] "
     ]
    },
    {
     "name": "stdout",
     "output_type": "stream",
     "text": [
      "\n",
      "✓ Previous chunk 547 saved. Ledger updated.\n",
      "\n",
      "Submitting chunk 548 (50000 positions) for asynchronous saving...\n",
      "  Chunk 548 submitted. Main thread continues.\n",
      "  Total processed (optimistic): 27,450,000 positions\n",
      "  Progress: Line 32,074,208\n"
     ]
    },
    {
     "name": "stderr",
     "output_type": "stream",
     "text": [
      "Processing positions: 32100123lines [8:49:56, 1163.88lines/s]"
     ]
    },
    {
     "name": "stdout",
     "output_type": "stream",
     "text": [
      "Progress checkpoint: Line 32,100,000, Found 27,471,705 valid positions this session.\n"
     ]
    },
    {
     "name": "stderr",
     "output_type": "stream",
     "text": [
      "Processing positions: 32132752lines [8:50:24, 1209.80lines/s]"
     ]
    },
    {
     "name": "stdout",
     "output_type": "stream",
     "text": [
      "\n",
      "✓ Previous chunk 548 saved. Ledger updated.\n",
      "\n",
      "Submitting chunk 549 (50000 positions) for asynchronous saving...\n",
      "  Chunk 549 submitted. Main thread continues.\n",
      "  Total processed (optimistic): 27,500,000 positions\n",
      "  Progress: Line 32,132,780\n"
     ]
    },
    {
     "name": "stderr",
     "output_type": "stream",
     "text": [
      "Processing positions: 32190180lines [8:51:18, 796.63lines/s] "
     ]
    },
    {
     "name": "stdout",
     "output_type": "stream",
     "text": [
      "\n",
      "✓ Previous chunk 549 saved. Ledger updated.\n",
      "\n",
      "Submitting chunk 550 (50000 positions) for asynchronous saving...\n",
      "  Chunk 550 submitted. Main thread continues.\n",
      "  Total processed (optimistic): 27,550,000 positions\n",
      "  Progress: Line 32,190,113\n"
     ]
    },
    {
     "name": "stderr",
     "output_type": "stream",
     "text": [
      "Processing positions: 32200190lines [8:51:30, 890.71lines/s] "
     ]
    },
    {
     "name": "stdout",
     "output_type": "stream",
     "text": [
      "Progress checkpoint: Line 32,200,000, Found 27,558,550 valid positions this session.\n"
     ]
    },
    {
     "name": "stderr",
     "output_type": "stream",
     "text": [
      "Processing positions: 32246943lines [8:52:13, 1146.49lines/s]"
     ]
    },
    {
     "name": "stdout",
     "output_type": "stream",
     "text": [
      "\n",
      "✓ Previous chunk 550 saved. Ledger updated.\n",
      "\n",
      "Submitting chunk 551 (50000 positions) for asynchronous saving...\n",
      "  Chunk 551 submitted. Main thread continues.\n",
      "  Total processed (optimistic): 27,600,000 positions\n",
      "  Progress: Line 32,246,948\n"
     ]
    },
    {
     "name": "stderr",
     "output_type": "stream",
     "text": [
      "Processing positions: 32300208lines [8:53:04, 1199.28lines/s]"
     ]
    },
    {
     "name": "stdout",
     "output_type": "stream",
     "text": [
      "Progress checkpoint: Line 32,300,000, Found 27,646,777 valid positions this session.\n"
     ]
    },
    {
     "name": "stderr",
     "output_type": "stream",
     "text": [
      "Processing positions: 32303643lines [8:53:06, 1210.08lines/s]"
     ]
    },
    {
     "name": "stdout",
     "output_type": "stream",
     "text": [
      "\n",
      "✓ Previous chunk 551 saved. Ledger updated.\n",
      "\n",
      "Submitting chunk 552 (50000 positions) for asynchronous saving...\n",
      "  Chunk 552 submitted. Main thread continues.\n",
      "  Total processed (optimistic): 27,650,000 positions\n",
      "  Progress: Line 32,303,698\n"
     ]
    },
    {
     "name": "stderr",
     "output_type": "stream",
     "text": [
      "Processing positions: 32360448lines [8:54:00, 1199.53lines/s]"
     ]
    },
    {
     "name": "stdout",
     "output_type": "stream",
     "text": [
      "\n",
      "✓ Previous chunk 552 saved. Ledger updated.\n",
      "\n",
      "Submitting chunk 553 (50000 positions) for asynchronous saving...\n",
      "  Chunk 553 submitted. Main thread continues.\n",
      "  Total processed (optimistic): 27,700,000 positions\n",
      "  Progress: Line 32,360,473\n"
     ]
    },
    {
     "name": "stderr",
     "output_type": "stream",
     "text": [
      "Processing positions: 32400108lines [8:54:38, 1116.86lines/s]"
     ]
    },
    {
     "name": "stdout",
     "output_type": "stream",
     "text": [
      "Progress checkpoint: Line 32,400,000, Found 27,734,050 valid positions this session.\n"
     ]
    },
    {
     "name": "stderr",
     "output_type": "stream",
     "text": [
      "Processing positions: 32418189lines [8:54:53, 862.65lines/s] "
     ]
    },
    {
     "name": "stdout",
     "output_type": "stream",
     "text": [
      "\n",
      "✓ Previous chunk 553 saved. Ledger updated.\n",
      "\n",
      "Submitting chunk 554 (50000 positions) for asynchronous saving...\n",
      "  Chunk 554 submitted. Main thread continues.\n",
      "  Total processed (optimistic): 27,750,000 positions\n",
      "  Progress: Line 32,418,179\n"
     ]
    },
    {
     "name": "stderr",
     "output_type": "stream",
     "text": [
      "Processing positions: 32476508lines [8:55:46, 914.52lines/s] "
     ]
    },
    {
     "name": "stdout",
     "output_type": "stream",
     "text": [
      "\n",
      "✓ Previous chunk 554 saved. Ledger updated.\n",
      "\n",
      "Submitting chunk 555 (50000 positions) for asynchronous saving...\n",
      "  Chunk 555 submitted. Main thread continues.\n",
      "  Total processed (optimistic): 27,800,000 positions\n",
      "  Progress: Line 32,476,485\n"
     ]
    },
    {
     "name": "stderr",
     "output_type": "stream",
     "text": [
      "Processing positions: 32500080lines [8:56:11, 1150.56lines/s]"
     ]
    },
    {
     "name": "stdout",
     "output_type": "stream",
     "text": [
      "Progress checkpoint: Line 32,500,000, Found 27,820,759 valid positions this session.\n"
     ]
    },
    {
     "name": "stderr",
     "output_type": "stream",
     "text": [
      "Processing positions: 32533578lines [8:56:40, 845.46lines/s] "
     ]
    },
    {
     "name": "stdout",
     "output_type": "stream",
     "text": [
      "\n",
      "✓ Previous chunk 555 saved. Ledger updated.\n",
      "\n",
      "Submitting chunk 556 (50000 positions) for asynchronous saving...\n",
      "  Chunk 556 submitted. Main thread continues.\n",
      "  Total processed (optimistic): 27,850,000 positions\n",
      "  Progress: Line 32,533,515\n"
     ]
    },
    {
     "name": "stderr",
     "output_type": "stream",
     "text": [
      "Processing positions: 32591977lines [8:57:34, 891.18lines/s] "
     ]
    },
    {
     "name": "stdout",
     "output_type": "stream",
     "text": [
      "\n",
      "✓ Previous chunk 556 saved. Ledger updated.\n",
      "\n",
      "Submitting chunk 557 (50000 positions) for asynchronous saving...\n",
      "  Chunk 557 submitted. Main thread continues.\n",
      "  Total processed (optimistic): 27,900,000 positions\n",
      "  Progress: Line 32,591,926\n"
     ]
    },
    {
     "name": "stderr",
     "output_type": "stream",
     "text": [
      "Processing positions: 32600225lines [8:57:43, 1174.24lines/s]"
     ]
    },
    {
     "name": "stdout",
     "output_type": "stream",
     "text": [
      "Progress checkpoint: Line 32,600,000, Found 27,906,844 valid positions this session.\n"
     ]
    },
    {
     "name": "stderr",
     "output_type": "stream",
     "text": [
      "Processing positions: 32651390lines [8:58:28, 1206.12lines/s]"
     ]
    },
    {
     "name": "stdout",
     "output_type": "stream",
     "text": [
      "\n",
      "✓ Previous chunk 557 saved. Ledger updated.\n",
      "\n",
      "Submitting chunk 558 (50000 positions) for asynchronous saving...\n",
      "  Chunk 558 submitted. Main thread continues.\n",
      "  Total processed (optimistic): 27,950,000 positions\n",
      "  Progress: Line 32,651,414\n"
     ]
    },
    {
     "name": "stderr",
     "output_type": "stream",
     "text": [
      "Processing positions: 32700131lines [8:59:14, 1195.16lines/s]"
     ]
    },
    {
     "name": "stdout",
     "output_type": "stream",
     "text": [
      "Progress checkpoint: Line 32,700,000, Found 27,990,864 valid positions this session.\n"
     ]
    },
    {
     "name": "stderr",
     "output_type": "stream",
     "text": [
      "Processing positions: 32710588lines [8:59:23, 888.35lines/s] "
     ]
    },
    {
     "name": "stdout",
     "output_type": "stream",
     "text": [
      "\n",
      "✓ Previous chunk 558 saved. Ledger updated.\n",
      "\n",
      "Submitting chunk 559 (50000 positions) for asynchronous saving...\n",
      "  Chunk 559 submitted. Main thread continues.\n",
      "  Total processed (optimistic): 28,000,000 positions\n",
      "  Progress: Line 32,710,565\n"
     ]
    },
    {
     "name": "stderr",
     "output_type": "stream",
     "text": [
      "Processing positions: 32769904lines [9:00:17, 921.98lines/s] "
     ]
    },
    {
     "name": "stdout",
     "output_type": "stream",
     "text": [
      "\n",
      "✓ Previous chunk 559 saved. Ledger updated.\n",
      "\n",
      "Submitting chunk 560 (50000 positions) for asynchronous saving...\n",
      "  Chunk 560 submitted. Main thread continues.\n",
      "  Total processed (optimistic): 28,050,000 positions\n",
      "  Progress: Line 32,769,893\n"
     ]
    },
    {
     "name": "stderr",
     "output_type": "stream",
     "text": [
      "Processing positions: 32800183lines [9:00:47, 1198.14lines/s]"
     ]
    },
    {
     "name": "stdout",
     "output_type": "stream",
     "text": [
      "Progress checkpoint: Line 32,800,000, Found 28,075,424 valid positions this session.\n"
     ]
    },
    {
     "name": "stderr",
     "output_type": "stream",
     "text": [
      "Processing positions: 32828664lines [9:01:11, 1250.40lines/s]"
     ]
    },
    {
     "name": "stdout",
     "output_type": "stream",
     "text": [
      "\n",
      "✓ Previous chunk 560 saved. Ledger updated.\n",
      "\n",
      "Submitting chunk 561 (50000 positions) for asynchronous saving...\n",
      "  Chunk 561 submitted. Main thread continues.\n",
      "  Total processed (optimistic): 28,100,000 positions\n",
      "  Progress: Line 32,828,706\n"
     ]
    },
    {
     "name": "stderr",
     "output_type": "stream",
     "text": [
      "Processing positions: 32885480lines [9:02:05, 1165.45lines/s]"
     ]
    },
    {
     "name": "stdout",
     "output_type": "stream",
     "text": [
      "\n",
      "✓ Previous chunk 561 saved. Ledger updated.\n",
      "\n",
      "Submitting chunk 562 (50000 positions) for asynchronous saving...\n",
      "  Chunk 562 submitted. Main thread continues.\n",
      "  Total processed (optimistic): 28,150,000 positions\n",
      "  Progress: Line 32,885,505\n"
     ]
    },
    {
     "name": "stderr",
     "output_type": "stream",
     "text": [
      "Processing positions: 32900110lines [9:02:21, 933.70lines/s] "
     ]
    },
    {
     "name": "stdout",
     "output_type": "stream",
     "text": [
      "Progress checkpoint: Line 32,900,000, Found 28,162,659 valid positions this session.\n"
     ]
    },
    {
     "name": "stderr",
     "output_type": "stream",
     "text": [
      "Processing positions: 32943132lines [9:02:59, 1230.46lines/s]"
     ]
    },
    {
     "name": "stdout",
     "output_type": "stream",
     "text": [
      "\n",
      "✓ Previous chunk 562 saved. Ledger updated.\n",
      "\n",
      "Submitting chunk 563 (50000 positions) for asynchronous saving...\n",
      "  Chunk 563 submitted. Main thread continues.\n",
      "  Total processed (optimistic): 28,200,000 positions\n",
      "  Progress: Line 32,943,187\n"
     ]
    },
    {
     "name": "stderr",
     "output_type": "stream",
     "text": [
      "Processing positions: 33000132lines [9:03:51, 1168.14lines/s]"
     ]
    },
    {
     "name": "stdout",
     "output_type": "stream",
     "text": [
      "Progress checkpoint: Line 33,000,000, Found 28,249,361 valid positions this session.\n"
     ]
    },
    {
     "name": "stderr",
     "output_type": "stream",
     "text": [
      "Processing positions: 33000789lines [9:03:51, 1277.09lines/s]"
     ]
    },
    {
     "name": "stdout",
     "output_type": "stream",
     "text": [
      "\n",
      "✓ Previous chunk 563 saved. Ledger updated.\n",
      "\n",
      "Submitting chunk 564 (50000 positions) for asynchronous saving...\n",
      "  Chunk 564 submitted. Main thread continues.\n",
      "  Total processed (optimistic): 28,250,000 positions\n",
      "  Progress: Line 33,000,799\n"
     ]
    },
    {
     "name": "stderr",
     "output_type": "stream",
     "text": [
      "Processing positions: 33056728lines [9:04:44, 1155.06lines/s]"
     ]
    },
    {
     "name": "stdout",
     "output_type": "stream",
     "text": [
      "\n",
      "✓ Previous chunk 564 saved. Ledger updated.\n",
      "\n",
      "Submitting chunk 565 (50000 positions) for asynchronous saving...\n",
      "  Chunk 565 submitted. Main thread continues.\n",
      "  Total processed (optimistic): 28,300,000 positions\n",
      "  Progress: Line 33,056,743\n"
     ]
    },
    {
     "name": "stderr",
     "output_type": "stream",
     "text": [
      "Processing positions: 33100211lines [9:05:25, 1207.83lines/s]"
     ]
    },
    {
     "name": "stdout",
     "output_type": "stream",
     "text": [
      "Progress checkpoint: Line 33,100,000, Found 28,336,922 valid positions this session.\n"
     ]
    },
    {
     "name": "stderr",
     "output_type": "stream",
     "text": [
      "Processing positions: 33115322lines [9:05:38, 842.66lines/s] "
     ]
    },
    {
     "name": "stdout",
     "output_type": "stream",
     "text": [
      "\n",
      "✓ Previous chunk 565 saved. Ledger updated.\n",
      "\n",
      "Submitting chunk 566 (50000 positions) for asynchronous saving...\n",
      "  Chunk 566 submitted. Main thread continues.\n",
      "  Total processed (optimistic): 28,350,000 positions\n",
      "  Progress: Line 33,115,260\n"
     ]
    },
    {
     "name": "stderr",
     "output_type": "stream",
     "text": [
      "Processing positions: 33173006lines [9:06:32, 1226.25lines/s]"
     ]
    },
    {
     "name": "stdout",
     "output_type": "stream",
     "text": [
      "\n",
      "✓ Previous chunk 566 saved. Ledger updated.\n",
      "\n",
      "Submitting chunk 567 (50000 positions) for asynchronous saving...\n",
      "  Chunk 567 submitted. Main thread continues.\n",
      "  Total processed (optimistic): 28,400,000 positions\n",
      "  Progress: Line 33,173,019\n"
     ]
    },
    {
     "name": "stderr",
     "output_type": "stream",
     "text": [
      "Processing positions: 33200177lines [9:06:59, 1301.06lines/s]"
     ]
    },
    {
     "name": "stdout",
     "output_type": "stream",
     "text": [
      "Progress checkpoint: Line 33,200,000, Found 28,423,248 valid positions this session.\n"
     ]
    },
    {
     "name": "stderr",
     "output_type": "stream",
     "text": [
      "Processing positions: 33231635lines [9:07:25, 765.51lines/s] "
     ]
    },
    {
     "name": "stdout",
     "output_type": "stream",
     "text": [
      "\n",
      "✓ Previous chunk 567 saved. Ledger updated.\n",
      "\n",
      "Submitting chunk 568 (50000 positions) for asynchronous saving...\n",
      "  Chunk 568 submitted. Main thread continues.\n",
      "  Total processed (optimistic): 28,450,000 positions\n",
      "  Progress: Line 33,231,571\n"
     ]
    },
    {
     "name": "stderr",
     "output_type": "stream",
     "text": [
      "Processing positions: 33290557lines [9:08:19, 1106.91lines/s]"
     ]
    },
    {
     "name": "stdout",
     "output_type": "stream",
     "text": [
      "\n",
      "✓ Previous chunk 568 saved. Ledger updated.\n",
      "\n",
      "Submitting chunk 569 (50000 positions) for asynchronous saving...\n",
      "  Chunk 569 submitted. Main thread continues.\n",
      "  Total processed (optimistic): 28,500,000 positions\n",
      "  Progress: Line 33,290,560\n"
     ]
    },
    {
     "name": "stderr",
     "output_type": "stream",
     "text": [
      "Processing positions: 33300187lines [9:08:30, 1113.26lines/s]"
     ]
    },
    {
     "name": "stdout",
     "output_type": "stream",
     "text": [
      "Progress checkpoint: Line 33,300,000, Found 28,507,980 valid positions this session.\n"
     ]
    },
    {
     "name": "stderr",
     "output_type": "stream",
     "text": [
      "Processing positions: 33349605lines [9:09:14, 1184.93lines/s]"
     ]
    },
    {
     "name": "stdout",
     "output_type": "stream",
     "text": [
      "\n",
      "✓ Previous chunk 569 saved. Ledger updated.\n",
      "\n",
      "Submitting chunk 570 (50000 positions) for asynchronous saving...\n",
      "  Chunk 570 submitted. Main thread continues.\n",
      "  Total processed (optimistic): 28,550,000 positions\n",
      "  Progress: Line 33,349,645\n"
     ]
    },
    {
     "name": "stderr",
     "output_type": "stream",
     "text": [
      "Processing positions: 33400118lines [9:10:00, 1164.62lines/s]"
     ]
    },
    {
     "name": "stdout",
     "output_type": "stream",
     "text": [
      "Progress checkpoint: Line 33,400,000, Found 28,592,597 valid positions this session.\n"
     ]
    },
    {
     "name": "stderr",
     "output_type": "stream",
     "text": [
      "Processing positions: 33408700lines [9:10:08, 820.05lines/s] "
     ]
    },
    {
     "name": "stdout",
     "output_type": "stream",
     "text": [
      "\n",
      "✓ Previous chunk 570 saved. Ledger updated.\n",
      "\n",
      "Submitting chunk 571 (50000 positions) for asynchronous saving...\n",
      "  Chunk 571 submitted. Main thread continues.\n",
      "  Total processed (optimistic): 28,600,000 positions\n",
      "  Progress: Line 33,408,686\n"
     ]
    },
    {
     "name": "stderr",
     "output_type": "stream",
     "text": [
      "Processing positions: 33466479lines [9:11:01, 1233.64lines/s]"
     ]
    },
    {
     "name": "stdout",
     "output_type": "stream",
     "text": [
      "\n",
      "✓ Previous chunk 571 saved. Ledger updated.\n",
      "\n",
      "Submitting chunk 572 (50000 positions) for asynchronous saving...\n",
      "  Chunk 572 submitted. Main thread continues.\n",
      "  Total processed (optimistic): 28,650,000 positions\n",
      "  Progress: Line 33,466,499\n"
     ]
    },
    {
     "name": "stderr",
     "output_type": "stream",
     "text": [
      "Processing positions: 33500151lines [9:11:36, 1163.17lines/s]"
     ]
    },
    {
     "name": "stdout",
     "output_type": "stream",
     "text": [
      "Progress checkpoint: Line 33,500,000, Found 28,679,679 valid positions this session.\n"
     ]
    },
    {
     "name": "stderr",
     "output_type": "stream",
     "text": [
      "Processing positions: 33522506lines [9:11:55, 1131.13lines/s]"
     ]
    },
    {
     "name": "stdout",
     "output_type": "stream",
     "text": [
      "\n",
      "✓ Previous chunk 572 saved. Ledger updated.\n",
      "\n",
      "Submitting chunk 573 (50000 positions) for asynchronous saving...\n",
      "  Chunk 573 submitted. Main thread continues.\n",
      "  Total processed (optimistic): 28,700,000 positions\n",
      "  Progress: Line 33,522,519\n"
     ]
    },
    {
     "name": "stderr",
     "output_type": "stream",
     "text": [
      "Processing positions: 33579094lines [9:12:47, 991.15lines/s] "
     ]
    },
    {
     "name": "stdout",
     "output_type": "stream",
     "text": [
      "\n",
      "✓ Previous chunk 573 saved. Ledger updated.\n",
      "\n",
      "Submitting chunk 574 (50000 positions) for asynchronous saving...\n",
      "  Chunk 574 submitted. Main thread continues.\n",
      "  Total processed (optimistic): 28,750,000 positions\n",
      "  Progress: Line 33,579,089\n"
     ]
    },
    {
     "name": "stderr",
     "output_type": "stream",
     "text": [
      "Processing positions: 33600168lines [9:13:09, 964.69lines/s] "
     ]
    },
    {
     "name": "stdout",
     "output_type": "stream",
     "text": [
      "Progress checkpoint: Line 33,600,000, Found 28,768,324 valid positions this session.\n"
     ]
    },
    {
     "name": "stderr",
     "output_type": "stream",
     "text": [
      "Processing positions: 33636172lines [9:13:37, 1013.42lines/s]"
     ]
    },
    {
     "name": "stdout",
     "output_type": "stream",
     "text": [
      "\n",
      "✓ Previous chunk 574 saved. Ledger updated.\n",
      "\n",
      "Submitting chunk 575 (50000 positions) for asynchronous saving...\n",
      "  Chunk 575 submitted. Main thread continues.\n",
      "  Total processed (optimistic): 28,800,000 positions\n",
      "  Progress: Line 33,636,172\n"
     ]
    },
    {
     "name": "stderr",
     "output_type": "stream",
     "text": [
      "Processing positions: 33694603lines [9:14:29, 882.43lines/s] "
     ]
    },
    {
     "name": "stdout",
     "output_type": "stream",
     "text": [
      "\n",
      "✓ Previous chunk 575 saved. Ledger updated.\n",
      "\n",
      "Submitting chunk 576 (50000 positions) for asynchronous saving...\n",
      "  Chunk 576 submitted. Main thread continues.\n",
      "  Total processed (optimistic): 28,850,000 positions\n",
      "  Progress: Line 33,694,535\n"
     ]
    },
    {
     "name": "stderr",
     "output_type": "stream",
     "text": [
      "Processing positions: 33700148lines [9:14:36, 920.34lines/s] "
     ]
    },
    {
     "name": "stdout",
     "output_type": "stream",
     "text": [
      "Progress checkpoint: Line 33,700,000, Found 28,854,647 valid positions this session.\n"
     ]
    },
    {
     "name": "stderr",
     "output_type": "stream",
     "text": [
      "Processing positions: 33752650lines [9:15:23, 912.15lines/s] "
     ]
    },
    {
     "name": "stdout",
     "output_type": "stream",
     "text": [
      "\n",
      "✓ Previous chunk 576 saved. Ledger updated.\n",
      "\n",
      "Submitting chunk 577 (50000 positions) for asynchronous saving...\n",
      "  Chunk 577 submitted. Main thread continues.\n",
      "  Total processed (optimistic): 28,900,000 positions\n",
      "  Progress: Line 33,752,599\n"
     ]
    },
    {
     "name": "stderr",
     "output_type": "stream",
     "text": [
      "Processing positions: 33800190lines [9:16:09, 1187.02lines/s]"
     ]
    },
    {
     "name": "stdout",
     "output_type": "stream",
     "text": [
      "Progress checkpoint: Line 33,800,000, Found 28,941,272 valid positions this session.\n"
     ]
    },
    {
     "name": "stderr",
     "output_type": "stream",
     "text": [
      "Processing positions: 33810338lines [9:16:18, 1210.22lines/s]"
     ]
    },
    {
     "name": "stdout",
     "output_type": "stream",
     "text": [
      "\n",
      "✓ Previous chunk 577 saved. Ledger updated.\n",
      "\n",
      "Submitting chunk 578 (50000 positions) for asynchronous saving...\n",
      "  Chunk 578 submitted. Main thread continues.\n",
      "  Total processed (optimistic): 28,950,000 positions\n",
      "  Progress: Line 33,810,347\n"
     ]
    },
    {
     "name": "stderr",
     "output_type": "stream",
     "text": [
      "Processing positions: 33869740lines [9:17:11, 1291.22lines/s]"
     ]
    },
    {
     "name": "stdout",
     "output_type": "stream",
     "text": [
      "\n",
      "✓ Previous chunk 578 saved. Ledger updated.\n",
      "\n",
      "Submitting chunk 579 (50000 positions) for asynchronous saving...\n",
      "  Chunk 579 submitted. Main thread continues.\n",
      "  Total processed (optimistic): 29,000,000 positions\n",
      "  Progress: Line 33,869,772\n"
     ]
    },
    {
     "name": "stderr",
     "output_type": "stream",
     "text": [
      "Processing positions: 33900198lines [9:17:42, 1127.89lines/s]"
     ]
    },
    {
     "name": "stdout",
     "output_type": "stream",
     "text": [
      "Progress checkpoint: Line 33,900,000, Found 29,025,582 valid positions this session.\n"
     ]
    },
    {
     "name": "stderr",
     "output_type": "stream",
     "text": [
      "Processing positions: 33928518lines [9:18:06, 1108.98lines/s]"
     ]
    },
    {
     "name": "stdout",
     "output_type": "stream",
     "text": [
      "\n",
      "✓ Previous chunk 579 saved. Ledger updated.\n",
      "\n",
      "Submitting chunk 580 (50000 positions) for asynchronous saving...\n",
      "  Chunk 580 submitted. Main thread continues.\n",
      "  Total processed (optimistic): 29,050,000 positions\n",
      "  Progress: Line 33,928,542\n"
     ]
    },
    {
     "name": "stderr",
     "output_type": "stream",
     "text": [
      "Processing positions: 33987391lines [9:19:00, 887.58lines/s] "
     ]
    },
    {
     "name": "stdout",
     "output_type": "stream",
     "text": [
      "\n",
      "✓ Previous chunk 580 saved. Ledger updated.\n",
      "\n",
      "Submitting chunk 581 (50000 positions) for asynchronous saving...\n",
      "  Chunk 581 submitted. Main thread continues.\n",
      "  Total processed (optimistic): 29,100,000 positions\n",
      "  Progress: Line 33,987,359\n"
     ]
    },
    {
     "name": "stderr",
     "output_type": "stream",
     "text": [
      "Processing positions: 34000108lines [9:19:14, 879.27lines/s] "
     ]
    },
    {
     "name": "stdout",
     "output_type": "stream",
     "text": [
      "Progress checkpoint: Line 34,000,000, Found 29,110,520 valid positions this session.\n"
     ]
    },
    {
     "name": "stderr",
     "output_type": "stream",
     "text": [
      "Processing positions: 34045801lines [9:19:54, 1166.05lines/s]"
     ]
    },
    {
     "name": "stdout",
     "output_type": "stream",
     "text": [
      "\n",
      "✓ Previous chunk 581 saved. Ledger updated.\n",
      "\n",
      "Submitting chunk 582 (50000 positions) for asynchronous saving...\n",
      "  Chunk 582 submitted. Main thread continues.\n",
      "  Total processed (optimistic): 29,150,000 positions\n",
      "  Progress: Line 34,045,824\n"
     ]
    },
    {
     "name": "stderr",
     "output_type": "stream",
     "text": [
      "Processing positions: 34100123lines [9:20:43, 1151.96lines/s]"
     ]
    },
    {
     "name": "stdout",
     "output_type": "stream",
     "text": [
      "Progress checkpoint: Line 34,100,000, Found 29,196,285 valid positions this session.\n"
     ]
    },
    {
     "name": "stderr",
     "output_type": "stream",
     "text": [
      "Processing positions: 34104399lines [9:20:47, 793.84lines/s] "
     ]
    },
    {
     "name": "stdout",
     "output_type": "stream",
     "text": [
      "\n",
      "✓ Previous chunk 582 saved. Ledger updated.\n",
      "\n",
      "Submitting chunk 583 (50000 positions) for asynchronous saving...\n",
      "  Chunk 583 submitted. Main thread continues.\n",
      "  Total processed (optimistic): 29,200,000 positions\n",
      "  Progress: Line 34,104,336\n"
     ]
    },
    {
     "name": "stderr",
     "output_type": "stream",
     "text": [
      "Processing positions: 34163298lines [9:21:39, 1187.18lines/s]"
     ]
    },
    {
     "name": "stdout",
     "output_type": "stream",
     "text": [
      "\n",
      "✓ Previous chunk 583 saved. Ledger updated.\n",
      "\n",
      "Submitting chunk 584 (50000 positions) for asynchronous saving...\n",
      "  Chunk 584 submitted. Main thread continues.\n",
      "  Total processed (optimistic): 29,250,000 positions\n",
      "  Progress: Line 34,163,309\n"
     ]
    },
    {
     "name": "stderr",
     "output_type": "stream",
     "text": [
      "Processing positions: 34200196lines [9:22:16, 1091.95lines/s]"
     ]
    },
    {
     "name": "stdout",
     "output_type": "stream",
     "text": [
      "Progress checkpoint: Line 34,200,000, Found 29,282,020 valid positions this session.\n"
     ]
    },
    {
     "name": "stderr",
     "output_type": "stream",
     "text": [
      "Processing positions: 34221500lines [9:22:33, 1208.89lines/s]"
     ]
    },
    {
     "name": "stdout",
     "output_type": "stream",
     "text": [
      "\n",
      "✓ Previous chunk 584 saved. Ledger updated.\n",
      "\n",
      "Submitting chunk 585 (50000 positions) for asynchronous saving...\n",
      "  Chunk 585 submitted. Main thread continues.\n",
      "  Total processed (optimistic): 29,300,000 positions\n",
      "  Progress: Line 34,221,555\n"
     ]
    },
    {
     "name": "stderr",
     "output_type": "stream",
     "text": [
      "Processing positions: 34278829lines [9:23:29, 1219.28lines/s]"
     ]
    },
    {
     "name": "stdout",
     "output_type": "stream",
     "text": [
      "\n",
      "✓ Previous chunk 585 saved. Ledger updated.\n",
      "\n",
      "Submitting chunk 586 (50000 positions) for asynchronous saving...\n",
      "  Chunk 586 submitted. Main thread continues.\n",
      "  Total processed (optimistic): 29,350,000 positions\n",
      "  Progress: Line 34,278,858\n"
     ]
    },
    {
     "name": "stderr",
     "output_type": "stream",
     "text": [
      "Processing positions: 34300114lines [9:23:52, 1065.16lines/s]"
     ]
    },
    {
     "name": "stdout",
     "output_type": "stream",
     "text": [
      "Progress checkpoint: Line 34,300,000, Found 29,367,705 valid positions this session.\n"
     ]
    },
    {
     "name": "stderr",
     "output_type": "stream",
     "text": [
      "Processing positions: 34337516lines [9:24:23, 891.56lines/s] "
     ]
    },
    {
     "name": "stdout",
     "output_type": "stream",
     "text": [
      "\n",
      "✓ Previous chunk 586 saved. Ledger updated.\n",
      "\n",
      "Submitting chunk 587 (50000 positions) for asynchronous saving...\n",
      "  Chunk 587 submitted. Main thread continues.\n",
      "  Total processed (optimistic): 29,400,000 positions\n",
      "  Progress: Line 34,337,489\n"
     ]
    },
    {
     "name": "stderr",
     "output_type": "stream",
     "text": [
      "Processing positions: 34395794lines [9:25:18, 1316.94lines/s]"
     ]
    },
    {
     "name": "stdout",
     "output_type": "stream",
     "text": [
      "\n",
      "✓ Previous chunk 587 saved. Ledger updated.\n",
      "\n",
      "Submitting chunk 588 (50000 positions) for asynchronous saving...\n",
      "  Chunk 588 submitted. Main thread continues.\n",
      "  Total processed (optimistic): 29,450,000 positions\n",
      "  Progress: Line 34,395,800\n"
     ]
    },
    {
     "name": "stderr",
     "output_type": "stream",
     "text": [
      "Processing positions: 34400085lines [9:25:23, 985.98lines/s] "
     ]
    },
    {
     "name": "stdout",
     "output_type": "stream",
     "text": [
      "Progress checkpoint: Line 34,400,000, Found 29,453,319 valid positions this session.\n"
     ]
    },
    {
     "name": "stderr",
     "output_type": "stream",
     "text": [
      "Processing positions: 34455204lines [9:26:11, 843.97lines/s] "
     ]
    },
    {
     "name": "stdout",
     "output_type": "stream",
     "text": [
      "\n",
      "✓ Previous chunk 588 saved. Ledger updated.\n",
      "\n",
      "Submitting chunk 589 (50000 positions) for asynchronous saving...\n",
      "  Chunk 589 submitted. Main thread continues.\n",
      "  Total processed (optimistic): 29,500,000 positions\n",
      "  Progress: Line 34,455,170\n"
     ]
    },
    {
     "name": "stderr",
     "output_type": "stream",
     "text": [
      "Processing positions: 34500207lines [9:26:54, 1215.35lines/s]"
     ]
    },
    {
     "name": "stdout",
     "output_type": "stream",
     "text": [
      "Progress checkpoint: Line 34,500,000, Found 29,538,582 valid positions this session.\n"
     ]
    },
    {
     "name": "stderr",
     "output_type": "stream",
     "text": [
      "Processing positions: 34513487lines [9:27:05, 1187.44lines/s]"
     ]
    },
    {
     "name": "stdout",
     "output_type": "stream",
     "text": [
      "\n",
      "✓ Previous chunk 589 saved. Ledger updated.\n",
      "\n",
      "Submitting chunk 590 (50000 positions) for asynchronous saving...\n",
      "  Chunk 590 submitted. Main thread continues.\n",
      "  Total processed (optimistic): 29,550,000 positions\n",
      "  Progress: Line 34,513,512\n"
     ]
    },
    {
     "name": "stderr",
     "output_type": "stream",
     "text": [
      "Processing positions: 34572487lines [9:27:59, 880.00lines/s] "
     ]
    },
    {
     "name": "stdout",
     "output_type": "stream",
     "text": [
      "\n",
      "✓ Previous chunk 590 saved. Ledger updated.\n",
      "\n",
      "Submitting chunk 591 (50000 positions) for asynchronous saving...\n",
      "  Chunk 591 submitted. Main thread continues.\n",
      "  Total processed (optimistic): 29,600,000 positions\n",
      "  Progress: Line 34,572,477\n"
     ]
    },
    {
     "name": "stderr",
     "output_type": "stream",
     "text": [
      "Processing positions: 34600265lines [9:28:26, 1282.53lines/s]"
     ]
    },
    {
     "name": "stdout",
     "output_type": "stream",
     "text": [
      "Progress checkpoint: Line 34,600,000, Found 29,623,323 valid positions this session.\n"
     ]
    },
    {
     "name": "stderr",
     "output_type": "stream",
     "text": [
      "Processing positions: 34630248lines [9:28:52, 1119.86lines/s]"
     ]
    },
    {
     "name": "stdout",
     "output_type": "stream",
     "text": [
      "\n",
      "✓ Previous chunk 591 saved. Ledger updated.\n",
      "\n",
      "Submitting chunk 592 (50000 positions) for asynchronous saving...\n",
      "  Chunk 592 submitted. Main thread continues.\n",
      "  Total processed (optimistic): 29,650,000 positions\n",
      "  Progress: Line 34,630,271\n"
     ]
    },
    {
     "name": "stderr",
     "output_type": "stream",
     "text": [
      "Processing positions: 34687433lines [9:29:47, 874.48lines/s] "
     ]
    },
    {
     "name": "stdout",
     "output_type": "stream",
     "text": [
      "\n",
      "✓ Previous chunk 592 saved. Ledger updated.\n",
      "\n",
      "Submitting chunk 593 (50000 positions) for asynchronous saving...\n",
      "  Chunk 593 submitted. Main thread continues.\n",
      "  Total processed (optimistic): 29,700,000 positions\n",
      "  Progress: Line 34,687,397\n"
     ]
    },
    {
     "name": "stderr",
     "output_type": "stream",
     "text": [
      "Processing positions: 34700128lines [9:30:01, 987.76lines/s] "
     ]
    },
    {
     "name": "stdout",
     "output_type": "stream",
     "text": [
      "Progress checkpoint: Line 34,700,000, Found 29,711,060 valid positions this session.\n"
     ]
    },
    {
     "name": "stderr",
     "output_type": "stream",
     "text": [
      "Processing positions: 34744351lines [9:30:39, 1255.13lines/s]"
     ]
    },
    {
     "name": "stdout",
     "output_type": "stream",
     "text": [
      "\n",
      "✓ Previous chunk 593 saved. Ledger updated.\n",
      "\n",
      "Submitting chunk 594 (50000 positions) for asynchronous saving...\n",
      "  Chunk 594 submitted. Main thread continues.\n",
      "  Total processed (optimistic): 29,750,000 positions\n",
      "  Progress: Line 34,744,401\n"
     ]
    },
    {
     "name": "stderr",
     "output_type": "stream",
     "text": [
      "Processing positions: 34800168lines [9:31:29, 1142.86lines/s]"
     ]
    },
    {
     "name": "stdout",
     "output_type": "stream",
     "text": [
      "Progress checkpoint: Line 34,800,000, Found 29,799,380 valid positions this session.\n"
     ]
    },
    {
     "name": "stderr",
     "output_type": "stream",
     "text": [
      "Processing positions: 34800697lines [9:31:30, 1298.79lines/s]"
     ]
    },
    {
     "name": "stdout",
     "output_type": "stream",
     "text": [
      "\n",
      "✓ Previous chunk 594 saved. Ledger updated.\n",
      "\n",
      "Submitting chunk 595 (50000 positions) for asynchronous saving...\n",
      "  Chunk 595 submitted. Main thread continues.\n",
      "  Total processed (optimistic): 29,800,000 positions\n",
      "  Progress: Line 34,800,711\n"
     ]
    },
    {
     "name": "stderr",
     "output_type": "stream",
     "text": [
      "Processing positions: 34860085lines [9:32:22, 798.18lines/s] "
     ]
    },
    {
     "name": "stdout",
     "output_type": "stream",
     "text": [
      "\n",
      "✓ Previous chunk 595 saved. Ledger updated.\n",
      "\n",
      "Submitting chunk 596 (50000 positions) for asynchronous saving...\n",
      "  Chunk 596 submitted. Main thread continues.\n",
      "  Total processed (optimistic): 29,850,000 positions\n",
      "  Progress: Line 34,860,035\n"
     ]
    },
    {
     "name": "stderr",
     "output_type": "stream",
     "text": [
      "Processing positions: 34900200lines [9:33:01, 1196.16lines/s]"
     ]
    },
    {
     "name": "stdout",
     "output_type": "stream",
     "text": [
      "Progress checkpoint: Line 34,900,000, Found 29,884,469 valid positions this session.\n"
     ]
    },
    {
     "name": "stderr",
     "output_type": "stream",
     "text": [
      "Processing positions: 34918084lines [9:33:16, 877.90lines/s] "
     ]
    },
    {
     "name": "stdout",
     "output_type": "stream",
     "text": [
      "\n",
      "✓ Previous chunk 596 saved. Ledger updated.\n",
      "\n",
      "Submitting chunk 597 (50000 positions) for asynchronous saving...\n",
      "  Chunk 597 submitted. Main thread continues.\n",
      "  Total processed (optimistic): 29,900,000 positions\n",
      "  Progress: Line 34,918,074\n"
     ]
    },
    {
     "name": "stderr",
     "output_type": "stream",
     "text": [
      "Processing positions: 34977265lines [9:34:10, 821.74lines/s] "
     ]
    },
    {
     "name": "stdout",
     "output_type": "stream",
     "text": [
      "\n",
      "✓ Previous chunk 597 saved. Ledger updated.\n",
      "\n",
      "Submitting chunk 598 (50000 positions) for asynchronous saving...\n",
      "  Chunk 598 submitted. Main thread continues.\n",
      "  Total processed (optimistic): 29,950,000 positions\n",
      "  Progress: Line 34,977,198\n"
     ]
    },
    {
     "name": "stderr",
     "output_type": "stream",
     "text": [
      "Processing positions: 35000186lines [9:34:35, 1087.60lines/s]"
     ]
    },
    {
     "name": "stdout",
     "output_type": "stream",
     "text": [
      "Progress checkpoint: Line 35,000,000, Found 29,969,109 valid positions this session.\n"
     ]
    },
    {
     "name": "stderr",
     "output_type": "stream",
     "text": [
      "Processing positions: 35035999lines [9:35:04, 1227.34lines/s]"
     ]
    },
    {
     "name": "stdout",
     "output_type": "stream",
     "text": [
      "\n",
      "✓ Previous chunk 598 saved. Ledger updated.\n",
      "\n",
      "Submitting chunk 599 (50000 positions) for asynchronous saving...\n",
      "  Chunk 599 submitted. Main thread continues.\n",
      "  Total processed (optimistic): 30,000,000 positions\n",
      "  Progress: Line 35,036,031\n"
     ]
    },
    {
     "name": "stderr",
     "output_type": "stream",
     "text": [
      "Processing positions: 35094536lines [9:36:00, 808.42lines/s] "
     ]
    },
    {
     "name": "stdout",
     "output_type": "stream",
     "text": [
      "\n",
      "✓ Previous chunk 599 saved. Ledger updated.\n",
      "\n",
      "Submitting chunk 600 (50000 positions) for asynchronous saving...\n",
      "  Chunk 600 submitted. Main thread continues.\n",
      "  Total processed (optimistic): 30,050,000 positions\n",
      "  Progress: Line 35,094,509\n"
     ]
    },
    {
     "name": "stderr",
     "output_type": "stream",
     "text": [
      "Processing positions: 35100108lines [9:36:07, 1040.67lines/s]"
     ]
    },
    {
     "name": "stdout",
     "output_type": "stream",
     "text": [
      "Progress checkpoint: Line 35,100,000, Found 30,054,748 valid positions this session.\n"
     ]
    },
    {
     "name": "stderr",
     "output_type": "stream",
     "text": [
      "Processing positions: 35152918lines [9:36:54, 803.64lines/s] "
     ]
    },
    {
     "name": "stdout",
     "output_type": "stream",
     "text": [
      "\n",
      "✓ Previous chunk 600 saved. Ledger updated.\n",
      "\n",
      "Submitting chunk 601 (50000 positions) for asynchronous saving...\n",
      "  Chunk 601 submitted. Main thread continues.\n",
      "  Total processed (optimistic): 30,100,000 positions\n",
      "  Progress: Line 35,152,856\n"
     ]
    },
    {
     "name": "stderr",
     "output_type": "stream",
     "text": [
      "Processing positions: 35200191lines [9:37:39, 1293.83lines/s]"
     ]
    },
    {
     "name": "stdout",
     "output_type": "stream",
     "text": [
      "Progress checkpoint: Line 35,200,000, Found 30,140,855 valid positions this session.\n"
     ]
    },
    {
     "name": "stderr",
     "output_type": "stream",
     "text": [
      "Processing positions: 35210718lines [9:37:48, 1170.97lines/s]"
     ]
    },
    {
     "name": "stdout",
     "output_type": "stream",
     "text": [
      "\n",
      "✓ Previous chunk 601 saved. Ledger updated.\n",
      "\n",
      "Submitting chunk 602 (50000 positions) for asynchronous saving...\n",
      "  Chunk 602 submitted. Main thread continues.\n",
      "  Total processed (optimistic): 30,150,000 positions\n",
      "  Progress: Line 35,210,753\n"
     ]
    },
    {
     "name": "stderr",
     "output_type": "stream",
     "text": [
      "Processing positions: 35268659lines [9:38:41, 833.22lines/s] "
     ]
    },
    {
     "name": "stdout",
     "output_type": "stream",
     "text": [
      "\n",
      "✓ Previous chunk 602 saved. Ledger updated.\n",
      "\n",
      "Submitting chunk 603 (50000 positions) for asynchronous saving...\n",
      "  Chunk 603 submitted. Main thread continues.\n",
      "  Total processed (optimistic): 30,200,000 positions\n",
      "  Progress: Line 35,268,618\n"
     ]
    },
    {
     "name": "stderr",
     "output_type": "stream",
     "text": [
      "Processing positions: 35300149lines [9:39:13, 1119.17lines/s]"
     ]
    },
    {
     "name": "stdout",
     "output_type": "stream",
     "text": [
      "Progress checkpoint: Line 35,300,000, Found 30,227,536 valid positions this session.\n"
     ]
    },
    {
     "name": "stderr",
     "output_type": "stream",
     "text": [
      "Processing positions: 35326160lines [9:39:35, 821.80lines/s] "
     ]
    },
    {
     "name": "stdout",
     "output_type": "stream",
     "text": [
      "\n",
      "✓ Previous chunk 603 saved. Ledger updated.\n",
      "\n",
      "Submitting chunk 604 (50000 positions) for asynchronous saving...\n",
      "  Chunk 604 submitted. Main thread continues.\n",
      "  Total processed (optimistic): 30,250,000 positions\n",
      "  Progress: Line 35,326,102\n"
     ]
    },
    {
     "name": "stderr",
     "output_type": "stream",
     "text": [
      "Processing positions: 35384015lines [9:40:27, 981.71lines/s] "
     ]
    },
    {
     "name": "stdout",
     "output_type": "stream",
     "text": [
      "\n",
      "✓ Previous chunk 604 saved. Ledger updated.\n",
      "\n",
      "Submitting chunk 605 (50000 positions) for asynchronous saving...\n",
      "  Chunk 605 submitted. Main thread continues.\n",
      "  Total processed (optimistic): 30,300,000 positions\n",
      "  Progress: Line 35,384,014\n"
     ]
    },
    {
     "name": "stderr",
     "output_type": "stream",
     "text": [
      "Processing positions: 35400131lines [9:40:44, 969.37lines/s] "
     ]
    },
    {
     "name": "stdout",
     "output_type": "stream",
     "text": [
      "Progress checkpoint: Line 35,400,000, Found 30,313,502 valid positions this session.\n"
     ]
    },
    {
     "name": "stderr",
     "output_type": "stream",
     "text": [
      "Processing positions: 35443137lines [9:41:20, 1112.11lines/s]"
     ]
    },
    {
     "name": "stdout",
     "output_type": "stream",
     "text": [
      "\n",
      "✓ Previous chunk 605 saved. Ledger updated.\n",
      "\n",
      "Submitting chunk 606 (50000 positions) for asynchronous saving...\n",
      "  Chunk 606 submitted. Main thread continues.\n",
      "  Total processed (optimistic): 30,350,000 positions\n",
      "  Progress: Line 35,443,175\n"
     ]
    },
    {
     "name": "stderr",
     "output_type": "stream",
     "text": [
      "Processing positions: 35500160lines [9:42:14, 1145.44lines/s]"
     ]
    },
    {
     "name": "stdout",
     "output_type": "stream",
     "text": [
      "Progress checkpoint: Line 35,500,000, Found 30,398,843 valid positions this session.\n"
     ]
    },
    {
     "name": "stderr",
     "output_type": "stream",
     "text": [
      "Processing positions: 35501422lines [9:42:15, 931.14lines/s] "
     ]
    },
    {
     "name": "stdout",
     "output_type": "stream",
     "text": [
      "\n",
      "✓ Previous chunk 606 saved. Ledger updated.\n",
      "\n",
      "Submitting chunk 607 (50000 positions) for asynchronous saving...\n",
      "  Chunk 607 submitted. Main thread continues.\n",
      "  Total processed (optimistic): 30,400,000 positions\n",
      "  Progress: Line 35,501,408\n"
     ]
    },
    {
     "name": "stderr",
     "output_type": "stream",
     "text": [
      "Processing positions: 35559617lines [9:43:10, 1402.57lines/s]"
     ]
    },
    {
     "name": "stdout",
     "output_type": "stream",
     "text": [
      "\n",
      "✓ Previous chunk 607 saved. Ledger updated.\n",
      "\n",
      "Submitting chunk 608 (50000 positions) for asynchronous saving...\n",
      "  Chunk 608 submitted. Main thread continues.\n",
      "  Total processed (optimistic): 30,450,000 positions\n",
      "  Progress: Line 35,559,622\n"
     ]
    },
    {
     "name": "stderr",
     "output_type": "stream",
     "text": [
      "Processing positions: 35600101lines [9:43:48, 1239.73lines/s]"
     ]
    },
    {
     "name": "stdout",
     "output_type": "stream",
     "text": [
      "Progress checkpoint: Line 35,600,000, Found 30,484,120 valid positions this session.\n"
     ]
    },
    {
     "name": "stderr",
     "output_type": "stream",
     "text": [
      "Processing positions: 35618853lines [9:44:04, 849.57lines/s] "
     ]
    },
    {
     "name": "stdout",
     "output_type": "stream",
     "text": [
      "\n",
      "✓ Previous chunk 608 saved. Ledger updated.\n",
      "\n",
      "Submitting chunk 609 (50000 positions) for asynchronous saving...\n",
      "  Chunk 609 submitted. Main thread continues.\n",
      "  Total processed (optimistic): 30,500,000 positions\n",
      "  Progress: Line 35,618,835\n"
     ]
    },
    {
     "name": "stderr",
     "output_type": "stream",
     "text": [
      "Processing positions: 35678670lines [9:44:58, 803.26lines/s] "
     ]
    },
    {
     "name": "stdout",
     "output_type": "stream",
     "text": [
      "\n",
      "✓ Previous chunk 609 saved. Ledger updated.\n",
      "\n",
      "Submitting chunk 610 (50000 positions) for asynchronous saving...\n",
      "  Chunk 610 submitted. Main thread continues.\n",
      "  Total processed (optimistic): 30,550,000 positions\n",
      "  Progress: Line 35,678,649\n"
     ]
    },
    {
     "name": "stderr",
     "output_type": "stream",
     "text": [
      "Processing positions: 35700133lines [9:45:21, 863.32lines/s] "
     ]
    },
    {
     "name": "stdout",
     "output_type": "stream",
     "text": [
      "Progress checkpoint: Line 35,700,000, Found 30,568,235 valid positions this session.\n"
     ]
    },
    {
     "name": "stderr",
     "output_type": "stream",
     "text": [
      "Processing positions: 35737863lines [9:45:52, 1103.26lines/s]"
     ]
    },
    {
     "name": "stdout",
     "output_type": "stream",
     "text": [
      "\n",
      "✓ Previous chunk 610 saved. Ledger updated.\n",
      "\n",
      "Submitting chunk 611 (50000 positions) for asynchronous saving...\n",
      "  Chunk 611 submitted. Main thread continues.\n",
      "  Total processed (optimistic): 30,600,000 positions\n",
      "  Progress: Line 35,737,899\n"
     ]
    },
    {
     "name": "stderr",
     "output_type": "stream",
     "text": [
      "Processing positions: 35796127lines [9:46:46, 816.86lines/s] "
     ]
    },
    {
     "name": "stdout",
     "output_type": "stream",
     "text": [
      "\n",
      "✓ Previous chunk 611 saved. Ledger updated.\n",
      "\n",
      "Submitting chunk 612 (50000 positions) for asynchronous saving...\n",
      "  Chunk 612 submitted. Main thread continues.\n",
      "  Total processed (optimistic): 30,650,000 positions\n",
      "  Progress: Line 35,796,104\n"
     ]
    },
    {
     "name": "stderr",
     "output_type": "stream",
     "text": [
      "Processing positions: 35800165lines [9:46:51, 954.76lines/s] "
     ]
    },
    {
     "name": "stdout",
     "output_type": "stream",
     "text": [
      "Progress checkpoint: Line 35,800,000, Found 30,653,313 valid positions this session.\n"
     ]
    },
    {
     "name": "stderr",
     "output_type": "stream",
     "text": [
      "Processing positions: 35854397lines [9:47:40, 867.63lines/s] "
     ]
    },
    {
     "name": "stdout",
     "output_type": "stream",
     "text": [
      "\n",
      "✓ Previous chunk 612 saved. Ledger updated.\n",
      "\n",
      "Submitting chunk 613 (50000 positions) for asynchronous saving...\n",
      "  Chunk 613 submitted. Main thread continues.\n",
      "  Total processed (optimistic): 30,700,000 positions\n",
      "  Progress: Line 35,854,368\n"
     ]
    },
    {
     "name": "stderr",
     "output_type": "stream",
     "text": [
      "Processing positions: 35900151lines [9:48:25, 1119.53lines/s]"
     ]
    },
    {
     "name": "stdout",
     "output_type": "stream",
     "text": [
      "Progress checkpoint: Line 35,900,000, Found 30,739,499 valid positions this session.\n"
     ]
    },
    {
     "name": "stderr",
     "output_type": "stream",
     "text": [
      "Processing positions: 35912046lines [9:48:35, 1297.13lines/s]"
     ]
    },
    {
     "name": "stdout",
     "output_type": "stream",
     "text": [
      "\n",
      "✓ Previous chunk 613 saved. Ledger updated.\n",
      "\n",
      "Submitting chunk 614 (50000 positions) for asynchronous saving...\n",
      "  Chunk 614 submitted. Main thread continues.\n",
      "  Total processed (optimistic): 30,750,000 positions\n",
      "  Progress: Line 35,912,074\n"
     ]
    },
    {
     "name": "stderr",
     "output_type": "stream",
     "text": [
      "Processing positions: 35920708lines [9:48:42, 1016.93lines/s]\n"
     ]
    },
    {
     "name": "stdout",
     "output_type": "stream",
     "text": [
      "\n",
      "⚠ Processing interrupted by user\n",
      "Progress saved. Can resume from line 35920710\n",
      "Shutting down save executor...\n",
      "Save executor shut down.\n",
      "\n",
      "✓ Processing completed successfully!\n",
      "Run verify_chunk_files() to verify all files\n"
     ]
    }
   ],
   "source": [
    "start_processing()   "
   ]
  }
 ],
 "metadata": {
  "kernelspec": {
   "display_name": "notebook-env",
   "language": "python",
   "name": "python3"
  },
  "language_info": {
   "codemirror_mode": {
    "name": "ipython",
    "version": 3
   },
   "file_extension": ".py",
   "mimetype": "text/x-python",
   "name": "python",
   "nbconvert_exporter": "python",
   "pygments_lexer": "ipython3",
   "version": "3.11.13"
  }
 },
 "nbformat": 4,
 "nbformat_minor": 5
}
