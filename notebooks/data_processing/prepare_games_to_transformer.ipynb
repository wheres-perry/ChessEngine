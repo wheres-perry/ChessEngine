{
 "cells": [
  {
   "cell_type": "code",
   "execution_count": null,
   "id": "9417beee",
   "metadata": {},
   "outputs": [
    {
     "name": "stdout",
     "output_type": "stream",
     "text": [
      "Data source: ../../data/raw/lichess_eval/lichess_db_eval.jsonl\n",
      "Output directory: ../../data/preprocessed/lichess_preprocessed_chunks\n",
      "Using tensor planes: 28\n",
      "Chunk size: 50,000 positions per chunk\n",
      "Ledger file: ..\\..\\data\\preprocessed\\lichess_preprocessed_chunks\\processing_ledger.json\n"
     ]
    }
   ],
   "source": [
    "# type: ignore\n",
    "# Cell 1: Imports and Setup\n",
    "import chess\n",
    "import chess.pgn\n",
    "import numpy as np\n",
    "import pandas as pd\n",
    "import torch\n",
    "import torch.nn as nn\n",
    "from pathlib import Path\n",
    "import pyarrow as pa\n",
    "import pyarrow.parquet as pq\n",
    "from typing import List, Tuple\n",
    "import multiprocessing as mp\n",
    "from tqdm import tqdm\n",
    "import gc\n",
    "import h5py\n",
    "from concurrent.futures import ProcessPoolExecutor, ThreadPoolExecutor  # Add ThreadPoolExecutor\n",
    "import pickle\n",
    "import sys\n",
    "import os\n",
    "import json\n",
    "from datetime import datetime\n",
    "\n",
    "\n",
    "from to_tensor import create_tensor, NUM_PLANES\n",
    "\n",
    "# Configuration\n",
    "CHUNK_SIZE = 50_000  # Games per chunk (324 chunks for 162M games)\n",
    "MAX_CP = 1000\n",
    "EMBEDDING_DIM = 256\n",
    "NUM_CORES = 12  # Your CPU cores\n",
    "FILE_PATH = \"../../data/raw/lichess_eval/lichess_db_eval.jsonl\"\n",
    "OUTPUT_DIR = \"../../data/preprocessed/lichess_preprocessed_chunks\"\n",
    "NUM_CORES = 12\n",
    "DEVICE = 'cuda' if torch.cuda.is_available() else 'cpu'\n",
    "\n",
    "\n",
    "LEDGER_FILE = Path(\"../../data/preprocessed/lichess_preprocessed_chunks/processing_ledger.json\")\n",
    "\n",
    "# Initialize the ThreadPoolExecutor for asynchronous file saving\n",
    "save_executor = ThreadPoolExecutor(max_workers=1)  # Add this line!\n",
    "\n",
    "print(f\"Data source: {FILE_PATH}\")\n",
    "print(f\"Output directory: {OUTPUT_DIR}\")\n",
    "print(f\"Using tensor planes: {NUM_PLANES}\")\n",
    "print(f\"Chunk size: {CHUNK_SIZE:,} positions per chunk\")\n",
    "print(f\"Ledger file: {LEDGER_FILE}\")"
   ]
  },
  {
   "cell_type": "code",
   "execution_count": 2,
   "id": "6c2ce076",
   "metadata": {},
   "outputs": [
    {
     "name": "stdout",
     "output_type": "stream",
     "text": [
      "✓ Input file found: ../../data/raw/lichess_eval/lichess_db_eval.jsonl\n",
      "File size: 61.14 GB\n",
      "✓ Loaded existing ledger: 614 chunks already processed\n",
      "Resume from line: 35920709\n",
      "Total processed so far: 30,750,000 positions\n"
     ]
    }
   ],
   "source": [
    "if not os.path.exists(FILE_PATH):\n",
    "    raise FileNotFoundError(f\"Input file not found: {FILE_PATH}\")\n",
    "\n",
    "print(f\"✓ Input file found: {FILE_PATH}\")\n",
    "file_size_gb = os.path.getsize(FILE_PATH) / 1024 / 1024 / 1024\n",
    "print(f\"File size: {file_size_gb:.2f} GB\")\n",
    "\n",
    "# Initialize or load existing ledger\n",
    "def load_ledger():\n",
    "    \"\"\"Load existing processing ledger or create new one\"\"\"\n",
    "    if LEDGER_FILE.exists():\n",
    "        with open(LEDGER_FILE, 'r') as f:\n",
    "            ledger = json.load(f)\n",
    "        print(f\"✓ Loaded existing ledger: {len(ledger['completed_chunks'])} chunks already processed\")\n",
    "        return ledger\n",
    "    else:\n",
    "        ledger = {\n",
    "            'source_file': FILE_PATH,\n",
    "            'file_size_bytes': os.path.getsize(FILE_PATH),\n",
    "            'chunk_size': CHUNK_SIZE,\n",
    "            'num_planes': NUM_PLANES,\n",
    "            'max_cp': MAX_CP,\n",
    "            'started_at': datetime.now().isoformat(),\n",
    "            'last_updated': datetime.now().isoformat(),\n",
    "            'completed_chunks': [],\n",
    "            'failed_chunks': [],\n",
    "            'total_positions_processed': 0,\n",
    "            'last_processed_line': 0,\n",
    "            'status': 'initialized'\n",
    "        }\n",
    "        print(\"✓ Created new processing ledger\")\n",
    "        return ledger\n",
    "\n",
    "def save_ledger(ledger):\n",
    "    \"\"\"Save ledger to disk\"\"\"\n",
    "    ledger['last_updated'] = datetime.now().isoformat()\n",
    "    with open(LEDGER_FILE, 'w') as f:\n",
    "        json.dump(ledger, f, indent=2)\n",
    "\n",
    "# Load ledger\n",
    "processing_ledger = load_ledger()\n",
    "print(f\"Resume from line: {processing_ledger['last_processed_line']}\")\n",
    "print(f\"Total processed so far: {processing_ledger['total_positions_processed']:,} positions\")\n"
   ]
  },
  {
   "cell_type": "code",
   "execution_count": null,
   "id": "767d653b",
   "metadata": {},
   "outputs": [
    {
     "name": "stdout",
     "output_type": "stream",
     "text": [
      "✓ Data processing functions ready\n"
     ]
    }
   ],
   "source": [
    "# type: ignore\n",
    "class ChessPositionProcessor:\n",
    "    def __init__(self):\n",
    "        pass\n",
    "        \n",
    "    def tensor_to_transformer_input(self, chess_tensor: torch.Tensor) -> np.ndarray:\n",
    "        \"\"\"Convert 28x8x8 chess tensor to transformer input format (64, 28)\"\"\"\n",
    "        if chess_tensor.is_cuda:\n",
    "            chess_tensor = chess_tensor.cpu()\n",
    "            \n",
    "        if isinstance(chess_tensor, torch.Tensor):\n",
    "            chess_tensor = chess_tensor.numpy()\n",
    "            \n",
    "        # Reshape from (28, 8, 8) to (28, 64)\n",
    "        tensor_flat = chess_tensor.reshape(NUM_PLANES, 64)\n",
    "        \n",
    "        # Transpose to get 64 tokens with 28 features each\n",
    "        square_tokens = tensor_flat.T  # (64, 28)\n",
    "        \n",
    "        return square_tokens.astype(np.float32)\n",
    "    \n",
    "    def create_position_data(self, square_tokens: np.ndarray, evaluation: float, metadata: dict) -> dict:\n",
    "        \"\"\"Create complete position data\"\"\"\n",
    "        return {\n",
    "            'square_tokens': square_tokens,\n",
    "            'evaluation': evaluation,\n",
    "            'raw_cp': metadata.get('raw_cp', 0),\n",
    "            'clipped_cp': metadata.get('clipped_cp', 0),\n",
    "            'fen': metadata.get('fen', ''),\n",
    "            'line_number': metadata.get('line_number', 0)\n",
    "        }\n",
    "\n",
    "def process_jsonl_line(line: str, line_number: int, processor: ChessPositionProcessor):\n",
    "    \"\"\"Process a single JSONL line and return position data or None\"\"\"\n",
    "    try:\n",
    "        obj = json.loads(line.strip())\n",
    "        fen = obj.get('fen')\n",
    "        cp = None\n",
    "\n",
    "        # Extract centipawn evaluation\n",
    "        if obj.get('evals') and len(obj['evals']) > 0:\n",
    "            if obj['evals'][0].get('pvs') and len(obj['evals'][0]['pvs']) > 0:\n",
    "                cp_value = obj['evals'][0]['pvs'][0].get('cp')\n",
    "                if cp_value is not None:\n",
    "                    cp = int(cp_value)\n",
    "\n",
    "        if fen is not None and cp is not None:\n",
    "            try:\n",
    "                board = chess.Board(fen)\n",
    "                \n",
    "                # Create tensor using your function\n",
    "                chess_tensor = create_tensor(board)\n",
    "                \n",
    "                # Convert to transformer input\n",
    "                transformer_input = processor.tensor_to_transformer_input(chess_tensor)\n",
    "                \n",
    "                # Clip and normalize evaluation\n",
    "                clipped_cp = max(min(cp, MAX_CP), -MAX_CP)\n",
    "                normalized_evaluation = clipped_cp / MAX_CP\n",
    "                \n",
    "                # Create metadata\n",
    "                metadata = {\n",
    "                    'raw_cp': cp,\n",
    "                    'clipped_cp': clipped_cp,\n",
    "                    'fen': fen,\n",
    "                    'line_number': line_number\n",
    "                }\n",
    "                \n",
    "                return processor.create_position_data(transformer_input, normalized_evaluation, metadata)\n",
    "                \n",
    "            except (ValueError, Exception):\n",
    "                return None\n",
    "    except (json.JSONDecodeError, Exception):\n",
    "        return None\n",
    "    \n",
    "    return None\n",
    "\n",
    "print(\"✓ Data processing functions ready\")\n"
   ]
  },
  {
   "cell_type": "code",
   "execution_count": 4,
   "id": "3a25b742",
   "metadata": {},
   "outputs": [
    {
     "name": "stdout",
     "output_type": "stream",
     "text": [
      "✓ Chunk saving functions ready\n"
     ]
    }
   ],
   "source": [
    "def save_chunk(positions_data: List[dict], chunk_id: int) -> dict:\n",
    "    \"\"\"Save a chunk of positions to disk\"\"\"\n",
    "    chunk_path = Path(OUTPUT_DIR) / f\"chunk_{chunk_id:04d}.h5\"\n",
    "    \n",
    "    with h5py.File(chunk_path, 'w') as f:\n",
    "        # Store square tokens\n",
    "        tokens_array = np.array([pos['square_tokens'] for pos in positions_data])\n",
    "        f.create_dataset('square_tokens', data=tokens_array, compression='gzip', compression_opts=9)\n",
    "        \n",
    "        # Store evaluations\n",
    "        evaluations = np.array([pos['evaluation'] for pos in positions_data], dtype=np.float32)\n",
    "        f.create_dataset('evaluations', data=evaluations, compression='gzip')\n",
    "        \n",
    "        # Store metadata\n",
    "        raw_cps = np.array([pos['raw_cp'] for pos in positions_data], dtype=np.int32)\n",
    "        clipped_cps = np.array([pos['clipped_cp'] for pos in positions_data], dtype=np.int32)\n",
    "        line_numbers = np.array([pos['line_number'] for pos in positions_data], dtype=np.int32)\n",
    "        \n",
    "        f.create_dataset('raw_cp', data=raw_cps)\n",
    "        f.create_dataset('clipped_cp', data=clipped_cps)\n",
    "        f.create_dataset('line_numbers', data=line_numbers)\n",
    "        \n",
    "        # Store FEN strings (variable length)\n",
    "        fens = [pos['fen'].encode('utf-8') for pos in positions_data]\n",
    "        dt = h5py.special_dtype(vlen=str)\n",
    "        f.create_dataset('fens', data=[pos['fen'] for pos in positions_data], dtype=dt)\n",
    "        \n",
    "        # Store chunk metadata\n",
    "        f.attrs['chunk_id'] = chunk_id\n",
    "        f.attrs['num_positions'] = len(positions_data)\n",
    "        f.attrs['num_planes'] = NUM_PLANES\n",
    "        f.attrs['max_cp'] = MAX_CP\n",
    "        f.attrs['source_file'] = os.path.basename(FILE_PATH)\n",
    "        f.attrs['created_at'] = datetime.now().isoformat()\n",
    "    \n",
    "    file_size_mb = chunk_path.stat().st_size / 1024 / 1024\n",
    "    \n",
    "    return {\n",
    "        'chunk_id': chunk_id,\n",
    "        'num_positions': len(positions_data),\n",
    "        'file_path': str(chunk_path),\n",
    "        'file_size_mb': file_size_mb,\n",
    "        'created_at': datetime.now().isoformat()\n",
    "    }\n",
    "\n",
    "def get_next_chunk_id(ledger):\n",
    "    \"\"\"Get the next chunk ID to process\"\"\"\n",
    "    if ledger['completed_chunks']:\n",
    "        return max(chunk['chunk_id'] for chunk in ledger['completed_chunks']) + 1\n",
    "    else:\n",
    "        return 0\n",
    "\n",
    "print(\"✓ Chunk saving functions ready\")\n"
   ]
  },
  {
   "cell_type": "code",
   "execution_count": null,
   "id": "62099dff",
   "metadata": {},
   "outputs": [
    {
     "name": "stdout",
     "output_type": "stream",
     "text": [
      "✓ Main processing function ready\n"
     ]
    }
   ],
   "source": [
    "# type: ignore\n",
    "def process_file_from_resume_point():\n",
    "    \"\"\"Process the file starting from the last processed line\"\"\"\n",
    "    \n",
    "    processor = ChessPositionProcessor()\n",
    "    current_chunk_data = []\n",
    "    current_line = 0\n",
    "    positions_processed_this_session = 0\n",
    "    start_line = processing_ledger['last_processed_line']\n",
    "    \n",
    "    active_save_future = None # To keep track of the save operation for the current/previous chunk\n",
    "\n",
    "    print(f\"Starting processing from line {start_line + 1}\")\n",
    "    print(f\"Target chunk size: {CHUNK_SIZE:,} positions\")\n",
    "    \n",
    "    try:\n",
    "        with open(FILE_PATH, 'r', encoding='utf-8') as file:\n",
    "            # Skip already processed lines\n",
    "            for _ in range(start_line):\n",
    "                next(file)\n",
    "                current_line += 1\n",
    "            \n",
    "            # Process remaining lines\n",
    "            for line in tqdm(file, desc=\"Processing positions\", unit=\"lines\", initial=start_line):\n",
    "                current_line += 1\n",
    "                \n",
    "                # Process this line\n",
    "                position_data = process_jsonl_line(line, current_line, processor)\n",
    "                \n",
    "                if position_data is not None:\n",
    "                    current_chunk_data.append(position_data)\n",
    "                    positions_processed_this_session += 1\n",
    "                    \n",
    "                    # Check if chunk is full\n",
    "                    if len(current_chunk_data) >= CHUNK_SIZE:\n",
    "                        # A chunk is ready. First, ensure the previous save (if any) is complete.\n",
    "                        if active_save_future:\n",
    "                            try:\n",
    "                                chunk_info = active_save_future.result() # Wait for previous save\n",
    "                                processing_ledger['completed_chunks'].append(chunk_info)\n",
    "                                # Ledger already reflects total_positions and last_line from submission time.\n",
    "                                # Here we just confirm completion.\n",
    "                                save_ledger(processing_ledger) # Persist the completed chunk info\n",
    "                                print(f\"\\n✓ Previous chunk {chunk_info['chunk_id']} saved. Ledger updated.\")\n",
    "                            except Exception as e:\n",
    "                                associated_chunk_id = getattr(active_save_future, 'associated_chunk_id', 'unknown')\n",
    "                                print(f\"\\n✗ Error saving previous chunk (ID: {associated_chunk_id}): {e}\")\n",
    "                                processing_ledger['failed_chunks'].append({\n",
    "                                    'chunk_id': associated_chunk_id, 'error': str(e), \n",
    "                                    'timestamp': datetime.now().isoformat(),\n",
    "                                    'last_processed_line_at_failure': processing_ledger['last_processed_line']\n",
    "                                })\n",
    "                                save_ledger(processing_ledger)\n",
    "                            finally:\n",
    "                                active_save_future = None\n",
    "                        \n",
    "                        # Prepare and submit the current chunk for saving\n",
    "                        chunk_id = get_next_chunk_id(processing_ledger)\n",
    "                        data_to_save = list(current_chunk_data) # Create a copy for the thread\n",
    "\n",
    "                        print(f\"\\nSubmitting chunk {chunk_id} ({len(data_to_save)} positions) for asynchronous saving...\")\n",
    "                        active_save_future = save_executor.submit(save_chunk, data_to_save, chunk_id)\n",
    "                        active_save_future.associated_chunk_id = chunk_id # Store for error reporting\n",
    "\n",
    "                        # Optimistically update ledger for submitted chunk\n",
    "                        processing_ledger['total_positions_processed'] += len(data_to_save)\n",
    "                        processing_ledger['last_processed_line'] = current_line\n",
    "                        processing_ledger['status'] = 'processing'\n",
    "                        save_ledger(processing_ledger) # Save progress including this submitted chunk\n",
    "                        \n",
    "                        print(f\"  Chunk {chunk_id} submitted. Main thread continues.\")\n",
    "                        print(f\"  Total processed (optimistic): {processing_ledger['total_positions_processed']:,} positions\")\n",
    "                        print(f\"  Progress: Line {current_line:,}\")\n",
    "                        \n",
    "                        # Reset for next chunk\n",
    "                        current_chunk_data = []\n",
    "                        gc.collect()\n",
    "                \n",
    "                # Save progress every 100k lines\n",
    "                if current_line % 100000 == 0 and current_line > start_line : # Avoid saving at the very start if resuming\n",
    "                    # Periodic save of overall progress (last_processed_line)\n",
    "                    # The main chunk saving logic already updates the ledger more frequently.\n",
    "                    # This specific periodic save might be redundant or can be adjusted.\n",
    "                    # For safety, ensure ledger reflects current line.\n",
    "                    processing_ledger['last_processed_line'] = current_line\n",
    "                    save_ledger(processing_ledger)\n",
    "                    print(f\"Progress checkpoint: Line {current_line:,}, Found {positions_processed_this_session:,} valid positions this session.\")\n",
    "        \n",
    "        # After the loop, handle the last (potentially partial) chunk\n",
    "        if current_chunk_data:\n",
    "            if active_save_future: # Wait for any pending save from a full chunk\n",
    "                try:\n",
    "                    chunk_info = active_save_future.result()\n",
    "                    processing_ledger['completed_chunks'].append(chunk_info)\n",
    "                    save_ledger(processing_ledger)\n",
    "                    print(f\"\\n✓ Previous chunk {chunk_info['chunk_id']} saved before final. Ledger updated.\")\n",
    "                except Exception as e:\n",
    "                    associated_chunk_id = getattr(active_save_future, 'associated_chunk_id', 'unknown')\n",
    "                    print(f\"\\n✗ Error saving previous chunk (ID: {associated_chunk_id}) before final: {e}\")\n",
    "                    processing_ledger['failed_chunks'].append({\n",
    "                        'chunk_id': associated_chunk_id, 'error': str(e),\n",
    "                        'timestamp': datetime.now().isoformat()\n",
    "                    })\n",
    "                    save_ledger(processing_ledger)\n",
    "                finally:\n",
    "                    active_save_future = None\n",
    "\n",
    "            chunk_id = get_next_chunk_id(processing_ledger)\n",
    "            data_to_save = list(current_chunk_data)\n",
    "            print(f\"\\nSubmitting final chunk {chunk_id} ({len(data_to_save)} positions) for asynchronous saving...\")\n",
    "            active_save_future = save_executor.submit(save_chunk, data_to_save, chunk_id)\n",
    "            active_save_future.associated_chunk_id = chunk_id\n",
    "\n",
    "            processing_ledger['total_positions_processed'] += len(data_to_save)\n",
    "            processing_ledger['last_processed_line'] = current_line\n",
    "            save_ledger(processing_ledger) # Save progress for the submission of the final chunk\n",
    "\n",
    "        # Wait for the very last submitted save operation to complete\n",
    "        if active_save_future:\n",
    "            try:\n",
    "                chunk_info = active_save_future.result()\n",
    "                processing_ledger['completed_chunks'].append(chunk_info)\n",
    "                print(f\"\\n✓ Final chunk {chunk_info['chunk_id']} saved. Ledger updated.\")\n",
    "            except Exception as e:\n",
    "                associated_chunk_id = getattr(active_save_future, 'associated_chunk_id', 'unknown')\n",
    "                print(f\"\\n✗ Error saving final chunk (ID: {associated_chunk_id}): {e}\")\n",
    "                processing_ledger['failed_chunks'].append({\n",
    "                    'chunk_id': associated_chunk_id, 'error': str(e),\n",
    "                    'timestamp': datetime.now().isoformat()\n",
    "                })\n",
    "            finally:\n",
    "                active_save_future = None\n",
    "        \n",
    "        processing_ledger['status'] = 'completed'\n",
    "        processing_ledger['completed_at'] = datetime.now().isoformat()\n",
    "        save_ledger(processing_ledger)\n",
    "        \n",
    "        print(f\"\\n\" + \"=\"*60)\n",
    "        print(f\"PROCESSING COMPLETED!\")\n",
    "        print(f\"Total chunks created: {len(processing_ledger['completed_chunks'])}\")\n",
    "        print(f\"Total positions processed: {processing_ledger['total_positions_processed']:,}\")\n",
    "        print(f\"Total lines processed: {current_line:,}\")\n",
    "        print(f\"Positions this session: {positions_processed_this_session:,}\")\n",
    "        \n",
    "        total_size_mb = sum(chunk['file_size_mb'] for chunk in processing_ledger['completed_chunks'])\n",
    "        print(f\"Total storage used: {total_size_mb / 1024:.2f} GB\")\n",
    "        print(f\"=\"*60)\n",
    "        \n",
    "    except KeyboardInterrupt:\n",
    "        print(f\"\\n⚠ Processing interrupted by user\")\n",
    "        processing_ledger['last_processed_line'] = current_line\n",
    "        processing_ledger['status'] = 'interrupted'\n",
    "        save_ledger(processing_ledger)\n",
    "        print(f\"Progress saved. Can resume from line {current_line + 1}\") # +1 if current_line is 0-indexed last processed\n",
    "        \n",
    "    except Exception as e:\n",
    "        print(f\"\\n✗ Error during processing: {e}\")\n",
    "        processing_ledger['last_processed_line'] = current_line\n",
    "        processing_ledger['status'] = 'error'\n",
    "        processing_ledger['last_error'] = str(e)\n",
    "        save_ledger(processing_ledger)\n",
    "        raise\n",
    "    finally:\n",
    "        print(\"Shutting down save executor...\")\n",
    "        save_executor.shutdown(wait=True) # Ensure all pending save tasks are completed\n",
    "        print(\"Save executor shut down.\")\n",
    "\n",
    "print(\"✓ Main processing function ready\")"
   ]
  },
  {
   "cell_type": "code",
   "execution_count": null,
   "id": "88b1d875",
   "metadata": {},
   "outputs": [
    {
     "name": "stdout",
     "output_type": "stream",
     "text": [
      "✓ Loaded existing ledger: 614 chunks already processed\n",
      "==================================================\n",
      "PROCESSING STATUS\n",
      "==================================================\n",
      "Source file: lichess_db_eval.jsonl\n",
      "File size: 61.14 GB\n",
      "Status: INTERRUPTED\n",
      "Started: 2025-06-16T23:51:37.065746\n",
      "Last updated: 2025-06-17T10:00:21.995777\n",
      "\n",
      "Chunks completed: 614\n",
      "Positions processed: 30,750,000\n",
      "Last processed line: 35,920,709\n",
      "Total storage: 5.13 GB\n",
      "Avg positions per chunk: 50,081\n",
      "Last error: name 'save_executor' is not defined\n",
      "==================================================\n"
     ]
    }
   ],
   "source": [
    "# type: ignore\n",
    "def show_processing_status():\n",
    "    \"\"\"Display current processing status\"\"\"\n",
    "    ledger = load_ledger()\n",
    "    \n",
    "    print(\"=\"*50)\n",
    "    print(\"PROCESSING STATUS\")\n",
    "    print(\"=\"*50)\n",
    "    print(f\"Source file: {os.path.basename(ledger['source_file'])}\")\n",
    "    print(f\"File size: {ledger['file_size_bytes'] / 1024 / 1024 / 1024:.2f} GB\")\n",
    "    print(f\"Status: {ledger['status'].upper()}\")\n",
    "    print(f\"Started: {ledger['started_at']}\")\n",
    "    print(f\"Last updated: {ledger['last_updated']}\")\n",
    "    print()\n",
    "    print(f\"Chunks completed: {len(ledger['completed_chunks'])}\")\n",
    "    print(f\"Positions processed: {ledger['total_positions_processed']:,}\")\n",
    "    print(f\"Last processed line: {ledger['last_processed_line']:,}\")\n",
    "    \n",
    "    if ledger['completed_chunks']:\n",
    "        total_size = sum(chunk['file_size_mb'] for chunk in ledger['completed_chunks'])\n",
    "        avg_positions_per_chunk = ledger['total_positions_processed'] / len(ledger['completed_chunks'])\n",
    "        print(f\"Total storage: {total_size / 1024:.2f} GB\")\n",
    "        print(f\"Avg positions per chunk: {avg_positions_per_chunk:,.0f}\")\n",
    "    \n",
    "    if ledger['failed_chunks']:\n",
    "        print(f\"Failed chunks: {len(ledger['failed_chunks'])}\")\n",
    "    \n",
    "    if 'last_error' in ledger:\n",
    "        print(f\"Last error: {ledger['last_error']}\")\n",
    "    \n",
    "    print(\"=\"*50)\n",
    "\n",
    "def list_completed_chunks():\n",
    "    \"\"\"List all completed chunks\"\"\"\n",
    "    ledger = load_ledger()\n",
    "    \n",
    "    if not ledger['completed_chunks']:\n",
    "        print(\"No chunks completed yet\")\n",
    "        return\n",
    "    \n",
    "    chunks_df = pd.DataFrame(ledger['completed_chunks'])\n",
    "    chunks_df['file_size_mb'] = chunks_df['file_size_mb'].round(1)\n",
    "    \n",
    "    print(\"Completed chunks:\")\n",
    "    print(chunks_df[['chunk_id', 'num_positions', 'file_size_mb', 'created_at']])\n",
    "    \n",
    "    return chunks_df\n",
    "\n",
    "def verify_chunk_files():\n",
    "    \"\"\"Verify that all chunk files exist and are readable\"\"\"\n",
    "    ledger = load_ledger()\n",
    "    missing_files = []\n",
    "    corrupted_files = []\n",
    "    \n",
    "    print(\"Verifying chunk files...\")\n",
    "    \n",
    "    for chunk in tqdm(ledger['completed_chunks'], desc=\"Checking chunks\"):\n",
    "        chunk_path = Path(chunk['file_path'])\n",
    "        \n",
    "        if not chunk_path.exists():\n",
    "            missing_files.append(chunk['chunk_id'])\n",
    "            continue\n",
    "            \n",
    "        try:\n",
    "            with h5py.File(chunk_path, 'r') as f:\n",
    "                # Quick verification\n",
    "                tokens = f['square_tokens']\n",
    "                evals = f['evaluations']\n",
    "                \n",
    "                if tokens.shape[0] != evals.shape[0]:\n",
    "                    corrupted_files.append(chunk['chunk_id'])\n",
    "                    \n",
    "        except Exception as e:\n",
    "            corrupted_files.append(chunk['chunk_id'])\n",
    "    \n",
    "    if missing_files:\n",
    "        print(f\"⚠ Missing chunk files: {missing_files}\")\n",
    "    \n",
    "    if corrupted_files:\n",
    "        print(f\"⚠ Corrupted chunk files: {corrupted_files}\")\n",
    "    \n",
    "    if not missing_files and not corrupted_files:\n",
    "        print(\"✓ All chunk files verified successfully\")\n",
    "    \n",
    "    return missing_files, corrupted_files\n",
    "\n",
    "# Show current status\n",
    "show_processing_status()\n"
   ]
  },
  {
   "cell_type": "code",
   "execution_count": 7,
   "id": "9c75d58b",
   "metadata": {},
   "outputs": [
    {
     "name": "stdout",
     "output_type": "stream",
     "text": [
      "Ready to process!\n",
      "Run start_processing() to begin\n"
     ]
    }
   ],
   "source": [
    "def start_processing():\n",
    "    \"\"\"Start or resume processing\"\"\"\n",
    "    ledger = load_ledger()\n",
    "    \n",
    "    if ledger['status'] == 'completed':\n",
    "        print(\"✓ Processing already completed!\")\n",
    "        show_processing_status()\n",
    "        return\n",
    "    \n",
    "    print(\"Starting data processing...\")\n",
    "    print(f\"Will process {FILE_PATH}\")\n",
    "    print(f\"Resume from line: {ledger['last_processed_line'] + 1}\")\n",
    "    print(f\"Output directory: {OUTPUT_DIR}\")\n",
    "    print()\n",
    "    print(\"Press Ctrl+C to safely interrupt and save progress\")\n",
    "    print(\"-\" * 50)\n",
    "    \n",
    "    try:\n",
    "        process_file_from_resume_point()\n",
    "    except Exception as e:\n",
    "        print(f\"Processing failed: {e}\")\n",
    "        return\n",
    "    \n",
    "    print(\"\\n✓ Processing completed successfully!\")\n",
    "    print(\"Run verify_chunk_files() to verify all files\")\n",
    "\n",
    "# Uncomment the line below to start processing\n",
    "# start_processing()\n",
    "\n",
    "print(\"Ready to process!\")\n",
    "print(\"Run start_processing() to begin\")\n"
   ]
  },
  {
   "cell_type": "code",
   "execution_count": 8,
   "id": "37e7fe70",
   "metadata": {},
   "outputs": [
    {
     "name": "stdout",
     "output_type": "stream",
     "text": [
      "✓ Loaded existing ledger: 614 chunks already processed\n",
      "📊 PROCESSING SUMMARY\n",
      "------------------------------\n",
      "Total chunks: 614\n",
      "Total positions: 30,750,000\n",
      "Total storage: 5.13 GB\n",
      "Avg chunk size: 50,000 positions\n",
      "Min chunk size: 50,000 positions\n",
      "Max chunk size: 50,000 positions\n",
      "Compression ratio: 40.0x\n",
      "Status: interrupted\n",
      "\n",
      "🎯 AVAILABLE COMMANDS:\n",
      "- start_processing()     : Start/resume processing\n",
      "- show_processing_status(): Show detailed status\n",
      "- list_completed_chunks(): List all chunks\n",
      "- verify_chunk_files()   : Check file integrity\n",
      "- print_quick_stats()    : Show summary stats\n"
     ]
    }
   ],
   "source": [
    "def print_quick_stats():\n",
    "    \"\"\"Print quick statistics about processed data\"\"\"\n",
    "    ledger = load_ledger()\n",
    "    \n",
    "    if not ledger['completed_chunks']:\n",
    "        print(\"No data processed yet\")\n",
    "        return\n",
    "    \n",
    "    # Calculate stats\n",
    "    total_chunks = len(ledger['completed_chunks'])\n",
    "    total_positions = ledger['total_positions_processed']\n",
    "    total_size_gb = sum(chunk['file_size_mb'] for chunk in ledger['completed_chunks']) / 1024\n",
    "    \n",
    "    chunk_sizes = [chunk['num_positions'] for chunk in ledger['completed_chunks']]\n",
    "    avg_chunk_size = np.mean(chunk_sizes)\n",
    "    min_chunk_size = np.min(chunk_sizes)\n",
    "    max_chunk_size = np.max(chunk_sizes)\n",
    "    \n",
    "    print(\"📊 PROCESSING SUMMARY\")\n",
    "    print(\"-\" * 30)\n",
    "    print(f\"Total chunks: {total_chunks}\")\n",
    "    print(f\"Total positions: {total_positions:,}\")\n",
    "    print(f\"Total storage: {total_size_gb:.2f} GB\")\n",
    "    print(f\"Avg chunk size: {avg_chunk_size:,.0f} positions\")\n",
    "    print(f\"Min chunk size: {min_chunk_size:,} positions\")\n",
    "    print(f\"Max chunk size: {max_chunk_size:,} positions\")\n",
    "    \n",
    "    if total_positions > 0:\n",
    "        compression_ratio = (total_positions * 64 * NUM_PLANES * 4) / (total_size_gb * 1024**3)\n",
    "        print(f\"Compression ratio: {compression_ratio:.1f}x\")\n",
    "    \n",
    "    print(f\"Status: {ledger['status']}\")\n",
    "\n",
    "# Print stats if data exists\n",
    "print_quick_stats()\n",
    "\n",
    "print(\"\\n🎯 AVAILABLE COMMANDS:\")\n",
    "print(\"- start_processing()     : Start/resume processing\")\n",
    "print(\"- show_processing_status(): Show detailed status\")  \n",
    "print(\"- list_completed_chunks(): List all chunks\")\n",
    "print(\"- verify_chunk_files()   : Check file integrity\")\n",
    "print(\"- print_quick_stats()    : Show summary stats\")\n"
   ]
  },
  {
   "cell_type": "code",
   "execution_count": 9,
   "id": "909d9891",
   "metadata": {},
   "outputs": [
    {
     "name": "stdout",
     "output_type": "stream",
     "text": [
      "✓ Loaded existing ledger: 614 chunks already processed\n",
      "Starting data processing...\n",
      "Will process ../../data/raw/lichess_eval/lichess_db_eval.jsonl\n",
      "Resume from line: 35920710\n",
      "Output directory: ../../data/preprocessed/lichess_preprocessed_chunks\n",
      "\n",
      "Press Ctrl+C to safely interrupt and save progress\n",
      "--------------------------------------------------\n",
      "Starting processing from line 35920710\n",
      "Target chunk size: 50,000 positions\n"
     ]
    },
    {
     "name": "stderr",
     "output_type": "stream",
     "text": [
      "Processing positions: 35978253lines [00:46, 1046.29lines/s]"
     ]
    },
    {
     "name": "stdout",
     "output_type": "stream",
     "text": [
      "\n",
      "Submitting chunk 614 (50000 positions) for asynchronous saving...\n",
      "  Chunk 614 submitted. Main thread continues.\n",
      "  Total processed (optimistic): 30,800,000 positions\n",
      "  Progress: Line 35,978,207\n"
     ]
    },
    {
     "name": "stderr",
     "output_type": "stream",
     "text": [
      "Processing positions: 36000144lines [01:04, 1166.31lines/s]"
     ]
    },
    {
     "name": "stdout",
     "output_type": "stream",
     "text": [
      "Progress checkpoint: Line 36,000,000, Found 69,059 valid positions this session.\n"
     ]
    },
    {
     "name": "stderr",
     "output_type": "stream",
     "text": [
      "Processing positions: 36034744lines [01:33, 851.98lines/s] "
     ]
    },
    {
     "name": "stdout",
     "output_type": "stream",
     "text": [
      "\n",
      "✓ Previous chunk 614 saved. Ledger updated.\n",
      "\n",
      "Submitting chunk 615 (50000 positions) for asynchronous saving...\n",
      "  Chunk 615 submitted. Main thread continues.\n",
      "  Total processed (optimistic): 30,850,000 positions\n",
      "  Progress: Line 36,034,695\n"
     ]
    },
    {
     "name": "stderr",
     "output_type": "stream",
     "text": [
      "Processing positions: 36091091lines [02:20, 840.15lines/s] "
     ]
    },
    {
     "name": "stdout",
     "output_type": "stream",
     "text": [
      "\n",
      "✓ Previous chunk 615 saved. Ledger updated.\n",
      "\n",
      "Submitting chunk 616 (50000 positions) for asynchronous saving...\n",
      "  Chunk 616 submitted. Main thread continues.\n",
      "  Total processed (optimistic): 30,900,000 positions\n",
      "  Progress: Line 36,091,005\n"
     ]
    },
    {
     "name": "stderr",
     "output_type": "stream",
     "text": [
      "Processing positions: 36100201lines [02:29, 1189.67lines/s]"
     ]
    },
    {
     "name": "stdout",
     "output_type": "stream",
     "text": [
      "Progress checkpoint: Line 36,100,000, Found 158,065 valid positions this session.\n"
     ]
    },
    {
     "name": "stderr",
     "output_type": "stream",
     "text": [
      "Processing positions: 36148566lines [03:08, 852.60lines/s] "
     ]
    },
    {
     "name": "stdout",
     "output_type": "stream",
     "text": [
      "\n",
      "✓ Previous chunk 616 saved. Ledger updated.\n",
      "\n",
      "Submitting chunk 617 (50000 positions) for asynchronous saving...\n",
      "  Chunk 617 submitted. Main thread continues.\n",
      "  Total processed (optimistic): 30,950,000 positions\n",
      "  Progress: Line 36,148,534\n"
     ]
    },
    {
     "name": "stderr",
     "output_type": "stream",
     "text": [
      "Processing positions: 36200184lines [03:59, 1203.11lines/s]"
     ]
    },
    {
     "name": "stdout",
     "output_type": "stream",
     "text": [
      "Progress checkpoint: Line 36,200,000, Found 243,715 valid positions this session.\n"
     ]
    },
    {
     "name": "stderr",
     "output_type": "stream",
     "text": [
      "Processing positions: 36207678lines [04:05, 842.95lines/s] "
     ]
    },
    {
     "name": "stdout",
     "output_type": "stream",
     "text": [
      "\n",
      "✓ Previous chunk 617 saved. Ledger updated.\n",
      "\n",
      "Submitting chunk 618 (50000 positions) for asynchronous saving...\n",
      "  Chunk 618 submitted. Main thread continues.\n",
      "  Total processed (optimistic): 31,000,000 positions\n",
      "  Progress: Line 36,207,648\n"
     ]
    },
    {
     "name": "stderr",
     "output_type": "stream",
     "text": [
      "Processing positions: 36265427lines [04:59, 1305.72lines/s]"
     ]
    },
    {
     "name": "stdout",
     "output_type": "stream",
     "text": [
      "\n",
      "✓ Previous chunk 618 saved. Ledger updated.\n",
      "\n",
      "Submitting chunk 619 (50000 positions) for asynchronous saving...\n",
      "  Chunk 619 submitted. Main thread continues.\n",
      "  Total processed (optimistic): 31,050,000 positions\n",
      "  Progress: Line 36,265,455\n"
     ]
    },
    {
     "name": "stderr",
     "output_type": "stream",
     "text": [
      "Processing positions: 36300107lines [05:34, 1154.59lines/s]"
     ]
    },
    {
     "name": "stdout",
     "output_type": "stream",
     "text": [
      "Progress checkpoint: Line 36,300,000, Found 330,447 valid positions this session.\n"
     ]
    },
    {
     "name": "stderr",
     "output_type": "stream",
     "text": [
      "Processing positions: 36322279lines [05:53, 1212.40lines/s]"
     ]
    },
    {
     "name": "stdout",
     "output_type": "stream",
     "text": [
      "\n",
      "✓ Previous chunk 619 saved. Ledger updated.\n",
      "\n",
      "Submitting chunk 620 (50000 positions) for asynchronous saving...\n",
      "  Chunk 620 submitted. Main thread continues.\n",
      "  Total processed (optimistic): 31,100,000 positions\n",
      "  Progress: Line 36,322,321\n"
     ]
    },
    {
     "name": "stderr",
     "output_type": "stream",
     "text": [
      "Processing positions: 36379694lines [06:47, 832.21lines/s] "
     ]
    },
    {
     "name": "stdout",
     "output_type": "stream",
     "text": [
      "\n",
      "✓ Previous chunk 620 saved. Ledger updated.\n",
      "\n",
      "Submitting chunk 621 (50000 positions) for asynchronous saving...\n",
      "  Chunk 621 submitted. Main thread continues.\n",
      "  Total processed (optimistic): 31,150,000 positions\n",
      "  Progress: Line 36,379,637\n"
     ]
    },
    {
     "name": "stderr",
     "output_type": "stream",
     "text": [
      "Processing positions: 36400139lines [07:08, 949.88lines/s] "
     ]
    },
    {
     "name": "stdout",
     "output_type": "stream",
     "text": [
      "Progress checkpoint: Line 36,400,000, Found 417,534 valid positions this session.\n"
     ]
    },
    {
     "name": "stderr",
     "output_type": "stream",
     "text": [
      "Processing positions: 36437913lines [07:39, 950.60lines/s] "
     ]
    },
    {
     "name": "stdout",
     "output_type": "stream",
     "text": [
      "\n",
      "✓ Previous chunk 621 saved. Ledger updated.\n",
      "\n",
      "Submitting chunk 622 (50000 positions) for asynchronous saving...\n",
      "  Chunk 622 submitted. Main thread continues.\n",
      "  Total processed (optimistic): 31,200,000 positions\n",
      "  Progress: Line 36,437,913\n"
     ]
    },
    {
     "name": "stderr",
     "output_type": "stream",
     "text": [
      "Processing positions: 36495390lines [08:32, 843.24lines/s] "
     ]
    },
    {
     "name": "stdout",
     "output_type": "stream",
     "text": [
      "\n",
      "✓ Previous chunk 622 saved. Ledger updated.\n",
      "\n",
      "Submitting chunk 623 (50000 positions) for asynchronous saving...\n",
      "  Chunk 623 submitted. Main thread continues.\n",
      "  Total processed (optimistic): 31,250,000 positions\n",
      "  Progress: Line 36,495,351\n"
     ]
    },
    {
     "name": "stderr",
     "output_type": "stream",
     "text": [
      "Processing positions: 36500137lines [08:38, 1029.88lines/s]"
     ]
    },
    {
     "name": "stdout",
     "output_type": "stream",
     "text": [
      "Progress checkpoint: Line 36,500,000, Found 503,939 valid positions this session.\n"
     ]
    },
    {
     "name": "stderr",
     "output_type": "stream",
     "text": [
      "Processing positions: 36552859lines [09:26, 858.58lines/s] "
     ]
    },
    {
     "name": "stdout",
     "output_type": "stream",
     "text": [
      "\n",
      "✓ Previous chunk 623 saved. Ledger updated.\n",
      "\n",
      "Submitting chunk 624 (50000 positions) for asynchronous saving...\n",
      "  Chunk 624 submitted. Main thread continues.\n",
      "  Total processed (optimistic): 31,300,000 positions\n",
      "  Progress: Line 36,552,853\n"
     ]
    },
    {
     "name": "stderr",
     "output_type": "stream",
     "text": [
      "Processing positions: 36600145lines [10:11, 1186.93lines/s]"
     ]
    },
    {
     "name": "stdout",
     "output_type": "stream",
     "text": [
      "Progress checkpoint: Line 36,600,000, Found 591,282 valid positions this session.\n"
     ]
    },
    {
     "name": "stderr",
     "output_type": "stream",
     "text": [
      "Processing positions: 36609815lines [10:19, 901.16lines/s] "
     ]
    },
    {
     "name": "stdout",
     "output_type": "stream",
     "text": [
      "\n",
      "✓ Previous chunk 624 saved. Ledger updated.\n",
      "\n",
      "Submitting chunk 625 (50000 positions) for asynchronous saving...\n",
      "  Chunk 625 submitted. Main thread continues.\n",
      "  Total processed (optimistic): 31,350,000 positions\n",
      "  Progress: Line 36,609,814\n"
     ]
    },
    {
     "name": "stderr",
     "output_type": "stream",
     "text": [
      "Processing positions: 36666169lines [11:13, 802.63lines/s] "
     ]
    },
    {
     "name": "stdout",
     "output_type": "stream",
     "text": [
      "\n",
      "✓ Previous chunk 625 saved. Ledger updated.\n",
      "\n",
      "Submitting chunk 626 (50000 positions) for asynchronous saving...\n",
      "  Chunk 626 submitted. Main thread continues.\n",
      "  Total processed (optimistic): 31,400,000 positions\n",
      "  Progress: Line 36,666,109\n"
     ]
    },
    {
     "name": "stderr",
     "output_type": "stream",
     "text": [
      "Processing positions: 36700286lines [11:48, 1407.52lines/s]"
     ]
    },
    {
     "name": "stdout",
     "output_type": "stream",
     "text": [
      "Progress checkpoint: Line 36,700,000, Found 680,001 valid positions this session.\n"
     ]
    },
    {
     "name": "stderr",
     "output_type": "stream",
     "text": [
      "Processing positions: 36723406lines [12:07, 1260.85lines/s]"
     ]
    },
    {
     "name": "stdout",
     "output_type": "stream",
     "text": [
      "\n",
      "✓ Previous chunk 626 saved. Ledger updated.\n",
      "\n",
      "Submitting chunk 627 (50000 positions) for asynchronous saving...\n",
      "  Chunk 627 submitted. Main thread continues.\n",
      "  Total processed (optimistic): 31,450,000 positions\n",
      "  Progress: Line 36,723,422\n"
     ]
    },
    {
     "name": "stderr",
     "output_type": "stream",
     "text": [
      "Processing positions: 36781483lines [13:00, 979.66lines/s] "
     ]
    },
    {
     "name": "stdout",
     "output_type": "stream",
     "text": [
      "\n",
      "✓ Previous chunk 627 saved. Ledger updated.\n",
      "\n",
      "Submitting chunk 628 (50000 positions) for asynchronous saving...\n",
      "  Chunk 628 submitted. Main thread continues.\n",
      "  Total processed (optimistic): 31,500,000 positions\n",
      "  Progress: Line 36,781,483\n"
     ]
    },
    {
     "name": "stderr",
     "output_type": "stream",
     "text": [
      "Processing positions: 36800113lines [13:20, 915.09lines/s] "
     ]
    },
    {
     "name": "stdout",
     "output_type": "stream",
     "text": [
      "Progress checkpoint: Line 36,800,000, Found 766,001 valid positions this session.\n"
     ]
    },
    {
     "name": "stderr",
     "output_type": "stream",
     "text": [
      "Processing positions: 36838785lines [13:53, 1198.66lines/s]"
     ]
    },
    {
     "name": "stdout",
     "output_type": "stream",
     "text": [
      "\n",
      "✓ Previous chunk 628 saved. Ledger updated.\n",
      "\n",
      "Submitting chunk 629 (50000 positions) for asynchronous saving...\n",
      "  Chunk 629 submitted. Main thread continues.\n",
      "  Total processed (optimistic): 31,550,000 positions\n",
      "  Progress: Line 36,838,826\n"
     ]
    },
    {
     "name": "stderr",
     "output_type": "stream",
     "text": [
      "Processing positions: 36896573lines [14:46, 891.77lines/s] "
     ]
    },
    {
     "name": "stdout",
     "output_type": "stream",
     "text": [
      "\n",
      "✓ Previous chunk 629 saved. Ledger updated.\n",
      "\n",
      "Submitting chunk 630 (50000 positions) for asynchronous saving...\n",
      "  Chunk 630 submitted. Main thread continues.\n",
      "  Total processed (optimistic): 31,600,000 positions\n",
      "  Progress: Line 36,896,570\n"
     ]
    },
    {
     "name": "stderr",
     "output_type": "stream",
     "text": [
      "Processing positions: 36900121lines [14:51, 987.09lines/s] "
     ]
    },
    {
     "name": "stdout",
     "output_type": "stream",
     "text": [
      "Progress checkpoint: Line 36,900,000, Found 852,868 valid positions this session.\n"
     ]
    },
    {
     "name": "stderr",
     "output_type": "stream",
     "text": [
      "Processing positions: 36955166lines [15:39, 849.43lines/s] "
     ]
    },
    {
     "name": "stdout",
     "output_type": "stream",
     "text": [
      "\n",
      "✓ Previous chunk 630 saved. Ledger updated.\n",
      "\n",
      "Submitting chunk 631 (50000 positions) for asynchronous saving...\n",
      "  Chunk 631 submitted. Main thread continues.\n",
      "  Total processed (optimistic): 31,650,000 positions\n",
      "  Progress: Line 36,955,134\n"
     ]
    },
    {
     "name": "stderr",
     "output_type": "stream",
     "text": [
      "Processing positions: 37000122lines [16:22, 1065.19lines/s]"
     ]
    },
    {
     "name": "stdout",
     "output_type": "stream",
     "text": [
      "Progress checkpoint: Line 37,000,000, Found 938,113 valid positions this session.\n"
     ]
    },
    {
     "name": "stderr",
     "output_type": "stream",
     "text": [
      "Processing positions: 37013822lines [16:33, 1199.21lines/s]"
     ]
    },
    {
     "name": "stdout",
     "output_type": "stream",
     "text": [
      "\n",
      "✓ Previous chunk 631 saved. Ledger updated.\n",
      "\n",
      "Submitting chunk 632 (50000 positions) for asynchronous saving...\n",
      "  Chunk 632 submitted. Main thread continues.\n",
      "  Total processed (optimistic): 31,700,000 positions\n",
      "  Progress: Line 37,013,855\n"
     ]
    },
    {
     "name": "stderr",
     "output_type": "stream",
     "text": [
      "Processing positions: 37071662lines [17:27, 984.43lines/s] "
     ]
    },
    {
     "name": "stdout",
     "output_type": "stream",
     "text": [
      "\n",
      "✓ Previous chunk 632 saved. Ledger updated.\n",
      "\n",
      "Submitting chunk 633 (50000 positions) for asynchronous saving...\n",
      "  Chunk 633 submitted. Main thread continues.\n",
      "  Total processed (optimistic): 31,750,000 positions\n",
      "  Progress: Line 37,071,652\n"
     ]
    },
    {
     "name": "stderr",
     "output_type": "stream",
     "text": [
      "Processing positions: 37100184lines [17:57, 1175.32lines/s]"
     ]
    },
    {
     "name": "stdout",
     "output_type": "stream",
     "text": [
      "Progress checkpoint: Line 37,100,000, Found 1,024,979 valid positions this session.\n"
     ]
    },
    {
     "name": "stderr",
     "output_type": "stream",
     "text": [
      "Processing positions: 37128740lines [18:20, 1249.94lines/s]"
     ]
    },
    {
     "name": "stdout",
     "output_type": "stream",
     "text": [
      "\n",
      "✓ Previous chunk 633 saved. Ledger updated.\n",
      "\n",
      "Submitting chunk 634 (50000 positions) for asynchronous saving...\n",
      "  Chunk 634 submitted. Main thread continues.\n",
      "  Total processed (optimistic): 31,800,000 positions\n",
      "  Progress: Line 37,128,774\n"
     ]
    },
    {
     "name": "stderr",
     "output_type": "stream",
     "text": [
      "Processing positions: 37186648lines [19:14, 851.09lines/s] "
     ]
    },
    {
     "name": "stdout",
     "output_type": "stream",
     "text": [
      "\n",
      "✓ Previous chunk 634 saved. Ledger updated.\n",
      "\n",
      "Submitting chunk 635 (50000 positions) for asynchronous saving...\n",
      "  Chunk 635 submitted. Main thread continues.\n",
      "  Total processed (optimistic): 31,850,000 positions\n",
      "  Progress: Line 37,186,647\n"
     ]
    },
    {
     "name": "stderr",
     "output_type": "stream",
     "text": [
      "Processing positions: 37200114lines [19:29, 925.64lines/s] "
     ]
    },
    {
     "name": "stdout",
     "output_type": "stream",
     "text": [
      "Progress checkpoint: Line 37,200,000, Found 1,111,779 valid positions this session.\n"
     ]
    },
    {
     "name": "stderr",
     "output_type": "stream",
     "text": [
      "Processing positions: 37244101lines [20:10, 497.68lines/s] "
     ]
    },
    {
     "name": "stdout",
     "output_type": "stream",
     "text": [
      "\n",
      "✓ Previous chunk 635 saved. Ledger updated.\n",
      "\n",
      "Submitting chunk 636 (50000 positions) for asynchronous saving...\n",
      "  Chunk 636 submitted. Main thread continues.\n",
      "  Total processed (optimistic): 31,900,000 positions\n",
      "  Progress: Line 37,244,064\n"
     ]
    },
    {
     "name": "stderr",
     "output_type": "stream",
     "text": [
      "Processing positions: 37300165lines [21:03, 1284.90lines/s]"
     ]
    },
    {
     "name": "stdout",
     "output_type": "stream",
     "text": [
      "Progress checkpoint: Line 37,300,000, Found 1,198,091 valid positions this session.\n"
     ]
    },
    {
     "name": "stderr",
     "output_type": "stream",
     "text": [
      "Processing positions: 37302226lines [21:04, 1116.09lines/s]"
     ]
    },
    {
     "name": "stdout",
     "output_type": "stream",
     "text": [
      "\n",
      "✓ Previous chunk 636 saved. Ledger updated.\n",
      "\n",
      "Submitting chunk 637 (50000 positions) for asynchronous saving...\n",
      "  Chunk 637 submitted. Main thread continues.\n",
      "  Total processed (optimistic): 31,950,000 positions\n",
      "  Progress: Line 37,302,247\n"
     ]
    },
    {
     "name": "stderr",
     "output_type": "stream",
     "text": [
      "Processing positions: 37360557lines [21:59, 1188.31lines/s]"
     ]
    },
    {
     "name": "stdout",
     "output_type": "stream",
     "text": [
      "\n",
      "✓ Previous chunk 637 saved. Ledger updated.\n",
      "\n",
      "Submitting chunk 638 (50000 positions) for asynchronous saving...\n",
      "  Chunk 638 submitted. Main thread continues.\n",
      "  Total processed (optimistic): 32,000,000 positions\n",
      "  Progress: Line 37,360,572\n"
     ]
    },
    {
     "name": "stderr",
     "output_type": "stream",
     "text": [
      "Processing positions: 37400254lines [22:38, 1246.47lines/s]"
     ]
    },
    {
     "name": "stdout",
     "output_type": "stream",
     "text": [
      "Progress checkpoint: Line 37,400,000, Found 1,284,113 valid positions this session.\n"
     ]
    },
    {
     "name": "stderr",
     "output_type": "stream",
     "text": [
      "Processing positions: 37418491lines [22:54, 1249.97lines/s]"
     ]
    },
    {
     "name": "stdout",
     "output_type": "stream",
     "text": [
      "\n",
      "✓ Previous chunk 638 saved. Ledger updated.\n",
      "\n",
      "Submitting chunk 639 (50000 positions) for asynchronous saving...\n",
      "  Chunk 639 submitted. Main thread continues.\n",
      "  Total processed (optimistic): 32,050,000 positions\n",
      "  Progress: Line 37,418,563\n"
     ]
    },
    {
     "name": "stderr",
     "output_type": "stream",
     "text": [
      "Processing positions: 37475681lines [23:47, 1248.58lines/s]"
     ]
    },
    {
     "name": "stdout",
     "output_type": "stream",
     "text": [
      "\n",
      "✓ Previous chunk 639 saved. Ledger updated.\n",
      "\n",
      "Submitting chunk 640 (50000 positions) for asynchronous saving...\n",
      "  Chunk 640 submitted. Main thread continues.\n",
      "  Total processed (optimistic): 32,100,000 positions\n",
      "  Progress: Line 37,475,695\n"
     ]
    },
    {
     "name": "stderr",
     "output_type": "stream",
     "text": [
      "Processing positions: 37500114lines [24:13, 1200.30lines/s]"
     ]
    },
    {
     "name": "stdout",
     "output_type": "stream",
     "text": [
      "Progress checkpoint: Line 37,500,000, Found 1,370,717 valid positions this session.\n"
     ]
    },
    {
     "name": "stderr",
     "output_type": "stream",
     "text": [
      "Processing positions: 37534156lines [24:40, 1259.58lines/s]"
     ]
    },
    {
     "name": "stdout",
     "output_type": "stream",
     "text": [
      "\n",
      "✓ Previous chunk 640 saved. Ledger updated.\n",
      "\n",
      "Submitting chunk 641 (50000 positions) for asynchronous saving...\n",
      "  Chunk 641 submitted. Main thread continues.\n",
      "  Total processed (optimistic): 32,150,000 positions\n",
      "  Progress: Line 37,534,174\n"
     ]
    },
    {
     "name": "stderr",
     "output_type": "stream",
     "text": [
      "Processing positions: 37593053lines [25:34, 835.97lines/s] "
     ]
    },
    {
     "name": "stdout",
     "output_type": "stream",
     "text": [
      "\n",
      "✓ Previous chunk 641 saved. Ledger updated.\n",
      "\n",
      "Submitting chunk 642 (50000 positions) for asynchronous saving...\n",
      "  Chunk 642 submitted. Main thread continues.\n",
      "  Total processed (optimistic): 32,200,000 positions\n",
      "  Progress: Line 37,593,005\n"
     ]
    },
    {
     "name": "stderr",
     "output_type": "stream",
     "text": [
      "Processing positions: 37600157lines [25:43, 963.07lines/s] "
     ]
    },
    {
     "name": "stdout",
     "output_type": "stream",
     "text": [
      "Progress checkpoint: Line 37,600,000, Found 1,455,986 valid positions this session.\n"
     ]
    },
    {
     "name": "stderr",
     "output_type": "stream",
     "text": [
      "Processing positions: 37651054lines [26:29, 893.16lines/s] "
     ]
    },
    {
     "name": "stdout",
     "output_type": "stream",
     "text": [
      "\n",
      "✓ Previous chunk 642 saved. Ledger updated.\n",
      "\n",
      "Submitting chunk 643 (50000 positions) for asynchronous saving...\n",
      "  Chunk 643 submitted. Main thread continues.\n",
      "  Total processed (optimistic): 32,250,000 positions\n",
      "  Progress: Line 37,651,033\n"
     ]
    },
    {
     "name": "stderr",
     "output_type": "stream",
     "text": [
      "Processing positions: 37700235lines [27:15, 1407.11lines/s]"
     ]
    },
    {
     "name": "stdout",
     "output_type": "stream",
     "text": [
      "Progress checkpoint: Line 37,700,000, Found 1,542,293 valid positions this session.\n"
     ]
    },
    {
     "name": "stderr",
     "output_type": "stream",
     "text": [
      "Processing positions: 37709222lines [27:22, 968.50lines/s] "
     ]
    },
    {
     "name": "stdout",
     "output_type": "stream",
     "text": [
      "\n",
      "✓ Previous chunk 643 saved. Ledger updated.\n",
      "\n",
      "Submitting chunk 644 (50000 positions) for asynchronous saving...\n",
      "  Chunk 644 submitted. Main thread continues.\n",
      "  Total processed (optimistic): 32,300,000 positions\n",
      "  Progress: Line 37,709,214\n"
     ]
    },
    {
     "name": "stderr",
     "output_type": "stream",
     "text": [
      "Processing positions: 37767430lines [28:18, 876.16lines/s] "
     ]
    },
    {
     "name": "stdout",
     "output_type": "stream",
     "text": [
      "\n",
      "✓ Previous chunk 644 saved. Ledger updated.\n",
      "\n",
      "Submitting chunk 645 (50000 positions) for asynchronous saving...\n",
      "  Chunk 645 submitted. Main thread continues.\n",
      "  Total processed (optimistic): 32,350,000 positions\n",
      "  Progress: Line 37,767,426\n"
     ]
    },
    {
     "name": "stderr",
     "output_type": "stream",
     "text": [
      "Processing positions: 37800132lines [28:52, 1082.66lines/s]"
     ]
    },
    {
     "name": "stdout",
     "output_type": "stream",
     "text": [
      "Progress checkpoint: Line 37,800,000, Found 1,628,286 valid positions this session.\n"
     ]
    },
    {
     "name": "stderr",
     "output_type": "stream",
     "text": [
      "Processing positions: 37825062lines [29:13, 1410.94lines/s]"
     ]
    },
    {
     "name": "stdout",
     "output_type": "stream",
     "text": [
      "\n",
      "✓ Previous chunk 645 saved. Ledger updated.\n",
      "\n",
      "Submitting chunk 646 (50000 positions) for asynchronous saving...\n",
      "  Chunk 646 submitted. Main thread continues.\n",
      "  Total processed (optimistic): 32,400,000 positions\n",
      "  Progress: Line 37,825,099\n"
     ]
    },
    {
     "name": "stderr",
     "output_type": "stream",
     "text": [
      "Processing positions: 37883565lines [30:07, 1106.32lines/s]"
     ]
    },
    {
     "name": "stdout",
     "output_type": "stream",
     "text": [
      "\n",
      "✓ Previous chunk 646 saved. Ledger updated.\n",
      "\n",
      "Submitting chunk 647 (50000 positions) for asynchronous saving...\n",
      "  Chunk 647 submitted. Main thread continues.\n",
      "  Total processed (optimistic): 32,450,000 positions\n",
      "  Progress: Line 37,883,592\n"
     ]
    },
    {
     "name": "stderr",
     "output_type": "stream",
     "text": [
      "Processing positions: 37900134lines [30:27, 1059.54lines/s]"
     ]
    },
    {
     "name": "stdout",
     "output_type": "stream",
     "text": [
      "Progress checkpoint: Line 37,900,000, Found 1,714,353 valid positions this session.\n"
     ]
    },
    {
     "name": "stderr",
     "output_type": "stream",
     "text": [
      "Processing positions: 37941846lines [31:02, 1246.11lines/s]"
     ]
    },
    {
     "name": "stdout",
     "output_type": "stream",
     "text": [
      "\n",
      "✓ Previous chunk 647 saved. Ledger updated.\n",
      "\n",
      "Submitting chunk 648 (50000 positions) for asynchronous saving...\n",
      "  Chunk 648 submitted. Main thread continues.\n",
      "  Total processed (optimistic): 32,500,000 positions\n",
      "  Progress: Line 37,941,875\n"
     ]
    },
    {
     "name": "stderr",
     "output_type": "stream",
     "text": [
      "Processing positions: 37999860lines [31:58, 1270.92lines/s]"
     ]
    },
    {
     "name": "stdout",
     "output_type": "stream",
     "text": [
      "\n",
      "✓ Previous chunk 648 saved. Ledger updated.\n",
      "\n",
      "Submitting chunk 649 (50000 positions) for asynchronous saving...\n",
      "  Chunk 649 submitted. Main thread continues.\n",
      "  Total processed (optimistic): 32,550,000 positions\n",
      "  Progress: Line 37,999,916\n"
     ]
    },
    {
     "name": "stderr",
     "output_type": "stream",
     "text": [
      "Processing positions: 37999988lines [31:58, 806.48lines/s] "
     ]
    },
    {
     "name": "stdout",
     "output_type": "stream",
     "text": [
      "Progress checkpoint: Line 38,000,000, Found 1,800,064 valid positions this session.\n"
     ]
    },
    {
     "name": "stderr",
     "output_type": "stream",
     "text": [
      "Processing positions: 38057847lines [32:53, 869.44lines/s] "
     ]
    },
    {
     "name": "stdout",
     "output_type": "stream",
     "text": [
      "\n",
      "✓ Previous chunk 649 saved. Ledger updated.\n",
      "\n",
      "Submitting chunk 650 (50000 positions) for asynchronous saving...\n",
      "  Chunk 650 submitted. Main thread continues.\n",
      "  Total processed (optimistic): 32,600,000 positions\n",
      "  Progress: Line 38,057,830\n"
     ]
    },
    {
     "name": "stderr",
     "output_type": "stream",
     "text": [
      "Processing positions: 38100218lines [33:33, 1236.08lines/s]"
     ]
    },
    {
     "name": "stdout",
     "output_type": "stream",
     "text": [
      "Progress checkpoint: Line 38,100,000, Found 1,886,077 valid positions this session.\n"
     ]
    },
    {
     "name": "stderr",
     "output_type": "stream",
     "text": [
      "Processing positions: 38116571lines [33:46, 1106.39lines/s]"
     ]
    },
    {
     "name": "stdout",
     "output_type": "stream",
     "text": [
      "\n",
      "✓ Previous chunk 650 saved. Ledger updated.\n",
      "\n",
      "Submitting chunk 651 (50000 positions) for asynchronous saving...\n",
      "  Chunk 651 submitted. Main thread continues.\n",
      "  Total processed (optimistic): 32,650,000 positions\n",
      "  Progress: Line 38,116,591\n"
     ]
    },
    {
     "name": "stderr",
     "output_type": "stream",
     "text": [
      "Processing positions: 38176406lines [34:39, 1279.93lines/s]"
     ]
    },
    {
     "name": "stdout",
     "output_type": "stream",
     "text": [
      "\n",
      "✓ Previous chunk 651 saved. Ledger updated.\n",
      "\n",
      "Submitting chunk 652 (50000 positions) for asynchronous saving...\n",
      "  Chunk 652 submitted. Main thread continues.\n",
      "  Total processed (optimistic): 32,700,000 positions\n",
      "  Progress: Line 38,176,456\n"
     ]
    },
    {
     "name": "stderr",
     "output_type": "stream",
     "text": [
      "Processing positions: 38200214lines [35:05, 1186.31lines/s]"
     ]
    },
    {
     "name": "stdout",
     "output_type": "stream",
     "text": [
      "Progress checkpoint: Line 38,200,000, Found 1,970,380 valid positions this session.\n"
     ]
    },
    {
     "name": "stderr",
     "output_type": "stream",
     "text": [
      "Processing positions: 38234715lines [35:35, 1313.61lines/s]"
     ]
    },
    {
     "name": "stdout",
     "output_type": "stream",
     "text": [
      "\n",
      "✓ Previous chunk 652 saved. Ledger updated.\n",
      "\n",
      "Submitting chunk 653 (50000 positions) for asynchronous saving...\n",
      "  Chunk 653 submitted. Main thread continues.\n",
      "  Total processed (optimistic): 32,750,000 positions\n",
      "  Progress: Line 38,234,772\n"
     ]
    },
    {
     "name": "stderr",
     "output_type": "stream",
     "text": [
      "Processing positions: 38291668lines [36:30, 919.40lines/s] "
     ]
    },
    {
     "name": "stdout",
     "output_type": "stream",
     "text": [
      "\n",
      "✓ Previous chunk 653 saved. Ledger updated.\n",
      "\n",
      "Submitting chunk 654 (50000 positions) for asynchronous saving...\n",
      "  Chunk 654 submitted. Main thread continues.\n",
      "  Total processed (optimistic): 32,800,000 positions\n",
      "  Progress: Line 38,291,601\n"
     ]
    },
    {
     "name": "stderr",
     "output_type": "stream",
     "text": [
      "Processing positions: 38300069lines [36:39, 943.58lines/s] "
     ]
    },
    {
     "name": "stdout",
     "output_type": "stream",
     "text": [
      "Progress checkpoint: Line 38,300,000, Found 2,057,283 valid positions this session.\n"
     ]
    },
    {
     "name": "stderr",
     "output_type": "stream",
     "text": [
      "Processing positions: 38351153lines [37:22, 1110.57lines/s]"
     ]
    },
    {
     "name": "stdout",
     "output_type": "stream",
     "text": [
      "\n",
      "✓ Previous chunk 654 saved. Ledger updated.\n",
      "\n",
      "Submitting chunk 655 (50000 positions) for asynchronous saving...\n",
      "  Chunk 655 submitted. Main thread continues.\n",
      "  Total processed (optimistic): 32,850,000 positions\n",
      "  Progress: Line 38,351,164\n"
     ]
    },
    {
     "name": "stderr",
     "output_type": "stream",
     "text": [
      "Processing positions: 38400123lines [38:08, 1218.71lines/s]"
     ]
    },
    {
     "name": "stdout",
     "output_type": "stream",
     "text": [
      "Progress checkpoint: Line 38,400,000, Found 2,142,272 valid positions this session.\n"
     ]
    },
    {
     "name": "stderr",
     "output_type": "stream",
     "text": [
      "Processing positions: 38409018lines [38:16, 902.32lines/s] "
     ]
    },
    {
     "name": "stdout",
     "output_type": "stream",
     "text": [
      "\n",
      "✓ Previous chunk 655 saved. Ledger updated.\n",
      "\n",
      "Submitting chunk 656 (50000 positions) for asynchronous saving...\n",
      "  Chunk 656 submitted. Main thread continues.\n",
      "  Total processed (optimistic): 32,900,000 positions\n",
      "  Progress: Line 38,408,996\n"
     ]
    },
    {
     "name": "stderr",
     "output_type": "stream",
     "text": [
      "Processing positions: 38467728lines [39:09, 772.40lines/s] "
     ]
    },
    {
     "name": "stdout",
     "output_type": "stream",
     "text": [
      "\n",
      "✓ Previous chunk 656 saved. Ledger updated.\n",
      "\n",
      "Submitting chunk 657 (50000 positions) for asynchronous saving...\n",
      "  Chunk 657 submitted. Main thread continues.\n",
      "  Total processed (optimistic): 32,950,000 positions\n",
      "  Progress: Line 38,467,682\n"
     ]
    },
    {
     "name": "stderr",
     "output_type": "stream",
     "text": [
      "Processing positions: 38500162lines [39:42, 1160.79lines/s]"
     ]
    },
    {
     "name": "stdout",
     "output_type": "stream",
     "text": [
      "Progress checkpoint: Line 38,500,000, Found 2,227,844 valid positions this session.\n"
     ]
    },
    {
     "name": "stderr",
     "output_type": "stream",
     "text": [
      "Processing positions: 38525885lines [40:05, 839.69lines/s] "
     ]
    },
    {
     "name": "stdout",
     "output_type": "stream",
     "text": [
      "\n",
      "✓ Previous chunk 657 saved. Ledger updated.\n",
      "\n",
      "Submitting chunk 658 (50000 positions) for asynchronous saving...\n",
      "  Chunk 658 submitted. Main thread continues.\n",
      "  Total processed (optimistic): 33,000,000 positions\n",
      "  Progress: Line 38,525,885\n"
     ]
    },
    {
     "name": "stderr",
     "output_type": "stream",
     "text": [
      "Processing positions: 38584028lines [40:59, 1252.54lines/s]"
     ]
    },
    {
     "name": "stdout",
     "output_type": "stream",
     "text": [
      "\n",
      "✓ Previous chunk 658 saved. Ledger updated.\n",
      "\n",
      "Submitting chunk 659 (50000 positions) for asynchronous saving...\n",
      "  Chunk 659 submitted. Main thread continues.\n",
      "  Total processed (optimistic): 33,050,000 positions\n",
      "  Progress: Line 38,584,074\n"
     ]
    },
    {
     "name": "stderr",
     "output_type": "stream",
     "text": [
      "Processing positions: 38600097lines [41:16, 961.00lines/s] "
     ]
    },
    {
     "name": "stdout",
     "output_type": "stream",
     "text": [
      "Progress checkpoint: Line 38,600,000, Found 2,313,533 valid positions this session.\n"
     ]
    },
    {
     "name": "stderr",
     "output_type": "stream",
     "text": [
      "Processing positions: 38643143lines [41:53, 1216.65lines/s]"
     ]
    },
    {
     "name": "stdout",
     "output_type": "stream",
     "text": [
      "\n",
      "✓ Previous chunk 659 saved. Ledger updated.\n",
      "\n",
      "Submitting chunk 660 (50000 positions) for asynchronous saving...\n",
      "  Chunk 660 submitted. Main thread continues.\n",
      "  Total processed (optimistic): 33,100,000 positions\n",
      "  Progress: Line 38,643,190\n"
     ]
    },
    {
     "name": "stderr",
     "output_type": "stream",
     "text": [
      "Processing positions: 38700204lines [42:44, 1287.07lines/s]"
     ]
    },
    {
     "name": "stdout",
     "output_type": "stream",
     "text": [
      "Progress checkpoint: Line 38,700,000, Found 2,397,163 valid positions this session.\n"
     ]
    },
    {
     "name": "stderr",
     "output_type": "stream",
     "text": [
      "Processing positions: 38703521lines [42:47, 1261.44lines/s]"
     ]
    },
    {
     "name": "stdout",
     "output_type": "stream",
     "text": [
      "\n",
      "✓ Previous chunk 660 saved. Ledger updated.\n",
      "\n",
      "Submitting chunk 661 (50000 positions) for asynchronous saving...\n",
      "  Chunk 661 submitted. Main thread continues.\n",
      "  Total processed (optimistic): 33,150,000 positions\n",
      "  Progress: Line 38,703,527\n"
     ]
    },
    {
     "name": "stderr",
     "output_type": "stream",
     "text": [
      "Processing positions: 38761574lines [43:41, 1030.26lines/s]"
     ]
    },
    {
     "name": "stdout",
     "output_type": "stream",
     "text": [
      "\n",
      "✓ Previous chunk 661 saved. Ledger updated.\n",
      "\n",
      "Submitting chunk 662 (50000 positions) for asynchronous saving...\n",
      "  Chunk 662 submitted. Main thread continues.\n",
      "  Total processed (optimistic): 33,200,000 positions\n",
      "  Progress: Line 38,761,595\n"
     ]
    },
    {
     "name": "stderr",
     "output_type": "stream",
     "text": [
      "Processing positions: 38800167lines [44:19, 1109.67lines/s]"
     ]
    },
    {
     "name": "stdout",
     "output_type": "stream",
     "text": [
      "Progress checkpoint: Line 38,800,000, Found 2,482,623 valid positions this session.\n"
     ]
    },
    {
     "name": "stderr",
     "output_type": "stream",
     "text": [
      "Processing positions: 38819825lines [44:36, 777.59lines/s] "
     ]
    },
    {
     "name": "stdout",
     "output_type": "stream",
     "text": [
      "\n",
      "✓ Previous chunk 662 saved. Ledger updated.\n",
      "\n",
      "Submitting chunk 663 (50000 positions) for asynchronous saving...\n",
      "  Chunk 663 submitted. Main thread continues.\n",
      "  Total processed (optimistic): 33,250,000 positions\n",
      "  Progress: Line 38,819,777\n"
     ]
    },
    {
     "name": "stderr",
     "output_type": "stream",
     "text": [
      "Processing positions: 38876245lines [45:29, 943.35lines/s] "
     ]
    },
    {
     "name": "stdout",
     "output_type": "stream",
     "text": [
      "\n",
      "✓ Previous chunk 663 saved. Ledger updated.\n",
      "\n",
      "Submitting chunk 664 (50000 positions) for asynchronous saving...\n",
      "  Chunk 664 submitted. Main thread continues.\n",
      "  Total processed (optimistic): 33,300,000 positions\n",
      "  Progress: Line 38,876,201\n"
     ]
    },
    {
     "name": "stderr",
     "output_type": "stream",
     "text": [
      "Processing positions: 38900276lines [45:54, 1243.86lines/s]"
     ]
    },
    {
     "name": "stdout",
     "output_type": "stream",
     "text": [
      "Progress checkpoint: Line 38,900,000, Found 2,571,016 valid positions this session.\n"
     ]
    },
    {
     "name": "stderr",
     "output_type": "stream",
     "text": [
      "Processing positions: 38932706lines [46:22, 836.86lines/s] "
     ]
    },
    {
     "name": "stdout",
     "output_type": "stream",
     "text": [
      "\n",
      "✓ Previous chunk 664 saved. Ledger updated.\n",
      "\n",
      "Submitting chunk 665 (50000 positions) for asynchronous saving...\n",
      "  Chunk 665 submitted. Main thread continues.\n",
      "  Total processed (optimistic): 33,350,000 positions\n",
      "  Progress: Line 38,932,645\n"
     ]
    },
    {
     "name": "stderr",
     "output_type": "stream",
     "text": [
      "Processing positions: 38989183lines [47:17, 1156.02lines/s]"
     ]
    },
    {
     "name": "stdout",
     "output_type": "stream",
     "text": [
      "\n",
      "✓ Previous chunk 665 saved. Ledger updated.\n",
      "\n",
      "Submitting chunk 666 (50000 positions) for asynchronous saving...\n",
      "  Chunk 666 submitted. Main thread continues.\n",
      "  Total processed (optimistic): 33,400,000 positions\n",
      "  Progress: Line 38,989,211\n"
     ]
    },
    {
     "name": "stderr",
     "output_type": "stream",
     "text": [
      "Processing positions: 39000159lines [47:30, 976.50lines/s] "
     ]
    },
    {
     "name": "stdout",
     "output_type": "stream",
     "text": [
      "Progress checkpoint: Line 39,000,000, Found 2,659,493 valid positions this session.\n"
     ]
    },
    {
     "name": "stderr",
     "output_type": "stream",
     "text": [
      "Processing positions: 39047197lines [48:12, 850.61lines/s] "
     ]
    },
    {
     "name": "stdout",
     "output_type": "stream",
     "text": [
      "\n",
      "✓ Previous chunk 666 saved. Ledger updated.\n",
      "\n",
      "Submitting chunk 667 (50000 positions) for asynchronous saving...\n",
      "  Chunk 667 submitted. Main thread continues.\n",
      "  Total processed (optimistic): 33,450,000 positions\n",
      "  Progress: Line 39,047,139\n"
     ]
    },
    {
     "name": "stderr",
     "output_type": "stream",
     "text": [
      "Processing positions: 39100216lines [49:02, 1146.14lines/s]"
     ]
    },
    {
     "name": "stdout",
     "output_type": "stream",
     "text": [
      "Progress checkpoint: Line 39,100,000, Found 2,745,131 valid positions this session.\n"
     ]
    },
    {
     "name": "stderr",
     "output_type": "stream",
     "text": [
      "Processing positions: 39105808lines [49:07, 794.52lines/s] "
     ]
    },
    {
     "name": "stdout",
     "output_type": "stream",
     "text": [
      "\n",
      "✓ Previous chunk 667 saved. Ledger updated.\n",
      "\n",
      "Submitting chunk 668 (50000 positions) for asynchronous saving...\n",
      "  Chunk 668 submitted. Main thread continues.\n",
      "  Total processed (optimistic): 33,500,000 positions\n",
      "  Progress: Line 39,105,763\n"
     ]
    },
    {
     "name": "stderr",
     "output_type": "stream",
     "text": [
      "Processing positions: 39162710lines [50:01, 1272.71lines/s]"
     ]
    },
    {
     "name": "stdout",
     "output_type": "stream",
     "text": [
      "\n",
      "✓ Previous chunk 668 saved. Ledger updated.\n",
      "\n",
      "Submitting chunk 669 (50000 positions) for asynchronous saving...\n",
      "  Chunk 669 submitted. Main thread continues.\n",
      "  Total processed (optimistic): 33,550,000 positions\n",
      "  Progress: Line 39,162,731\n"
     ]
    },
    {
     "name": "stderr",
     "output_type": "stream",
     "text": [
      "Processing positions: 39200185lines [50:37, 1240.53lines/s]"
     ]
    },
    {
     "name": "stdout",
     "output_type": "stream",
     "text": [
      "Progress checkpoint: Line 39,200,000, Found 2,832,732 valid positions this session.\n"
     ]
    },
    {
     "name": "stderr",
     "output_type": "stream",
     "text": [
      "Processing positions: 39220682lines [50:53, 1049.24lines/s]"
     ]
    },
    {
     "name": "stdout",
     "output_type": "stream",
     "text": [
      "\n",
      "✓ Previous chunk 669 saved. Ledger updated.\n",
      "\n",
      "Submitting chunk 670 (50000 positions) for asynchronous saving...\n",
      "  Chunk 670 submitted. Main thread continues.\n",
      "  Total processed (optimistic): 33,600,000 positions\n",
      "  Progress: Line 39,220,673\n"
     ]
    },
    {
     "name": "stderr",
     "output_type": "stream",
     "text": [
      "Processing positions: 39280095lines [51:44, 1250.15lines/s]"
     ]
    },
    {
     "name": "stdout",
     "output_type": "stream",
     "text": [
      "\n",
      "✓ Previous chunk 670 saved. Ledger updated.\n",
      "\n",
      "Submitting chunk 671 (50000 positions) for asynchronous saving...\n",
      "  Chunk 671 submitted. Main thread continues.\n",
      "  Total processed (optimistic): 33,650,000 positions\n",
      "  Progress: Line 39,280,121\n"
     ]
    },
    {
     "name": "stderr",
     "output_type": "stream",
     "text": [
      "Processing positions: 39300190lines [52:05, 972.75lines/s] "
     ]
    },
    {
     "name": "stdout",
     "output_type": "stream",
     "text": [
      "Progress checkpoint: Line 39,300,000, Found 2,917,057 valid positions this session.\n"
     ]
    },
    {
     "name": "stderr",
     "output_type": "stream",
     "text": [
      "Processing positions: 39338600lines [52:38, 904.53lines/s] "
     ]
    },
    {
     "name": "stdout",
     "output_type": "stream",
     "text": [
      "\n",
      "✓ Previous chunk 671 saved. Ledger updated.\n",
      "\n",
      "Submitting chunk 672 (50000 positions) for asynchronous saving...\n",
      "  Chunk 672 submitted. Main thread continues.\n",
      "  Total processed (optimistic): 33,700,000 positions\n",
      "  Progress: Line 39,338,582\n"
     ]
    },
    {
     "name": "stderr",
     "output_type": "stream",
     "text": [
      "Processing positions: 39396335lines [53:33, 1235.23lines/s]"
     ]
    },
    {
     "name": "stdout",
     "output_type": "stream",
     "text": [
      "\n",
      "✓ Previous chunk 672 saved. Ledger updated.\n",
      "\n",
      "Submitting chunk 673 (50000 positions) for asynchronous saving...\n",
      "  Chunk 673 submitted. Main thread continues.\n",
      "  Total processed (optimistic): 33,750,000 positions\n",
      "  Progress: Line 39,396,367\n"
     ]
    },
    {
     "name": "stderr",
     "output_type": "stream",
     "text": [
      "Processing positions: 39400072lines [53:38, 998.05lines/s] "
     ]
    },
    {
     "name": "stdout",
     "output_type": "stream",
     "text": [
      "Progress checkpoint: Line 39,400,000, Found 3,003,121 valid positions this session.\n"
     ]
    },
    {
     "name": "stderr",
     "output_type": "stream",
     "text": [
      "Processing positions: 39453822lines [54:28, 811.59lines/s] "
     ]
    },
    {
     "name": "stdout",
     "output_type": "stream",
     "text": [
      "\n",
      "✓ Previous chunk 673 saved. Ledger updated.\n",
      "\n",
      "Submitting chunk 674 (50000 positions) for asynchronous saving...\n",
      "  Chunk 674 submitted. Main thread continues.\n",
      "  Total processed (optimistic): 33,800,000 positions\n",
      "  Progress: Line 39,453,776\n"
     ]
    },
    {
     "name": "stderr",
     "output_type": "stream",
     "text": [
      "Processing positions: 39500129lines [55:14, 1170.01lines/s]"
     ]
    },
    {
     "name": "stdout",
     "output_type": "stream",
     "text": [
      "Progress checkpoint: Line 39,500,000, Found 3,090,678 valid positions this session.\n"
     ]
    },
    {
     "name": "stderr",
     "output_type": "stream",
     "text": [
      "Processing positions: 39510531lines [55:23, 1093.60lines/s]"
     ]
    },
    {
     "name": "stdout",
     "output_type": "stream",
     "text": [
      "\n",
      "✓ Previous chunk 674 saved. Ledger updated.\n",
      "\n",
      "Submitting chunk 675 (50000 positions) for asynchronous saving...\n",
      "  Chunk 675 submitted. Main thread continues.\n",
      "  Total processed (optimistic): 33,850,000 positions\n",
      "  Progress: Line 39,510,546\n"
     ]
    },
    {
     "name": "stderr",
     "output_type": "stream",
     "text": [
      "Processing positions: 39568531lines [56:18, 890.11lines/s] "
     ]
    },
    {
     "name": "stdout",
     "output_type": "stream",
     "text": [
      "\n",
      "✓ Previous chunk 675 saved. Ledger updated.\n",
      "\n",
      "Submitting chunk 676 (50000 positions) for asynchronous saving...\n",
      "  Chunk 676 submitted. Main thread continues.\n",
      "  Total processed (optimistic): 33,900,000 positions\n",
      "  Progress: Line 39,568,515\n"
     ]
    },
    {
     "name": "stderr",
     "output_type": "stream",
     "text": [
      "Processing positions: 39600120lines [56:50, 1064.17lines/s]"
     ]
    },
    {
     "name": "stdout",
     "output_type": "stream",
     "text": [
      "Progress checkpoint: Line 39,600,000, Found 3,177,163 valid positions this session.\n"
     ]
    },
    {
     "name": "stderr",
     "output_type": "stream",
     "text": [
      "Processing positions: 39626889lines [57:13, 1346.78lines/s]"
     ]
    },
    {
     "name": "stdout",
     "output_type": "stream",
     "text": [
      "\n",
      "✓ Previous chunk 676 saved. Ledger updated.\n",
      "\n",
      "Submitting chunk 677 (50000 positions) for asynchronous saving...\n",
      "  Chunk 677 submitted. Main thread continues.\n",
      "  Total processed (optimistic): 33,950,000 positions\n",
      "  Progress: Line 39,626,912\n"
     ]
    },
    {
     "name": "stderr",
     "output_type": "stream",
     "text": [
      "Processing positions: 39685323lines [58:10, 787.08lines/s] "
     ]
    },
    {
     "name": "stdout",
     "output_type": "stream",
     "text": [
      "\n",
      "✓ Previous chunk 677 saved. Ledger updated.\n",
      "\n",
      "Submitting chunk 678 (50000 positions) for asynchronous saving...\n",
      "  Chunk 678 submitted. Main thread continues.\n",
      "  Total processed (optimistic): 34,000,000 positions\n",
      "  Progress: Line 39,685,301\n"
     ]
    },
    {
     "name": "stderr",
     "output_type": "stream",
     "text": [
      "Processing positions: 39700095lines [58:27, 908.40lines/s] "
     ]
    },
    {
     "name": "stdout",
     "output_type": "stream",
     "text": [
      "Progress checkpoint: Line 39,700,000, Found 3,263,073 valid positions this session.\n"
     ]
    },
    {
     "name": "stderr",
     "output_type": "stream",
     "text": [
      "Processing positions: 39741862lines [59:04, 880.53lines/s] "
     ]
    },
    {
     "name": "stdout",
     "output_type": "stream",
     "text": [
      "\n",
      "✓ Previous chunk 678 saved. Ledger updated.\n",
      "\n",
      "Submitting chunk 679 (50000 positions) for asynchronous saving...\n",
      "  Chunk 679 submitted. Main thread continues.\n",
      "  Total processed (optimistic): 34,050,000 positions\n",
      "  Progress: Line 39,741,836\n"
     ]
    },
    {
     "name": "stderr",
     "output_type": "stream",
     "text": [
      "Processing positions: 39799173lines [59:57, 832.36lines/s] "
     ]
    },
    {
     "name": "stdout",
     "output_type": "stream",
     "text": [
      "\n",
      "✓ Previous chunk 679 saved. Ledger updated.\n",
      "\n",
      "Submitting chunk 680 (50000 positions) for asynchronous saving...\n",
      "  Chunk 680 submitted. Main thread continues.\n",
      "  Total processed (optimistic): 34,100,000 positions\n",
      "  Progress: Line 39,799,145\n"
     ]
    },
    {
     "name": "stderr",
     "output_type": "stream",
     "text": [
      "Processing positions: 39800072lines [59:59, 481.28lines/s]"
     ]
    },
    {
     "name": "stdout",
     "output_type": "stream",
     "text": [
      "Progress checkpoint: Line 39,800,000, Found 3,350,764 valid positions this session.\n"
     ]
    },
    {
     "name": "stderr",
     "output_type": "stream",
     "text": [
      "Processing positions: 39857234lines [1:00:53, 1235.72lines/s]"
     ]
    },
    {
     "name": "stdout",
     "output_type": "stream",
     "text": [
      "\n",
      "✓ Previous chunk 680 saved. Ledger updated.\n",
      "\n",
      "Submitting chunk 681 (50000 positions) for asynchronous saving...\n",
      "  Chunk 681 submitted. Main thread continues.\n",
      "  Total processed (optimistic): 34,150,000 positions\n",
      "  Progress: Line 39,857,244\n"
     ]
    },
    {
     "name": "stderr",
     "output_type": "stream",
     "text": [
      "Processing positions: 39900150lines [1:01:37, 1149.11lines/s]"
     ]
    },
    {
     "name": "stdout",
     "output_type": "stream",
     "text": [
      "Progress checkpoint: Line 39,900,000, Found 3,437,158 valid positions this session.\n"
     ]
    },
    {
     "name": "stderr",
     "output_type": "stream",
     "text": [
      "Processing positions: 39915170lines [1:01:49, 819.59lines/s] "
     ]
    },
    {
     "name": "stdout",
     "output_type": "stream",
     "text": [
      "\n",
      "✓ Previous chunk 681 saved. Ledger updated.\n",
      "\n",
      "Submitting chunk 682 (50000 positions) for asynchronous saving...\n",
      "  Chunk 682 submitted. Main thread continues.\n",
      "  Total processed (optimistic): 34,200,000 positions\n",
      "  Progress: Line 39,915,123\n"
     ]
    },
    {
     "name": "stderr",
     "output_type": "stream",
     "text": [
      "Processing positions: 39971805lines [1:02:44, 1182.43lines/s]"
     ]
    },
    {
     "name": "stdout",
     "output_type": "stream",
     "text": [
      "\n",
      "✓ Previous chunk 682 saved. Ledger updated.\n",
      "\n",
      "Submitting chunk 683 (50000 positions) for asynchronous saving...\n",
      "  Chunk 683 submitted. Main thread continues.\n",
      "  Total processed (optimistic): 34,250,000 positions\n",
      "  Progress: Line 39,971,819\n"
     ]
    },
    {
     "name": "stderr",
     "output_type": "stream",
     "text": [
      "Processing positions: 40000179lines [1:03:16, 1159.62lines/s]"
     ]
    },
    {
     "name": "stdout",
     "output_type": "stream",
     "text": [
      "Progress checkpoint: Line 40,000,000, Found 3,525,280 valid positions this session.\n"
     ]
    },
    {
     "name": "stderr",
     "output_type": "stream",
     "text": [
      "Processing positions: 40028088lines [1:03:40, 854.17lines/s] "
     ]
    },
    {
     "name": "stdout",
     "output_type": "stream",
     "text": [
      "\n",
      "✓ Previous chunk 683 saved. Ledger updated.\n",
      "\n",
      "Submitting chunk 684 (50000 positions) for asynchronous saving...\n",
      "  Chunk 684 submitted. Main thread continues.\n",
      "  Total processed (optimistic): 34,300,000 positions\n",
      "  Progress: Line 40,028,083\n"
     ]
    },
    {
     "name": "stderr",
     "output_type": "stream",
     "text": [
      "Processing positions: 40084598lines [1:04:37, 821.21lines/s] "
     ]
    },
    {
     "name": "stdout",
     "output_type": "stream",
     "text": [
      "\n",
      "✓ Previous chunk 684 saved. Ledger updated.\n",
      "\n",
      "Submitting chunk 685 (50000 positions) for asynchronous saving...\n",
      "  Chunk 685 submitted. Main thread continues.\n",
      "  Total processed (optimistic): 34,350,000 positions\n",
      "  Progress: Line 40,084,580\n"
     ]
    },
    {
     "name": "stderr",
     "output_type": "stream",
     "text": [
      "Processing positions: 40100103lines [1:04:55, 868.28lines/s] "
     ]
    },
    {
     "name": "stdout",
     "output_type": "stream",
     "text": [
      "Progress checkpoint: Line 40,100,000, Found 3,613,532 valid positions this session.\n"
     ]
    },
    {
     "name": "stderr",
     "output_type": "stream",
     "text": [
      "Processing positions: 40142039lines [1:05:33, 745.48lines/s] "
     ]
    },
    {
     "name": "stdout",
     "output_type": "stream",
     "text": [
      "\n",
      "✓ Previous chunk 685 saved. Ledger updated.\n",
      "\n",
      "Submitting chunk 686 (50000 positions) for asynchronous saving...\n",
      "  Chunk 686 submitted. Main thread continues.\n",
      "  Total processed (optimistic): 34,400,000 positions\n",
      "  Progress: Line 40,141,975\n"
     ]
    },
    {
     "name": "stderr",
     "output_type": "stream",
     "text": [
      "Processing positions: 40200089lines [1:06:29, 1141.86lines/s]"
     ]
    },
    {
     "name": "stdout",
     "output_type": "stream",
     "text": [
      "Progress checkpoint: Line 40,200,000, Found 3,699,578 valid positions this session.\n"
     ]
    },
    {
     "name": "stderr",
     "output_type": "stream",
     "text": [
      "Processing positions: 40200546lines [1:06:29, 757.93lines/s] "
     ]
    },
    {
     "name": "stdout",
     "output_type": "stream",
     "text": [
      "\n",
      "✓ Previous chunk 686 saved. Ledger updated.\n",
      "\n",
      "Submitting chunk 687 (50000 positions) for asynchronous saving...\n",
      "  Chunk 687 submitted. Main thread continues.\n",
      "  Total processed (optimistic): 34,450,000 positions\n",
      "  Progress: Line 40,200,498\n"
     ]
    },
    {
     "name": "stderr",
     "output_type": "stream",
     "text": [
      "Processing positions: 40257984lines [1:07:25, 1165.50lines/s]"
     ]
    },
    {
     "name": "stdout",
     "output_type": "stream",
     "text": [
      "\n",
      "✓ Previous chunk 687 saved. Ledger updated.\n",
      "\n",
      "Submitting chunk 688 (50000 positions) for asynchronous saving...\n",
      "  Chunk 688 submitted. Main thread continues.\n",
      "  Total processed (optimistic): 34,500,000 positions\n",
      "  Progress: Line 40,258,033\n"
     ]
    },
    {
     "name": "stderr",
     "output_type": "stream",
     "text": [
      "Processing positions: 40300096lines [1:08:06, 1238.98lines/s]"
     ]
    },
    {
     "name": "stdout",
     "output_type": "stream",
     "text": [
      "Progress checkpoint: Line 40,300,000, Found 3,786,553 valid positions this session.\n"
     ]
    },
    {
     "name": "stderr",
     "output_type": "stream",
     "text": [
      "Processing positions: 40315305lines [1:08:19, 1115.95lines/s]"
     ]
    },
    {
     "name": "stdout",
     "output_type": "stream",
     "text": [
      "\n",
      "✓ Previous chunk 688 saved. Ledger updated.\n",
      "\n",
      "Submitting chunk 689 (50000 positions) for asynchronous saving...\n",
      "  Chunk 689 submitted. Main thread continues.\n",
      "  Total processed (optimistic): 34,550,000 positions\n",
      "  Progress: Line 40,315,328\n"
     ]
    },
    {
     "name": "stderr",
     "output_type": "stream",
     "text": [
      "Processing positions: 40372167lines [1:09:14, 808.02lines/s] "
     ]
    },
    {
     "name": "stdout",
     "output_type": "stream",
     "text": [
      "\n",
      "✓ Previous chunk 689 saved. Ledger updated.\n",
      "\n",
      "Submitting chunk 690 (50000 positions) for asynchronous saving...\n",
      "  Chunk 690 submitted. Main thread continues.\n",
      "  Total processed (optimistic): 34,600,000 positions\n",
      "  Progress: Line 40,372,133\n"
     ]
    },
    {
     "name": "stderr",
     "output_type": "stream",
     "text": [
      "Processing positions: 40400193lines [1:09:47, 883.26lines/s] "
     ]
    },
    {
     "name": "stdout",
     "output_type": "stream",
     "text": [
      "Progress checkpoint: Line 40,400,000, Found 3,873,906 valid positions this session.\n"
     ]
    },
    {
     "name": "stderr",
     "output_type": "stream",
     "text": [
      "Processing positions: 40429746lines [1:10:21, 574.08lines/s] "
     ]
    },
    {
     "name": "stdout",
     "output_type": "stream",
     "text": [
      "\n",
      "✓ Previous chunk 690 saved. Ledger updated.\n",
      "\n",
      "Submitting chunk 691 (50000 positions) for asynchronous saving...\n",
      "  Chunk 691 submitted. Main thread continues.\n",
      "  Total processed (optimistic): 34,650,000 positions\n",
      "  Progress: Line 40,429,712\n"
     ]
    },
    {
     "name": "stderr",
     "output_type": "stream",
     "text": [
      "Processing positions: 40487491lines [1:11:16, 838.16lines/s] "
     ]
    },
    {
     "name": "stdout",
     "output_type": "stream",
     "text": [
      "\n",
      "✓ Previous chunk 691 saved. Ledger updated.\n",
      "\n",
      "Submitting chunk 692 (50000 positions) for asynchronous saving...\n",
      "  Chunk 692 submitted. Main thread continues.\n",
      "  Total processed (optimistic): 34,700,000 positions\n",
      "  Progress: Line 40,487,465\n"
     ]
    },
    {
     "name": "stderr",
     "output_type": "stream",
     "text": [
      "Processing positions: 40500088lines [1:11:31, 834.78lines/s] "
     ]
    },
    {
     "name": "stdout",
     "output_type": "stream",
     "text": [
      "Progress checkpoint: Line 40,500,000, Found 3,961,044 valid positions this session.\n"
     ]
    },
    {
     "name": "stderr",
     "output_type": "stream",
     "text": [
      "Processing positions: 40543871lines [1:12:11, 1101.28lines/s]"
     ]
    },
    {
     "name": "stdout",
     "output_type": "stream",
     "text": [
      "\n",
      "✓ Previous chunk 692 saved. Ledger updated.\n",
      "\n",
      "Submitting chunk 693 (50000 positions) for asynchronous saving...\n",
      "  Chunk 693 submitted. Main thread continues.\n",
      "  Total processed (optimistic): 34,750,000 positions\n",
      "  Progress: Line 40,543,874\n"
     ]
    },
    {
     "name": "stderr",
     "output_type": "stream",
     "text": [
      "Processing positions: 40600202lines [1:13:06, 1063.96lines/s]"
     ]
    },
    {
     "name": "stdout",
     "output_type": "stream",
     "text": [
      "Progress checkpoint: Line 40,600,000, Found 4,049,126 valid positions this session.\n"
     ]
    },
    {
     "name": "stderr",
     "output_type": "stream",
     "text": [
      "Processing positions: 40601038lines [1:13:07, 863.64lines/s] "
     ]
    },
    {
     "name": "stdout",
     "output_type": "stream",
     "text": [
      "\n",
      "✓ Previous chunk 693 saved. Ledger updated.\n",
      "\n",
      "Submitting chunk 694 (50000 positions) for asynchronous saving...\n",
      "  Chunk 694 submitted. Main thread continues.\n",
      "  Total processed (optimistic): 34,800,000 positions\n",
      "  Progress: Line 40,601,022\n"
     ]
    },
    {
     "name": "stderr",
     "output_type": "stream",
     "text": [
      "Processing positions: 40658385lines [1:14:03, 1173.39lines/s]"
     ]
    },
    {
     "name": "stdout",
     "output_type": "stream",
     "text": [
      "\n",
      "✓ Previous chunk 694 saved. Ledger updated.\n",
      "\n",
      "Submitting chunk 695 (50000 positions) for asynchronous saving...\n",
      "  Chunk 695 submitted. Main thread continues.\n",
      "  Total processed (optimistic): 34,850,000 positions\n",
      "  Progress: Line 40,658,390\n"
     ]
    },
    {
     "name": "stderr",
     "output_type": "stream",
     "text": [
      "Processing positions: 40700199lines [1:14:46, 1088.40lines/s]"
     ]
    },
    {
     "name": "stdout",
     "output_type": "stream",
     "text": [
      "Progress checkpoint: Line 40,700,000, Found 4,136,290 valid positions this session.\n"
     ]
    },
    {
     "name": "stderr",
     "output_type": "stream",
     "text": [
      "Processing positions: 40716120lines [1:14:59, 834.23lines/s] "
     ]
    },
    {
     "name": "stdout",
     "output_type": "stream",
     "text": [
      "\n",
      "✓ Previous chunk 695 saved. Ledger updated.\n",
      "\n",
      "Submitting chunk 696 (50000 positions) for asynchronous saving...\n",
      "  Chunk 696 submitted. Main thread continues.\n",
      "  Total processed (optimistic): 34,900,000 positions\n",
      "  Progress: Line 40,716,081\n"
     ]
    },
    {
     "name": "stderr",
     "output_type": "stream",
     "text": [
      "Processing positions: 40773395lines [1:15:55, 754.30lines/s] "
     ]
    },
    {
     "name": "stdout",
     "output_type": "stream",
     "text": [
      "\n",
      "✓ Previous chunk 696 saved. Ledger updated.\n",
      "\n",
      "Submitting chunk 697 (50000 positions) for asynchronous saving...\n",
      "  Chunk 697 submitted. Main thread continues.\n",
      "  Total processed (optimistic): 34,950,000 positions\n",
      "  Progress: Line 40,773,363\n"
     ]
    },
    {
     "name": "stderr",
     "output_type": "stream",
     "text": [
      "Processing positions: 40800135lines [1:16:23, 995.60lines/s] "
     ]
    },
    {
     "name": "stdout",
     "output_type": "stream",
     "text": [
      "Progress checkpoint: Line 40,800,000, Found 4,223,304 valid positions this session.\n"
     ]
    },
    {
     "name": "stderr",
     "output_type": "stream",
     "text": [
      "Processing positions: 40830981lines [1:16:49, 906.19lines/s] "
     ]
    },
    {
     "name": "stdout",
     "output_type": "stream",
     "text": [
      "\n",
      "✓ Previous chunk 697 saved. Ledger updated.\n",
      "\n",
      "Submitting chunk 698 (50000 positions) for asynchronous saving...\n",
      "  Chunk 698 submitted. Main thread continues.\n",
      "  Total processed (optimistic): 35,000,000 positions\n",
      "  Progress: Line 40,830,974\n"
     ]
    },
    {
     "name": "stderr",
     "output_type": "stream",
     "text": [
      "Processing positions: 40888330lines [1:17:43, 830.74lines/s] "
     ]
    },
    {
     "name": "stdout",
     "output_type": "stream",
     "text": [
      "\n",
      "✓ Previous chunk 698 saved. Ledger updated.\n",
      "\n",
      "Submitting chunk 699 (50000 positions) for asynchronous saving...\n",
      "  Chunk 699 submitted. Main thread continues.\n",
      "  Total processed (optimistic): 35,050,000 positions\n",
      "  Progress: Line 40,888,297\n"
     ]
    },
    {
     "name": "stderr",
     "output_type": "stream",
     "text": [
      "Processing positions: 40900077lines [1:17:57, 840.09lines/s] "
     ]
    },
    {
     "name": "stdout",
     "output_type": "stream",
     "text": [
      "Progress checkpoint: Line 40,900,000, Found 4,310,215 valid positions this session.\n"
     ]
    },
    {
     "name": "stderr",
     "output_type": "stream",
     "text": [
      "Processing positions: 40945691lines [1:18:38, 1250.84lines/s]"
     ]
    },
    {
     "name": "stdout",
     "output_type": "stream",
     "text": [
      "\n",
      "✓ Previous chunk 699 saved. Ledger updated.\n",
      "\n",
      "Submitting chunk 700 (50000 positions) for asynchronous saving...\n",
      "  Chunk 700 submitted. Main thread continues.\n",
      "  Total processed (optimistic): 35,100,000 positions\n",
      "  Progress: Line 40,945,746\n"
     ]
    },
    {
     "name": "stderr",
     "output_type": "stream",
     "text": [
      "Processing positions: 41000173lines [1:19:28, 1166.60lines/s]"
     ]
    },
    {
     "name": "stdout",
     "output_type": "stream",
     "text": [
      "Progress checkpoint: Line 41,000,000, Found 4,396,129 valid positions this session.\n"
     ]
    },
    {
     "name": "stderr",
     "output_type": "stream",
     "text": [
      "Processing positions: 41004453lines [1:19:32, 759.47lines/s] "
     ]
    },
    {
     "name": "stdout",
     "output_type": "stream",
     "text": [
      "\n",
      "✓ Previous chunk 700 saved. Ledger updated.\n",
      "\n",
      "Submitting chunk 701 (50000 positions) for asynchronous saving...\n",
      "  Chunk 701 submitted. Main thread continues.\n",
      "  Total processed (optimistic): 35,150,000 positions\n",
      "  Progress: Line 41,004,384\n"
     ]
    },
    {
     "name": "stderr",
     "output_type": "stream",
     "text": [
      "Processing positions: 41061907lines [1:20:26, 1206.84lines/s]"
     ]
    },
    {
     "name": "stdout",
     "output_type": "stream",
     "text": [
      "\n",
      "✓ Previous chunk 701 saved. Ledger updated.\n",
      "\n",
      "Submitting chunk 702 (50000 positions) for asynchronous saving...\n",
      "  Chunk 702 submitted. Main thread continues.\n",
      "  Total processed (optimistic): 35,200,000 positions\n",
      "  Progress: Line 41,061,933\n"
     ]
    },
    {
     "name": "stderr",
     "output_type": "stream",
     "text": [
      "Processing positions: 41100185lines [1:21:04, 1170.63lines/s]"
     ]
    },
    {
     "name": "stdout",
     "output_type": "stream",
     "text": [
      "Progress checkpoint: Line 41,100,000, Found 4,482,513 valid positions this session.\n"
     ]
    },
    {
     "name": "stderr",
     "output_type": "stream",
     "text": [
      "Processing positions: 41119846lines [1:21:21, 1062.31lines/s]"
     ]
    },
    {
     "name": "stdout",
     "output_type": "stream",
     "text": [
      "\n",
      "✓ Previous chunk 702 saved. Ledger updated.\n",
      "\n",
      "Submitting chunk 703 (50000 positions) for asynchronous saving...\n",
      "  Chunk 703 submitted. Main thread continues.\n",
      "  Total processed (optimistic): 35,250,000 positions\n",
      "  Progress: Line 41,119,875\n"
     ]
    },
    {
     "name": "stderr",
     "output_type": "stream",
     "text": [
      "Processing positions: 41176662lines [1:22:17, 841.54lines/s] "
     ]
    },
    {
     "name": "stdout",
     "output_type": "stream",
     "text": [
      "\n",
      "✓ Previous chunk 703 saved. Ledger updated.\n",
      "\n",
      "Submitting chunk 704 (50000 positions) for asynchronous saving...\n",
      "  Chunk 704 submitted. Main thread continues.\n",
      "  Total processed (optimistic): 35,300,000 positions\n",
      "  Progress: Line 41,176,639\n"
     ]
    },
    {
     "name": "stderr",
     "output_type": "stream",
     "text": [
      "Processing positions: 41200265lines [1:22:42, 1207.58lines/s]"
     ]
    },
    {
     "name": "stdout",
     "output_type": "stream",
     "text": [
      "Progress checkpoint: Line 41,200,000, Found 4,569,858 valid positions this session.\n"
     ]
    },
    {
     "name": "stderr",
     "output_type": "stream",
     "text": [
      "Processing positions: 41235531lines [1:23:12, 835.69lines/s] "
     ]
    },
    {
     "name": "stdout",
     "output_type": "stream",
     "text": [
      "\n",
      "✓ Previous chunk 704 saved. Ledger updated.\n",
      "\n",
      "Submitting chunk 705 (50000 positions) for asynchronous saving...\n",
      "  Chunk 705 submitted. Main thread continues.\n",
      "  Total processed (optimistic): 35,350,000 positions\n",
      "  Progress: Line 41,235,475\n"
     ]
    },
    {
     "name": "stderr",
     "output_type": "stream",
     "text": [
      "Processing positions: 41293457lines [1:24:06, 1152.22lines/s]"
     ]
    },
    {
     "name": "stdout",
     "output_type": "stream",
     "text": [
      "\n",
      "✓ Previous chunk 705 saved. Ledger updated.\n",
      "\n",
      "Submitting chunk 706 (50000 positions) for asynchronous saving...\n",
      "  Chunk 706 submitted. Main thread continues.\n",
      "  Total processed (optimistic): 35,400,000 positions\n",
      "  Progress: Line 41,293,506\n"
     ]
    },
    {
     "name": "stderr",
     "output_type": "stream",
     "text": [
      "Processing positions: 41300093lines [1:24:15, 792.46lines/s] "
     ]
    },
    {
     "name": "stdout",
     "output_type": "stream",
     "text": [
      "Progress checkpoint: Line 41,300,000, Found 4,655,516 valid positions this session.\n"
     ]
    },
    {
     "name": "stderr",
     "output_type": "stream",
     "text": [
      "Processing positions: 41350183lines [1:25:02, 961.66lines/s] "
     ]
    },
    {
     "name": "stdout",
     "output_type": "stream",
     "text": [
      "\n",
      "✓ Previous chunk 706 saved. Ledger updated.\n",
      "\n",
      "Submitting chunk 707 (50000 positions) for asynchronous saving...\n",
      "  Chunk 707 submitted. Main thread continues.\n",
      "  Total processed (optimistic): 35,450,000 positions\n",
      "  Progress: Line 41,350,183\n"
     ]
    },
    {
     "name": "stderr",
     "output_type": "stream",
     "text": [
      "Processing positions: 41400113lines [1:25:49, 1167.85lines/s]"
     ]
    },
    {
     "name": "stdout",
     "output_type": "stream",
     "text": [
      "Progress checkpoint: Line 41,400,000, Found 4,742,892 valid positions this session.\n"
     ]
    },
    {
     "name": "stderr",
     "output_type": "stream",
     "text": [
      "Processing positions: 41408312lines [1:25:56, 1177.48lines/s]"
     ]
    },
    {
     "name": "stdout",
     "output_type": "stream",
     "text": [
      "\n",
      "✓ Previous chunk 707 saved. Ledger updated.\n",
      "\n",
      "Submitting chunk 708 (50000 positions) for asynchronous saving...\n",
      "  Chunk 708 submitted. Main thread continues.\n",
      "  Total processed (optimistic): 35,500,000 positions\n",
      "  Progress: Line 41,408,343\n"
     ]
    },
    {
     "name": "stderr",
     "output_type": "stream",
     "text": [
      "Processing positions: 41466763lines [1:26:52, 828.88lines/s] "
     ]
    },
    {
     "name": "stdout",
     "output_type": "stream",
     "text": [
      "\n",
      "✓ Previous chunk 708 saved. Ledger updated.\n",
      "\n",
      "Submitting chunk 709 (50000 positions) for asynchronous saving...\n",
      "  Chunk 709 submitted. Main thread continues.\n",
      "  Total processed (optimistic): 35,550,000 positions\n",
      "  Progress: Line 41,466,744\n"
     ]
    },
    {
     "name": "stderr",
     "output_type": "stream",
     "text": [
      "Processing positions: 41500142lines [1:27:27, 1124.73lines/s]"
     ]
    },
    {
     "name": "stdout",
     "output_type": "stream",
     "text": [
      "Progress checkpoint: Line 41,500,000, Found 4,828,822 valid positions this session.\n"
     ]
    },
    {
     "name": "stderr",
     "output_type": "stream",
     "text": [
      "Processing positions: 41524380lines [1:27:48, 1202.52lines/s]"
     ]
    },
    {
     "name": "stdout",
     "output_type": "stream",
     "text": [
      "\n",
      "✓ Previous chunk 709 saved. Ledger updated.\n",
      "\n",
      "Submitting chunk 710 (50000 positions) for asynchronous saving...\n",
      "  Chunk 710 submitted. Main thread continues.\n",
      "  Total processed (optimistic): 35,600,000 positions\n",
      "  Progress: Line 41,524,405\n"
     ]
    },
    {
     "name": "stderr",
     "output_type": "stream",
     "text": [
      "Processing positions: 41582107lines [1:28:42, 858.71lines/s] "
     ]
    },
    {
     "name": "stdout",
     "output_type": "stream",
     "text": [
      "\n",
      "✓ Previous chunk 710 saved. Ledger updated.\n",
      "\n",
      "Submitting chunk 711 (50000 positions) for asynchronous saving...\n",
      "  Chunk 711 submitted. Main thread continues.\n",
      "  Total processed (optimistic): 35,650,000 positions\n",
      "  Progress: Line 41,582,106\n"
     ]
    },
    {
     "name": "stderr",
     "output_type": "stream",
     "text": [
      "Processing positions: 41600086lines [1:29:02, 941.21lines/s] "
     ]
    },
    {
     "name": "stdout",
     "output_type": "stream",
     "text": [
      "Progress checkpoint: Line 41,600,000, Found 4,915,655 valid positions this session.\n"
     ]
    },
    {
     "name": "stderr",
     "output_type": "stream",
     "text": [
      "Processing positions: 41639787lines [1:29:37, 822.37lines/s] "
     ]
    },
    {
     "name": "stdout",
     "output_type": "stream",
     "text": [
      "\n",
      "✓ Previous chunk 711 saved. Ledger updated.\n",
      "\n",
      "Submitting chunk 712 (50000 positions) for asynchronous saving...\n",
      "  Chunk 712 submitted. Main thread continues.\n",
      "  Total processed (optimistic): 35,700,000 positions\n",
      "  Progress: Line 41,639,763\n"
     ]
    },
    {
     "name": "stderr",
     "output_type": "stream",
     "text": [
      "Processing positions: 41697427lines [1:30:32, 869.30lines/s] "
     ]
    },
    {
     "name": "stdout",
     "output_type": "stream",
     "text": [
      "\n",
      "✓ Previous chunk 712 saved. Ledger updated.\n",
      "\n",
      "Submitting chunk 713 (50000 positions) for asynchronous saving...\n",
      "  Chunk 713 submitted. Main thread continues.\n",
      "  Total processed (optimistic): 35,750,000 positions\n",
      "  Progress: Line 41,697,395\n"
     ]
    },
    {
     "name": "stderr",
     "output_type": "stream",
     "text": [
      "Processing positions: 41700137lines [1:30:36, 970.32lines/s] "
     ]
    },
    {
     "name": "stdout",
     "output_type": "stream",
     "text": [
      "Progress checkpoint: Line 41,700,000, Found 5,002,148 valid positions this session.\n"
     ]
    },
    {
     "name": "stderr",
     "output_type": "stream",
     "text": [
      "Processing positions: 41756109lines [1:31:28, 1182.05lines/s]"
     ]
    },
    {
     "name": "stdout",
     "output_type": "stream",
     "text": [
      "\n",
      "✓ Previous chunk 713 saved. Ledger updated.\n",
      "\n",
      "Submitting chunk 714 (50000 positions) for asynchronous saving...\n",
      "  Chunk 714 submitted. Main thread continues.\n",
      "  Total processed (optimistic): 35,800,000 positions\n",
      "  Progress: Line 41,756,160\n"
     ]
    },
    {
     "name": "stderr",
     "output_type": "stream",
     "text": [
      "Processing positions: 41800132lines [1:32:12, 1064.78lines/s]"
     ]
    },
    {
     "name": "stdout",
     "output_type": "stream",
     "text": [
      "Progress checkpoint: Line 41,800,000, Found 5,088,311 valid positions this session.\n"
     ]
    },
    {
     "name": "stderr",
     "output_type": "stream",
     "text": [
      "Processing positions: 41813367lines [1:32:24, 1061.08lines/s]"
     ]
    },
    {
     "name": "stdout",
     "output_type": "stream",
     "text": [
      "\n",
      "✓ Previous chunk 714 saved. Ledger updated.\n",
      "\n",
      "Submitting chunk 715 (50000 positions) for asynchronous saving...\n",
      "  Chunk 715 submitted. Main thread continues.\n",
      "  Total processed (optimistic): 35,850,000 positions\n",
      "  Progress: Line 41,813,417\n"
     ]
    },
    {
     "name": "stderr",
     "output_type": "stream",
     "text": [
      "Processing positions: 41872145lines [1:33:20, 792.21lines/s] "
     ]
    },
    {
     "name": "stdout",
     "output_type": "stream",
     "text": [
      "\n",
      "✓ Previous chunk 715 saved. Ledger updated.\n",
      "\n",
      "Submitting chunk 716 (50000 positions) for asynchronous saving...\n",
      "  Chunk 716 submitted. Main thread continues.\n",
      "  Total processed (optimistic): 35,900,000 positions\n",
      "  Progress: Line 41,872,097\n"
     ]
    },
    {
     "name": "stderr",
     "output_type": "stream",
     "text": [
      "Processing positions: 41900180lines [1:33:49, 1317.09lines/s]"
     ]
    },
    {
     "name": "stdout",
     "output_type": "stream",
     "text": [
      "Progress checkpoint: Line 41,900,000, Found 5,174,079 valid positions this session.\n"
     ]
    },
    {
     "name": "stderr",
     "output_type": "stream",
     "text": [
      "Processing positions: 41930095lines [1:34:15, 1076.75lines/s]"
     ]
    },
    {
     "name": "stdout",
     "output_type": "stream",
     "text": [
      "\n",
      "✓ Previous chunk 716 saved. Ledger updated.\n",
      "\n",
      "Submitting chunk 717 (50000 positions) for asynchronous saving...\n",
      "  Chunk 717 submitted. Main thread continues.\n",
      "  Total processed (optimistic): 35,950,000 positions\n",
      "  Progress: Line 41,930,135\n"
     ]
    },
    {
     "name": "stderr",
     "output_type": "stream",
     "text": [
      "Processing positions: 41988561lines [1:35:11, 673.74lines/s] "
     ]
    },
    {
     "name": "stdout",
     "output_type": "stream",
     "text": [
      "\n",
      "✓ Previous chunk 717 saved. Ledger updated.\n",
      "\n",
      "Submitting chunk 718 (50000 positions) for asynchronous saving...\n",
      "  Chunk 718 submitted. Main thread continues.\n",
      "  Total processed (optimistic): 36,000,000 positions\n",
      "  Progress: Line 41,988,504\n"
     ]
    },
    {
     "name": "stderr",
     "output_type": "stream",
     "text": [
      "Processing positions: 42000109lines [1:35:25, 851.89lines/s] "
     ]
    },
    {
     "name": "stdout",
     "output_type": "stream",
     "text": [
      "Progress checkpoint: Line 42,000,000, Found 5,260,139 valid positions this session.\n"
     ]
    },
    {
     "name": "stderr",
     "output_type": "stream",
     "text": [
      "Processing positions: 42046219lines [1:36:07, 707.10lines/s] "
     ]
    },
    {
     "name": "stdout",
     "output_type": "stream",
     "text": [
      "\n",
      "✓ Previous chunk 718 saved. Ledger updated.\n",
      "\n",
      "Submitting chunk 719 (50000 positions) for asynchronous saving...\n",
      "  Chunk 719 submitted. Main thread continues.\n",
      "  Total processed (optimistic): 36,050,000 positions\n",
      "  Progress: Line 42,046,173\n"
     ]
    },
    {
     "name": "stderr",
     "output_type": "stream",
     "text": [
      "Processing positions: 42100213lines [1:37:00, 1168.94lines/s]"
     ]
    },
    {
     "name": "stdout",
     "output_type": "stream",
     "text": [
      "Progress checkpoint: Line 42,100,000, Found 5,346,682 valid positions this session.\n"
     ]
    },
    {
     "name": "stderr",
     "output_type": "stream",
     "text": [
      "Processing positions: 42103744lines [1:37:04, 1185.63lines/s]"
     ]
    },
    {
     "name": "stdout",
     "output_type": "stream",
     "text": [
      "\n",
      "✓ Previous chunk 719 saved. Ledger updated.\n",
      "\n",
      "Submitting chunk 720 (50000 positions) for asynchronous saving...\n",
      "  Chunk 720 submitted. Main thread continues.\n",
      "  Total processed (optimistic): 36,100,000 positions\n",
      "  Progress: Line 42,103,776\n"
     ]
    },
    {
     "name": "stderr",
     "output_type": "stream",
     "text": [
      "Processing positions: 42161981lines [1:38:00, 876.26lines/s] "
     ]
    },
    {
     "name": "stdout",
     "output_type": "stream",
     "text": [
      "\n",
      "✓ Previous chunk 720 saved. Ledger updated.\n",
      "\n",
      "Submitting chunk 721 (50000 positions) for asynchronous saving...\n",
      "  Chunk 721 submitted. Main thread continues.\n",
      "  Total processed (optimistic): 36,150,000 positions\n",
      "  Progress: Line 42,161,972\n"
     ]
    },
    {
     "name": "stderr",
     "output_type": "stream",
     "text": [
      "Processing positions: 42200175lines [1:38:41, 1026.80lines/s]"
     ]
    },
    {
     "name": "stdout",
     "output_type": "stream",
     "text": [
      "Progress checkpoint: Line 42,200,000, Found 5,433,270 valid positions this session.\n"
     ]
    },
    {
     "name": "stderr",
     "output_type": "stream",
     "text": [
      "Processing positions: 42219063lines [1:38:59, 1105.64lines/s]"
     ]
    },
    {
     "name": "stdout",
     "output_type": "stream",
     "text": [
      "\n",
      "✓ Previous chunk 721 saved. Ledger updated.\n",
      "\n",
      "Submitting chunk 722 (50000 positions) for asynchronous saving...\n",
      "  Chunk 722 submitted. Main thread continues.\n",
      "  Total processed (optimistic): 36,200,000 positions\n",
      "  Progress: Line 42,219,064\n"
     ]
    },
    {
     "name": "stderr",
     "output_type": "stream",
     "text": [
      "Processing positions: 42277240lines [1:39:58, 737.73lines/s] "
     ]
    },
    {
     "name": "stdout",
     "output_type": "stream",
     "text": [
      "\n",
      "✓ Previous chunk 722 saved. Ledger updated.\n",
      "\n",
      "Submitting chunk 723 (50000 positions) for asynchronous saving...\n",
      "  Chunk 723 submitted. Main thread continues.\n",
      "  Total processed (optimistic): 36,250,000 positions\n",
      "  Progress: Line 42,277,219\n"
     ]
    },
    {
     "name": "stderr",
     "output_type": "stream",
     "text": [
      "Processing positions: 42300142lines [1:40:25, 1184.09lines/s]"
     ]
    },
    {
     "name": "stdout",
     "output_type": "stream",
     "text": [
      "Progress checkpoint: Line 42,300,000, Found 5,519,387 valid positions this session.\n"
     ]
    },
    {
     "name": "stderr",
     "output_type": "stream",
     "text": [
      "Processing positions: 42335652lines [1:40:56, 1108.46lines/s]"
     ]
    },
    {
     "name": "stdout",
     "output_type": "stream",
     "text": [
      "\n",
      "✓ Previous chunk 723 saved. Ledger updated.\n",
      "\n",
      "Submitting chunk 724 (50000 positions) for asynchronous saving...\n",
      "  Chunk 724 submitted. Main thread continues.\n",
      "  Total processed (optimistic): 36,300,000 positions\n",
      "  Progress: Line 42,335,654\n"
     ]
    },
    {
     "name": "stderr",
     "output_type": "stream",
     "text": [
      "Processing positions: 42393461lines [1:41:56, 628.43lines/s] "
     ]
    },
    {
     "name": "stdout",
     "output_type": "stream",
     "text": [
      "\n",
      "✓ Previous chunk 724 saved. Ledger updated.\n",
      "\n",
      "Submitting chunk 725 (50000 positions) for asynchronous saving...\n",
      "  Chunk 725 submitted. Main thread continues.\n",
      "  Total processed (optimistic): 36,350,000 positions\n",
      "  Progress: Line 42,393,406\n"
     ]
    },
    {
     "name": "stderr",
     "output_type": "stream",
     "text": [
      "Processing positions: 42400192lines [1:42:03, 1281.52lines/s]"
     ]
    },
    {
     "name": "stdout",
     "output_type": "stream",
     "text": [
      "Progress checkpoint: Line 42,400,000, Found 5,605,817 valid positions this session.\n"
     ]
    },
    {
     "name": "stderr",
     "output_type": "stream",
     "text": [
      "Processing positions: 42451144lines [1:42:50, 1117.93lines/s]"
     ]
    },
    {
     "name": "stdout",
     "output_type": "stream",
     "text": [
      "\n",
      "✓ Previous chunk 725 saved. Ledger updated.\n",
      "\n",
      "Submitting chunk 726 (50000 positions) for asynchronous saving...\n",
      "  Chunk 726 submitted. Main thread continues.\n",
      "  Total processed (optimistic): 36,400,000 positions\n",
      "  Progress: Line 42,451,158\n"
     ]
    },
    {
     "name": "stderr",
     "output_type": "stream",
     "text": [
      "Processing positions: 42500156lines [1:43:40, 1081.45lines/s]"
     ]
    },
    {
     "name": "stdout",
     "output_type": "stream",
     "text": [
      "Progress checkpoint: Line 42,500,000, Found 5,691,541 valid positions this session.\n"
     ]
    },
    {
     "name": "stderr",
     "output_type": "stream",
     "text": [
      "Processing positions: 42510088lines [1:43:49, 806.59lines/s] "
     ]
    },
    {
     "name": "stdout",
     "output_type": "stream",
     "text": [
      "\n",
      "✓ Previous chunk 726 saved. Ledger updated.\n",
      "\n",
      "Submitting chunk 727 (50000 positions) for asynchronous saving...\n",
      "  Chunk 727 submitted. Main thread continues.\n",
      "  Total processed (optimistic): 36,450,000 positions\n",
      "  Progress: Line 42,510,035\n"
     ]
    },
    {
     "name": "stderr",
     "output_type": "stream",
     "text": [
      "Processing positions: 42568961lines [1:44:47, 1107.53lines/s]"
     ]
    },
    {
     "name": "stdout",
     "output_type": "stream",
     "text": [
      "\n",
      "✓ Previous chunk 727 saved. Ledger updated.\n",
      "\n",
      "Submitting chunk 728 (50000 positions) for asynchronous saving...\n",
      "  Chunk 728 submitted. Main thread continues.\n",
      "  Total processed (optimistic): 36,500,000 positions\n",
      "  Progress: Line 42,568,963\n"
     ]
    },
    {
     "name": "stderr",
     "output_type": "stream",
     "text": [
      "Processing positions: 42600093lines [1:45:22, 1130.33lines/s]"
     ]
    },
    {
     "name": "stdout",
     "output_type": "stream",
     "text": [
      "Progress checkpoint: Line 42,600,000, Found 5,777,244 valid positions this session.\n"
     ]
    },
    {
     "name": "stderr",
     "output_type": "stream",
     "text": [
      "Processing positions: 42626056lines [1:45:45, 735.98lines/s] "
     ]
    },
    {
     "name": "stdout",
     "output_type": "stream",
     "text": [
      "\n",
      "✓ Previous chunk 728 saved. Ledger updated.\n",
      "\n",
      "Submitting chunk 729 (50000 positions) for asynchronous saving...\n",
      "  Chunk 729 submitted. Main thread continues.\n",
      "  Total processed (optimistic): 36,550,000 positions\n",
      "  Progress: Line 42,626,042\n"
     ]
    },
    {
     "name": "stderr",
     "output_type": "stream",
     "text": [
      "Processing positions: 42683305lines [1:46:42, 840.40lines/s] "
     ]
    },
    {
     "name": "stdout",
     "output_type": "stream",
     "text": [
      "\n",
      "✓ Previous chunk 729 saved. Ledger updated.\n",
      "\n",
      "Submitting chunk 730 (50000 positions) for asynchronous saving...\n",
      "  Chunk 730 submitted. Main thread continues.\n",
      "  Total processed (optimistic): 36,600,000 positions\n",
      "  Progress: Line 42,683,305\n"
     ]
    },
    {
     "name": "stderr",
     "output_type": "stream",
     "text": [
      "Processing positions: 42700143lines [1:47:03, 901.14lines/s] "
     ]
    },
    {
     "name": "stdout",
     "output_type": "stream",
     "text": [
      "Progress checkpoint: Line 42,700,000, Found 5,864,574 valid positions this session.\n"
     ]
    },
    {
     "name": "stderr",
     "output_type": "stream",
     "text": [
      "Processing positions: 42740845lines [1:47:40, 853.08lines/s] "
     ]
    },
    {
     "name": "stdout",
     "output_type": "stream",
     "text": [
      "\n",
      "✓ Previous chunk 730 saved. Ledger updated.\n",
      "\n",
      "Submitting chunk 731 (50000 positions) for asynchronous saving...\n",
      "  Chunk 731 submitted. Main thread continues.\n",
      "  Total processed (optimistic): 36,650,000 positions\n",
      "  Progress: Line 42,740,819\n"
     ]
    },
    {
     "name": "stderr",
     "output_type": "stream",
     "text": [
      "Processing positions: 42798328lines [1:48:38, 1190.24lines/s]"
     ]
    },
    {
     "name": "stdout",
     "output_type": "stream",
     "text": [
      "\n",
      "✓ Previous chunk 731 saved. Ledger updated.\n",
      "\n",
      "Submitting chunk 732 (50000 positions) for asynchronous saving...\n",
      "  Chunk 732 submitted. Main thread continues.\n",
      "  Total processed (optimistic): 36,700,000 positions\n",
      "  Progress: Line 42,798,381\n"
     ]
    },
    {
     "name": "stderr",
     "output_type": "stream",
     "text": [
      "Processing positions: 42800111lines [1:48:42, 853.61lines/s] "
     ]
    },
    {
     "name": "stdout",
     "output_type": "stream",
     "text": [
      "Progress checkpoint: Line 42,800,000, Found 5,951,420 valid positions this session.\n"
     ]
    },
    {
     "name": "stderr",
     "output_type": "stream",
     "text": [
      "Processing positions: 42855945lines [1:49:37, 772.60lines/s] "
     ]
    },
    {
     "name": "stdout",
     "output_type": "stream",
     "text": [
      "\n",
      "✓ Previous chunk 732 saved. Ledger updated.\n",
      "\n",
      "Submitting chunk 733 (50000 positions) for asynchronous saving...\n",
      "  Chunk 733 submitted. Main thread continues.\n",
      "  Total processed (optimistic): 36,750,000 positions\n",
      "  Progress: Line 42,855,895\n"
     ]
    },
    {
     "name": "stderr",
     "output_type": "stream",
     "text": [
      "Processing positions: 42900163lines [1:50:22, 1088.93lines/s]"
     ]
    },
    {
     "name": "stdout",
     "output_type": "stream",
     "text": [
      "Progress checkpoint: Line 42,900,000, Found 6,037,652 valid positions this session.\n"
     ]
    },
    {
     "name": "stderr",
     "output_type": "stream",
     "text": [
      "Processing positions: 42914230lines [1:50:35, 725.63lines/s] "
     ]
    },
    {
     "name": "stdout",
     "output_type": "stream",
     "text": [
      "\n",
      "✓ Previous chunk 733 saved. Ledger updated.\n",
      "\n",
      "Submitting chunk 734 (50000 positions) for asynchronous saving...\n",
      "  Chunk 734 submitted. Main thread continues.\n",
      "  Total processed (optimistic): 36,800,000 positions\n",
      "  Progress: Line 42,914,169\n"
     ]
    },
    {
     "name": "stderr",
     "output_type": "stream",
     "text": [
      "Processing positions: 42972370lines [1:51:33, 853.65lines/s] "
     ]
    },
    {
     "name": "stdout",
     "output_type": "stream",
     "text": [
      "\n",
      "✓ Previous chunk 734 saved. Ledger updated.\n",
      "\n",
      "Submitting chunk 735 (50000 positions) for asynchronous saving...\n",
      "  Chunk 735 submitted. Main thread continues.\n",
      "  Total processed (optimistic): 36,850,000 positions\n",
      "  Progress: Line 42,972,370\n"
     ]
    },
    {
     "name": "stderr",
     "output_type": "stream",
     "text": [
      "Processing positions: 43000125lines [1:52:04, 1112.24lines/s]"
     ]
    },
    {
     "name": "stdout",
     "output_type": "stream",
     "text": [
      "Progress checkpoint: Line 43,000,000, Found 6,123,758 valid positions this session.\n"
     ]
    },
    {
     "name": "stderr",
     "output_type": "stream",
     "text": [
      "Processing positions: 43030388lines [1:52:31, 1087.48lines/s]"
     ]
    },
    {
     "name": "stdout",
     "output_type": "stream",
     "text": [
      "\n",
      "✓ Previous chunk 735 saved. Ledger updated.\n",
      "\n",
      "Submitting chunk 736 (50000 positions) for asynchronous saving...\n",
      "  Chunk 736 submitted. Main thread continues.\n",
      "  Total processed (optimistic): 36,900,000 positions\n",
      "  Progress: Line 43,030,399\n"
     ]
    },
    {
     "name": "stderr",
     "output_type": "stream",
     "text": [
      "Processing positions: 43088099lines [1:53:23, 849.78lines/s] "
     ]
    },
    {
     "name": "stdout",
     "output_type": "stream",
     "text": [
      "\n",
      "✓ Previous chunk 736 saved. Ledger updated.\n",
      "\n",
      "Submitting chunk 737 (50000 positions) for asynchronous saving...\n",
      "  Chunk 737 submitted. Main thread continues.\n",
      "  Total processed (optimistic): 36,950,000 positions\n",
      "  Progress: Line 43,087,982\n"
     ]
    },
    {
     "name": "stderr",
     "output_type": "stream",
     "text": [
      "Processing positions: 43100155lines [1:53:33, 1223.37lines/s]"
     ]
    },
    {
     "name": "stdout",
     "output_type": "stream",
     "text": [
      "Progress checkpoint: Line 43,100,000, Found 6,210,482 valid positions this session.\n"
     ]
    },
    {
     "name": "stderr",
     "output_type": "stream",
     "text": [
      "Processing positions: 43145450lines [1:54:09, 941.66lines/s] "
     ]
    },
    {
     "name": "stdout",
     "output_type": "stream",
     "text": [
      "\n",
      "✓ Previous chunk 737 saved. Ledger updated.\n",
      "\n",
      "Submitting chunk 738 (50000 positions) for asynchronous saving...\n",
      "  Chunk 738 submitted. Main thread continues.\n",
      "  Total processed (optimistic): 37,000,000 positions\n",
      "  Progress: Line 43,145,381\n"
     ]
    },
    {
     "name": "stderr",
     "output_type": "stream",
     "text": [
      "Processing positions: 43200178lines [1:54:54, 1192.57lines/s]"
     ]
    },
    {
     "name": "stdout",
     "output_type": "stream",
     "text": [
      "Progress checkpoint: Line 43,200,000, Found 6,297,968 valid positions this session.\n"
     ]
    },
    {
     "name": "stderr",
     "output_type": "stream",
     "text": [
      "Processing positions: 43202412lines [1:54:56, 860.68lines/s] "
     ]
    },
    {
     "name": "stdout",
     "output_type": "stream",
     "text": [
      "\n",
      "✓ Previous chunk 738 saved. Ledger updated.\n",
      "\n",
      "Submitting chunk 739 (50000 positions) for asynchronous saving...\n",
      "  Chunk 739 submitted. Main thread continues.\n",
      "  Total processed (optimistic): 37,050,000 positions\n",
      "  Progress: Line 43,202,306\n"
     ]
    },
    {
     "name": "stderr",
     "output_type": "stream",
     "text": [
      "Processing positions: 43259905lines [1:55:44, 858.36lines/s] "
     ]
    },
    {
     "name": "stdout",
     "output_type": "stream",
     "text": [
      "\n",
      "✓ Previous chunk 739 saved. Ledger updated.\n",
      "\n",
      "Submitting chunk 740 (50000 positions) for asynchronous saving...\n",
      "  Chunk 740 submitted. Main thread continues.\n",
      "  Total processed (optimistic): 37,100,000 positions\n",
      "  Progress: Line 43,259,874\n"
     ]
    },
    {
     "name": "stderr",
     "output_type": "stream",
     "text": [
      "Processing positions: 43300169lines [1:56:17, 1148.73lines/s]"
     ]
    },
    {
     "name": "stdout",
     "output_type": "stream",
     "text": [
      "Progress checkpoint: Line 43,300,000, Found 6,385,051 valid positions this session.\n"
     ]
    },
    {
     "name": "stderr",
     "output_type": "stream",
     "text": [
      "Processing positions: 43317077lines [1:56:31, 953.52lines/s] "
     ]
    },
    {
     "name": "stdout",
     "output_type": "stream",
     "text": [
      "\n",
      "✓ Previous chunk 740 saved. Ledger updated.\n",
      "\n",
      "Submitting chunk 741 (50000 positions) for asynchronous saving...\n",
      "  Chunk 741 submitted. Main thread continues.\n",
      "  Total processed (optimistic): 37,150,000 positions\n",
      "  Progress: Line 43,317,034\n"
     ]
    },
    {
     "name": "stderr",
     "output_type": "stream",
     "text": [
      "Processing positions: 43375934lines [1:57:18, 955.81lines/s] "
     ]
    },
    {
     "name": "stdout",
     "output_type": "stream",
     "text": [
      "\n",
      "✓ Previous chunk 741 saved. Ledger updated.\n",
      "\n",
      "Submitting chunk 742 (50000 positions) for asynchronous saving...\n",
      "  Chunk 742 submitted. Main thread continues.\n",
      "  Total processed (optimistic): 37,200,000 positions\n",
      "  Progress: Line 43,375,897\n"
     ]
    },
    {
     "name": "stderr",
     "output_type": "stream",
     "text": [
      "Processing positions: 43400115lines [1:57:38, 1216.37lines/s]"
     ]
    },
    {
     "name": "stdout",
     "output_type": "stream",
     "text": [
      "Progress checkpoint: Line 43,400,000, Found 6,470,709 valid positions this session.\n"
     ]
    },
    {
     "name": "stderr",
     "output_type": "stream",
     "text": [
      "Processing positions: 43433329lines [1:58:05, 1008.50lines/s]"
     ]
    },
    {
     "name": "stdout",
     "output_type": "stream",
     "text": [
      "\n",
      "✓ Previous chunk 742 saved. Ledger updated.\n",
      "\n",
      "Submitting chunk 743 (50000 positions) for asynchronous saving...\n",
      "  Chunk 743 submitted. Main thread continues.\n",
      "  Total processed (optimistic): 37,250,000 positions\n",
      "  Progress: Line 43,433,329\n"
     ]
    },
    {
     "name": "stderr",
     "output_type": "stream",
     "text": [
      "Processing positions: 43491494lines [1:58:52, 915.66lines/s] "
     ]
    },
    {
     "name": "stdout",
     "output_type": "stream",
     "text": [
      "\n",
      "✓ Previous chunk 743 saved. Ledger updated.\n",
      "\n",
      "Submitting chunk 744 (50000 positions) for asynchronous saving...\n",
      "  Chunk 744 submitted. Main thread continues.\n",
      "  Total processed (optimistic): 37,300,000 positions\n",
      "  Progress: Line 43,491,482\n"
     ]
    },
    {
     "name": "stderr",
     "output_type": "stream",
     "text": [
      "Processing positions: 43500182lines [1:59:00, 1158.65lines/s]"
     ]
    },
    {
     "name": "stdout",
     "output_type": "stream",
     "text": [
      "Progress checkpoint: Line 43,500,000, Found 6,557,406 valid positions this session.\n"
     ]
    },
    {
     "name": "stderr",
     "output_type": "stream",
     "text": [
      "Processing positions: 43548637lines [1:59:39, 1194.05lines/s]"
     ]
    },
    {
     "name": "stdout",
     "output_type": "stream",
     "text": [
      "\n",
      "✓ Previous chunk 744 saved. Ledger updated.\n",
      "\n",
      "Submitting chunk 745 (50000 positions) for asynchronous saving...\n",
      "  Chunk 745 submitted. Main thread continues.\n",
      "  Total processed (optimistic): 37,350,000 positions\n",
      "  Progress: Line 43,548,647\n"
     ]
    },
    {
     "name": "stderr",
     "output_type": "stream",
     "text": [
      "Processing positions: 43600207lines [2:00:21, 1298.33lines/s]"
     ]
    },
    {
     "name": "stdout",
     "output_type": "stream",
     "text": [
      "Progress checkpoint: Line 43,600,000, Found 6,645,021 valid positions this session.\n"
     ]
    },
    {
     "name": "stderr",
     "output_type": "stream",
     "text": [
      "Processing positions: 43605550lines [2:00:26, 1240.10lines/s]"
     ]
    },
    {
     "name": "stdout",
     "output_type": "stream",
     "text": [
      "\n",
      "✓ Previous chunk 745 saved. Ledger updated.\n",
      "\n",
      "Submitting chunk 746 (50000 positions) for asynchronous saving...\n",
      "  Chunk 746 submitted. Main thread continues.\n",
      "  Total processed (optimistic): 37,400,000 positions\n",
      "  Progress: Line 43,605,574\n"
     ]
    },
    {
     "name": "stderr",
     "output_type": "stream",
     "text": [
      "Processing positions: 43662397lines [2:01:12, 854.34lines/s] "
     ]
    },
    {
     "name": "stdout",
     "output_type": "stream",
     "text": [
      "\n",
      "✓ Previous chunk 746 saved. Ledger updated.\n",
      "\n",
      "Submitting chunk 747 (50000 positions) for asynchronous saving...\n",
      "  Chunk 747 submitted. Main thread continues.\n",
      "  Total processed (optimistic): 37,450,000 positions\n",
      "  Progress: Line 43,662,359\n"
     ]
    },
    {
     "name": "stderr",
     "output_type": "stream",
     "text": [
      "Processing positions: 43700242lines [2:01:43, 1252.28lines/s]"
     ]
    },
    {
     "name": "stdout",
     "output_type": "stream",
     "text": [
      "Progress checkpoint: Line 43,700,000, Found 6,733,511 valid positions this session.\n"
     ]
    },
    {
     "name": "stderr",
     "output_type": "stream",
     "text": [
      "Processing positions: 43718653lines [2:01:58, 883.88lines/s] "
     ]
    },
    {
     "name": "stdout",
     "output_type": "stream",
     "text": [
      "\n",
      "✓ Previous chunk 747 saved. Ledger updated.\n",
      "\n",
      "Submitting chunk 748 (50000 positions) for asynchronous saving...\n",
      "  Chunk 748 submitted. Main thread continues.\n",
      "  Total processed (optimistic): 37,500,000 positions\n",
      "  Progress: Line 43,718,550\n"
     ]
    },
    {
     "name": "stderr",
     "output_type": "stream",
     "text": [
      "Processing positions: 43774982lines [2:02:45, 865.84lines/s] "
     ]
    },
    {
     "name": "stdout",
     "output_type": "stream",
     "text": [
      "\n",
      "✓ Previous chunk 748 saved. Ledger updated.\n",
      "\n",
      "Submitting chunk 749 (50000 positions) for asynchronous saving...\n",
      "  Chunk 749 submitted. Main thread continues.\n",
      "  Total processed (optimistic): 37,550,000 positions\n",
      "  Progress: Line 43,774,896\n"
     ]
    },
    {
     "name": "stderr",
     "output_type": "stream",
     "text": [
      "Processing positions: 43800236lines [2:03:07, 1364.39lines/s]"
     ]
    },
    {
     "name": "stdout",
     "output_type": "stream",
     "text": [
      "Progress checkpoint: Line 43,800,000, Found 6,822,207 valid positions this session.\n"
     ]
    },
    {
     "name": "stderr",
     "output_type": "stream",
     "text": [
      "Processing positions: 43832774lines [2:03:32, 1027.37lines/s]"
     ]
    },
    {
     "name": "stdout",
     "output_type": "stream",
     "text": [
      "\n",
      "✓ Previous chunk 749 saved. Ledger updated.\n",
      "\n",
      "Submitting chunk 750 (50000 positions) for asynchronous saving...\n",
      "  Chunk 750 submitted. Main thread continues.\n",
      "  Total processed (optimistic): 37,600,000 positions\n",
      "  Progress: Line 43,832,709\n"
     ]
    },
    {
     "name": "stderr",
     "output_type": "stream",
     "text": [
      "Processing positions: 43891369lines [2:04:20, 863.00lines/s] "
     ]
    },
    {
     "name": "stdout",
     "output_type": "stream",
     "text": [
      "\n",
      "✓ Previous chunk 750 saved. Ledger updated.\n",
      "\n",
      "Submitting chunk 751 (50000 positions) for asynchronous saving...\n",
      "  Chunk 751 submitted. Main thread continues.\n",
      "  Total processed (optimistic): 37,650,000 positions\n",
      "  Progress: Line 43,891,299\n"
     ]
    },
    {
     "name": "stderr",
     "output_type": "stream",
     "text": [
      "Processing positions: 43900157lines [2:04:27, 1195.70lines/s]"
     ]
    },
    {
     "name": "stdout",
     "output_type": "stream",
     "text": [
      "Progress checkpoint: Line 43,900,000, Found 6,907,716 valid positions this session.\n"
     ]
    },
    {
     "name": "stderr",
     "output_type": "stream",
     "text": [
      "Processing positions: 43948566lines [2:05:07, 854.88lines/s] "
     ]
    },
    {
     "name": "stdout",
     "output_type": "stream",
     "text": [
      "\n",
      "✓ Previous chunk 751 saved. Ledger updated.\n",
      "\n",
      "Submitting chunk 752 (50000 positions) for asynchronous saving...\n",
      "  Chunk 752 submitted. Main thread continues.\n",
      "  Total processed (optimistic): 37,700,000 positions\n",
      "  Progress: Line 43,948,515\n"
     ]
    },
    {
     "name": "stderr",
     "output_type": "stream",
     "text": [
      "Processing positions: 44000117lines [2:05:49, 1221.64lines/s]"
     ]
    },
    {
     "name": "stdout",
     "output_type": "stream",
     "text": [
      "Progress checkpoint: Line 44,000,000, Found 6,995,113 valid positions this session.\n"
     ]
    },
    {
     "name": "stderr",
     "output_type": "stream",
     "text": [
      "Processing positions: 44005474lines [2:05:53, 902.25lines/s] "
     ]
    },
    {
     "name": "stdout",
     "output_type": "stream",
     "text": [
      "\n",
      "✓ Previous chunk 752 saved. Ledger updated.\n",
      "\n",
      "Submitting chunk 753 (50000 positions) for asynchronous saving...\n",
      "  Chunk 753 submitted. Main thread continues.\n",
      "  Total processed (optimistic): 37,750,000 positions\n",
      "  Progress: Line 44,005,439\n"
     ]
    },
    {
     "name": "stderr",
     "output_type": "stream",
     "text": [
      "Processing positions: 44063938lines [2:06:40, 870.79lines/s] "
     ]
    },
    {
     "name": "stdout",
     "output_type": "stream",
     "text": [
      "\n",
      "✓ Previous chunk 753 saved. Ledger updated.\n",
      "\n",
      "Submitting chunk 754 (50000 positions) for asynchronous saving...\n",
      "  Chunk 754 submitted. Main thread continues.\n",
      "  Total processed (optimistic): 37,800,000 positions\n",
      "  Progress: Line 44,063,867\n"
     ]
    },
    {
     "name": "stderr",
     "output_type": "stream",
     "text": [
      "Processing positions: 44100152lines [2:07:10, 1228.82lines/s]"
     ]
    },
    {
     "name": "stdout",
     "output_type": "stream",
     "text": [
      "Progress checkpoint: Line 44,100,000, Found 7,081,861 valid positions this session.\n"
     ]
    },
    {
     "name": "stderr",
     "output_type": "stream",
     "text": [
      "Processing positions: 44120631lines [2:07:27, 880.76lines/s] "
     ]
    },
    {
     "name": "stdout",
     "output_type": "stream",
     "text": [
      "\n",
      "✓ Previous chunk 754 saved. Ledger updated.\n",
      "\n",
      "Submitting chunk 755 (50000 positions) for asynchronous saving...\n",
      "  Chunk 755 submitted. Main thread continues.\n",
      "  Total processed (optimistic): 37,850,000 positions\n",
      "  Progress: Line 44,120,619\n"
     ]
    },
    {
     "name": "stderr",
     "output_type": "stream",
     "text": [
      "Processing positions: 44177220lines [2:08:13, 887.71lines/s] "
     ]
    },
    {
     "name": "stdout",
     "output_type": "stream",
     "text": [
      "\n",
      "✓ Previous chunk 755 saved. Ledger updated.\n",
      "\n",
      "Submitting chunk 756 (50000 positions) for asynchronous saving...\n",
      "  Chunk 756 submitted. Main thread continues.\n",
      "  Total processed (optimistic): 37,900,000 positions\n",
      "  Progress: Line 44,177,200\n"
     ]
    },
    {
     "name": "stderr",
     "output_type": "stream",
     "text": [
      "Processing positions: 44200161lines [2:08:32, 1315.61lines/s]"
     ]
    },
    {
     "name": "stdout",
     "output_type": "stream",
     "text": [
      "Progress checkpoint: Line 44,200,000, Found 7,169,838 valid positions this session.\n"
     ]
    },
    {
     "name": "stderr",
     "output_type": "stream",
     "text": [
      "Processing positions: 44234507lines [2:09:00, 821.87lines/s] "
     ]
    },
    {
     "name": "stdout",
     "output_type": "stream",
     "text": [
      "\n",
      "✓ Previous chunk 756 saved. Ledger updated.\n",
      "\n",
      "Submitting chunk 757 (50000 positions) for asynchronous saving...\n",
      "  Chunk 757 submitted. Main thread continues.\n",
      "  Total processed (optimistic): 37,950,000 positions\n",
      "  Progress: Line 44,234,424\n"
     ]
    },
    {
     "name": "stderr",
     "output_type": "stream",
     "text": [
      "Processing positions: 44290978lines [2:09:46, 898.59lines/s] "
     ]
    },
    {
     "name": "stdout",
     "output_type": "stream",
     "text": [
      "\n",
      "✓ Previous chunk 757 saved. Ledger updated.\n",
      "\n",
      "Submitting chunk 758 (50000 positions) for asynchronous saving...\n",
      "  Chunk 758 submitted. Main thread continues.\n",
      "  Total processed (optimistic): 38,000,000 positions\n",
      "  Progress: Line 44,290,894\n"
     ]
    },
    {
     "name": "stderr",
     "output_type": "stream",
     "text": [
      "Processing positions: 44300242lines [2:09:54, 1268.01lines/s]"
     ]
    },
    {
     "name": "stdout",
     "output_type": "stream",
     "text": [
      "Progress checkpoint: Line 44,300,000, Found 7,258,107 valid positions this session.\n"
     ]
    },
    {
     "name": "stderr",
     "output_type": "stream",
     "text": [
      "Processing positions: 44347604lines [2:10:33, 925.48lines/s] "
     ]
    },
    {
     "name": "stdout",
     "output_type": "stream",
     "text": [
      "\n",
      "✓ Previous chunk 758 saved. Ledger updated.\n",
      "\n",
      "Submitting chunk 759 (50000 positions) for asynchronous saving...\n",
      "  Chunk 759 submitted. Main thread continues.\n",
      "  Total processed (optimistic): 38,050,000 positions\n",
      "  Progress: Line 44,347,527\n"
     ]
    },
    {
     "name": "stderr",
     "output_type": "stream",
     "text": [
      "Processing positions: 44400248lines [2:11:17, 1200.10lines/s]"
     ]
    },
    {
     "name": "stdout",
     "output_type": "stream",
     "text": [
      "Progress checkpoint: Line 44,400,000, Found 7,345,968 valid positions this session.\n"
     ]
    },
    {
     "name": "stderr",
     "output_type": "stream",
     "text": [
      "Processing positions: 44404612lines [2:11:21, 833.85lines/s] "
     ]
    },
    {
     "name": "stdout",
     "output_type": "stream",
     "text": [
      "\n",
      "✓ Previous chunk 759 saved. Ledger updated.\n",
      "\n",
      "Submitting chunk 760 (50000 positions) for asynchronous saving...\n",
      "  Chunk 760 submitted. Main thread continues.\n",
      "  Total processed (optimistic): 38,100,000 positions\n",
      "  Progress: Line 44,404,549\n"
     ]
    },
    {
     "name": "stderr",
     "output_type": "stream",
     "text": [
      "Processing positions: 44461761lines [2:12:08, 1279.21lines/s]"
     ]
    },
    {
     "name": "stdout",
     "output_type": "stream",
     "text": [
      "\n",
      "✓ Previous chunk 760 saved. Ledger updated.\n",
      "\n",
      "Submitting chunk 761 (50000 positions) for asynchronous saving...\n",
      "  Chunk 761 submitted. Main thread continues.\n",
      "  Total processed (optimistic): 38,150,000 positions\n",
      "  Progress: Line 44,461,765\n"
     ]
    },
    {
     "name": "stderr",
     "output_type": "stream",
     "text": [
      "Processing positions: 44500178lines [2:12:40, 1202.12lines/s]"
     ]
    },
    {
     "name": "stdout",
     "output_type": "stream",
     "text": [
      "Progress checkpoint: Line 44,500,000, Found 7,433,583 valid positions this session.\n"
     ]
    },
    {
     "name": "stderr",
     "output_type": "stream",
     "text": [
      "Processing positions: 44518373lines [2:12:55, 891.22lines/s] "
     ]
    },
    {
     "name": "stdout",
     "output_type": "stream",
     "text": [
      "\n",
      "✓ Previous chunk 761 saved. Ledger updated.\n",
      "\n",
      "Submitting chunk 762 (50000 positions) for asynchronous saving...\n",
      "  Chunk 762 submitted. Main thread continues.\n",
      "  Total processed (optimistic): 38,200,000 positions\n",
      "  Progress: Line 44,518,314\n"
     ]
    },
    {
     "name": "stderr",
     "output_type": "stream",
     "text": [
      "Processing positions: 44576250lines [2:13:42, 841.87lines/s] "
     ]
    },
    {
     "name": "stdout",
     "output_type": "stream",
     "text": [
      "\n",
      "✓ Previous chunk 762 saved. Ledger updated.\n",
      "\n",
      "Submitting chunk 763 (50000 positions) for asynchronous saving...\n",
      "  Chunk 763 submitted. Main thread continues.\n",
      "  Total processed (optimistic): 38,250,000 positions\n",
      "  Progress: Line 44,576,152\n"
     ]
    },
    {
     "name": "stderr",
     "output_type": "stream",
     "text": [
      "Processing positions: 44600206lines [2:14:02, 1257.92lines/s]"
     ]
    },
    {
     "name": "stdout",
     "output_type": "stream",
     "text": [
      "Progress checkpoint: Line 44,600,000, Found 7,520,916 valid positions this session.\n"
     ]
    },
    {
     "name": "stderr",
     "output_type": "stream",
     "text": [
      "Processing positions: 44633250lines [2:14:29, 869.41lines/s] "
     ]
    },
    {
     "name": "stdout",
     "output_type": "stream",
     "text": [
      "\n",
      "✓ Previous chunk 763 saved. Ledger updated.\n",
      "\n",
      "Submitting chunk 764 (50000 positions) for asynchronous saving...\n",
      "  Chunk 764 submitted. Main thread continues.\n",
      "  Total processed (optimistic): 38,300,000 positions\n",
      "  Progress: Line 44,633,187\n"
     ]
    },
    {
     "name": "stderr",
     "output_type": "stream",
     "text": [
      "Processing positions: 44689865lines [2:15:16, 912.11lines/s] "
     ]
    },
    {
     "name": "stdout",
     "output_type": "stream",
     "text": [
      "\n",
      "✓ Previous chunk 764 saved. Ledger updated.\n",
      "\n",
      "Submitting chunk 765 (50000 positions) for asynchronous saving...\n",
      "  Chunk 765 submitted. Main thread continues.\n",
      "  Total processed (optimistic): 38,350,000 positions\n",
      "  Progress: Line 44,689,802\n"
     ]
    },
    {
     "name": "stderr",
     "output_type": "stream",
     "text": [
      "Processing positions: 44700157lines [2:15:25, 1191.68lines/s]"
     ]
    },
    {
     "name": "stdout",
     "output_type": "stream",
     "text": [
      "Progress checkpoint: Line 44,700,000, Found 7,608,786 valid positions this session.\n"
     ]
    },
    {
     "name": "stderr",
     "output_type": "stream",
     "text": [
      "Processing positions: 44747165lines [2:16:03, 881.93lines/s] "
     ]
    },
    {
     "name": "stdout",
     "output_type": "stream",
     "text": [
      "\n",
      "✓ Previous chunk 765 saved. Ledger updated.\n",
      "\n",
      "Submitting chunk 766 (50000 positions) for asynchronous saving...\n",
      "  Chunk 766 submitted. Main thread continues.\n",
      "  Total processed (optimistic): 38,400,000 positions\n",
      "  Progress: Line 44,747,103\n"
     ]
    },
    {
     "name": "stderr",
     "output_type": "stream",
     "text": [
      "Processing positions: 44800248lines [2:16:46, 1255.51lines/s]"
     ]
    },
    {
     "name": "stdout",
     "output_type": "stream",
     "text": [
      "Progress checkpoint: Line 44,800,000, Found 7,696,866 valid positions this session.\n"
     ]
    },
    {
     "name": "stderr",
     "output_type": "stream",
     "text": [
      "Processing positions: 44803629lines [2:16:49, 1243.33lines/s]"
     ]
    },
    {
     "name": "stdout",
     "output_type": "stream",
     "text": [
      "\n",
      "✓ Previous chunk 766 saved. Ledger updated.\n",
      "\n",
      "Submitting chunk 767 (50000 positions) for asynchronous saving...\n",
      "  Chunk 767 submitted. Main thread continues.\n",
      "  Total processed (optimistic): 38,450,000 positions\n",
      "  Progress: Line 44,803,634\n"
     ]
    },
    {
     "name": "stderr",
     "output_type": "stream",
     "text": [
      "Processing positions: 44860678lines [2:17:36, 816.19lines/s] "
     ]
    },
    {
     "name": "stdout",
     "output_type": "stream",
     "text": [
      "\n",
      "✓ Previous chunk 767 saved. Ledger updated.\n",
      "\n",
      "Submitting chunk 768 (50000 positions) for asynchronous saving...\n",
      "  Chunk 768 submitted. Main thread continues.\n",
      "  Total processed (optimistic): 38,500,000 positions\n",
      "  Progress: Line 44,860,628\n"
     ]
    },
    {
     "name": "stderr",
     "output_type": "stream",
     "text": [
      "Processing positions: 44900130lines [2:18:09, 1202.57lines/s]"
     ]
    },
    {
     "name": "stdout",
     "output_type": "stream",
     "text": [
      "Progress checkpoint: Line 44,900,000, Found 7,784,456 valid positions this session.\n"
     ]
    },
    {
     "name": "stderr",
     "output_type": "stream",
     "text": [
      "Processing positions: 44917788lines [2:18:23, 939.51lines/s] "
     ]
    },
    {
     "name": "stdout",
     "output_type": "stream",
     "text": [
      "\n",
      "✓ Previous chunk 768 saved. Ledger updated.\n",
      "\n",
      "Submitting chunk 769 (50000 positions) for asynchronous saving...\n",
      "  Chunk 769 submitted. Main thread continues.\n",
      "  Total processed (optimistic): 38,550,000 positions\n",
      "  Progress: Line 44,917,718\n"
     ]
    },
    {
     "name": "stderr",
     "output_type": "stream",
     "text": [
      "Processing positions: 44975668lines [2:19:10, 836.58lines/s] "
     ]
    },
    {
     "name": "stdout",
     "output_type": "stream",
     "text": [
      "\n",
      "✓ Previous chunk 769 saved. Ledger updated.\n",
      "\n",
      "Submitting chunk 770 (50000 positions) for asynchronous saving...\n",
      "  Chunk 770 submitted. Main thread continues.\n",
      "  Total processed (optimistic): 38,600,000 positions\n",
      "  Progress: Line 44,975,574\n"
     ]
    },
    {
     "name": "stderr",
     "output_type": "stream",
     "text": [
      "Processing positions: 45000169lines [2:19:30, 1187.43lines/s]"
     ]
    },
    {
     "name": "stdout",
     "output_type": "stream",
     "text": [
      "Progress checkpoint: Line 45,000,000, Found 7,870,945 valid positions this session.\n"
     ]
    },
    {
     "name": "stderr",
     "output_type": "stream",
     "text": [
      "Processing positions: 45033501lines [2:19:57, 918.58lines/s] "
     ]
    },
    {
     "name": "stdout",
     "output_type": "stream",
     "text": [
      "\n",
      "✓ Previous chunk 770 saved. Ledger updated.\n",
      "\n",
      "Submitting chunk 771 (50000 positions) for asynchronous saving...\n",
      "  Chunk 771 submitted. Main thread continues.\n",
      "  Total processed (optimistic): 38,650,000 positions\n",
      "  Progress: Line 45,033,447\n"
     ]
    },
    {
     "name": "stderr",
     "output_type": "stream",
     "text": [
      "Processing positions: 45090428lines [2:20:44, 902.06lines/s] "
     ]
    },
    {
     "name": "stdout",
     "output_type": "stream",
     "text": [
      "\n",
      "✓ Previous chunk 771 saved. Ledger updated.\n",
      "\n",
      "Submitting chunk 772 (50000 positions) for asynchronous saving...\n",
      "  Chunk 772 submitted. Main thread continues.\n",
      "  Total processed (optimistic): 38,700,000 positions\n",
      "  Progress: Line 45,090,412\n"
     ]
    },
    {
     "name": "stderr",
     "output_type": "stream",
     "text": [
      "Processing positions: 45100123lines [2:20:53, 1293.42lines/s]"
     ]
    },
    {
     "name": "stdout",
     "output_type": "stream",
     "text": [
      "Progress checkpoint: Line 45,100,000, Found 7,958,477 valid positions this session.\n"
     ]
    },
    {
     "name": "stderr",
     "output_type": "stream",
     "text": [
      "Processing positions: 45147862lines [2:21:31, 860.43lines/s] "
     ]
    },
    {
     "name": "stdout",
     "output_type": "stream",
     "text": [
      "\n",
      "✓ Previous chunk 772 saved. Ledger updated.\n",
      "\n",
      "Submitting chunk 773 (50000 positions) for asynchronous saving...\n",
      "  Chunk 773 submitted. Main thread continues.\n",
      "  Total processed (optimistic): 38,750,000 positions\n",
      "  Progress: Line 45,147,814\n"
     ]
    },
    {
     "name": "stderr",
     "output_type": "stream",
     "text": [
      "Processing positions: 45200181lines [2:22:14, 1242.96lines/s]"
     ]
    },
    {
     "name": "stdout",
     "output_type": "stream",
     "text": [
      "Progress checkpoint: Line 45,200,000, Found 8,045,955 valid positions this session.\n"
     ]
    },
    {
     "name": "stderr",
     "output_type": "stream",
     "text": [
      "Processing positions: 45204756lines [2:22:18, 933.40lines/s] "
     ]
    },
    {
     "name": "stdout",
     "output_type": "stream",
     "text": [
      "\n",
      "✓ Previous chunk 773 saved. Ledger updated.\n",
      "\n",
      "Submitting chunk 774 (50000 positions) for asynchronous saving...\n",
      "  Chunk 774 submitted. Main thread continues.\n",
      "  Total processed (optimistic): 38,800,000 positions\n",
      "  Progress: Line 45,204,645\n"
     ]
    },
    {
     "name": "stderr",
     "output_type": "stream",
     "text": [
      "Processing positions: 45261811lines [2:23:05, 842.34lines/s] "
     ]
    },
    {
     "name": "stdout",
     "output_type": "stream",
     "text": [
      "\n",
      "✓ Previous chunk 774 saved. Ledger updated.\n",
      "\n",
      "Submitting chunk 775 (50000 positions) for asynchronous saving...\n",
      "  Chunk 775 submitted. Main thread continues.\n",
      "  Total processed (optimistic): 38,850,000 positions\n",
      "  Progress: Line 45,261,733\n"
     ]
    },
    {
     "name": "stderr",
     "output_type": "stream",
     "text": [
      "Processing positions: 45300252lines [2:23:36, 1218.93lines/s]"
     ]
    },
    {
     "name": "stdout",
     "output_type": "stream",
     "text": [
      "Progress checkpoint: Line 45,300,000, Found 8,133,629 valid positions this session.\n"
     ]
    },
    {
     "name": "stderr",
     "output_type": "stream",
     "text": [
      "Processing positions: 45318867lines [2:23:51, 929.83lines/s] "
     ]
    },
    {
     "name": "stdout",
     "output_type": "stream",
     "text": [
      "\n",
      "✓ Previous chunk 775 saved. Ledger updated.\n",
      "\n",
      "Submitting chunk 776 (50000 positions) for asynchronous saving...\n",
      "  Chunk 776 submitted. Main thread continues.\n",
      "  Total processed (optimistic): 38,900,000 positions\n",
      "  Progress: Line 45,318,752\n"
     ]
    },
    {
     "name": "stderr",
     "output_type": "stream",
     "text": [
      "Processing positions: 45376068lines [2:24:37, 990.46lines/s] "
     ]
    },
    {
     "name": "stdout",
     "output_type": "stream",
     "text": [
      "\n",
      "✓ Previous chunk 776 saved. Ledger updated.\n",
      "\n",
      "Submitting chunk 777 (50000 positions) for asynchronous saving...\n",
      "  Chunk 777 submitted. Main thread continues.\n",
      "  Total processed (optimistic): 38,950,000 positions\n",
      "  Progress: Line 45,376,068\n"
     ]
    },
    {
     "name": "stderr",
     "output_type": "stream",
     "text": [
      "Processing positions: 45400201lines [2:24:57, 1195.46lines/s]"
     ]
    },
    {
     "name": "stdout",
     "output_type": "stream",
     "text": [
      "Progress checkpoint: Line 45,400,000, Found 8,221,058 valid positions this session.\n"
     ]
    },
    {
     "name": "stderr",
     "output_type": "stream",
     "text": [
      "Processing positions: 45433107lines [2:25:24, 1295.34lines/s]"
     ]
    },
    {
     "name": "stdout",
     "output_type": "stream",
     "text": [
      "\n",
      "✓ Previous chunk 777 saved. Ledger updated.\n",
      "\n",
      "Submitting chunk 778 (50000 positions) for asynchronous saving...\n",
      "  Chunk 778 submitted. Main thread continues.\n",
      "  Total processed (optimistic): 39,000,000 positions\n",
      "  Progress: Line 45,433,117\n"
     ]
    },
    {
     "name": "stderr",
     "output_type": "stream",
     "text": [
      "Processing positions: 45491101lines [2:26:12, 969.80lines/s] "
     ]
    },
    {
     "name": "stdout",
     "output_type": "stream",
     "text": [
      "\n",
      "✓ Previous chunk 778 saved. Ledger updated.\n",
      "\n",
      "Submitting chunk 779 (50000 positions) for asynchronous saving...\n",
      "  Chunk 779 submitted. Main thread continues.\n",
      "  Total processed (optimistic): 39,050,000 positions\n",
      "  Progress: Line 45,491,078\n"
     ]
    },
    {
     "name": "stderr",
     "output_type": "stream",
     "text": [
      "Processing positions: 45500141lines [2:26:19, 1176.29lines/s]"
     ]
    },
    {
     "name": "stdout",
     "output_type": "stream",
     "text": [
      "Progress checkpoint: Line 45,500,000, Found 8,307,528 valid positions this session.\n"
     ]
    },
    {
     "name": "stderr",
     "output_type": "stream",
     "text": [
      "Processing positions: 45548870lines [2:26:59, 877.27lines/s] "
     ]
    },
    {
     "name": "stdout",
     "output_type": "stream",
     "text": [
      "\n",
      "✓ Previous chunk 779 saved. Ledger updated.\n",
      "\n",
      "Submitting chunk 780 (50000 positions) for asynchronous saving...\n",
      "  Chunk 780 submitted. Main thread continues.\n",
      "  Total processed (optimistic): 39,100,000 positions\n",
      "  Progress: Line 45,548,813\n"
     ]
    },
    {
     "name": "stderr",
     "output_type": "stream",
     "text": [
      "Processing positions: 45600218lines [2:27:41, 1200.83lines/s]"
     ]
    },
    {
     "name": "stdout",
     "output_type": "stream",
     "text": [
      "Progress checkpoint: Line 45,600,000, Found 8,394,758 valid positions this session.\n"
     ]
    },
    {
     "name": "stderr",
     "output_type": "stream",
     "text": [
      "Processing positions: 45606156lines [2:27:46, 920.53lines/s] "
     ]
    },
    {
     "name": "stdout",
     "output_type": "stream",
     "text": [
      "\n",
      "✓ Previous chunk 780 saved. Ledger updated.\n",
      "\n",
      "Submitting chunk 781 (50000 positions) for asynchronous saving...\n",
      "  Chunk 781 submitted. Main thread continues.\n",
      "  Total processed (optimistic): 39,150,000 positions\n",
      "  Progress: Line 45,606,086\n"
     ]
    },
    {
     "name": "stderr",
     "output_type": "stream",
     "text": [
      "Processing positions: 45663643lines [2:28:33, 1278.22lines/s]"
     ]
    },
    {
     "name": "stdout",
     "output_type": "stream",
     "text": [
      "\n",
      "✓ Previous chunk 781 saved. Ledger updated.\n",
      "\n",
      "Submitting chunk 782 (50000 positions) for asynchronous saving...\n",
      "  Chunk 782 submitted. Main thread continues.\n",
      "  Total processed (optimistic): 39,200,000 positions\n",
      "  Progress: Line 45,663,652\n"
     ]
    },
    {
     "name": "stderr",
     "output_type": "stream",
     "text": [
      "Processing positions: 45700179lines [2:29:03, 1120.04lines/s]"
     ]
    },
    {
     "name": "stdout",
     "output_type": "stream",
     "text": [
      "Progress checkpoint: Line 45,700,000, Found 8,482,090 valid positions this session.\n"
     ]
    },
    {
     "name": "stderr",
     "output_type": "stream",
     "text": [
      "Processing positions: 45720489lines [2:29:20, 905.80lines/s] "
     ]
    },
    {
     "name": "stdout",
     "output_type": "stream",
     "text": [
      "\n",
      "✓ Previous chunk 782 saved. Ledger updated.\n",
      "\n",
      "Submitting chunk 783 (50000 positions) for asynchronous saving...\n",
      "  Chunk 783 submitted. Main thread continues.\n",
      "  Total processed (optimistic): 39,250,000 positions\n",
      "  Progress: Line 45,720,374\n"
     ]
    },
    {
     "name": "stderr",
     "output_type": "stream",
     "text": [
      "Processing positions: 45777747lines [2:30:07, 960.71lines/s] "
     ]
    },
    {
     "name": "stdout",
     "output_type": "stream",
     "text": [
      "\n",
      "✓ Previous chunk 783 saved. Ledger updated.\n",
      "\n",
      "Submitting chunk 784 (50000 positions) for asynchronous saving...\n",
      "  Chunk 784 submitted. Main thread continues.\n",
      "  Total processed (optimistic): 39,300,000 positions\n",
      "  Progress: Line 45,777,744\n"
     ]
    },
    {
     "name": "stderr",
     "output_type": "stream",
     "text": [
      "Processing positions: 45800144lines [2:30:25, 1242.34lines/s]"
     ]
    },
    {
     "name": "stdout",
     "output_type": "stream",
     "text": [
      "Progress checkpoint: Line 45,800,000, Found 8,569,428 valid positions this session.\n"
     ]
    },
    {
     "name": "stderr",
     "output_type": "stream",
     "text": [
      "Processing positions: 45834867lines [2:30:54, 930.69lines/s] "
     ]
    },
    {
     "name": "stdout",
     "output_type": "stream",
     "text": [
      "\n",
      "✓ Previous chunk 784 saved. Ledger updated.\n",
      "\n",
      "Submitting chunk 785 (50000 positions) for asynchronous saving...\n",
      "  Chunk 785 submitted. Main thread continues.\n",
      "  Total processed (optimistic): 39,350,000 positions\n",
      "  Progress: Line 45,834,863\n"
     ]
    },
    {
     "name": "stderr",
     "output_type": "stream",
     "text": [
      "Processing positions: 45893383lines [2:31:39, 1063.21lines/s]"
     ]
    },
    {
     "name": "stdout",
     "output_type": "stream",
     "text": [
      "\n",
      "✓ Previous chunk 785 saved. Ledger updated.\n",
      "\n",
      "Submitting chunk 786 (50000 positions) for asynchronous saving...\n",
      "  Chunk 786 submitted. Main thread continues.\n",
      "  Total processed (optimistic): 39,400,000 positions\n",
      "  Progress: Line 45,893,315\n"
     ]
    },
    {
     "name": "stderr",
     "output_type": "stream",
     "text": [
      "Processing positions: 45900188lines [2:31:45, 1328.06lines/s]"
     ]
    },
    {
     "name": "stdout",
     "output_type": "stream",
     "text": [
      "Progress checkpoint: Line 45,900,000, Found 8,655,434 valid positions this session.\n"
     ]
    },
    {
     "name": "stderr",
     "output_type": "stream",
     "text": [
      "Processing positions: 45952692lines [2:32:25, 922.07lines/s] "
     ]
    },
    {
     "name": "stdout",
     "output_type": "stream",
     "text": [
      "\n",
      "✓ Previous chunk 786 saved. Ledger updated.\n",
      "\n",
      "Submitting chunk 787 (50000 positions) for asynchronous saving...\n",
      "  Chunk 787 submitted. Main thread continues.\n",
      "  Total processed (optimistic): 39,450,000 positions\n",
      "  Progress: Line 45,952,647\n"
     ]
    },
    {
     "name": "stderr",
     "output_type": "stream",
     "text": [
      "Processing positions: 46000134lines [2:33:05, 1202.76lines/s]"
     ]
    },
    {
     "name": "stdout",
     "output_type": "stream",
     "text": [
      "Progress checkpoint: Line 46,000,000, Found 8,741,477 valid positions this session.\n"
     ]
    },
    {
     "name": "stderr",
     "output_type": "stream",
     "text": [
      "Processing positions: 46009908lines [2:33:13, 882.76lines/s] "
     ]
    },
    {
     "name": "stdout",
     "output_type": "stream",
     "text": [
      "\n",
      "✓ Previous chunk 787 saved. Ledger updated.\n",
      "\n",
      "Submitting chunk 788 (50000 positions) for asynchronous saving...\n",
      "  Chunk 788 submitted. Main thread continues.\n",
      "  Total processed (optimistic): 39,500,000 positions\n",
      "  Progress: Line 46,009,804\n"
     ]
    },
    {
     "name": "stderr",
     "output_type": "stream",
     "text": [
      "Processing positions: 46067636lines [2:33:59, 950.23lines/s] "
     ]
    },
    {
     "name": "stdout",
     "output_type": "stream",
     "text": [
      "\n",
      "✓ Previous chunk 788 saved. Ledger updated.\n",
      "\n",
      "Submitting chunk 789 (50000 positions) for asynchronous saving...\n",
      "  Chunk 789 submitted. Main thread continues.\n",
      "  Total processed (optimistic): 39,550,000 positions\n",
      "  Progress: Line 46,067,549\n"
     ]
    },
    {
     "name": "stderr",
     "output_type": "stream",
     "text": [
      "Processing positions: 46100198lines [2:34:26, 1206.71lines/s]"
     ]
    },
    {
     "name": "stdout",
     "output_type": "stream",
     "text": [
      "Progress checkpoint: Line 46,100,000, Found 8,827,855 valid positions this session.\n"
     ]
    },
    {
     "name": "stderr",
     "output_type": "stream",
     "text": [
      "Processing positions: 46126261lines [2:34:46, 1043.81lines/s]"
     ]
    },
    {
     "name": "stdout",
     "output_type": "stream",
     "text": [
      "\n",
      "✓ Previous chunk 789 saved. Ledger updated.\n",
      "\n",
      "Submitting chunk 790 (50000 positions) for asynchronous saving...\n",
      "  Chunk 790 submitted. Main thread continues.\n",
      "  Total processed (optimistic): 39,600,000 positions\n",
      "  Progress: Line 46,126,249\n"
     ]
    },
    {
     "name": "stderr",
     "output_type": "stream",
     "text": [
      "Processing positions: 46184719lines [2:35:33, 851.90lines/s] "
     ]
    },
    {
     "name": "stdout",
     "output_type": "stream",
     "text": [
      "\n",
      "✓ Previous chunk 790 saved. Ledger updated.\n",
      "\n",
      "Submitting chunk 791 (50000 positions) for asynchronous saving...\n",
      "  Chunk 791 submitted. Main thread continues.\n",
      "  Total processed (optimistic): 39,650,000 positions\n",
      "  Progress: Line 46,184,619\n"
     ]
    },
    {
     "name": "stderr",
     "output_type": "stream",
     "text": [
      "Processing positions: 46200189lines [2:35:47, 1220.28lines/s]"
     ]
    },
    {
     "name": "stdout",
     "output_type": "stream",
     "text": [
      "Progress checkpoint: Line 46,200,000, Found 8,913,782 valid positions this session.\n"
     ]
    },
    {
     "name": "stderr",
     "output_type": "stream",
     "text": [
      "Processing positions: 46241488lines [2:36:20, 993.41lines/s] "
     ]
    },
    {
     "name": "stdout",
     "output_type": "stream",
     "text": [
      "\n",
      "✓ Previous chunk 791 saved. Ledger updated.\n",
      "\n",
      "Submitting chunk 792 (50000 positions) for asynchronous saving...\n",
      "  Chunk 792 submitted. Main thread continues.\n",
      "  Total processed (optimistic): 39,700,000 positions\n",
      "  Progress: Line 46,241,474\n"
     ]
    },
    {
     "name": "stderr",
     "output_type": "stream",
     "text": [
      "Processing positions: 46299359lines [2:37:08, 929.32lines/s] "
     ]
    },
    {
     "name": "stdout",
     "output_type": "stream",
     "text": [
      "\n",
      "✓ Previous chunk 792 saved. Ledger updated.\n",
      "\n",
      "Submitting chunk 793 (50000 positions) for asynchronous saving...\n",
      "  Chunk 793 submitted. Main thread continues.\n",
      "  Total processed (optimistic): 39,750,000 positions\n",
      "  Progress: Line 46,299,333\n"
     ]
    },
    {
     "name": "stderr",
     "output_type": "stream",
     "text": [
      "Processing positions: 46300156lines [2:37:09, 789.98lines/s]"
     ]
    },
    {
     "name": "stdout",
     "output_type": "stream",
     "text": [
      "Progress checkpoint: Line 46,300,000, Found 9,000,588 valid positions this session.\n"
     ]
    },
    {
     "name": "stderr",
     "output_type": "stream",
     "text": [
      "Processing positions: 46355858lines [2:37:54, 833.00lines/s] "
     ]
    },
    {
     "name": "stdout",
     "output_type": "stream",
     "text": [
      "\n",
      "✓ Previous chunk 793 saved. Ledger updated.\n",
      "\n",
      "Submitting chunk 794 (50000 positions) for asynchronous saving...\n",
      "  Chunk 794 submitted. Main thread continues.\n",
      "  Total processed (optimistic): 39,800,000 positions\n",
      "  Progress: Line 46,355,808\n"
     ]
    },
    {
     "name": "stderr",
     "output_type": "stream",
     "text": [
      "Processing positions: 46400194lines [2:38:30, 1303.45lines/s]"
     ]
    },
    {
     "name": "stdout",
     "output_type": "stream",
     "text": [
      "Progress checkpoint: Line 46,400,000, Found 9,088,604 valid positions this session.\n"
     ]
    },
    {
     "name": "stderr",
     "output_type": "stream",
     "text": [
      "Processing positions: 46413157lines [2:38:41, 1197.91lines/s]"
     ]
    },
    {
     "name": "stdout",
     "output_type": "stream",
     "text": [
      "\n",
      "✓ Previous chunk 794 saved. Ledger updated.\n",
      "\n",
      "Submitting chunk 795 (50000 positions) for asynchronous saving...\n",
      "  Chunk 795 submitted. Main thread continues.\n",
      "  Total processed (optimistic): 39,850,000 positions\n",
      "  Progress: Line 46,413,172\n"
     ]
    },
    {
     "name": "stderr",
     "output_type": "stream",
     "text": [
      "Processing positions: 46470556lines [2:39:26, 1394.53lines/s]"
     ]
    },
    {
     "name": "stdout",
     "output_type": "stream",
     "text": [
      "\n",
      "✓ Previous chunk 795 saved. Ledger updated.\n",
      "\n",
      "Submitting chunk 796 (50000 positions) for asynchronous saving...\n",
      "  Chunk 796 submitted. Main thread continues.\n",
      "  Total processed (optimistic): 39,900,000 positions\n",
      "  Progress: Line 46,470,562\n"
     ]
    },
    {
     "name": "stderr",
     "output_type": "stream",
     "text": [
      "Processing positions: 46500167lines [2:39:48, 1233.87lines/s]"
     ]
    },
    {
     "name": "stdout",
     "output_type": "stream",
     "text": [
      "Progress checkpoint: Line 46,500,000, Found 9,175,093 valid positions this session.\n"
     ]
    },
    {
     "name": "stderr",
     "output_type": "stream",
     "text": [
      "Processing positions: 46528361lines [2:40:11, 868.26lines/s] "
     ]
    },
    {
     "name": "stdout",
     "output_type": "stream",
     "text": [
      "\n",
      "✓ Previous chunk 796 saved. Ledger updated.\n",
      "\n",
      "Submitting chunk 797 (50000 positions) for asynchronous saving...\n",
      "  Chunk 797 submitted. Main thread continues.\n",
      "  Total processed (optimistic): 39,950,000 positions\n",
      "  Progress: Line 46,528,329\n"
     ]
    },
    {
     "name": "stderr",
     "output_type": "stream",
     "text": [
      "Processing positions: 46585344lines [2:40:58, 868.66lines/s] "
     ]
    },
    {
     "name": "stdout",
     "output_type": "stream",
     "text": [
      "\n",
      "✓ Previous chunk 797 saved. Ledger updated.\n",
      "\n",
      "Submitting chunk 798 (50000 positions) for asynchronous saving...\n",
      "  Chunk 798 submitted. Main thread continues.\n",
      "  Total processed (optimistic): 40,000,000 positions\n",
      "  Progress: Line 46,585,267\n"
     ]
    },
    {
     "name": "stderr",
     "output_type": "stream",
     "text": [
      "Processing positions: 46600202lines [2:41:11, 1224.05lines/s]"
     ]
    },
    {
     "name": "stdout",
     "output_type": "stream",
     "text": [
      "Progress checkpoint: Line 46,600,000, Found 9,262,722 valid positions this session.\n"
     ]
    },
    {
     "name": "stderr",
     "output_type": "stream",
     "text": [
      "Processing positions: 46642418lines [2:41:45, 1343.69lines/s]"
     ]
    },
    {
     "name": "stdout",
     "output_type": "stream",
     "text": [
      "\n",
      "✓ Previous chunk 798 saved. Ledger updated.\n",
      "\n",
      "Submitting chunk 799 (50000 positions) for asynchronous saving...\n",
      "  Chunk 799 submitted. Main thread continues.\n",
      "  Total processed (optimistic): 40,050,000 positions\n",
      "  Progress: Line 46,642,421\n"
     ]
    },
    {
     "name": "stderr",
     "output_type": "stream",
     "text": [
      "Processing positions: 46700180lines [2:42:32, 1201.28lines/s]"
     ]
    },
    {
     "name": "stdout",
     "output_type": "stream",
     "text": [
      "Progress checkpoint: Line 46,700,000, Found 9,349,835 valid positions this session.\n",
      "\n",
      "✓ Previous chunk 799 saved. Ledger updated.\n",
      "\n",
      "Submitting chunk 800 (50000 positions) for asynchronous saving...\n",
      "  Chunk 800 submitted. Main thread continues.\n",
      "  Total processed (optimistic): 40,100,000 positions\n",
      "  Progress: Line 46,700,182\n"
     ]
    },
    {
     "name": "stderr",
     "output_type": "stream",
     "text": [
      "Processing positions: 46759549lines [2:43:20, 927.35lines/s] "
     ]
    },
    {
     "name": "stdout",
     "output_type": "stream",
     "text": [
      "\n",
      "✓ Previous chunk 800 saved. Ledger updated.\n",
      "\n",
      "Submitting chunk 801 (50000 positions) for asynchronous saving...\n",
      "  Chunk 801 submitted. Main thread continues.\n",
      "  Total processed (optimistic): 40,150,000 positions\n",
      "  Progress: Line 46,759,443\n"
     ]
    },
    {
     "name": "stderr",
     "output_type": "stream",
     "text": [
      "Processing positions: 46800209lines [2:43:53, 1260.62lines/s]"
     ]
    },
    {
     "name": "stdout",
     "output_type": "stream",
     "text": [
      "Progress checkpoint: Line 46,800,000, Found 9,434,975 valid positions this session.\n"
     ]
    },
    {
     "name": "stderr",
     "output_type": "stream",
     "text": [
      "Processing positions: 46817569lines [2:44:07, 925.84lines/s] "
     ]
    },
    {
     "name": "stdout",
     "output_type": "stream",
     "text": [
      "\n",
      "✓ Previous chunk 801 saved. Ledger updated.\n",
      "\n",
      "Submitting chunk 802 (50000 positions) for asynchronous saving...\n",
      "  Chunk 802 submitted. Main thread continues.\n",
      "  Total processed (optimistic): 40,200,000 positions\n",
      "  Progress: Line 46,817,565\n"
     ]
    },
    {
     "name": "stderr",
     "output_type": "stream",
     "text": [
      "Processing positions: 46875521lines [2:44:54, 817.62lines/s] "
     ]
    },
    {
     "name": "stdout",
     "output_type": "stream",
     "text": [
      "\n",
      "✓ Previous chunk 802 saved. Ledger updated.\n",
      "\n",
      "Submitting chunk 803 (50000 positions) for asynchronous saving...\n",
      "  Chunk 803 submitted. Main thread continues.\n",
      "  Total processed (optimistic): 40,250,000 positions\n",
      "  Progress: Line 46,875,428\n"
     ]
    },
    {
     "name": "stderr",
     "output_type": "stream",
     "text": [
      "Processing positions: 46900153lines [2:45:14, 1214.26lines/s]"
     ]
    },
    {
     "name": "stdout",
     "output_type": "stream",
     "text": [
      "Progress checkpoint: Line 46,900,000, Found 9,521,686 valid positions this session.\n"
     ]
    },
    {
     "name": "stderr",
     "output_type": "stream",
     "text": [
      "Processing positions: 46932298lines [2:45:40, 902.06lines/s] "
     ]
    },
    {
     "name": "stdout",
     "output_type": "stream",
     "text": [
      "\n",
      "✓ Previous chunk 803 saved. Ledger updated.\n",
      "\n",
      "Submitting chunk 804 (50000 positions) for asynchronous saving...\n",
      "  Chunk 804 submitted. Main thread continues.\n",
      "  Total processed (optimistic): 40,300,000 positions\n",
      "  Progress: Line 46,932,228\n"
     ]
    },
    {
     "name": "stderr",
     "output_type": "stream",
     "text": [
      "Processing positions: 46989757lines [2:46:26, 889.69lines/s] "
     ]
    },
    {
     "name": "stdout",
     "output_type": "stream",
     "text": [
      "\n",
      "✓ Previous chunk 804 saved. Ledger updated.\n",
      "\n",
      "Submitting chunk 805 (50000 positions) for asynchronous saving...\n",
      "  Chunk 805 submitted. Main thread continues.\n",
      "  Total processed (optimistic): 40,350,000 positions\n",
      "  Progress: Line 46,989,654\n"
     ]
    },
    {
     "name": "stderr",
     "output_type": "stream",
     "text": [
      "Processing positions: 47000179lines [2:46:34, 1319.32lines/s]"
     ]
    },
    {
     "name": "stdout",
     "output_type": "stream",
     "text": [
      "Progress checkpoint: Line 47,000,000, Found 9,609,052 valid positions this session.\n"
     ]
    },
    {
     "name": "stderr",
     "output_type": "stream",
     "text": [
      "Processing positions: 47048170lines [2:47:11, 943.54lines/s] "
     ]
    },
    {
     "name": "stdout",
     "output_type": "stream",
     "text": [
      "\n",
      "✓ Previous chunk 805 saved. Ledger updated.\n",
      "\n",
      "Submitting chunk 806 (50000 positions) for asynchronous saving...\n",
      "  Chunk 806 submitted. Main thread continues.\n",
      "  Total processed (optimistic): 40,400,000 positions\n",
      "  Progress: Line 47,048,125\n"
     ]
    },
    {
     "name": "stderr",
     "output_type": "stream",
     "text": [
      "Processing positions: 47100162lines [2:47:53, 1195.87lines/s]"
     ]
    },
    {
     "name": "stdout",
     "output_type": "stream",
     "text": [
      "Progress checkpoint: Line 47,100,000, Found 9,695,362 valid positions this session.\n"
     ]
    },
    {
     "name": "stderr",
     "output_type": "stream",
     "text": [
      "Processing positions: 47105136lines [2:47:57, 878.22lines/s] "
     ]
    },
    {
     "name": "stdout",
     "output_type": "stream",
     "text": [
      "\n",
      "✓ Previous chunk 806 saved. Ledger updated.\n",
      "\n",
      "Submitting chunk 807 (50000 positions) for asynchronous saving...\n",
      "  Chunk 807 submitted. Main thread continues.\n",
      "  Total processed (optimistic): 40,450,000 positions\n",
      "  Progress: Line 47,105,110\n"
     ]
    },
    {
     "name": "stderr",
     "output_type": "stream",
     "text": [
      "Processing positions: 47162965lines [2:48:44, 943.15lines/s] "
     ]
    },
    {
     "name": "stdout",
     "output_type": "stream",
     "text": [
      "\n",
      "✓ Previous chunk 807 saved. Ledger updated.\n",
      "\n",
      "Submitting chunk 808 (50000 positions) for asynchronous saving...\n",
      "  Chunk 808 submitted. Main thread continues.\n",
      "  Total processed (optimistic): 40,500,000 positions\n",
      "  Progress: Line 47,162,935\n"
     ]
    },
    {
     "name": "stderr",
     "output_type": "stream",
     "text": [
      "Processing positions: 47200184lines [2:49:15, 1209.76lines/s]"
     ]
    },
    {
     "name": "stdout",
     "output_type": "stream",
     "text": [
      "Progress checkpoint: Line 47,200,000, Found 9,782,746 valid positions this session.\n"
     ]
    },
    {
     "name": "stderr",
     "output_type": "stream",
     "text": [
      "Processing positions: 47220408lines [2:49:31, 1393.40lines/s]"
     ]
    },
    {
     "name": "stdout",
     "output_type": "stream",
     "text": [
      "\n",
      "✓ Previous chunk 808 saved. Ledger updated.\n",
      "\n",
      "Submitting chunk 809 (50000 positions) for asynchronous saving...\n",
      "  Chunk 809 submitted. Main thread continues.\n",
      "  Total processed (optimistic): 40,550,000 positions\n",
      "  Progress: Line 47,220,425\n"
     ]
    },
    {
     "name": "stderr",
     "output_type": "stream",
     "text": [
      "Processing positions: 47279063lines [2:50:18, 837.92lines/s] "
     ]
    },
    {
     "name": "stdout",
     "output_type": "stream",
     "text": [
      "\n",
      "✓ Previous chunk 809 saved. Ledger updated.\n",
      "\n",
      "Submitting chunk 810 (50000 positions) for asynchronous saving...\n",
      "  Chunk 810 submitted. Main thread continues.\n",
      "  Total processed (optimistic): 40,600,000 positions\n",
      "  Progress: Line 47,278,988\n"
     ]
    },
    {
     "name": "stderr",
     "output_type": "stream",
     "text": [
      "Processing positions: 47300189lines [2:50:36, 1289.12lines/s]"
     ]
    },
    {
     "name": "stdout",
     "output_type": "stream",
     "text": [
      "Progress checkpoint: Line 47,300,000, Found 9,868,181 valid positions this session.\n"
     ]
    },
    {
     "name": "stderr",
     "output_type": "stream",
     "text": [
      "Processing positions: 47338670lines [2:51:05, 1001.56lines/s]"
     ]
    },
    {
     "name": "stdout",
     "output_type": "stream",
     "text": [
      "\n",
      "✓ Previous chunk 810 saved. Ledger updated.\n",
      "\n",
      "Submitting chunk 811 (50000 positions) for asynchronous saving...\n",
      "  Chunk 811 submitted. Main thread continues.\n",
      "  Total processed (optimistic): 40,650,000 positions\n",
      "  Progress: Line 47,338,636\n"
     ]
    },
    {
     "name": "stderr",
     "output_type": "stream",
     "text": [
      "Processing positions: 47396414lines [2:51:52, 859.22lines/s] "
     ]
    },
    {
     "name": "stdout",
     "output_type": "stream",
     "text": [
      "\n",
      "✓ Previous chunk 811 saved. Ledger updated.\n",
      "\n",
      "Submitting chunk 812 (50000 positions) for asynchronous saving...\n",
      "  Chunk 812 submitted. Main thread continues.\n",
      "  Total processed (optimistic): 40,700,000 positions\n",
      "  Progress: Line 47,396,332\n"
     ]
    },
    {
     "name": "stderr",
     "output_type": "stream",
     "text": [
      "Processing positions: 47400260lines [2:51:56, 1188.93lines/s]"
     ]
    },
    {
     "name": "stdout",
     "output_type": "stream",
     "text": [
      "Progress checkpoint: Line 47,400,000, Found 9,953,168 valid positions this session.\n"
     ]
    },
    {
     "name": "stderr",
     "output_type": "stream",
     "text": [
      "Processing positions: 47453867lines [2:52:39, 970.02lines/s] "
     ]
    },
    {
     "name": "stdout",
     "output_type": "stream",
     "text": [
      "\n",
      "✓ Previous chunk 812 saved. Ledger updated.\n",
      "\n",
      "Submitting chunk 813 (50000 positions) for asynchronous saving...\n",
      "  Chunk 813 submitted. Main thread continues.\n",
      "  Total processed (optimistic): 40,750,000 positions\n",
      "  Progress: Line 47,453,837\n"
     ]
    },
    {
     "name": "stderr",
     "output_type": "stream",
     "text": [
      "Processing positions: 47500207lines [2:53:17, 1325.78lines/s]"
     ]
    },
    {
     "name": "stdout",
     "output_type": "stream",
     "text": [
      "Progress checkpoint: Line 47,500,000, Found 10,040,251 valid positions this session.\n"
     ]
    },
    {
     "name": "stderr",
     "output_type": "stream",
     "text": [
      "Processing positions: 47511281lines [2:53:26, 944.95lines/s] "
     ]
    },
    {
     "name": "stdout",
     "output_type": "stream",
     "text": [
      "\n",
      "✓ Previous chunk 813 saved. Ledger updated.\n",
      "\n",
      "Submitting chunk 814 (50000 positions) for asynchronous saving...\n",
      "  Chunk 814 submitted. Main thread continues.\n",
      "  Total processed (optimistic): 40,800,000 positions\n",
      "  Progress: Line 47,511,243\n"
     ]
    },
    {
     "name": "stderr",
     "output_type": "stream",
     "text": [
      "Processing positions: 47567416lines [2:54:12, 867.19lines/s] "
     ]
    },
    {
     "name": "stdout",
     "output_type": "stream",
     "text": [
      "\n",
      "✓ Previous chunk 814 saved. Ledger updated.\n",
      "\n",
      "Submitting chunk 815 (50000 positions) for asynchronous saving...\n",
      "  Chunk 815 submitted. Main thread continues.\n",
      "  Total processed (optimistic): 40,850,000 positions\n",
      "  Progress: Line 47,567,330\n"
     ]
    },
    {
     "name": "stderr",
     "output_type": "stream",
     "text": [
      "Processing positions: 47600194lines [2:54:39, 1294.85lines/s]"
     ]
    },
    {
     "name": "stdout",
     "output_type": "stream",
     "text": [
      "Progress checkpoint: Line 47,600,000, Found 10,128,632 valid positions this session.\n"
     ]
    },
    {
     "name": "stderr",
     "output_type": "stream",
     "text": [
      "Processing positions: 47624955lines [2:54:57, 1181.78lines/s]"
     ]
    },
    {
     "name": "stdout",
     "output_type": "stream",
     "text": [
      "\n",
      "✓ Previous chunk 815 saved. Ledger updated.\n",
      "\n",
      "Submitting chunk 816 (50000 positions) for asynchronous saving...\n",
      "  Chunk 816 submitted. Main thread continues.\n",
      "  Total processed (optimistic): 40,900,000 positions\n",
      "  Progress: Line 47,624,963\n"
     ]
    },
    {
     "name": "stderr",
     "output_type": "stream",
     "text": [
      "Processing positions: 47681348lines [2:55:44, 884.10lines/s] "
     ]
    },
    {
     "name": "stdout",
     "output_type": "stream",
     "text": [
      "\n",
      "✓ Previous chunk 816 saved. Ledger updated.\n",
      "\n",
      "Submitting chunk 817 (50000 positions) for asynchronous saving...\n",
      "  Chunk 817 submitted. Main thread continues.\n",
      "  Total processed (optimistic): 40,950,000 positions\n",
      "  Progress: Line 47,681,345\n"
     ]
    },
    {
     "name": "stderr",
     "output_type": "stream",
     "text": [
      "Processing positions: 47700179lines [2:56:00, 1123.80lines/s]"
     ]
    },
    {
     "name": "stdout",
     "output_type": "stream",
     "text": [
      "Progress checkpoint: Line 47,700,000, Found 10,216,802 valid positions this session.\n"
     ]
    },
    {
     "name": "stderr",
     "output_type": "stream",
     "text": [
      "Processing positions: 47737065lines [2:56:31, 909.96lines/s] "
     ]
    },
    {
     "name": "stdout",
     "output_type": "stream",
     "text": [
      "\n",
      "✓ Previous chunk 817 saved. Ledger updated.\n",
      "\n",
      "Submitting chunk 818 (50000 positions) for asynchronous saving...\n",
      "  Chunk 818 submitted. Main thread continues.\n",
      "  Total processed (optimistic): 41,000,000 positions\n",
      "  Progress: Line 47,737,012\n"
     ]
    },
    {
     "name": "stderr",
     "output_type": "stream",
     "text": [
      "Processing positions: 47794028lines [2:57:18, 945.54lines/s] "
     ]
    },
    {
     "name": "stdout",
     "output_type": "stream",
     "text": [
      "\n",
      "✓ Previous chunk 818 saved. Ledger updated.\n",
      "\n",
      "Submitting chunk 819 (50000 positions) for asynchronous saving...\n",
      "  Chunk 819 submitted. Main thread continues.\n",
      "  Total processed (optimistic): 41,050,000 positions\n",
      "  Progress: Line 47,794,028\n"
     ]
    },
    {
     "name": "stderr",
     "output_type": "stream",
     "text": [
      "Processing positions: 47800194lines [2:57:23, 1236.25lines/s]"
     ]
    },
    {
     "name": "stdout",
     "output_type": "stream",
     "text": [
      "Progress checkpoint: Line 47,800,000, Found 10,304,887 valid positions this session.\n"
     ]
    },
    {
     "name": "stderr",
     "output_type": "stream",
     "text": [
      "Processing positions: 47852683lines [2:58:05, 849.33lines/s] "
     ]
    },
    {
     "name": "stdout",
     "output_type": "stream",
     "text": [
      "\n",
      "✓ Previous chunk 819 saved. Ledger updated.\n",
      "\n",
      "Submitting chunk 820 (50000 positions) for asynchronous saving...\n",
      "  Chunk 820 submitted. Main thread continues.\n",
      "  Total processed (optimistic): 41,100,000 positions\n",
      "  Progress: Line 47,852,592\n"
     ]
    },
    {
     "name": "stderr",
     "output_type": "stream",
     "text": [
      "Processing positions: 47900209lines [2:58:44, 1281.15lines/s]"
     ]
    },
    {
     "name": "stdout",
     "output_type": "stream",
     "text": [
      "Progress checkpoint: Line 47,900,000, Found 10,390,861 valid positions this session.\n"
     ]
    },
    {
     "name": "stderr",
     "output_type": "stream",
     "text": [
      "Processing positions: 47910420lines [2:58:52, 842.55lines/s] "
     ]
    },
    {
     "name": "stdout",
     "output_type": "stream",
     "text": [
      "\n",
      "✓ Previous chunk 820 saved. Ledger updated.\n",
      "\n",
      "Submitting chunk 821 (50000 positions) for asynchronous saving...\n",
      "  Chunk 821 submitted. Main thread continues.\n",
      "  Total processed (optimistic): 41,150,000 positions\n",
      "  Progress: Line 47,910,332\n"
     ]
    },
    {
     "name": "stderr",
     "output_type": "stream",
     "text": [
      "Processing positions: 47967661lines [2:59:39, 921.83lines/s] "
     ]
    },
    {
     "name": "stdout",
     "output_type": "stream",
     "text": [
      "\n",
      "✓ Previous chunk 821 saved. Ledger updated.\n",
      "\n",
      "Submitting chunk 822 (50000 positions) for asynchronous saving...\n",
      "  Chunk 822 submitted. Main thread continues.\n",
      "  Total processed (optimistic): 41,200,000 positions\n",
      "  Progress: Line 47,967,546\n"
     ]
    },
    {
     "name": "stderr",
     "output_type": "stream",
     "text": [
      "Processing positions: 48000177lines [3:00:06, 1330.64lines/s]"
     ]
    },
    {
     "name": "stdout",
     "output_type": "stream",
     "text": [
      "Progress checkpoint: Line 48,000,000, Found 10,478,612 valid positions this session.\n"
     ]
    },
    {
     "name": "stderr",
     "output_type": "stream",
     "text": [
      "Processing positions: 48024511lines [3:00:26, 866.40lines/s] "
     ]
    },
    {
     "name": "stdout",
     "output_type": "stream",
     "text": [
      "\n",
      "✓ Previous chunk 822 saved. Ledger updated.\n",
      "\n",
      "Submitting chunk 823 (50000 positions) for asynchronous saving...\n",
      "  Chunk 823 submitted. Main thread continues.\n",
      "  Total processed (optimistic): 41,250,000 positions\n",
      "  Progress: Line 48,024,413\n"
     ]
    },
    {
     "name": "stderr",
     "output_type": "stream",
     "text": [
      "Processing positions: 48081663lines [3:01:12, 900.07lines/s] "
     ]
    },
    {
     "name": "stdout",
     "output_type": "stream",
     "text": [
      "\n",
      "✓ Previous chunk 823 saved. Ledger updated.\n",
      "\n",
      "Submitting chunk 824 (50000 positions) for asynchronous saving...\n",
      "  Chunk 824 submitted. Main thread continues.\n",
      "  Total processed (optimistic): 41,300,000 positions\n",
      "  Progress: Line 48,081,540\n"
     ]
    },
    {
     "name": "stderr",
     "output_type": "stream",
     "text": [
      "Processing positions: 48100182lines [3:01:28, 1217.72lines/s]"
     ]
    },
    {
     "name": "stdout",
     "output_type": "stream",
     "text": [
      "Progress checkpoint: Line 48,100,000, Found 10,566,653 valid positions this session.\n"
     ]
    },
    {
     "name": "stderr",
     "output_type": "stream",
     "text": [
      "Processing positions: 48137476lines [3:01:57, 965.88lines/s] "
     ]
    },
    {
     "name": "stdout",
     "output_type": "stream",
     "text": [
      "\n",
      "✓ Previous chunk 824 saved. Ledger updated.\n",
      "\n",
      "Submitting chunk 825 (50000 positions) for asynchronous saving...\n",
      "  Chunk 825 submitted. Main thread continues.\n",
      "  Total processed (optimistic): 41,350,000 positions\n",
      "  Progress: Line 48,137,414\n"
     ]
    },
    {
     "name": "stderr",
     "output_type": "stream",
     "text": [
      "Processing positions: 48195467lines [3:02:43, 885.42lines/s] "
     ]
    },
    {
     "name": "stdout",
     "output_type": "stream",
     "text": [
      "\n",
      "✓ Previous chunk 825 saved. Ledger updated.\n",
      "\n",
      "Submitting chunk 826 (50000 positions) for asynchronous saving...\n",
      "  Chunk 826 submitted. Main thread continues.\n",
      "  Total processed (optimistic): 41,400,000 positions\n",
      "  Progress: Line 48,195,356\n"
     ]
    },
    {
     "name": "stderr",
     "output_type": "stream",
     "text": [
      "Processing positions: 48200204lines [3:02:48, 1139.26lines/s]"
     ]
    },
    {
     "name": "stdout",
     "output_type": "stream",
     "text": [
      "Progress checkpoint: Line 48,200,000, Found 10,654,178 valid positions this session.\n"
     ]
    },
    {
     "name": "stderr",
     "output_type": "stream",
     "text": [
      "Processing positions: 48251412lines [3:03:30, 876.25lines/s] "
     ]
    },
    {
     "name": "stdout",
     "output_type": "stream",
     "text": [
      "\n",
      "✓ Previous chunk 826 saved. Ledger updated.\n",
      "\n",
      "Submitting chunk 827 (50000 positions) for asynchronous saving...\n",
      "  Chunk 827 submitted. Main thread continues.\n",
      "  Total processed (optimistic): 41,450,000 positions\n",
      "  Progress: Line 48,251,378\n"
     ]
    },
    {
     "name": "stderr",
     "output_type": "stream",
     "text": [
      "Processing positions: 48300188lines [3:04:11, 1407.89lines/s]"
     ]
    },
    {
     "name": "stdout",
     "output_type": "stream",
     "text": [
      "Progress checkpoint: Line 48,300,000, Found 10,743,076 valid positions this session.\n"
     ]
    },
    {
     "name": "stderr",
     "output_type": "stream",
     "text": [
      "Processing positions: 48307936lines [3:04:17, 1324.07lines/s]"
     ]
    },
    {
     "name": "stdout",
     "output_type": "stream",
     "text": [
      "\n",
      "✓ Previous chunk 827 saved. Ledger updated.\n",
      "\n",
      "Submitting chunk 828 (50000 positions) for asynchronous saving...\n",
      "  Chunk 828 submitted. Main thread continues.\n",
      "  Total processed (optimistic): 41,500,000 positions\n",
      "  Progress: Line 48,307,956\n"
     ]
    },
    {
     "name": "stderr",
     "output_type": "stream",
     "text": [
      "Processing positions: 48365802lines [3:05:04, 964.98lines/s] "
     ]
    },
    {
     "name": "stdout",
     "output_type": "stream",
     "text": [
      "\n",
      "✓ Previous chunk 828 saved. Ledger updated.\n",
      "\n",
      "Submitting chunk 829 (50000 positions) for asynchronous saving...\n",
      "  Chunk 829 submitted. Main thread continues.\n",
      "  Total processed (optimistic): 41,550,000 positions\n",
      "  Progress: Line 48,365,694\n"
     ]
    },
    {
     "name": "stderr",
     "output_type": "stream",
     "text": [
      "Processing positions: 48400149lines [3:05:32, 1347.57lines/s]"
     ]
    },
    {
     "name": "stdout",
     "output_type": "stream",
     "text": [
      "Progress checkpoint: Line 48,400,000, Found 10,828,957 valid positions this session.\n"
     ]
    },
    {
     "name": "stderr",
     "output_type": "stream",
     "text": [
      "Processing positions: 48424841lines [3:05:52, 921.99lines/s] "
     ]
    },
    {
     "name": "stdout",
     "output_type": "stream",
     "text": [
      "\n",
      "✓ Previous chunk 829 saved. Ledger updated.\n",
      "\n",
      "Submitting chunk 830 (50000 positions) for asynchronous saving...\n",
      "  Chunk 830 submitted. Main thread continues.\n",
      "  Total processed (optimistic): 41,600,000 positions\n",
      "  Progress: Line 48,424,805\n"
     ]
    },
    {
     "name": "stderr",
     "output_type": "stream",
     "text": [
      "Processing positions: 48482181lines [3:06:39, 851.93lines/s] "
     ]
    },
    {
     "name": "stdout",
     "output_type": "stream",
     "text": [
      "\n",
      "✓ Previous chunk 830 saved. Ledger updated.\n",
      "\n",
      "Submitting chunk 831 (50000 positions) for asynchronous saving...\n",
      "  Chunk 831 submitted. Main thread continues.\n",
      "  Total processed (optimistic): 41,650,000 positions\n",
      "  Progress: Line 48,482,085\n"
     ]
    },
    {
     "name": "stderr",
     "output_type": "stream",
     "text": [
      "Processing positions: 48500214lines [3:06:54, 1241.98lines/s]"
     ]
    },
    {
     "name": "stdout",
     "output_type": "stream",
     "text": [
      "Progress checkpoint: Line 48,500,000, Found 10,915,670 valid positions this session.\n"
     ]
    },
    {
     "name": "stderr",
     "output_type": "stream",
     "text": [
      "Processing positions: 48540099lines [3:07:25, 882.60lines/s] "
     ]
    },
    {
     "name": "stdout",
     "output_type": "stream",
     "text": [
      "\n",
      "✓ Previous chunk 831 saved. Ledger updated.\n",
      "\n",
      "Submitting chunk 832 (50000 positions) for asynchronous saving...\n",
      "  Chunk 832 submitted. Main thread continues.\n",
      "  Total processed (optimistic): 41,700,000 positions\n",
      "  Progress: Line 48,540,023\n"
     ]
    },
    {
     "name": "stderr",
     "output_type": "stream",
     "text": [
      "Processing positions: 48597990lines [3:08:12, 904.54lines/s] "
     ]
    },
    {
     "name": "stdout",
     "output_type": "stream",
     "text": [
      "\n",
      "✓ Previous chunk 832 saved. Ledger updated.\n",
      "\n",
      "Submitting chunk 833 (50000 positions) for asynchronous saving...\n",
      "  Chunk 833 submitted. Main thread continues.\n",
      "  Total processed (optimistic): 41,750,000 positions\n",
      "  Progress: Line 48,597,886\n"
     ]
    },
    {
     "name": "stderr",
     "output_type": "stream",
     "text": [
      "Processing positions: 48600189lines [3:08:14, 1203.84lines/s]"
     ]
    },
    {
     "name": "stdout",
     "output_type": "stream",
     "text": [
      "Progress checkpoint: Line 48,600,000, Found 11,001,753 valid positions this session.\n"
     ]
    },
    {
     "name": "stderr",
     "output_type": "stream",
     "text": [
      "Processing positions: 48655868lines [3:08:59, 992.48lines/s] "
     ]
    },
    {
     "name": "stdout",
     "output_type": "stream",
     "text": [
      "\n",
      "✓ Previous chunk 833 saved. Ledger updated.\n",
      "\n",
      "Submitting chunk 834 (50000 positions) for asynchronous saving...\n",
      "  Chunk 834 submitted. Main thread continues.\n",
      "  Total processed (optimistic): 41,800,000 positions\n",
      "  Progress: Line 48,655,821\n"
     ]
    },
    {
     "name": "stderr",
     "output_type": "stream",
     "text": [
      "Processing positions: 48700165lines [3:09:36, 1197.18lines/s]"
     ]
    },
    {
     "name": "stdout",
     "output_type": "stream",
     "text": [
      "Progress checkpoint: Line 48,700,000, Found 11,088,806 valid positions this session.\n"
     ]
    },
    {
     "name": "stderr",
     "output_type": "stream",
     "text": [
      "Processing positions: 48712982lines [3:09:46, 904.88lines/s] "
     ]
    },
    {
     "name": "stdout",
     "output_type": "stream",
     "text": [
      "\n",
      "✓ Previous chunk 834 saved. Ledger updated.\n",
      "\n",
      "Submitting chunk 835 (50000 positions) for asynchronous saving...\n",
      "  Chunk 835 submitted. Main thread continues.\n",
      "  Total processed (optimistic): 41,850,000 positions\n",
      "  Progress: Line 48,712,947\n"
     ]
    },
    {
     "name": "stderr",
     "output_type": "stream",
     "text": [
      "Processing positions: 48770581lines [3:10:33, 888.53lines/s] "
     ]
    },
    {
     "name": "stdout",
     "output_type": "stream",
     "text": [
      "\n",
      "✓ Previous chunk 835 saved. Ledger updated.\n",
      "\n",
      "Submitting chunk 836 (50000 positions) for asynchronous saving...\n",
      "  Chunk 836 submitted. Main thread continues.\n",
      "  Total processed (optimistic): 41,900,000 positions\n",
      "  Progress: Line 48,770,561\n"
     ]
    },
    {
     "name": "stderr",
     "output_type": "stream",
     "text": [
      "Processing positions: 48800118lines [3:10:58, 1199.67lines/s]"
     ]
    },
    {
     "name": "stdout",
     "output_type": "stream",
     "text": [
      "Progress checkpoint: Line 48,800,000, Found 11,176,263 valid positions this session.\n"
     ]
    },
    {
     "name": "stderr",
     "output_type": "stream",
     "text": [
      "Processing positions: 48827181lines [3:11:20, 934.58lines/s] "
     ]
    },
    {
     "name": "stdout",
     "output_type": "stream",
     "text": [
      "\n",
      "✓ Previous chunk 836 saved. Ledger updated.\n",
      "\n",
      "Submitting chunk 837 (50000 positions) for asynchronous saving...\n",
      "  Chunk 837 submitted. Main thread continues.\n",
      "  Total processed (optimistic): 41,950,000 positions\n",
      "  Progress: Line 48,827,128\n"
     ]
    },
    {
     "name": "stderr",
     "output_type": "stream",
     "text": [
      "Processing positions: 48885166lines [3:12:07, 801.20lines/s] "
     ]
    },
    {
     "name": "stdout",
     "output_type": "stream",
     "text": [
      "\n",
      "✓ Previous chunk 837 saved. Ledger updated.\n",
      "\n",
      "Submitting chunk 838 (50000 positions) for asynchronous saving...\n",
      "  Chunk 838 submitted. Main thread continues.\n",
      "  Total processed (optimistic): 42,000,000 positions\n",
      "  Progress: Line 48,885,065\n"
     ]
    },
    {
     "name": "stderr",
     "output_type": "stream",
     "text": [
      "Processing positions: 48900114lines [3:12:19, 1203.03lines/s]"
     ]
    },
    {
     "name": "stdout",
     "output_type": "stream",
     "text": [
      "Progress checkpoint: Line 48,900,000, Found 11,262,831 valid positions this session.\n"
     ]
    },
    {
     "name": "stderr",
     "output_type": "stream",
     "text": [
      "Processing positions: 48943299lines [3:12:54, 836.77lines/s] "
     ]
    },
    {
     "name": "stdout",
     "output_type": "stream",
     "text": [
      "\n",
      "✓ Previous chunk 838 saved. Ledger updated.\n",
      "\n",
      "Submitting chunk 839 (50000 positions) for asynchronous saving...\n",
      "  Chunk 839 submitted. Main thread continues.\n",
      "  Total processed (optimistic): 42,050,000 positions\n",
      "  Progress: Line 48,943,213\n"
     ]
    },
    {
     "name": "stderr",
     "output_type": "stream",
     "text": [
      "Processing positions: 49000147lines [3:13:41, 1297.99lines/s]"
     ]
    },
    {
     "name": "stdout",
     "output_type": "stream",
     "text": [
      "Progress checkpoint: Line 49,000,000, Found 11,349,166 valid positions this session.\n"
     ]
    },
    {
     "name": "stderr",
     "output_type": "stream",
     "text": [
      "Processing positions: 49001023lines [3:13:42, 871.88lines/s] "
     ]
    },
    {
     "name": "stdout",
     "output_type": "stream",
     "text": [
      "\n",
      "✓ Previous chunk 839 saved. Ledger updated.\n",
      "\n",
      "Submitting chunk 840 (50000 positions) for asynchronous saving...\n",
      "  Chunk 840 submitted. Main thread continues.\n",
      "  Total processed (optimistic): 42,100,000 positions\n",
      "  Progress: Line 49,000,968\n"
     ]
    },
    {
     "name": "stderr",
     "output_type": "stream",
     "text": [
      "Processing positions: 49058358lines [3:14:28, 969.28lines/s] "
     ]
    },
    {
     "name": "stdout",
     "output_type": "stream",
     "text": [
      "\n",
      "✓ Previous chunk 840 saved. Ledger updated.\n",
      "\n",
      "Submitting chunk 841 (50000 positions) for asynchronous saving...\n",
      "  Chunk 841 submitted. Main thread continues.\n",
      "  Total processed (optimistic): 42,150,000 positions\n",
      "  Progress: Line 49,058,230\n"
     ]
    },
    {
     "name": "stderr",
     "output_type": "stream",
     "text": [
      "Processing positions: 49100169lines [3:15:02, 1291.26lines/s]"
     ]
    },
    {
     "name": "stdout",
     "output_type": "stream",
     "text": [
      "Progress checkpoint: Line 49,100,000, Found 11,435,966 valid positions this session.\n"
     ]
    },
    {
     "name": "stderr",
     "output_type": "stream",
     "text": [
      "Processing positions: 49116229lines [3:15:15, 823.61lines/s] "
     ]
    },
    {
     "name": "stdout",
     "output_type": "stream",
     "text": [
      "\n",
      "✓ Previous chunk 841 saved. Ledger updated.\n",
      "\n",
      "Submitting chunk 842 (50000 positions) for asynchronous saving...\n",
      "  Chunk 842 submitted. Main thread continues.\n",
      "  Total processed (optimistic): 42,200,000 positions\n",
      "  Progress: Line 49,116,123\n"
     ]
    },
    {
     "name": "stderr",
     "output_type": "stream",
     "text": [
      "Processing positions: 49173046lines [3:16:02, 936.94lines/s] "
     ]
    },
    {
     "name": "stdout",
     "output_type": "stream",
     "text": [
      "\n",
      "✓ Previous chunk 842 saved. Ledger updated.\n",
      "\n",
      "Submitting chunk 843 (50000 positions) for asynchronous saving...\n",
      "  Chunk 843 submitted. Main thread continues.\n",
      "  Total processed (optimistic): 42,250,000 positions\n",
      "  Progress: Line 49,173,029\n"
     ]
    },
    {
     "name": "stderr",
     "output_type": "stream",
     "text": [
      "Processing positions: 49200135lines [3:16:24, 1225.44lines/s]"
     ]
    },
    {
     "name": "stdout",
     "output_type": "stream",
     "text": [
      "Progress checkpoint: Line 49,200,000, Found 11,523,769 valid positions this session.\n"
     ]
    },
    {
     "name": "stderr",
     "output_type": "stream",
     "text": [
      "Processing positions: 49229766lines [3:16:48, 879.41lines/s] "
     ]
    },
    {
     "name": "stdout",
     "output_type": "stream",
     "text": [
      "\n",
      "✓ Previous chunk 843 saved. Ledger updated.\n",
      "\n",
      "Submitting chunk 844 (50000 positions) for asynchronous saving...\n",
      "  Chunk 844 submitted. Main thread continues.\n",
      "  Total processed (optimistic): 42,300,000 positions\n",
      "  Progress: Line 49,229,660\n"
     ]
    },
    {
     "name": "stderr",
     "output_type": "stream",
     "text": [
      "Processing positions: 49288266lines [3:17:33, 887.70lines/s] "
     ]
    },
    {
     "name": "stdout",
     "output_type": "stream",
     "text": [
      "\n",
      "✓ Previous chunk 844 saved. Ledger updated.\n",
      "\n",
      "Submitting chunk 845 (50000 positions) for asynchronous saving...\n",
      "  Chunk 845 submitted. Main thread continues.\n",
      "  Total processed (optimistic): 42,350,000 positions\n",
      "  Progress: Line 49,288,198\n"
     ]
    },
    {
     "name": "stderr",
     "output_type": "stream",
     "text": [
      "Processing positions: 49300266lines [3:17:43, 1300.59lines/s]"
     ]
    },
    {
     "name": "stdout",
     "output_type": "stream",
     "text": [
      "Progress checkpoint: Line 49,300,000, Found 11,610,188 valid positions this session.\n"
     ]
    },
    {
     "name": "stderr",
     "output_type": "stream",
     "text": [
      "Processing positions: 49345010lines [3:18:20, 889.47lines/s] "
     ]
    },
    {
     "name": "stdout",
     "output_type": "stream",
     "text": [
      "\n",
      "✓ Previous chunk 845 saved. Ledger updated.\n",
      "\n",
      "Submitting chunk 846 (50000 positions) for asynchronous saving...\n",
      "  Chunk 846 submitted. Main thread continues.\n",
      "  Total processed (optimistic): 42,400,000 positions\n",
      "  Progress: Line 49,344,975\n"
     ]
    },
    {
     "name": "stderr",
     "output_type": "stream",
     "text": [
      "Processing positions: 49400127lines [3:19:05, 1232.37lines/s]"
     ]
    },
    {
     "name": "stdout",
     "output_type": "stream",
     "text": [
      "Progress checkpoint: Line 49,400,000, Found 11,698,071 valid positions this session.\n"
     ]
    },
    {
     "name": "stderr",
     "output_type": "stream",
     "text": [
      "Processing positions: 49402172lines [3:19:06, 900.90lines/s] "
     ]
    },
    {
     "name": "stdout",
     "output_type": "stream",
     "text": [
      "\n",
      "✓ Previous chunk 846 saved. Ledger updated.\n",
      "\n",
      "Submitting chunk 847 (50000 positions) for asynchronous saving...\n",
      "  Chunk 847 submitted. Main thread continues.\n",
      "  Total processed (optimistic): 42,450,000 positions\n",
      "  Progress: Line 49,402,147\n"
     ]
    },
    {
     "name": "stderr",
     "output_type": "stream",
     "text": [
      "Processing positions: 49459564lines [3:19:53, 888.72lines/s] "
     ]
    },
    {
     "name": "stdout",
     "output_type": "stream",
     "text": [
      "\n",
      "✓ Previous chunk 847 saved. Ledger updated.\n",
      "\n",
      "Submitting chunk 848 (50000 positions) for asynchronous saving...\n",
      "  Chunk 848 submitted. Main thread continues.\n",
      "  Total processed (optimistic): 42,500,000 positions\n",
      "  Progress: Line 49,459,473\n"
     ]
    },
    {
     "name": "stderr",
     "output_type": "stream",
     "text": [
      "Processing positions: 49500124lines [3:20:26, 1265.61lines/s]"
     ]
    },
    {
     "name": "stdout",
     "output_type": "stream",
     "text": [
      "Progress checkpoint: Line 49,500,000, Found 11,784,445 valid positions this session.\n"
     ]
    },
    {
     "name": "stderr",
     "output_type": "stream",
     "text": [
      "Processing positions: 49518111lines [3:20:41, 928.77lines/s] "
     ]
    },
    {
     "name": "stdout",
     "output_type": "stream",
     "text": [
      "\n",
      "✓ Previous chunk 848 saved. Ledger updated.\n",
      "\n",
      "Submitting chunk 849 (50000 positions) for asynchronous saving...\n",
      "  Chunk 849 submitted. Main thread continues.\n",
      "  Total processed (optimistic): 42,550,000 positions\n",
      "  Progress: Line 49,518,003\n"
     ]
    },
    {
     "name": "stderr",
     "output_type": "stream",
     "text": [
      "Processing positions: 49576211lines [3:21:28, 1313.89lines/s]"
     ]
    },
    {
     "name": "stdout",
     "output_type": "stream",
     "text": [
      "\n",
      "✓ Previous chunk 849 saved. Ledger updated.\n",
      "\n",
      "Submitting chunk 850 (50000 positions) for asynchronous saving...\n",
      "  Chunk 850 submitted. Main thread continues.\n",
      "  Total processed (optimistic): 42,600,000 positions\n",
      "  Progress: Line 49,576,213\n"
     ]
    },
    {
     "name": "stderr",
     "output_type": "stream",
     "text": [
      "Processing positions: 49600202lines [3:21:48, 1257.07lines/s]"
     ]
    },
    {
     "name": "stdout",
     "output_type": "stream",
     "text": [
      "Progress checkpoint: Line 49,600,000, Found 11,870,959 valid positions this session.\n"
     ]
    },
    {
     "name": "stderr",
     "output_type": "stream",
     "text": [
      "Processing positions: 49633919lines [3:22:15, 1271.58lines/s]"
     ]
    },
    {
     "name": "stdout",
     "output_type": "stream",
     "text": [
      "\n",
      "✓ Previous chunk 850 saved. Ledger updated.\n",
      "\n",
      "Submitting chunk 851 (50000 positions) for asynchronous saving...\n",
      "  Chunk 851 submitted. Main thread continues.\n",
      "  Total processed (optimistic): 42,650,000 positions\n",
      "  Progress: Line 49,633,937\n"
     ]
    },
    {
     "name": "stderr",
     "output_type": "stream",
     "text": [
      "Processing positions: 49690797lines [3:23:02, 942.77lines/s] "
     ]
    },
    {
     "name": "stdout",
     "output_type": "stream",
     "text": [
      "\n",
      "✓ Previous chunk 851 saved. Ledger updated.\n",
      "\n",
      "Submitting chunk 852 (50000 positions) for asynchronous saving...\n",
      "  Chunk 852 submitted. Main thread continues.\n",
      "  Total processed (optimistic): 42,700,000 positions\n",
      "  Progress: Line 49,690,779\n"
     ]
    },
    {
     "name": "stderr",
     "output_type": "stream",
     "text": [
      "Processing positions: 49700159lines [3:23:10, 1218.70lines/s]"
     ]
    },
    {
     "name": "stdout",
     "output_type": "stream",
     "text": [
      "Progress checkpoint: Line 49,700,000, Found 11,958,121 valid positions this session.\n"
     ]
    },
    {
     "name": "stderr",
     "output_type": "stream",
     "text": [
      "Processing positions: 49748158lines [3:23:49, 927.20lines/s] "
     ]
    },
    {
     "name": "stdout",
     "output_type": "stream",
     "text": [
      "\n",
      "✓ Previous chunk 852 saved. Ledger updated.\n",
      "\n",
      "Submitting chunk 853 (50000 positions) for asynchronous saving...\n",
      "  Chunk 853 submitted. Main thread continues.\n",
      "  Total processed (optimistic): 42,750,000 positions\n",
      "  Progress: Line 49,748,125\n"
     ]
    },
    {
     "name": "stderr",
     "output_type": "stream",
     "text": [
      "Processing positions: 49800216lines [3:24:32, 1238.83lines/s]"
     ]
    },
    {
     "name": "stdout",
     "output_type": "stream",
     "text": [
      "Progress checkpoint: Line 49,800,000, Found 12,046,281 valid positions this session.\n"
     ]
    },
    {
     "name": "stderr",
     "output_type": "stream",
     "text": [
      "Processing positions: 49804294lines [3:24:35, 1212.32lines/s]"
     ]
    },
    {
     "name": "stdout",
     "output_type": "stream",
     "text": [
      "\n",
      "✓ Previous chunk 853 saved. Ledger updated.\n",
      "\n",
      "Submitting chunk 854 (50000 positions) for asynchronous saving...\n",
      "  Chunk 854 submitted. Main thread continues.\n",
      "  Total processed (optimistic): 42,800,000 positions\n",
      "  Progress: Line 49,804,295\n"
     ]
    },
    {
     "name": "stderr",
     "output_type": "stream",
     "text": [
      "Processing positions: 49861883lines [3:25:21, 992.17lines/s] "
     ]
    },
    {
     "name": "stdout",
     "output_type": "stream",
     "text": [
      "\n",
      "✓ Previous chunk 854 saved. Ledger updated.\n",
      "\n",
      "Submitting chunk 855 (50000 positions) for asynchronous saving...\n",
      "  Chunk 855 submitted. Main thread continues.\n",
      "  Total processed (optimistic): 42,850,000 positions\n",
      "  Progress: Line 49,861,875\n"
     ]
    },
    {
     "name": "stderr",
     "output_type": "stream",
     "text": [
      "Processing positions: 49900235lines [3:25:52, 1262.54lines/s]"
     ]
    },
    {
     "name": "stdout",
     "output_type": "stream",
     "text": [
      "Progress checkpoint: Line 49,900,000, Found 12,132,729 valid positions this session.\n"
     ]
    },
    {
     "name": "stderr",
     "output_type": "stream",
     "text": [
      "Processing positions: 49920032lines [3:26:07, 867.32lines/s] "
     ]
    },
    {
     "name": "stdout",
     "output_type": "stream",
     "text": [
      "\n",
      "✓ Previous chunk 855 saved. Ledger updated.\n",
      "\n",
      "Submitting chunk 856 (50000 positions) for asynchronous saving...\n",
      "  Chunk 856 submitted. Main thread continues.\n",
      "  Total processed (optimistic): 42,900,000 positions\n",
      "  Progress: Line 49,919,930\n"
     ]
    },
    {
     "name": "stderr",
     "output_type": "stream",
     "text": [
      "Processing positions: 49976270lines [3:26:54, 882.73lines/s] "
     ]
    },
    {
     "name": "stdout",
     "output_type": "stream",
     "text": [
      "\n",
      "✓ Previous chunk 856 saved. Ledger updated.\n",
      "\n",
      "Submitting chunk 857 (50000 positions) for asynchronous saving...\n",
      "  Chunk 857 submitted. Main thread continues.\n",
      "  Total processed (optimistic): 42,950,000 positions\n",
      "  Progress: Line 49,976,216\n"
     ]
    },
    {
     "name": "stderr",
     "output_type": "stream",
     "text": [
      "Processing positions: 50000145lines [3:27:14, 1146.77lines/s]"
     ]
    },
    {
     "name": "stdout",
     "output_type": "stream",
     "text": [
      "Progress checkpoint: Line 50,000,000, Found 12,220,687 valid positions this session.\n"
     ]
    },
    {
     "name": "stderr",
     "output_type": "stream",
     "text": [
      "Processing positions: 50034804lines [3:27:41, 859.76lines/s] "
     ]
    },
    {
     "name": "stdout",
     "output_type": "stream",
     "text": [
      "\n",
      "✓ Previous chunk 857 saved. Ledger updated.\n",
      "\n",
      "Submitting chunk 858 (50000 positions) for asynchronous saving...\n",
      "  Chunk 858 submitted. Main thread continues.\n",
      "  Total processed (optimistic): 43,000,000 positions\n",
      "  Progress: Line 50,034,743\n"
     ]
    },
    {
     "name": "stderr",
     "output_type": "stream",
     "text": [
      "Processing positions: 50091955lines [3:28:28, 914.25lines/s] "
     ]
    },
    {
     "name": "stdout",
     "output_type": "stream",
     "text": [
      "\n",
      "✓ Previous chunk 858 saved. Ledger updated.\n",
      "\n",
      "Submitting chunk 859 (50000 positions) for asynchronous saving...\n",
      "  Chunk 859 submitted. Main thread continues.\n",
      "  Total processed (optimistic): 43,050,000 positions\n",
      "  Progress: Line 50,091,952\n"
     ]
    },
    {
     "name": "stderr",
     "output_type": "stream",
     "text": [
      "Processing positions: 50100204lines [3:28:35, 1186.10lines/s]"
     ]
    },
    {
     "name": "stdout",
     "output_type": "stream",
     "text": [
      "Progress checkpoint: Line 50,100,000, Found 12,306,740 valid positions this session.\n"
     ]
    },
    {
     "name": "stderr",
     "output_type": "stream",
     "text": [
      "Processing positions: 50150353lines [3:29:15, 879.47lines/s] "
     ]
    },
    {
     "name": "stdout",
     "output_type": "stream",
     "text": [
      "\n",
      "✓ Previous chunk 859 saved. Ledger updated.\n",
      "\n",
      "Submitting chunk 860 (50000 positions) for asynchronous saving...\n",
      "  Chunk 860 submitted. Main thread continues.\n",
      "  Total processed (optimistic): 43,100,000 positions\n",
      "  Progress: Line 50,150,293\n"
     ]
    },
    {
     "name": "stderr",
     "output_type": "stream",
     "text": [
      "Processing positions: 50200166lines [3:29:57, 1275.21lines/s]"
     ]
    },
    {
     "name": "stdout",
     "output_type": "stream",
     "text": [
      "Progress checkpoint: Line 50,200,000, Found 12,394,242 valid positions this session.\n"
     ]
    },
    {
     "name": "stderr",
     "output_type": "stream",
     "text": [
      "Processing positions: 50206617lines [3:30:02, 913.94lines/s] "
     ]
    },
    {
     "name": "stdout",
     "output_type": "stream",
     "text": [
      "\n",
      "✓ Previous chunk 860 saved. Ledger updated.\n",
      "\n",
      "Submitting chunk 861 (50000 positions) for asynchronous saving...\n",
      "  Chunk 861 submitted. Main thread continues.\n",
      "  Total processed (optimistic): 43,150,000 positions\n",
      "  Progress: Line 50,206,608\n"
     ]
    },
    {
     "name": "stderr",
     "output_type": "stream",
     "text": [
      "Processing positions: 50265020lines [3:30:49, 945.34lines/s] "
     ]
    },
    {
     "name": "stdout",
     "output_type": "stream",
     "text": [
      "\n",
      "✓ Previous chunk 861 saved. Ledger updated.\n",
      "\n",
      "Submitting chunk 862 (50000 positions) for asynchronous saving...\n",
      "  Chunk 862 submitted. Main thread continues.\n",
      "  Total processed (optimistic): 43,200,000 positions\n",
      "  Progress: Line 50,264,990\n"
     ]
    },
    {
     "name": "stderr",
     "output_type": "stream",
     "text": [
      "Processing positions: 50300164lines [3:31:17, 1218.84lines/s]"
     ]
    },
    {
     "name": "stdout",
     "output_type": "stream",
     "text": [
      "Progress checkpoint: Line 50,300,000, Found 12,479,910 valid positions this session.\n"
     ]
    },
    {
     "name": "stderr",
     "output_type": "stream",
     "text": [
      "Processing positions: 50323150lines [3:31:36, 871.70lines/s] "
     ]
    },
    {
     "name": "stdout",
     "output_type": "stream",
     "text": [
      "\n",
      "✓ Previous chunk 862 saved. Ledger updated.\n",
      "\n",
      "Submitting chunk 863 (50000 positions) for asynchronous saving...\n",
      "  Chunk 863 submitted. Main thread continues.\n",
      "  Total processed (optimistic): 43,250,000 positions\n",
      "  Progress: Line 50,323,075\n"
     ]
    },
    {
     "name": "stderr",
     "output_type": "stream",
     "text": [
      "Processing positions: 50379657lines [3:32:22, 926.88lines/s] "
     ]
    },
    {
     "name": "stdout",
     "output_type": "stream",
     "text": [
      "\n",
      "✓ Previous chunk 863 saved. Ledger updated.\n",
      "\n",
      "Submitting chunk 864 (50000 positions) for asynchronous saving...\n",
      "  Chunk 864 submitted. Main thread continues.\n",
      "  Total processed (optimistic): 43,300,000 positions\n",
      "  Progress: Line 50,379,600\n"
     ]
    },
    {
     "name": "stderr",
     "output_type": "stream",
     "text": [
      "Processing positions: 50400286lines [3:32:39, 1288.86lines/s]"
     ]
    },
    {
     "name": "stdout",
     "output_type": "stream",
     "text": [
      "Progress checkpoint: Line 50,400,000, Found 12,568,247 valid positions this session.\n"
     ]
    },
    {
     "name": "stderr",
     "output_type": "stream",
     "text": [
      "Processing positions: 50436500lines [3:33:08, 890.09lines/s] "
     ]
    },
    {
     "name": "stdout",
     "output_type": "stream",
     "text": [
      "\n",
      "✓ Previous chunk 864 saved. Ledger updated.\n",
      "\n",
      "Submitting chunk 865 (50000 positions) for asynchronous saving...\n",
      "  Chunk 865 submitted. Main thread continues.\n",
      "  Total processed (optimistic): 43,350,000 positions\n",
      "  Progress: Line 50,436,386\n"
     ]
    },
    {
     "name": "stderr",
     "output_type": "stream",
     "text": [
      "Processing positions: 50493227lines [3:33:53, 873.63lines/s] "
     ]
    },
    {
     "name": "stdout",
     "output_type": "stream",
     "text": [
      "\n",
      "✓ Previous chunk 865 saved. Ledger updated.\n",
      "\n",
      "Submitting chunk 866 (50000 positions) for asynchronous saving...\n",
      "  Chunk 866 submitted. Main thread continues.\n",
      "  Total processed (optimistic): 43,400,000 positions\n",
      "  Progress: Line 50,493,144\n"
     ]
    },
    {
     "name": "stderr",
     "output_type": "stream",
     "text": [
      "Processing positions: 50500195lines [3:33:59, 1243.44lines/s]"
     ]
    },
    {
     "name": "stdout",
     "output_type": "stream",
     "text": [
      "Progress checkpoint: Line 50,500,000, Found 12,656,050 valid positions this session.\n"
     ]
    },
    {
     "name": "stderr",
     "output_type": "stream",
     "text": [
      "Processing positions: 50549685lines [3:34:39, 884.03lines/s] "
     ]
    },
    {
     "name": "stdout",
     "output_type": "stream",
     "text": [
      "\n",
      "✓ Previous chunk 866 saved. Ledger updated.\n",
      "\n",
      "Submitting chunk 867 (50000 positions) for asynchronous saving...\n",
      "  Chunk 867 submitted. Main thread continues.\n",
      "  Total processed (optimistic): 43,450,000 positions\n",
      "  Progress: Line 50,549,675\n"
     ]
    },
    {
     "name": "stderr",
     "output_type": "stream",
     "text": [
      "Processing positions: 50600112lines [3:35:22, 1195.40lines/s]"
     ]
    },
    {
     "name": "stdout",
     "output_type": "stream",
     "text": [
      "Progress checkpoint: Line 50,600,000, Found 12,744,987 valid positions this session.\n"
     ]
    },
    {
     "name": "stderr",
     "output_type": "stream",
     "text": [
      "Processing positions: 50606158lines [3:35:27, 960.93lines/s] "
     ]
    },
    {
     "name": "stdout",
     "output_type": "stream",
     "text": [
      "\n",
      "✓ Previous chunk 867 saved. Ledger updated.\n",
      "\n",
      "Submitting chunk 868 (50000 positions) for asynchronous saving...\n",
      "  Chunk 868 submitted. Main thread continues.\n",
      "  Total processed (optimistic): 43,500,000 positions\n",
      "  Progress: Line 50,606,036\n"
     ]
    },
    {
     "name": "stderr",
     "output_type": "stream",
     "text": [
      "Processing positions: 50664762lines [3:36:14, 1007.78lines/s]"
     ]
    },
    {
     "name": "stdout",
     "output_type": "stream",
     "text": [
      "\n",
      "✓ Previous chunk 868 saved. Ledger updated.\n",
      "\n",
      "Submitting chunk 869 (50000 positions) for asynchronous saving...\n",
      "  Chunk 869 submitted. Main thread continues.\n",
      "  Total processed (optimistic): 43,550,000 positions\n",
      "  Progress: Line 50,664,716\n"
     ]
    },
    {
     "name": "stderr",
     "output_type": "stream",
     "text": [
      "Processing positions: 50700113lines [3:36:43, 1217.54lines/s]"
     ]
    },
    {
     "name": "stdout",
     "output_type": "stream",
     "text": [
      "Progress checkpoint: Line 50,700,000, Found 12,830,380 valid positions this session.\n"
     ]
    },
    {
     "name": "stderr",
     "output_type": "stream",
     "text": [
      "Processing positions: 50722765lines [3:37:01, 882.40lines/s] "
     ]
    },
    {
     "name": "stdout",
     "output_type": "stream",
     "text": [
      "\n",
      "✓ Previous chunk 869 saved. Ledger updated.\n",
      "\n",
      "Submitting chunk 870 (50000 positions) for asynchronous saving...\n",
      "  Chunk 870 submitted. Main thread continues.\n",
      "  Total processed (optimistic): 43,600,000 positions\n",
      "  Progress: Line 50,722,727\n"
     ]
    },
    {
     "name": "stderr",
     "output_type": "stream",
     "text": [
      "Processing positions: 50779794lines [3:37:48, 855.44lines/s] "
     ]
    },
    {
     "name": "stdout",
     "output_type": "stream",
     "text": [
      "\n",
      "✓ Previous chunk 870 saved. Ledger updated.\n",
      "\n",
      "Submitting chunk 871 (50000 positions) for asynchronous saving...\n",
      "  Chunk 871 submitted. Main thread continues.\n",
      "  Total processed (optimistic): 43,650,000 positions\n",
      "  Progress: Line 50,779,772\n"
     ]
    },
    {
     "name": "stderr",
     "output_type": "stream",
     "text": [
      "Processing positions: 50800190lines [3:38:05, 1081.87lines/s]"
     ]
    },
    {
     "name": "stdout",
     "output_type": "stream",
     "text": [
      "Progress checkpoint: Line 50,800,000, Found 12,917,588 valid positions this session.\n"
     ]
    },
    {
     "name": "stderr",
     "output_type": "stream",
     "text": [
      "Processing positions: 50836705lines [3:38:36, 839.71lines/s] "
     ]
    },
    {
     "name": "stdout",
     "output_type": "stream",
     "text": [
      "\n",
      "✓ Previous chunk 871 saved. Ledger updated.\n",
      "\n",
      "Submitting chunk 872 (50000 positions) for asynchronous saving...\n",
      "  Chunk 872 submitted. Main thread continues.\n",
      "  Total processed (optimistic): 43,700,000 positions\n",
      "  Progress: Line 50,836,621\n"
     ]
    },
    {
     "name": "stderr",
     "output_type": "stream",
     "text": [
      "Processing positions: 50893236lines [3:39:22, 892.19lines/s] "
     ]
    },
    {
     "name": "stdout",
     "output_type": "stream",
     "text": [
      "\n",
      "✓ Previous chunk 872 saved. Ledger updated.\n",
      "\n",
      "Submitting chunk 873 (50000 positions) for asynchronous saving...\n",
      "  Chunk 873 submitted. Main thread continues.\n",
      "  Total processed (optimistic): 43,750,000 positions\n",
      "  Progress: Line 50,893,159\n"
     ]
    },
    {
     "name": "stderr",
     "output_type": "stream",
     "text": [
      "Processing positions: 50900215lines [3:39:29, 1229.72lines/s]"
     ]
    },
    {
     "name": "stdout",
     "output_type": "stream",
     "text": [
      "Progress checkpoint: Line 50,900,000, Found 13,006,103 valid positions this session.\n"
     ]
    },
    {
     "name": "stderr",
     "output_type": "stream",
     "text": [
      "Processing positions: 50950160lines [3:40:09, 920.18lines/s] "
     ]
    },
    {
     "name": "stdout",
     "output_type": "stream",
     "text": [
      "\n",
      "✓ Previous chunk 873 saved. Ledger updated.\n",
      "\n",
      "Submitting chunk 874 (50000 positions) for asynchronous saving...\n",
      "  Chunk 874 submitted. Main thread continues.\n",
      "  Total processed (optimistic): 43,800,000 positions\n",
      "  Progress: Line 50,950,105\n"
     ]
    },
    {
     "name": "stderr",
     "output_type": "stream",
     "text": [
      "Processing positions: 51000193lines [3:40:48, 1380.28lines/s]"
     ]
    },
    {
     "name": "stdout",
     "output_type": "stream",
     "text": [
      "Progress checkpoint: Line 51,000,000, Found 13,093,597 valid positions this session.\n"
     ]
    },
    {
     "name": "stderr",
     "output_type": "stream",
     "text": [
      "Processing positions: 51007327lines [3:40:53, 893.64lines/s] "
     ]
    },
    {
     "name": "stdout",
     "output_type": "stream",
     "text": [
      "\n",
      "✓ Previous chunk 874 saved. Ledger updated.\n",
      "\n",
      "Submitting chunk 875 (50000 positions) for asynchronous saving...\n",
      "  Chunk 875 submitted. Main thread continues.\n",
      "  Total processed (optimistic): 43,850,000 positions\n",
      "  Progress: Line 51,007,283\n"
     ]
    },
    {
     "name": "stderr",
     "output_type": "stream",
     "text": [
      "Processing positions: 51065786lines [3:41:39, 932.01lines/s] "
     ]
    },
    {
     "name": "stdout",
     "output_type": "stream",
     "text": [
      "\n",
      "✓ Previous chunk 875 saved. Ledger updated.\n",
      "\n",
      "Submitting chunk 876 (50000 positions) for asynchronous saving...\n",
      "  Chunk 876 submitted. Main thread continues.\n",
      "  Total processed (optimistic): 43,900,000 positions\n",
      "  Progress: Line 51,065,768\n"
     ]
    },
    {
     "name": "stderr",
     "output_type": "stream",
     "text": [
      "Processing positions: 51100197lines [3:42:07, 1145.72lines/s]"
     ]
    },
    {
     "name": "stdout",
     "output_type": "stream",
     "text": [
      "Progress checkpoint: Line 51,100,000, Found 13,180,029 valid positions this session.\n"
     ]
    },
    {
     "name": "stderr",
     "output_type": "stream",
     "text": [
      "Processing positions: 51122656lines [3:42:26, 830.31lines/s] "
     ]
    },
    {
     "name": "stdout",
     "output_type": "stream",
     "text": [
      "\n",
      "✓ Previous chunk 876 saved. Ledger updated.\n",
      "\n",
      "Submitting chunk 877 (50000 positions) for asynchronous saving...\n",
      "  Chunk 877 submitted. Main thread continues.\n",
      "  Total processed (optimistic): 43,950,000 positions\n",
      "  Progress: Line 51,122,564\n"
     ]
    },
    {
     "name": "stderr",
     "output_type": "stream",
     "text": [
      "Processing positions: 51179376lines [3:43:13, 865.29lines/s] "
     ]
    },
    {
     "name": "stdout",
     "output_type": "stream",
     "text": [
      "\n",
      "✓ Previous chunk 877 saved. Ledger updated.\n",
      "\n",
      "Submitting chunk 878 (50000 positions) for asynchronous saving...\n",
      "  Chunk 878 submitted. Main thread continues.\n",
      "  Total processed (optimistic): 44,000,000 positions\n",
      "  Progress: Line 51,179,280\n"
     ]
    },
    {
     "name": "stderr",
     "output_type": "stream",
     "text": [
      "Processing positions: 51200227lines [3:43:30, 1228.83lines/s]"
     ]
    },
    {
     "name": "stdout",
     "output_type": "stream",
     "text": [
      "Progress checkpoint: Line 51,200,000, Found 13,267,892 valid positions this session.\n"
     ]
    },
    {
     "name": "stderr",
     "output_type": "stream",
     "text": [
      "Processing positions: 51237608lines [3:44:00, 867.72lines/s] "
     ]
    },
    {
     "name": "stdout",
     "output_type": "stream",
     "text": [
      "\n",
      "✓ Previous chunk 878 saved. Ledger updated.\n",
      "\n",
      "Submitting chunk 879 (50000 positions) for asynchronous saving...\n",
      "  Chunk 879 submitted. Main thread continues.\n",
      "  Total processed (optimistic): 44,050,000 positions\n",
      "  Progress: Line 51,237,517\n"
     ]
    },
    {
     "name": "stderr",
     "output_type": "stream",
     "text": [
      "Processing positions: 51296948lines [3:44:48, 836.33lines/s] "
     ]
    },
    {
     "name": "stdout",
     "output_type": "stream",
     "text": [
      "\n",
      "✓ Previous chunk 879 saved. Ledger updated.\n",
      "\n",
      "Submitting chunk 880 (50000 positions) for asynchronous saving...\n",
      "  Chunk 880 submitted. Main thread continues.\n",
      "  Total processed (optimistic): 44,100,000 positions\n",
      "  Progress: Line 51,296,866\n"
     ]
    },
    {
     "name": "stderr",
     "output_type": "stream",
     "text": [
      "Processing positions: 51300200lines [3:44:51, 1311.01lines/s]"
     ]
    },
    {
     "name": "stdout",
     "output_type": "stream",
     "text": [
      "Progress checkpoint: Line 51,300,000, Found 13,352,759 valid positions this session.\n"
     ]
    },
    {
     "name": "stderr",
     "output_type": "stream",
     "text": [
      "Processing positions: 51353861lines [3:45:35, 886.91lines/s] "
     ]
    },
    {
     "name": "stdout",
     "output_type": "stream",
     "text": [
      "\n",
      "✓ Previous chunk 880 saved. Ledger updated.\n",
      "\n",
      "Submitting chunk 881 (50000 positions) for asynchronous saving...\n",
      "  Chunk 881 submitted. Main thread continues.\n",
      "  Total processed (optimistic): 44,150,000 positions\n",
      "  Progress: Line 51,353,758\n"
     ]
    },
    {
     "name": "stderr",
     "output_type": "stream",
     "text": [
      "Processing positions: 51400119lines [3:46:13, 1261.49lines/s]"
     ]
    },
    {
     "name": "stdout",
     "output_type": "stream",
     "text": [
      "Progress checkpoint: Line 51,400,000, Found 13,440,088 valid positions this session.\n"
     ]
    },
    {
     "name": "stderr",
     "output_type": "stream",
     "text": [
      "Processing positions: 51411746lines [3:46:22, 828.13lines/s] "
     ]
    },
    {
     "name": "stdout",
     "output_type": "stream",
     "text": [
      "\n",
      "✓ Previous chunk 881 saved. Ledger updated.\n",
      "\n",
      "Submitting chunk 882 (50000 positions) for asynchronous saving...\n",
      "  Chunk 882 submitted. Main thread continues.\n",
      "  Total processed (optimistic): 44,200,000 positions\n",
      "  Progress: Line 51,411,662\n"
     ]
    },
    {
     "name": "stderr",
     "output_type": "stream",
     "text": [
      "Processing positions: 51468488lines [3:47:09, 866.30lines/s] "
     ]
    },
    {
     "name": "stdout",
     "output_type": "stream",
     "text": [
      "\n",
      "✓ Previous chunk 882 saved. Ledger updated.\n",
      "\n",
      "Submitting chunk 883 (50000 positions) for asynchronous saving...\n",
      "  Chunk 883 submitted. Main thread continues.\n",
      "  Total processed (optimistic): 44,250,000 positions\n",
      "  Progress: Line 51,468,433\n"
     ]
    },
    {
     "name": "stderr",
     "output_type": "stream",
     "text": [
      "Processing positions: 51500117lines [3:47:35, 1195.09lines/s]"
     ]
    },
    {
     "name": "stdout",
     "output_type": "stream",
     "text": [
      "Progress checkpoint: Line 51,500,000, Found 13,527,630 valid positions this session.\n"
     ]
    },
    {
     "name": "stderr",
     "output_type": "stream",
     "text": [
      "Processing positions: 51525707lines [3:47:56, 829.49lines/s] "
     ]
    },
    {
     "name": "stdout",
     "output_type": "stream",
     "text": [
      "\n",
      "✓ Previous chunk 883 saved. Ledger updated.\n",
      "\n",
      "Submitting chunk 884 (50000 positions) for asynchronous saving...\n",
      "  Chunk 884 submitted. Main thread continues.\n",
      "  Total processed (optimistic): 44,300,000 positions\n",
      "  Progress: Line 51,525,624\n"
     ]
    },
    {
     "name": "stderr",
     "output_type": "stream",
     "text": [
      "Processing positions: 51582659lines [3:48:42, 888.30lines/s] "
     ]
    },
    {
     "name": "stdout",
     "output_type": "stream",
     "text": [
      "\n",
      "✓ Previous chunk 884 saved. Ledger updated.\n",
      "\n",
      "Submitting chunk 885 (50000 positions) for asynchronous saving...\n",
      "  Chunk 885 submitted. Main thread continues.\n",
      "  Total processed (optimistic): 44,350,000 positions\n",
      "  Progress: Line 51,582,566\n"
     ]
    },
    {
     "name": "stderr",
     "output_type": "stream",
     "text": [
      "Processing positions: 51600254lines [3:48:57, 1304.82lines/s]"
     ]
    },
    {
     "name": "stdout",
     "output_type": "stream",
     "text": [
      "Progress checkpoint: Line 51,600,000, Found 13,615,412 valid positions this session.\n"
     ]
    },
    {
     "name": "stderr",
     "output_type": "stream",
     "text": [
      "Processing positions: 51638986lines [3:49:28, 875.44lines/s] "
     ]
    },
    {
     "name": "stdout",
     "output_type": "stream",
     "text": [
      "\n",
      "✓ Previous chunk 885 saved. Ledger updated.\n",
      "\n",
      "Submitting chunk 886 (50000 positions) for asynchronous saving...\n",
      "  Chunk 886 submitted. Main thread continues.\n",
      "  Total processed (optimistic): 44,400,000 positions\n",
      "  Progress: Line 51,638,899\n"
     ]
    },
    {
     "name": "stderr",
     "output_type": "stream",
     "text": [
      "Processing positions: 51695190lines [3:50:15, 812.56lines/s] "
     ]
    },
    {
     "name": "stdout",
     "output_type": "stream",
     "text": [
      "\n",
      "✓ Previous chunk 886 saved. Ledger updated.\n",
      "\n",
      "Submitting chunk 887 (50000 positions) for asynchronous saving...\n",
      "  Chunk 887 submitted. Main thread continues.\n",
      "  Total processed (optimistic): 44,450,000 positions\n",
      "  Progress: Line 51,695,135\n"
     ]
    },
    {
     "name": "stderr",
     "output_type": "stream",
     "text": [
      "Processing positions: 51700196lines [3:50:20, 1120.03lines/s]"
     ]
    },
    {
     "name": "stdout",
     "output_type": "stream",
     "text": [
      "Progress checkpoint: Line 51,700,000, Found 13,704,496 valid positions this session.\n"
     ]
    },
    {
     "name": "stderr",
     "output_type": "stream",
     "text": [
      "Processing positions: 51751223lines [3:51:03, 1017.06lines/s]"
     ]
    },
    {
     "name": "stdout",
     "output_type": "stream",
     "text": [
      "\n",
      "✓ Previous chunk 887 saved. Ledger updated.\n",
      "\n",
      "Submitting chunk 888 (50000 positions) for asynchronous saving...\n",
      "  Chunk 888 submitted. Main thread continues.\n",
      "  Total processed (optimistic): 44,500,000 positions\n",
      "  Progress: Line 51,751,188\n"
     ]
    },
    {
     "name": "stderr",
     "output_type": "stream",
     "text": [
      "Processing positions: 51800192lines [3:51:44, 1249.40lines/s]"
     ]
    },
    {
     "name": "stdout",
     "output_type": "stream",
     "text": [
      "Progress checkpoint: Line 51,800,000, Found 13,793,383 valid positions this session.\n"
     ]
    },
    {
     "name": "stderr",
     "output_type": "stream",
     "text": [
      "Processing positions: 51807757lines [3:51:50, 949.00lines/s] "
     ]
    },
    {
     "name": "stdout",
     "output_type": "stream",
     "text": [
      "\n",
      "✓ Previous chunk 888 saved. Ledger updated.\n",
      "\n",
      "Submitting chunk 889 (50000 positions) for asynchronous saving...\n",
      "  Chunk 889 submitted. Main thread continues.\n",
      "  Total processed (optimistic): 44,550,000 positions\n",
      "  Progress: Line 51,807,685\n"
     ]
    },
    {
     "name": "stderr",
     "output_type": "stream",
     "text": [
      "Processing positions: 51866427lines [3:52:37, 930.93lines/s] "
     ]
    },
    {
     "name": "stdout",
     "output_type": "stream",
     "text": [
      "\n",
      "✓ Previous chunk 889 saved. Ledger updated.\n",
      "\n",
      "Submitting chunk 890 (50000 positions) for asynchronous saving...\n",
      "  Chunk 890 submitted. Main thread continues.\n",
      "  Total processed (optimistic): 44,600,000 positions\n",
      "  Progress: Line 51,866,314\n"
     ]
    },
    {
     "name": "stderr",
     "output_type": "stream",
     "text": [
      "Processing positions: 51900142lines [3:53:04, 1114.86lines/s]"
     ]
    },
    {
     "name": "stdout",
     "output_type": "stream",
     "text": [
      "Progress checkpoint: Line 51,900,000, Found 13,878,919 valid positions this session.\n"
     ]
    },
    {
     "name": "stderr",
     "output_type": "stream",
     "text": [
      "Processing positions: 51924228lines [3:53:24, 887.55lines/s] "
     ]
    },
    {
     "name": "stdout",
     "output_type": "stream",
     "text": [
      "\n",
      "✓ Previous chunk 890 saved. Ledger updated.\n",
      "\n",
      "Submitting chunk 891 (50000 positions) for asynchronous saving...\n",
      "  Chunk 891 submitted. Main thread continues.\n",
      "  Total processed (optimistic): 44,650,000 positions\n",
      "  Progress: Line 51,924,222\n"
     ]
    },
    {
     "name": "stderr",
     "output_type": "stream",
     "text": [
      "Processing positions: 51981474lines [3:54:10, 910.43lines/s] "
     ]
    },
    {
     "name": "stdout",
     "output_type": "stream",
     "text": [
      "\n",
      "✓ Previous chunk 891 saved. Ledger updated.\n",
      "\n",
      "Submitting chunk 892 (50000 positions) for asynchronous saving...\n",
      "  Chunk 892 submitted. Main thread continues.\n",
      "  Total processed (optimistic): 44,700,000 positions\n",
      "  Progress: Line 51,981,455\n"
     ]
    },
    {
     "name": "stderr",
     "output_type": "stream",
     "text": [
      "Processing positions: 52000102lines [3:54:26, 1139.60lines/s]"
     ]
    },
    {
     "name": "stdout",
     "output_type": "stream",
     "text": [
      "Progress checkpoint: Line 52,000,000, Found 13,966,137 valid positions this session.\n"
     ]
    },
    {
     "name": "stderr",
     "output_type": "stream",
     "text": [
      "Processing positions: 52039053lines [3:54:57, 819.12lines/s] "
     ]
    },
    {
     "name": "stdout",
     "output_type": "stream",
     "text": [
      "\n",
      "✓ Previous chunk 892 saved. Ledger updated.\n",
      "\n",
      "Submitting chunk 893 (50000 positions) for asynchronous saving...\n",
      "  Chunk 893 submitted. Main thread continues.\n",
      "  Total processed (optimistic): 44,750,000 positions\n",
      "  Progress: Line 52,038,976\n"
     ]
    },
    {
     "name": "stderr",
     "output_type": "stream",
     "text": [
      "Processing positions: 52096652lines [3:55:44, 823.18lines/s] "
     ]
    },
    {
     "name": "stdout",
     "output_type": "stream",
     "text": [
      "\n",
      "✓ Previous chunk 893 saved. Ledger updated.\n",
      "\n",
      "Submitting chunk 894 (50000 positions) for asynchronous saving...\n",
      "  Chunk 894 submitted. Main thread continues.\n",
      "  Total processed (optimistic): 44,800,000 positions\n",
      "  Progress: Line 52,096,546\n"
     ]
    },
    {
     "name": "stderr",
     "output_type": "stream",
     "text": [
      "Processing positions: 52100211lines [3:55:48, 1208.91lines/s]"
     ]
    },
    {
     "name": "stdout",
     "output_type": "stream",
     "text": [
      "Progress checkpoint: Line 52,100,000, Found 14,053,104 valid positions this session.\n"
     ]
    },
    {
     "name": "stderr",
     "output_type": "stream",
     "text": [
      "Processing positions: 52153243lines [3:56:31, 949.18lines/s] "
     ]
    },
    {
     "name": "stdout",
     "output_type": "stream",
     "text": [
      "\n",
      "✓ Previous chunk 894 saved. Ledger updated.\n",
      "\n",
      "Submitting chunk 895 (50000 positions) for asynchronous saving...\n",
      "  Chunk 895 submitted. Main thread continues.\n",
      "  Total processed (optimistic): 44,850,000 positions\n",
      "  Progress: Line 52,153,241\n"
     ]
    },
    {
     "name": "stderr",
     "output_type": "stream",
     "text": [
      "Processing positions: 52200165lines [3:57:09, 1136.32lines/s]"
     ]
    },
    {
     "name": "stdout",
     "output_type": "stream",
     "text": [
      "Progress checkpoint: Line 52,200,000, Found 14,140,913 valid positions this session.\n"
     ]
    },
    {
     "name": "stderr",
     "output_type": "stream",
     "text": [
      "Processing positions: 52210378lines [3:57:17, 1353.00lines/s]"
     ]
    },
    {
     "name": "stdout",
     "output_type": "stream",
     "text": [
      "\n",
      "✓ Previous chunk 895 saved. Ledger updated.\n",
      "\n",
      "Submitting chunk 896 (50000 positions) for asynchronous saving...\n",
      "  Chunk 896 submitted. Main thread continues.\n",
      "  Total processed (optimistic): 44,900,000 positions\n",
      "  Progress: Line 52,210,379\n"
     ]
    },
    {
     "name": "stderr",
     "output_type": "stream",
     "text": [
      "Processing positions: 52266090lines [3:58:05, 843.76lines/s] "
     ]
    },
    {
     "name": "stdout",
     "output_type": "stream",
     "text": [
      "\n",
      "✓ Previous chunk 896 saved. Ledger updated.\n",
      "\n",
      "Submitting chunk 897 (50000 positions) for asynchronous saving...\n",
      "  Chunk 897 submitted. Main thread continues.\n",
      "  Total processed (optimistic): 44,950,000 positions\n",
      "  Progress: Line 52,266,047\n"
     ]
    },
    {
     "name": "stderr",
     "output_type": "stream",
     "text": [
      "Processing positions: 52300119lines [3:58:34, 1135.50lines/s]"
     ]
    },
    {
     "name": "stdout",
     "output_type": "stream",
     "text": [
      "Progress checkpoint: Line 52,300,000, Found 14,230,246 valid positions this session.\n"
     ]
    },
    {
     "name": "stderr",
     "output_type": "stream",
     "text": [
      "Processing positions: 52322951lines [3:58:52, 911.48lines/s] "
     ]
    },
    {
     "name": "stdout",
     "output_type": "stream",
     "text": [
      "\n",
      "✓ Previous chunk 897 saved. Ledger updated.\n",
      "\n",
      "Submitting chunk 898 (50000 positions) for asynchronous saving...\n",
      "  Chunk 898 submitted. Main thread continues.\n",
      "  Total processed (optimistic): 45,000,000 positions\n",
      "  Progress: Line 52,322,859\n"
     ]
    },
    {
     "name": "stderr",
     "output_type": "stream",
     "text": [
      "Processing positions: 52380991lines [3:59:39, 901.06lines/s] "
     ]
    },
    {
     "name": "stdout",
     "output_type": "stream",
     "text": [
      "\n",
      "✓ Previous chunk 898 saved. Ledger updated.\n",
      "\n",
      "Submitting chunk 899 (50000 positions) for asynchronous saving...\n",
      "  Chunk 899 submitted. Main thread continues.\n",
      "  Total processed (optimistic): 45,050,000 positions\n",
      "  Progress: Line 52,380,915\n"
     ]
    },
    {
     "name": "stderr",
     "output_type": "stream",
     "text": [
      "Processing positions: 52400141lines [3:59:56, 1174.34lines/s]"
     ]
    },
    {
     "name": "stdout",
     "output_type": "stream",
     "text": [
      "Progress checkpoint: Line 52,400,000, Found 14,316,644 valid positions this session.\n"
     ]
    },
    {
     "name": "stderr",
     "output_type": "stream",
     "text": [
      "Processing positions: 52437878lines [4:00:26, 1025.65lines/s]"
     ]
    },
    {
     "name": "stdout",
     "output_type": "stream",
     "text": [
      "\n",
      "✓ Previous chunk 899 saved. Ledger updated.\n",
      "\n",
      "Submitting chunk 900 (50000 positions) for asynchronous saving...\n",
      "  Chunk 900 submitted. Main thread continues.\n",
      "  Total processed (optimistic): 45,100,000 positions\n",
      "  Progress: Line 52,437,877\n"
     ]
    },
    {
     "name": "stderr",
     "output_type": "stream",
     "text": [
      "Processing positions: 52495163lines [4:01:13, 919.54lines/s] "
     ]
    },
    {
     "name": "stdout",
     "output_type": "stream",
     "text": [
      "\n",
      "✓ Previous chunk 900 saved. Ledger updated.\n",
      "\n",
      "Submitting chunk 901 (50000 positions) for asynchronous saving...\n",
      "  Chunk 901 submitted. Main thread continues.\n",
      "  Total processed (optimistic): 45,150,000 positions\n",
      "  Progress: Line 52,495,087\n"
     ]
    },
    {
     "name": "stderr",
     "output_type": "stream",
     "text": [
      "Processing positions: 52500126lines [4:01:17, 1233.87lines/s]"
     ]
    },
    {
     "name": "stdout",
     "output_type": "stream",
     "text": [
      "Progress checkpoint: Line 52,500,000, Found 14,404,063 valid positions this session.\n"
     ]
    },
    {
     "name": "stderr",
     "output_type": "stream",
     "text": [
      "Processing positions: 52554448lines [4:02:00, 949.80lines/s] "
     ]
    },
    {
     "name": "stdout",
     "output_type": "stream",
     "text": [
      "\n",
      "✓ Previous chunk 901 saved. Ledger updated.\n",
      "\n",
      "Submitting chunk 902 (50000 positions) for asynchronous saving...\n",
      "  Chunk 902 submitted. Main thread continues.\n",
      "  Total processed (optimistic): 45,200,000 positions\n",
      "  Progress: Line 52,554,326\n"
     ]
    },
    {
     "name": "stderr",
     "output_type": "stream",
     "text": [
      "Processing positions: 52600141lines [4:02:36, 1178.98lines/s]"
     ]
    },
    {
     "name": "stdout",
     "output_type": "stream",
     "text": [
      "Progress checkpoint: Line 52,600,000, Found 14,488,754 valid positions this session.\n"
     ]
    },
    {
     "name": "stderr",
     "output_type": "stream",
     "text": [
      "Processing positions: 52613329lines [4:02:46, 929.44lines/s] "
     ]
    },
    {
     "name": "stdout",
     "output_type": "stream",
     "text": [
      "\n",
      "✓ Previous chunk 902 saved. Ledger updated.\n",
      "\n",
      "Submitting chunk 903 (50000 positions) for asynchronous saving...\n",
      "  Chunk 903 submitted. Main thread continues.\n",
      "  Total processed (optimistic): 45,250,000 positions\n",
      "  Progress: Line 52,613,207\n"
     ]
    },
    {
     "name": "stderr",
     "output_type": "stream",
     "text": [
      "Processing positions: 52670535lines [4:03:33, 862.63lines/s] "
     ]
    },
    {
     "name": "stdout",
     "output_type": "stream",
     "text": [
      "\n",
      "✓ Previous chunk 903 saved. Ledger updated.\n",
      "\n",
      "Submitting chunk 904 (50000 positions) for asynchronous saving...\n",
      "  Chunk 904 submitted. Main thread continues.\n",
      "  Total processed (optimistic): 45,300,000 positions\n",
      "  Progress: Line 52,670,463\n"
     ]
    },
    {
     "name": "stderr",
     "output_type": "stream",
     "text": [
      "Processing positions: 52700263lines [4:03:57, 1252.01lines/s]"
     ]
    },
    {
     "name": "stdout",
     "output_type": "stream",
     "text": [
      "Progress checkpoint: Line 52,700,000, Found 14,575,644 valid positions this session.\n"
     ]
    },
    {
     "name": "stderr",
     "output_type": "stream",
     "text": [
      "Processing positions: 52728049lines [4:04:19, 970.58lines/s] "
     ]
    },
    {
     "name": "stdout",
     "output_type": "stream",
     "text": [
      "\n",
      "✓ Previous chunk 904 saved. Ledger updated.\n",
      "\n",
      "Submitting chunk 905 (50000 positions) for asynchronous saving...\n",
      "  Chunk 905 submitted. Main thread continues.\n",
      "  Total processed (optimistic): 45,350,000 positions\n",
      "  Progress: Line 52,728,035\n"
     ]
    },
    {
     "name": "stderr",
     "output_type": "stream",
     "text": [
      "Processing positions: 52785027lines [4:05:05, 891.01lines/s] "
     ]
    },
    {
     "name": "stdout",
     "output_type": "stream",
     "text": [
      "\n",
      "✓ Previous chunk 905 saved. Ledger updated.\n",
      "\n",
      "Submitting chunk 906 (50000 positions) for asynchronous saving...\n",
      "  Chunk 906 submitted. Main thread continues.\n",
      "  Total processed (optimistic): 45,400,000 positions\n",
      "  Progress: Line 52,784,942\n"
     ]
    },
    {
     "name": "stderr",
     "output_type": "stream",
     "text": [
      "Processing positions: 52800157lines [4:05:18, 1193.36lines/s]"
     ]
    },
    {
     "name": "stdout",
     "output_type": "stream",
     "text": [
      "Progress checkpoint: Line 52,800,000, Found 14,663,261 valid positions this session.\n"
     ]
    },
    {
     "name": "stderr",
     "output_type": "stream",
     "text": [
      "Processing positions: 52841031lines [4:05:52, 847.65lines/s] "
     ]
    },
    {
     "name": "stdout",
     "output_type": "stream",
     "text": [
      "\n",
      "✓ Previous chunk 906 saved. Ledger updated.\n",
      "\n",
      "Submitting chunk 907 (50000 positions) for asynchronous saving...\n",
      "  Chunk 907 submitted. Main thread continues.\n",
      "  Total processed (optimistic): 45,450,000 positions\n",
      "  Progress: Line 52,841,002\n"
     ]
    },
    {
     "name": "stderr",
     "output_type": "stream",
     "text": [
      "Processing positions: 52898639lines [4:06:40, 826.65lines/s] "
     ]
    },
    {
     "name": "stdout",
     "output_type": "stream",
     "text": [
      "\n",
      "✓ Previous chunk 907 saved. Ledger updated.\n",
      "\n",
      "Submitting chunk 908 (50000 positions) for asynchronous saving...\n",
      "  Chunk 908 submitted. Main thread continues.\n",
      "  Total processed (optimistic): 45,500,000 positions\n",
      "  Progress: Line 52,898,579\n"
     ]
    },
    {
     "name": "stderr",
     "output_type": "stream",
     "text": [
      "Processing positions: 52900220lines [4:06:42, 1141.69lines/s]"
     ]
    },
    {
     "name": "stdout",
     "output_type": "stream",
     "text": [
      "Progress checkpoint: Line 52,900,000, Found 14,751,271 valid positions this session.\n"
     ]
    },
    {
     "name": "stderr",
     "output_type": "stream",
     "text": [
      "Processing positions: 52956731lines [4:07:27, 880.58lines/s] "
     ]
    },
    {
     "name": "stdout",
     "output_type": "stream",
     "text": [
      "\n",
      "✓ Previous chunk 908 saved. Ledger updated.\n",
      "\n",
      "Submitting chunk 909 (50000 positions) for asynchronous saving...\n",
      "  Chunk 909 submitted. Main thread continues.\n",
      "  Total processed (optimistic): 45,550,000 positions\n",
      "  Progress: Line 52,956,684\n"
     ]
    },
    {
     "name": "stderr",
     "output_type": "stream",
     "text": [
      "Processing positions: 53000155lines [4:08:01, 1191.93lines/s]"
     ]
    },
    {
     "name": "stdout",
     "output_type": "stream",
     "text": [
      "Progress checkpoint: Line 53,000,000, Found 14,836,472 valid positions this session.\n"
     ]
    },
    {
     "name": "stderr",
     "output_type": "stream",
     "text": [
      "Processing positions: 53016171lines [4:08:14, 889.04lines/s] "
     ]
    },
    {
     "name": "stdout",
     "output_type": "stream",
     "text": [
      "\n",
      "✓ Previous chunk 909 saved. Ledger updated.\n",
      "\n",
      "Submitting chunk 910 (50000 positions) for asynchronous saving...\n",
      "  Chunk 910 submitted. Main thread continues.\n",
      "  Total processed (optimistic): 45,600,000 positions\n",
      "  Progress: Line 53,016,097\n"
     ]
    },
    {
     "name": "stderr",
     "output_type": "stream",
     "text": [
      "Processing positions: 53073968lines [4:09:00, 936.01lines/s] "
     ]
    },
    {
     "name": "stdout",
     "output_type": "stream",
     "text": [
      "\n",
      "✓ Previous chunk 910 saved. Ledger updated.\n",
      "\n",
      "Submitting chunk 911 (50000 positions) for asynchronous saving...\n",
      "  Chunk 911 submitted. Main thread continues.\n",
      "  Total processed (optimistic): 45,650,000 positions\n",
      "  Progress: Line 53,073,930\n"
     ]
    },
    {
     "name": "stderr",
     "output_type": "stream",
     "text": [
      "Processing positions: 53100136lines [4:09:21, 1150.63lines/s]"
     ]
    },
    {
     "name": "stdout",
     "output_type": "stream",
     "text": [
      "Progress checkpoint: Line 53,100,000, Found 14,922,466 valid positions this session.\n"
     ]
    },
    {
     "name": "stderr",
     "output_type": "stream",
     "text": [
      "Processing positions: 53132189lines [4:09:47, 900.46lines/s] "
     ]
    },
    {
     "name": "stdout",
     "output_type": "stream",
     "text": [
      "\n",
      "✓ Previous chunk 911 saved. Ledger updated.\n",
      "\n",
      "Submitting chunk 912 (50000 positions) for asynchronous saving...\n",
      "  Chunk 912 submitted. Main thread continues.\n",
      "  Total processed (optimistic): 45,700,000 positions\n",
      "  Progress: Line 53,132,095\n"
     ]
    },
    {
     "name": "stderr",
     "output_type": "stream",
     "text": [
      "Processing positions: 53190304lines [4:10:34, 885.09lines/s] "
     ]
    },
    {
     "name": "stdout",
     "output_type": "stream",
     "text": [
      "\n",
      "✓ Previous chunk 912 saved. Ledger updated.\n",
      "\n",
      "Submitting chunk 913 (50000 positions) for asynchronous saving...\n",
      "  Chunk 913 submitted. Main thread continues.\n",
      "  Total processed (optimistic): 45,750,000 positions\n",
      "  Progress: Line 53,190,254\n"
     ]
    },
    {
     "name": "stderr",
     "output_type": "stream",
     "text": [
      "Processing positions: 53200164lines [4:10:42, 1176.53lines/s]"
     ]
    },
    {
     "name": "stdout",
     "output_type": "stream",
     "text": [
      "Progress checkpoint: Line 53,200,000, Found 15,008,464 valid positions this session.\n"
     ]
    },
    {
     "name": "stderr",
     "output_type": "stream",
     "text": [
      "Processing positions: 53247428lines [4:11:21, 902.13lines/s] "
     ]
    },
    {
     "name": "stdout",
     "output_type": "stream",
     "text": [
      "\n",
      "✓ Previous chunk 913 saved. Ledger updated.\n",
      "\n",
      "Submitting chunk 914 (50000 positions) for asynchronous saving...\n",
      "  Chunk 914 submitted. Main thread continues.\n",
      "  Total processed (optimistic): 45,800,000 positions\n",
      "  Progress: Line 53,247,380\n"
     ]
    },
    {
     "name": "stderr",
     "output_type": "stream",
     "text": [
      "Processing positions: 53300163lines [4:12:04, 1203.44lines/s]"
     ]
    },
    {
     "name": "stdout",
     "output_type": "stream",
     "text": [
      "Progress checkpoint: Line 53,300,000, Found 15,096,604 valid positions this session.\n"
     ]
    },
    {
     "name": "stderr",
     "output_type": "stream",
     "text": [
      "Processing positions: 53303823lines [4:12:08, 848.71lines/s] "
     ]
    },
    {
     "name": "stdout",
     "output_type": "stream",
     "text": [
      "\n",
      "✓ Previous chunk 914 saved. Ledger updated.\n",
      "\n",
      "Submitting chunk 915 (50000 positions) for asynchronous saving...\n",
      "  Chunk 915 submitted. Main thread continues.\n",
      "  Total processed (optimistic): 45,850,000 positions\n",
      "  Progress: Line 53,303,756\n"
     ]
    },
    {
     "name": "stderr",
     "output_type": "stream",
     "text": [
      "Processing positions: 53360612lines [4:12:54, 871.32lines/s] "
     ]
    },
    {
     "name": "stdout",
     "output_type": "stream",
     "text": [
      "\n",
      "✓ Previous chunk 915 saved. Ledger updated.\n",
      "\n",
      "Submitting chunk 916 (50000 positions) for asynchronous saving...\n",
      "  Chunk 916 submitted. Main thread continues.\n",
      "  Total processed (optimistic): 45,900,000 positions\n",
      "  Progress: Line 53,360,579\n"
     ]
    },
    {
     "name": "stderr",
     "output_type": "stream",
     "text": [
      "Processing positions: 53400159lines [4:13:27, 1142.33lines/s]"
     ]
    },
    {
     "name": "stdout",
     "output_type": "stream",
     "text": [
      "Progress checkpoint: Line 53,400,000, Found 15,185,029 valid positions this session.\n"
     ]
    },
    {
     "name": "stderr",
     "output_type": "stream",
     "text": [
      "Processing positions: 53417026lines [4:13:41, 851.64lines/s] "
     ]
    },
    {
     "name": "stdout",
     "output_type": "stream",
     "text": [
      "\n",
      "✓ Previous chunk 916 saved. Ledger updated.\n",
      "\n",
      "Submitting chunk 917 (50000 positions) for asynchronous saving...\n",
      "  Chunk 917 submitted. Main thread continues.\n",
      "  Total processed (optimistic): 45,950,000 positions\n",
      "  Progress: Line 53,416,989\n"
     ]
    },
    {
     "name": "stderr",
     "output_type": "stream",
     "text": [
      "Processing positions: 53475144lines [4:14:27, 1197.02lines/s]"
     ]
    },
    {
     "name": "stdout",
     "output_type": "stream",
     "text": [
      "\n",
      "✓ Previous chunk 917 saved. Ledger updated.\n",
      "\n",
      "Submitting chunk 918 (50000 positions) for asynchronous saving...\n",
      "  Chunk 918 submitted. Main thread continues.\n",
      "  Total processed (optimistic): 46,000,000 positions\n",
      "  Progress: Line 53,475,152\n"
     ]
    },
    {
     "name": "stderr",
     "output_type": "stream",
     "text": [
      "Processing positions: 53500183lines [4:14:48, 1319.70lines/s]"
     ]
    },
    {
     "name": "stdout",
     "output_type": "stream",
     "text": [
      "Progress checkpoint: Line 53,500,000, Found 15,271,330 valid positions this session.\n"
     ]
    },
    {
     "name": "stderr",
     "output_type": "stream",
     "text": [
      "Processing positions: 53533273lines [4:15:15, 967.51lines/s] "
     ]
    },
    {
     "name": "stdout",
     "output_type": "stream",
     "text": [
      "\n",
      "✓ Previous chunk 918 saved. Ledger updated.\n",
      "\n",
      "Submitting chunk 919 (50000 positions) for asynchronous saving...\n",
      "  Chunk 919 submitted. Main thread continues.\n",
      "  Total processed (optimistic): 46,050,000 positions\n",
      "  Progress: Line 53,533,153\n"
     ]
    },
    {
     "name": "stderr",
     "output_type": "stream",
     "text": [
      "Processing positions: 53591605lines [4:16:01, 1241.30lines/s]"
     ]
    },
    {
     "name": "stdout",
     "output_type": "stream",
     "text": [
      "\n",
      "✓ Previous chunk 919 saved. Ledger updated.\n",
      "\n",
      "Submitting chunk 920 (50000 positions) for asynchronous saving...\n",
      "  Chunk 920 submitted. Main thread continues.\n",
      "  Total processed (optimistic): 46,100,000 positions\n",
      "  Progress: Line 53,591,609\n"
     ]
    },
    {
     "name": "stderr",
     "output_type": "stream",
     "text": [
      "Processing positions: 53600238lines [4:16:09, 1268.79lines/s]"
     ]
    },
    {
     "name": "stdout",
     "output_type": "stream",
     "text": [
      "Progress checkpoint: Line 53,600,000, Found 15,357,486 valid positions this session.\n"
     ]
    },
    {
     "name": "stderr",
     "output_type": "stream",
     "text": [
      "Processing positions: 53649639lines [4:16:48, 955.10lines/s] "
     ]
    },
    {
     "name": "stdout",
     "output_type": "stream",
     "text": [
      "\n",
      "✓ Previous chunk 920 saved. Ledger updated.\n",
      "\n",
      "Submitting chunk 921 (50000 positions) for asynchronous saving...\n",
      "  Chunk 921 submitted. Main thread continues.\n",
      "  Total processed (optimistic): 46,150,000 positions\n",
      "  Progress: Line 53,649,586\n"
     ]
    },
    {
     "name": "stderr",
     "output_type": "stream",
     "text": [
      "Processing positions: 53700152lines [4:17:29, 1207.80lines/s]"
     ]
    },
    {
     "name": "stdout",
     "output_type": "stream",
     "text": [
      "Progress checkpoint: Line 53,700,000, Found 15,443,469 valid positions this session.\n"
     ]
    },
    {
     "name": "stderr",
     "output_type": "stream",
     "text": [
      "Processing positions: 53707491lines [4:17:35, 991.06lines/s] "
     ]
    },
    {
     "name": "stdout",
     "output_type": "stream",
     "text": [
      "\n",
      "✓ Previous chunk 921 saved. Ledger updated.\n",
      "\n",
      "Submitting chunk 922 (50000 positions) for asynchronous saving...\n",
      "  Chunk 922 submitted. Main thread continues.\n",
      "  Total processed (optimistic): 46,200,000 positions\n",
      "  Progress: Line 53,707,473\n"
     ]
    },
    {
     "name": "stderr",
     "output_type": "stream",
     "text": [
      "Processing positions: 53764822lines [4:18:21, 1244.25lines/s]"
     ]
    },
    {
     "name": "stdout",
     "output_type": "stream",
     "text": [
      "\n",
      "✓ Previous chunk 922 saved. Ledger updated.\n",
      "\n",
      "Submitting chunk 923 (50000 positions) for asynchronous saving...\n",
      "  Chunk 923 submitted. Main thread continues.\n",
      "  Total processed (optimistic): 46,250,000 positions\n",
      "  Progress: Line 53,764,832\n"
     ]
    },
    {
     "name": "stderr",
     "output_type": "stream",
     "text": [
      "Processing positions: 53800248lines [4:18:49, 1284.58lines/s]"
     ]
    },
    {
     "name": "stdout",
     "output_type": "stream",
     "text": [
      "Progress checkpoint: Line 53,800,000, Found 15,530,511 valid positions this session.\n"
     ]
    },
    {
     "name": "stderr",
     "output_type": "stream",
     "text": [
      "Processing positions: 53822191lines [4:19:07, 897.29lines/s] "
     ]
    },
    {
     "name": "stdout",
     "output_type": "stream",
     "text": [
      "\n",
      "✓ Previous chunk 923 saved. Ledger updated.\n",
      "\n",
      "Submitting chunk 924 (50000 positions) for asynchronous saving...\n",
      "  Chunk 924 submitted. Main thread continues.\n",
      "  Total processed (optimistic): 46,300,000 positions\n",
      "  Progress: Line 53,822,144\n"
     ]
    },
    {
     "name": "stderr",
     "output_type": "stream",
     "text": [
      "Processing positions: 53879930lines [4:19:53, 990.58lines/s] "
     ]
    },
    {
     "name": "stdout",
     "output_type": "stream",
     "text": [
      "\n",
      "✓ Previous chunk 924 saved. Ledger updated.\n",
      "\n",
      "Submitting chunk 925 (50000 positions) for asynchronous saving...\n",
      "  Chunk 925 submitted. Main thread continues.\n",
      "  Total processed (optimistic): 46,350,000 positions\n",
      "  Progress: Line 53,879,911\n"
     ]
    },
    {
     "name": "stderr",
     "output_type": "stream",
     "text": [
      "Processing positions: 53900149lines [4:20:09, 1186.27lines/s]"
     ]
    },
    {
     "name": "stdout",
     "output_type": "stream",
     "text": [
      "Progress checkpoint: Line 53,900,000, Found 15,617,293 valid positions this session.\n"
     ]
    },
    {
     "name": "stderr",
     "output_type": "stream",
     "text": [
      "Processing positions: 53937634lines [4:20:40, 832.16lines/s] "
     ]
    },
    {
     "name": "stdout",
     "output_type": "stream",
     "text": [
      "\n",
      "✓ Previous chunk 925 saved. Ledger updated.\n",
      "\n",
      "Submitting chunk 926 (50000 positions) for asynchronous saving...\n",
      "  Chunk 926 submitted. Main thread continues.\n",
      "  Total processed (optimistic): 46,400,000 positions\n",
      "  Progress: Line 53,937,549\n"
     ]
    },
    {
     "name": "stderr",
     "output_type": "stream",
     "text": [
      "Processing positions: 53994289lines [4:21:27, 841.38lines/s] "
     ]
    },
    {
     "name": "stdout",
     "output_type": "stream",
     "text": [
      "\n",
      "✓ Previous chunk 926 saved. Ledger updated.\n",
      "\n",
      "Submitting chunk 927 (50000 positions) for asynchronous saving...\n",
      "  Chunk 927 submitted. Main thread continues.\n",
      "  Total processed (optimistic): 46,450,000 positions\n",
      "  Progress: Line 53,994,190\n"
     ]
    },
    {
     "name": "stderr",
     "output_type": "stream",
     "text": [
      "Processing positions: 54000200lines [4:21:32, 1157.48lines/s]"
     ]
    },
    {
     "name": "stdout",
     "output_type": "stream",
     "text": [
      "Progress checkpoint: Line 54,000,000, Found 15,705,145 valid positions this session.\n"
     ]
    },
    {
     "name": "stderr",
     "output_type": "stream",
     "text": [
      "Processing positions: 54051450lines [4:22:14, 874.23lines/s] "
     ]
    },
    {
     "name": "stdout",
     "output_type": "stream",
     "text": [
      "\n",
      "✓ Previous chunk 927 saved. Ledger updated.\n",
      "\n",
      "Submitting chunk 928 (50000 positions) for asynchronous saving...\n",
      "  Chunk 928 submitted. Main thread continues.\n",
      "  Total processed (optimistic): 46,500,000 positions\n",
      "  Progress: Line 54,051,390\n"
     ]
    },
    {
     "name": "stderr",
     "output_type": "stream",
     "text": [
      "Processing positions: 54100143lines [4:22:54, 1226.05lines/s]"
     ]
    },
    {
     "name": "stdout",
     "output_type": "stream",
     "text": [
      "Progress checkpoint: Line 54,100,000, Found 15,792,165 valid positions this session.\n"
     ]
    },
    {
     "name": "stderr",
     "output_type": "stream",
     "text": [
      "Processing positions: 54108919lines [4:23:01, 886.82lines/s] "
     ]
    },
    {
     "name": "stdout",
     "output_type": "stream",
     "text": [
      "\n",
      "✓ Previous chunk 928 saved. Ledger updated.\n",
      "\n",
      "Submitting chunk 929 (50000 positions) for asynchronous saving...\n",
      "  Chunk 929 submitted. Main thread continues.\n",
      "  Total processed (optimistic): 46,550,000 positions\n",
      "  Progress: Line 54,108,874\n"
     ]
    },
    {
     "name": "stderr",
     "output_type": "stream",
     "text": [
      "Processing positions: 54165867lines [4:23:48, 890.10lines/s] "
     ]
    },
    {
     "name": "stdout",
     "output_type": "stream",
     "text": [
      "\n",
      "✓ Previous chunk 929 saved. Ledger updated.\n",
      "\n",
      "Submitting chunk 930 (50000 positions) for asynchronous saving...\n",
      "  Chunk 930 submitted. Main thread continues.\n",
      "  Total processed (optimistic): 46,600,000 positions\n",
      "  Progress: Line 54,165,855\n"
     ]
    },
    {
     "name": "stderr",
     "output_type": "stream",
     "text": [
      "Processing positions: 54200239lines [4:24:17, 1289.67lines/s]"
     ]
    },
    {
     "name": "stdout",
     "output_type": "stream",
     "text": [
      "Progress checkpoint: Line 54,200,000, Found 15,879,909 valid positions this session.\n"
     ]
    },
    {
     "name": "stderr",
     "output_type": "stream",
     "text": [
      "Processing positions: 54222780lines [4:24:35, 961.02lines/s] "
     ]
    },
    {
     "name": "stdout",
     "output_type": "stream",
     "text": [
      "\n",
      "✓ Previous chunk 930 saved. Ledger updated.\n",
      "\n",
      "Submitting chunk 931 (50000 positions) for asynchronous saving...\n",
      "  Chunk 931 submitted. Main thread continues.\n",
      "  Total processed (optimistic): 46,650,000 positions\n",
      "  Progress: Line 54,222,748\n"
     ]
    },
    {
     "name": "stderr",
     "output_type": "stream",
     "text": [
      "Processing positions: 54279589lines [4:25:22, 864.73lines/s] "
     ]
    },
    {
     "name": "stdout",
     "output_type": "stream",
     "text": [
      "\n",
      "✓ Previous chunk 931 saved. Ledger updated.\n",
      "\n",
      "Submitting chunk 932 (50000 positions) for asynchronous saving...\n",
      "  Chunk 932 submitted. Main thread continues.\n",
      "  Total processed (optimistic): 46,700,000 positions\n",
      "  Progress: Line 54,279,520\n"
     ]
    },
    {
     "name": "stderr",
     "output_type": "stream",
     "text": [
      "Processing positions: 54300173lines [4:25:38, 1320.84lines/s]"
     ]
    },
    {
     "name": "stdout",
     "output_type": "stream",
     "text": [
      "Progress checkpoint: Line 54,300,000, Found 15,967,385 valid positions this session.\n"
     ]
    },
    {
     "name": "stderr",
     "output_type": "stream",
     "text": [
      "Processing positions: 54338129lines [4:26:08, 821.77lines/s] "
     ]
    },
    {
     "name": "stdout",
     "output_type": "stream",
     "text": [
      "\n",
      "✓ Previous chunk 932 saved. Ledger updated.\n",
      "\n",
      "Submitting chunk 933 (50000 positions) for asynchronous saving...\n",
      "  Chunk 933 submitted. Main thread continues.\n",
      "  Total processed (optimistic): 46,750,000 positions\n",
      "  Progress: Line 54,338,034\n"
     ]
    },
    {
     "name": "stderr",
     "output_type": "stream",
     "text": [
      "Processing positions: 54395991lines [4:26:54, 1276.42lines/s]"
     ]
    },
    {
     "name": "stdout",
     "output_type": "stream",
     "text": [
      "\n",
      "✓ Previous chunk 933 saved. Ledger updated.\n",
      "\n",
      "Submitting chunk 934 (50000 positions) for asynchronous saving...\n",
      "  Chunk 934 submitted. Main thread continues.\n",
      "  Total processed (optimistic): 46,800,000 positions\n",
      "  Progress: Line 54,395,995\n"
     ]
    },
    {
     "name": "stderr",
     "output_type": "stream",
     "text": [
      "Processing positions: 54400224lines [4:26:58, 1232.50lines/s]"
     ]
    },
    {
     "name": "stdout",
     "output_type": "stream",
     "text": [
      "Progress checkpoint: Line 54,400,000, Found 16,053,438 valid positions this session.\n"
     ]
    },
    {
     "name": "stderr",
     "output_type": "stream",
     "text": [
      "Processing positions: 54454191lines [4:27:40, 945.45lines/s] "
     ]
    },
    {
     "name": "stdout",
     "output_type": "stream",
     "text": [
      "\n",
      "✓ Previous chunk 934 saved. Ledger updated.\n",
      "\n",
      "Submitting chunk 935 (50000 positions) for asynchronous saving...\n",
      "  Chunk 935 submitted. Main thread continues.\n",
      "  Total processed (optimistic): 46,850,000 positions\n",
      "  Progress: Line 54,454,082\n"
     ]
    },
    {
     "name": "stderr",
     "output_type": "stream",
     "text": [
      "Processing positions: 54500143lines [4:28:17, 1174.18lines/s]"
     ]
    },
    {
     "name": "stdout",
     "output_type": "stream",
     "text": [
      "Progress checkpoint: Line 54,500,000, Found 16,139,447 valid positions this session.\n"
     ]
    },
    {
     "name": "stderr",
     "output_type": "stream",
     "text": [
      "Processing positions: 54512005lines [4:28:27, 929.05lines/s] "
     ]
    },
    {
     "name": "stdout",
     "output_type": "stream",
     "text": [
      "\n",
      "✓ Previous chunk 935 saved. Ledger updated.\n",
      "\n",
      "Submitting chunk 936 (50000 positions) for asynchronous saving...\n",
      "  Chunk 936 submitted. Main thread continues.\n",
      "  Total processed (optimistic): 46,900,000 positions\n",
      "  Progress: Line 54,511,991\n"
     ]
    },
    {
     "name": "stderr",
     "output_type": "stream",
     "text": [
      "Processing positions: 54569833lines [4:29:14, 906.20lines/s] "
     ]
    },
    {
     "name": "stdout",
     "output_type": "stream",
     "text": [
      "\n",
      "✓ Previous chunk 936 saved. Ledger updated.\n",
      "\n",
      "Submitting chunk 937 (50000 positions) for asynchronous saving...\n",
      "  Chunk 937 submitted. Main thread continues.\n",
      "  Total processed (optimistic): 46,950,000 positions\n",
      "  Progress: Line 54,569,734\n"
     ]
    },
    {
     "name": "stderr",
     "output_type": "stream",
     "text": [
      "Processing positions: 54600193lines [4:29:39, 1221.72lines/s]"
     ]
    },
    {
     "name": "stdout",
     "output_type": "stream",
     "text": [
      "Progress checkpoint: Line 54,600,000, Found 16,225,938 valid positions this session.\n"
     ]
    },
    {
     "name": "stderr",
     "output_type": "stream",
     "text": [
      "Processing positions: 54627465lines [4:30:01, 908.01lines/s] "
     ]
    },
    {
     "name": "stdout",
     "output_type": "stream",
     "text": [
      "\n",
      "✓ Previous chunk 937 saved. Ledger updated.\n",
      "\n",
      "Submitting chunk 938 (50000 positions) for asynchronous saving...\n",
      "  Chunk 938 submitted. Main thread continues.\n",
      "  Total processed (optimistic): 47,000,000 positions\n",
      "  Progress: Line 54,627,449\n"
     ]
    },
    {
     "name": "stderr",
     "output_type": "stream",
     "text": [
      "Processing positions: 54685552lines [4:30:48, 947.95lines/s] "
     ]
    },
    {
     "name": "stdout",
     "output_type": "stream",
     "text": [
      "\n",
      "✓ Previous chunk 938 saved. Ledger updated.\n",
      "\n",
      "Submitting chunk 939 (50000 positions) for asynchronous saving...\n",
      "  Chunk 939 submitted. Main thread continues.\n",
      "  Total processed (optimistic): 47,050,000 positions\n",
      "  Progress: Line 54,685,543\n"
     ]
    },
    {
     "name": "stderr",
     "output_type": "stream",
     "text": [
      "Processing positions: 54700167lines [4:30:59, 1315.70lines/s]"
     ]
    },
    {
     "name": "stdout",
     "output_type": "stream",
     "text": [
      "Progress checkpoint: Line 54,700,000, Found 16,312,155 valid positions this session.\n"
     ]
    },
    {
     "name": "stderr",
     "output_type": "stream",
     "text": [
      "Processing positions: 54743976lines [4:31:35, 898.28lines/s] "
     ]
    },
    {
     "name": "stdout",
     "output_type": "stream",
     "text": [
      "\n",
      "✓ Previous chunk 939 saved. Ledger updated.\n",
      "\n",
      "Submitting chunk 940 (50000 positions) for asynchronous saving...\n",
      "  Chunk 940 submitted. Main thread continues.\n",
      "  Total processed (optimistic): 47,100,000 positions\n",
      "  Progress: Line 54,743,949\n"
     ]
    },
    {
     "name": "stderr",
     "output_type": "stream",
     "text": [
      "Processing positions: 54800207lines [4:32:20, 1233.99lines/s]"
     ]
    },
    {
     "name": "stdout",
     "output_type": "stream",
     "text": [
      "Progress checkpoint: Line 54,800,000, Found 16,398,667 valid positions this session.\n"
     ]
    },
    {
     "name": "stderr",
     "output_type": "stream",
     "text": [
      "Processing positions: 54801570lines [4:32:22, 881.61lines/s] "
     ]
    },
    {
     "name": "stdout",
     "output_type": "stream",
     "text": [
      "\n",
      "✓ Previous chunk 940 saved. Ledger updated.\n",
      "\n",
      "Submitting chunk 941 (50000 positions) for asynchronous saving...\n",
      "  Chunk 941 submitted. Main thread continues.\n",
      "  Total processed (optimistic): 47,150,000 positions\n",
      "  Progress: Line 54,801,536\n"
     ]
    },
    {
     "name": "stderr",
     "output_type": "stream",
     "text": [
      "Processing positions: 54859317lines [4:33:09, 974.05lines/s] "
     ]
    },
    {
     "name": "stdout",
     "output_type": "stream",
     "text": [
      "\n",
      "✓ Previous chunk 941 saved. Ledger updated.\n",
      "\n",
      "Submitting chunk 942 (50000 positions) for asynchronous saving...\n",
      "  Chunk 942 submitted. Main thread continues.\n",
      "  Total processed (optimistic): 47,200,000 positions\n",
      "  Progress: Line 54,859,262\n"
     ]
    },
    {
     "name": "stderr",
     "output_type": "stream",
     "text": [
      "Processing positions: 54900151lines [4:33:41, 1233.18lines/s]"
     ]
    },
    {
     "name": "stdout",
     "output_type": "stream",
     "text": [
      "Progress checkpoint: Line 54,900,000, Found 16,484,681 valid positions this session.\n"
     ]
    },
    {
     "name": "stderr",
     "output_type": "stream",
     "text": [
      "Processing positions: 54917261lines [4:33:55, 1173.83lines/s]"
     ]
    },
    {
     "name": "stdout",
     "output_type": "stream",
     "text": [
      "\n",
      "✓ Previous chunk 942 saved. Ledger updated.\n",
      "\n",
      "Submitting chunk 943 (50000 positions) for asynchronous saving...\n",
      "  Chunk 943 submitted. Main thread continues.\n",
      "  Total processed (optimistic): 47,250,000 positions\n",
      "  Progress: Line 54,917,268\n"
     ]
    },
    {
     "name": "stderr",
     "output_type": "stream",
     "text": [
      "Processing positions: 54975637lines [4:34:42, 1087.92lines/s]"
     ]
    },
    {
     "name": "stdout",
     "output_type": "stream",
     "text": [
      "\n",
      "✓ Previous chunk 943 saved. Ledger updated.\n",
      "\n",
      "Submitting chunk 944 (50000 positions) for asynchronous saving...\n",
      "  Chunk 944 submitted. Main thread continues.\n",
      "  Total processed (optimistic): 47,300,000 positions\n",
      "  Progress: Line 54,975,631\n"
     ]
    },
    {
     "name": "stderr",
     "output_type": "stream",
     "text": [
      "Processing positions: 55000207lines [4:35:01, 1255.08lines/s]"
     ]
    },
    {
     "name": "stdout",
     "output_type": "stream",
     "text": [
      "Progress checkpoint: Line 55,000,000, Found 16,570,781 valid positions this session.\n"
     ]
    },
    {
     "name": "stderr",
     "output_type": "stream",
     "text": [
      "Processing positions: 55033630lines [4:35:28, 904.98lines/s] "
     ]
    },
    {
     "name": "stdout",
     "output_type": "stream",
     "text": [
      "\n",
      "✓ Previous chunk 944 saved. Ledger updated.\n",
      "\n",
      "Submitting chunk 945 (50000 positions) for asynchronous saving...\n",
      "  Chunk 945 submitted. Main thread continues.\n",
      "  Total processed (optimistic): 47,350,000 positions\n",
      "  Progress: Line 55,033,593\n"
     ]
    },
    {
     "name": "stderr",
     "output_type": "stream",
     "text": [
      "Processing positions: 55091027lines [4:36:15, 804.31lines/s] "
     ]
    },
    {
     "name": "stdout",
     "output_type": "stream",
     "text": [
      "\n",
      "✓ Previous chunk 945 saved. Ledger updated.\n",
      "\n",
      "Submitting chunk 946 (50000 positions) for asynchronous saving...\n",
      "  Chunk 946 submitted. Main thread continues.\n",
      "  Total processed (optimistic): 47,400,000 positions\n",
      "  Progress: Line 55,090,956\n"
     ]
    },
    {
     "name": "stderr",
     "output_type": "stream",
     "text": [
      "Processing positions: 55100130lines [4:36:23, 1116.99lines/s]"
     ]
    },
    {
     "name": "stdout",
     "output_type": "stream",
     "text": [
      "Progress checkpoint: Line 55,100,000, Found 16,658,024 valid positions this session.\n"
     ]
    },
    {
     "name": "stderr",
     "output_type": "stream",
     "text": [
      "Processing positions: 55147954lines [4:37:02, 898.83lines/s] "
     ]
    },
    {
     "name": "stdout",
     "output_type": "stream",
     "text": [
      "\n",
      "✓ Previous chunk 946 saved. Ledger updated.\n",
      "\n",
      "Submitting chunk 947 (50000 positions) for asynchronous saving...\n",
      "  Chunk 947 submitted. Main thread continues.\n",
      "  Total processed (optimistic): 47,450,000 positions\n",
      "  Progress: Line 55,147,878\n"
     ]
    },
    {
     "name": "stderr",
     "output_type": "stream",
     "text": [
      "Processing positions: 55200138lines [4:37:45, 1335.53lines/s]"
     ]
    },
    {
     "name": "stdout",
     "output_type": "stream",
     "text": [
      "Progress checkpoint: Line 55,200,000, Found 16,744,894 valid positions this session.\n"
     ]
    },
    {
     "name": "stderr",
     "output_type": "stream",
     "text": [
      "Processing positions: 55205749lines [4:37:50, 858.27lines/s] "
     ]
    },
    {
     "name": "stdout",
     "output_type": "stream",
     "text": [
      "\n",
      "✓ Previous chunk 947 saved. Ledger updated.\n",
      "\n",
      "Submitting chunk 948 (50000 positions) for asynchronous saving...\n",
      "  Chunk 948 submitted. Main thread continues.\n",
      "  Total processed (optimistic): 47,500,000 positions\n",
      "  Progress: Line 55,205,683\n"
     ]
    },
    {
     "name": "stderr",
     "output_type": "stream",
     "text": [
      "Processing positions: 55264100lines [4:38:37, 877.58lines/s] "
     ]
    },
    {
     "name": "stdout",
     "output_type": "stream",
     "text": [
      "\n",
      "✓ Previous chunk 948 saved. Ledger updated.\n",
      "\n",
      "Submitting chunk 949 (50000 positions) for asynchronous saving...\n",
      "  Chunk 949 submitted. Main thread continues.\n",
      "  Total processed (optimistic): 47,550,000 positions\n",
      "  Progress: Line 55,263,992\n"
     ]
    },
    {
     "name": "stderr",
     "output_type": "stream",
     "text": [
      "Processing positions: 55300186lines [4:39:07, 1188.40lines/s]"
     ]
    },
    {
     "name": "stdout",
     "output_type": "stream",
     "text": [
      "Progress checkpoint: Line 55,300,000, Found 16,831,527 valid positions this session.\n"
     ]
    },
    {
     "name": "stderr",
     "output_type": "stream",
     "text": [
      "Processing positions: 55321293lines [4:39:24, 952.66lines/s] "
     ]
    },
    {
     "name": "stdout",
     "output_type": "stream",
     "text": [
      "\n",
      "✓ Previous chunk 949 saved. Ledger updated.\n",
      "\n",
      "Submitting chunk 950 (50000 positions) for asynchronous saving...\n",
      "  Chunk 950 submitted. Main thread continues.\n",
      "  Total processed (optimistic): 47,600,000 positions\n",
      "  Progress: Line 55,321,227\n"
     ]
    },
    {
     "name": "stderr",
     "output_type": "stream",
     "text": [
      "Processing positions: 55379354lines [4:40:10, 903.66lines/s] "
     ]
    },
    {
     "name": "stdout",
     "output_type": "stream",
     "text": [
      "\n",
      "✓ Previous chunk 950 saved. Ledger updated.\n",
      "\n",
      "Submitting chunk 951 (50000 positions) for asynchronous saving...\n",
      "  Chunk 951 submitted. Main thread continues.\n",
      "  Total processed (optimistic): 47,650,000 positions\n",
      "  Progress: Line 55,379,301\n"
     ]
    },
    {
     "name": "stderr",
     "output_type": "stream",
     "text": [
      "Processing positions: 55400148lines [4:40:27, 1258.42lines/s]"
     ]
    },
    {
     "name": "stdout",
     "output_type": "stream",
     "text": [
      "Progress checkpoint: Line 55,400,000, Found 16,917,610 valid positions this session.\n"
     ]
    },
    {
     "name": "stderr",
     "output_type": "stream",
     "text": [
      "Processing positions: 55437596lines [4:40:57, 836.92lines/s] "
     ]
    },
    {
     "name": "stdout",
     "output_type": "stream",
     "text": [
      "\n",
      "✓ Previous chunk 951 saved. Ledger updated.\n",
      "\n",
      "Submitting chunk 952 (50000 positions) for asynchronous saving...\n",
      "  Chunk 952 submitted. Main thread continues.\n",
      "  Total processed (optimistic): 47,700,000 positions\n",
      "  Progress: Line 55,437,569\n"
     ]
    },
    {
     "name": "stderr",
     "output_type": "stream",
     "text": [
      "Processing positions: 55495432lines [4:41:44, 924.73lines/s] "
     ]
    },
    {
     "name": "stdout",
     "output_type": "stream",
     "text": [
      "\n",
      "✓ Previous chunk 952 saved. Ledger updated.\n",
      "\n",
      "Submitting chunk 953 (50000 positions) for asynchronous saving...\n",
      "  Chunk 953 submitted. Main thread continues.\n",
      "  Total processed (optimistic): 47,750,000 positions\n",
      "  Progress: Line 55,495,322\n"
     ]
    },
    {
     "name": "stderr",
     "output_type": "stream",
     "text": [
      "Processing positions: 55500104lines [4:41:48, 1176.36lines/s]"
     ]
    },
    {
     "name": "stdout",
     "output_type": "stream",
     "text": [
      "Progress checkpoint: Line 55,500,000, Found 17,004,179 valid positions this session.\n"
     ]
    },
    {
     "name": "stderr",
     "output_type": "stream",
     "text": [
      "Processing positions: 55553559lines [4:42:30, 923.85lines/s] "
     ]
    },
    {
     "name": "stdout",
     "output_type": "stream",
     "text": [
      "\n",
      "✓ Previous chunk 953 saved. Ledger updated.\n",
      "\n",
      "Submitting chunk 954 (50000 positions) for asynchronous saving...\n",
      "  Chunk 954 submitted. Main thread continues.\n",
      "  Total processed (optimistic): 47,800,000 positions\n",
      "  Progress: Line 55,553,539\n"
     ]
    },
    {
     "name": "stderr",
     "output_type": "stream",
     "text": [
      "Processing positions: 55600151lines [4:43:07, 1237.82lines/s]"
     ]
    },
    {
     "name": "stdout",
     "output_type": "stream",
     "text": [
      "Progress checkpoint: Line 55,600,000, Found 17,089,957 valid positions this session.\n"
     ]
    },
    {
     "name": "stderr",
     "output_type": "stream",
     "text": [
      "Processing positions: 55611627lines [4:43:16, 872.55lines/s] "
     ]
    },
    {
     "name": "stdout",
     "output_type": "stream",
     "text": [
      "\n",
      "✓ Previous chunk 954 saved. Ledger updated.\n",
      "\n",
      "Submitting chunk 955 (50000 positions) for asynchronous saving...\n",
      "  Chunk 955 submitted. Main thread continues.\n",
      "  Total processed (optimistic): 47,850,000 positions\n",
      "  Progress: Line 55,611,547\n"
     ]
    },
    {
     "name": "stderr",
     "output_type": "stream",
     "text": [
      "Processing positions: 55668359lines [4:44:02, 1174.34lines/s]"
     ]
    },
    {
     "name": "stdout",
     "output_type": "stream",
     "text": [
      "\n",
      "✓ Previous chunk 955 saved. Ledger updated.\n",
      "\n",
      "Submitting chunk 956 (50000 positions) for asynchronous saving...\n",
      "  Chunk 956 submitted. Main thread continues.\n",
      "  Total processed (optimistic): 47,900,000 positions\n",
      "  Progress: Line 55,668,380\n"
     ]
    },
    {
     "name": "stderr",
     "output_type": "stream",
     "text": [
      "Processing positions: 55700195lines [4:44:29, 1263.56lines/s]"
     ]
    },
    {
     "name": "stdout",
     "output_type": "stream",
     "text": [
      "Progress checkpoint: Line 55,700,000, Found 17,177,837 valid positions this session.\n"
     ]
    },
    {
     "name": "stderr",
     "output_type": "stream",
     "text": [
      "Processing positions: 55724961lines [4:44:50, 929.09lines/s] "
     ]
    },
    {
     "name": "stdout",
     "output_type": "stream",
     "text": [
      "\n",
      "✓ Previous chunk 956 saved. Ledger updated.\n",
      "\n",
      "Submitting chunk 957 (50000 positions) for asynchronous saving...\n",
      "  Chunk 957 submitted. Main thread continues.\n",
      "  Total processed (optimistic): 47,950,000 positions\n",
      "  Progress: Line 55,724,932\n"
     ]
    },
    {
     "name": "stderr",
     "output_type": "stream",
     "text": [
      "Processing positions: 55782897lines [4:45:37, 1009.49lines/s]"
     ]
    },
    {
     "name": "stdout",
     "output_type": "stream",
     "text": [
      "\n",
      "✓ Previous chunk 957 saved. Ledger updated.\n",
      "\n",
      "Submitting chunk 958 (50000 positions) for asynchronous saving...\n",
      "  Chunk 958 submitted. Main thread continues.\n",
      "  Total processed (optimistic): 48,000,000 positions\n",
      "  Progress: Line 55,782,760\n"
     ]
    },
    {
     "name": "stderr",
     "output_type": "stream",
     "text": [
      "Processing positions: 55800138lines [4:45:51, 1203.47lines/s]"
     ]
    },
    {
     "name": "stdout",
     "output_type": "stream",
     "text": [
      "Progress checkpoint: Line 55,800,000, Found 17,264,905 valid positions this session.\n"
     ]
    },
    {
     "name": "stderr",
     "output_type": "stream",
     "text": [
      "Processing positions: 55841223lines [4:46:24, 970.78lines/s] "
     ]
    },
    {
     "name": "stdout",
     "output_type": "stream",
     "text": [
      "\n",
      "✓ Previous chunk 958 saved. Ledger updated.\n",
      "\n",
      "Submitting chunk 959 (50000 positions) for asynchronous saving...\n",
      "  Chunk 959 submitted. Main thread continues.\n",
      "  Total processed (optimistic): 48,050,000 positions\n",
      "  Progress: Line 55,841,131\n"
     ]
    },
    {
     "name": "stderr",
     "output_type": "stream",
     "text": [
      "Processing positions: 55898857lines [4:47:11, 851.51lines/s] "
     ]
    },
    {
     "name": "stdout",
     "output_type": "stream",
     "text": [
      "\n",
      "✓ Previous chunk 959 saved. Ledger updated.\n",
      "\n",
      "Submitting chunk 960 (50000 positions) for asynchronous saving...\n",
      "  Chunk 960 submitted. Main thread continues.\n",
      "  Total processed (optimistic): 48,100,000 positions\n",
      "  Progress: Line 55,898,752\n"
     ]
    },
    {
     "name": "stderr",
     "output_type": "stream",
     "text": [
      "Processing positions: 55900126lines [4:47:13, 991.94lines/s]"
     ]
    },
    {
     "name": "stdout",
     "output_type": "stream",
     "text": [
      "Progress checkpoint: Line 55,900,000, Found 17,351,137 valid positions this session.\n"
     ]
    },
    {
     "name": "stderr",
     "output_type": "stream",
     "text": [
      "Processing positions: 55956158lines [4:47:58, 871.40lines/s] "
     ]
    },
    {
     "name": "stdout",
     "output_type": "stream",
     "text": [
      "\n",
      "✓ Previous chunk 960 saved. Ledger updated.\n",
      "\n",
      "Submitting chunk 961 (50000 positions) for asynchronous saving...\n",
      "  Chunk 961 submitted. Main thread continues.\n",
      "  Total processed (optimistic): 48,150,000 positions\n",
      "  Progress: Line 55,956,092\n"
     ]
    },
    {
     "name": "stderr",
     "output_type": "stream",
     "text": [
      "Processing positions: 56000144lines [4:48:34, 1247.65lines/s]"
     ]
    },
    {
     "name": "stdout",
     "output_type": "stream",
     "text": [
      "Progress checkpoint: Line 56,000,000, Found 17,438,423 valid positions this session.\n"
     ]
    },
    {
     "name": "stderr",
     "output_type": "stream",
     "text": [
      "Processing positions: 56013381lines [4:48:45, 889.18lines/s] "
     ]
    },
    {
     "name": "stdout",
     "output_type": "stream",
     "text": [
      "\n",
      "✓ Previous chunk 961 saved. Ledger updated.\n",
      "\n",
      "Submitting chunk 962 (50000 positions) for asynchronous saving...\n",
      "  Chunk 962 submitted. Main thread continues.\n",
      "  Total processed (optimistic): 48,200,000 positions\n",
      "  Progress: Line 56,013,264\n"
     ]
    },
    {
     "name": "stderr",
     "output_type": "stream",
     "text": [
      "Processing positions: 56070243lines [4:49:32, 965.66lines/s] "
     ]
    },
    {
     "name": "stdout",
     "output_type": "stream",
     "text": [
      "\n",
      "✓ Previous chunk 962 saved. Ledger updated.\n",
      "\n",
      "Submitting chunk 963 (50000 positions) for asynchronous saving...\n",
      "  Chunk 963 submitted. Main thread continues.\n",
      "  Total processed (optimistic): 48,250,000 positions\n",
      "  Progress: Line 56,070,204\n"
     ]
    },
    {
     "name": "stderr",
     "output_type": "stream",
     "text": [
      "Processing positions: 56100236lines [4:49:56, 1257.27lines/s]"
     ]
    },
    {
     "name": "stdout",
     "output_type": "stream",
     "text": [
      "Progress checkpoint: Line 56,100,000, Found 17,525,785 valid positions this session.\n"
     ]
    },
    {
     "name": "stderr",
     "output_type": "stream",
     "text": [
      "Processing positions: 56128002lines [4:50:18, 1322.37lines/s]"
     ]
    },
    {
     "name": "stdout",
     "output_type": "stream",
     "text": [
      "\n",
      "✓ Previous chunk 963 saved. Ledger updated.\n",
      "\n",
      "Submitting chunk 964 (50000 positions) for asynchronous saving...\n",
      "  Chunk 964 submitted. Main thread continues.\n",
      "  Total processed (optimistic): 48,300,000 positions\n",
      "  Progress: Line 56,128,004\n"
     ]
    },
    {
     "name": "stderr",
     "output_type": "stream",
     "text": [
      "Processing positions: 56185947lines [4:51:05, 928.62lines/s] "
     ]
    },
    {
     "name": "stdout",
     "output_type": "stream",
     "text": [
      "\n",
      "✓ Previous chunk 964 saved. Ledger updated.\n",
      "\n",
      "Submitting chunk 965 (50000 positions) for asynchronous saving...\n",
      "  Chunk 965 submitted. Main thread continues.\n",
      "  Total processed (optimistic): 48,350,000 positions\n",
      "  Progress: Line 56,185,947\n"
     ]
    },
    {
     "name": "stderr",
     "output_type": "stream",
     "text": [
      "Processing positions: 56200152lines [4:51:17, 1142.53lines/s]"
     ]
    },
    {
     "name": "stdout",
     "output_type": "stream",
     "text": [
      "Progress checkpoint: Line 56,200,000, Found 17,612,535 valid positions this session.\n"
     ]
    },
    {
     "name": "stderr",
     "output_type": "stream",
     "text": [
      "Processing positions: 56242291lines [4:51:52, 932.98lines/s] "
     ]
    },
    {
     "name": "stdout",
     "output_type": "stream",
     "text": [
      "\n",
      "✓ Previous chunk 965 saved. Ledger updated.\n",
      "\n",
      "Submitting chunk 966 (50000 positions) for asynchronous saving...\n",
      "  Chunk 966 submitted. Main thread continues.\n",
      "  Total processed (optimistic): 48,400,000 positions\n",
      "  Progress: Line 56,242,223\n"
     ]
    },
    {
     "name": "stderr",
     "output_type": "stream",
     "text": [
      "Processing positions: 56300121lines [4:52:39, 1139.35lines/s]"
     ]
    },
    {
     "name": "stdout",
     "output_type": "stream",
     "text": [
      "Progress checkpoint: Line 56,300,000, Found 17,699,763 valid positions this session.\n"
     ]
    },
    {
     "name": "stderr",
     "output_type": "stream",
     "text": [
      "Processing positions: 56300358lines [4:52:39, 802.69lines/s] "
     ]
    },
    {
     "name": "stdout",
     "output_type": "stream",
     "text": [
      "\n",
      "✓ Previous chunk 966 saved. Ledger updated.\n",
      "\n",
      "Submitting chunk 967 (50000 positions) for asynchronous saving...\n",
      "  Chunk 967 submitted. Main thread continues.\n",
      "  Total processed (optimistic): 48,450,000 positions\n",
      "  Progress: Line 56,300,262\n"
     ]
    },
    {
     "name": "stderr",
     "output_type": "stream",
     "text": [
      "Processing positions: 56357535lines [4:53:26, 834.58lines/s] "
     ]
    },
    {
     "name": "stdout",
     "output_type": "stream",
     "text": [
      "\n",
      "✓ Previous chunk 967 saved. Ledger updated.\n",
      "\n",
      "Submitting chunk 968 (50000 positions) for asynchronous saving...\n",
      "  Chunk 968 submitted. Main thread continues.\n",
      "  Total processed (optimistic): 48,500,000 positions\n",
      "  Progress: Line 56,357,505\n"
     ]
    },
    {
     "name": "stderr",
     "output_type": "stream",
     "text": [
      "Processing positions: 56400185lines [4:54:01, 1147.60lines/s]"
     ]
    },
    {
     "name": "stdout",
     "output_type": "stream",
     "text": [
      "Progress checkpoint: Line 56,400,000, Found 17,787,112 valid positions this session.\n"
     ]
    },
    {
     "name": "stderr",
     "output_type": "stream",
     "text": [
      "Processing positions: 56414680lines [4:54:13, 1185.73lines/s]"
     ]
    },
    {
     "name": "stdout",
     "output_type": "stream",
     "text": [
      "\n",
      "✓ Previous chunk 968 saved. Ledger updated.\n",
      "\n",
      "Submitting chunk 969 (50000 positions) for asynchronous saving...\n",
      "  Chunk 969 submitted. Main thread continues.\n",
      "  Total processed (optimistic): 48,550,000 positions\n",
      "  Progress: Line 56,414,685\n"
     ]
    },
    {
     "name": "stderr",
     "output_type": "stream",
     "text": [
      "Processing positions: 56471988lines [4:55:00, 875.23lines/s] "
     ]
    },
    {
     "name": "stdout",
     "output_type": "stream",
     "text": [
      "\n",
      "✓ Previous chunk 969 saved. Ledger updated.\n",
      "\n",
      "Submitting chunk 970 (50000 positions) for asynchronous saving...\n",
      "  Chunk 970 submitted. Main thread continues.\n",
      "  Total processed (optimistic): 48,600,000 positions\n",
      "  Progress: Line 56,471,902\n"
     ]
    },
    {
     "name": "stderr",
     "output_type": "stream",
     "text": [
      "Processing positions: 56500225lines [4:55:24, 1173.11lines/s]"
     ]
    },
    {
     "name": "stdout",
     "output_type": "stream",
     "text": [
      "Progress checkpoint: Line 56,500,000, Found 17,874,678 valid positions this session.\n"
     ]
    },
    {
     "name": "stderr",
     "output_type": "stream",
     "text": [
      "Processing positions: 56528848lines [4:55:47, 955.94lines/s] "
     ]
    },
    {
     "name": "stdout",
     "output_type": "stream",
     "text": [
      "\n",
      "✓ Previous chunk 970 saved. Ledger updated.\n",
      "\n",
      "Submitting chunk 971 (50000 positions) for asynchronous saving...\n",
      "  Chunk 971 submitted. Main thread continues.\n",
      "  Total processed (optimistic): 48,650,000 positions\n",
      "  Progress: Line 56,528,830\n"
     ]
    },
    {
     "name": "stderr",
     "output_type": "stream",
     "text": [
      "Processing positions: 56585763lines [4:56:34, 860.78lines/s] "
     ]
    },
    {
     "name": "stdout",
     "output_type": "stream",
     "text": [
      "\n",
      "✓ Previous chunk 971 saved. Ledger updated.\n",
      "\n",
      "Submitting chunk 972 (50000 positions) for asynchronous saving...\n",
      "  Chunk 972 submitted. Main thread continues.\n",
      "  Total processed (optimistic): 48,700,000 positions\n",
      "  Progress: Line 56,585,724\n"
     ]
    },
    {
     "name": "stderr",
     "output_type": "stream",
     "text": [
      "Processing positions: 56600124lines [4:56:46, 1256.50lines/s]"
     ]
    },
    {
     "name": "stdout",
     "output_type": "stream",
     "text": [
      "Progress checkpoint: Line 56,600,000, Found 17,962,455 valid positions this session.\n"
     ]
    },
    {
     "name": "stderr",
     "output_type": "stream",
     "text": [
      "Processing positions: 56643627lines [4:57:21, 835.35lines/s] "
     ]
    },
    {
     "name": "stdout",
     "output_type": "stream",
     "text": [
      "\n",
      "✓ Previous chunk 972 saved. Ledger updated.\n",
      "\n",
      "Submitting chunk 973 (50000 positions) for asynchronous saving...\n",
      "  Chunk 973 submitted. Main thread continues.\n",
      "  Total processed (optimistic): 48,750,000 positions\n",
      "  Progress: Line 56,643,550\n"
     ]
    },
    {
     "name": "stderr",
     "output_type": "stream",
     "text": [
      "Processing positions: 56700225lines [4:58:06, 1224.59lines/s]"
     ]
    },
    {
     "name": "stdout",
     "output_type": "stream",
     "text": [
      "Progress checkpoint: Line 56,700,000, Found 18,049,016 valid positions this session.\n"
     ]
    },
    {
     "name": "stderr",
     "output_type": "stream",
     "text": [
      "Processing positions: 56701101lines [4:58:07, 895.46lines/s] "
     ]
    },
    {
     "name": "stdout",
     "output_type": "stream",
     "text": [
      "\n",
      "✓ Previous chunk 973 saved. Ledger updated.\n",
      "\n",
      "Submitting chunk 974 (50000 positions) for asynchronous saving...\n",
      "  Chunk 974 submitted. Main thread continues.\n",
      "  Total processed (optimistic): 48,800,000 positions\n",
      "  Progress: Line 56,701,072\n"
     ]
    },
    {
     "name": "stderr",
     "output_type": "stream",
     "text": [
      "Processing positions: 56757667lines [4:58:53, 911.60lines/s] "
     ]
    },
    {
     "name": "stdout",
     "output_type": "stream",
     "text": [
      "\n",
      "✓ Previous chunk 974 saved. Ledger updated.\n",
      "\n",
      "Submitting chunk 975 (50000 positions) for asynchronous saving...\n",
      "  Chunk 975 submitted. Main thread continues.\n",
      "  Total processed (optimistic): 48,850,000 positions\n",
      "  Progress: Line 56,757,659\n"
     ]
    },
    {
     "name": "stderr",
     "output_type": "stream",
     "text": [
      "Processing positions: 56800098lines [4:59:29, 1080.40lines/s]"
     ]
    },
    {
     "name": "stdout",
     "output_type": "stream",
     "text": [
      "Progress checkpoint: Line 56,800,000, Found 18,137,422 valid positions this session.\n"
     ]
    },
    {
     "name": "stderr",
     "output_type": "stream",
     "text": [
      "Processing positions: 56814346lines [4:59:40, 882.95lines/s] "
     ]
    },
    {
     "name": "stdout",
     "output_type": "stream",
     "text": [
      "\n",
      "✓ Previous chunk 975 saved. Ledger updated.\n",
      "\n",
      "Submitting chunk 976 (50000 positions) for asynchronous saving...\n",
      "  Chunk 976 submitted. Main thread continues.\n",
      "  Total processed (optimistic): 48,900,000 positions\n",
      "  Progress: Line 56,814,285\n"
     ]
    },
    {
     "name": "stderr",
     "output_type": "stream",
     "text": [
      "Processing positions: 56872180lines [5:00:27, 919.06lines/s] "
     ]
    },
    {
     "name": "stdout",
     "output_type": "stream",
     "text": [
      "\n",
      "✓ Previous chunk 976 saved. Ledger updated.\n",
      "\n",
      "Submitting chunk 977 (50000 positions) for asynchronous saving...\n",
      "  Chunk 977 submitted. Main thread continues.\n",
      "  Total processed (optimistic): 48,950,000 positions\n",
      "  Progress: Line 56,872,171\n"
     ]
    },
    {
     "name": "stderr",
     "output_type": "stream",
     "text": [
      "Processing positions: 56900168lines [5:00:51, 1368.81lines/s]"
     ]
    },
    {
     "name": "stdout",
     "output_type": "stream",
     "text": [
      "Progress checkpoint: Line 56,900,000, Found 18,224,850 valid positions this session.\n"
     ]
    },
    {
     "name": "stderr",
     "output_type": "stream",
     "text": [
      "Processing positions: 56928776lines [5:01:15, 820.77lines/s] "
     ]
    },
    {
     "name": "stdout",
     "output_type": "stream",
     "text": [
      "\n",
      "✓ Previous chunk 977 saved. Ledger updated.\n",
      "\n",
      "Submitting chunk 978 (50000 positions) for asynchronous saving...\n",
      "  Chunk 978 submitted. Main thread continues.\n",
      "  Total processed (optimistic): 49,000,000 positions\n",
      "  Progress: Line 56,928,719\n"
     ]
    },
    {
     "name": "stderr",
     "output_type": "stream",
     "text": [
      "Processing positions: 56986216lines [5:02:02, 810.52lines/s] "
     ]
    },
    {
     "name": "stdout",
     "output_type": "stream",
     "text": [
      "\n",
      "✓ Previous chunk 978 saved. Ledger updated.\n",
      "\n",
      "Submitting chunk 979 (50000 positions) for asynchronous saving...\n",
      "  Chunk 979 submitted. Main thread continues.\n",
      "  Total processed (optimistic): 49,050,000 positions\n",
      "  Progress: Line 56,986,148\n"
     ]
    },
    {
     "name": "stderr",
     "output_type": "stream",
     "text": [
      "Processing positions: 57000218lines [5:02:14, 1160.30lines/s]"
     ]
    },
    {
     "name": "stdout",
     "output_type": "stream",
     "text": [
      "Progress checkpoint: Line 57,000,000, Found 18,312,132 valid positions this session.\n"
     ]
    },
    {
     "name": "stderr",
     "output_type": "stream",
     "text": [
      "Processing positions: 57043797lines [5:02:49, 984.30lines/s] "
     ]
    },
    {
     "name": "stdout",
     "output_type": "stream",
     "text": [
      "\n",
      "✓ Previous chunk 979 saved. Ledger updated.\n",
      "\n",
      "Submitting chunk 980 (50000 positions) for asynchronous saving...\n",
      "  Chunk 980 submitted. Main thread continues.\n",
      "  Total processed (optimistic): 49,100,000 positions\n",
      "  Progress: Line 57,043,684\n"
     ]
    },
    {
     "name": "stderr",
     "output_type": "stream",
     "text": [
      "Processing positions: 57100147lines [5:03:35, 1187.77lines/s]"
     ]
    },
    {
     "name": "stdout",
     "output_type": "stream",
     "text": [
      "Progress checkpoint: Line 57,100,000, Found 18,399,200 valid positions this session.\n"
     ]
    },
    {
     "name": "stderr",
     "output_type": "stream",
     "text": [
      "Processing positions: 57100944lines [5:03:36, 763.55lines/s] "
     ]
    },
    {
     "name": "stdout",
     "output_type": "stream",
     "text": [
      "\n",
      "✓ Previous chunk 980 saved. Ledger updated.\n",
      "\n",
      "Submitting chunk 981 (50000 positions) for asynchronous saving...\n",
      "  Chunk 981 submitted. Main thread continues.\n",
      "  Total processed (optimistic): 49,150,000 positions\n",
      "  Progress: Line 57,100,851\n"
     ]
    },
    {
     "name": "stderr",
     "output_type": "stream",
     "text": [
      "Processing positions: 57157673lines [5:04:23, 846.58lines/s] "
     ]
    },
    {
     "name": "stdout",
     "output_type": "stream",
     "text": [
      "\n",
      "✓ Previous chunk 981 saved. Ledger updated.\n",
      "\n",
      "Submitting chunk 982 (50000 positions) for asynchronous saving...\n",
      "  Chunk 982 submitted. Main thread continues.\n",
      "  Total processed (optimistic): 49,200,000 positions\n",
      "  Progress: Line 57,157,601\n"
     ]
    },
    {
     "name": "stderr",
     "output_type": "stream",
     "text": [
      "Processing positions: 57200219lines [5:04:58, 1379.38lines/s]"
     ]
    },
    {
     "name": "stdout",
     "output_type": "stream",
     "text": [
      "Progress checkpoint: Line 57,200,000, Found 18,487,185 valid positions this session.\n"
     ]
    },
    {
     "name": "stderr",
     "output_type": "stream",
     "text": [
      "Processing positions: 57214990lines [5:05:09, 1276.43lines/s]"
     ]
    },
    {
     "name": "stdout",
     "output_type": "stream",
     "text": [
      "\n",
      "✓ Previous chunk 982 saved. Ledger updated.\n",
      "\n",
      "Submitting chunk 983 (50000 positions) for asynchronous saving...\n",
      "  Chunk 983 submitted. Main thread continues.\n",
      "  Total processed (optimistic): 49,250,000 positions\n",
      "  Progress: Line 57,214,992\n"
     ]
    },
    {
     "name": "stderr",
     "output_type": "stream",
     "text": [
      "Processing positions: 57274476lines [5:05:54, 914.16lines/s] "
     ]
    },
    {
     "name": "stdout",
     "output_type": "stream",
     "text": [
      "\n",
      "✓ Previous chunk 983 saved. Ledger updated.\n",
      "\n",
      "Submitting chunk 984 (50000 positions) for asynchronous saving...\n",
      "  Chunk 984 submitted. Main thread continues.\n",
      "  Total processed (optimistic): 49,300,000 positions\n",
      "  Progress: Line 57,274,461\n"
     ]
    },
    {
     "name": "stderr",
     "output_type": "stream",
     "text": [
      "Processing positions: 57300186lines [5:06:15, 1336.69lines/s]"
     ]
    },
    {
     "name": "stdout",
     "output_type": "stream",
     "text": [
      "Progress checkpoint: Line 57,300,000, Found 18,572,306 valid positions this session.\n"
     ]
    },
    {
     "name": "stderr",
     "output_type": "stream",
     "text": [
      "Processing positions: 57331285lines [5:06:41, 860.83lines/s] "
     ]
    },
    {
     "name": "stdout",
     "output_type": "stream",
     "text": [
      "\n",
      "✓ Previous chunk 984 saved. Ledger updated.\n",
      "\n",
      "Submitting chunk 985 (50000 positions) for asynchronous saving...\n",
      "  Chunk 985 submitted. Main thread continues.\n",
      "  Total processed (optimistic): 49,350,000 positions\n",
      "  Progress: Line 57,331,222\n"
     ]
    },
    {
     "name": "stderr",
     "output_type": "stream",
     "text": [
      "Processing positions: 57386883lines [5:07:28, 885.90lines/s] "
     ]
    },
    {
     "name": "stdout",
     "output_type": "stream",
     "text": [
      "\n",
      "✓ Previous chunk 985 saved. Ledger updated.\n",
      "\n",
      "Submitting chunk 986 (50000 positions) for asynchronous saving...\n",
      "  Chunk 986 submitted. Main thread continues.\n",
      "  Total processed (optimistic): 49,400,000 positions\n",
      "  Progress: Line 57,386,832\n"
     ]
    },
    {
     "name": "stderr",
     "output_type": "stream",
     "text": [
      "Processing positions: 57400212lines [5:07:40, 1288.15lines/s]"
     ]
    },
    {
     "name": "stdout",
     "output_type": "stream",
     "text": [
      "Progress checkpoint: Line 57,400,000, Found 18,661,660 valid positions this session.\n"
     ]
    },
    {
     "name": "stderr",
     "output_type": "stream",
     "text": [
      "Processing positions: 57443605lines [5:08:15, 926.35lines/s] "
     ]
    },
    {
     "name": "stdout",
     "output_type": "stream",
     "text": [
      "\n",
      "✓ Previous chunk 986 saved. Ledger updated.\n",
      "\n",
      "Submitting chunk 987 (50000 positions) for asynchronous saving...\n",
      "  Chunk 987 submitted. Main thread continues.\n",
      "  Total processed (optimistic): 49,450,000 positions\n",
      "  Progress: Line 57,443,555\n"
     ]
    },
    {
     "name": "stderr",
     "output_type": "stream",
     "text": [
      "Processing positions: 57500163lines [5:09:02, 1258.09lines/s]"
     ]
    },
    {
     "name": "stdout",
     "output_type": "stream",
     "text": [
      "Progress checkpoint: Line 57,500,000, Found 18,749,184 valid positions this session.\n"
     ]
    },
    {
     "name": "stderr",
     "output_type": "stream",
     "text": [
      "Processing positions: 57501128lines [5:09:02, 1019.85lines/s]"
     ]
    },
    {
     "name": "stdout",
     "output_type": "stream",
     "text": [
      "\n",
      "✓ Previous chunk 987 saved. Ledger updated.\n",
      "\n",
      "Submitting chunk 988 (50000 positions) for asynchronous saving...\n",
      "  Chunk 988 submitted. Main thread continues.\n",
      "  Total processed (optimistic): 49,500,000 positions\n",
      "  Progress: Line 57,501,010\n"
     ]
    },
    {
     "name": "stderr",
     "output_type": "stream",
     "text": [
      "Processing positions: 57559739lines [5:09:49, 1045.74lines/s]"
     ]
    },
    {
     "name": "stdout",
     "output_type": "stream",
     "text": [
      "\n",
      "✓ Previous chunk 988 saved. Ledger updated.\n",
      "\n",
      "Submitting chunk 989 (50000 positions) for asynchronous saving...\n",
      "  Chunk 989 submitted. Main thread continues.\n",
      "  Total processed (optimistic): 49,550,000 positions\n",
      "  Progress: Line 57,559,702\n"
     ]
    },
    {
     "name": "stderr",
     "output_type": "stream",
     "text": [
      "Processing positions: 57600196lines [5:10:22, 1172.20lines/s]"
     ]
    },
    {
     "name": "stdout",
     "output_type": "stream",
     "text": [
      "Progress checkpoint: Line 57,600,000, Found 18,834,819 valid positions this session.\n"
     ]
    },
    {
     "name": "stderr",
     "output_type": "stream",
     "text": [
      "Processing positions: 57617765lines [5:10:36, 1335.27lines/s]"
     ]
    },
    {
     "name": "stdout",
     "output_type": "stream",
     "text": [
      "\n",
      "✓ Previous chunk 989 saved. Ledger updated.\n",
      "\n",
      "Submitting chunk 990 (50000 positions) for asynchronous saving...\n",
      "  Chunk 990 submitted. Main thread continues.\n",
      "  Total processed (optimistic): 49,600,000 positions\n",
      "  Progress: Line 57,617,766\n"
     ]
    },
    {
     "name": "stderr",
     "output_type": "stream",
     "text": [
      "Processing positions: 57675843lines [5:11:22, 969.84lines/s] "
     ]
    },
    {
     "name": "stdout",
     "output_type": "stream",
     "text": [
      "\n",
      "✓ Previous chunk 990 saved. Ledger updated.\n",
      "\n",
      "Submitting chunk 991 (50000 positions) for asynchronous saving...\n",
      "  Chunk 991 submitted. Main thread continues.\n",
      "  Total processed (optimistic): 49,650,000 positions\n",
      "  Progress: Line 57,675,825\n"
     ]
    },
    {
     "name": "stderr",
     "output_type": "stream",
     "text": [
      "Processing positions: 57700204lines [5:11:43, 1196.16lines/s]"
     ]
    },
    {
     "name": "stdout",
     "output_type": "stream",
     "text": [
      "Progress checkpoint: Line 57,700,000, Found 18,921,271 valid positions this session.\n"
     ]
    },
    {
     "name": "stderr",
     "output_type": "stream",
     "text": [
      "Processing positions: 57732650lines [5:12:09, 829.42lines/s] "
     ]
    },
    {
     "name": "stdout",
     "output_type": "stream",
     "text": [
      "\n",
      "✓ Previous chunk 991 saved. Ledger updated.\n",
      "\n",
      "Submitting chunk 992 (50000 positions) for asynchronous saving...\n",
      "  Chunk 992 submitted. Main thread continues.\n",
      "  Total processed (optimistic): 49,700,000 positions\n",
      "  Progress: Line 57,732,548\n"
     ]
    },
    {
     "name": "stderr",
     "output_type": "stream",
     "text": [
      "Processing positions: 57789150lines [5:12:56, 856.21lines/s] "
     ]
    },
    {
     "name": "stdout",
     "output_type": "stream",
     "text": [
      "\n",
      "✓ Previous chunk 992 saved. Ledger updated.\n",
      "\n",
      "Submitting chunk 993 (50000 positions) for asynchronous saving...\n",
      "  Chunk 993 submitted. Main thread continues.\n",
      "  Total processed (optimistic): 49,750,000 positions\n",
      "  Progress: Line 57,789,071\n"
     ]
    },
    {
     "name": "stderr",
     "output_type": "stream",
     "text": [
      "Processing positions: 57800187lines [5:13:05, 1179.77lines/s]"
     ]
    },
    {
     "name": "stdout",
     "output_type": "stream",
     "text": [
      "Progress checkpoint: Line 57,800,000, Found 19,009,548 valid positions this session.\n"
     ]
    },
    {
     "name": "stderr",
     "output_type": "stream",
     "text": [
      "Processing positions: 57846584lines [5:13:42, 1253.01lines/s]"
     ]
    },
    {
     "name": "stdout",
     "output_type": "stream",
     "text": [
      "\n",
      "✓ Previous chunk 993 saved. Ledger updated.\n",
      "\n",
      "Submitting chunk 994 (50000 positions) for asynchronous saving...\n",
      "  Chunk 994 submitted. Main thread continues.\n",
      "  Total processed (optimistic): 49,800,000 positions\n",
      "  Progress: Line 57,846,595\n"
     ]
    },
    {
     "name": "stderr",
     "output_type": "stream",
     "text": [
      "Processing positions: 57900137lines [5:14:24, 1344.45lines/s]"
     ]
    },
    {
     "name": "stdout",
     "output_type": "stream",
     "text": [
      "Progress checkpoint: Line 57,900,000, Found 19,096,119 valid positions this session.\n"
     ]
    },
    {
     "name": "stderr",
     "output_type": "stream",
     "text": [
      "Processing positions: 57904480lines [5:14:27, 972.16lines/s] "
     ]
    },
    {
     "name": "stdout",
     "output_type": "stream",
     "text": [
      "\n",
      "✓ Previous chunk 994 saved. Ledger updated.\n",
      "\n",
      "Submitting chunk 995 (50000 positions) for asynchronous saving...\n",
      "  Chunk 995 submitted. Main thread continues.\n",
      "  Total processed (optimistic): 49,850,000 positions\n",
      "  Progress: Line 57,904,439\n"
     ]
    },
    {
     "name": "stderr",
     "output_type": "stream",
     "text": [
      "Processing positions: 57961230lines [5:15:13, 852.11lines/s] "
     ]
    },
    {
     "name": "stdout",
     "output_type": "stream",
     "text": [
      "\n",
      "✓ Previous chunk 995 saved. Ledger updated.\n",
      "\n",
      "Submitting chunk 996 (50000 positions) for asynchronous saving...\n",
      "  Chunk 996 submitted. Main thread continues.\n",
      "  Total processed (optimistic): 49,900,000 positions\n",
      "  Progress: Line 57,961,131\n"
     ]
    },
    {
     "name": "stderr",
     "output_type": "stream",
     "text": [
      "Processing positions: 58000128lines [5:15:46, 1122.50lines/s]"
     ]
    },
    {
     "name": "stdout",
     "output_type": "stream",
     "text": [
      "Progress checkpoint: Line 58,000,000, Found 19,184,597 valid positions this session.\n"
     ]
    },
    {
     "name": "stderr",
     "output_type": "stream",
     "text": [
      "Processing positions: 58017340lines [5:16:00, 892.37lines/s] "
     ]
    },
    {
     "name": "stdout",
     "output_type": "stream",
     "text": [
      "\n",
      "✓ Previous chunk 996 saved. Ledger updated.\n",
      "\n",
      "Submitting chunk 997 (50000 positions) for asynchronous saving...\n",
      "  Chunk 997 submitted. Main thread continues.\n",
      "  Total processed (optimistic): 49,950,000 positions\n",
      "  Progress: Line 58,017,279\n"
     ]
    },
    {
     "name": "stderr",
     "output_type": "stream",
     "text": [
      "Processing positions: 58073808lines [5:16:47, 986.94lines/s] "
     ]
    },
    {
     "name": "stdout",
     "output_type": "stream",
     "text": [
      "\n",
      "✓ Previous chunk 997 saved. Ledger updated.\n",
      "\n",
      "Submitting chunk 998 (50000 positions) for asynchronous saving...\n",
      "  Chunk 998 submitted. Main thread continues.\n",
      "  Total processed (optimistic): 50,000,000 positions\n",
      "  Progress: Line 58,073,761\n"
     ]
    },
    {
     "name": "stderr",
     "output_type": "stream",
     "text": [
      "Processing positions: 58100133lines [5:17:09, 1136.04lines/s]"
     ]
    },
    {
     "name": "stdout",
     "output_type": "stream",
     "text": [
      "Progress checkpoint: Line 58,100,000, Found 19,272,801 valid positions this session.\n"
     ]
    },
    {
     "name": "stderr",
     "output_type": "stream",
     "text": [
      "Processing positions: 58130707lines [5:17:34, 896.01lines/s] "
     ]
    },
    {
     "name": "stdout",
     "output_type": "stream",
     "text": [
      "\n",
      "✓ Previous chunk 998 saved. Ledger updated.\n",
      "\n",
      "Submitting chunk 999 (50000 positions) for asynchronous saving...\n",
      "  Chunk 999 submitted. Main thread continues.\n",
      "  Total processed (optimistic): 50,050,000 positions\n",
      "  Progress: Line 58,130,666\n"
     ]
    },
    {
     "name": "stderr",
     "output_type": "stream",
     "text": [
      "Processing positions: 58188146lines [5:18:22, 910.43lines/s] "
     ]
    },
    {
     "name": "stdout",
     "output_type": "stream",
     "text": [
      "\n",
      "✓ Previous chunk 999 saved. Ledger updated.\n",
      "\n",
      "Submitting chunk 1000 (50000 positions) for asynchronous saving...\n",
      "  Chunk 1000 submitted. Main thread continues.\n",
      "  Total processed (optimistic): 50,100,000 positions\n",
      "  Progress: Line 58,188,080\n"
     ]
    },
    {
     "name": "stderr",
     "output_type": "stream",
     "text": [
      "Processing positions: 58200217lines [5:18:32, 1214.28lines/s]"
     ]
    },
    {
     "name": "stdout",
     "output_type": "stream",
     "text": [
      "Progress checkpoint: Line 58,200,000, Found 19,360,214 valid positions this session.\n"
     ]
    },
    {
     "name": "stderr",
     "output_type": "stream",
     "text": [
      "Processing positions: 58245159lines [5:19:08, 1306.76lines/s]"
     ]
    },
    {
     "name": "stdout",
     "output_type": "stream",
     "text": [
      "\n",
      "✓ Previous chunk 1000 saved. Ledger updated.\n",
      "\n",
      "Submitting chunk 1001 (50000 positions) for asynchronous saving...\n",
      "  Chunk 1001 submitted. Main thread continues.\n",
      "  Total processed (optimistic): 50,150,000 positions\n",
      "  Progress: Line 58,245,175\n"
     ]
    },
    {
     "name": "stderr",
     "output_type": "stream",
     "text": [
      "Processing positions: 58300189lines [5:19:53, 1235.49lines/s]"
     ]
    },
    {
     "name": "stdout",
     "output_type": "stream",
     "text": [
      "Progress checkpoint: Line 58,300,000, Found 19,448,036 valid positions this session.\n"
     ]
    },
    {
     "name": "stderr",
     "output_type": "stream",
     "text": [
      "Processing positions: 58302296lines [5:19:55, 841.44lines/s] "
     ]
    },
    {
     "name": "stdout",
     "output_type": "stream",
     "text": [
      "\n",
      "✓ Previous chunk 1001 saved. Ledger updated.\n",
      "\n",
      "Submitting chunk 1002 (50000 positions) for asynchronous saving...\n",
      "  Chunk 1002 submitted. Main thread continues.\n",
      "  Total processed (optimistic): 50,200,000 positions\n",
      "  Progress: Line 58,302,233\n"
     ]
    },
    {
     "name": "stderr",
     "output_type": "stream",
     "text": [
      "Processing positions: 58359885lines [5:20:42, 876.32lines/s] "
     ]
    },
    {
     "name": "stdout",
     "output_type": "stream",
     "text": [
      "\n",
      "✓ Previous chunk 1002 saved. Ledger updated.\n",
      "\n",
      "Submitting chunk 1003 (50000 positions) for asynchronous saving...\n",
      "  Chunk 1003 submitted. Main thread continues.\n",
      "  Total processed (optimistic): 50,250,000 positions\n",
      "  Progress: Line 58,359,774\n"
     ]
    },
    {
     "name": "stderr",
     "output_type": "stream",
     "text": [
      "Processing positions: 58400174lines [5:21:15, 1236.00lines/s]"
     ]
    },
    {
     "name": "stdout",
     "output_type": "stream",
     "text": [
      "Progress checkpoint: Line 58,400,000, Found 19,534,954 valid positions this session.\n"
     ]
    },
    {
     "name": "stderr",
     "output_type": "stream",
     "text": [
      "Processing positions: 58417178lines [5:21:28, 902.57lines/s] "
     ]
    },
    {
     "name": "stdout",
     "output_type": "stream",
     "text": [
      "\n",
      "✓ Previous chunk 1003 saved. Ledger updated.\n",
      "\n",
      "Submitting chunk 1004 (50000 positions) for asynchronous saving...\n",
      "  Chunk 1004 submitted. Main thread continues.\n",
      "  Total processed (optimistic): 50,300,000 positions\n",
      "  Progress: Line 58,417,160\n"
     ]
    },
    {
     "name": "stderr",
     "output_type": "stream",
     "text": [
      "Processing positions: 58474425lines [5:22:14, 899.27lines/s] "
     ]
    },
    {
     "name": "stdout",
     "output_type": "stream",
     "text": [
      "\n",
      "✓ Previous chunk 1004 saved. Ledger updated.\n",
      "\n",
      "Submitting chunk 1005 (50000 positions) for asynchronous saving...\n",
      "  Chunk 1005 submitted. Main thread continues.\n",
      "  Total processed (optimistic): 50,350,000 positions\n",
      "  Progress: Line 58,474,324\n"
     ]
    },
    {
     "name": "stderr",
     "output_type": "stream",
     "text": [
      "Processing positions: 58500132lines [5:22:35, 1350.47lines/s]"
     ]
    },
    {
     "name": "stdout",
     "output_type": "stream",
     "text": [
      "Progress checkpoint: Line 58,500,000, Found 19,621,973 valid positions this session.\n"
     ]
    },
    {
     "name": "stderr",
     "output_type": "stream",
     "text": [
      "Processing positions: 58532066lines [5:23:01, 856.76lines/s] "
     ]
    },
    {
     "name": "stdout",
     "output_type": "stream",
     "text": [
      "\n",
      "✓ Previous chunk 1005 saved. Ledger updated.\n",
      "\n",
      "Submitting chunk 1006 (50000 positions) for asynchronous saving...\n",
      "  Chunk 1006 submitted. Main thread continues.\n",
      "  Total processed (optimistic): 50,400,000 positions\n",
      "  Progress: Line 58,531,965\n"
     ]
    },
    {
     "name": "stderr",
     "output_type": "stream",
     "text": [
      "Processing positions: 58587858lines [5:23:48, 902.78lines/s] "
     ]
    },
    {
     "name": "stdout",
     "output_type": "stream",
     "text": [
      "\n",
      "✓ Previous chunk 1006 saved. Ledger updated.\n",
      "\n",
      "Submitting chunk 1007 (50000 positions) for asynchronous saving...\n",
      "  Chunk 1007 submitted. Main thread continues.\n",
      "  Total processed (optimistic): 50,450,000 positions\n",
      "  Progress: Line 58,587,771\n"
     ]
    },
    {
     "name": "stderr",
     "output_type": "stream",
     "text": [
      "Processing positions: 58600142lines [5:23:59, 1148.95lines/s]"
     ]
    },
    {
     "name": "stdout",
     "output_type": "stream",
     "text": [
      "Progress checkpoint: Line 58,600,000, Found 19,710,781 valid positions this session.\n"
     ]
    },
    {
     "name": "stderr",
     "output_type": "stream",
     "text": [
      "Processing positions: 58645258lines [5:24:35, 880.25lines/s] "
     ]
    },
    {
     "name": "stdout",
     "output_type": "stream",
     "text": [
      "\n",
      "✓ Previous chunk 1007 saved. Ledger updated.\n",
      "\n",
      "Submitting chunk 1008 (50000 positions) for asynchronous saving...\n",
      "  Chunk 1008 submitted. Main thread continues.\n",
      "  Total processed (optimistic): 50,500,000 positions\n",
      "  Progress: Line 58,645,206\n"
     ]
    },
    {
     "name": "stderr",
     "output_type": "stream",
     "text": [
      "Processing positions: 58700185lines [5:25:20, 1207.74lines/s]"
     ]
    },
    {
     "name": "stdout",
     "output_type": "stream",
     "text": [
      "Progress checkpoint: Line 58,700,000, Found 19,797,477 valid positions this session.\n"
     ]
    },
    {
     "name": "stderr",
     "output_type": "stream",
     "text": [
      "Processing positions: 58702939lines [5:25:22, 823.90lines/s] "
     ]
    },
    {
     "name": "stdout",
     "output_type": "stream",
     "text": [
      "\n",
      "✓ Previous chunk 1008 saved. Ledger updated.\n",
      "\n",
      "Submitting chunk 1009 (50000 positions) for asynchronous saving...\n",
      "  Chunk 1009 submitted. Main thread continues.\n",
      "  Total processed (optimistic): 50,550,000 positions\n",
      "  Progress: Line 58,702,911\n"
     ]
    },
    {
     "name": "stderr",
     "output_type": "stream",
     "text": [
      "Processing positions: 58760356lines [5:26:10, 820.67lines/s] "
     ]
    },
    {
     "name": "stdout",
     "output_type": "stream",
     "text": [
      "\n",
      "✓ Previous chunk 1009 saved. Ledger updated.\n",
      "\n",
      "Submitting chunk 1010 (50000 positions) for asynchronous saving...\n",
      "  Chunk 1010 submitted. Main thread continues.\n",
      "  Total processed (optimistic): 50,600,000 positions\n",
      "  Progress: Line 58,760,272\n"
     ]
    },
    {
     "name": "stderr",
     "output_type": "stream",
     "text": [
      "Processing positions: 58800213lines [5:26:42, 1213.93lines/s]"
     ]
    },
    {
     "name": "stdout",
     "output_type": "stream",
     "text": [
      "Progress checkpoint: Line 58,800,000, Found 19,884,428 valid positions this session.\n"
     ]
    },
    {
     "name": "stderr",
     "output_type": "stream",
     "text": [
      "Processing positions: 58818251lines [5:26:57, 973.68lines/s] "
     ]
    },
    {
     "name": "stdout",
     "output_type": "stream",
     "text": [
      "\n",
      "✓ Previous chunk 1010 saved. Ledger updated.\n",
      "\n",
      "Submitting chunk 1011 (50000 positions) for asynchronous saving...\n",
      "  Chunk 1011 submitted. Main thread continues.\n",
      "  Total processed (optimistic): 50,650,000 positions\n",
      "  Progress: Line 58,818,244\n"
     ]
    },
    {
     "name": "stderr",
     "output_type": "stream",
     "text": [
      "Processing positions: 58875150lines [5:27:44, 963.78lines/s] "
     ]
    },
    {
     "name": "stdout",
     "output_type": "stream",
     "text": [
      "\n",
      "✓ Previous chunk 1011 saved. Ledger updated.\n",
      "\n",
      "Submitting chunk 1012 (50000 positions) for asynchronous saving...\n",
      "  Chunk 1012 submitted. Main thread continues.\n",
      "  Total processed (optimistic): 50,700,000 positions\n",
      "  Progress: Line 58,875,145\n"
     ]
    },
    {
     "name": "stderr",
     "output_type": "stream",
     "text": [
      "Processing positions: 58900232lines [5:28:05, 1144.04lines/s]"
     ]
    },
    {
     "name": "stdout",
     "output_type": "stream",
     "text": [
      "Progress checkpoint: Line 58,900,000, Found 19,971,992 valid positions this session.\n"
     ]
    },
    {
     "name": "stderr",
     "output_type": "stream",
     "text": [
      "Processing positions: 58932027lines [5:28:31, 858.60lines/s] "
     ]
    },
    {
     "name": "stdout",
     "output_type": "stream",
     "text": [
      "\n",
      "✓ Previous chunk 1012 saved. Ledger updated.\n",
      "\n",
      "Submitting chunk 1013 (50000 positions) for asynchronous saving...\n",
      "  Chunk 1013 submitted. Main thread continues.\n",
      "  Total processed (optimistic): 50,750,000 positions\n",
      "  Progress: Line 58,931,991\n"
     ]
    },
    {
     "name": "stderr",
     "output_type": "stream",
     "text": [
      "Processing positions: 58989224lines [5:29:17, 983.11lines/s] "
     ]
    },
    {
     "name": "stdout",
     "output_type": "stream",
     "text": [
      "\n",
      "✓ Previous chunk 1013 saved. Ledger updated.\n",
      "\n",
      "Submitting chunk 1014 (50000 positions) for asynchronous saving...\n",
      "  Chunk 1014 submitted. Main thread continues.\n",
      "  Total processed (optimistic): 50,800,000 positions\n",
      "  Progress: Line 58,989,186\n"
     ]
    },
    {
     "name": "stderr",
     "output_type": "stream",
     "text": [
      "Processing positions: 59000230lines [5:29:25, 1277.30lines/s]"
     ]
    },
    {
     "name": "stdout",
     "output_type": "stream",
     "text": [
      "Progress checkpoint: Line 59,000,000, Found 20,059,232 valid positions this session.\n"
     ]
    },
    {
     "name": "stderr",
     "output_type": "stream",
     "text": [
      "Processing positions: 59048759lines [5:30:02, 914.48lines/s] "
     ]
    },
    {
     "name": "stdout",
     "output_type": "stream",
     "text": [
      "\n",
      "✓ Previous chunk 1014 saved. Ledger updated.\n",
      "\n",
      "Submitting chunk 1015 (50000 positions) for asynchronous saving...\n",
      "  Chunk 1015 submitted. Main thread continues.\n",
      "  Total processed (optimistic): 50,850,000 positions\n",
      "  Progress: Line 59,048,719\n"
     ]
    },
    {
     "name": "stderr",
     "output_type": "stream",
     "text": [
      "Processing positions: 59100164lines [5:30:45, 1167.76lines/s]"
     ]
    },
    {
     "name": "stdout",
     "output_type": "stream",
     "text": [
      "Progress checkpoint: Line 59,100,000, Found 20,145,190 valid positions this session.\n"
     ]
    },
    {
     "name": "stderr",
     "output_type": "stream",
     "text": [
      "Processing positions: 59105508lines [5:30:49, 895.30lines/s] "
     ]
    },
    {
     "name": "stdout",
     "output_type": "stream",
     "text": [
      "\n",
      "✓ Previous chunk 1015 saved. Ledger updated.\n",
      "\n",
      "Submitting chunk 1016 (50000 positions) for asynchronous saving...\n",
      "  Chunk 1016 submitted. Main thread continues.\n",
      "  Total processed (optimistic): 50,900,000 positions\n",
      "  Progress: Line 59,105,455\n"
     ]
    },
    {
     "name": "stderr",
     "output_type": "stream",
     "text": [
      "Processing positions: 59161851lines [5:31:36, 858.45lines/s] "
     ]
    },
    {
     "name": "stdout",
     "output_type": "stream",
     "text": [
      "\n",
      "✓ Previous chunk 1016 saved. Ledger updated.\n",
      "\n",
      "Submitting chunk 1017 (50000 positions) for asynchronous saving...\n",
      "  Chunk 1017 submitted. Main thread continues.\n",
      "  Total processed (optimistic): 50,950,000 positions\n",
      "  Progress: Line 59,161,778\n"
     ]
    },
    {
     "name": "stderr",
     "output_type": "stream",
     "text": [
      "Processing positions: 59200164lines [5:32:08, 1115.72lines/s]"
     ]
    },
    {
     "name": "stdout",
     "output_type": "stream",
     "text": [
      "Progress checkpoint: Line 59,200,000, Found 20,233,587 valid positions this session.\n"
     ]
    },
    {
     "name": "stderr",
     "output_type": "stream",
     "text": [
      "Processing positions: 59219324lines [5:32:23, 911.98lines/s] "
     ]
    },
    {
     "name": "stdout",
     "output_type": "stream",
     "text": [
      "\n",
      "✓ Previous chunk 1017 saved. Ledger updated.\n",
      "\n",
      "Submitting chunk 1018 (50000 positions) for asynchronous saving...\n",
      "  Chunk 1018 submitted. Main thread continues.\n",
      "  Total processed (optimistic): 51,000,000 positions\n",
      "  Progress: Line 59,219,322\n"
     ]
    },
    {
     "name": "stderr",
     "output_type": "stream",
     "text": [
      "Processing positions: 59277935lines [5:33:10, 836.67lines/s] "
     ]
    },
    {
     "name": "stdout",
     "output_type": "stream",
     "text": [
      "\n",
      "✓ Previous chunk 1018 saved. Ledger updated.\n",
      "\n",
      "Submitting chunk 1019 (50000 positions) for asynchronous saving...\n",
      "  Chunk 1019 submitted. Main thread continues.\n",
      "  Total processed (optimistic): 51,050,000 positions\n",
      "  Progress: Line 59,277,847\n"
     ]
    },
    {
     "name": "stderr",
     "output_type": "stream",
     "text": [
      "Processing positions: 59300127lines [5:33:28, 1309.78lines/s]"
     ]
    },
    {
     "name": "stdout",
     "output_type": "stream",
     "text": [
      "Progress checkpoint: Line 59,300,000, Found 20,318,962 valid positions this session.\n"
     ]
    },
    {
     "name": "stderr",
     "output_type": "stream",
     "text": [
      "Processing positions: 59335615lines [5:33:58, 902.58lines/s] "
     ]
    },
    {
     "name": "stdout",
     "output_type": "stream",
     "text": [
      "\n",
      "✓ Previous chunk 1019 saved. Ledger updated.\n",
      "\n",
      "Submitting chunk 1020 (50000 positions) for asynchronous saving...\n",
      "  Chunk 1020 submitted. Main thread continues.\n",
      "  Total processed (optimistic): 51,100,000 positions\n",
      "  Progress: Line 59,335,504\n"
     ]
    },
    {
     "name": "stderr",
     "output_type": "stream",
     "text": [
      "Processing positions: 59392695lines [5:34:44, 853.08lines/s] "
     ]
    },
    {
     "name": "stdout",
     "output_type": "stream",
     "text": [
      "\n",
      "✓ Previous chunk 1020 saved. Ledger updated.\n",
      "\n",
      "Submitting chunk 1021 (50000 positions) for asynchronous saving...\n",
      "  Chunk 1021 submitted. Main thread continues.\n",
      "  Total processed (optimistic): 51,150,000 positions\n",
      "  Progress: Line 59,392,630\n"
     ]
    },
    {
     "name": "stderr",
     "output_type": "stream",
     "text": [
      "Processing positions: 59400154lines [5:34:51, 1203.87lines/s]"
     ]
    },
    {
     "name": "stdout",
     "output_type": "stream",
     "text": [
      "Progress checkpoint: Line 59,400,000, Found 20,406,441 valid positions this session.\n"
     ]
    },
    {
     "name": "stderr",
     "output_type": "stream",
     "text": [
      "Processing positions: 59449584lines [5:35:32, 868.19lines/s] "
     ]
    },
    {
     "name": "stdout",
     "output_type": "stream",
     "text": [
      "\n",
      "✓ Previous chunk 1021 saved. Ledger updated.\n",
      "\n",
      "Submitting chunk 1022 (50000 positions) for asynchronous saving...\n",
      "  Chunk 1022 submitted. Main thread continues.\n",
      "  Total processed (optimistic): 51,200,000 positions\n",
      "  Progress: Line 59,449,498\n"
     ]
    },
    {
     "name": "stderr",
     "output_type": "stream",
     "text": [
      "Processing positions: 59500189lines [5:36:13, 1265.42lines/s]"
     ]
    },
    {
     "name": "stdout",
     "output_type": "stream",
     "text": [
      "Progress checkpoint: Line 59,500,000, Found 20,495,091 valid positions this session.\n"
     ]
    },
    {
     "name": "stderr",
     "output_type": "stream",
     "text": [
      "Processing positions: 59505418lines [5:36:17, 1275.96lines/s]"
     ]
    },
    {
     "name": "stdout",
     "output_type": "stream",
     "text": [
      "\n",
      "✓ Previous chunk 1022 saved. Ledger updated.\n",
      "\n",
      "Submitting chunk 1023 (50000 positions) for asynchronous saving...\n",
      "  Chunk 1023 submitted. Main thread continues.\n",
      "  Total processed (optimistic): 51,250,000 positions\n",
      "  Progress: Line 59,505,435\n"
     ]
    },
    {
     "name": "stderr",
     "output_type": "stream",
     "text": [
      "Processing positions: 59562514lines [5:37:03, 967.75lines/s] "
     ]
    },
    {
     "name": "stdout",
     "output_type": "stream",
     "text": [
      "\n",
      "✓ Previous chunk 1023 saved. Ledger updated.\n",
      "\n",
      "Submitting chunk 1024 (50000 positions) for asynchronous saving...\n",
      "  Chunk 1024 submitted. Main thread continues.\n",
      "  Total processed (optimistic): 51,300,000 positions\n",
      "  Progress: Line 59,562,493\n"
     ]
    },
    {
     "name": "stderr",
     "output_type": "stream",
     "text": [
      "Processing positions: 59600127lines [5:37:34, 1269.17lines/s]"
     ]
    },
    {
     "name": "stdout",
     "output_type": "stream",
     "text": [
      "Progress checkpoint: Line 59,600,000, Found 20,583,595 valid positions this session.\n"
     ]
    },
    {
     "name": "stderr",
     "output_type": "stream",
     "text": [
      "Processing positions: 59618419lines [5:37:49, 897.88lines/s] "
     ]
    },
    {
     "name": "stdout",
     "output_type": "stream",
     "text": [
      "\n",
      "✓ Previous chunk 1024 saved. Ledger updated.\n",
      "\n",
      "Submitting chunk 1025 (50000 positions) for asynchronous saving...\n",
      "  Chunk 1025 submitted. Main thread continues.\n",
      "  Total processed (optimistic): 51,350,000 positions\n",
      "  Progress: Line 59,618,397\n"
     ]
    },
    {
     "name": "stderr",
     "output_type": "stream",
     "text": [
      "Processing positions: 59674249lines [5:38:36, 854.12lines/s] "
     ]
    },
    {
     "name": "stdout",
     "output_type": "stream",
     "text": [
      "\n",
      "✓ Previous chunk 1025 saved. Ledger updated.\n",
      "\n",
      "Submitting chunk 1026 (50000 positions) for asynchronous saving...\n",
      "  Chunk 1026 submitted. Main thread continues.\n",
      "  Total processed (optimistic): 51,400,000 positions\n",
      "  Progress: Line 59,674,191\n"
     ]
    },
    {
     "name": "stderr",
     "output_type": "stream",
     "text": [
      "Processing positions: 59700200lines [5:38:58, 1163.68lines/s]"
     ]
    },
    {
     "name": "stdout",
     "output_type": "stream",
     "text": [
      "Progress checkpoint: Line 59,700,000, Found 20,673,140 valid positions this session.\n"
     ]
    },
    {
     "name": "stderr",
     "output_type": "stream",
     "text": [
      "Processing positions: 59729736lines [5:39:23, 874.47lines/s] "
     ]
    },
    {
     "name": "stdout",
     "output_type": "stream",
     "text": [
      "\n",
      "✓ Previous chunk 1026 saved. Ledger updated.\n",
      "\n",
      "Submitting chunk 1027 (50000 positions) for asynchronous saving...\n",
      "  Chunk 1027 submitted. Main thread continues.\n",
      "  Total processed (optimistic): 51,450,000 positions\n",
      "  Progress: Line 59,729,631\n"
     ]
    },
    {
     "name": "stderr",
     "output_type": "stream",
     "text": [
      "Processing positions: 59786632lines [5:40:10, 899.13lines/s] "
     ]
    },
    {
     "name": "stdout",
     "output_type": "stream",
     "text": [
      "\n",
      "✓ Previous chunk 1027 saved. Ledger updated.\n",
      "\n",
      "Submitting chunk 1028 (50000 positions) for asynchronous saving...\n",
      "  Chunk 1028 submitted. Main thread continues.\n",
      "  Total processed (optimistic): 51,500,000 positions\n",
      "  Progress: Line 59,786,532\n"
     ]
    },
    {
     "name": "stderr",
     "output_type": "stream",
     "text": [
      "Processing positions: 59800144lines [5:40:21, 1231.71lines/s]"
     ]
    },
    {
     "name": "stdout",
     "output_type": "stream",
     "text": [
      "Progress checkpoint: Line 59,800,000, Found 20,761,289 valid positions this session.\n"
     ]
    },
    {
     "name": "stderr",
     "output_type": "stream",
     "text": [
      "Processing positions: 59844195lines [5:40:57, 928.83lines/s] "
     ]
    },
    {
     "name": "stdout",
     "output_type": "stream",
     "text": [
      "\n",
      "✓ Previous chunk 1028 saved. Ledger updated.\n",
      "\n",
      "Submitting chunk 1029 (50000 positions) for asynchronous saving...\n",
      "  Chunk 1029 submitted. Main thread continues.\n",
      "  Total processed (optimistic): 51,550,000 positions\n",
      "  Progress: Line 59,844,181\n"
     ]
    },
    {
     "name": "stderr",
     "output_type": "stream",
     "text": [
      "Processing positions: 59900112lines [5:41:42, 1215.84lines/s]"
     ]
    },
    {
     "name": "stdout",
     "output_type": "stream",
     "text": [
      "Progress checkpoint: Line 59,900,000, Found 20,848,342 valid positions this session.\n"
     ]
    },
    {
     "name": "stderr",
     "output_type": "stream",
     "text": [
      "Processing positions: 59901876lines [5:41:43, 1286.22lines/s]"
     ]
    },
    {
     "name": "stdout",
     "output_type": "stream",
     "text": [
      "\n",
      "✓ Previous chunk 1029 saved. Ledger updated.\n",
      "\n",
      "Submitting chunk 1030 (50000 positions) for asynchronous saving...\n",
      "  Chunk 1030 submitted. Main thread continues.\n",
      "  Total processed (optimistic): 51,600,000 positions\n",
      "  Progress: Line 59,901,891\n"
     ]
    },
    {
     "name": "stderr",
     "output_type": "stream",
     "text": [
      "Processing positions: 59959432lines [5:42:29, 867.26lines/s] "
     ]
    },
    {
     "name": "stdout",
     "output_type": "stream",
     "text": [
      "\n",
      "✓ Previous chunk 1030 saved. Ledger updated.\n",
      "\n",
      "Submitting chunk 1031 (50000 positions) for asynchronous saving...\n",
      "  Chunk 1031 submitted. Main thread continues.\n",
      "  Total processed (optimistic): 51,650,000 positions\n",
      "  Progress: Line 59,959,394\n"
     ]
    },
    {
     "name": "stderr",
     "output_type": "stream",
     "text": [
      "Processing positions: 60000194lines [5:43:03, 1263.65lines/s]"
     ]
    },
    {
     "name": "stdout",
     "output_type": "stream",
     "text": [
      "Progress checkpoint: Line 60,000,000, Found 20,935,152 valid positions this session.\n"
     ]
    },
    {
     "name": "stderr",
     "output_type": "stream",
     "text": [
      "Processing positions: 60017906lines [5:43:17, 842.08lines/s] "
     ]
    },
    {
     "name": "stdout",
     "output_type": "stream",
     "text": [
      "\n",
      "✓ Previous chunk 1031 saved. Ledger updated.\n",
      "\n",
      "Submitting chunk 1032 (50000 positions) for asynchronous saving...\n",
      "  Chunk 1032 submitted. Main thread continues.\n",
      "  Total processed (optimistic): 51,700,000 positions\n",
      "  Progress: Line 60,017,829\n"
     ]
    },
    {
     "name": "stderr",
     "output_type": "stream",
     "text": [
      "Processing positions: 60074932lines [5:44:04, 906.84lines/s] "
     ]
    },
    {
     "name": "stdout",
     "output_type": "stream",
     "text": [
      "\n",
      "✓ Previous chunk 1032 saved. Ledger updated.\n",
      "\n",
      "Submitting chunk 1033 (50000 positions) for asynchronous saving...\n",
      "  Chunk 1033 submitted. Main thread continues.\n",
      "  Total processed (optimistic): 51,750,000 positions\n",
      "  Progress: Line 60,074,918\n"
     ]
    },
    {
     "name": "stderr",
     "output_type": "stream",
     "text": [
      "Processing positions: 60100254lines [5:44:25, 1196.38lines/s]"
     ]
    },
    {
     "name": "stdout",
     "output_type": "stream",
     "text": [
      "Progress checkpoint: Line 60,100,000, Found 21,022,333 valid positions this session.\n"
     ]
    },
    {
     "name": "stderr",
     "output_type": "stream",
     "text": [
      "Processing positions: 60130696lines [5:44:50, 959.28lines/s] "
     ]
    },
    {
     "name": "stdout",
     "output_type": "stream",
     "text": [
      "\n",
      "✓ Previous chunk 1033 saved. Ledger updated.\n",
      "\n",
      "Submitting chunk 1034 (50000 positions) for asynchronous saving...\n",
      "  Chunk 1034 submitted. Main thread continues.\n",
      "  Total processed (optimistic): 51,800,000 positions\n",
      "  Progress: Line 60,130,694\n"
     ]
    },
    {
     "name": "stderr",
     "output_type": "stream",
     "text": [
      "Processing positions: 60186986lines [5:45:36, 1275.32lines/s]"
     ]
    },
    {
     "name": "stdout",
     "output_type": "stream",
     "text": [
      "\n",
      "✓ Previous chunk 1034 saved. Ledger updated.\n",
      "\n",
      "Submitting chunk 1035 (50000 positions) for asynchronous saving...\n",
      "  Chunk 1035 submitted. Main thread continues.\n",
      "  Total processed (optimistic): 51,850,000 positions\n",
      "  Progress: Line 60,187,004\n"
     ]
    },
    {
     "name": "stderr",
     "output_type": "stream",
     "text": [
      "Processing positions: 60200241lines [5:45:48, 1312.18lines/s]"
     ]
    },
    {
     "name": "stdout",
     "output_type": "stream",
     "text": [
      "Progress checkpoint: Line 60,200,000, Found 21,111,387 valid positions this session.\n"
     ]
    },
    {
     "name": "stderr",
     "output_type": "stream",
     "text": [
      "Processing positions: 60243252lines [5:46:23, 851.28lines/s] "
     ]
    },
    {
     "name": "stdout",
     "output_type": "stream",
     "text": [
      "\n",
      "✓ Previous chunk 1035 saved. Ledger updated.\n",
      "\n",
      "Submitting chunk 1036 (50000 positions) for asynchronous saving...\n",
      "  Chunk 1036 submitted. Main thread continues.\n",
      "  Total processed (optimistic): 51,900,000 positions\n",
      "  Progress: Line 60,243,234\n"
     ]
    },
    {
     "name": "stderr",
     "output_type": "stream",
     "text": [
      "Processing positions: 60300053lines [5:47:10, 1189.15lines/s]"
     ]
    },
    {
     "name": "stdout",
     "output_type": "stream",
     "text": [
      "Progress checkpoint: Line 60,300,000, Found 21,199,919 valid positions this session.\n",
      "\n",
      "✓ Previous chunk 1036 saved. Ledger updated.\n",
      "\n",
      "Submitting chunk 1037 (50000 positions) for asynchronous saving...\n",
      "  Chunk 1037 submitted. Main thread continues.\n",
      "  Total processed (optimistic): 51,950,000 positions\n",
      "  Progress: Line 60,300,087\n"
     ]
    },
    {
     "name": "stderr",
     "output_type": "stream",
     "text": [
      "Processing positions: 60357758lines [5:47:58, 803.96lines/s] "
     ]
    },
    {
     "name": "stdout",
     "output_type": "stream",
     "text": [
      "\n",
      "✓ Previous chunk 1037 saved. Ledger updated.\n",
      "\n",
      "Submitting chunk 1038 (50000 positions) for asynchronous saving...\n",
      "  Chunk 1038 submitted. Main thread continues.\n",
      "  Total processed (optimistic): 52,000,000 positions\n",
      "  Progress: Line 60,357,648\n"
     ]
    },
    {
     "name": "stderr",
     "output_type": "stream",
     "text": [
      "Processing positions: 60400180lines [5:48:33, 1240.43lines/s]"
     ]
    },
    {
     "name": "stdout",
     "output_type": "stream",
     "text": [
      "Progress checkpoint: Line 60,400,000, Found 21,287,114 valid positions this session.\n"
     ]
    },
    {
     "name": "stderr",
     "output_type": "stream",
     "text": [
      "Processing positions: 60415034lines [5:48:45, 925.37lines/s] "
     ]
    },
    {
     "name": "stdout",
     "output_type": "stream",
     "text": [
      "\n",
      "✓ Previous chunk 1038 saved. Ledger updated.\n",
      "\n",
      "Submitting chunk 1039 (50000 positions) for asynchronous saving...\n",
      "  Chunk 1039 submitted. Main thread continues.\n",
      "  Total processed (optimistic): 52,050,000 positions\n",
      "  Progress: Line 60,414,961\n"
     ]
    },
    {
     "name": "stderr",
     "output_type": "stream",
     "text": [
      "Processing positions: 60471605lines [5:49:32, 1256.54lines/s]"
     ]
    },
    {
     "name": "stdout",
     "output_type": "stream",
     "text": [
      "\n",
      "✓ Previous chunk 1039 saved. Ledger updated.\n",
      "\n",
      "Submitting chunk 1040 (50000 positions) for asynchronous saving...\n",
      "  Chunk 1040 submitted. Main thread continues.\n",
      "  Total processed (optimistic): 52,100,000 positions\n",
      "  Progress: Line 60,471,615\n"
     ]
    },
    {
     "name": "stderr",
     "output_type": "stream",
     "text": [
      "Processing positions: 60500200lines [5:49:56, 1193.06lines/s]"
     ]
    },
    {
     "name": "stdout",
     "output_type": "stream",
     "text": [
      "Progress checkpoint: Line 60,500,000, Found 21,374,830 valid positions this session.\n"
     ]
    },
    {
     "name": "stderr",
     "output_type": "stream",
     "text": [
      "Processing positions: 60529406lines [5:50:19, 987.68lines/s] "
     ]
    },
    {
     "name": "stdout",
     "output_type": "stream",
     "text": [
      "\n",
      "✓ Previous chunk 1040 saved. Ledger updated.\n",
      "\n",
      "Submitting chunk 1041 (50000 positions) for asynchronous saving...\n",
      "  Chunk 1041 submitted. Main thread continues.\n",
      "  Total processed (optimistic): 52,150,000 positions\n",
      "  Progress: Line 60,529,373\n"
     ]
    },
    {
     "name": "stderr",
     "output_type": "stream",
     "text": [
      "Processing positions: 60586344lines [5:51:06, 819.44lines/s] "
     ]
    },
    {
     "name": "stdout",
     "output_type": "stream",
     "text": [
      "\n",
      "✓ Previous chunk 1041 saved. Ledger updated.\n",
      "\n",
      "Submitting chunk 1042 (50000 positions) for asynchronous saving...\n",
      "  Chunk 1042 submitted. Main thread continues.\n",
      "  Total processed (optimistic): 52,200,000 positions\n",
      "  Progress: Line 60,586,290\n"
     ]
    },
    {
     "name": "stderr",
     "output_type": "stream",
     "text": [
      "Processing positions: 60600257lines [5:51:18, 1198.56lines/s]"
     ]
    },
    {
     "name": "stdout",
     "output_type": "stream",
     "text": [
      "Progress checkpoint: Line 60,600,000, Found 21,462,255 valid positions this session.\n"
     ]
    },
    {
     "name": "stderr",
     "output_type": "stream",
     "text": [
      "Processing positions: 60642773lines [5:51:53, 854.28lines/s] "
     ]
    },
    {
     "name": "stdout",
     "output_type": "stream",
     "text": [
      "\n",
      "✓ Previous chunk 1042 saved. Ledger updated.\n",
      "\n",
      "Submitting chunk 1043 (50000 positions) for asynchronous saving...\n",
      "  Chunk 1043 submitted. Main thread continues.\n",
      "  Total processed (optimistic): 52,250,000 positions\n",
      "  Progress: Line 60,642,683\n"
     ]
    },
    {
     "name": "stderr",
     "output_type": "stream",
     "text": [
      "Processing positions: 60699490lines [5:52:39, 882.36lines/s] "
     ]
    },
    {
     "name": "stdout",
     "output_type": "stream",
     "text": [
      "\n",
      "✓ Previous chunk 1043 saved. Ledger updated.\n",
      "\n",
      "Submitting chunk 1044 (50000 positions) for asynchronous saving...\n",
      "  Chunk 1044 submitted. Main thread continues.\n",
      "  Total processed (optimistic): 52,300,000 positions\n",
      "  Progress: Line 60,699,458\n"
     ]
    },
    {
     "name": "stderr",
     "output_type": "stream",
     "text": [
      "Processing positions: 60700113lines [5:52:40, 765.77lines/s]"
     ]
    },
    {
     "name": "stdout",
     "output_type": "stream",
     "text": [
      "Progress checkpoint: Line 60,700,000, Found 21,550,487 valid positions this session.\n"
     ]
    },
    {
     "name": "stderr",
     "output_type": "stream",
     "text": [
      "Processing positions: 60756275lines [5:53:25, 1252.20lines/s]"
     ]
    },
    {
     "name": "stdout",
     "output_type": "stream",
     "text": [
      "\n",
      "✓ Previous chunk 1044 saved. Ledger updated.\n",
      "\n",
      "Submitting chunk 1045 (50000 positions) for asynchronous saving...\n",
      "  Chunk 1045 submitted. Main thread continues.\n",
      "  Total processed (optimistic): 52,350,000 positions\n",
      "  Progress: Line 60,756,276\n"
     ]
    },
    {
     "name": "stderr",
     "output_type": "stream",
     "text": [
      "Processing positions: 60800181lines [5:54:01, 1110.48lines/s]"
     ]
    },
    {
     "name": "stdout",
     "output_type": "stream",
     "text": [
      "Progress checkpoint: Line 60,800,000, Found 21,638,534 valid positions this session.\n"
     ]
    },
    {
     "name": "stderr",
     "output_type": "stream",
     "text": [
      "Processing positions: 60812919lines [5:54:12, 802.53lines/s] "
     ]
    },
    {
     "name": "stdout",
     "output_type": "stream",
     "text": [
      "\n",
      "✓ Previous chunk 1045 saved. Ledger updated.\n",
      "\n",
      "Submitting chunk 1046 (50000 positions) for asynchronous saving...\n",
      "  Chunk 1046 submitted. Main thread continues.\n",
      "  Total processed (optimistic): 52,400,000 positions\n",
      "  Progress: Line 60,812,832\n"
     ]
    },
    {
     "name": "stderr",
     "output_type": "stream",
     "text": [
      "Processing positions: 60869099lines [5:54:59, 880.92lines/s] "
     ]
    },
    {
     "name": "stdout",
     "output_type": "stream",
     "text": [
      "\n",
      "✓ Previous chunk 1046 saved. Ledger updated.\n",
      "\n",
      "Submitting chunk 1047 (50000 positions) for asynchronous saving...\n",
      "  Chunk 1047 submitted. Main thread continues.\n",
      "  Total processed (optimistic): 52,450,000 positions\n",
      "  Progress: Line 60,869,063\n"
     ]
    },
    {
     "name": "stderr",
     "output_type": "stream",
     "text": [
      "Processing positions: 60900144lines [5:55:25, 1221.03lines/s]"
     ]
    },
    {
     "name": "stdout",
     "output_type": "stream",
     "text": [
      "Progress checkpoint: Line 60,900,000, Found 21,726,947 valid positions this session.\n"
     ]
    },
    {
     "name": "stderr",
     "output_type": "stream",
     "text": [
      "Processing positions: 60926401lines [5:55:46, 1263.37lines/s]"
     ]
    },
    {
     "name": "stdout",
     "output_type": "stream",
     "text": [
      "\n",
      "✓ Previous chunk 1047 saved. Ledger updated.\n",
      "\n",
      "Submitting chunk 1048 (50000 positions) for asynchronous saving...\n",
      "  Chunk 1048 submitted. Main thread continues.\n",
      "  Total processed (optimistic): 52,500,000 positions\n",
      "  Progress: Line 60,926,422\n"
     ]
    },
    {
     "name": "stderr",
     "output_type": "stream",
     "text": [
      "Processing positions: 60984251lines [5:56:34, 926.45lines/s] "
     ]
    },
    {
     "name": "stdout",
     "output_type": "stream",
     "text": [
      "\n",
      "✓ Previous chunk 1048 saved. Ledger updated.\n",
      "\n",
      "Submitting chunk 1049 (50000 positions) for asynchronous saving...\n",
      "  Chunk 1049 submitted. Main thread continues.\n",
      "  Total processed (optimistic): 52,550,000 positions\n",
      "  Progress: Line 60,984,241\n"
     ]
    },
    {
     "name": "stderr",
     "output_type": "stream",
     "text": [
      "Processing positions: 61000115lines [5:56:47, 1230.95lines/s]"
     ]
    },
    {
     "name": "stdout",
     "output_type": "stream",
     "text": [
      "Progress checkpoint: Line 61,000,000, Found 21,813,476 valid positions this session.\n"
     ]
    },
    {
     "name": "stderr",
     "output_type": "stream",
     "text": [
      "Processing positions: 61042315lines [5:57:21, 861.72lines/s] "
     ]
    },
    {
     "name": "stdout",
     "output_type": "stream",
     "text": [
      "\n",
      "✓ Previous chunk 1049 saved. Ledger updated.\n",
      "\n",
      "Submitting chunk 1050 (50000 positions) for asynchronous saving...\n",
      "  Chunk 1050 submitted. Main thread continues.\n",
      "  Total processed (optimistic): 52,600,000 positions\n",
      "  Progress: Line 61,042,242\n"
     ]
    },
    {
     "name": "stderr",
     "output_type": "stream",
     "text": [
      "Processing positions: 61098399lines [5:58:08, 846.27lines/s] "
     ]
    },
    {
     "name": "stdout",
     "output_type": "stream",
     "text": [
      "\n",
      "✓ Previous chunk 1050 saved. Ledger updated.\n",
      "\n",
      "Submitting chunk 1051 (50000 positions) for asynchronous saving...\n",
      "  Chunk 1051 submitted. Main thread continues.\n",
      "  Total processed (optimistic): 52,650,000 positions\n",
      "  Progress: Line 61,098,360\n"
     ]
    },
    {
     "name": "stderr",
     "output_type": "stream",
     "text": [
      "Processing positions: 61100163lines [5:58:10, 1081.15lines/s]"
     ]
    },
    {
     "name": "stdout",
     "output_type": "stream",
     "text": [
      "Progress checkpoint: Line 61,100,000, Found 21,901,467 valid positions this session.\n"
     ]
    },
    {
     "name": "stderr",
     "output_type": "stream",
     "text": [
      "Processing positions: 61155350lines [5:58:55, 912.38lines/s] "
     ]
    },
    {
     "name": "stdout",
     "output_type": "stream",
     "text": [
      "\n",
      "✓ Previous chunk 1051 saved. Ledger updated.\n",
      "\n",
      "Submitting chunk 1052 (50000 positions) for asynchronous saving...\n",
      "  Chunk 1052 submitted. Main thread continues.\n",
      "  Total processed (optimistic): 52,700,000 positions\n",
      "  Progress: Line 61,155,328\n"
     ]
    },
    {
     "name": "stderr",
     "output_type": "stream",
     "text": [
      "Processing positions: 61200205lines [5:59:32, 1213.73lines/s]"
     ]
    },
    {
     "name": "stdout",
     "output_type": "stream",
     "text": [
      "Progress checkpoint: Line 61,200,000, Found 21,989,463 valid positions this session.\n"
     ]
    },
    {
     "name": "stderr",
     "output_type": "stream",
     "text": [
      "Processing positions: 61212144lines [5:59:42, 850.34lines/s] "
     ]
    },
    {
     "name": "stdout",
     "output_type": "stream",
     "text": [
      "\n",
      "✓ Previous chunk 1052 saved. Ledger updated.\n",
      "\n",
      "Submitting chunk 1053 (50000 positions) for asynchronous saving...\n",
      "  Chunk 1053 submitted. Main thread continues.\n",
      "  Total processed (optimistic): 52,750,000 positions\n",
      "  Progress: Line 61,212,052\n"
     ]
    },
    {
     "name": "stderr",
     "output_type": "stream",
     "text": [
      "Processing positions: 61269258lines [6:00:28, 895.70lines/s] "
     ]
    },
    {
     "name": "stdout",
     "output_type": "stream",
     "text": [
      "\n",
      "✓ Previous chunk 1053 saved. Ledger updated.\n",
      "\n",
      "Submitting chunk 1054 (50000 positions) for asynchronous saving...\n",
      "  Chunk 1054 submitted. Main thread continues.\n",
      "  Total processed (optimistic): 52,800,000 positions\n",
      "  Progress: Line 61,269,175\n"
     ]
    },
    {
     "name": "stderr",
     "output_type": "stream",
     "text": [
      "Processing positions: 61300130lines [6:00:52, 1247.98lines/s]"
     ]
    },
    {
     "name": "stdout",
     "output_type": "stream",
     "text": [
      "Progress checkpoint: Line 61,300,000, Found 22,076,798 valid positions this session.\n"
     ]
    },
    {
     "name": "stderr",
     "output_type": "stream",
     "text": [
      "Processing positions: 61326716lines [6:01:13, 820.66lines/s] "
     ]
    },
    {
     "name": "stdout",
     "output_type": "stream",
     "text": [
      "\n",
      "✓ Previous chunk 1054 saved. Ledger updated.\n",
      "\n",
      "Submitting chunk 1055 (50000 positions) for asynchronous saving...\n",
      "  Chunk 1055 submitted. Main thread continues.\n",
      "  Total processed (optimistic): 52,850,000 positions\n",
      "  Progress: Line 61,326,639\n"
     ]
    },
    {
     "name": "stderr",
     "output_type": "stream",
     "text": [
      "Processing positions: 61383279lines [6:02:00, 919.46lines/s] "
     ]
    },
    {
     "name": "stdout",
     "output_type": "stream",
     "text": [
      "\n",
      "✓ Previous chunk 1055 saved. Ledger updated.\n",
      "\n",
      "Submitting chunk 1056 (50000 positions) for asynchronous saving...\n",
      "  Chunk 1056 submitted. Main thread continues.\n",
      "  Total processed (optimistic): 52,900,000 positions\n",
      "  Progress: Line 61,383,218\n"
     ]
    },
    {
     "name": "stderr",
     "output_type": "stream",
     "text": [
      "Processing positions: 61400130lines [6:02:14, 1213.44lines/s]"
     ]
    },
    {
     "name": "stdout",
     "output_type": "stream",
     "text": [
      "Progress checkpoint: Line 61,400,000, Found 22,164,742 valid positions this session.\n"
     ]
    },
    {
     "name": "stderr",
     "output_type": "stream",
     "text": [
      "Processing positions: 61439746lines [6:02:47, 937.14lines/s] "
     ]
    },
    {
     "name": "stdout",
     "output_type": "stream",
     "text": [
      "\n",
      "✓ Previous chunk 1056 saved. Ledger updated.\n",
      "\n",
      "Submitting chunk 1057 (50000 positions) for asynchronous saving...\n",
      "  Chunk 1057 submitted. Main thread continues.\n",
      "  Total processed (optimistic): 52,950,000 positions\n",
      "  Progress: Line 61,439,730\n"
     ]
    },
    {
     "name": "stderr",
     "output_type": "stream",
     "text": [
      "Processing positions: 61497569lines [6:03:34, 1203.24lines/s]"
     ]
    },
    {
     "name": "stdout",
     "output_type": "stream",
     "text": [
      "\n",
      "✓ Previous chunk 1057 saved. Ledger updated.\n",
      "\n",
      "Submitting chunk 1058 (50000 positions) for asynchronous saving...\n",
      "  Chunk 1058 submitted. Main thread continues.\n",
      "  Total processed (optimistic): 53,000,000 positions\n",
      "  Progress: Line 61,497,575\n"
     ]
    },
    {
     "name": "stderr",
     "output_type": "stream",
     "text": [
      "Processing positions: 61500192lines [6:03:37, 1054.84lines/s]"
     ]
    },
    {
     "name": "stdout",
     "output_type": "stream",
     "text": [
      "Progress checkpoint: Line 61,500,000, Found 22,252,257 valid positions this session.\n"
     ]
    },
    {
     "name": "stderr",
     "output_type": "stream",
     "text": [
      "Processing positions: 61554527lines [6:04:21, 876.74lines/s] "
     ]
    },
    {
     "name": "stdout",
     "output_type": "stream",
     "text": [
      "\n",
      "✓ Previous chunk 1058 saved. Ledger updated.\n",
      "\n",
      "Submitting chunk 1059 (50000 positions) for asynchronous saving...\n",
      "  Chunk 1059 submitted. Main thread continues.\n",
      "  Total processed (optimistic): 53,050,000 positions\n",
      "  Progress: Line 61,554,438\n"
     ]
    },
    {
     "name": "stderr",
     "output_type": "stream",
     "text": [
      "Processing positions: 61600162lines [6:05:00, 1287.47lines/s]"
     ]
    },
    {
     "name": "stdout",
     "output_type": "stream",
     "text": [
      "Progress checkpoint: Line 61,600,000, Found 22,340,502 valid positions this session.\n"
     ]
    },
    {
     "name": "stderr",
     "output_type": "stream",
     "text": [
      "Processing positions: 61610937lines [6:05:08, 816.27lines/s] "
     ]
    },
    {
     "name": "stdout",
     "output_type": "stream",
     "text": [
      "\n",
      "✓ Previous chunk 1059 saved. Ledger updated.\n",
      "\n",
      "Submitting chunk 1060 (50000 positions) for asynchronous saving...\n",
      "  Chunk 1060 submitted. Main thread continues.\n",
      "  Total processed (optimistic): 53,100,000 positions\n",
      "  Progress: Line 61,610,871\n"
     ]
    },
    {
     "name": "stderr",
     "output_type": "stream",
     "text": [
      "Processing positions: 61667893lines [6:05:55, 907.51lines/s] "
     ]
    },
    {
     "name": "stdout",
     "output_type": "stream",
     "text": [
      "\n",
      "✓ Previous chunk 1060 saved. Ledger updated.\n",
      "\n",
      "Submitting chunk 1061 (50000 positions) for asynchronous saving...\n",
      "  Chunk 1061 submitted. Main thread continues.\n",
      "  Total processed (optimistic): 53,150,000 positions\n",
      "  Progress: Line 61,667,787\n"
     ]
    },
    {
     "name": "stderr",
     "output_type": "stream",
     "text": [
      "Processing positions: 61700141lines [6:06:22, 1191.67lines/s]"
     ]
    },
    {
     "name": "stdout",
     "output_type": "stream",
     "text": [
      "Progress checkpoint: Line 61,700,000, Found 22,428,133 valid positions this session.\n"
     ]
    },
    {
     "name": "stderr",
     "output_type": "stream",
     "text": [
      "Processing positions: 61724594lines [6:06:42, 927.67lines/s] "
     ]
    },
    {
     "name": "stdout",
     "output_type": "stream",
     "text": [
      "\n",
      "✓ Previous chunk 1061 saved. Ledger updated.\n",
      "\n",
      "Submitting chunk 1062 (50000 positions) for asynchronous saving...\n",
      "  Chunk 1062 submitted. Main thread continues.\n",
      "  Total processed (optimistic): 53,200,000 positions\n",
      "  Progress: Line 61,724,553\n"
     ]
    },
    {
     "name": "stderr",
     "output_type": "stream",
     "text": [
      "Processing positions: 61780682lines [6:07:29, 845.54lines/s] "
     ]
    },
    {
     "name": "stdout",
     "output_type": "stream",
     "text": [
      "\n",
      "✓ Previous chunk 1062 saved. Ledger updated.\n",
      "\n",
      "Submitting chunk 1063 (50000 positions) for asynchronous saving...\n",
      "  Chunk 1063 submitted. Main thread continues.\n",
      "  Total processed (optimistic): 53,250,000 positions\n",
      "  Progress: Line 61,780,623\n"
     ]
    },
    {
     "name": "stderr",
     "output_type": "stream",
     "text": [
      "Processing positions: 61800244lines [6:07:45, 1210.03lines/s]"
     ]
    },
    {
     "name": "stdout",
     "output_type": "stream",
     "text": [
      "Progress checkpoint: Line 61,800,000, Found 22,516,875 valid positions this session.\n"
     ]
    },
    {
     "name": "stderr",
     "output_type": "stream",
     "text": [
      "Processing positions: 61838177lines [6:08:14, 995.30lines/s] "
     ]
    },
    {
     "name": "stdout",
     "output_type": "stream",
     "text": [
      "\n",
      "✓ Previous chunk 1063 saved. Ledger updated.\n",
      "\n",
      "Submitting chunk 1064 (50000 positions) for asynchronous saving...\n",
      "  Chunk 1064 submitted. Main thread continues.\n",
      "  Total processed (optimistic): 53,300,000 positions\n",
      "  Progress: Line 61,838,060\n"
     ]
    },
    {
     "name": "stderr",
     "output_type": "stream",
     "text": [
      "Processing positions: 61894683lines [6:09:00, 886.43lines/s] "
     ]
    },
    {
     "name": "stdout",
     "output_type": "stream",
     "text": [
      "\n",
      "✓ Previous chunk 1064 saved. Ledger updated.\n",
      "\n",
      "Submitting chunk 1065 (50000 positions) for asynchronous saving...\n",
      "  Chunk 1065 submitted. Main thread continues.\n",
      "  Total processed (optimistic): 53,350,000 positions\n",
      "  Progress: Line 61,894,643\n"
     ]
    },
    {
     "name": "stderr",
     "output_type": "stream",
     "text": [
      "Processing positions: 61900123lines [6:09:05, 1203.20lines/s]"
     ]
    },
    {
     "name": "stdout",
     "output_type": "stream",
     "text": [
      "Progress checkpoint: Line 61,900,000, Found 22,604,798 valid positions this session.\n"
     ]
    },
    {
     "name": "stderr",
     "output_type": "stream",
     "text": [
      "Processing positions: 61950571lines [6:09:47, 1102.08lines/s]"
     ]
    },
    {
     "name": "stdout",
     "output_type": "stream",
     "text": [
      "\n",
      "✓ Previous chunk 1065 saved. Ledger updated.\n",
      "\n",
      "Submitting chunk 1066 (50000 positions) for asynchronous saving...\n",
      "  Chunk 1066 submitted. Main thread continues.\n",
      "  Total processed (optimistic): 53,400,000 positions\n",
      "  Progress: Line 61,950,581\n"
     ]
    },
    {
     "name": "stderr",
     "output_type": "stream",
     "text": [
      "Processing positions: 62000223lines [6:10:29, 1255.74lines/s]"
     ]
    },
    {
     "name": "stdout",
     "output_type": "stream",
     "text": [
      "Progress checkpoint: Line 62,000,000, Found 22,694,394 valid positions this session.\n"
     ]
    },
    {
     "name": "stderr",
     "output_type": "stream",
     "text": [
      "Processing positions: 62006232lines [6:10:34, 878.50lines/s] "
     ]
    },
    {
     "name": "stdout",
     "output_type": "stream",
     "text": [
      "\n",
      "✓ Previous chunk 1066 saved. Ledger updated.\n",
      "\n",
      "Submitting chunk 1067 (50000 positions) for asynchronous saving...\n",
      "  Chunk 1067 submitted. Main thread continues.\n",
      "  Total processed (optimistic): 53,450,000 positions\n",
      "  Progress: Line 62,006,192\n"
     ]
    },
    {
     "name": "stderr",
     "output_type": "stream",
     "text": [
      "Processing positions: 62063175lines [6:11:21, 954.77lines/s] "
     ]
    },
    {
     "name": "stdout",
     "output_type": "stream",
     "text": [
      "\n",
      "✓ Previous chunk 1067 saved. Ledger updated.\n",
      "\n",
      "Submitting chunk 1068 (50000 positions) for asynchronous saving...\n",
      "  Chunk 1068 submitted. Main thread continues.\n",
      "  Total processed (optimistic): 53,500,000 positions\n",
      "  Progress: Line 62,063,157\n"
     ]
    },
    {
     "name": "stderr",
     "output_type": "stream",
     "text": [
      "Processing positions: 62100218lines [6:11:51, 1252.02lines/s]"
     ]
    },
    {
     "name": "stdout",
     "output_type": "stream",
     "text": [
      "Progress checkpoint: Line 62,100,000, Found 22,781,399 valid positions this session.\n"
     ]
    },
    {
     "name": "stderr",
     "output_type": "stream",
     "text": [
      "Processing positions: 62121249lines [6:12:08, 844.04lines/s] "
     ]
    },
    {
     "name": "stdout",
     "output_type": "stream",
     "text": [
      "\n",
      "✓ Previous chunk 1068 saved. Ledger updated.\n",
      "\n",
      "Submitting chunk 1069 (50000 positions) for asynchronous saving...\n",
      "  Chunk 1069 submitted. Main thread continues.\n",
      "  Total processed (optimistic): 53,550,000 positions\n",
      "  Progress: Line 62,121,176\n"
     ]
    },
    {
     "name": "stderr",
     "output_type": "stream",
     "text": [
      "Processing positions: 62178016lines [6:12:56, 815.84lines/s] "
     ]
    },
    {
     "name": "stdout",
     "output_type": "stream",
     "text": [
      "\n",
      "✓ Previous chunk 1069 saved. Ledger updated.\n",
      "\n",
      "Submitting chunk 1070 (50000 positions) for asynchronous saving...\n",
      "  Chunk 1070 submitted. Main thread continues.\n",
      "  Total processed (optimistic): 53,600,000 positions\n",
      "  Progress: Line 62,177,960\n"
     ]
    },
    {
     "name": "stderr",
     "output_type": "stream",
     "text": [
      "Processing positions: 62200246lines [6:13:15, 1260.46lines/s]"
     ]
    },
    {
     "name": "stdout",
     "output_type": "stream",
     "text": [
      "Progress checkpoint: Line 62,200,000, Found 22,869,660 valid positions this session.\n"
     ]
    },
    {
     "name": "stderr",
     "output_type": "stream",
     "text": [
      "Processing positions: 62235730lines [6:13:43, 861.10lines/s] "
     ]
    },
    {
     "name": "stdout",
     "output_type": "stream",
     "text": [
      "\n",
      "✓ Previous chunk 1070 saved. Ledger updated.\n",
      "\n",
      "Submitting chunk 1071 (50000 positions) for asynchronous saving...\n",
      "  Chunk 1071 submitted. Main thread continues.\n",
      "  Total processed (optimistic): 53,650,000 positions\n",
      "  Progress: Line 62,235,638\n"
     ]
    },
    {
     "name": "stderr",
     "output_type": "stream",
     "text": [
      "Processing positions: 62293233lines [6:14:30, 915.88lines/s] "
     ]
    },
    {
     "name": "stdout",
     "output_type": "stream",
     "text": [
      "\n",
      "✓ Previous chunk 1071 saved. Ledger updated.\n",
      "\n",
      "Submitting chunk 1072 (50000 positions) for asynchronous saving...\n",
      "  Chunk 1072 submitted. Main thread continues.\n",
      "  Total processed (optimistic): 53,700,000 positions\n",
      "  Progress: Line 62,293,199\n"
     ]
    },
    {
     "name": "stderr",
     "output_type": "stream",
     "text": [
      "Processing positions: 62300131lines [6:14:36, 1298.60lines/s]"
     ]
    },
    {
     "name": "stdout",
     "output_type": "stream",
     "text": [
      "Progress checkpoint: Line 62,300,000, Found 22,955,809 valid positions this session.\n"
     ]
    },
    {
     "name": "stderr",
     "output_type": "stream",
     "text": [
      "Processing positions: 62350429lines [6:15:17, 847.05lines/s] "
     ]
    },
    {
     "name": "stdout",
     "output_type": "stream",
     "text": [
      "\n",
      "✓ Previous chunk 1072 saved. Ledger updated.\n",
      "\n",
      "Submitting chunk 1073 (50000 positions) for asynchronous saving...\n",
      "  Chunk 1073 submitted. Main thread continues.\n",
      "  Total processed (optimistic): 53,750,000 positions\n",
      "  Progress: Line 62,350,351\n"
     ]
    },
    {
     "name": "stderr",
     "output_type": "stream",
     "text": [
      "Processing positions: 62400230lines [6:15:57, 1324.05lines/s]"
     ]
    },
    {
     "name": "stdout",
     "output_type": "stream",
     "text": [
      "Progress checkpoint: Line 62,400,000, Found 23,043,007 valid positions this session.\n"
     ]
    },
    {
     "name": "stderr",
     "output_type": "stream",
     "text": [
      "Processing positions: 62408141lines [6:16:03, 885.34lines/s] "
     ]
    },
    {
     "name": "stdout",
     "output_type": "stream",
     "text": [
      "\n",
      "✓ Previous chunk 1073 saved. Ledger updated.\n",
      "\n",
      "Submitting chunk 1074 (50000 positions) for asynchronous saving...\n",
      "  Chunk 1074 submitted. Main thread continues.\n",
      "  Total processed (optimistic): 53,800,000 positions\n",
      "  Progress: Line 62,408,103\n"
     ]
    },
    {
     "name": "stderr",
     "output_type": "stream",
     "text": [
      "Processing positions: 62465472lines [6:16:49, 885.39lines/s] "
     ]
    },
    {
     "name": "stdout",
     "output_type": "stream",
     "text": [
      "\n",
      "✓ Previous chunk 1074 saved. Ledger updated.\n",
      "\n",
      "Submitting chunk 1075 (50000 positions) for asynchronous saving...\n",
      "  Chunk 1075 submitted. Main thread continues.\n",
      "  Total processed (optimistic): 53,850,000 positions\n",
      "  Progress: Line 62,465,384\n"
     ]
    },
    {
     "name": "stderr",
     "output_type": "stream",
     "text": [
      "Processing positions: 62500192lines [6:17:18, 1244.43lines/s]"
     ]
    },
    {
     "name": "stdout",
     "output_type": "stream",
     "text": [
      "Progress checkpoint: Line 62,500,000, Found 23,130,287 valid positions this session.\n"
     ]
    },
    {
     "name": "stderr",
     "output_type": "stream",
     "text": [
      "Processing positions: 62522047lines [6:17:36, 853.13lines/s] "
     ]
    },
    {
     "name": "stdout",
     "output_type": "stream",
     "text": [
      "\n",
      "✓ Previous chunk 1075 saved. Ledger updated.\n",
      "\n",
      "Submitting chunk 1076 (50000 positions) for asynchronous saving...\n",
      "  Chunk 1076 submitted. Main thread continues.\n",
      "  Total processed (optimistic): 53,900,000 positions\n",
      "  Progress: Line 62,522,022\n"
     ]
    },
    {
     "name": "stderr",
     "output_type": "stream",
     "text": [
      "Processing positions: 62578613lines [6:18:23, 873.88lines/s] "
     ]
    },
    {
     "name": "stdout",
     "output_type": "stream",
     "text": [
      "\n",
      "✓ Previous chunk 1076 saved. Ledger updated.\n",
      "\n",
      "Submitting chunk 1077 (50000 positions) for asynchronous saving...\n",
      "  Chunk 1077 submitted. Main thread continues.\n",
      "  Total processed (optimistic): 53,950,000 positions\n",
      "  Progress: Line 62,578,589\n"
     ]
    },
    {
     "name": "stderr",
     "output_type": "stream",
     "text": [
      "Processing positions: 62600226lines [6:18:41, 1206.32lines/s]"
     ]
    },
    {
     "name": "stdout",
     "output_type": "stream",
     "text": [
      "Progress checkpoint: Line 62,600,000, Found 23,218,633 valid positions this session.\n"
     ]
    },
    {
     "name": "stderr",
     "output_type": "stream",
     "text": [
      "Processing positions: 62636516lines [6:19:10, 947.86lines/s] "
     ]
    },
    {
     "name": "stdout",
     "output_type": "stream",
     "text": [
      "\n",
      "✓ Previous chunk 1077 saved. Ledger updated.\n",
      "\n",
      "Submitting chunk 1078 (50000 positions) for asynchronous saving...\n",
      "  Chunk 1078 submitted. Main thread continues.\n",
      "  Total processed (optimistic): 54,000,000 positions\n",
      "  Progress: Line 62,636,508\n"
     ]
    },
    {
     "name": "stderr",
     "output_type": "stream",
     "text": [
      "Processing positions: 62694046lines [6:19:58, 947.92lines/s] "
     ]
    },
    {
     "name": "stdout",
     "output_type": "stream",
     "text": [
      "\n",
      "✓ Previous chunk 1078 saved. Ledger updated.\n",
      "\n",
      "Submitting chunk 1079 (50000 positions) for asynchronous saving...\n",
      "  Chunk 1079 submitted. Main thread continues.\n",
      "  Total processed (optimistic): 54,050,000 positions\n",
      "  Progress: Line 62,694,033\n"
     ]
    },
    {
     "name": "stderr",
     "output_type": "stream",
     "text": [
      "Processing positions: 62700122lines [6:20:03, 1321.34lines/s]"
     ]
    },
    {
     "name": "stdout",
     "output_type": "stream",
     "text": [
      "Progress checkpoint: Line 62,700,000, Found 23,304,949 valid positions this session.\n"
     ]
    },
    {
     "name": "stderr",
     "output_type": "stream",
     "text": [
      "Processing positions: 62751068lines [6:20:45, 854.29lines/s] "
     ]
    },
    {
     "name": "stdout",
     "output_type": "stream",
     "text": [
      "\n",
      "✓ Previous chunk 1079 saved. Ledger updated.\n",
      "\n",
      "Submitting chunk 1080 (50000 positions) for asynchronous saving...\n",
      "  Chunk 1080 submitted. Main thread continues.\n",
      "  Total processed (optimistic): 54,100,000 positions\n",
      "  Progress: Line 62,750,970\n"
     ]
    },
    {
     "name": "stderr",
     "output_type": "stream",
     "text": [
      "Processing positions: 62800254lines [6:21:25, 1281.55lines/s]"
     ]
    },
    {
     "name": "stdout",
     "output_type": "stream",
     "text": [
      "Progress checkpoint: Line 62,800,000, Found 23,392,580 valid positions this session.\n"
     ]
    },
    {
     "name": "stderr",
     "output_type": "stream",
     "text": [
      "Processing positions: 62808598lines [6:21:32, 920.19lines/s] "
     ]
    },
    {
     "name": "stdout",
     "output_type": "stream",
     "text": [
      "\n",
      "✓ Previous chunk 1080 saved. Ledger updated.\n",
      "\n",
      "Submitting chunk 1081 (50000 positions) for asynchronous saving...\n",
      "  Chunk 1081 submitted. Main thread continues.\n",
      "  Total processed (optimistic): 54,150,000 positions\n",
      "  Progress: Line 62,808,565\n"
     ]
    },
    {
     "name": "stderr",
     "output_type": "stream",
     "text": [
      "Processing positions: 62866181lines [6:22:19, 873.73lines/s] "
     ]
    },
    {
     "name": "stdout",
     "output_type": "stream",
     "text": [
      "\n",
      "✓ Previous chunk 1081 saved. Ledger updated.\n",
      "\n",
      "Submitting chunk 1082 (50000 positions) for asynchronous saving...\n",
      "  Chunk 1082 submitted. Main thread continues.\n",
      "  Total processed (optimistic): 54,200,000 positions\n",
      "  Progress: Line 62,866,098\n"
     ]
    },
    {
     "name": "stderr",
     "output_type": "stream",
     "text": [
      "Processing positions: 62900127lines [6:22:47, 1197.91lines/s]"
     ]
    },
    {
     "name": "stdout",
     "output_type": "stream",
     "text": [
      "Progress checkpoint: Line 62,900,000, Found 23,479,483 valid positions this session.\n"
     ]
    },
    {
     "name": "stderr",
     "output_type": "stream",
     "text": [
      "Processing positions: 62923318lines [6:23:06, 899.46lines/s] "
     ]
    },
    {
     "name": "stdout",
     "output_type": "stream",
     "text": [
      "\n",
      "✓ Previous chunk 1082 saved. Ledger updated.\n",
      "\n",
      "Submitting chunk 1083 (50000 positions) for asynchronous saving...\n",
      "  Chunk 1083 submitted. Main thread continues.\n",
      "  Total processed (optimistic): 54,250,000 positions\n",
      "  Progress: Line 62,923,243\n"
     ]
    },
    {
     "name": "stderr",
     "output_type": "stream",
     "text": [
      "Processing positions: 62979774lines [6:23:53, 896.52lines/s] "
     ]
    },
    {
     "name": "stdout",
     "output_type": "stream",
     "text": [
      "\n",
      "✓ Previous chunk 1083 saved. Ledger updated.\n",
      "\n",
      "Submitting chunk 1084 (50000 positions) for asynchronous saving...\n",
      "  Chunk 1084 submitted. Main thread continues.\n",
      "  Total processed (optimistic): 54,300,000 positions\n",
      "  Progress: Line 62,979,752\n"
     ]
    },
    {
     "name": "stderr",
     "output_type": "stream",
     "text": [
      "Processing positions: 63000227lines [6:24:10, 1186.63lines/s]"
     ]
    },
    {
     "name": "stdout",
     "output_type": "stream",
     "text": [
      "Progress checkpoint: Line 63,000,000, Found 23,567,914 valid positions this session.\n"
     ]
    },
    {
     "name": "stderr",
     "output_type": "stream",
     "text": [
      "Processing positions: 63036807lines [6:24:39, 878.12lines/s] "
     ]
    },
    {
     "name": "stdout",
     "output_type": "stream",
     "text": [
      "\n",
      "✓ Previous chunk 1084 saved. Ledger updated.\n",
      "\n",
      "Submitting chunk 1085 (50000 positions) for asynchronous saving...\n",
      "  Chunk 1085 submitted. Main thread continues.\n",
      "  Total processed (optimistic): 54,350,000 positions\n",
      "  Progress: Line 63,036,748\n"
     ]
    },
    {
     "name": "stderr",
     "output_type": "stream",
     "text": [
      "Processing positions: 63093596lines [6:25:26, 1159.70lines/s]"
     ]
    },
    {
     "name": "stdout",
     "output_type": "stream",
     "text": [
      "\n",
      "✓ Previous chunk 1085 saved. Ledger updated.\n",
      "\n",
      "Submitting chunk 1086 (50000 positions) for asynchronous saving...\n",
      "  Chunk 1086 submitted. Main thread continues.\n",
      "  Total processed (optimistic): 54,400,000 positions\n",
      "  Progress: Line 63,093,615\n"
     ]
    },
    {
     "name": "stderr",
     "output_type": "stream",
     "text": [
      "Processing positions: 63100192lines [6:25:32, 1156.04lines/s]"
     ]
    },
    {
     "name": "stdout",
     "output_type": "stream",
     "text": [
      "Progress checkpoint: Line 63,100,000, Found 23,655,588 valid positions this session.\n"
     ]
    },
    {
     "name": "stderr",
     "output_type": "stream",
     "text": [
      "Processing positions: 63151061lines [6:26:13, 801.42lines/s] "
     ]
    },
    {
     "name": "stdout",
     "output_type": "stream",
     "text": [
      "\n",
      "✓ Previous chunk 1086 saved. Ledger updated.\n",
      "\n",
      "Submitting chunk 1087 (50000 positions) for asynchronous saving...\n",
      "  Chunk 1087 submitted. Main thread continues.\n",
      "  Total processed (optimistic): 54,450,000 positions\n",
      "  Progress: Line 63,150,967\n"
     ]
    },
    {
     "name": "stderr",
     "output_type": "stream",
     "text": [
      "Processing positions: 63200181lines [6:26:53, 1187.13lines/s]"
     ]
    },
    {
     "name": "stdout",
     "output_type": "stream",
     "text": [
      "Progress checkpoint: Line 63,200,000, Found 23,741,698 valid positions this session.\n"
     ]
    },
    {
     "name": "stderr",
     "output_type": "stream",
     "text": [
      "Processing positions: 63209760lines [6:27:00, 919.69lines/s] "
     ]
    },
    {
     "name": "stdout",
     "output_type": "stream",
     "text": [
      "\n",
      "✓ Previous chunk 1087 saved. Ledger updated.\n",
      "\n",
      "Submitting chunk 1088 (50000 positions) for asynchronous saving...\n",
      "  Chunk 1088 submitted. Main thread continues.\n",
      "  Total processed (optimistic): 54,500,000 positions\n",
      "  Progress: Line 63,209,708\n"
     ]
    },
    {
     "name": "stderr",
     "output_type": "stream",
     "text": [
      "Processing positions: 63267901lines [6:27:48, 907.26lines/s] "
     ]
    },
    {
     "name": "stdout",
     "output_type": "stream",
     "text": [
      "\n",
      "✓ Previous chunk 1088 saved. Ledger updated.\n",
      "\n",
      "Submitting chunk 1089 (50000 positions) for asynchronous saving...\n",
      "  Chunk 1089 submitted. Main thread continues.\n",
      "  Total processed (optimistic): 54,550,000 positions\n",
      "  Progress: Line 63,267,834\n"
     ]
    },
    {
     "name": "stderr",
     "output_type": "stream",
     "text": [
      "Processing positions: 63300139lines [6:28:14, 1201.60lines/s]"
     ]
    },
    {
     "name": "stdout",
     "output_type": "stream",
     "text": [
      "Progress checkpoint: Line 63,300,000, Found 23,828,007 valid positions this session.\n"
     ]
    },
    {
     "name": "stderr",
     "output_type": "stream",
     "text": [
      "Processing positions: 63325003lines [6:28:35, 910.98lines/s] "
     ]
    },
    {
     "name": "stdout",
     "output_type": "stream",
     "text": [
      "\n",
      "✓ Previous chunk 1089 saved. Ledger updated.\n",
      "\n",
      "Submitting chunk 1090 (50000 positions) for asynchronous saving...\n",
      "  Chunk 1090 submitted. Main thread continues.\n",
      "  Total processed (optimistic): 54,600,000 positions\n",
      "  Progress: Line 63,324,964\n"
     ]
    },
    {
     "name": "stderr",
     "output_type": "stream",
     "text": [
      "Processing positions: 63382321lines [6:29:21, 906.49lines/s] "
     ]
    },
    {
     "name": "stdout",
     "output_type": "stream",
     "text": [
      "\n",
      "✓ Previous chunk 1090 saved. Ledger updated.\n",
      "\n",
      "Submitting chunk 1091 (50000 positions) for asynchronous saving...\n",
      "  Chunk 1091 submitted. Main thread continues.\n",
      "  Total processed (optimistic): 54,650,000 positions\n",
      "  Progress: Line 63,382,308\n"
     ]
    },
    {
     "name": "stderr",
     "output_type": "stream",
     "text": [
      "Processing positions: 63400134lines [6:29:36, 1136.62lines/s]"
     ]
    },
    {
     "name": "stdout",
     "output_type": "stream",
     "text": [
      "Progress checkpoint: Line 63,400,000, Found 23,914,842 valid positions this session.\n"
     ]
    },
    {
     "name": "stderr",
     "output_type": "stream",
     "text": [
      "Processing positions: 63439573lines [6:30:09, 857.17lines/s] "
     ]
    },
    {
     "name": "stdout",
     "output_type": "stream",
     "text": [
      "\n",
      "✓ Previous chunk 1091 saved. Ledger updated.\n",
      "\n",
      "Submitting chunk 1092 (50000 positions) for asynchronous saving...\n",
      "  Chunk 1092 submitted. Main thread continues.\n",
      "  Total processed (optimistic): 54,700,000 positions\n",
      "  Progress: Line 63,439,474\n"
     ]
    },
    {
     "name": "stderr",
     "output_type": "stream",
     "text": [
      "Processing positions: 63495956lines [6:30:55, 895.30lines/s] "
     ]
    },
    {
     "name": "stdout",
     "output_type": "stream",
     "text": [
      "\n",
      "✓ Previous chunk 1092 saved. Ledger updated.\n",
      "\n",
      "Submitting chunk 1093 (50000 positions) for asynchronous saving...\n",
      "  Chunk 1093 submitted. Main thread continues.\n",
      "  Total processed (optimistic): 54,750,000 positions\n",
      "  Progress: Line 63,495,885\n"
     ]
    },
    {
     "name": "stderr",
     "output_type": "stream",
     "text": [
      "Processing positions: 63500244lines [6:30:59, 1240.22lines/s]"
     ]
    },
    {
     "name": "stdout",
     "output_type": "stream",
     "text": [
      "Progress checkpoint: Line 63,500,000, Found 24,003,644 valid positions this session.\n"
     ]
    },
    {
     "name": "stderr",
     "output_type": "stream",
     "text": [
      "Processing positions: 63552722lines [6:31:41, 892.88lines/s] "
     ]
    },
    {
     "name": "stdout",
     "output_type": "stream",
     "text": [
      "\n",
      "✓ Previous chunk 1093 saved. Ledger updated.\n",
      "\n",
      "Submitting chunk 1094 (50000 positions) for asynchronous saving...\n",
      "  Chunk 1094 submitted. Main thread continues.\n",
      "  Total processed (optimistic): 54,800,000 positions\n",
      "  Progress: Line 63,552,689\n"
     ]
    },
    {
     "name": "stderr",
     "output_type": "stream",
     "text": [
      "Processing positions: 63600231lines [6:32:20, 1260.05lines/s]"
     ]
    },
    {
     "name": "stdout",
     "output_type": "stream",
     "text": [
      "Progress checkpoint: Line 63,600,000, Found 24,091,751 valid positions this session.\n"
     ]
    },
    {
     "name": "stderr",
     "output_type": "stream",
     "text": [
      "Processing positions: 63609502lines [6:32:28, 812.69lines/s] "
     ]
    },
    {
     "name": "stdout",
     "output_type": "stream",
     "text": [
      "\n",
      "✓ Previous chunk 1094 saved. Ledger updated.\n",
      "\n",
      "Submitting chunk 1095 (50000 positions) for asynchronous saving...\n",
      "  Chunk 1095 submitted. Main thread continues.\n",
      "  Total processed (optimistic): 54,850,000 positions\n",
      "  Progress: Line 63,609,412\n"
     ]
    },
    {
     "name": "stderr",
     "output_type": "stream",
     "text": [
      "Processing positions: 63665199lines [6:33:15, 837.61lines/s] "
     ]
    },
    {
     "name": "stdout",
     "output_type": "stream",
     "text": [
      "\n",
      "✓ Previous chunk 1095 saved. Ledger updated.\n",
      "\n",
      "Submitting chunk 1096 (50000 positions) for asynchronous saving...\n",
      "  Chunk 1096 submitted. Main thread continues.\n",
      "  Total processed (optimistic): 54,900,000 positions\n",
      "  Progress: Line 63,665,110\n"
     ]
    },
    {
     "name": "stderr",
     "output_type": "stream",
     "text": [
      "Processing positions: 63700221lines [6:33:44, 1265.82lines/s]"
     ]
    },
    {
     "name": "stdout",
     "output_type": "stream",
     "text": [
      "Progress checkpoint: Line 63,700,000, Found 24,180,606 valid positions this session.\n"
     ]
    },
    {
     "name": "stderr",
     "output_type": "stream",
     "text": [
      "Processing positions: 63722472lines [6:34:02, 1214.43lines/s]"
     ]
    },
    {
     "name": "stdout",
     "output_type": "stream",
     "text": [
      "\n",
      "✓ Previous chunk 1096 saved. Ledger updated.\n",
      "\n",
      "Submitting chunk 1097 (50000 positions) for asynchronous saving...\n",
      "  Chunk 1097 submitted. Main thread continues.\n",
      "  Total processed (optimistic): 54,950,000 positions\n",
      "  Progress: Line 63,722,496\n"
     ]
    },
    {
     "name": "stderr",
     "output_type": "stream",
     "text": [
      "Processing positions: 63779637lines [6:34:49, 824.54lines/s] "
     ]
    },
    {
     "name": "stdout",
     "output_type": "stream",
     "text": [
      "\n",
      "✓ Previous chunk 1097 saved. Ledger updated.\n",
      "\n",
      "Submitting chunk 1098 (50000 positions) for asynchronous saving...\n",
      "  Chunk 1098 submitted. Main thread continues.\n",
      "  Total processed (optimistic): 55,000,000 positions\n",
      "  Progress: Line 63,779,572\n"
     ]
    },
    {
     "name": "stderr",
     "output_type": "stream",
     "text": [
      "Processing positions: 63800080lines [6:35:07, 1117.02lines/s]"
     ]
    },
    {
     "name": "stdout",
     "output_type": "stream",
     "text": [
      "Progress checkpoint: Line 63,800,000, Found 24,268,252 valid positions this session.\n"
     ]
    },
    {
     "name": "stderr",
     "output_type": "stream",
     "text": [
      "Processing positions: 63836792lines [6:35:36, 894.97lines/s] "
     ]
    },
    {
     "name": "stdout",
     "output_type": "stream",
     "text": [
      "\n",
      "✓ Previous chunk 1098 saved. Ledger updated.\n",
      "\n",
      "Submitting chunk 1099 (50000 positions) for asynchronous saving...\n",
      "  Chunk 1099 submitted. Main thread continues.\n",
      "  Total processed (optimistic): 55,050,000 positions\n",
      "  Progress: Line 63,836,761\n"
     ]
    },
    {
     "name": "stderr",
     "output_type": "stream",
     "text": [
      "Processing positions: 63894769lines [6:36:22, 936.97lines/s] "
     ]
    },
    {
     "name": "stdout",
     "output_type": "stream",
     "text": [
      "\n",
      "✓ Previous chunk 1099 saved. Ledger updated.\n",
      "\n",
      "Submitting chunk 1100 (50000 positions) for asynchronous saving...\n",
      "  Chunk 1100 submitted. Main thread continues.\n",
      "  Total processed (optimistic): 55,100,000 positions\n",
      "  Progress: Line 63,894,661\n"
     ]
    },
    {
     "name": "stderr",
     "output_type": "stream",
     "text": [
      "Processing positions: 63900188lines [6:36:27, 1186.09lines/s]"
     ]
    },
    {
     "name": "stdout",
     "output_type": "stream",
     "text": [
      "Progress checkpoint: Line 63,900,000, Found 24,354,683 valid positions this session.\n"
     ]
    },
    {
     "name": "stderr",
     "output_type": "stream",
     "text": [
      "Processing positions: 63951897lines [6:37:09, 814.97lines/s] "
     ]
    },
    {
     "name": "stdout",
     "output_type": "stream",
     "text": [
      "\n",
      "✓ Previous chunk 1100 saved. Ledger updated.\n",
      "\n",
      "Submitting chunk 1101 (50000 positions) for asynchronous saving...\n",
      "  Chunk 1101 submitted. Main thread continues.\n",
      "  Total processed (optimistic): 55,150,000 positions\n",
      "  Progress: Line 63,951,818\n"
     ]
    },
    {
     "name": "stderr",
     "output_type": "stream",
     "text": [
      "Processing positions: 64000188lines [6:37:50, 1126.97lines/s]"
     ]
    },
    {
     "name": "stdout",
     "output_type": "stream",
     "text": [
      "Progress checkpoint: Line 64,000,000, Found 24,443,009 valid positions this session.\n"
     ]
    },
    {
     "name": "stderr",
     "output_type": "stream",
     "text": [
      "Processing positions: 64007921lines [6:37:56, 924.98lines/s] "
     ]
    },
    {
     "name": "stdout",
     "output_type": "stream",
     "text": [
      "\n",
      "✓ Previous chunk 1101 saved. Ledger updated.\n",
      "\n",
      "Submitting chunk 1102 (50000 positions) for asynchronous saving...\n",
      "  Chunk 1102 submitted. Main thread continues.\n",
      "  Total processed (optimistic): 55,200,000 positions\n",
      "  Progress: Line 64,007,900\n"
     ]
    },
    {
     "name": "stderr",
     "output_type": "stream",
     "text": [
      "Processing positions: 64065009lines [6:38:42, 1200.51lines/s]"
     ]
    },
    {
     "name": "stdout",
     "output_type": "stream",
     "text": [
      "\n",
      "✓ Previous chunk 1102 saved. Ledger updated.\n",
      "\n",
      "Submitting chunk 1103 (50000 positions) for asynchronous saving...\n",
      "  Chunk 1103 submitted. Main thread continues.\n",
      "  Total processed (optimistic): 55,250,000 positions\n",
      "  Progress: Line 64,065,027\n"
     ]
    },
    {
     "name": "stderr",
     "output_type": "stream",
     "text": [
      "Processing positions: 64100180lines [6:39:12, 1174.72lines/s]"
     ]
    },
    {
     "name": "stdout",
     "output_type": "stream",
     "text": [
      "Progress checkpoint: Line 64,100,000, Found 24,531,398 valid positions this session.\n"
     ]
    },
    {
     "name": "stderr",
     "output_type": "stream",
     "text": [
      "Processing positions: 64120790lines [6:39:29, 858.03lines/s] "
     ]
    },
    {
     "name": "stdout",
     "output_type": "stream",
     "text": [
      "\n",
      "✓ Previous chunk 1103 saved. Ledger updated.\n",
      "\n",
      "Submitting chunk 1104 (50000 positions) for asynchronous saving...\n",
      "  Chunk 1104 submitted. Main thread continues.\n",
      "  Total processed (optimistic): 55,300,000 positions\n",
      "  Progress: Line 64,120,699\n"
     ]
    },
    {
     "name": "stderr",
     "output_type": "stream",
     "text": [
      "Processing positions: 64176602lines [6:40:16, 868.07lines/s] "
     ]
    },
    {
     "name": "stdout",
     "output_type": "stream",
     "text": [
      "\n",
      "✓ Previous chunk 1104 saved. Ledger updated.\n",
      "\n",
      "Submitting chunk 1105 (50000 positions) for asynchronous saving...\n",
      "  Chunk 1105 submitted. Main thread continues.\n",
      "  Total processed (optimistic): 55,350,000 positions\n",
      "  Progress: Line 64,176,503\n"
     ]
    },
    {
     "name": "stderr",
     "output_type": "stream",
     "text": [
      "Processing positions: 64200299lines [6:40:36, 1332.50lines/s]"
     ]
    },
    {
     "name": "stdout",
     "output_type": "stream",
     "text": [
      "Progress checkpoint: Line 64,200,000, Found 24,620,320 valid positions this session.\n"
     ]
    },
    {
     "name": "stderr",
     "output_type": "stream",
     "text": [
      "Processing positions: 64234465lines [6:41:03, 870.22lines/s] "
     ]
    },
    {
     "name": "stdout",
     "output_type": "stream",
     "text": [
      "\n",
      "✓ Previous chunk 1105 saved. Ledger updated.\n",
      "\n",
      "Submitting chunk 1106 (50000 positions) for asynchronous saving...\n",
      "  Chunk 1106 submitted. Main thread continues.\n",
      "  Total processed (optimistic): 55,400,000 positions\n",
      "  Progress: Line 64,234,421\n"
     ]
    },
    {
     "name": "stderr",
     "output_type": "stream",
     "text": [
      "Processing positions: 64292357lines [6:41:50, 936.99lines/s] "
     ]
    },
    {
     "name": "stdout",
     "output_type": "stream",
     "text": [
      "\n",
      "✓ Previous chunk 1106 saved. Ledger updated.\n",
      "\n",
      "Submitting chunk 1107 (50000 positions) for asynchronous saving...\n",
      "  Chunk 1107 submitted. Main thread continues.\n",
      "  Total processed (optimistic): 55,450,000 positions\n",
      "  Progress: Line 64,292,332\n"
     ]
    },
    {
     "name": "stderr",
     "output_type": "stream",
     "text": [
      "Processing positions: 64300171lines [6:41:57, 1335.68lines/s]"
     ]
    },
    {
     "name": "stdout",
     "output_type": "stream",
     "text": [
      "Progress checkpoint: Line 64,300,000, Found 24,706,607 valid positions this session.\n"
     ]
    },
    {
     "name": "stderr",
     "output_type": "stream",
     "text": [
      "Processing positions: 64349783lines [6:42:37, 883.93lines/s] "
     ]
    },
    {
     "name": "stdout",
     "output_type": "stream",
     "text": [
      "\n",
      "✓ Previous chunk 1107 saved. Ledger updated.\n",
      "\n",
      "Submitting chunk 1108 (50000 positions) for asynchronous saving...\n",
      "  Chunk 1108 submitted. Main thread continues.\n",
      "  Total processed (optimistic): 55,500,000 positions\n",
      "  Progress: Line 64,349,747\n"
     ]
    },
    {
     "name": "stderr",
     "output_type": "stream",
     "text": [
      "Processing positions: 64400133lines [6:43:17, 1259.43lines/s]"
     ]
    },
    {
     "name": "stdout",
     "output_type": "stream",
     "text": [
      "Progress checkpoint: Line 64,400,000, Found 24,793,316 valid positions this session.\n"
     ]
    },
    {
     "name": "stderr",
     "output_type": "stream",
     "text": [
      "Processing positions: 64407758lines [6:43:24, 880.42lines/s] "
     ]
    },
    {
     "name": "stdout",
     "output_type": "stream",
     "text": [
      "\n",
      "✓ Previous chunk 1108 saved. Ledger updated.\n",
      "\n",
      "Submitting chunk 1109 (50000 positions) for asynchronous saving...\n",
      "  Chunk 1109 submitted. Main thread continues.\n",
      "  Total processed (optimistic): 55,550,000 positions\n",
      "  Progress: Line 64,407,693\n"
     ]
    },
    {
     "name": "stderr",
     "output_type": "stream",
     "text": [
      "Processing positions: 64465074lines [6:44:11, 883.77lines/s] "
     ]
    },
    {
     "name": "stdout",
     "output_type": "stream",
     "text": [
      "\n",
      "✓ Previous chunk 1109 saved. Ledger updated.\n",
      "\n",
      "Submitting chunk 1110 (50000 positions) for asynchronous saving...\n",
      "  Chunk 1110 submitted. Main thread continues.\n",
      "  Total processed (optimistic): 55,600,000 positions\n",
      "  Progress: Line 64,464,967\n"
     ]
    },
    {
     "name": "stderr",
     "output_type": "stream",
     "text": [
      "Processing positions: 64500164lines [6:44:40, 1271.65lines/s]"
     ]
    },
    {
     "name": "stdout",
     "output_type": "stream",
     "text": [
      "Progress checkpoint: Line 64,500,000, Found 24,880,662 valid positions this session.\n"
     ]
    },
    {
     "name": "stderr",
     "output_type": "stream",
     "text": [
      "Processing positions: 64522269lines [6:44:57, 873.51lines/s] "
     ]
    },
    {
     "name": "stdout",
     "output_type": "stream",
     "text": [
      "\n",
      "✓ Previous chunk 1110 saved. Ledger updated.\n",
      "\n",
      "Submitting chunk 1111 (50000 positions) for asynchronous saving...\n",
      "  Chunk 1111 submitted. Main thread continues.\n",
      "  Total processed (optimistic): 55,650,000 positions\n",
      "  Progress: Line 64,522,209\n"
     ]
    },
    {
     "name": "stderr",
     "output_type": "stream",
     "text": [
      "Processing positions: 64579290lines [6:45:44, 894.23lines/s] "
     ]
    },
    {
     "name": "stdout",
     "output_type": "stream",
     "text": [
      "\n",
      "✓ Previous chunk 1111 saved. Ledger updated.\n",
      "\n",
      "Submitting chunk 1112 (50000 positions) for asynchronous saving...\n",
      "  Chunk 1112 submitted. Main thread continues.\n",
      "  Total processed (optimistic): 55,700,000 positions\n",
      "  Progress: Line 64,579,187\n"
     ]
    },
    {
     "name": "stderr",
     "output_type": "stream",
     "text": [
      "Processing positions: 64600165lines [6:46:01, 1210.44lines/s]"
     ]
    },
    {
     "name": "stdout",
     "output_type": "stream",
     "text": [
      "Progress checkpoint: Line 64,600,000, Found 24,968,289 valid positions this session.\n"
     ]
    },
    {
     "name": "stderr",
     "output_type": "stream",
     "text": [
      "Processing positions: 64635805lines [6:46:31, 855.33lines/s] "
     ]
    },
    {
     "name": "stdout",
     "output_type": "stream",
     "text": [
      "\n",
      "✓ Previous chunk 1112 saved. Ledger updated.\n",
      "\n",
      "Submitting chunk 1113 (50000 positions) for asynchronous saving...\n",
      "  Chunk 1113 submitted. Main thread continues.\n",
      "  Total processed (optimistic): 55,750,000 positions\n",
      "  Progress: Line 64,635,753\n"
     ]
    },
    {
     "name": "stderr",
     "output_type": "stream",
     "text": [
      "Processing positions: 64693256lines [6:47:18, 863.02lines/s] "
     ]
    },
    {
     "name": "stdout",
     "output_type": "stream",
     "text": [
      "\n",
      "✓ Previous chunk 1113 saved. Ledger updated.\n",
      "\n",
      "Submitting chunk 1114 (50000 positions) for asynchronous saving...\n",
      "  Chunk 1114 submitted. Main thread continues.\n",
      "  Total processed (optimistic): 55,800,000 positions\n",
      "  Progress: Line 64,693,192\n"
     ]
    },
    {
     "name": "stderr",
     "output_type": "stream",
     "text": [
      "Processing positions: 64700114lines [6:47:24, 1244.35lines/s]"
     ]
    },
    {
     "name": "stdout",
     "output_type": "stream",
     "text": [
      "Progress checkpoint: Line 64,700,000, Found 25,056,031 valid positions this session.\n"
     ]
    },
    {
     "name": "stderr",
     "output_type": "stream",
     "text": [
      "Processing positions: 64751126lines [6:48:05, 855.46lines/s] "
     ]
    },
    {
     "name": "stdout",
     "output_type": "stream",
     "text": [
      "\n",
      "✓ Previous chunk 1114 saved. Ledger updated.\n",
      "\n",
      "Submitting chunk 1115 (50000 positions) for asynchronous saving...\n",
      "  Chunk 1115 submitted. Main thread continues.\n",
      "  Total processed (optimistic): 55,850,000 positions\n",
      "  Progress: Line 64,751,075\n"
     ]
    },
    {
     "name": "stderr",
     "output_type": "stream",
     "text": [
      "Processing positions: 64800169lines [6:48:45, 1128.21lines/s]"
     ]
    },
    {
     "name": "stdout",
     "output_type": "stream",
     "text": [
      "Progress checkpoint: Line 64,800,000, Found 25,142,159 valid positions this session.\n"
     ]
    },
    {
     "name": "stderr",
     "output_type": "stream",
     "text": [
      "Processing positions: 64809083lines [6:48:53, 968.93lines/s] "
     ]
    },
    {
     "name": "stdout",
     "output_type": "stream",
     "text": [
      "\n",
      "✓ Previous chunk 1115 saved. Ledger updated.\n",
      "\n",
      "Submitting chunk 1116 (50000 positions) for asynchronous saving...\n",
      "  Chunk 1116 submitted. Main thread continues.\n",
      "  Total processed (optimistic): 55,900,000 positions\n",
      "  Progress: Line 64,809,075\n"
     ]
    },
    {
     "name": "stderr",
     "output_type": "stream",
     "text": [
      "Processing positions: 64866740lines [6:49:40, 916.34lines/s] "
     ]
    },
    {
     "name": "stdout",
     "output_type": "stream",
     "text": [
      "\n",
      "✓ Previous chunk 1116 saved. Ledger updated.\n",
      "\n",
      "Submitting chunk 1117 (50000 positions) for asynchronous saving...\n",
      "  Chunk 1117 submitted. Main thread continues.\n",
      "  Total processed (optimistic): 55,950,000 positions\n",
      "  Progress: Line 64,866,683\n"
     ]
    },
    {
     "name": "stderr",
     "output_type": "stream",
     "text": [
      "Processing positions: 64900225lines [6:50:08, 1342.37lines/s]"
     ]
    },
    {
     "name": "stdout",
     "output_type": "stream",
     "text": [
      "Progress checkpoint: Line 64,900,000, Found 25,229,439 valid positions this session.\n"
     ]
    },
    {
     "name": "stderr",
     "output_type": "stream",
     "text": [
      "Processing positions: 64924426lines [6:50:27, 883.95lines/s] "
     ]
    },
    {
     "name": "stdout",
     "output_type": "stream",
     "text": [
      "\n",
      "✓ Previous chunk 1117 saved. Ledger updated.\n",
      "\n",
      "Submitting chunk 1118 (50000 positions) for asynchronous saving...\n",
      "  Chunk 1118 submitted. Main thread continues.\n",
      "  Total processed (optimistic): 56,000,000 positions\n",
      "  Progress: Line 64,924,338\n"
     ]
    },
    {
     "name": "stderr",
     "output_type": "stream",
     "text": [
      "Processing positions: 64982198lines [6:51:13, 961.72lines/s] "
     ]
    },
    {
     "name": "stdout",
     "output_type": "stream",
     "text": [
      "\n",
      "✓ Previous chunk 1118 saved. Ledger updated.\n",
      "\n",
      "Submitting chunk 1119 (50000 positions) for asynchronous saving...\n",
      "  Chunk 1119 submitted. Main thread continues.\n",
      "  Total processed (optimistic): 56,050,000 positions\n",
      "  Progress: Line 64,982,154\n"
     ]
    },
    {
     "name": "stderr",
     "output_type": "stream",
     "text": [
      "Processing positions: 65000127lines [6:51:28, 1188.26lines/s]"
     ]
    },
    {
     "name": "stdout",
     "output_type": "stream",
     "text": [
      "Progress checkpoint: Line 65,000,000, Found 25,315,227 valid positions this session.\n"
     ]
    },
    {
     "name": "stderr",
     "output_type": "stream",
     "text": [
      "Processing positions: 65039636lines [6:52:01, 912.77lines/s] "
     ]
    },
    {
     "name": "stdout",
     "output_type": "stream",
     "text": [
      "\n",
      "✓ Previous chunk 1119 saved. Ledger updated.\n",
      "\n",
      "Submitting chunk 1120 (50000 positions) for asynchronous saving...\n",
      "  Chunk 1120 submitted. Main thread continues.\n",
      "  Total processed (optimistic): 56,100,000 positions\n",
      "  Progress: Line 65,039,594\n"
     ]
    },
    {
     "name": "stderr",
     "output_type": "stream",
     "text": [
      "Processing positions: 65096862lines [6:52:48, 879.80lines/s] "
     ]
    },
    {
     "name": "stdout",
     "output_type": "stream",
     "text": [
      "\n",
      "✓ Previous chunk 1120 saved. Ledger updated.\n",
      "\n",
      "Submitting chunk 1121 (50000 positions) for asynchronous saving...\n",
      "  Chunk 1121 submitted. Main thread continues.\n",
      "  Total processed (optimistic): 56,150,000 positions\n",
      "  Progress: Line 65,096,794\n"
     ]
    },
    {
     "name": "stderr",
     "output_type": "stream",
     "text": [
      "Processing positions: 65100156lines [6:52:51, 1220.07lines/s]"
     ]
    },
    {
     "name": "stdout",
     "output_type": "stream",
     "text": [
      "Progress checkpoint: Line 65,100,000, Found 25,402,743 valid positions this session.\n"
     ]
    },
    {
     "name": "stderr",
     "output_type": "stream",
     "text": [
      "Processing positions: 65154252lines [6:53:34, 890.18lines/s] "
     ]
    },
    {
     "name": "stdout",
     "output_type": "stream",
     "text": [
      "\n",
      "✓ Previous chunk 1121 saved. Ledger updated.\n",
      "\n",
      "Submitting chunk 1122 (50000 positions) for asynchronous saving...\n",
      "  Chunk 1122 submitted. Main thread continues.\n",
      "  Total processed (optimistic): 56,200,000 positions\n",
      "  Progress: Line 65,154,147\n"
     ]
    },
    {
     "name": "stderr",
     "output_type": "stream",
     "text": [
      "Processing positions: 65200168lines [6:54:12, 1216.67lines/s]"
     ]
    },
    {
     "name": "stdout",
     "output_type": "stream",
     "text": [
      "Progress checkpoint: Line 65,200,000, Found 25,490,524 valid positions this session.\n"
     ]
    },
    {
     "name": "stderr",
     "output_type": "stream",
     "text": [
      "Processing positions: 65210819lines [6:54:21, 1286.30lines/s]"
     ]
    },
    {
     "name": "stdout",
     "output_type": "stream",
     "text": [
      "\n",
      "✓ Previous chunk 1122 saved. Ledger updated.\n",
      "\n",
      "Submitting chunk 1123 (50000 positions) for asynchronous saving...\n",
      "  Chunk 1123 submitted. Main thread continues.\n",
      "  Total processed (optimistic): 56,250,000 positions\n",
      "  Progress: Line 65,210,826\n"
     ]
    },
    {
     "name": "stderr",
     "output_type": "stream",
     "text": [
      "Processing positions: 65267935lines [6:55:08, 857.67lines/s] "
     ]
    },
    {
     "name": "stdout",
     "output_type": "stream",
     "text": [
      "\n",
      "✓ Previous chunk 1123 saved. Ledger updated.\n",
      "\n",
      "Submitting chunk 1124 (50000 positions) for asynchronous saving...\n",
      "  Chunk 1124 submitted. Main thread continues.\n",
      "  Total processed (optimistic): 56,300,000 positions\n",
      "  Progress: Line 65,267,865\n"
     ]
    },
    {
     "name": "stderr",
     "output_type": "stream",
     "text": [
      "Processing positions: 65300125lines [6:55:34, 1277.77lines/s]"
     ]
    },
    {
     "name": "stdout",
     "output_type": "stream",
     "text": [
      "Progress checkpoint: Line 65,300,000, Found 25,577,122 valid positions this session.\n"
     ]
    },
    {
     "name": "stderr",
     "output_type": "stream",
     "text": [
      "Processing positions: 65326538lines [6:55:55, 833.62lines/s] "
     ]
    },
    {
     "name": "stdout",
     "output_type": "stream",
     "text": [
      "\n",
      "✓ Previous chunk 1124 saved. Ledger updated.\n",
      "\n",
      "Submitting chunk 1125 (50000 positions) for asynchronous saving...\n",
      "  Chunk 1125 submitted. Main thread continues.\n",
      "  Total processed (optimistic): 56,350,000 positions\n",
      "  Progress: Line 65,326,456\n"
     ]
    },
    {
     "name": "stderr",
     "output_type": "stream",
     "text": [
      "Processing positions: 65384065lines [6:56:42, 893.36lines/s] "
     ]
    },
    {
     "name": "stdout",
     "output_type": "stream",
     "text": [
      "\n",
      "✓ Previous chunk 1125 saved. Ledger updated.\n",
      "\n",
      "Submitting chunk 1126 (50000 positions) for asynchronous saving...\n",
      "  Chunk 1126 submitted. Main thread continues.\n",
      "  Total processed (optimistic): 56,400,000 positions\n",
      "  Progress: Line 65,383,963\n"
     ]
    },
    {
     "name": "stderr",
     "output_type": "stream",
     "text": [
      "Processing positions: 65400212lines [6:56:56, 1200.05lines/s]"
     ]
    },
    {
     "name": "stdout",
     "output_type": "stream",
     "text": [
      "Progress checkpoint: Line 65,400,000, Found 25,664,284 valid positions this session.\n"
     ]
    },
    {
     "name": "stderr",
     "output_type": "stream",
     "text": [
      "Processing positions: 65441228lines [6:57:29, 972.90lines/s] "
     ]
    },
    {
     "name": "stdout",
     "output_type": "stream",
     "text": [
      "\n",
      "✓ Previous chunk 1126 saved. Ledger updated.\n",
      "\n",
      "Submitting chunk 1127 (50000 positions) for asynchronous saving...\n",
      "  Chunk 1127 submitted. Main thread continues.\n",
      "  Total processed (optimistic): 56,450,000 positions\n",
      "  Progress: Line 65,441,157\n"
     ]
    },
    {
     "name": "stderr",
     "output_type": "stream",
     "text": [
      "Processing positions: 65498343lines [6:58:16, 847.14lines/s] "
     ]
    },
    {
     "name": "stdout",
     "output_type": "stream",
     "text": [
      "\n",
      "✓ Previous chunk 1127 saved. Ledger updated.\n",
      "\n",
      "Submitting chunk 1128 (50000 positions) for asynchronous saving...\n",
      "  Chunk 1128 submitted. Main thread continues.\n",
      "  Total processed (optimistic): 56,500,000 positions\n",
      "  Progress: Line 65,498,255\n"
     ]
    },
    {
     "name": "stderr",
     "output_type": "stream",
     "text": [
      "Processing positions: 65500242lines [6:58:18, 1215.26lines/s]"
     ]
    },
    {
     "name": "stdout",
     "output_type": "stream",
     "text": [
      "Progress checkpoint: Line 65,500,000, Found 25,751,419 valid positions this session.\n"
     ]
    },
    {
     "name": "stderr",
     "output_type": "stream",
     "text": [
      "Processing positions: 65555918lines [6:59:03, 881.87lines/s] "
     ]
    },
    {
     "name": "stdout",
     "output_type": "stream",
     "text": [
      "\n",
      "✓ Previous chunk 1128 saved. Ledger updated.\n",
      "\n",
      "Submitting chunk 1129 (50000 positions) for asynchronous saving...\n",
      "  Chunk 1129 submitted. Main thread continues.\n",
      "  Total processed (optimistic): 56,550,000 positions\n",
      "  Progress: Line 65,555,879\n"
     ]
    },
    {
     "name": "stderr",
     "output_type": "stream",
     "text": [
      "Processing positions: 65600216lines [6:59:39, 1331.02lines/s]"
     ]
    },
    {
     "name": "stdout",
     "output_type": "stream",
     "text": [
      "Progress checkpoint: Line 65,600,000, Found 25,838,686 valid positions this session.\n"
     ]
    },
    {
     "name": "stderr",
     "output_type": "stream",
     "text": [
      "Processing positions: 65613462lines [6:59:50, 905.46lines/s] "
     ]
    },
    {
     "name": "stdout",
     "output_type": "stream",
     "text": [
      "\n",
      "✓ Previous chunk 1129 saved. Ledger updated.\n",
      "\n",
      "Submitting chunk 1130 (50000 positions) for asynchronous saving...\n",
      "  Chunk 1130 submitted. Main thread continues.\n",
      "  Total processed (optimistic): 56,600,000 positions\n",
      "  Progress: Line 65,613,392\n"
     ]
    },
    {
     "name": "stderr",
     "output_type": "stream",
     "text": [
      "Processing positions: 65670124lines [7:00:36, 919.91lines/s] "
     ]
    },
    {
     "name": "stdout",
     "output_type": "stream",
     "text": [
      "\n",
      "✓ Previous chunk 1130 saved. Ledger updated.\n",
      "\n",
      "Submitting chunk 1131 (50000 positions) for asynchronous saving...\n",
      "  Chunk 1131 submitted. Main thread continues.\n",
      "  Total processed (optimistic): 56,650,000 positions\n",
      "  Progress: Line 65,670,046\n"
     ]
    },
    {
     "name": "stderr",
     "output_type": "stream",
     "text": [
      "Processing positions: 65700116lines [7:01:01, 1127.18lines/s]"
     ]
    },
    {
     "name": "stdout",
     "output_type": "stream",
     "text": [
      "Progress checkpoint: Line 65,700,000, Found 25,926,411 valid positions this session.\n"
     ]
    },
    {
     "name": "stderr",
     "output_type": "stream",
     "text": [
      "Processing positions: 65726863lines [7:01:23, 892.33lines/s] "
     ]
    },
    {
     "name": "stdout",
     "output_type": "stream",
     "text": [
      "\n",
      "✓ Previous chunk 1131 saved. Ledger updated.\n",
      "\n",
      "Submitting chunk 1132 (50000 positions) for asynchronous saving...\n",
      "  Chunk 1132 submitted. Main thread continues.\n",
      "  Total processed (optimistic): 56,700,000 positions\n",
      "  Progress: Line 65,726,762\n"
     ]
    },
    {
     "name": "stderr",
     "output_type": "stream",
     "text": [
      "Processing positions: 65784297lines [7:02:09, 867.61lines/s] "
     ]
    },
    {
     "name": "stdout",
     "output_type": "stream",
     "text": [
      "\n",
      "✓ Previous chunk 1132 saved. Ledger updated.\n",
      "\n",
      "Submitting chunk 1133 (50000 positions) for asynchronous saving...\n",
      "  Chunk 1133 submitted. Main thread continues.\n",
      "  Total processed (optimistic): 56,750,000 positions\n",
      "  Progress: Line 65,784,260\n"
     ]
    },
    {
     "name": "stderr",
     "output_type": "stream",
     "text": [
      "Processing positions: 65800170lines [7:02:22, 1271.76lines/s]"
     ]
    },
    {
     "name": "stdout",
     "output_type": "stream",
     "text": [
      "Progress checkpoint: Line 65,800,000, Found 26,013,590 valid positions this session.\n"
     ]
    },
    {
     "name": "stderr",
     "output_type": "stream",
     "text": [
      "Processing positions: 65842171lines [7:02:56, 901.08lines/s] "
     ]
    },
    {
     "name": "stdout",
     "output_type": "stream",
     "text": [
      "\n",
      "✓ Previous chunk 1133 saved. Ledger updated.\n",
      "\n",
      "Submitting chunk 1134 (50000 positions) for asynchronous saving...\n",
      "  Chunk 1134 submitted. Main thread continues.\n",
      "  Total processed (optimistic): 56,800,000 positions\n",
      "  Progress: Line 65,842,145\n"
     ]
    },
    {
     "name": "stderr",
     "output_type": "stream",
     "text": [
      "Processing positions: 65900029lines [7:03:43, 935.23lines/s] "
     ]
    },
    {
     "name": "stdout",
     "output_type": "stream",
     "text": [
      "\n",
      "✓ Previous chunk 1134 saved. Ledger updated.\n",
      "\n",
      "Submitting chunk 1135 (50000 positions) for asynchronous saving...\n",
      "  Chunk 1135 submitted. Main thread continues.\n",
      "  Total processed (optimistic): 56,850,000 positions\n",
      "  Progress: Line 65,899,965\n",
      "Progress checkpoint: Line 65,900,000, Found 26,100,027 valid positions this session.\n"
     ]
    },
    {
     "name": "stderr",
     "output_type": "stream",
     "text": [
      "Processing positions: 65957238lines [7:04:30, 915.48lines/s] "
     ]
    },
    {
     "name": "stdout",
     "output_type": "stream",
     "text": [
      "\n",
      "✓ Previous chunk 1135 saved. Ledger updated.\n",
      "\n",
      "Submitting chunk 1136 (50000 positions) for asynchronous saving...\n",
      "  Chunk 1136 submitted. Main thread continues.\n",
      "  Total processed (optimistic): 56,900,000 positions\n",
      "  Progress: Line 65,957,198\n"
     ]
    },
    {
     "name": "stderr",
     "output_type": "stream",
     "text": [
      "Processing positions: 66000176lines [7:05:06, 1118.52lines/s]"
     ]
    },
    {
     "name": "stdout",
     "output_type": "stream",
     "text": [
      "Progress checkpoint: Line 66,000,000, Found 26,187,827 valid positions this session.\n"
     ]
    },
    {
     "name": "stderr",
     "output_type": "stream",
     "text": [
      "Processing positions: 66013956lines [7:05:17, 928.71lines/s] "
     ]
    },
    {
     "name": "stdout",
     "output_type": "stream",
     "text": [
      "\n",
      "✓ Previous chunk 1136 saved. Ledger updated.\n",
      "\n",
      "Submitting chunk 1137 (50000 positions) for asynchronous saving...\n",
      "  Chunk 1137 submitted. Main thread continues.\n",
      "  Total processed (optimistic): 56,950,000 positions\n",
      "  Progress: Line 66,013,913\n"
     ]
    },
    {
     "name": "stderr",
     "output_type": "stream",
     "text": [
      "Processing positions: 66071941lines [7:06:04, 1155.51lines/s]"
     ]
    },
    {
     "name": "stdout",
     "output_type": "stream",
     "text": [
      "\n",
      "✓ Previous chunk 1137 saved. Ledger updated.\n",
      "\n",
      "Submitting chunk 1138 (50000 positions) for asynchronous saving...\n",
      "  Chunk 1138 submitted. Main thread continues.\n",
      "  Total processed (optimistic): 57,000,000 positions\n",
      "  Progress: Line 66,071,955\n"
     ]
    },
    {
     "name": "stderr",
     "output_type": "stream",
     "text": [
      "Processing positions: 66100236lines [7:06:28, 1261.14lines/s]"
     ]
    },
    {
     "name": "stdout",
     "output_type": "stream",
     "text": [
      "Progress checkpoint: Line 66,100,000, Found 26,274,851 valid positions this session.\n"
     ]
    },
    {
     "name": "stderr",
     "output_type": "stream",
     "text": [
      "Processing positions: 66128526lines [7:06:51, 994.96lines/s] "
     ]
    },
    {
     "name": "stdout",
     "output_type": "stream",
     "text": [
      "\n",
      "✓ Previous chunk 1138 saved. Ledger updated.\n",
      "\n",
      "Submitting chunk 1139 (50000 positions) for asynchronous saving...\n",
      "  Chunk 1139 submitted. Main thread continues.\n",
      "  Total processed (optimistic): 57,050,000 positions\n",
      "  Progress: Line 66,128,514\n"
     ]
    },
    {
     "name": "stderr",
     "output_type": "stream",
     "text": [
      "Processing positions: 66186043lines [7:07:36, 1219.80lines/s]"
     ]
    },
    {
     "name": "stdout",
     "output_type": "stream",
     "text": [
      "\n",
      "✓ Previous chunk 1139 saved. Ledger updated.\n",
      "\n",
      "Submitting chunk 1140 (50000 positions) for asynchronous saving...\n",
      "  Chunk 1140 submitted. Main thread continues.\n",
      "  Total processed (optimistic): 57,100,000 positions\n",
      "  Progress: Line 66,186,046\n"
     ]
    },
    {
     "name": "stderr",
     "output_type": "stream",
     "text": [
      "Processing positions: 66200202lines [7:07:49, 1174.00lines/s]"
     ]
    },
    {
     "name": "stdout",
     "output_type": "stream",
     "text": [
      "Progress checkpoint: Line 66,200,000, Found 26,362,352 valid positions this session.\n"
     ]
    },
    {
     "name": "stderr",
     "output_type": "stream",
     "text": [
      "Processing positions: 66242573lines [7:08:24, 924.71lines/s] "
     ]
    },
    {
     "name": "stdout",
     "output_type": "stream",
     "text": [
      "\n",
      "✓ Previous chunk 1140 saved. Ledger updated.\n",
      "\n",
      "Submitting chunk 1141 (50000 positions) for asynchronous saving...\n",
      "  Chunk 1141 submitted. Main thread continues.\n",
      "  Total processed (optimistic): 57,150,000 positions\n",
      "  Progress: Line 66,242,537\n"
     ]
    },
    {
     "name": "stderr",
     "output_type": "stream",
     "text": [
      "Processing positions: 66300042lines [7:09:11, 1286.74lines/s]"
     ]
    },
    {
     "name": "stdout",
     "output_type": "stream",
     "text": [
      "Progress checkpoint: Line 66,300,000, Found 26,449,881 valid positions this session.\n",
      "\n",
      "✓ Previous chunk 1141 saved. Ledger updated.\n",
      "\n",
      "Submitting chunk 1142 (50000 positions) for asynchronous saving...\n",
      "  Chunk 1142 submitted. Main thread continues.\n",
      "  Total processed (optimistic): 57,200,000 positions\n",
      "  Progress: Line 66,300,164\n"
     ]
    },
    {
     "name": "stderr",
     "output_type": "stream",
     "text": [
      "Processing positions: 66358021lines [7:09:57, 839.51lines/s] "
     ]
    },
    {
     "name": "stdout",
     "output_type": "stream",
     "text": [
      "\n",
      "✓ Previous chunk 1142 saved. Ledger updated.\n",
      "\n",
      "Submitting chunk 1143 (50000 positions) for asynchronous saving...\n",
      "  Chunk 1143 submitted. Main thread continues.\n",
      "  Total processed (optimistic): 57,250,000 positions\n",
      "  Progress: Line 66,357,930\n"
     ]
    },
    {
     "name": "stderr",
     "output_type": "stream",
     "text": [
      "Processing positions: 66400200lines [7:10:32, 1137.62lines/s]"
     ]
    },
    {
     "name": "stdout",
     "output_type": "stream",
     "text": [
      "Progress checkpoint: Line 66,400,000, Found 26,536,833 valid positions this session.\n"
     ]
    },
    {
     "name": "stderr",
     "output_type": "stream",
     "text": [
      "Processing positions: 66415005lines [7:10:45, 857.51lines/s] "
     ]
    },
    {
     "name": "stdout",
     "output_type": "stream",
     "text": [
      "\n",
      "✓ Previous chunk 1143 saved. Ledger updated.\n",
      "\n",
      "Submitting chunk 1144 (50000 positions) for asynchronous saving...\n",
      "  Chunk 1144 submitted. Main thread continues.\n",
      "  Total processed (optimistic): 57,300,000 positions\n",
      "  Progress: Line 66,414,978\n"
     ]
    },
    {
     "name": "stderr",
     "output_type": "stream",
     "text": [
      "Processing positions: 66471571lines [7:11:32, 977.73lines/s] "
     ]
    },
    {
     "name": "stdout",
     "output_type": "stream",
     "text": [
      "\n",
      "✓ Previous chunk 1144 saved. Ledger updated.\n",
      "\n",
      "Submitting chunk 1145 (50000 positions) for asynchronous saving...\n",
      "  Chunk 1145 submitted. Main thread continues.\n",
      "  Total processed (optimistic): 57,350,000 positions\n",
      "  Progress: Line 66,471,452\n"
     ]
    },
    {
     "name": "stderr",
     "output_type": "stream",
     "text": [
      "Processing positions: 66500193lines [7:11:55, 1279.98lines/s]"
     ]
    },
    {
     "name": "stdout",
     "output_type": "stream",
     "text": [
      "Progress checkpoint: Line 66,500,000, Found 26,624,775 valid positions this session.\n"
     ]
    },
    {
     "name": "stderr",
     "output_type": "stream",
     "text": [
      "Processing positions: 66529142lines [7:12:18, 894.87lines/s] "
     ]
    },
    {
     "name": "stdout",
     "output_type": "stream",
     "text": [
      "\n",
      "✓ Previous chunk 1145 saved. Ledger updated.\n",
      "\n",
      "Submitting chunk 1146 (50000 positions) for asynchronous saving...\n",
      "  Chunk 1146 submitted. Main thread continues.\n",
      "  Total processed (optimistic): 57,400,000 positions\n",
      "  Progress: Line 66,529,101\n"
     ]
    },
    {
     "name": "stderr",
     "output_type": "stream",
     "text": [
      "Processing positions: 66587178lines [7:13:05, 896.05lines/s] "
     ]
    },
    {
     "name": "stdout",
     "output_type": "stream",
     "text": [
      "\n",
      "✓ Previous chunk 1146 saved. Ledger updated.\n",
      "\n",
      "Submitting chunk 1147 (50000 positions) for asynchronous saving...\n",
      "  Chunk 1147 submitted. Main thread continues.\n",
      "  Total processed (optimistic): 57,450,000 positions\n",
      "  Progress: Line 66,587,102\n"
     ]
    },
    {
     "name": "stderr",
     "output_type": "stream",
     "text": [
      "Processing positions: 66600146lines [7:13:15, 1282.34lines/s]"
     ]
    },
    {
     "name": "stdout",
     "output_type": "stream",
     "text": [
      "Progress checkpoint: Line 66,600,000, Found 26,711,019 valid positions this session.\n"
     ]
    },
    {
     "name": "stderr",
     "output_type": "stream",
     "text": [
      "Processing positions: 66644760lines [7:13:51, 947.32lines/s] "
     ]
    },
    {
     "name": "stdout",
     "output_type": "stream",
     "text": [
      "\n",
      "✓ Previous chunk 1147 saved. Ledger updated.\n",
      "\n",
      "Submitting chunk 1148 (50000 positions) for asynchronous saving...\n",
      "  Chunk 1148 submitted. Main thread continues.\n",
      "  Total processed (optimistic): 57,500,000 positions\n",
      "  Progress: Line 66,644,710\n"
     ]
    },
    {
     "name": "stderr",
     "output_type": "stream",
     "text": [
      "Processing positions: 66700146lines [7:14:37, 1205.97lines/s]"
     ]
    },
    {
     "name": "stdout",
     "output_type": "stream",
     "text": [
      "Progress checkpoint: Line 66,700,000, Found 26,798,679 valid positions this session.\n"
     ]
    },
    {
     "name": "stderr",
     "output_type": "stream",
     "text": [
      "Processing positions: 66701548lines [7:14:38, 952.96lines/s] "
     ]
    },
    {
     "name": "stdout",
     "output_type": "stream",
     "text": [
      "\n",
      "✓ Previous chunk 1148 saved. Ledger updated.\n",
      "\n",
      "Submitting chunk 1149 (50000 positions) for asynchronous saving...\n",
      "  Chunk 1149 submitted. Main thread continues.\n",
      "  Total processed (optimistic): 57,550,000 positions\n",
      "  Progress: Line 66,701,525\n"
     ]
    },
    {
     "name": "stderr",
     "output_type": "stream",
     "text": [
      "Processing positions: 66758100lines [7:15:24, 915.77lines/s] "
     ]
    },
    {
     "name": "stdout",
     "output_type": "stream",
     "text": [
      "\n",
      "✓ Previous chunk 1149 saved. Ledger updated.\n",
      "\n",
      "Submitting chunk 1150 (50000 positions) for asynchronous saving...\n",
      "  Chunk 1150 submitted. Main thread continues.\n",
      "  Total processed (optimistic): 57,600,000 positions\n",
      "  Progress: Line 66,757,989\n"
     ]
    },
    {
     "name": "stderr",
     "output_type": "stream",
     "text": [
      "Processing positions: 66800279lines [7:16:00, 1273.97lines/s]"
     ]
    },
    {
     "name": "stdout",
     "output_type": "stream",
     "text": [
      "Progress checkpoint: Line 66,800,000, Found 26,887,667 valid positions this session.\n"
     ]
    },
    {
     "name": "stderr",
     "output_type": "stream",
     "text": [
      "Processing positions: 66813976lines [7:16:11, 1197.53lines/s]"
     ]
    },
    {
     "name": "stdout",
     "output_type": "stream",
     "text": [
      "\n",
      "✓ Previous chunk 1150 saved. Ledger updated.\n",
      "\n",
      "Submitting chunk 1151 (50000 positions) for asynchronous saving...\n",
      "  Chunk 1151 submitted. Main thread continues.\n",
      "  Total processed (optimistic): 57,650,000 positions\n",
      "  Progress: Line 66,813,996\n"
     ]
    },
    {
     "name": "stderr",
     "output_type": "stream",
     "text": [
      "Processing positions: 66870425lines [7:16:58, 1222.24lines/s]"
     ]
    },
    {
     "name": "stdout",
     "output_type": "stream",
     "text": [
      "\n",
      "✓ Previous chunk 1151 saved. Ledger updated.\n",
      "\n",
      "Submitting chunk 1152 (50000 positions) for asynchronous saving...\n",
      "  Chunk 1152 submitted. Main thread continues.\n",
      "  Total processed (optimistic): 57,700,000 positions\n",
      "  Progress: Line 66,870,430\n"
     ]
    },
    {
     "name": "stderr",
     "output_type": "stream",
     "text": [
      "Processing positions: 66900234lines [7:17:22, 1226.08lines/s]"
     ]
    },
    {
     "name": "stdout",
     "output_type": "stream",
     "text": [
      "Progress checkpoint: Line 66,900,000, Found 26,975,373 valid positions this session.\n"
     ]
    },
    {
     "name": "stderr",
     "output_type": "stream",
     "text": [
      "Processing positions: 66928581lines [7:17:45, 1015.08lines/s]"
     ]
    },
    {
     "name": "stdout",
     "output_type": "stream",
     "text": [
      "\n",
      "✓ Previous chunk 1152 saved. Ledger updated.\n",
      "\n",
      "Submitting chunk 1153 (50000 positions) for asynchronous saving...\n",
      "  Chunk 1153 submitted. Main thread continues.\n",
      "  Total processed (optimistic): 57,750,000 positions\n",
      "  Progress: Line 66,928,560\n"
     ]
    },
    {
     "name": "stderr",
     "output_type": "stream",
     "text": [
      "Processing positions: 66986867lines [7:18:32, 967.53lines/s] "
     ]
    },
    {
     "name": "stdout",
     "output_type": "stream",
     "text": [
      "\n",
      "✓ Previous chunk 1153 saved. Ledger updated.\n",
      "\n",
      "Submitting chunk 1154 (50000 positions) for asynchronous saving...\n",
      "  Chunk 1154 submitted. Main thread continues.\n",
      "  Total processed (optimistic): 57,800,000 positions\n",
      "  Progress: Line 66,986,827\n"
     ]
    },
    {
     "name": "stderr",
     "output_type": "stream",
     "text": [
      "Processing positions: 67000188lines [7:18:43, 1242.39lines/s]"
     ]
    },
    {
     "name": "stdout",
     "output_type": "stream",
     "text": [
      "Progress checkpoint: Line 67,000,000, Found 27,061,185 valid positions this session.\n"
     ]
    },
    {
     "name": "stderr",
     "output_type": "stream",
     "text": [
      "Processing positions: 67045108lines [7:19:18, 994.20lines/s] "
     ]
    },
    {
     "name": "stdout",
     "output_type": "stream",
     "text": [
      "\n",
      "✓ Previous chunk 1154 saved. Ledger updated.\n",
      "\n",
      "Submitting chunk 1155 (50000 positions) for asynchronous saving...\n",
      "  Chunk 1155 submitted. Main thread continues.\n",
      "  Total processed (optimistic): 57,850,000 positions\n",
      "  Progress: Line 67,045,108\n"
     ]
    },
    {
     "name": "stderr",
     "output_type": "stream",
     "text": [
      "Processing positions: 67100204lines [7:20:02, 1318.36lines/s]"
     ]
    },
    {
     "name": "stdout",
     "output_type": "stream",
     "text": [
      "Progress checkpoint: Line 67,100,000, Found 27,147,376 valid positions this session.\n"
     ]
    },
    {
     "name": "stderr",
     "output_type": "stream",
     "text": [
      "Processing positions: 67103089lines [7:20:05, 987.27lines/s] "
     ]
    },
    {
     "name": "stdout",
     "output_type": "stream",
     "text": [
      "\n",
      "✓ Previous chunk 1155 saved. Ledger updated.\n",
      "\n",
      "Submitting chunk 1156 (50000 positions) for asynchronous saving...\n",
      "  Chunk 1156 submitted. Main thread continues.\n",
      "  Total processed (optimistic): 57,900,000 positions\n",
      "  Progress: Line 67,103,080\n"
     ]
    },
    {
     "name": "stderr",
     "output_type": "stream",
     "text": [
      "Processing positions: 67160846lines [7:20:51, 991.80lines/s] "
     ]
    },
    {
     "name": "stdout",
     "output_type": "stream",
     "text": [
      "\n",
      "✓ Previous chunk 1156 saved. Ledger updated.\n",
      "\n",
      "Submitting chunk 1157 (50000 positions) for asynchronous saving...\n",
      "  Chunk 1157 submitted. Main thread continues.\n",
      "  Total processed (optimistic): 57,950,000 positions\n",
      "  Progress: Line 67,160,843\n"
     ]
    },
    {
     "name": "stderr",
     "output_type": "stream",
     "text": [
      "Processing positions: 67200178lines [7:21:23, 1174.03lines/s]"
     ]
    },
    {
     "name": "stdout",
     "output_type": "stream",
     "text": [
      "Progress checkpoint: Line 67,200,000, Found 27,234,013 valid positions this session.\n"
     ]
    },
    {
     "name": "stderr",
     "output_type": "stream",
     "text": [
      "Processing positions: 67218571lines [7:21:38, 934.43lines/s] "
     ]
    },
    {
     "name": "stdout",
     "output_type": "stream",
     "text": [
      "\n",
      "✓ Previous chunk 1157 saved. Ledger updated.\n",
      "\n",
      "Submitting chunk 1158 (50000 positions) for asynchronous saving...\n",
      "  Chunk 1158 submitted. Main thread continues.\n",
      "  Total processed (optimistic): 58,000,000 positions\n",
      "  Progress: Line 67,218,525\n"
     ]
    },
    {
     "name": "stderr",
     "output_type": "stream",
     "text": [
      "Processing positions: 67274971lines [7:22:24, 888.44lines/s] "
     ]
    },
    {
     "name": "stdout",
     "output_type": "stream",
     "text": [
      "\n",
      "✓ Previous chunk 1158 saved. Ledger updated.\n",
      "\n",
      "Submitting chunk 1159 (50000 positions) for asynchronous saving...\n",
      "  Chunk 1159 submitted. Main thread continues.\n",
      "  Total processed (optimistic): 58,050,000 positions\n",
      "  Progress: Line 67,274,926\n"
     ]
    },
    {
     "name": "stderr",
     "output_type": "stream",
     "text": [
      "Processing positions: 67300118lines [7:22:45, 1175.10lines/s]"
     ]
    },
    {
     "name": "stdout",
     "output_type": "stream",
     "text": [
      "Progress checkpoint: Line 67,300,000, Found 27,322,406 valid positions this session.\n"
     ]
    },
    {
     "name": "stderr",
     "output_type": "stream",
     "text": [
      "Processing positions: 67330832lines [7:23:10, 884.48lines/s] "
     ]
    },
    {
     "name": "stdout",
     "output_type": "stream",
     "text": [
      "\n",
      "✓ Previous chunk 1159 saved. Ledger updated.\n",
      "\n",
      "Submitting chunk 1160 (50000 positions) for asynchronous saving...\n",
      "  Chunk 1160 submitted. Main thread continues.\n",
      "  Total processed (optimistic): 58,100,000 positions\n",
      "  Progress: Line 67,330,730\n"
     ]
    },
    {
     "name": "stderr",
     "output_type": "stream",
     "text": [
      "Processing positions: 67387117lines [7:23:56, 888.17lines/s] "
     ]
    },
    {
     "name": "stdout",
     "output_type": "stream",
     "text": [
      "\n",
      "✓ Previous chunk 1160 saved. Ledger updated.\n",
      "\n",
      "Submitting chunk 1161 (50000 positions) for asynchronous saving...\n",
      "  Chunk 1161 submitted. Main thread continues.\n",
      "  Total processed (optimistic): 58,150,000 positions\n",
      "  Progress: Line 67,387,069\n"
     ]
    },
    {
     "name": "stderr",
     "output_type": "stream",
     "text": [
      "Processing positions: 67400136lines [7:24:08, 1086.91lines/s]"
     ]
    },
    {
     "name": "stdout",
     "output_type": "stream",
     "text": [
      "Progress checkpoint: Line 67,400,000, Found 27,411,598 valid positions this session.\n"
     ]
    },
    {
     "name": "stderr",
     "output_type": "stream",
     "text": [
      "Processing positions: 67443843lines [7:24:44, 846.26lines/s] "
     ]
    },
    {
     "name": "stdout",
     "output_type": "stream",
     "text": [
      "\n",
      "✓ Previous chunk 1161 saved. Ledger updated.\n",
      "\n",
      "Submitting chunk 1162 (50000 positions) for asynchronous saving...\n",
      "  Chunk 1162 submitted. Main thread continues.\n",
      "  Total processed (optimistic): 58,200,000 positions\n",
      "  Progress: Line 67,443,741\n"
     ]
    },
    {
     "name": "stderr",
     "output_type": "stream",
     "text": [
      "Processing positions: 67500158lines [7:25:30, 1185.20lines/s]"
     ]
    },
    {
     "name": "stdout",
     "output_type": "stream",
     "text": [
      "Progress checkpoint: Line 67,500,000, Found 27,499,095 valid positions this session.\n"
     ]
    },
    {
     "name": "stderr",
     "output_type": "stream",
     "text": [
      "Processing positions: 67500982lines [7:25:31, 856.88lines/s] "
     ]
    },
    {
     "name": "stdout",
     "output_type": "stream",
     "text": [
      "\n",
      "✓ Previous chunk 1162 saved. Ledger updated.\n",
      "\n",
      "Submitting chunk 1163 (50000 positions) for asynchronous saving...\n",
      "  Chunk 1163 submitted. Main thread continues.\n",
      "  Total processed (optimistic): 58,250,000 positions\n",
      "  Progress: Line 67,500,966\n"
     ]
    },
    {
     "name": "stderr",
     "output_type": "stream",
     "text": [
      "Processing positions: 67559478lines [7:26:17, 1175.34lines/s]"
     ]
    },
    {
     "name": "stdout",
     "output_type": "stream",
     "text": [
      "\n",
      "✓ Previous chunk 1163 saved. Ledger updated.\n",
      "\n",
      "Submitting chunk 1164 (50000 positions) for asynchronous saving...\n",
      "  Chunk 1164 submitted. Main thread continues.\n",
      "  Total processed (optimistic): 58,300,000 positions\n",
      "  Progress: Line 67,559,480\n"
     ]
    },
    {
     "name": "stderr",
     "output_type": "stream",
     "text": [
      "Processing positions: 67600261lines [7:26:51, 1257.43lines/s]"
     ]
    },
    {
     "name": "stdout",
     "output_type": "stream",
     "text": [
      "Progress checkpoint: Line 67,600,000, Found 27,585,548 valid positions this session.\n"
     ]
    },
    {
     "name": "stderr",
     "output_type": "stream",
     "text": [
      "Processing positions: 67616494lines [7:27:04, 970.02lines/s] "
     ]
    },
    {
     "name": "stdout",
     "output_type": "stream",
     "text": [
      "\n",
      "✓ Previous chunk 1164 saved. Ledger updated.\n",
      "\n",
      "Submitting chunk 1165 (50000 positions) for asynchronous saving...\n",
      "  Chunk 1165 submitted. Main thread continues.\n",
      "  Total processed (optimistic): 58,350,000 positions\n",
      "  Progress: Line 67,616,464\n"
     ]
    },
    {
     "name": "stderr",
     "output_type": "stream",
     "text": [
      "Processing positions: 67672949lines [7:27:50, 856.51lines/s] "
     ]
    },
    {
     "name": "stdout",
     "output_type": "stream",
     "text": [
      "\n",
      "✓ Previous chunk 1165 saved. Ledger updated.\n",
      "\n",
      "Submitting chunk 1166 (50000 positions) for asynchronous saving...\n",
      "  Chunk 1166 submitted. Main thread continues.\n",
      "  Total processed (optimistic): 58,400,000 positions\n",
      "  Progress: Line 67,672,902\n"
     ]
    },
    {
     "name": "stderr",
     "output_type": "stream",
     "text": [
      "Processing positions: 67700176lines [7:28:13, 1165.25lines/s]"
     ]
    },
    {
     "name": "stdout",
     "output_type": "stream",
     "text": [
      "Progress checkpoint: Line 67,700,000, Found 27,673,865 valid positions this session.\n"
     ]
    },
    {
     "name": "stderr",
     "output_type": "stream",
     "text": [
      "Processing positions: 67729608lines [7:28:37, 898.37lines/s] "
     ]
    },
    {
     "name": "stdout",
     "output_type": "stream",
     "text": [
      "\n",
      "✓ Previous chunk 1166 saved. Ledger updated.\n",
      "\n",
      "Submitting chunk 1167 (50000 positions) for asynchronous saving...\n",
      "  Chunk 1167 submitted. Main thread continues.\n",
      "  Total processed (optimistic): 58,450,000 positions\n",
      "  Progress: Line 67,729,552\n"
     ]
    },
    {
     "name": "stderr",
     "output_type": "stream",
     "text": [
      "Processing positions: 67786934lines [7:29:23, 909.06lines/s] "
     ]
    },
    {
     "name": "stdout",
     "output_type": "stream",
     "text": [
      "\n",
      "✓ Previous chunk 1167 saved. Ledger updated.\n",
      "\n",
      "Submitting chunk 1168 (50000 positions) for asynchronous saving...\n",
      "  Chunk 1168 submitted. Main thread continues.\n",
      "  Total processed (optimistic): 58,500,000 positions\n",
      "  Progress: Line 67,786,887\n"
     ]
    },
    {
     "name": "stderr",
     "output_type": "stream",
     "text": [
      "Processing positions: 67800161lines [7:29:34, 1320.57lines/s]"
     ]
    },
    {
     "name": "stdout",
     "output_type": "stream",
     "text": [
      "Progress checkpoint: Line 67,800,000, Found 27,761,125 valid positions this session.\n"
     ]
    },
    {
     "name": "stderr",
     "output_type": "stream",
     "text": [
      "Processing positions: 67843562lines [7:30:10, 876.84lines/s] "
     ]
    },
    {
     "name": "stdout",
     "output_type": "stream",
     "text": [
      "\n",
      "✓ Previous chunk 1168 saved. Ledger updated.\n",
      "\n",
      "Submitting chunk 1169 (50000 positions) for asynchronous saving...\n",
      "  Chunk 1169 submitted. Main thread continues.\n",
      "  Total processed (optimistic): 58,550,000 positions\n",
      "  Progress: Line 67,843,541\n"
     ]
    },
    {
     "name": "stderr",
     "output_type": "stream",
     "text": [
      "Processing positions: 67900024lines [7:30:57, 826.06lines/s] "
     ]
    },
    {
     "name": "stdout",
     "output_type": "stream",
     "text": [
      "\n",
      "✓ Previous chunk 1169 saved. Ledger updated.\n",
      "\n",
      "Submitting chunk 1170 (50000 positions) for asynchronous saving...\n",
      "  Chunk 1170 submitted. Main thread continues.\n",
      "  Total processed (optimistic): 58,600,000 positions\n",
      "  Progress: Line 67,899,935\n",
      "Progress checkpoint: Line 67,900,000, Found 27,850,058 valid positions this session.\n"
     ]
    },
    {
     "name": "stderr",
     "output_type": "stream",
     "text": [
      "Processing positions: 67956367lines [7:31:43, 876.78lines/s] "
     ]
    },
    {
     "name": "stdout",
     "output_type": "stream",
     "text": [
      "\n",
      "✓ Previous chunk 1170 saved. Ledger updated.\n",
      "\n",
      "Submitting chunk 1171 (50000 positions) for asynchronous saving...\n",
      "  Chunk 1171 submitted. Main thread continues.\n",
      "  Total processed (optimistic): 58,650,000 positions\n",
      "  Progress: Line 67,956,327\n"
     ]
    },
    {
     "name": "stderr",
     "output_type": "stream",
     "text": [
      "Processing positions: 68000322lines [7:32:20, 1397.44lines/s]"
     ]
    },
    {
     "name": "stdout",
     "output_type": "stream",
     "text": [
      "Progress checkpoint: Line 68,000,000, Found 27,938,533 valid positions this session.\n"
     ]
    },
    {
     "name": "stderr",
     "output_type": "stream",
     "text": [
      "Processing positions: 68013253lines [7:32:30, 948.37lines/s] "
     ]
    },
    {
     "name": "stdout",
     "output_type": "stream",
     "text": [
      "\n",
      "✓ Previous chunk 1171 saved. Ledger updated.\n",
      "\n",
      "Submitting chunk 1172 (50000 positions) for asynchronous saving...\n",
      "  Chunk 1172 submitted. Main thread continues.\n",
      "  Total processed (optimistic): 58,700,000 positions\n",
      "  Progress: Line 68,013,249\n"
     ]
    },
    {
     "name": "stderr",
     "output_type": "stream",
     "text": [
      "Processing positions: 68071660lines [7:33:17, 950.53lines/s] "
     ]
    },
    {
     "name": "stdout",
     "output_type": "stream",
     "text": [
      "\n",
      "✓ Previous chunk 1172 saved. Ledger updated.\n",
      "\n",
      "Submitting chunk 1173 (50000 positions) for asynchronous saving...\n",
      "  Chunk 1173 submitted. Main thread continues.\n",
      "  Total processed (optimistic): 58,750,000 positions\n",
      "  Progress: Line 68,071,648\n"
     ]
    },
    {
     "name": "stderr",
     "output_type": "stream",
     "text": [
      "Processing positions: 68100198lines [7:33:40, 1201.29lines/s]"
     ]
    },
    {
     "name": "stdout",
     "output_type": "stream",
     "text": [
      "Progress checkpoint: Line 68,100,000, Found 28,024,117 valid positions this session.\n"
     ]
    },
    {
     "name": "stderr",
     "output_type": "stream",
     "text": [
      "Processing positions: 68130151lines [7:34:03, 896.85lines/s] "
     ]
    },
    {
     "name": "stdout",
     "output_type": "stream",
     "text": [
      "\n",
      "✓ Previous chunk 1173 saved. Ledger updated.\n",
      "\n",
      "Submitting chunk 1174 (50000 positions) for asynchronous saving...\n",
      "  Chunk 1174 submitted. Main thread continues.\n",
      "  Total processed (optimistic): 58,800,000 positions\n",
      "  Progress: Line 68,130,030\n"
     ]
    },
    {
     "name": "stderr",
     "output_type": "stream",
     "text": [
      "Processing positions: 68187452lines [7:34:50, 932.15lines/s] "
     ]
    },
    {
     "name": "stdout",
     "output_type": "stream",
     "text": [
      "\n",
      "✓ Previous chunk 1174 saved. Ledger updated.\n",
      "\n",
      "Submitting chunk 1175 (50000 positions) for asynchronous saving...\n",
      "  Chunk 1175 submitted. Main thread continues.\n",
      "  Total processed (optimistic): 58,850,000 positions\n",
      "  Progress: Line 68,187,359\n"
     ]
    },
    {
     "name": "stderr",
     "output_type": "stream",
     "text": [
      "Processing positions: 68200237lines [7:35:01, 1215.99lines/s]"
     ]
    },
    {
     "name": "stdout",
     "output_type": "stream",
     "text": [
      "Progress checkpoint: Line 68,200,000, Found 28,110,795 valid positions this session.\n"
     ]
    },
    {
     "name": "stderr",
     "output_type": "stream",
     "text": [
      "Processing positions: 68245266lines [7:35:37, 938.85lines/s] "
     ]
    },
    {
     "name": "stdout",
     "output_type": "stream",
     "text": [
      "\n",
      "✓ Previous chunk 1175 saved. Ledger updated.\n",
      "\n",
      "Submitting chunk 1176 (50000 positions) for asynchronous saving...\n",
      "  Chunk 1176 submitted. Main thread continues.\n",
      "  Total processed (optimistic): 58,900,000 positions\n",
      "  Progress: Line 68,245,250\n"
     ]
    },
    {
     "name": "stderr",
     "output_type": "stream",
     "text": [
      "Processing positions: 68300131lines [7:36:20, 1186.10lines/s]"
     ]
    },
    {
     "name": "stdout",
     "output_type": "stream",
     "text": [
      "Progress checkpoint: Line 68,300,000, Found 28,197,116 valid positions this session.\n"
     ]
    },
    {
     "name": "stderr",
     "output_type": "stream",
     "text": [
      "Processing positions: 68303276lines [7:36:23, 868.34lines/s] "
     ]
    },
    {
     "name": "stdout",
     "output_type": "stream",
     "text": [
      "\n",
      "✓ Previous chunk 1176 saved. Ledger updated.\n",
      "\n",
      "Submitting chunk 1177 (50000 positions) for asynchronous saving...\n",
      "  Chunk 1177 submitted. Main thread continues.\n",
      "  Total processed (optimistic): 58,950,000 positions\n",
      "  Progress: Line 68,303,229\n"
     ]
    },
    {
     "name": "stderr",
     "output_type": "stream",
     "text": [
      "Processing positions: 68361410lines [7:37:10, 930.78lines/s] "
     ]
    },
    {
     "name": "stdout",
     "output_type": "stream",
     "text": [
      "\n",
      "✓ Previous chunk 1177 saved. Ledger updated.\n",
      "\n",
      "Submitting chunk 1178 (50000 positions) for asynchronous saving...\n",
      "  Chunk 1178 submitted. Main thread continues.\n",
      "  Total processed (optimistic): 59,000,000 positions\n",
      "  Progress: Line 68,361,391\n"
     ]
    },
    {
     "name": "stderr",
     "output_type": "stream",
     "text": [
      "Processing positions: 68400211lines [7:37:42, 1177.68lines/s]"
     ]
    },
    {
     "name": "stdout",
     "output_type": "stream",
     "text": [
      "Progress checkpoint: Line 68,400,000, Found 28,283,834 valid positions this session.\n"
     ]
    },
    {
     "name": "stderr",
     "output_type": "stream",
     "text": [
      "Processing positions: 68418283lines [7:37:57, 909.84lines/s] "
     ]
    },
    {
     "name": "stdout",
     "output_type": "stream",
     "text": [
      "\n",
      "✓ Previous chunk 1178 saved. Ledger updated.\n",
      "\n",
      "Submitting chunk 1179 (50000 positions) for asynchronous saving...\n",
      "  Chunk 1179 submitted. Main thread continues.\n",
      "  Total processed (optimistic): 59,050,000 positions\n",
      "  Progress: Line 68,418,218\n"
     ]
    },
    {
     "name": "stderr",
     "output_type": "stream",
     "text": [
      "Processing positions: 68474841lines [7:38:44, 989.67lines/s] "
     ]
    },
    {
     "name": "stdout",
     "output_type": "stream",
     "text": [
      "\n",
      "✓ Previous chunk 1179 saved. Ledger updated.\n",
      "\n",
      "Submitting chunk 1180 (50000 positions) for asynchronous saving...\n",
      "  Chunk 1180 submitted. Main thread continues.\n",
      "  Total processed (optimistic): 59,100,000 positions\n",
      "  Progress: Line 68,474,831\n"
     ]
    },
    {
     "name": "stderr",
     "output_type": "stream",
     "text": [
      "Processing positions: 68500167lines [7:39:05, 1197.90lines/s]"
     ]
    },
    {
     "name": "stdout",
     "output_type": "stream",
     "text": [
      "Progress checkpoint: Line 68,500,000, Found 28,372,105 valid positions this session.\n"
     ]
    },
    {
     "name": "stderr",
     "output_type": "stream",
     "text": [
      "Processing positions: 68532469lines [7:39:31, 920.74lines/s] "
     ]
    },
    {
     "name": "stdout",
     "output_type": "stream",
     "text": [
      "\n",
      "✓ Previous chunk 1180 saved. Ledger updated.\n",
      "\n",
      "Submitting chunk 1181 (50000 positions) for asynchronous saving...\n",
      "  Chunk 1181 submitted. Main thread continues.\n",
      "  Total processed (optimistic): 59,150,000 positions\n",
      "  Progress: Line 68,532,357\n"
     ]
    },
    {
     "name": "stderr",
     "output_type": "stream",
     "text": [
      "Processing positions: 68589893lines [7:40:18, 1263.92lines/s]"
     ]
    },
    {
     "name": "stdout",
     "output_type": "stream",
     "text": [
      "\n",
      "✓ Previous chunk 1181 saved. Ledger updated.\n",
      "\n",
      "Submitting chunk 1182 (50000 positions) for asynchronous saving...\n",
      "  Chunk 1182 submitted. Main thread continues.\n",
      "  Total processed (optimistic): 59,200,000 positions\n",
      "  Progress: Line 68,589,906\n"
     ]
    },
    {
     "name": "stderr",
     "output_type": "stream",
     "text": [
      "Processing positions: 68600238lines [7:40:27, 1157.25lines/s]"
     ]
    },
    {
     "name": "stdout",
     "output_type": "stream",
     "text": [
      "Progress checkpoint: Line 68,600,000, Found 28,458,851 valid positions this session.\n"
     ]
    },
    {
     "name": "stderr",
     "output_type": "stream",
     "text": [
      "Processing positions: 68647050lines [7:41:05, 1199.27lines/s]"
     ]
    },
    {
     "name": "stdout",
     "output_type": "stream",
     "text": [
      "\n",
      "✓ Previous chunk 1182 saved. Ledger updated.\n",
      "\n",
      "Submitting chunk 1183 (50000 positions) for asynchronous saving...\n",
      "  Chunk 1183 submitted. Main thread continues.\n",
      "  Total processed (optimistic): 59,250,000 positions\n",
      "  Progress: Line 68,647,056\n"
     ]
    },
    {
     "name": "stderr",
     "output_type": "stream",
     "text": [
      "Processing positions: 68700162lines [7:41:48, 1299.16lines/s]"
     ]
    },
    {
     "name": "stdout",
     "output_type": "stream",
     "text": [
      "Progress checkpoint: Line 68,700,000, Found 28,545,626 valid positions this session.\n"
     ]
    },
    {
     "name": "stderr",
     "output_type": "stream",
     "text": [
      "Processing positions: 68705141lines [7:41:52, 873.59lines/s] "
     ]
    },
    {
     "name": "stdout",
     "output_type": "stream",
     "text": [
      "\n",
      "✓ Previous chunk 1183 saved. Ledger updated.\n",
      "\n",
      "Submitting chunk 1184 (50000 positions) for asynchronous saving...\n",
      "  Chunk 1184 submitted. Main thread continues.\n",
      "  Total processed (optimistic): 59,300,000 positions\n",
      "  Progress: Line 68,705,067\n"
     ]
    },
    {
     "name": "stderr",
     "output_type": "stream",
     "text": [
      "Processing positions: 68762968lines [7:42:38, 957.74lines/s] "
     ]
    },
    {
     "name": "stdout",
     "output_type": "stream",
     "text": [
      "\n",
      "✓ Previous chunk 1184 saved. Ledger updated.\n",
      "\n",
      "Submitting chunk 1185 (50000 positions) for asynchronous saving...\n",
      "  Chunk 1185 submitted. Main thread continues.\n",
      "  Total processed (optimistic): 59,350,000 positions\n",
      "  Progress: Line 68,762,911\n"
     ]
    },
    {
     "name": "stderr",
     "output_type": "stream",
     "text": [
      "Processing positions: 68800209lines [7:43:09, 1195.27lines/s]"
     ]
    },
    {
     "name": "stdout",
     "output_type": "stream",
     "text": [
      "Progress checkpoint: Line 68,800,000, Found 28,632,270 valid positions this session.\n"
     ]
    },
    {
     "name": "stderr",
     "output_type": "stream",
     "text": [
      "Processing positions: 68820141lines [7:43:25, 1177.46lines/s]"
     ]
    },
    {
     "name": "stdout",
     "output_type": "stream",
     "text": [
      "\n",
      "✓ Previous chunk 1185 saved. Ledger updated.\n",
      "\n",
      "Submitting chunk 1186 (50000 positions) for asynchronous saving...\n",
      "  Chunk 1186 submitted. Main thread continues.\n",
      "  Total processed (optimistic): 59,400,000 positions\n",
      "  Progress: Line 68,820,154\n"
     ]
    },
    {
     "name": "stderr",
     "output_type": "stream",
     "text": [
      "Processing positions: 68877772lines [7:44:13, 838.50lines/s] "
     ]
    },
    {
     "name": "stdout",
     "output_type": "stream",
     "text": [
      "\n",
      "✓ Previous chunk 1186 saved. Ledger updated.\n",
      "\n",
      "Submitting chunk 1187 (50000 positions) for asynchronous saving...\n",
      "  Chunk 1187 submitted. Main thread continues.\n",
      "  Total processed (optimistic): 59,450,000 positions\n",
      "  Progress: Line 68,877,695\n"
     ]
    },
    {
     "name": "stderr",
     "output_type": "stream",
     "text": [
      "Processing positions: 68900153lines [7:44:31, 1224.21lines/s]"
     ]
    },
    {
     "name": "stdout",
     "output_type": "stream",
     "text": [
      "Progress checkpoint: Line 68,900,000, Found 28,719,319 valid positions this session.\n"
     ]
    },
    {
     "name": "stderr",
     "output_type": "stream",
     "text": [
      "Processing positions: 68935236lines [7:44:59, 1012.51lines/s]"
     ]
    },
    {
     "name": "stdout",
     "output_type": "stream",
     "text": [
      "\n",
      "✓ Previous chunk 1187 saved. Ledger updated.\n",
      "\n",
      "Submitting chunk 1188 (50000 positions) for asynchronous saving...\n",
      "  Chunk 1188 submitted. Main thread continues.\n",
      "  Total processed (optimistic): 59,500,000 positions\n",
      "  Progress: Line 68,935,231\n"
     ]
    },
    {
     "name": "stderr",
     "output_type": "stream",
     "text": [
      "Processing positions: 68992844lines [7:45:45, 879.14lines/s] "
     ]
    },
    {
     "name": "stdout",
     "output_type": "stream",
     "text": [
      "\n",
      "✓ Previous chunk 1188 saved. Ledger updated.\n",
      "\n",
      "Submitting chunk 1189 (50000 positions) for asynchronous saving...\n",
      "  Chunk 1189 submitted. Main thread continues.\n",
      "  Total processed (optimistic): 59,550,000 positions\n",
      "  Progress: Line 68,992,753\n"
     ]
    },
    {
     "name": "stderr",
     "output_type": "stream",
     "text": [
      "Processing positions: 69000169lines [7:45:51, 1243.36lines/s]"
     ]
    },
    {
     "name": "stdout",
     "output_type": "stream",
     "text": [
      "Progress checkpoint: Line 69,000,000, Found 28,806,373 valid positions this session.\n"
     ]
    },
    {
     "name": "stderr",
     "output_type": "stream",
     "text": [
      "Processing positions: 69050315lines [7:46:32, 959.05lines/s] "
     ]
    },
    {
     "name": "stdout",
     "output_type": "stream",
     "text": [
      "\n",
      "✓ Previous chunk 1189 saved. Ledger updated.\n",
      "\n",
      "Submitting chunk 1190 (50000 positions) for asynchronous saving...\n",
      "  Chunk 1190 submitted. Main thread continues.\n",
      "  Total processed (optimistic): 59,600,000 positions\n",
      "  Progress: Line 69,050,304\n"
     ]
    },
    {
     "name": "stderr",
     "output_type": "stream",
     "text": [
      "Processing positions: 69100266lines [7:47:12, 1398.70lines/s]"
     ]
    },
    {
     "name": "stdout",
     "output_type": "stream",
     "text": [
      "Progress checkpoint: Line 69,100,000, Found 28,893,202 valid positions this session.\n"
     ]
    },
    {
     "name": "stderr",
     "output_type": "stream",
     "text": [
      "Processing positions: 69108164lines [7:47:19, 876.79lines/s] "
     ]
    },
    {
     "name": "stdout",
     "output_type": "stream",
     "text": [
      "\n",
      "✓ Previous chunk 1190 saved. Ledger updated.\n",
      "\n",
      "Submitting chunk 1191 (50000 positions) for asynchronous saving...\n",
      "  Chunk 1191 submitted. Main thread continues.\n",
      "  Total processed (optimistic): 59,650,000 positions\n",
      "  Progress: Line 69,108,122\n"
     ]
    },
    {
     "name": "stderr",
     "output_type": "stream",
     "text": [
      "Processing positions: 69167818lines [7:48:06, 840.94lines/s] "
     ]
    },
    {
     "name": "stdout",
     "output_type": "stream",
     "text": [
      "\n",
      "✓ Previous chunk 1191 saved. Ledger updated.\n",
      "\n",
      "Submitting chunk 1192 (50000 positions) for asynchronous saving...\n",
      "  Chunk 1192 submitted. Main thread continues.\n",
      "  Total processed (optimistic): 59,700,000 positions\n",
      "  Progress: Line 69,167,733\n"
     ]
    },
    {
     "name": "stderr",
     "output_type": "stream",
     "text": [
      "Processing positions: 69200237lines [7:48:32, 1249.02lines/s]"
     ]
    },
    {
     "name": "stdout",
     "output_type": "stream",
     "text": [
      "Progress checkpoint: Line 69,200,000, Found 28,978,431 valid positions this session.\n"
     ]
    },
    {
     "name": "stderr",
     "output_type": "stream",
     "text": [
      "Processing positions: 69225068lines [7:48:52, 1305.42lines/s]"
     ]
    },
    {
     "name": "stdout",
     "output_type": "stream",
     "text": [
      "\n",
      "✓ Previous chunk 1192 saved. Ledger updated.\n",
      "\n",
      "Submitting chunk 1193 (50000 positions) for asynchronous saving...\n",
      "  Chunk 1193 submitted. Main thread continues.\n",
      "  Total processed (optimistic): 59,750,000 positions\n",
      "  Progress: Line 69,225,089\n"
     ]
    },
    {
     "name": "stderr",
     "output_type": "stream",
     "text": [
      "Processing positions: 69283601lines [7:49:39, 892.66lines/s] "
     ]
    },
    {
     "name": "stdout",
     "output_type": "stream",
     "text": [
      "\n",
      "✓ Previous chunk 1193 saved. Ledger updated.\n",
      "\n",
      "Submitting chunk 1194 (50000 positions) for asynchronous saving...\n",
      "  Chunk 1194 submitted. Main thread continues.\n",
      "  Total processed (optimistic): 59,800,000 positions\n",
      "  Progress: Line 69,283,536\n"
     ]
    },
    {
     "name": "stderr",
     "output_type": "stream",
     "text": [
      "Processing positions: 69300173lines [7:49:53, 1216.86lines/s]"
     ]
    },
    {
     "name": "stdout",
     "output_type": "stream",
     "text": [
      "Progress checkpoint: Line 69,300,000, Found 29,064,139 valid positions this session.\n"
     ]
    },
    {
     "name": "stderr",
     "output_type": "stream",
     "text": [
      "Processing positions: 69341555lines [7:50:26, 900.24lines/s] "
     ]
    },
    {
     "name": "stdout",
     "output_type": "stream",
     "text": [
      "\n",
      "✓ Previous chunk 1194 saved. Ledger updated.\n",
      "\n",
      "Submitting chunk 1195 (50000 positions) for asynchronous saving...\n",
      "  Chunk 1195 submitted. Main thread continues.\n",
      "  Total processed (optimistic): 59,850,000 positions\n",
      "  Progress: Line 69,341,448\n"
     ]
    },
    {
     "name": "stderr",
     "output_type": "stream",
     "text": [
      "Processing positions: 69399176lines [7:51:12, 888.65lines/s] "
     ]
    },
    {
     "name": "stdout",
     "output_type": "stream",
     "text": [
      "\n",
      "✓ Previous chunk 1195 saved. Ledger updated.\n",
      "\n",
      "Submitting chunk 1196 (50000 positions) for asynchronous saving...\n",
      "  Chunk 1196 submitted. Main thread continues.\n",
      "  Total processed (optimistic): 59,900,000 positions\n",
      "  Progress: Line 69,399,090\n"
     ]
    },
    {
     "name": "stderr",
     "output_type": "stream",
     "text": [
      "Processing positions: 69400142lines [7:51:14, 757.49lines/s]"
     ]
    },
    {
     "name": "stdout",
     "output_type": "stream",
     "text": [
      "Progress checkpoint: Line 69,400,000, Found 29,150,811 valid positions this session.\n"
     ]
    },
    {
     "name": "stderr",
     "output_type": "stream",
     "text": [
      "Processing positions: 69455008lines [7:51:59, 879.00lines/s] "
     ]
    },
    {
     "name": "stdout",
     "output_type": "stream",
     "text": [
      "\n",
      "✓ Previous chunk 1196 saved. Ledger updated.\n",
      "\n",
      "Submitting chunk 1197 (50000 positions) for asynchronous saving...\n",
      "  Chunk 1197 submitted. Main thread continues.\n",
      "  Total processed (optimistic): 59,950,000 positions\n",
      "  Progress: Line 69,454,934\n"
     ]
    },
    {
     "name": "stderr",
     "output_type": "stream",
     "text": [
      "Processing positions: 69500208lines [7:52:35, 1178.02lines/s]"
     ]
    },
    {
     "name": "stdout",
     "output_type": "stream",
     "text": [
      "Progress checkpoint: Line 69,500,000, Found 29,239,236 valid positions this session.\n"
     ]
    },
    {
     "name": "stderr",
     "output_type": "stream",
     "text": [
      "Processing positions: 69512106lines [7:52:45, 1244.13lines/s]"
     ]
    },
    {
     "name": "stdout",
     "output_type": "stream",
     "text": [
      "\n",
      "✓ Previous chunk 1197 saved. Ledger updated.\n",
      "\n",
      "Submitting chunk 1198 (50000 positions) for asynchronous saving...\n",
      "  Chunk 1198 submitted. Main thread continues.\n",
      "  Total processed (optimistic): 60,000,000 positions\n",
      "  Progress: Line 69,512,130\n"
     ]
    },
    {
     "name": "stderr",
     "output_type": "stream",
     "text": [
      "Processing positions: 69569046lines [7:53:32, 945.47lines/s] "
     ]
    },
    {
     "name": "stdout",
     "output_type": "stream",
     "text": [
      "\n",
      "✓ Previous chunk 1198 saved. Ledger updated.\n",
      "\n",
      "Submitting chunk 1199 (50000 positions) for asynchronous saving...\n",
      "  Chunk 1199 submitted. Main thread continues.\n",
      "  Total processed (optimistic): 60,050,000 positions\n",
      "  Progress: Line 69,569,021\n"
     ]
    },
    {
     "name": "stderr",
     "output_type": "stream",
     "text": [
      "Processing positions: 69600183lines [7:53:57, 1151.19lines/s]"
     ]
    },
    {
     "name": "stdout",
     "output_type": "stream",
     "text": [
      "Progress checkpoint: Line 69,600,000, Found 29,326,664 valid positions this session.\n"
     ]
    },
    {
     "name": "stderr",
     "output_type": "stream",
     "text": [
      "Processing positions: 69627460lines [7:54:19, 858.10lines/s] "
     ]
    },
    {
     "name": "stdout",
     "output_type": "stream",
     "text": [
      "\n",
      "✓ Previous chunk 1199 saved. Ledger updated.\n",
      "\n",
      "Submitting chunk 1200 (50000 positions) for asynchronous saving...\n",
      "  Chunk 1200 submitted. Main thread continues.\n",
      "  Total processed (optimistic): 60,100,000 positions\n",
      "  Progress: Line 69,627,346\n"
     ]
    },
    {
     "name": "stderr",
     "output_type": "stream",
     "text": [
      "Processing positions: 69686246lines [7:55:05, 930.26lines/s] "
     ]
    },
    {
     "name": "stdout",
     "output_type": "stream",
     "text": [
      "\n",
      "✓ Previous chunk 1200 saved. Ledger updated.\n",
      "\n",
      "Submitting chunk 1201 (50000 positions) for asynchronous saving...\n",
      "  Chunk 1201 submitted. Main thread continues.\n",
      "  Total processed (optimistic): 60,150,000 positions\n",
      "  Progress: Line 69,686,240\n"
     ]
    },
    {
     "name": "stderr",
     "output_type": "stream",
     "text": [
      "Processing positions: 69700159lines [7:55:17, 1173.71lines/s]"
     ]
    },
    {
     "name": "stdout",
     "output_type": "stream",
     "text": [
      "Progress checkpoint: Line 69,700,000, Found 29,412,044 valid positions this session.\n"
     ]
    },
    {
     "name": "stderr",
     "output_type": "stream",
     "text": [
      "Processing positions: 69743601lines [7:55:52, 839.25lines/s] "
     ]
    },
    {
     "name": "stdout",
     "output_type": "stream",
     "text": [
      "\n",
      "✓ Previous chunk 1201 saved. Ledger updated.\n",
      "\n",
      "Submitting chunk 1202 (50000 positions) for asynchronous saving...\n",
      "  Chunk 1202 submitted. Main thread continues.\n",
      "  Total processed (optimistic): 60,200,000 positions\n",
      "  Progress: Line 69,743,512\n"
     ]
    },
    {
     "name": "stderr",
     "output_type": "stream",
     "text": [
      "Processing positions: 69800121lines [7:56:36, 1237.49lines/s]"
     ]
    },
    {
     "name": "stdout",
     "output_type": "stream",
     "text": [
      "Progress checkpoint: Line 69,800,000, Found 29,498,450 valid positions this session.\n"
     ]
    },
    {
     "name": "stderr",
     "output_type": "stream",
     "text": [
      "Processing positions: 69801822lines [7:56:38, 939.38lines/s] "
     ]
    },
    {
     "name": "stdout",
     "output_type": "stream",
     "text": [
      "\n",
      "✓ Previous chunk 1202 saved. Ledger updated.\n",
      "\n",
      "Submitting chunk 1203 (50000 positions) for asynchronous saving...\n",
      "  Chunk 1203 submitted. Main thread continues.\n",
      "  Total processed (optimistic): 60,250,000 positions\n",
      "  Progress: Line 69,801,806\n"
     ]
    },
    {
     "name": "stderr",
     "output_type": "stream",
     "text": [
      "Processing positions: 69859217lines [7:57:25, 1282.51lines/s]"
     ]
    },
    {
     "name": "stdout",
     "output_type": "stream",
     "text": [
      "\n",
      "✓ Previous chunk 1203 saved. Ledger updated.\n",
      "\n",
      "Submitting chunk 1204 (50000 positions) for asynchronous saving...\n",
      "  Chunk 1204 submitted. Main thread continues.\n",
      "  Total processed (optimistic): 60,300,000 positions\n",
      "  Progress: Line 69,859,230\n"
     ]
    },
    {
     "name": "stderr",
     "output_type": "stream",
     "text": [
      "Processing positions: 69900164lines [7:57:59, 1171.75lines/s]"
     ]
    },
    {
     "name": "stdout",
     "output_type": "stream",
     "text": [
      "Progress checkpoint: Line 69,900,000, Found 29,585,776 valid positions this session.\n"
     ]
    },
    {
     "name": "stderr",
     "output_type": "stream",
     "text": [
      "Processing positions: 69916144lines [7:58:12, 904.04lines/s] "
     ]
    },
    {
     "name": "stdout",
     "output_type": "stream",
     "text": [
      "\n",
      "✓ Previous chunk 1204 saved. Ledger updated.\n",
      "\n",
      "Submitting chunk 1205 (50000 positions) for asynchronous saving...\n",
      "  Chunk 1205 submitted. Main thread continues.\n",
      "  Total processed (optimistic): 60,350,000 positions\n",
      "  Progress: Line 69,916,087\n"
     ]
    },
    {
     "name": "stderr",
     "output_type": "stream",
     "text": [
      "Processing positions: 69973349lines [7:58:58, 906.52lines/s] "
     ]
    },
    {
     "name": "stdout",
     "output_type": "stream",
     "text": [
      "\n",
      "✓ Previous chunk 1205 saved. Ledger updated.\n",
      "\n",
      "Submitting chunk 1206 (50000 positions) for asynchronous saving...\n",
      "  Chunk 1206 submitted. Main thread continues.\n",
      "  Total processed (optimistic): 60,400,000 positions\n",
      "  Progress: Line 69,973,264\n"
     ]
    },
    {
     "name": "stderr",
     "output_type": "stream",
     "text": [
      "Processing positions: 70000196lines [7:59:20, 1193.05lines/s]"
     ]
    },
    {
     "name": "stdout",
     "output_type": "stream",
     "text": [
      "Progress checkpoint: Line 70,000,000, Found 29,673,290 valid positions this session.\n"
     ]
    },
    {
     "name": "stderr",
     "output_type": "stream",
     "text": [
      "Processing positions: 70029948lines [7:59:44, 825.62lines/s] "
     ]
    },
    {
     "name": "stdout",
     "output_type": "stream",
     "text": [
      "\n",
      "✓ Previous chunk 1206 saved. Ledger updated.\n",
      "\n",
      "Submitting chunk 1207 (50000 positions) for asynchronous saving...\n",
      "  Chunk 1207 submitted. Main thread continues.\n",
      "  Total processed (optimistic): 60,450,000 positions\n",
      "  Progress: Line 70,029,864\n"
     ]
    },
    {
     "name": "stderr",
     "output_type": "stream",
     "text": [
      "Processing positions: 70086106lines [8:00:31, 824.20lines/s] "
     ]
    },
    {
     "name": "stdout",
     "output_type": "stream",
     "text": [
      "\n",
      "✓ Previous chunk 1207 saved. Ledger updated.\n",
      "\n",
      "Submitting chunk 1208 (50000 positions) for asynchronous saving...\n",
      "  Chunk 1208 submitted. Main thread continues.\n",
      "  Total processed (optimistic): 60,500,000 positions\n",
      "  Progress: Line 70,086,000\n"
     ]
    },
    {
     "name": "stderr",
     "output_type": "stream",
     "text": [
      "Processing positions: 70100172lines [8:00:43, 1205.05lines/s]"
     ]
    },
    {
     "name": "stdout",
     "output_type": "stream",
     "text": [
      "Progress checkpoint: Line 70,100,000, Found 29,762,112 valid positions this session.\n"
     ]
    },
    {
     "name": "stderr",
     "output_type": "stream",
     "text": [
      "Processing positions: 70143940lines [8:01:18, 913.89lines/s] "
     ]
    },
    {
     "name": "stdout",
     "output_type": "stream",
     "text": [
      "\n",
      "✓ Previous chunk 1208 saved. Ledger updated.\n",
      "\n",
      "Submitting chunk 1209 (50000 positions) for asynchronous saving...\n",
      "  Chunk 1209 submitted. Main thread continues.\n",
      "  Total processed (optimistic): 60,550,000 positions\n",
      "  Progress: Line 70,143,919\n"
     ]
    },
    {
     "name": "stderr",
     "output_type": "stream",
     "text": [
      "Processing positions: 70200174lines [8:02:02, 1226.25lines/s]"
     ]
    },
    {
     "name": "stdout",
     "output_type": "stream",
     "text": [
      "Progress checkpoint: Line 70,200,000, Found 29,847,673 valid positions this session.\n"
     ]
    },
    {
     "name": "stderr",
     "output_type": "stream",
     "text": [
      "Processing positions: 70202889lines [8:02:04, 1421.23lines/s]"
     ]
    },
    {
     "name": "stdout",
     "output_type": "stream",
     "text": [
      "\n",
      "✓ Previous chunk 1209 saved. Ledger updated.\n",
      "\n",
      "Submitting chunk 1210 (50000 positions) for asynchronous saving...\n",
      "  Chunk 1210 submitted. Main thread continues.\n",
      "  Total processed (optimistic): 60,600,000 positions\n",
      "  Progress: Line 70,202,904\n"
     ]
    },
    {
     "name": "stderr",
     "output_type": "stream",
     "text": [
      "Processing positions: 70260513lines [8:02:51, 855.03lines/s] "
     ]
    },
    {
     "name": "stdout",
     "output_type": "stream",
     "text": [
      "\n",
      "✓ Previous chunk 1210 saved. Ledger updated.\n",
      "\n",
      "Submitting chunk 1211 (50000 positions) for asynchronous saving...\n",
      "  Chunk 1211 submitted. Main thread continues.\n",
      "  Total processed (optimistic): 60,650,000 positions\n",
      "  Progress: Line 70,260,418\n"
     ]
    },
    {
     "name": "stderr",
     "output_type": "stream",
     "text": [
      "Processing positions: 70300161lines [8:03:23, 1171.65lines/s]"
     ]
    },
    {
     "name": "stdout",
     "output_type": "stream",
     "text": [
      "Progress checkpoint: Line 70,300,000, Found 29,934,538 valid positions this session.\n"
     ]
    },
    {
     "name": "stderr",
     "output_type": "stream",
     "text": [
      "Processing positions: 70317986lines [8:03:37, 958.70lines/s] "
     ]
    },
    {
     "name": "stdout",
     "output_type": "stream",
     "text": [
      "\n",
      "✓ Previous chunk 1211 saved. Ledger updated.\n",
      "\n",
      "Submitting chunk 1212 (50000 positions) for asynchronous saving...\n",
      "  Chunk 1212 submitted. Main thread continues.\n",
      "  Total processed (optimistic): 60,700,000 positions\n",
      "  Progress: Line 70,317,963\n"
     ]
    },
    {
     "name": "stderr",
     "output_type": "stream",
     "text": [
      "Processing positions: 70375797lines [8:04:25, 874.04lines/s] "
     ]
    },
    {
     "name": "stdout",
     "output_type": "stream",
     "text": [
      "\n",
      "✓ Previous chunk 1212 saved. Ledger updated.\n",
      "\n",
      "Submitting chunk 1213 (50000 positions) for asynchronous saving...\n",
      "  Chunk 1213 submitted. Main thread continues.\n",
      "  Total processed (optimistic): 60,750,000 positions\n",
      "  Progress: Line 70,375,684\n"
     ]
    },
    {
     "name": "stderr",
     "output_type": "stream",
     "text": [
      "Processing positions: 70400093lines [8:04:45, 1100.29lines/s]"
     ]
    },
    {
     "name": "stdout",
     "output_type": "stream",
     "text": [
      "Progress checkpoint: Line 70,400,000, Found 30,020,915 valid positions this session.\n"
     ]
    },
    {
     "name": "stderr",
     "output_type": "stream",
     "text": [
      "Processing positions: 70432777lines [8:05:12, 875.90lines/s] "
     ]
    },
    {
     "name": "stdout",
     "output_type": "stream",
     "text": [
      "\n",
      "✓ Previous chunk 1213 saved. Ledger updated.\n",
      "\n",
      "Submitting chunk 1214 (50000 positions) for asynchronous saving...\n",
      "  Chunk 1214 submitted. Main thread continues.\n",
      "  Total processed (optimistic): 60,800,000 positions\n",
      "  Progress: Line 70,432,688\n"
     ]
    },
    {
     "name": "stderr",
     "output_type": "stream",
     "text": [
      "Processing positions: 70490170lines [8:05:57, 904.71lines/s] "
     ]
    },
    {
     "name": "stdout",
     "output_type": "stream",
     "text": [
      "\n",
      "✓ Previous chunk 1214 saved. Ledger updated.\n",
      "\n",
      "Submitting chunk 1215 (50000 positions) for asynchronous saving...\n",
      "  Chunk 1215 submitted. Main thread continues.\n",
      "  Total processed (optimistic): 60,850,000 positions\n",
      "  Progress: Line 70,490,134\n"
     ]
    },
    {
     "name": "stderr",
     "output_type": "stream",
     "text": [
      "Processing positions: 70500226lines [8:06:05, 1211.29lines/s]"
     ]
    },
    {
     "name": "stdout",
     "output_type": "stream",
     "text": [
      "Progress checkpoint: Line 70,500,000, Found 30,108,559 valid positions this session.\n"
     ]
    },
    {
     "name": "stderr",
     "output_type": "stream",
     "text": [
      "Processing positions: 70547271lines [8:06:43, 1228.21lines/s]"
     ]
    },
    {
     "name": "stdout",
     "output_type": "stream",
     "text": [
      "\n",
      "✓ Previous chunk 1215 saved. Ledger updated.\n",
      "\n",
      "Submitting chunk 1216 (50000 positions) for asynchronous saving...\n",
      "  Chunk 1216 submitted. Main thread continues.\n",
      "  Total processed (optimistic): 60,900,000 positions\n",
      "  Progress: Line 70,547,278\n"
     ]
    },
    {
     "name": "stderr",
     "output_type": "stream",
     "text": [
      "Processing positions: 70600131lines [8:07:26, 1164.50lines/s]"
     ]
    },
    {
     "name": "stdout",
     "output_type": "stream",
     "text": [
      "Progress checkpoint: Line 70,600,000, Found 30,196,493 valid positions this session.\n"
     ]
    },
    {
     "name": "stderr",
     "output_type": "stream",
     "text": [
      "Processing positions: 70604172lines [8:07:29, 1340.09lines/s]"
     ]
    },
    {
     "name": "stdout",
     "output_type": "stream",
     "text": [
      "\n",
      "✓ Previous chunk 1216 saved. Ledger updated.\n",
      "\n",
      "Submitting chunk 1217 (50000 positions) for asynchronous saving...\n",
      "  Chunk 1217 submitted. Main thread continues.\n",
      "  Total processed (optimistic): 60,950,000 positions\n",
      "  Progress: Line 70,604,190\n"
     ]
    },
    {
     "name": "stderr",
     "output_type": "stream",
     "text": [
      "Processing positions: 70661609lines [8:08:16, 935.97lines/s] "
     ]
    },
    {
     "name": "stdout",
     "output_type": "stream",
     "text": [
      "\n",
      "✓ Previous chunk 1217 saved. Ledger updated.\n",
      "\n",
      "Submitting chunk 1218 (50000 positions) for asynchronous saving...\n",
      "  Chunk 1218 submitted. Main thread continues.\n",
      "  Total processed (optimistic): 61,000,000 positions\n",
      "  Progress: Line 70,661,499\n"
     ]
    },
    {
     "name": "stderr",
     "output_type": "stream",
     "text": [
      "Processing positions: 70700155lines [8:08:47, 1185.91lines/s]"
     ]
    },
    {
     "name": "stdout",
     "output_type": "stream",
     "text": [
      "Progress checkpoint: Line 70,700,000, Found 30,282,978 valid positions this session.\n"
     ]
    },
    {
     "name": "stderr",
     "output_type": "stream",
     "text": [
      "Processing positions: 70720401lines [8:09:03, 844.22lines/s] "
     ]
    },
    {
     "name": "stdout",
     "output_type": "stream",
     "text": [
      "\n",
      "✓ Previous chunk 1218 saved. Ledger updated.\n",
      "\n",
      "Submitting chunk 1219 (50000 positions) for asynchronous saving...\n",
      "  Chunk 1219 submitted. Main thread continues.\n",
      "  Total processed (optimistic): 61,050,000 positions\n",
      "  Progress: Line 70,720,315\n"
     ]
    },
    {
     "name": "stderr",
     "output_type": "stream",
     "text": [
      "Processing positions: 70778317lines [8:09:50, 931.37lines/s] "
     ]
    },
    {
     "name": "stdout",
     "output_type": "stream",
     "text": [
      "\n",
      "✓ Previous chunk 1219 saved. Ledger updated.\n",
      "\n",
      "Submitting chunk 1220 (50000 positions) for asynchronous saving...\n",
      "  Chunk 1220 submitted. Main thread continues.\n",
      "  Total processed (optimistic): 61,100,000 positions\n",
      "  Progress: Line 70,778,279\n"
     ]
    },
    {
     "name": "stderr",
     "output_type": "stream",
     "text": [
      "Processing positions: 70800168lines [8:10:08, 1085.06lines/s]"
     ]
    },
    {
     "name": "stdout",
     "output_type": "stream",
     "text": [
      "Progress checkpoint: Line 70,800,000, Found 30,368,582 valid positions this session.\n"
     ]
    },
    {
     "name": "stderr",
     "output_type": "stream",
     "text": [
      "Processing positions: 70836402lines [8:10:36, 836.58lines/s] "
     ]
    },
    {
     "name": "stdout",
     "output_type": "stream",
     "text": [
      "\n",
      "✓ Previous chunk 1220 saved. Ledger updated.\n",
      "\n",
      "Submitting chunk 1221 (50000 positions) for asynchronous saving...\n",
      "  Chunk 1221 submitted. Main thread continues.\n",
      "  Total processed (optimistic): 61,150,000 positions\n",
      "  Progress: Line 70,836,324\n"
     ]
    },
    {
     "name": "stderr",
     "output_type": "stream",
     "text": [
      "Processing positions: 70892914lines [8:11:24, 934.02lines/s] "
     ]
    },
    {
     "name": "stdout",
     "output_type": "stream",
     "text": [
      "\n",
      "✓ Previous chunk 1221 saved. Ledger updated.\n",
      "\n",
      "Submitting chunk 1222 (50000 positions) for asynchronous saving...\n",
      "  Chunk 1222 submitted. Main thread continues.\n",
      "  Total processed (optimistic): 61,200,000 positions\n",
      "  Progress: Line 70,892,876\n"
     ]
    },
    {
     "name": "stderr",
     "output_type": "stream",
     "text": [
      "Processing positions: 70900229lines [8:11:30, 1175.05lines/s]"
     ]
    },
    {
     "name": "stdout",
     "output_type": "stream",
     "text": [
      "Progress checkpoint: Line 70,900,000, Found 30,456,322 valid positions this session.\n"
     ]
    },
    {
     "name": "stderr",
     "output_type": "stream",
     "text": [
      "Processing positions: 70949161lines [8:12:10, 843.53lines/s] "
     ]
    },
    {
     "name": "stdout",
     "output_type": "stream",
     "text": [
      "\n",
      "✓ Previous chunk 1222 saved. Ledger updated.\n",
      "\n",
      "Submitting chunk 1223 (50000 positions) for asynchronous saving...\n",
      "  Chunk 1223 submitted. Main thread continues.\n",
      "  Total processed (optimistic): 61,250,000 positions\n",
      "  Progress: Line 70,949,092\n"
     ]
    },
    {
     "name": "stderr",
     "output_type": "stream",
     "text": [
      "Processing positions: 71000230lines [8:12:52, 1149.61lines/s]"
     ]
    },
    {
     "name": "stdout",
     "output_type": "stream",
     "text": [
      "Progress checkpoint: Line 71,000,000, Found 30,545,306 valid positions this session.\n"
     ]
    },
    {
     "name": "stderr",
     "output_type": "stream",
     "text": [
      "Processing positions: 71005354lines [8:12:57, 886.08lines/s] "
     ]
    },
    {
     "name": "stdout",
     "output_type": "stream",
     "text": [
      "\n",
      "✓ Previous chunk 1223 saved. Ledger updated.\n",
      "\n",
      "Submitting chunk 1224 (50000 positions) for asynchronous saving...\n",
      "  Chunk 1224 submitted. Main thread continues.\n",
      "  Total processed (optimistic): 61,300,000 positions\n",
      "  Progress: Line 71,005,251\n"
     ]
    },
    {
     "name": "stderr",
     "output_type": "stream",
     "text": [
      "Processing positions: 71061785lines [8:13:43, 907.42lines/s] "
     ]
    },
    {
     "name": "stdout",
     "output_type": "stream",
     "text": [
      "\n",
      "✓ Previous chunk 1224 saved. Ledger updated.\n",
      "\n",
      "Submitting chunk 1225 (50000 positions) for asynchronous saving...\n",
      "  Chunk 1225 submitted. Main thread continues.\n",
      "  Total processed (optimistic): 61,350,000 positions\n",
      "  Progress: Line 71,061,767\n"
     ]
    },
    {
     "name": "stderr",
     "output_type": "stream",
     "text": [
      "Processing positions: 71100239lines [8:14:15, 1198.34lines/s]"
     ]
    },
    {
     "name": "stdout",
     "output_type": "stream",
     "text": [
      "Progress checkpoint: Line 71,100,000, Found 30,634,195 valid positions this session.\n"
     ]
    },
    {
     "name": "stderr",
     "output_type": "stream",
     "text": [
      "Processing positions: 71117622lines [8:14:30, 861.97lines/s] "
     ]
    },
    {
     "name": "stdout",
     "output_type": "stream",
     "text": [
      "\n",
      "✓ Previous chunk 1225 saved. Ledger updated.\n",
      "\n",
      "Submitting chunk 1226 (50000 positions) for asynchronous saving...\n",
      "  Chunk 1226 submitted. Main thread continues.\n",
      "  Total processed (optimistic): 61,400,000 positions\n",
      "  Progress: Line 71,117,585\n"
     ]
    },
    {
     "name": "stderr",
     "output_type": "stream",
     "text": [
      "Processing positions: 71175264lines [8:15:17, 868.61lines/s] "
     ]
    },
    {
     "name": "stdout",
     "output_type": "stream",
     "text": [
      "\n",
      "✓ Previous chunk 1226 saved. Ledger updated.\n",
      "\n",
      "Submitting chunk 1227 (50000 positions) for asynchronous saving...\n",
      "  Chunk 1227 submitted. Main thread continues.\n",
      "  Total processed (optimistic): 61,450,000 positions\n",
      "  Progress: Line 71,175,154\n"
     ]
    },
    {
     "name": "stderr",
     "output_type": "stream",
     "text": [
      "Processing positions: 71200211lines [8:15:37, 1309.40lines/s]"
     ]
    },
    {
     "name": "stdout",
     "output_type": "stream",
     "text": [
      "Progress checkpoint: Line 71,200,000, Found 30,721,207 valid positions this session.\n"
     ]
    },
    {
     "name": "stderr",
     "output_type": "stream",
     "text": [
      "Processing positions: 71234364lines [8:16:04, 976.54lines/s] "
     ]
    },
    {
     "name": "stdout",
     "output_type": "stream",
     "text": [
      "\n",
      "✓ Previous chunk 1227 saved. Ledger updated.\n",
      "\n",
      "Submitting chunk 1228 (50000 positions) for asynchronous saving...\n",
      "  Chunk 1228 submitted. Main thread continues.\n",
      "  Total processed (optimistic): 61,500,000 positions\n",
      "  Progress: Line 71,234,314\n"
     ]
    },
    {
     "name": "stderr",
     "output_type": "stream",
     "text": [
      "Processing positions: 71291925lines [8:16:51, 939.01lines/s] "
     ]
    },
    {
     "name": "stdout",
     "output_type": "stream",
     "text": [
      "\n",
      "✓ Previous chunk 1228 saved. Ledger updated.\n",
      "\n",
      "Submitting chunk 1229 (50000 positions) for asynchronous saving...\n",
      "  Chunk 1229 submitted. Main thread continues.\n",
      "  Total processed (optimistic): 61,550,000 positions\n",
      "  Progress: Line 71,291,858\n"
     ]
    },
    {
     "name": "stderr",
     "output_type": "stream",
     "text": [
      "Processing positions: 71300173lines [8:16:58, 1208.65lines/s]"
     ]
    },
    {
     "name": "stdout",
     "output_type": "stream",
     "text": [
      "Progress checkpoint: Line 71,300,000, Found 30,807,097 valid positions this session.\n"
     ]
    },
    {
     "name": "stderr",
     "output_type": "stream",
     "text": [
      "Processing positions: 71348933lines [8:17:37, 856.66lines/s] "
     ]
    },
    {
     "name": "stdout",
     "output_type": "stream",
     "text": [
      "\n",
      "✓ Previous chunk 1229 saved. Ledger updated.\n",
      "\n",
      "Submitting chunk 1230 (50000 positions) for asynchronous saving...\n",
      "  Chunk 1230 submitted. Main thread continues.\n",
      "  Total processed (optimistic): 61,600,000 positions\n",
      "  Progress: Line 71,348,902\n"
     ]
    },
    {
     "name": "stderr",
     "output_type": "stream",
     "text": [
      "Processing positions: 71400142lines [8:18:20, 1143.69lines/s]"
     ]
    },
    {
     "name": "stdout",
     "output_type": "stream",
     "text": [
      "Progress checkpoint: Line 71,400,000, Found 30,895,257 valid positions this session.\n"
     ]
    },
    {
     "name": "stderr",
     "output_type": "stream",
     "text": [
      "Processing positions: 71405261lines [8:18:24, 851.79lines/s] "
     ]
    },
    {
     "name": "stdout",
     "output_type": "stream",
     "text": [
      "\n",
      "✓ Previous chunk 1230 saved. Ledger updated.\n",
      "\n",
      "Submitting chunk 1231 (50000 positions) for asynchronous saving...\n",
      "  Chunk 1231 submitted. Main thread continues.\n",
      "  Total processed (optimistic): 61,650,000 positions\n",
      "  Progress: Line 71,405,244\n"
     ]
    },
    {
     "name": "stderr",
     "output_type": "stream",
     "text": [
      "Processing positions: 71461435lines [8:19:11, 842.60lines/s] "
     ]
    },
    {
     "name": "stdout",
     "output_type": "stream",
     "text": [
      "\n",
      "✓ Previous chunk 1231 saved. Ledger updated.\n",
      "\n",
      "Submitting chunk 1232 (50000 positions) for asynchronous saving...\n",
      "  Chunk 1232 submitted. Main thread continues.\n",
      "  Total processed (optimistic): 61,700,000 positions\n",
      "  Progress: Line 71,461,372\n"
     ]
    },
    {
     "name": "stderr",
     "output_type": "stream",
     "text": [
      "Processing positions: 71500135lines [8:19:43, 1242.97lines/s]"
     ]
    },
    {
     "name": "stdout",
     "output_type": "stream",
     "text": [
      "Progress checkpoint: Line 71,500,000, Found 30,984,224 valid positions this session.\n"
     ]
    },
    {
     "name": "stderr",
     "output_type": "stream",
     "text": [
      "Processing positions: 71518018lines [8:19:57, 1012.56lines/s]"
     ]
    },
    {
     "name": "stdout",
     "output_type": "stream",
     "text": [
      "\n",
      "✓ Previous chunk 1232 saved. Ledger updated.\n",
      "\n",
      "Submitting chunk 1233 (50000 positions) for asynchronous saving...\n",
      "  Chunk 1233 submitted. Main thread continues.\n",
      "  Total processed (optimistic): 61,750,000 positions\n",
      "  Progress: Line 71,517,990\n"
     ]
    },
    {
     "name": "stderr",
     "output_type": "stream",
     "text": [
      "Processing positions: 71574916lines [8:20:43, 852.66lines/s] "
     ]
    },
    {
     "name": "stdout",
     "output_type": "stream",
     "text": [
      "\n",
      "✓ Previous chunk 1233 saved. Ledger updated.\n",
      "\n",
      "Submitting chunk 1234 (50000 positions) for asynchronous saving...\n",
      "  Chunk 1234 submitted. Main thread continues.\n",
      "  Total processed (optimistic): 61,800,000 positions\n",
      "  Progress: Line 71,574,865\n"
     ]
    },
    {
     "name": "stderr",
     "output_type": "stream",
     "text": [
      "Processing positions: 71600232lines [8:21:04, 1187.74lines/s]"
     ]
    },
    {
     "name": "stdout",
     "output_type": "stream",
     "text": [
      "Progress checkpoint: Line 71,600,000, Found 31,072,275 valid positions this session.\n"
     ]
    },
    {
     "name": "stderr",
     "output_type": "stream",
     "text": [
      "Processing positions: 71631583lines [8:21:29, 1036.05lines/s]"
     ]
    },
    {
     "name": "stdout",
     "output_type": "stream",
     "text": [
      "\n",
      "✓ Previous chunk 1234 saved. Ledger updated.\n",
      "\n",
      "Submitting chunk 1235 (50000 positions) for asynchronous saving...\n",
      "  Chunk 1235 submitted. Main thread continues.\n",
      "  Total processed (optimistic): 61,850,000 positions\n",
      "  Progress: Line 71,631,566\n"
     ]
    },
    {
     "name": "stderr",
     "output_type": "stream",
     "text": [
      "Processing positions: 71688954lines [8:22:16, 911.49lines/s] "
     ]
    },
    {
     "name": "stdout",
     "output_type": "stream",
     "text": [
      "\n",
      "✓ Previous chunk 1235 saved. Ledger updated.\n",
      "\n",
      "Submitting chunk 1236 (50000 positions) for asynchronous saving...\n",
      "  Chunk 1236 submitted. Main thread continues.\n",
      "  Total processed (optimistic): 61,900,000 positions\n",
      "  Progress: Line 71,688,906\n"
     ]
    },
    {
     "name": "stderr",
     "output_type": "stream",
     "text": [
      "Processing positions: 71700216lines [8:22:26, 1206.94lines/s]"
     ]
    },
    {
     "name": "stdout",
     "output_type": "stream",
     "text": [
      "Progress checkpoint: Line 71,700,000, Found 31,159,943 valid positions this session.\n"
     ]
    },
    {
     "name": "stderr",
     "output_type": "stream",
     "text": [
      "Processing positions: 71746722lines [8:23:03, 976.63lines/s] "
     ]
    },
    {
     "name": "stdout",
     "output_type": "stream",
     "text": [
      "\n",
      "✓ Previous chunk 1236 saved. Ledger updated.\n",
      "\n",
      "Submitting chunk 1237 (50000 positions) for asynchronous saving...\n",
      "  Chunk 1237 submitted. Main thread continues.\n",
      "  Total processed (optimistic): 61,950,000 positions\n",
      "  Progress: Line 71,746,664\n"
     ]
    },
    {
     "name": "stderr",
     "output_type": "stream",
     "text": [
      "Processing positions: 71800240lines [8:23:47, 1339.39lines/s]"
     ]
    },
    {
     "name": "stdout",
     "output_type": "stream",
     "text": [
      "Progress checkpoint: Line 71,800,000, Found 31,246,746 valid positions this session.\n"
     ]
    },
    {
     "name": "stderr",
     "output_type": "stream",
     "text": [
      "Processing positions: 71803796lines [8:23:50, 862.94lines/s] "
     ]
    },
    {
     "name": "stdout",
     "output_type": "stream",
     "text": [
      "\n",
      "✓ Previous chunk 1237 saved. Ledger updated.\n",
      "\n",
      "Submitting chunk 1238 (50000 positions) for asynchronous saving...\n",
      "  Chunk 1238 submitted. Main thread continues.\n",
      "  Total processed (optimistic): 62,000,000 positions\n",
      "  Progress: Line 71,803,694\n"
     ]
    },
    {
     "name": "stderr",
     "output_type": "stream",
     "text": [
      "Processing positions: 71861392lines [8:24:36, 1284.40lines/s]"
     ]
    },
    {
     "name": "stdout",
     "output_type": "stream",
     "text": [
      "\n",
      "✓ Previous chunk 1238 saved. Ledger updated.\n",
      "\n",
      "Submitting chunk 1239 (50000 positions) for asynchronous saving...\n",
      "  Chunk 1239 submitted. Main thread continues.\n",
      "  Total processed (optimistic): 62,050,000 positions\n",
      "  Progress: Line 71,861,417\n"
     ]
    },
    {
     "name": "stderr",
     "output_type": "stream",
     "text": [
      "Processing positions: 71900155lines [8:25:08, 1146.85lines/s]"
     ]
    },
    {
     "name": "stdout",
     "output_type": "stream",
     "text": [
      "Progress checkpoint: Line 71,900,000, Found 31,333,576 valid positions this session.\n"
     ]
    },
    {
     "name": "stderr",
     "output_type": "stream",
     "text": [
      "Processing positions: 71918795lines [8:25:23, 904.23lines/s] "
     ]
    },
    {
     "name": "stdout",
     "output_type": "stream",
     "text": [
      "\n",
      "✓ Previous chunk 1239 saved. Ledger updated.\n",
      "\n",
      "Submitting chunk 1240 (50000 positions) for asynchronous saving...\n",
      "  Chunk 1240 submitted. Main thread continues.\n",
      "  Total processed (optimistic): 62,100,000 positions\n",
      "  Progress: Line 71,918,777\n"
     ]
    },
    {
     "name": "stderr",
     "output_type": "stream",
     "text": [
      "Processing positions: 71975840lines [8:26:10, 954.31lines/s] "
     ]
    },
    {
     "name": "stdout",
     "output_type": "stream",
     "text": [
      "\n",
      "✓ Previous chunk 1240 saved. Ledger updated.\n",
      "\n",
      "Submitting chunk 1241 (50000 positions) for asynchronous saving...\n",
      "  Chunk 1241 submitted. Main thread continues.\n",
      "  Total processed (optimistic): 62,150,000 positions\n",
      "  Progress: Line 71,975,753\n"
     ]
    },
    {
     "name": "stderr",
     "output_type": "stream",
     "text": [
      "Processing positions: 72000265lines [8:26:31, 1261.96lines/s]"
     ]
    },
    {
     "name": "stdout",
     "output_type": "stream",
     "text": [
      "Progress checkpoint: Line 72,000,000, Found 31,421,557 valid positions this session.\n"
     ]
    },
    {
     "name": "stderr",
     "output_type": "stream",
     "text": [
      "Processing positions: 72032390lines [8:26:56, 1288.34lines/s]"
     ]
    },
    {
     "name": "stdout",
     "output_type": "stream",
     "text": [
      "\n",
      "✓ Previous chunk 1241 saved. Ledger updated.\n",
      "\n",
      "Submitting chunk 1242 (50000 positions) for asynchronous saving...\n",
      "  Chunk 1242 submitted. Main thread continues.\n",
      "  Total processed (optimistic): 62,200,000 positions\n",
      "  Progress: Line 72,032,406\n"
     ]
    },
    {
     "name": "stderr",
     "output_type": "stream",
     "text": [
      "Processing positions: 72089189lines [8:27:42, 923.97lines/s] "
     ]
    },
    {
     "name": "stdout",
     "output_type": "stream",
     "text": [
      "\n",
      "✓ Previous chunk 1242 saved. Ledger updated.\n",
      "\n",
      "Submitting chunk 1243 (50000 positions) for asynchronous saving...\n",
      "  Chunk 1243 submitted. Main thread continues.\n",
      "  Total processed (optimistic): 62,250,000 positions\n",
      "  Progress: Line 72,089,161\n"
     ]
    },
    {
     "name": "stderr",
     "output_type": "stream",
     "text": [
      "Processing positions: 72100138lines [8:27:51, 1305.74lines/s]"
     ]
    },
    {
     "name": "stdout",
     "output_type": "stream",
     "text": [
      "Progress checkpoint: Line 72,100,000, Found 31,509,488 valid positions this session.\n"
     ]
    },
    {
     "name": "stderr",
     "output_type": "stream",
     "text": [
      "Processing positions: 72145566lines [8:28:29, 857.73lines/s] "
     ]
    },
    {
     "name": "stdout",
     "output_type": "stream",
     "text": [
      "\n",
      "✓ Previous chunk 1243 saved. Ledger updated.\n",
      "\n",
      "Submitting chunk 1244 (50000 positions) for asynchronous saving...\n",
      "  Chunk 1244 submitted. Main thread continues.\n",
      "  Total processed (optimistic): 62,300,000 positions\n",
      "  Progress: Line 72,145,480\n"
     ]
    },
    {
     "name": "stderr",
     "output_type": "stream",
     "text": [
      "Processing positions: 72200208lines [8:29:12, 1280.25lines/s]"
     ]
    },
    {
     "name": "stdout",
     "output_type": "stream",
     "text": [
      "Progress checkpoint: Line 72,200,000, Found 31,597,337 valid positions this session.\n"
     ]
    },
    {
     "name": "stderr",
     "output_type": "stream",
     "text": [
      "Processing positions: 72202918lines [8:29:15, 1239.70lines/s]"
     ]
    },
    {
     "name": "stdout",
     "output_type": "stream",
     "text": [
      "\n",
      "✓ Previous chunk 1244 saved. Ledger updated.\n",
      "\n",
      "Submitting chunk 1245 (50000 positions) for asynchronous saving...\n",
      "  Chunk 1245 submitted. Main thread continues.\n",
      "  Total processed (optimistic): 62,350,000 positions\n",
      "  Progress: Line 72,202,945\n"
     ]
    },
    {
     "name": "stderr",
     "output_type": "stream",
     "text": [
      "Processing positions: 72260405lines [8:30:01, 997.43lines/s] "
     ]
    },
    {
     "name": "stdout",
     "output_type": "stream",
     "text": [
      "\n",
      "✓ Previous chunk 1245 saved. Ledger updated.\n",
      "\n",
      "Submitting chunk 1246 (50000 positions) for asynchronous saving...\n",
      "  Chunk 1246 submitted. Main thread continues.\n",
      "  Total processed (optimistic): 62,400,000 positions\n",
      "  Progress: Line 72,260,321\n"
     ]
    },
    {
     "name": "stderr",
     "output_type": "stream",
     "text": [
      "Processing positions: 72300201lines [8:30:34, 1184.75lines/s]"
     ]
    },
    {
     "name": "stdout",
     "output_type": "stream",
     "text": [
      "Progress checkpoint: Line 72,300,000, Found 31,684,230 valid positions this session.\n"
     ]
    },
    {
     "name": "stderr",
     "output_type": "stream",
     "text": [
      "Processing positions: 72317935lines [8:30:48, 1226.47lines/s]"
     ]
    },
    {
     "name": "stdout",
     "output_type": "stream",
     "text": [
      "\n",
      "✓ Previous chunk 1246 saved. Ledger updated.\n",
      "\n",
      "Submitting chunk 1247 (50000 positions) for asynchronous saving...\n",
      "  Chunk 1247 submitted. Main thread continues.\n",
      "  Total processed (optimistic): 62,450,000 positions\n",
      "  Progress: Line 72,317,948\n"
     ]
    },
    {
     "name": "stderr",
     "output_type": "stream",
     "text": [
      "Processing positions: 72374442lines [8:31:35, 1310.58lines/s]"
     ]
    },
    {
     "name": "stdout",
     "output_type": "stream",
     "text": [
      "\n",
      "✓ Previous chunk 1247 saved. Ledger updated.\n",
      "\n",
      "Submitting chunk 1248 (50000 positions) for asynchronous saving...\n",
      "  Chunk 1248 submitted. Main thread continues.\n",
      "  Total processed (optimistic): 62,500,000 positions\n",
      "  Progress: Line 72,374,458\n"
     ]
    },
    {
     "name": "stderr",
     "output_type": "stream",
     "text": [
      "Processing positions: 72400125lines [8:31:56, 1167.64lines/s]"
     ]
    },
    {
     "name": "stdout",
     "output_type": "stream",
     "text": [
      "Progress checkpoint: Line 72,400,000, Found 31,771,985 valid positions this session.\n"
     ]
    },
    {
     "name": "stderr",
     "output_type": "stream",
     "text": [
      "Processing positions: 72432302lines [8:32:21, 1281.09lines/s]"
     ]
    },
    {
     "name": "stdout",
     "output_type": "stream",
     "text": [
      "\n",
      "✓ Previous chunk 1248 saved. Ledger updated.\n",
      "\n",
      "Submitting chunk 1249 (50000 positions) for asynchronous saving...\n",
      "  Chunk 1249 submitted. Main thread continues.\n",
      "  Total processed (optimistic): 62,550,000 positions\n",
      "  Progress: Line 72,432,303\n"
     ]
    },
    {
     "name": "stderr",
     "output_type": "stream",
     "text": [
      "Processing positions: 72490531lines [8:33:09, 979.06lines/s] "
     ]
    },
    {
     "name": "stdout",
     "output_type": "stream",
     "text": [
      "\n",
      "✓ Previous chunk 1249 saved. Ledger updated.\n",
      "\n",
      "Submitting chunk 1250 (50000 positions) for asynchronous saving...\n",
      "  Chunk 1250 submitted. Main thread continues.\n",
      "  Total processed (optimistic): 62,600,000 positions\n",
      "  Progress: Line 72,490,474\n"
     ]
    },
    {
     "name": "stderr",
     "output_type": "stream",
     "text": [
      "Processing positions: 72500182lines [8:33:17, 1149.08lines/s]"
     ]
    },
    {
     "name": "stdout",
     "output_type": "stream",
     "text": [
      "Progress checkpoint: Line 72,500,000, Found 31,858,431 valid positions this session.\n"
     ]
    },
    {
     "name": "stderr",
     "output_type": "stream",
     "text": [
      "Processing positions: 72547062lines [8:33:55, 1313.30lines/s]"
     ]
    },
    {
     "name": "stdout",
     "output_type": "stream",
     "text": [
      "\n",
      "✓ Previous chunk 1250 saved. Ledger updated.\n",
      "\n",
      "Submitting chunk 1251 (50000 positions) for asynchronous saving...\n",
      "  Chunk 1251 submitted. Main thread continues.\n",
      "  Total processed (optimistic): 62,650,000 positions\n",
      "  Progress: Line 72,547,069\n"
     ]
    },
    {
     "name": "stderr",
     "output_type": "stream",
     "text": [
      "Processing positions: 72600186lines [8:34:39, 1251.63lines/s]"
     ]
    },
    {
     "name": "stdout",
     "output_type": "stream",
     "text": [
      "Progress checkpoint: Line 72,600,000, Found 31,946,447 valid positions this session.\n"
     ]
    },
    {
     "name": "stderr",
     "output_type": "stream",
     "text": [
      "Processing positions: 72604126lines [8:34:42, 884.89lines/s] "
     ]
    },
    {
     "name": "stdout",
     "output_type": "stream",
     "text": [
      "\n",
      "✓ Previous chunk 1251 saved. Ledger updated.\n",
      "\n",
      "Submitting chunk 1252 (50000 positions) for asynchronous saving...\n",
      "  Chunk 1252 submitted. Main thread continues.\n",
      "  Total processed (optimistic): 62,700,000 positions\n",
      "  Progress: Line 72,604,026\n"
     ]
    },
    {
     "name": "stderr",
     "output_type": "stream",
     "text": [
      "Processing positions: 72660352lines [8:35:28, 866.72lines/s] "
     ]
    },
    {
     "name": "stdout",
     "output_type": "stream",
     "text": [
      "\n",
      "✓ Previous chunk 1252 saved. Ledger updated.\n",
      "\n",
      "Submitting chunk 1253 (50000 positions) for asynchronous saving...\n",
      "  Chunk 1253 submitted. Main thread continues.\n",
      "  Total processed (optimistic): 62,750,000 positions\n",
      "  Progress: Line 72,660,274\n"
     ]
    },
    {
     "name": "stderr",
     "output_type": "stream",
     "text": [
      "Processing positions: 72700194lines [8:36:02, 1163.43lines/s]"
     ]
    },
    {
     "name": "stdout",
     "output_type": "stream",
     "text": [
      "Progress checkpoint: Line 72,700,000, Found 32,035,610 valid positions this session.\n"
     ]
    },
    {
     "name": "stderr",
     "output_type": "stream",
     "text": [
      "Processing positions: 72716295lines [8:36:15, 851.63lines/s] "
     ]
    },
    {
     "name": "stdout",
     "output_type": "stream",
     "text": [
      "\n",
      "✓ Previous chunk 1253 saved. Ledger updated.\n",
      "\n",
      "Submitting chunk 1254 (50000 positions) for asynchronous saving...\n",
      "  Chunk 1254 submitted. Main thread continues.\n",
      "  Total processed (optimistic): 62,800,000 positions\n",
      "  Progress: Line 72,716,226\n"
     ]
    },
    {
     "name": "stderr",
     "output_type": "stream",
     "text": [
      "Processing positions: 72774143lines [8:37:02, 931.60lines/s] "
     ]
    },
    {
     "name": "stdout",
     "output_type": "stream",
     "text": [
      "\n",
      "✓ Previous chunk 1254 saved. Ledger updated.\n",
      "\n",
      "Submitting chunk 1255 (50000 positions) for asynchronous saving...\n",
      "  Chunk 1255 submitted. Main thread continues.\n",
      "  Total processed (optimistic): 62,850,000 positions\n",
      "  Progress: Line 72,774,122\n"
     ]
    },
    {
     "name": "stderr",
     "output_type": "stream",
     "text": [
      "Processing positions: 72800168lines [8:37:23, 1180.46lines/s]"
     ]
    },
    {
     "name": "stdout",
     "output_type": "stream",
     "text": [
      "Progress checkpoint: Line 72,800,000, Found 32,121,864 valid positions this session.\n"
     ]
    },
    {
     "name": "stderr",
     "output_type": "stream",
     "text": [
      "Processing positions: 72832492lines [8:37:49, 845.77lines/s] "
     ]
    },
    {
     "name": "stdout",
     "output_type": "stream",
     "text": [
      "\n",
      "✓ Previous chunk 1255 saved. Ledger updated.\n",
      "\n",
      "Submitting chunk 1256 (50000 positions) for asynchronous saving...\n",
      "  Chunk 1256 submitted. Main thread continues.\n",
      "  Total processed (optimistic): 62,900,000 positions\n",
      "  Progress: Line 72,832,449\n"
     ]
    },
    {
     "name": "stderr",
     "output_type": "stream",
     "text": [
      "Processing positions: 72890274lines [8:38:36, 871.43lines/s] "
     ]
    },
    {
     "name": "stdout",
     "output_type": "stream",
     "text": [
      "\n",
      "✓ Previous chunk 1256 saved. Ledger updated.\n",
      "\n",
      "Submitting chunk 1257 (50000 positions) for asynchronous saving...\n",
      "  Chunk 1257 submitted. Main thread continues.\n",
      "  Total processed (optimistic): 62,950,000 positions\n",
      "  Progress: Line 72,890,235\n"
     ]
    },
    {
     "name": "stderr",
     "output_type": "stream",
     "text": [
      "Processing positions: 72900199lines [8:38:45, 1221.76lines/s]"
     ]
    },
    {
     "name": "stdout",
     "output_type": "stream",
     "text": [
      "Progress checkpoint: Line 72,900,000, Found 32,208,623 valid positions this session.\n"
     ]
    },
    {
     "name": "stderr",
     "output_type": "stream",
     "text": [
      "Processing positions: 72948250lines [8:39:22, 1276.77lines/s]"
     ]
    },
    {
     "name": "stdout",
     "output_type": "stream",
     "text": [
      "\n",
      "✓ Previous chunk 1257 saved. Ledger updated.\n",
      "\n",
      "Submitting chunk 1258 (50000 positions) for asynchronous saving...\n",
      "  Chunk 1258 submitted. Main thread continues.\n",
      "  Total processed (optimistic): 63,000,000 positions\n",
      "  Progress: Line 72,948,256\n"
     ]
    },
    {
     "name": "stderr",
     "output_type": "stream",
     "text": [
      "Processing positions: 73000187lines [8:40:04, 1224.23lines/s]"
     ]
    },
    {
     "name": "stdout",
     "output_type": "stream",
     "text": [
      "Progress checkpoint: Line 73,000,000, Found 32,294,528 valid positions this session.\n"
     ]
    },
    {
     "name": "stderr",
     "output_type": "stream",
     "text": [
      "Processing positions: 73006245lines [8:40:09, 872.33lines/s] "
     ]
    },
    {
     "name": "stdout",
     "output_type": "stream",
     "text": [
      "\n",
      "✓ Previous chunk 1258 saved. Ledger updated.\n",
      "\n",
      "Submitting chunk 1259 (50000 positions) for asynchronous saving...\n",
      "  Chunk 1259 submitted. Main thread continues.\n",
      "  Total processed (optimistic): 63,050,000 positions\n",
      "  Progress: Line 73,006,199\n"
     ]
    },
    {
     "name": "stderr",
     "output_type": "stream",
     "text": [
      "Processing positions: 73063395lines [8:40:55, 1186.47lines/s]"
     ]
    },
    {
     "name": "stdout",
     "output_type": "stream",
     "text": [
      "\n",
      "✓ Previous chunk 1259 saved. Ledger updated.\n",
      "\n",
      "Submitting chunk 1260 (50000 positions) for asynchronous saving...\n",
      "  Chunk 1260 submitted. Main thread continues.\n",
      "  Total processed (optimistic): 63,100,000 positions\n",
      "  Progress: Line 73,063,407\n"
     ]
    },
    {
     "name": "stderr",
     "output_type": "stream",
     "text": [
      "Processing positions: 73100169lines [8:41:26, 1242.39lines/s]"
     ]
    },
    {
     "name": "stdout",
     "output_type": "stream",
     "text": [
      "Progress checkpoint: Line 73,100,000, Found 32,382,121 valid positions this session.\n"
     ]
    },
    {
     "name": "stderr",
     "output_type": "stream",
     "text": [
      "Processing positions: 73120705lines [8:41:42, 910.13lines/s] "
     ]
    },
    {
     "name": "stdout",
     "output_type": "stream",
     "text": [
      "\n",
      "✓ Previous chunk 1260 saved. Ledger updated.\n",
      "\n",
      "Submitting chunk 1261 (50000 positions) for asynchronous saving...\n",
      "  Chunk 1261 submitted. Main thread continues.\n",
      "  Total processed (optimistic): 63,150,000 positions\n",
      "  Progress: Line 73,120,610\n"
     ]
    },
    {
     "name": "stderr",
     "output_type": "stream",
     "text": [
      "Processing positions: 73178570lines [8:42:28, 879.97lines/s] "
     ]
    },
    {
     "name": "stdout",
     "output_type": "stream",
     "text": [
      "\n",
      "✓ Previous chunk 1261 saved. Ledger updated.\n",
      "\n",
      "Submitting chunk 1262 (50000 positions) for asynchronous saving...\n",
      "  Chunk 1262 submitted. Main thread continues.\n",
      "  Total processed (optimistic): 63,200,000 positions\n",
      "  Progress: Line 73,178,478\n"
     ]
    },
    {
     "name": "stderr",
     "output_type": "stream",
     "text": [
      "Processing positions: 73200195lines [8:42:46, 1138.13lines/s]"
     ]
    },
    {
     "name": "stdout",
     "output_type": "stream",
     "text": [
      "Progress checkpoint: Line 73,200,000, Found 32,468,939 valid positions this session.\n"
     ]
    },
    {
     "name": "stderr",
     "output_type": "stream",
     "text": [
      "Processing positions: 73235046lines [8:43:15, 965.87lines/s] "
     ]
    },
    {
     "name": "stdout",
     "output_type": "stream",
     "text": [
      "\n",
      "✓ Previous chunk 1262 saved. Ledger updated.\n",
      "\n",
      "Submitting chunk 1263 (50000 positions) for asynchronous saving...\n",
      "  Chunk 1263 submitted. Main thread continues.\n",
      "  Total processed (optimistic): 63,250,000 positions\n",
      "  Progress: Line 73,235,038\n"
     ]
    },
    {
     "name": "stderr",
     "output_type": "stream",
     "text": [
      "Processing positions: 73292905lines [8:44:02, 853.24lines/s] "
     ]
    },
    {
     "name": "stdout",
     "output_type": "stream",
     "text": [
      "\n",
      "✓ Previous chunk 1263 saved. Ledger updated.\n",
      "\n",
      "Submitting chunk 1264 (50000 positions) for asynchronous saving...\n",
      "  Chunk 1264 submitted. Main thread continues.\n",
      "  Total processed (optimistic): 63,300,000 positions\n",
      "  Progress: Line 73,292,843\n"
     ]
    },
    {
     "name": "stderr",
     "output_type": "stream",
     "text": [
      "Processing positions: 73300232lines [8:44:08, 1370.22lines/s]"
     ]
    },
    {
     "name": "stdout",
     "output_type": "stream",
     "text": [
      "Progress checkpoint: Line 73,300,000, Found 32,556,381 valid positions this session.\n"
     ]
    },
    {
     "name": "stderr",
     "output_type": "stream",
     "text": [
      "Processing positions: 73351768lines [8:44:48, 1317.76lines/s]"
     ]
    },
    {
     "name": "stdout",
     "output_type": "stream",
     "text": [
      "\n",
      "✓ Previous chunk 1264 saved. Ledger updated.\n",
      "\n",
      "Submitting chunk 1265 (50000 positions) for asynchronous saving...\n",
      "  Chunk 1265 submitted. Main thread continues.\n",
      "  Total processed (optimistic): 63,350,000 positions\n",
      "  Progress: Line 73,351,785\n"
     ]
    },
    {
     "name": "stderr",
     "output_type": "stream",
     "text": [
      "Processing positions: 73400263lines [8:45:27, 1243.29lines/s]"
     ]
    },
    {
     "name": "stdout",
     "output_type": "stream",
     "text": [
      "Progress checkpoint: Line 73,400,000, Found 32,640,911 valid positions this session.\n"
     ]
    },
    {
     "name": "stderr",
     "output_type": "stream",
     "text": [
      "Processing positions: 73410481lines [8:45:35, 931.64lines/s] "
     ]
    },
    {
     "name": "stdout",
     "output_type": "stream",
     "text": [
      "\n",
      "✓ Previous chunk 1265 saved. Ledger updated.\n",
      "\n",
      "Submitting chunk 1266 (50000 positions) for asynchronous saving...\n",
      "  Chunk 1266 submitted. Main thread continues.\n",
      "  Total processed (optimistic): 63,400,000 positions\n",
      "  Progress: Line 73,410,467\n"
     ]
    },
    {
     "name": "stderr",
     "output_type": "stream",
     "text": [
      "Processing positions: 73468018lines [8:46:22, 918.05lines/s] "
     ]
    },
    {
     "name": "stdout",
     "output_type": "stream",
     "text": [
      "\n",
      "✓ Previous chunk 1266 saved. Ledger updated.\n",
      "\n",
      "Submitting chunk 1267 (50000 positions) for asynchronous saving...\n",
      "  Chunk 1267 submitted. Main thread continues.\n",
      "  Total processed (optimistic): 63,450,000 positions\n",
      "  Progress: Line 73,467,990\n"
     ]
    },
    {
     "name": "stderr",
     "output_type": "stream",
     "text": [
      "Processing positions: 73500142lines [8:46:48, 1274.57lines/s]"
     ]
    },
    {
     "name": "stdout",
     "output_type": "stream",
     "text": [
      "Progress checkpoint: Line 73,500,000, Found 32,727,820 valid positions this session.\n"
     ]
    },
    {
     "name": "stderr",
     "output_type": "stream",
     "text": [
      "Processing positions: 73526067lines [8:47:08, 868.87lines/s] "
     ]
    },
    {
     "name": "stdout",
     "output_type": "stream",
     "text": [
      "\n",
      "✓ Previous chunk 1267 saved. Ledger updated.\n",
      "\n",
      "Submitting chunk 1268 (50000 positions) for asynchronous saving...\n",
      "  Chunk 1268 submitted. Main thread continues.\n",
      "  Total processed (optimistic): 63,500,000 positions\n",
      "  Progress: Line 73,525,962\n"
     ]
    },
    {
     "name": "stderr",
     "output_type": "stream",
     "text": [
      "Processing positions: 73583052lines [8:47:55, 1280.77lines/s]"
     ]
    },
    {
     "name": "stdout",
     "output_type": "stream",
     "text": [
      "\n",
      "✓ Previous chunk 1268 saved. Ledger updated.\n",
      "\n",
      "Submitting chunk 1269 (50000 positions) for asynchronous saving...\n",
      "  Chunk 1269 submitted. Main thread continues.\n",
      "  Total processed (optimistic): 63,550,000 positions\n",
      "  Progress: Line 73,583,054\n"
     ]
    },
    {
     "name": "stderr",
     "output_type": "stream",
     "text": [
      "Processing positions: 73600187lines [8:48:10, 1169.19lines/s]"
     ]
    },
    {
     "name": "stdout",
     "output_type": "stream",
     "text": [
      "Progress checkpoint: Line 73,600,000, Found 32,815,256 valid positions this session.\n"
     ]
    },
    {
     "name": "stderr",
     "output_type": "stream",
     "text": [
      "Processing positions: 73639059lines [8:48:41, 892.58lines/s] "
     ]
    },
    {
     "name": "stdout",
     "output_type": "stream",
     "text": [
      "\n",
      "✓ Previous chunk 1269 saved. Ledger updated.\n",
      "\n",
      "Submitting chunk 1270 (50000 positions) for asynchronous saving...\n",
      "  Chunk 1270 submitted. Main thread continues.\n",
      "  Total processed (optimistic): 63,600,000 positions\n",
      "  Progress: Line 73,638,971\n"
     ]
    },
    {
     "name": "stderr",
     "output_type": "stream",
     "text": [
      "Processing positions: 73695433lines [8:49:28, 847.54lines/s] "
     ]
    },
    {
     "name": "stdout",
     "output_type": "stream",
     "text": [
      "\n",
      "✓ Previous chunk 1270 saved. Ledger updated.\n",
      "\n",
      "Submitting chunk 1271 (50000 positions) for asynchronous saving...\n",
      "  Chunk 1271 submitted. Main thread continues.\n",
      "  Total processed (optimistic): 63,650,000 positions\n",
      "  Progress: Line 73,695,385\n"
     ]
    },
    {
     "name": "stderr",
     "output_type": "stream",
     "text": [
      "Processing positions: 73700257lines [8:49:32, 1211.82lines/s]"
     ]
    },
    {
     "name": "stdout",
     "output_type": "stream",
     "text": [
      "Progress checkpoint: Line 73,700,000, Found 32,904,093 valid positions this session.\n"
     ]
    },
    {
     "name": "stderr",
     "output_type": "stream",
     "text": [
      "Processing positions: 73751406lines [8:50:14, 853.82lines/s] "
     ]
    },
    {
     "name": "stdout",
     "output_type": "stream",
     "text": [
      "\n",
      "✓ Previous chunk 1271 saved. Ledger updated.\n",
      "\n",
      "Submitting chunk 1272 (50000 positions) for asynchronous saving...\n",
      "  Chunk 1272 submitted. Main thread continues.\n",
      "  Total processed (optimistic): 63,700,000 positions\n",
      "  Progress: Line 73,751,324\n"
     ]
    },
    {
     "name": "stderr",
     "output_type": "stream",
     "text": [
      "Processing positions: 73800151lines [8:50:54, 1165.09lines/s]"
     ]
    },
    {
     "name": "stdout",
     "output_type": "stream",
     "text": [
      "Progress checkpoint: Line 73,800,000, Found 32,992,065 valid positions this session.\n"
     ]
    },
    {
     "name": "stderr",
     "output_type": "stream",
     "text": [
      "Processing positions: 73809068lines [8:51:01, 873.04lines/s] "
     ]
    },
    {
     "name": "stdout",
     "output_type": "stream",
     "text": [
      "\n",
      "✓ Previous chunk 1272 saved. Ledger updated.\n",
      "\n",
      "Submitting chunk 1273 (50000 positions) for asynchronous saving...\n",
      "  Chunk 1273 submitted. Main thread continues.\n",
      "  Total processed (optimistic): 63,750,000 positions\n",
      "  Progress: Line 73,808,965\n"
     ]
    },
    {
     "name": "stderr",
     "output_type": "stream",
     "text": [
      "Processing positions: 73867605lines [8:51:48, 937.66lines/s] "
     ]
    },
    {
     "name": "stdout",
     "output_type": "stream",
     "text": [
      "\n",
      "✓ Previous chunk 1273 saved. Ledger updated.\n",
      "\n",
      "Submitting chunk 1274 (50000 positions) for asynchronous saving...\n",
      "  Chunk 1274 submitted. Main thread continues.\n",
      "  Total processed (optimistic): 63,800,000 positions\n",
      "  Progress: Line 73,867,557\n"
     ]
    },
    {
     "name": "stderr",
     "output_type": "stream",
     "text": [
      "Processing positions: 73900201lines [8:52:14, 1202.81lines/s]"
     ]
    },
    {
     "name": "stdout",
     "output_type": "stream",
     "text": [
      "Progress checkpoint: Line 73,900,000, Found 33,077,900 valid positions this session.\n"
     ]
    },
    {
     "name": "stderr",
     "output_type": "stream",
     "text": [
      "Processing positions: 73926371lines [8:52:35, 902.24lines/s] "
     ]
    },
    {
     "name": "stdout",
     "output_type": "stream",
     "text": [
      "\n",
      "✓ Previous chunk 1274 saved. Ledger updated.\n",
      "\n",
      "Submitting chunk 1275 (50000 positions) for asynchronous saving...\n",
      "  Chunk 1275 submitted. Main thread continues.\n",
      "  Total processed (optimistic): 63,850,000 positions\n",
      "  Progress: Line 73,926,319\n"
     ]
    },
    {
     "name": "stderr",
     "output_type": "stream",
     "text": [
      "Processing positions: 73983293lines [8:53:21, 990.18lines/s] "
     ]
    },
    {
     "name": "stdout",
     "output_type": "stream",
     "text": [
      "\n",
      "✓ Previous chunk 1275 saved. Ledger updated.\n",
      "\n",
      "Submitting chunk 1276 (50000 positions) for asynchronous saving...\n",
      "  Chunk 1276 submitted. Main thread continues.\n",
      "  Total processed (optimistic): 63,900,000 positions\n",
      "  Progress: Line 73,983,182\n"
     ]
    },
    {
     "name": "stderr",
     "output_type": "stream",
     "text": [
      "Processing positions: 74000274lines [8:53:35, 1243.79lines/s]"
     ]
    },
    {
     "name": "stdout",
     "output_type": "stream",
     "text": [
      "Progress checkpoint: Line 74,000,000, Found 33,164,618 valid positions this session.\n"
     ]
    },
    {
     "name": "stderr",
     "output_type": "stream",
     "text": [
      "Processing positions: 74040947lines [8:54:08, 825.88lines/s] "
     ]
    },
    {
     "name": "stdout",
     "output_type": "stream",
     "text": [
      "\n",
      "✓ Previous chunk 1276 saved. Ledger updated.\n",
      "\n",
      "Submitting chunk 1277 (50000 positions) for asynchronous saving...\n",
      "  Chunk 1277 submitted. Main thread continues.\n",
      "  Total processed (optimistic): 63,950,000 positions\n",
      "  Progress: Line 74,040,871\n"
     ]
    },
    {
     "name": "stderr",
     "output_type": "stream",
     "text": [
      "Processing positions: 74097054lines [8:54:55, 868.42lines/s] "
     ]
    },
    {
     "name": "stdout",
     "output_type": "stream",
     "text": [
      "\n",
      "✓ Previous chunk 1277 saved. Ledger updated.\n",
      "\n",
      "Submitting chunk 1278 (50000 positions) for asynchronous saving...\n",
      "  Chunk 1278 submitted. Main thread continues.\n",
      "  Total processed (optimistic): 64,000,000 positions\n",
      "  Progress: Line 74,097,012\n"
     ]
    },
    {
     "name": "stderr",
     "output_type": "stream",
     "text": [
      "Processing positions: 74100127lines [8:54:58, 1179.57lines/s]"
     ]
    },
    {
     "name": "stdout",
     "output_type": "stream",
     "text": [
      "Progress checkpoint: Line 74,100,000, Found 33,252,681 valid positions this session.\n"
     ]
    },
    {
     "name": "stderr",
     "output_type": "stream",
     "text": [
      "Processing positions: 74153639lines [8:55:41, 1156.26lines/s]"
     ]
    },
    {
     "name": "stdout",
     "output_type": "stream",
     "text": [
      "\n",
      "✓ Previous chunk 1278 saved. Ledger updated.\n",
      "\n",
      "Submitting chunk 1279 (50000 positions) for asynchronous saving...\n",
      "  Chunk 1279 submitted. Main thread continues.\n",
      "  Total processed (optimistic): 64,050,000 positions\n",
      "  Progress: Line 74,153,647\n"
     ]
    },
    {
     "name": "stderr",
     "output_type": "stream",
     "text": [
      "Processing positions: 74200161lines [8:56:18, 1192.99lines/s]"
     ]
    },
    {
     "name": "stdout",
     "output_type": "stream",
     "text": [
      "Progress checkpoint: Line 74,200,000, Found 33,341,068 valid positions this session.\n"
     ]
    },
    {
     "name": "stderr",
     "output_type": "stream",
     "text": [
      "Processing positions: 74210406lines [8:56:26, 1058.27lines/s]"
     ]
    },
    {
     "name": "stdout",
     "output_type": "stream",
     "text": [
      "\n",
      "✓ Previous chunk 1279 saved. Ledger updated.\n",
      "\n",
      "Submitting chunk 1280 (50000 positions) for asynchronous saving...\n",
      "  Chunk 1280 submitted. Main thread continues.\n",
      "  Total processed (optimistic): 64,100,000 positions\n",
      "  Progress: Line 74,210,362\n"
     ]
    },
    {
     "name": "stderr",
     "output_type": "stream",
     "text": [
      "Processing positions: 74266212lines [8:57:13, 843.05lines/s] "
     ]
    },
    {
     "name": "stdout",
     "output_type": "stream",
     "text": [
      "\n",
      "✓ Previous chunk 1280 saved. Ledger updated.\n",
      "\n",
      "Submitting chunk 1281 (50000 positions) for asynchronous saving...\n",
      "  Chunk 1281 submitted. Main thread continues.\n",
      "  Total processed (optimistic): 64,150,000 positions\n",
      "  Progress: Line 74,266,154\n"
     ]
    },
    {
     "name": "stderr",
     "output_type": "stream",
     "text": [
      "Processing positions: 74300204lines [8:57:41, 1217.04lines/s]"
     ]
    },
    {
     "name": "stdout",
     "output_type": "stream",
     "text": [
      "Progress checkpoint: Line 74,300,000, Found 33,429,892 valid positions this session.\n"
     ]
    },
    {
     "name": "stderr",
     "output_type": "stream",
     "text": [
      "Processing positions: 74323822lines [8:58:00, 1008.68lines/s]"
     ]
    },
    {
     "name": "stdout",
     "output_type": "stream",
     "text": [
      "\n",
      "✓ Previous chunk 1281 saved. Ledger updated.\n",
      "\n",
      "Submitting chunk 1282 (50000 positions) for asynchronous saving...\n",
      "  Chunk 1282 submitted. Main thread continues.\n",
      "  Total processed (optimistic): 64,200,000 positions\n",
      "  Progress: Line 74,323,704\n"
     ]
    },
    {
     "name": "stderr",
     "output_type": "stream",
     "text": [
      "Processing positions: 74382561lines [8:58:46, 850.07lines/s] "
     ]
    },
    {
     "name": "stdout",
     "output_type": "stream",
     "text": [
      "\n",
      "✓ Previous chunk 1282 saved. Ledger updated.\n",
      "\n",
      "Submitting chunk 1283 (50000 positions) for asynchronous saving...\n",
      "  Chunk 1283 submitted. Main thread continues.\n",
      "  Total processed (optimistic): 64,250,000 positions\n",
      "  Progress: Line 74,382,505\n"
     ]
    },
    {
     "name": "stderr",
     "output_type": "stream",
     "text": [
      "Processing positions: 74400115lines [8:59:01, 1203.00lines/s]"
     ]
    },
    {
     "name": "stdout",
     "output_type": "stream",
     "text": [
      "Progress checkpoint: Line 74,400,000, Found 33,515,084 valid positions this session.\n"
     ]
    },
    {
     "name": "stderr",
     "output_type": "stream",
     "text": [
      "Processing positions: 74441980lines [8:59:33, 1039.53lines/s]"
     ]
    },
    {
     "name": "stdout",
     "output_type": "stream",
     "text": [
      "\n",
      "✓ Previous chunk 1283 saved. Ledger updated.\n",
      "\n",
      "Submitting chunk 1284 (50000 positions) for asynchronous saving...\n",
      "  Chunk 1284 submitted. Main thread continues.\n",
      "  Total processed (optimistic): 64,300,000 positions\n",
      "  Progress: Line 74,441,950\n"
     ]
    },
    {
     "name": "stderr",
     "output_type": "stream",
     "text": [
      "Processing positions: 74499302lines [9:00:19, 903.59lines/s] "
     ]
    },
    {
     "name": "stdout",
     "output_type": "stream",
     "text": [
      "\n",
      "✓ Previous chunk 1284 saved. Ledger updated.\n",
      "\n",
      "Submitting chunk 1285 (50000 positions) for asynchronous saving...\n",
      "  Chunk 1285 submitted. Main thread continues.\n",
      "  Total processed (optimistic): 64,350,000 positions\n",
      "  Progress: Line 74,499,266\n"
     ]
    },
    {
     "name": "stderr",
     "output_type": "stream",
     "text": [
      "Processing positions: 74500106lines [9:00:20, 816.33lines/s]"
     ]
    },
    {
     "name": "stdout",
     "output_type": "stream",
     "text": [
      "Progress checkpoint: Line 74,500,000, Found 33,600,655 valid positions this session.\n"
     ]
    },
    {
     "name": "stderr",
     "output_type": "stream",
     "text": [
      "Processing positions: 74555984lines [9:01:06, 931.50lines/s] "
     ]
    },
    {
     "name": "stdout",
     "output_type": "stream",
     "text": [
      "\n",
      "✓ Previous chunk 1285 saved. Ledger updated.\n",
      "\n",
      "Submitting chunk 1286 (50000 positions) for asynchronous saving...\n",
      "  Chunk 1286 submitted. Main thread continues.\n",
      "  Total processed (optimistic): 64,400,000 positions\n",
      "  Progress: Line 74,555,938\n"
     ]
    },
    {
     "name": "stderr",
     "output_type": "stream",
     "text": [
      "Processing positions: 74600127lines [9:01:42, 1167.89lines/s]"
     ]
    },
    {
     "name": "stdout",
     "output_type": "stream",
     "text": [
      "Progress checkpoint: Line 74,600,000, Found 33,688,918 valid positions this session.\n"
     ]
    },
    {
     "name": "stderr",
     "output_type": "stream",
     "text": [
      "Processing positions: 74612491lines [9:01:52, 870.60lines/s] "
     ]
    },
    {
     "name": "stdout",
     "output_type": "stream",
     "text": [
      "\n",
      "✓ Previous chunk 1286 saved. Ledger updated.\n",
      "\n",
      "Submitting chunk 1287 (50000 positions) for asynchronous saving...\n",
      "  Chunk 1287 submitted. Main thread continues.\n",
      "  Total processed (optimistic): 64,450,000 positions\n",
      "  Progress: Line 74,612,403\n"
     ]
    },
    {
     "name": "stderr",
     "output_type": "stream",
     "text": [
      "Processing positions: 74668705lines [9:02:39, 869.17lines/s] "
     ]
    },
    {
     "name": "stdout",
     "output_type": "stream",
     "text": [
      "\n",
      "✓ Previous chunk 1287 saved. Ledger updated.\n",
      "\n",
      "Submitting chunk 1288 (50000 positions) for asynchronous saving...\n",
      "  Chunk 1288 submitted. Main thread continues.\n",
      "  Total processed (optimistic): 64,500,000 positions\n",
      "  Progress: Line 74,668,632\n"
     ]
    },
    {
     "name": "stderr",
     "output_type": "stream",
     "text": [
      "Processing positions: 74700178lines [9:03:04, 1228.93lines/s]"
     ]
    },
    {
     "name": "stdout",
     "output_type": "stream",
     "text": [
      "Progress checkpoint: Line 74,700,000, Found 33,777,223 valid positions this session.\n"
     ]
    },
    {
     "name": "stderr",
     "output_type": "stream",
     "text": [
      "Processing positions: 74725745lines [9:03:25, 832.09lines/s] "
     ]
    },
    {
     "name": "stdout",
     "output_type": "stream",
     "text": [
      "\n",
      "✓ Previous chunk 1288 saved. Ledger updated.\n",
      "\n",
      "Submitting chunk 1289 (50000 positions) for asynchronous saving...\n",
      "  Chunk 1289 submitted. Main thread continues.\n",
      "  Total processed (optimistic): 64,550,000 positions\n",
      "  Progress: Line 74,725,653\n"
     ]
    },
    {
     "name": "stderr",
     "output_type": "stream",
     "text": [
      "Processing positions: 74782121lines [9:04:10, 1152.45lines/s]"
     ]
    },
    {
     "name": "stdout",
     "output_type": "stream",
     "text": [
      "\n",
      "✓ Previous chunk 1289 saved. Ledger updated.\n",
      "\n",
      "Submitting chunk 1290 (50000 positions) for asynchronous saving...\n",
      "  Chunk 1290 submitted. Main thread continues.\n",
      "  Total processed (optimistic): 64,600,000 positions\n",
      "  Progress: Line 74,782,130\n"
     ]
    },
    {
     "name": "stderr",
     "output_type": "stream",
     "text": [
      "Processing positions: 74800197lines [9:04:26, 1206.73lines/s]"
     ]
    },
    {
     "name": "stdout",
     "output_type": "stream",
     "text": [
      "Progress checkpoint: Line 74,800,000, Found 33,865,706 valid positions this session.\n"
     ]
    },
    {
     "name": "stderr",
     "output_type": "stream",
     "text": [
      "Processing positions: 74838992lines [9:04:57, 962.03lines/s] "
     ]
    },
    {
     "name": "stdout",
     "output_type": "stream",
     "text": [
      "\n",
      "✓ Previous chunk 1290 saved. Ledger updated.\n",
      "\n",
      "Submitting chunk 1291 (50000 positions) for asynchronous saving...\n",
      "  Chunk 1291 submitted. Main thread continues.\n",
      "  Total processed (optimistic): 64,650,000 positions\n",
      "  Progress: Line 74,838,985\n"
     ]
    },
    {
     "name": "stderr",
     "output_type": "stream",
     "text": [
      "Processing positions: 74896364lines [9:05:44, 873.02lines/s] "
     ]
    },
    {
     "name": "stdout",
     "output_type": "stream",
     "text": [
      "\n",
      "✓ Previous chunk 1291 saved. Ledger updated.\n",
      "\n",
      "Submitting chunk 1292 (50000 positions) for asynchronous saving...\n",
      "  Chunk 1292 submitted. Main thread continues.\n",
      "  Total processed (optimistic): 64,700,000 positions\n",
      "  Progress: Line 74,896,275\n"
     ]
    },
    {
     "name": "stderr",
     "output_type": "stream",
     "text": [
      "Processing positions: 74900195lines [9:05:47, 1338.85lines/s]"
     ]
    },
    {
     "name": "stdout",
     "output_type": "stream",
     "text": [
      "Progress checkpoint: Line 74,900,000, Found 33,953,260 valid positions this session.\n"
     ]
    },
    {
     "name": "stderr",
     "output_type": "stream",
     "text": [
      "Processing positions: 74954828lines [9:06:31, 920.07lines/s] "
     ]
    },
    {
     "name": "stdout",
     "output_type": "stream",
     "text": [
      "\n",
      "✓ Previous chunk 1292 saved. Ledger updated.\n",
      "\n",
      "Submitting chunk 1293 (50000 positions) for asynchronous saving...\n",
      "  Chunk 1293 submitted. Main thread continues.\n",
      "  Total processed (optimistic): 64,750,000 positions\n",
      "  Progress: Line 74,954,812\n"
     ]
    },
    {
     "name": "stderr",
     "output_type": "stream",
     "text": [
      "Processing positions: 75000139lines [9:07:08, 1305.94lines/s]"
     ]
    },
    {
     "name": "stdout",
     "output_type": "stream",
     "text": [
      "Progress checkpoint: Line 75,000,000, Found 34,039,482 valid positions this session.\n"
     ]
    },
    {
     "name": "stderr",
     "output_type": "stream",
     "text": [
      "Processing positions: 75011618lines [9:07:17, 874.84lines/s] "
     ]
    },
    {
     "name": "stdout",
     "output_type": "stream",
     "text": [
      "\n",
      "✓ Previous chunk 1293 saved. Ledger updated.\n",
      "\n",
      "Submitting chunk 1294 (50000 positions) for asynchronous saving...\n",
      "  Chunk 1294 submitted. Main thread continues.\n",
      "  Total processed (optimistic): 64,800,000 positions\n",
      "  Progress: Line 75,011,596\n"
     ]
    },
    {
     "name": "stderr",
     "output_type": "stream",
     "text": [
      "Processing positions: 75069559lines [9:08:04, 895.13lines/s] "
     ]
    },
    {
     "name": "stdout",
     "output_type": "stream",
     "text": [
      "\n",
      "✓ Previous chunk 1294 saved. Ledger updated.\n",
      "\n",
      "Submitting chunk 1295 (50000 positions) for asynchronous saving...\n",
      "  Chunk 1295 submitted. Main thread continues.\n",
      "  Total processed (optimistic): 64,850,000 positions\n",
      "  Progress: Line 75,069,470\n"
     ]
    },
    {
     "name": "stderr",
     "output_type": "stream",
     "text": [
      "Processing positions: 75100264lines [9:08:29, 1303.88lines/s]"
     ]
    },
    {
     "name": "stdout",
     "output_type": "stream",
     "text": [
      "Progress checkpoint: Line 75,100,000, Found 34,126,919 valid positions this session.\n"
     ]
    },
    {
     "name": "stderr",
     "output_type": "stream",
     "text": [
      "Processing positions: 75126334lines [9:08:50, 863.79lines/s] "
     ]
    },
    {
     "name": "stdout",
     "output_type": "stream",
     "text": [
      "\n",
      "✓ Previous chunk 1295 saved. Ledger updated.\n",
      "\n",
      "Submitting chunk 1296 (50000 positions) for asynchronous saving...\n",
      "  Chunk 1296 submitted. Main thread continues.\n",
      "  Total processed (optimistic): 64,900,000 positions\n",
      "  Progress: Line 75,126,243\n"
     ]
    },
    {
     "name": "stderr",
     "output_type": "stream",
     "text": [
      "Processing positions: 75183514lines [9:09:36, 883.67lines/s] "
     ]
    },
    {
     "name": "stdout",
     "output_type": "stream",
     "text": [
      "\n",
      "✓ Previous chunk 1296 saved. Ledger updated.\n",
      "\n",
      "Submitting chunk 1297 (50000 positions) for asynchronous saving...\n",
      "  Chunk 1297 submitted. Main thread continues.\n",
      "  Total processed (optimistic): 64,950,000 positions\n",
      "  Progress: Line 75,183,490\n"
     ]
    },
    {
     "name": "stderr",
     "output_type": "stream",
     "text": [
      "Processing positions: 75200217lines [9:09:51, 1206.23lines/s]"
     ]
    },
    {
     "name": "stdout",
     "output_type": "stream",
     "text": [
      "Progress checkpoint: Line 75,200,000, Found 34,214,783 valid positions this session.\n"
     ]
    },
    {
     "name": "stderr",
     "output_type": "stream",
     "text": [
      "Processing positions: 75239277lines [9:10:23, 777.07lines/s] "
     ]
    },
    {
     "name": "stdout",
     "output_type": "stream",
     "text": [
      "\n",
      "✓ Previous chunk 1297 saved. Ledger updated.\n",
      "\n",
      "Submitting chunk 1298 (50000 positions) for asynchronous saving...\n",
      "  Chunk 1298 submitted. Main thread continues.\n",
      "  Total processed (optimistic): 65,000,000 positions\n",
      "  Progress: Line 75,239,205\n"
     ]
    },
    {
     "name": "stderr",
     "output_type": "stream",
     "text": [
      "Processing positions: 75296053lines [9:11:08, 1198.77lines/s]"
     ]
    },
    {
     "name": "stdout",
     "output_type": "stream",
     "text": [
      "\n",
      "✓ Previous chunk 1298 saved. Ledger updated.\n",
      "\n",
      "Submitting chunk 1299 (50000 positions) for asynchronous saving...\n",
      "  Chunk 1299 submitted. Main thread continues.\n",
      "  Total processed (optimistic): 65,050,000 positions\n",
      "  Progress: Line 75,296,061\n"
     ]
    },
    {
     "name": "stderr",
     "output_type": "stream",
     "text": [
      "Processing positions: 75300116lines [9:11:12, 1174.20lines/s]"
     ]
    },
    {
     "name": "stdout",
     "output_type": "stream",
     "text": [
      "Progress checkpoint: Line 75,300,000, Found 34,303,568 valid positions this session.\n"
     ]
    },
    {
     "name": "stderr",
     "output_type": "stream",
     "text": [
      "Processing positions: 75352807lines [9:11:55, 877.02lines/s] "
     ]
    },
    {
     "name": "stdout",
     "output_type": "stream",
     "text": [
      "\n",
      "✓ Previous chunk 1299 saved. Ledger updated.\n",
      "\n",
      "Submitting chunk 1300 (50000 positions) for asynchronous saving...\n",
      "  Chunk 1300 submitted. Main thread continues.\n",
      "  Total processed (optimistic): 65,100,000 positions\n",
      "  Progress: Line 75,352,694\n"
     ]
    },
    {
     "name": "stderr",
     "output_type": "stream",
     "text": [
      "Processing positions: 75400173lines [9:12:34, 1148.35lines/s]"
     ]
    },
    {
     "name": "stdout",
     "output_type": "stream",
     "text": [
      "Progress checkpoint: Line 75,400,000, Found 34,392,097 valid positions this session.\n"
     ]
    },
    {
     "name": "stderr",
     "output_type": "stream",
     "text": [
      "Processing positions: 75408816lines [9:12:41, 838.56lines/s] "
     ]
    },
    {
     "name": "stdout",
     "output_type": "stream",
     "text": [
      "\n",
      "✓ Previous chunk 1300 saved. Ledger updated.\n",
      "\n",
      "Submitting chunk 1301 (50000 positions) for asynchronous saving...\n",
      "  Chunk 1301 submitted. Main thread continues.\n",
      "  Total processed (optimistic): 65,150,000 positions\n",
      "  Progress: Line 75,408,804\n"
     ]
    },
    {
     "name": "stderr",
     "output_type": "stream",
     "text": [
      "Processing positions: 75465755lines [9:13:28, 935.30lines/s] "
     ]
    },
    {
     "name": "stdout",
     "output_type": "stream",
     "text": [
      "\n",
      "✓ Previous chunk 1301 saved. Ledger updated.\n",
      "\n",
      "Submitting chunk 1302 (50000 positions) for asynchronous saving...\n",
      "  Chunk 1302 submitted. Main thread continues.\n",
      "  Total processed (optimistic): 65,200,000 positions\n",
      "  Progress: Line 75,465,748\n"
     ]
    },
    {
     "name": "stderr",
     "output_type": "stream",
     "text": [
      "Processing positions: 75500227lines [9:13:56, 1214.02lines/s]"
     ]
    },
    {
     "name": "stdout",
     "output_type": "stream",
     "text": [
      "Progress checkpoint: Line 75,500,000, Found 34,479,271 valid positions this session.\n"
     ]
    },
    {
     "name": "stderr",
     "output_type": "stream",
     "text": [
      "Processing positions: 75524050lines [9:14:15, 986.09lines/s] "
     ]
    },
    {
     "name": "stdout",
     "output_type": "stream",
     "text": [
      "\n",
      "✓ Previous chunk 1302 saved. Ledger updated.\n",
      "\n",
      "Submitting chunk 1303 (50000 positions) for asynchronous saving...\n",
      "  Chunk 1303 submitted. Main thread continues.\n",
      "  Total processed (optimistic): 65,250,000 positions\n",
      "  Progress: Line 75,523,999\n"
     ]
    },
    {
     "name": "stderr",
     "output_type": "stream",
     "text": [
      "Processing positions: 75581262lines [9:15:02, 797.34lines/s] "
     ]
    },
    {
     "name": "stdout",
     "output_type": "stream",
     "text": [
      "\n",
      "✓ Previous chunk 1303 saved. Ledger updated.\n",
      "\n",
      "Submitting chunk 1304 (50000 positions) for asynchronous saving...\n",
      "  Chunk 1304 submitted. Main thread continues.\n",
      "  Total processed (optimistic): 65,300,000 positions\n",
      "  Progress: Line 75,581,173\n"
     ]
    },
    {
     "name": "stderr",
     "output_type": "stream",
     "text": [
      "Processing positions: 75600152lines [9:15:17, 1292.66lines/s]"
     ]
    },
    {
     "name": "stdout",
     "output_type": "stream",
     "text": [
      "Progress checkpoint: Line 75,600,000, Found 34,566,452 valid positions this session.\n"
     ]
    },
    {
     "name": "stderr",
     "output_type": "stream",
     "text": [
      "Processing positions: 75638533lines [9:15:48, 917.97lines/s] "
     ]
    },
    {
     "name": "stdout",
     "output_type": "stream",
     "text": [
      "\n",
      "✓ Previous chunk 1304 saved. Ledger updated.\n",
      "\n",
      "Submitting chunk 1305 (50000 positions) for asynchronous saving...\n",
      "  Chunk 1305 submitted. Main thread continues.\n",
      "  Total processed (optimistic): 65,350,000 positions\n",
      "  Progress: Line 75,638,497\n"
     ]
    },
    {
     "name": "stderr",
     "output_type": "stream",
     "text": [
      "Processing positions: 75696354lines [9:16:35, 996.06lines/s] "
     ]
    },
    {
     "name": "stdout",
     "output_type": "stream",
     "text": [
      "\n",
      "✓ Previous chunk 1305 saved. Ledger updated.\n",
      "\n",
      "Submitting chunk 1306 (50000 positions) for asynchronous saving...\n",
      "  Chunk 1306 submitted. Main thread continues.\n",
      "  Total processed (optimistic): 65,400,000 positions\n",
      "  Progress: Line 75,696,318\n"
     ]
    },
    {
     "name": "stderr",
     "output_type": "stream",
     "text": [
      "Processing positions: 75700241lines [9:16:38, 1309.52lines/s]"
     ]
    },
    {
     "name": "stdout",
     "output_type": "stream",
     "text": [
      "Progress checkpoint: Line 75,700,000, Found 34,653,080 valid positions this session.\n"
     ]
    },
    {
     "name": "stderr",
     "output_type": "stream",
     "text": [
      "Processing positions: 75754514lines [9:17:22, 899.60lines/s] "
     ]
    },
    {
     "name": "stdout",
     "output_type": "stream",
     "text": [
      "\n",
      "✓ Previous chunk 1306 saved. Ledger updated.\n",
      "\n",
      "Submitting chunk 1307 (50000 positions) for asynchronous saving...\n",
      "  Chunk 1307 submitted. Main thread continues.\n",
      "  Total processed (optimistic): 65,450,000 positions\n",
      "  Progress: Line 75,754,498\n"
     ]
    },
    {
     "name": "stderr",
     "output_type": "stream",
     "text": [
      "Processing positions: 75800252lines [9:17:59, 1261.54lines/s]"
     ]
    },
    {
     "name": "stdout",
     "output_type": "stream",
     "text": [
      "Progress checkpoint: Line 75,800,000, Found 34,740,335 valid positions this session.\n"
     ]
    },
    {
     "name": "stderr",
     "output_type": "stream",
     "text": [
      "Processing positions: 75810787lines [9:18:08, 954.08lines/s] "
     ]
    },
    {
     "name": "stdout",
     "output_type": "stream",
     "text": [
      "\n",
      "✓ Previous chunk 1307 saved. Ledger updated.\n",
      "\n",
      "Submitting chunk 1308 (50000 positions) for asynchronous saving...\n",
      "  Chunk 1308 submitted. Main thread continues.\n",
      "  Total processed (optimistic): 65,500,000 positions\n",
      "  Progress: Line 75,810,747\n"
     ]
    },
    {
     "name": "stderr",
     "output_type": "stream",
     "text": [
      "Processing positions: 75867381lines [9:18:53, 965.96lines/s] "
     ]
    },
    {
     "name": "stdout",
     "output_type": "stream",
     "text": [
      "\n",
      "✓ Previous chunk 1308 saved. Ledger updated.\n",
      "\n",
      "Submitting chunk 1309 (50000 positions) for asynchronous saving...\n",
      "  Chunk 1309 submitted. Main thread continues.\n",
      "  Total processed (optimistic): 65,550,000 positions\n",
      "  Progress: Line 75,867,381\n"
     ]
    },
    {
     "name": "stderr",
     "output_type": "stream",
     "text": [
      "Processing positions: 75900158lines [9:19:20, 1179.72lines/s]"
     ]
    },
    {
     "name": "stdout",
     "output_type": "stream",
     "text": [
      "Progress checkpoint: Line 75,900,000, Found 34,828,999 valid positions this session.\n"
     ]
    },
    {
     "name": "stderr",
     "output_type": "stream",
     "text": [
      "Processing positions: 75923746lines [9:19:39, 913.25lines/s] "
     ]
    },
    {
     "name": "stdout",
     "output_type": "stream",
     "text": [
      "\n",
      "✓ Previous chunk 1309 saved. Ledger updated.\n",
      "\n",
      "Submitting chunk 1310 (50000 positions) for asynchronous saving...\n",
      "  Chunk 1310 submitted. Main thread continues.\n",
      "  Total processed (optimistic): 65,600,000 positions\n",
      "  Progress: Line 75,923,642\n"
     ]
    },
    {
     "name": "stderr",
     "output_type": "stream",
     "text": [
      "Processing positions: 75980441lines [9:20:26, 854.10lines/s] "
     ]
    },
    {
     "name": "stdout",
     "output_type": "stream",
     "text": [
      "\n",
      "✓ Previous chunk 1310 saved. Ledger updated.\n",
      "\n",
      "Submitting chunk 1311 (50000 positions) for asynchronous saving...\n",
      "  Chunk 1311 submitted. Main thread continues.\n",
      "  Total processed (optimistic): 65,650,000 positions\n",
      "  Progress: Line 75,980,380\n"
     ]
    },
    {
     "name": "stderr",
     "output_type": "stream",
     "text": [
      "Processing positions: 76000154lines [9:20:42, 1145.76lines/s]"
     ]
    },
    {
     "name": "stdout",
     "output_type": "stream",
     "text": [
      "Progress checkpoint: Line 76,000,000, Found 34,917,120 valid positions this session.\n"
     ]
    },
    {
     "name": "stderr",
     "output_type": "stream",
     "text": [
      "Processing positions: 76038159lines [9:21:13, 821.37lines/s] "
     ]
    },
    {
     "name": "stdout",
     "output_type": "stream",
     "text": [
      "\n",
      "✓ Previous chunk 1311 saved. Ledger updated.\n",
      "\n",
      "Submitting chunk 1312 (50000 positions) for asynchronous saving...\n",
      "  Chunk 1312 submitted. Main thread continues.\n",
      "  Total processed (optimistic): 65,700,000 positions\n",
      "  Progress: Line 76,038,098\n"
     ]
    },
    {
     "name": "stderr",
     "output_type": "stream",
     "text": [
      "Processing positions: 76096125lines [9:22:00, 856.55lines/s] "
     ]
    },
    {
     "name": "stdout",
     "output_type": "stream",
     "text": [
      "\n",
      "✓ Previous chunk 1312 saved. Ledger updated.\n",
      "\n",
      "Submitting chunk 1313 (50000 positions) for asynchronous saving...\n",
      "  Chunk 1313 submitted. Main thread continues.\n",
      "  Total processed (optimistic): 65,750,000 positions\n",
      "  Progress: Line 76,096,046\n"
     ]
    },
    {
     "name": "stderr",
     "output_type": "stream",
     "text": [
      "Processing positions: 76100172lines [9:22:03, 1192.17lines/s]"
     ]
    },
    {
     "name": "stdout",
     "output_type": "stream",
     "text": [
      "Progress checkpoint: Line 76,100,000, Found 35,003,410 valid positions this session.\n"
     ]
    },
    {
     "name": "stderr",
     "output_type": "stream",
     "text": [
      "Processing positions: 76152795lines [9:22:46, 913.55lines/s] "
     ]
    },
    {
     "name": "stdout",
     "output_type": "stream",
     "text": [
      "\n",
      "✓ Previous chunk 1313 saved. Ledger updated.\n",
      "\n",
      "Submitting chunk 1314 (50000 positions) for asynchronous saving...\n",
      "  Chunk 1314 submitted. Main thread continues.\n",
      "  Total processed (optimistic): 65,800,000 positions\n",
      "  Progress: Line 76,152,689\n"
     ]
    },
    {
     "name": "stderr",
     "output_type": "stream",
     "text": [
      "Processing positions: 76200194lines [9:23:24, 1208.33lines/s]"
     ]
    },
    {
     "name": "stdout",
     "output_type": "stream",
     "text": [
      "Progress checkpoint: Line 76,200,000, Found 35,090,762 valid positions this session.\n"
     ]
    },
    {
     "name": "stderr",
     "output_type": "stream",
     "text": [
      "Processing positions: 76210520lines [9:23:32, 924.80lines/s] "
     ]
    },
    {
     "name": "stdout",
     "output_type": "stream",
     "text": [
      "\n",
      "✓ Previous chunk 1314 saved. Ledger updated.\n",
      "\n",
      "Submitting chunk 1315 (50000 positions) for asynchronous saving...\n",
      "  Chunk 1315 submitted. Main thread continues.\n",
      "  Total processed (optimistic): 65,850,000 positions\n",
      "  Progress: Line 76,210,507\n"
     ]
    },
    {
     "name": "stderr",
     "output_type": "stream",
     "text": [
      "Processing positions: 76267511lines [9:24:19, 933.03lines/s] "
     ]
    },
    {
     "name": "stdout",
     "output_type": "stream",
     "text": [
      "\n",
      "✓ Previous chunk 1315 saved. Ledger updated.\n",
      "\n",
      "Submitting chunk 1316 (50000 positions) for asynchronous saving...\n",
      "  Chunk 1316 submitted. Main thread continues.\n",
      "  Total processed (optimistic): 65,900,000 positions\n",
      "  Progress: Line 76,267,436\n"
     ]
    },
    {
     "name": "stderr",
     "output_type": "stream",
     "text": [
      "Processing positions: 76300154lines [9:24:46, 1150.49lines/s]"
     ]
    },
    {
     "name": "stdout",
     "output_type": "stream",
     "text": [
      "Progress checkpoint: Line 76,300,000, Found 35,178,576 valid positions this session.\n"
     ]
    },
    {
     "name": "stderr",
     "output_type": "stream",
     "text": [
      "Processing positions: 76324604lines [9:25:05, 935.58lines/s] "
     ]
    },
    {
     "name": "stdout",
     "output_type": "stream",
     "text": [
      "\n",
      "✓ Previous chunk 1316 saved. Ledger updated.\n",
      "\n",
      "Submitting chunk 1317 (50000 positions) for asynchronous saving...\n",
      "  Chunk 1317 submitted. Main thread continues.\n",
      "  Total processed (optimistic): 65,950,000 positions\n",
      "  Progress: Line 76,324,546\n"
     ]
    },
    {
     "name": "stderr",
     "output_type": "stream",
     "text": [
      "Processing positions: 76381180lines [9:25:52, 909.16lines/s] "
     ]
    },
    {
     "name": "stdout",
     "output_type": "stream",
     "text": [
      "\n",
      "✓ Previous chunk 1317 saved. Ledger updated.\n",
      "\n",
      "Submitting chunk 1318 (50000 positions) for asynchronous saving...\n",
      "  Chunk 1318 submitted. Main thread continues.\n",
      "  Total processed (optimistic): 66,000,000 positions\n",
      "  Progress: Line 76,381,142\n"
     ]
    },
    {
     "name": "stderr",
     "output_type": "stream",
     "text": [
      "Processing positions: 76400150lines [9:26:08, 1218.11lines/s]"
     ]
    },
    {
     "name": "stdout",
     "output_type": "stream",
     "text": [
      "Progress checkpoint: Line 76,400,000, Found 35,266,752 valid positions this session.\n"
     ]
    },
    {
     "name": "stderr",
     "output_type": "stream",
     "text": [
      "Processing positions: 76438382lines [9:26:38, 926.61lines/s] "
     ]
    },
    {
     "name": "stdout",
     "output_type": "stream",
     "text": [
      "\n",
      "✓ Previous chunk 1318 saved. Ledger updated.\n",
      "\n",
      "Submitting chunk 1319 (50000 positions) for asynchronous saving...\n",
      "  Chunk 1319 submitted. Main thread continues.\n",
      "  Total processed (optimistic): 66,050,000 positions\n",
      "  Progress: Line 76,438,376\n"
     ]
    },
    {
     "name": "stderr",
     "output_type": "stream",
     "text": [
      "Processing positions: 76495275lines [9:27:24, 845.11lines/s] "
     ]
    },
    {
     "name": "stdout",
     "output_type": "stream",
     "text": [
      "\n",
      "✓ Previous chunk 1319 saved. Ledger updated.\n",
      "\n",
      "Submitting chunk 1320 (50000 positions) for asynchronous saving...\n",
      "  Chunk 1320 submitted. Main thread continues.\n",
      "  Total processed (optimistic): 66,100,000 positions\n",
      "  Progress: Line 76,495,208\n"
     ]
    },
    {
     "name": "stderr",
     "output_type": "stream",
     "text": [
      "Processing positions: 76500127lines [9:27:28, 1262.08lines/s]"
     ]
    },
    {
     "name": "stdout",
     "output_type": "stream",
     "text": [
      "Progress checkpoint: Line 76,500,000, Found 35,354,105 valid positions this session.\n"
     ]
    },
    {
     "name": "stderr",
     "output_type": "stream",
     "text": [
      "Processing positions: 76552779lines [9:28:10, 955.41lines/s] "
     ]
    },
    {
     "name": "stdout",
     "output_type": "stream",
     "text": [
      "\n",
      "✓ Previous chunk 1320 saved. Ledger updated.\n",
      "\n",
      "Submitting chunk 1321 (50000 positions) for asynchronous saving...\n",
      "  Chunk 1321 submitted. Main thread continues.\n",
      "  Total processed (optimistic): 66,150,000 positions\n",
      "  Progress: Line 76,552,757\n"
     ]
    },
    {
     "name": "stderr",
     "output_type": "stream",
     "text": [
      "Processing positions: 76600241lines [9:28:48, 1432.82lines/s]"
     ]
    },
    {
     "name": "stdout",
     "output_type": "stream",
     "text": [
      "Progress checkpoint: Line 76,600,000, Found 35,440,304 valid positions this session.\n"
     ]
    },
    {
     "name": "stderr",
     "output_type": "stream",
     "text": [
      "Processing positions: 76611615lines [9:28:57, 846.16lines/s] "
     ]
    },
    {
     "name": "stdout",
     "output_type": "stream",
     "text": [
      "\n",
      "✓ Previous chunk 1321 saved. Ledger updated.\n",
      "\n",
      "Submitting chunk 1322 (50000 positions) for asynchronous saving...\n",
      "  Chunk 1322 submitted. Main thread continues.\n",
      "  Total processed (optimistic): 66,200,000 positions\n",
      "  Progress: Line 76,611,538\n"
     ]
    },
    {
     "name": "stderr",
     "output_type": "stream",
     "text": [
      "Processing positions: 76668931lines [9:29:44, 916.32lines/s] "
     ]
    },
    {
     "name": "stdout",
     "output_type": "stream",
     "text": [
      "\n",
      "✓ Previous chunk 1322 saved. Ledger updated.\n",
      "\n",
      "Submitting chunk 1323 (50000 positions) for asynchronous saving...\n",
      "  Chunk 1323 submitted. Main thread continues.\n",
      "  Total processed (optimistic): 66,250,000 positions\n",
      "  Progress: Line 76,668,910\n"
     ]
    },
    {
     "name": "stderr",
     "output_type": "stream",
     "text": [
      "Processing positions: 76700257lines [9:30:09, 1347.78lines/s]"
     ]
    },
    {
     "name": "stdout",
     "output_type": "stream",
     "text": [
      "Progress checkpoint: Line 76,700,000, Found 35,526,873 valid positions this session.\n"
     ]
    },
    {
     "name": "stderr",
     "output_type": "stream",
     "text": [
      "Processing positions: 76726597lines [9:30:31, 854.10lines/s] "
     ]
    },
    {
     "name": "stdout",
     "output_type": "stream",
     "text": [
      "\n",
      "✓ Previous chunk 1323 saved. Ledger updated.\n",
      "\n",
      "Submitting chunk 1324 (50000 positions) for asynchronous saving...\n",
      "  Chunk 1324 submitted. Main thread continues.\n",
      "  Total processed (optimistic): 66,300,000 positions\n",
      "  Progress: Line 76,726,500\n"
     ]
    },
    {
     "name": "stderr",
     "output_type": "stream",
     "text": [
      "Processing positions: 76784122lines [9:31:17, 909.05lines/s] "
     ]
    },
    {
     "name": "stdout",
     "output_type": "stream",
     "text": [
      "\n",
      "✓ Previous chunk 1324 saved. Ledger updated.\n",
      "\n",
      "Submitting chunk 1325 (50000 positions) for asynchronous saving...\n",
      "  Chunk 1325 submitted. Main thread continues.\n",
      "  Total processed (optimistic): 66,350,000 positions\n",
      "  Progress: Line 76,784,110\n"
     ]
    },
    {
     "name": "stderr",
     "output_type": "stream",
     "text": [
      "Processing positions: 76800166lines [9:31:31, 1185.53lines/s]"
     ]
    },
    {
     "name": "stdout",
     "output_type": "stream",
     "text": [
      "Progress checkpoint: Line 76,800,000, Found 35,614,018 valid positions this session.\n"
     ]
    },
    {
     "name": "stderr",
     "output_type": "stream",
     "text": [
      "Processing positions: 76842302lines [9:32:04, 920.96lines/s] "
     ]
    },
    {
     "name": "stdout",
     "output_type": "stream",
     "text": [
      "\n",
      "✓ Previous chunk 1325 saved. Ledger updated.\n",
      "\n",
      "Submitting chunk 1326 (50000 positions) for asynchronous saving...\n",
      "  Chunk 1326 submitted. Main thread continues.\n",
      "  Total processed (optimistic): 66,400,000 positions\n",
      "  Progress: Line 76,842,276\n"
     ]
    },
    {
     "name": "stderr",
     "output_type": "stream",
     "text": [
      "Processing positions: 76899801lines [9:32:51, 1264.60lines/s]"
     ]
    },
    {
     "name": "stdout",
     "output_type": "stream",
     "text": [
      "\n",
      "✓ Previous chunk 1326 saved. Ledger updated.\n",
      "\n",
      "Submitting chunk 1327 (50000 positions) for asynchronous saving...\n",
      "  Chunk 1327 submitted. Main thread continues.\n",
      "  Total processed (optimistic): 66,450,000 positions\n",
      "  Progress: Line 76,899,819\n"
     ]
    },
    {
     "name": "stderr",
     "output_type": "stream",
     "text": [
      "Processing positions: 76900127lines [9:32:51, 821.70lines/s] "
     ]
    },
    {
     "name": "stdout",
     "output_type": "stream",
     "text": [
      "Progress checkpoint: Line 76,900,000, Found 35,700,155 valid positions this session.\n"
     ]
    },
    {
     "name": "stderr",
     "output_type": "stream",
     "text": [
      "Processing positions: 76957097lines [9:33:36, 971.27lines/s] "
     ]
    },
    {
     "name": "stdout",
     "output_type": "stream",
     "text": [
      "\n",
      "✓ Previous chunk 1327 saved. Ledger updated.\n",
      "\n",
      "Submitting chunk 1328 (50000 positions) for asynchronous saving...\n",
      "  Chunk 1328 submitted. Main thread continues.\n",
      "  Total processed (optimistic): 66,500,000 positions\n",
      "  Progress: Line 76,957,080\n"
     ]
    },
    {
     "name": "stderr",
     "output_type": "stream",
     "text": [
      "Processing positions: 77000216lines [9:34:12, 1315.33lines/s]"
     ]
    },
    {
     "name": "stdout",
     "output_type": "stream",
     "text": [
      "Progress checkpoint: Line 77,000,000, Found 35,787,761 valid positions this session.\n"
     ]
    },
    {
     "name": "stderr",
     "output_type": "stream",
     "text": [
      "Processing positions: 77013577lines [9:34:23, 1141.35lines/s]"
     ]
    },
    {
     "name": "stdout",
     "output_type": "stream",
     "text": [
      "\n",
      "✓ Previous chunk 1328 saved. Ledger updated.\n",
      "\n",
      "Submitting chunk 1329 (50000 positions) for asynchronous saving...\n",
      "  Chunk 1329 submitted. Main thread continues.\n",
      "  Total processed (optimistic): 66,550,000 positions\n",
      "  Progress: Line 77,013,580\n"
     ]
    },
    {
     "name": "stderr",
     "output_type": "stream",
     "text": [
      "Processing positions: 77069795lines [9:35:10, 893.58lines/s] "
     ]
    },
    {
     "name": "stdout",
     "output_type": "stream",
     "text": [
      "\n",
      "✓ Previous chunk 1329 saved. Ledger updated.\n",
      "\n",
      "Submitting chunk 1330 (50000 positions) for asynchronous saving...\n",
      "  Chunk 1330 submitted. Main thread continues.\n",
      "  Total processed (optimistic): 66,600,000 positions\n",
      "  Progress: Line 77,069,766\n"
     ]
    },
    {
     "name": "stderr",
     "output_type": "stream",
     "text": [
      "Processing positions: 77100146lines [9:35:35, 1145.70lines/s]"
     ]
    },
    {
     "name": "stdout",
     "output_type": "stream",
     "text": [
      "Progress checkpoint: Line 77,100,000, Found 35,876,663 valid positions this session.\n"
     ]
    },
    {
     "name": "stderr",
     "output_type": "stream",
     "text": [
      "Processing positions: 77127176lines [9:35:56, 1284.42lines/s]"
     ]
    },
    {
     "name": "stdout",
     "output_type": "stream",
     "text": [
      "\n",
      "✓ Previous chunk 1330 saved. Ledger updated.\n",
      "\n",
      "Submitting chunk 1331 (50000 positions) for asynchronous saving...\n",
      "  Chunk 1331 submitted. Main thread continues.\n",
      "  Total processed (optimistic): 66,650,000 positions\n",
      "  Progress: Line 77,127,192\n"
     ]
    },
    {
     "name": "stderr",
     "output_type": "stream",
     "text": [
      "Processing positions: 77184579lines [9:36:44, 904.46lines/s] "
     ]
    },
    {
     "name": "stdout",
     "output_type": "stream",
     "text": [
      "\n",
      "✓ Previous chunk 1331 saved. Ledger updated.\n",
      "\n",
      "Submitting chunk 1332 (50000 positions) for asynchronous saving...\n",
      "  Chunk 1332 submitted. Main thread continues.\n",
      "  Total processed (optimistic): 66,700,000 positions\n",
      "  Progress: Line 77,184,544\n"
     ]
    },
    {
     "name": "stderr",
     "output_type": "stream",
     "text": [
      "Processing positions: 77200136lines [9:36:56, 1296.46lines/s]"
     ]
    },
    {
     "name": "stdout",
     "output_type": "stream",
     "text": [
      "Progress checkpoint: Line 77,200,000, Found 35,963,139 valid positions this session.\n"
     ]
    },
    {
     "name": "stderr",
     "output_type": "stream",
     "text": [
      "Processing positions: 77242265lines [9:37:31, 898.84lines/s] "
     ]
    },
    {
     "name": "stdout",
     "output_type": "stream",
     "text": [
      "\n",
      "✓ Previous chunk 1332 saved. Ledger updated.\n",
      "\n",
      "Submitting chunk 1333 (50000 positions) for asynchronous saving...\n",
      "  Chunk 1333 submitted. Main thread continues.\n",
      "  Total processed (optimistic): 66,750,000 positions\n",
      "  Progress: Line 77,242,159\n"
     ]
    },
    {
     "name": "stderr",
     "output_type": "stream",
     "text": [
      "Processing positions: 77298155lines [9:38:17, 861.48lines/s] "
     ]
    },
    {
     "name": "stdout",
     "output_type": "stream",
     "text": [
      "\n",
      "✓ Previous chunk 1333 saved. Ledger updated.\n",
      "\n",
      "Submitting chunk 1334 (50000 positions) for asynchronous saving...\n",
      "  Chunk 1334 submitted. Main thread continues.\n",
      "  Total processed (optimistic): 66,800,000 positions\n",
      "  Progress: Line 77,298,117\n"
     ]
    },
    {
     "name": "stderr",
     "output_type": "stream",
     "text": [
      "Processing positions: 77300191lines [9:38:19, 1110.34lines/s]"
     ]
    },
    {
     "name": "stdout",
     "output_type": "stream",
     "text": [
      "Progress checkpoint: Line 77,300,000, Found 36,051,694 valid positions this session.\n"
     ]
    },
    {
     "name": "stderr",
     "output_type": "stream",
     "text": [
      "Processing positions: 77355414lines [9:39:04, 918.98lines/s] "
     ]
    },
    {
     "name": "stdout",
     "output_type": "stream",
     "text": [
      "\n",
      "✓ Previous chunk 1334 saved. Ledger updated.\n",
      "\n",
      "Submitting chunk 1335 (50000 positions) for asynchronous saving...\n",
      "  Chunk 1335 submitted. Main thread continues.\n",
      "  Total processed (optimistic): 66,850,000 positions\n",
      "  Progress: Line 77,355,347\n"
     ]
    },
    {
     "name": "stderr",
     "output_type": "stream",
     "text": [
      "Processing positions: 77400160lines [9:39:40, 1156.87lines/s]"
     ]
    },
    {
     "name": "stdout",
     "output_type": "stream",
     "text": [
      "Progress checkpoint: Line 77,400,000, Found 36,138,678 valid positions this session.\n"
     ]
    },
    {
     "name": "stderr",
     "output_type": "stream",
     "text": [
      "Processing positions: 77412779lines [9:39:51, 970.83lines/s] "
     ]
    },
    {
     "name": "stdout",
     "output_type": "stream",
     "text": [
      "\n",
      "✓ Previous chunk 1335 saved. Ledger updated.\n",
      "\n",
      "Submitting chunk 1336 (50000 positions) for asynchronous saving...\n",
      "  Chunk 1336 submitted. Main thread continues.\n",
      "  Total processed (optimistic): 66,900,000 positions\n",
      "  Progress: Line 77,412,777\n"
     ]
    },
    {
     "name": "stderr",
     "output_type": "stream",
     "text": [
      "Processing positions: 77469044lines [9:40:38, 929.29lines/s] "
     ]
    },
    {
     "name": "stdout",
     "output_type": "stream",
     "text": [
      "\n",
      "✓ Previous chunk 1336 saved. Ledger updated.\n",
      "\n",
      "Submitting chunk 1337 (50000 positions) for asynchronous saving...\n",
      "  Chunk 1337 submitted. Main thread continues.\n",
      "  Total processed (optimistic): 66,950,000 positions\n",
      "  Progress: Line 77,468,992\n"
     ]
    },
    {
     "name": "stderr",
     "output_type": "stream",
     "text": [
      "Processing positions: 77500190lines [9:41:03, 1260.08lines/s]"
     ]
    },
    {
     "name": "stdout",
     "output_type": "stream",
     "text": [
      "Progress checkpoint: Line 77,500,000, Found 36,227,670 valid positions this session.\n"
     ]
    },
    {
     "name": "stderr",
     "output_type": "stream",
     "text": [
      "Processing positions: 77525022lines [9:41:22, 1282.75lines/s]"
     ]
    },
    {
     "name": "stdout",
     "output_type": "stream",
     "text": [
      "\n",
      "✓ Previous chunk 1337 saved. Ledger updated.\n",
      "\n",
      "Submitting chunk 1338 (50000 positions) for asynchronous saving...\n",
      "  Chunk 1338 submitted. Main thread continues.\n",
      "  Total processed (optimistic): 67,000,000 positions\n",
      "  Progress: Line 77,525,034\n"
     ]
    },
    {
     "name": "stderr",
     "output_type": "stream",
     "text": [
      "Processing positions: 77581654lines [9:42:08, 1227.74lines/s]"
     ]
    },
    {
     "name": "stdout",
     "output_type": "stream",
     "text": [
      "\n",
      "✓ Previous chunk 1338 saved. Ledger updated.\n",
      "\n",
      "Submitting chunk 1339 (50000 positions) for asynchronous saving...\n",
      "  Chunk 1339 submitted. Main thread continues.\n",
      "  Total processed (optimistic): 67,050,000 positions\n",
      "  Progress: Line 77,581,661\n"
     ]
    },
    {
     "name": "stderr",
     "output_type": "stream",
     "text": [
      "Processing positions: 77600202lines [9:42:24, 1198.06lines/s]"
     ]
    },
    {
     "name": "stdout",
     "output_type": "stream",
     "text": [
      "Progress checkpoint: Line 77,600,000, Found 36,316,372 valid positions this session.\n"
     ]
    },
    {
     "name": "stderr",
     "output_type": "stream",
     "text": [
      "Processing positions: 77638252lines [9:42:55, 843.07lines/s] "
     ]
    },
    {
     "name": "stdout",
     "output_type": "stream",
     "text": [
      "\n",
      "✓ Previous chunk 1339 saved. Ledger updated.\n",
      "\n",
      "Submitting chunk 1340 (50000 positions) for asynchronous saving...\n",
      "  Chunk 1340 submitted. Main thread continues.\n",
      "  Total processed (optimistic): 67,100,000 positions\n",
      "  Progress: Line 77,638,183\n"
     ]
    },
    {
     "name": "stderr",
     "output_type": "stream",
     "text": [
      "Processing positions: 77695856lines [9:43:42, 979.06lines/s] "
     ]
    },
    {
     "name": "stdout",
     "output_type": "stream",
     "text": [
      "\n",
      "✓ Previous chunk 1340 saved. Ledger updated.\n",
      "\n",
      "Submitting chunk 1341 (50000 positions) for asynchronous saving...\n",
      "  Chunk 1341 submitted. Main thread continues.\n",
      "  Total processed (optimistic): 67,150,000 positions\n",
      "  Progress: Line 77,695,854\n"
     ]
    },
    {
     "name": "stderr",
     "output_type": "stream",
     "text": [
      "Processing positions: 77700165lines [9:43:46, 1166.68lines/s]"
     ]
    },
    {
     "name": "stdout",
     "output_type": "stream",
     "text": [
      "Progress checkpoint: Line 77,700,000, Found 36,403,724 valid positions this session.\n"
     ]
    },
    {
     "name": "stderr",
     "output_type": "stream",
     "text": [
      "Processing positions: 77753998lines [9:44:28, 1301.65lines/s]"
     ]
    },
    {
     "name": "stdout",
     "output_type": "stream",
     "text": [
      "\n",
      "✓ Previous chunk 1341 saved. Ledger updated.\n",
      "\n",
      "Submitting chunk 1342 (50000 positions) for asynchronous saving...\n",
      "  Chunk 1342 submitted. Main thread continues.\n",
      "  Total processed (optimistic): 67,200,000 positions\n",
      "  Progress: Line 77,754,041\n"
     ]
    },
    {
     "name": "stderr",
     "output_type": "stream",
     "text": [
      "Processing positions: 77800173lines [9:45:06, 1171.16lines/s]"
     ]
    },
    {
     "name": "stdout",
     "output_type": "stream",
     "text": [
      "Progress checkpoint: Line 77,800,000, Found 36,489,782 valid positions this session.\n"
     ]
    },
    {
     "name": "stderr",
     "output_type": "stream",
     "text": [
      "Processing positions: 77811591lines [9:45:16, 878.13lines/s] "
     ]
    },
    {
     "name": "stdout",
     "output_type": "stream",
     "text": [
      "\n",
      "✓ Previous chunk 1342 saved. Ledger updated.\n",
      "\n",
      "Submitting chunk 1343 (50000 positions) for asynchronous saving...\n",
      "  Chunk 1343 submitted. Main thread continues.\n",
      "  Total processed (optimistic): 67,250,000 positions\n",
      "  Progress: Line 77,811,562\n"
     ]
    },
    {
     "name": "stderr",
     "output_type": "stream",
     "text": [
      "Processing positions: 77867991lines [9:46:02, 865.13lines/s] "
     ]
    },
    {
     "name": "stdout",
     "output_type": "stream",
     "text": [
      "\n",
      "✓ Previous chunk 1343 saved. Ledger updated.\n",
      "\n",
      "Submitting chunk 1344 (50000 positions) for asynchronous saving...\n",
      "  Chunk 1344 submitted. Main thread continues.\n",
      "  Total processed (optimistic): 67,300,000 positions\n",
      "  Progress: Line 77,867,915\n"
     ]
    },
    {
     "name": "stderr",
     "output_type": "stream",
     "text": [
      "Processing positions: 77900142lines [9:46:29, 1243.65lines/s]"
     ]
    },
    {
     "name": "stdout",
     "output_type": "stream",
     "text": [
      "Progress checkpoint: Line 77,900,000, Found 36,578,540 valid positions this session.\n"
     ]
    },
    {
     "name": "stderr",
     "output_type": "stream",
     "text": [
      "Processing positions: 77924772lines [9:46:49, 897.27lines/s] "
     ]
    },
    {
     "name": "stdout",
     "output_type": "stream",
     "text": [
      "\n",
      "✓ Previous chunk 1344 saved. Ledger updated.\n",
      "\n",
      "Submitting chunk 1345 (50000 positions) for asynchronous saving...\n",
      "  Chunk 1345 submitted. Main thread continues.\n",
      "  Total processed (optimistic): 67,350,000 positions\n",
      "  Progress: Line 77,924,722\n"
     ]
    },
    {
     "name": "stderr",
     "output_type": "stream",
     "text": [
      "Processing positions: 77980643lines [9:47:37, 864.59lines/s] "
     ]
    },
    {
     "name": "stdout",
     "output_type": "stream",
     "text": [
      "\n",
      "✓ Previous chunk 1345 saved. Ledger updated.\n",
      "\n",
      "Submitting chunk 1346 (50000 positions) for asynchronous saving...\n",
      "  Chunk 1346 submitted. Main thread continues.\n",
      "  Total processed (optimistic): 67,400,000 positions\n",
      "  Progress: Line 77,980,616\n"
     ]
    },
    {
     "name": "stderr",
     "output_type": "stream",
     "text": [
      "Processing positions: 78000217lines [9:47:53, 1156.03lines/s]"
     ]
    },
    {
     "name": "stdout",
     "output_type": "stream",
     "text": [
      "Progress checkpoint: Line 78,000,000, Found 36,667,211 valid positions this session.\n"
     ]
    },
    {
     "name": "stderr",
     "output_type": "stream",
     "text": [
      "Processing positions: 78036779lines [9:48:23, 986.62lines/s] "
     ]
    },
    {
     "name": "stdout",
     "output_type": "stream",
     "text": [
      "\n",
      "✓ Previous chunk 1346 saved. Ledger updated.\n",
      "\n",
      "Submitting chunk 1347 (50000 positions) for asynchronous saving...\n",
      "  Chunk 1347 submitted. Main thread continues.\n",
      "  Total processed (optimistic): 67,450,000 positions\n",
      "  Progress: Line 78,036,779\n"
     ]
    },
    {
     "name": "stderr",
     "output_type": "stream",
     "text": [
      "Processing positions: 78093634lines [9:49:08, 910.18lines/s] "
     ]
    },
    {
     "name": "stdout",
     "output_type": "stream",
     "text": [
      "\n",
      "✓ Previous chunk 1347 saved. Ledger updated.\n",
      "\n",
      "Submitting chunk 1348 (50000 positions) for asynchronous saving...\n",
      "  Chunk 1348 submitted. Main thread continues.\n",
      "  Total processed (optimistic): 67,500,000 positions\n",
      "  Progress: Line 78,093,528\n"
     ]
    },
    {
     "name": "stderr",
     "output_type": "stream",
     "text": [
      "Processing positions: 78100150lines [9:49:14, 1136.85lines/s]"
     ]
    },
    {
     "name": "stdout",
     "output_type": "stream",
     "text": [
      "Progress checkpoint: Line 78,100,000, Found 36,755,759 valid positions this session.\n"
     ]
    },
    {
     "name": "stderr",
     "output_type": "stream",
     "text": [
      "Processing positions: 78150452lines [9:49:54, 910.12lines/s] "
     ]
    },
    {
     "name": "stdout",
     "output_type": "stream",
     "text": [
      "\n",
      "✓ Previous chunk 1348 saved. Ledger updated.\n",
      "\n",
      "Submitting chunk 1349 (50000 positions) for asynchronous saving...\n",
      "  Chunk 1349 submitted. Main thread continues.\n",
      "  Total processed (optimistic): 67,550,000 positions\n",
      "  Progress: Line 78,150,389\n"
     ]
    },
    {
     "name": "stderr",
     "output_type": "stream",
     "text": [
      "Processing positions: 78200205lines [9:50:36, 1247.84lines/s]"
     ]
    },
    {
     "name": "stdout",
     "output_type": "stream",
     "text": [
      "Progress checkpoint: Line 78,200,000, Found 36,844,100 valid positions this session.\n"
     ]
    },
    {
     "name": "stderr",
     "output_type": "stream",
     "text": [
      "Processing positions: 78206791lines [9:50:41, 904.44lines/s] "
     ]
    },
    {
     "name": "stdout",
     "output_type": "stream",
     "text": [
      "\n",
      "✓ Previous chunk 1349 saved. Ledger updated.\n",
      "\n",
      "Submitting chunk 1350 (50000 positions) for asynchronous saving...\n",
      "  Chunk 1350 submitted. Main thread continues.\n",
      "  Total processed (optimistic): 67,600,000 positions\n",
      "  Progress: Line 78,206,709\n"
     ]
    },
    {
     "name": "stderr",
     "output_type": "stream",
     "text": [
      "Processing positions: 78265400lines [9:51:28, 950.40lines/s] "
     ]
    },
    {
     "name": "stdout",
     "output_type": "stream",
     "text": [
      "\n",
      "✓ Previous chunk 1350 saved. Ledger updated.\n",
      "\n",
      "Submitting chunk 1351 (50000 positions) for asynchronous saving...\n",
      "  Chunk 1351 submitted. Main thread continues.\n",
      "  Total processed (optimistic): 67,650,000 positions\n",
      "  Progress: Line 78,265,266\n"
     ]
    },
    {
     "name": "stderr",
     "output_type": "stream",
     "text": [
      "Processing positions: 78300196lines [9:51:56, 1166.57lines/s]"
     ]
    },
    {
     "name": "stdout",
     "output_type": "stream",
     "text": [
      "Progress checkpoint: Line 78,300,000, Found 36,929,858 valid positions this session.\n"
     ]
    },
    {
     "name": "stderr",
     "output_type": "stream",
     "text": [
      "Processing positions: 78323448lines [9:52:15, 882.56lines/s] "
     ]
    },
    {
     "name": "stdout",
     "output_type": "stream",
     "text": [
      "\n",
      "✓ Previous chunk 1351 saved. Ledger updated.\n",
      "\n",
      "Submitting chunk 1352 (50000 positions) for asynchronous saving...\n",
      "  Chunk 1352 submitted. Main thread continues.\n",
      "  Total processed (optimistic): 67,700,000 positions\n",
      "  Progress: Line 78,323,336\n"
     ]
    },
    {
     "name": "stderr",
     "output_type": "stream",
     "text": [
      "Processing positions: 78379790lines [9:53:02, 907.40lines/s] "
     ]
    },
    {
     "name": "stdout",
     "output_type": "stream",
     "text": [
      "\n",
      "✓ Previous chunk 1352 saved. Ledger updated.\n",
      "\n",
      "Submitting chunk 1353 (50000 positions) for asynchronous saving...\n",
      "  Chunk 1353 submitted. Main thread continues.\n",
      "  Total processed (optimistic): 67,750,000 positions\n",
      "  Progress: Line 78,379,750\n"
     ]
    },
    {
     "name": "stderr",
     "output_type": "stream",
     "text": [
      "Processing positions: 78400173lines [9:53:19, 1174.73lines/s]"
     ]
    },
    {
     "name": "stdout",
     "output_type": "stream",
     "text": [
      "Progress checkpoint: Line 78,400,000, Found 37,017,962 valid positions this session.\n"
     ]
    },
    {
     "name": "stderr",
     "output_type": "stream",
     "text": [
      "Processing positions: 78435886lines [9:53:48, 924.61lines/s] "
     ]
    },
    {
     "name": "stdout",
     "output_type": "stream",
     "text": [
      "\n",
      "✓ Previous chunk 1353 saved. Ledger updated.\n",
      "\n",
      "Submitting chunk 1354 (50000 positions) for asynchronous saving...\n",
      "  Chunk 1354 submitted. Main thread continues.\n",
      "  Total processed (optimistic): 67,800,000 positions\n",
      "  Progress: Line 78,435,859\n"
     ]
    },
    {
     "name": "stderr",
     "output_type": "stream",
     "text": [
      "Processing positions: 78493423lines [9:54:35, 856.05lines/s] "
     ]
    },
    {
     "name": "stdout",
     "output_type": "stream",
     "text": [
      "\n",
      "✓ Previous chunk 1354 saved. Ledger updated.\n",
      "\n",
      "Submitting chunk 1355 (50000 positions) for asynchronous saving...\n",
      "  Chunk 1355 submitted. Main thread continues.\n",
      "  Total processed (optimistic): 67,850,000 positions\n",
      "  Progress: Line 78,493,366\n"
     ]
    },
    {
     "name": "stderr",
     "output_type": "stream",
     "text": [
      "Processing positions: 78500152lines [9:54:41, 1265.06lines/s]"
     ]
    },
    {
     "name": "stdout",
     "output_type": "stream",
     "text": [
      "Progress checkpoint: Line 78,500,000, Found 37,105,659 valid positions this session.\n"
     ]
    },
    {
     "name": "stderr",
     "output_type": "stream",
     "text": [
      "Processing positions: 78550068lines [9:55:22, 836.51lines/s] "
     ]
    },
    {
     "name": "stdout",
     "output_type": "stream",
     "text": [
      "\n",
      "✓ Previous chunk 1355 saved. Ledger updated.\n",
      "\n",
      "Submitting chunk 1356 (50000 positions) for asynchronous saving...\n",
      "  Chunk 1356 submitted. Main thread continues.\n",
      "  Total processed (optimistic): 67,900,000 positions\n",
      "  Progress: Line 78,550,007\n"
     ]
    },
    {
     "name": "stderr",
     "output_type": "stream",
     "text": [
      "Processing positions: 78600151lines [9:56:03, 1261.12lines/s]"
     ]
    },
    {
     "name": "stdout",
     "output_type": "stream",
     "text": [
      "Progress checkpoint: Line 78,600,000, Found 37,194,096 valid positions this session.\n"
     ]
    },
    {
     "name": "stderr",
     "output_type": "stream",
     "text": [
      "Processing positions: 78606833lines [9:56:08, 818.07lines/s] "
     ]
    },
    {
     "name": "stdout",
     "output_type": "stream",
     "text": [
      "\n",
      "✓ Previous chunk 1356 saved. Ledger updated.\n",
      "\n",
      "Submitting chunk 1357 (50000 positions) for asynchronous saving...\n",
      "  Chunk 1357 submitted. Main thread continues.\n",
      "  Total processed (optimistic): 67,950,000 positions\n",
      "  Progress: Line 78,606,728\n"
     ]
    },
    {
     "name": "stderr",
     "output_type": "stream",
     "text": [
      "Processing positions: 78662694lines [9:56:53, 827.19lines/s] "
     ]
    },
    {
     "name": "stdout",
     "output_type": "stream",
     "text": [
      "\n",
      "✓ Previous chunk 1357 saved. Ledger updated.\n",
      "\n",
      "Submitting chunk 1358 (50000 positions) for asynchronous saving...\n",
      "  Chunk 1358 submitted. Main thread continues.\n",
      "  Total processed (optimistic): 68,000,000 positions\n",
      "  Progress: Line 78,662,625\n"
     ]
    },
    {
     "name": "stderr",
     "output_type": "stream",
     "text": [
      "Processing positions: 78700151lines [9:57:24, 1174.52lines/s]"
     ]
    },
    {
     "name": "stdout",
     "output_type": "stream",
     "text": [
      "Progress checkpoint: Line 78,700,000, Found 37,283,346 valid positions this session.\n"
     ]
    },
    {
     "name": "stderr",
     "output_type": "stream",
     "text": [
      "Processing positions: 78718536lines [9:57:39, 1277.81lines/s]"
     ]
    },
    {
     "name": "stdout",
     "output_type": "stream",
     "text": [
      "\n",
      "✓ Previous chunk 1358 saved. Ledger updated.\n",
      "\n",
      "Submitting chunk 1359 (50000 positions) for asynchronous saving...\n",
      "  Chunk 1359 submitted. Main thread continues.\n",
      "  Total processed (optimistic): 68,050,000 positions\n",
      "  Progress: Line 78,718,562\n"
     ]
    },
    {
     "name": "stderr",
     "output_type": "stream",
     "text": [
      "Processing positions: 78773955lines [9:58:26, 1193.76lines/s]"
     ]
    },
    {
     "name": "stdout",
     "output_type": "stream",
     "text": [
      "\n",
      "✓ Previous chunk 1359 saved. Ledger updated.\n",
      "\n",
      "Submitting chunk 1360 (50000 positions) for asynchronous saving...\n",
      "  Chunk 1360 submitted. Main thread continues.\n",
      "  Total processed (optimistic): 68,100,000 positions\n",
      "  Progress: Line 78,773,966\n"
     ]
    },
    {
     "name": "stderr",
     "output_type": "stream",
     "text": [
      "Processing positions: 78800178lines [9:58:48, 1207.82lines/s]"
     ]
    },
    {
     "name": "stdout",
     "output_type": "stream",
     "text": [
      "Progress checkpoint: Line 78,800,000, Found 37,373,111 valid positions this session.\n"
     ]
    },
    {
     "name": "stderr",
     "output_type": "stream",
     "text": [
      "Processing positions: 78831209lines [9:59:13, 1205.95lines/s]"
     ]
    },
    {
     "name": "stdout",
     "output_type": "stream",
     "text": [
      "\n",
      "✓ Previous chunk 1360 saved. Ledger updated.\n",
      "\n",
      "Submitting chunk 1361 (50000 positions) for asynchronous saving...\n",
      "  Chunk 1361 submitted. Main thread continues.\n",
      "  Total processed (optimistic): 68,150,000 positions\n",
      "  Progress: Line 78,831,218\n"
     ]
    },
    {
     "name": "stderr",
     "output_type": "stream",
     "text": [
      "Processing positions: 78889911lines [10:00:00, 954.44lines/s]"
     ]
    },
    {
     "name": "stdout",
     "output_type": "stream",
     "text": [
      "\n",
      "✓ Previous chunk 1361 saved. Ledger updated.\n",
      "\n",
      "Submitting chunk 1362 (50000 positions) for asynchronous saving...\n",
      "  Chunk 1362 submitted. Main thread continues.\n",
      "  Total processed (optimistic): 68,200,000 positions\n",
      "  Progress: Line 78,889,888\n"
     ]
    },
    {
     "name": "stderr",
     "output_type": "stream",
     "text": [
      "Processing positions: 78900141lines [10:00:08, 1270.68lines/s]"
     ]
    },
    {
     "name": "stdout",
     "output_type": "stream",
     "text": [
      "Progress checkpoint: Line 78,900,000, Found 37,458,832 valid positions this session.\n"
     ]
    },
    {
     "name": "stderr",
     "output_type": "stream",
     "text": [
      "Processing positions: 78947091lines [10:00:46, 977.96lines/s] "
     ]
    },
    {
     "name": "stdout",
     "output_type": "stream",
     "text": [
      "\n",
      "✓ Previous chunk 1362 saved. Ledger updated.\n",
      "\n",
      "Submitting chunk 1363 (50000 positions) for asynchronous saving...\n",
      "  Chunk 1363 submitted. Main thread continues.\n",
      "  Total processed (optimistic): 68,250,000 positions\n",
      "  Progress: Line 78,946,975\n"
     ]
    },
    {
     "name": "stderr",
     "output_type": "stream",
     "text": [
      "Processing positions: 79000194lines [10:01:30, 1223.20lines/s]"
     ]
    },
    {
     "name": "stdout",
     "output_type": "stream",
     "text": [
      "Progress checkpoint: Line 79,000,000, Found 37,547,264 valid positions this session.\n"
     ]
    },
    {
     "name": "stderr",
     "output_type": "stream",
     "text": [
      "Processing positions: 79003158lines [10:01:33, 906.77lines/s] "
     ]
    },
    {
     "name": "stdout",
     "output_type": "stream",
     "text": [
      "\n",
      "✓ Previous chunk 1363 saved. Ledger updated.\n",
      "\n",
      "Submitting chunk 1364 (50000 positions) for asynchronous saving...\n",
      "  Chunk 1364 submitted. Main thread continues.\n",
      "  Total processed (optimistic): 68,300,000 positions\n",
      "  Progress: Line 79,003,122\n"
     ]
    },
    {
     "name": "stderr",
     "output_type": "stream",
     "text": [
      "Processing positions: 79059403lines [10:02:19, 907.78lines/s] "
     ]
    },
    {
     "name": "stdout",
     "output_type": "stream",
     "text": [
      "\n",
      "✓ Previous chunk 1364 saved. Ledger updated.\n",
      "\n",
      "Submitting chunk 1365 (50000 positions) for asynchronous saving...\n",
      "  Chunk 1365 submitted. Main thread continues.\n",
      "  Total processed (optimistic): 68,350,000 positions\n",
      "  Progress: Line 79,059,368\n"
     ]
    },
    {
     "name": "stderr",
     "output_type": "stream",
     "text": [
      "Processing positions: 79100130lines [10:02:53, 1187.21lines/s]"
     ]
    },
    {
     "name": "stdout",
     "output_type": "stream",
     "text": [
      "Progress checkpoint: Line 79,100,000, Found 37,635,521 valid positions this session.\n"
     ]
    },
    {
     "name": "stderr",
     "output_type": "stream",
     "text": [
      "Processing positions: 79116394lines [10:03:06, 879.99lines/s] "
     ]
    },
    {
     "name": "stdout",
     "output_type": "stream",
     "text": [
      "\n",
      "✓ Previous chunk 1365 saved. Ledger updated.\n",
      "\n",
      "Submitting chunk 1366 (50000 positions) for asynchronous saving...\n",
      "  Chunk 1366 submitted. Main thread continues.\n",
      "  Total processed (optimistic): 68,400,000 positions\n",
      "  Progress: Line 79,116,345\n"
     ]
    },
    {
     "name": "stderr",
     "output_type": "stream",
     "text": [
      "Processing positions: 79173196lines [10:03:52, 1253.83lines/s]"
     ]
    },
    {
     "name": "stdout",
     "output_type": "stream",
     "text": [
      "\n",
      "✓ Previous chunk 1366 saved. Ledger updated.\n",
      "\n",
      "Submitting chunk 1367 (50000 positions) for asynchronous saving...\n",
      "  Chunk 1367 submitted. Main thread continues.\n",
      "  Total processed (optimistic): 68,450,000 positions\n",
      "  Progress: Line 79,173,218\n"
     ]
    },
    {
     "name": "stderr",
     "output_type": "stream",
     "text": [
      "Processing positions: 79200138lines [10:04:14, 1263.98lines/s]"
     ]
    },
    {
     "name": "stdout",
     "output_type": "stream",
     "text": [
      "Progress checkpoint: Line 79,200,000, Found 37,723,551 valid positions this session.\n"
     ]
    },
    {
     "name": "stderr",
     "output_type": "stream",
     "text": [
      "Processing positions: 79229855lines [10:04:38, 844.70lines/s] "
     ]
    },
    {
     "name": "stdout",
     "output_type": "stream",
     "text": [
      "\n",
      "✓ Previous chunk 1367 saved. Ledger updated.\n",
      "\n",
      "Submitting chunk 1368 (50000 positions) for asynchronous saving...\n",
      "  Chunk 1368 submitted. Main thread continues.\n",
      "  Total processed (optimistic): 68,500,000 positions\n",
      "  Progress: Line 79,229,790\n"
     ]
    },
    {
     "name": "stderr",
     "output_type": "stream",
     "text": [
      "Processing positions: 79285657lines [10:05:24, 902.69lines/s] "
     ]
    },
    {
     "name": "stdout",
     "output_type": "stream",
     "text": [
      "\n",
      "✓ Previous chunk 1368 saved. Ledger updated.\n",
      "\n",
      "Submitting chunk 1369 (50000 positions) for asynchronous saving...\n",
      "  Chunk 1369 submitted. Main thread continues.\n",
      "  Total processed (optimistic): 68,550,000 positions\n",
      "  Progress: Line 79,285,606\n"
     ]
    },
    {
     "name": "stderr",
     "output_type": "stream",
     "text": [
      "Processing positions: 79300231lines [10:05:37, 1177.22lines/s]"
     ]
    },
    {
     "name": "stdout",
     "output_type": "stream",
     "text": [
      "Progress checkpoint: Line 79,300,000, Found 37,812,851 valid positions this session.\n"
     ]
    },
    {
     "name": "stderr",
     "output_type": "stream",
     "text": [
      "Processing positions: 79341916lines [10:06:11, 903.57lines/s] "
     ]
    },
    {
     "name": "stdout",
     "output_type": "stream",
     "text": [
      "\n",
      "✓ Previous chunk 1369 saved. Ledger updated.\n",
      "\n",
      "Submitting chunk 1370 (50000 positions) for asynchronous saving...\n",
      "  Chunk 1370 submitted. Main thread continues.\n",
      "  Total processed (optimistic): 68,600,000 positions\n",
      "  Progress: Line 79,341,820\n"
     ]
    },
    {
     "name": "stderr",
     "output_type": "stream",
     "text": [
      "Processing positions: 79398962lines [10:06:57, 969.55lines/s] "
     ]
    },
    {
     "name": "stdout",
     "output_type": "stream",
     "text": [
      "\n",
      "✓ Previous chunk 1370 saved. Ledger updated.\n",
      "\n",
      "Submitting chunk 1371 (50000 positions) for asynchronous saving...\n",
      "  Chunk 1371 submitted. Main thread continues.\n",
      "  Total processed (optimistic): 68,650,000 positions\n",
      "  Progress: Line 79,398,928\n"
     ]
    },
    {
     "name": "stderr",
     "output_type": "stream",
     "text": [
      "Processing positions: 79400084lines [10:06:59, 807.21lines/s]"
     ]
    },
    {
     "name": "stdout",
     "output_type": "stream",
     "text": [
      "Progress checkpoint: Line 79,400,000, Found 37,900,898 valid positions this session.\n"
     ]
    },
    {
     "name": "stderr",
     "output_type": "stream",
     "text": [
      "Processing positions: 79456600lines [10:07:43, 911.52lines/s] "
     ]
    },
    {
     "name": "stdout",
     "output_type": "stream",
     "text": [
      "\n",
      "✓ Previous chunk 1371 saved. Ledger updated.\n",
      "\n",
      "Submitting chunk 1372 (50000 positions) for asynchronous saving...\n",
      "  Chunk 1372 submitted. Main thread continues.\n",
      "  Total processed (optimistic): 68,700,000 positions\n",
      "  Progress: Line 79,456,578\n"
     ]
    },
    {
     "name": "stderr",
     "output_type": "stream",
     "text": [
      "Processing positions: 79500173lines [10:08:20, 1230.19lines/s]"
     ]
    },
    {
     "name": "stdout",
     "output_type": "stream",
     "text": [
      "Progress checkpoint: Line 79,500,000, Found 37,988,271 valid positions this session.\n"
     ]
    },
    {
     "name": "stderr",
     "output_type": "stream",
     "text": [
      "Processing positions: 79513177lines [10:08:31, 919.35lines/s] "
     ]
    },
    {
     "name": "stdout",
     "output_type": "stream",
     "text": [
      "\n",
      "✓ Previous chunk 1372 saved. Ledger updated.\n",
      "\n",
      "Submitting chunk 1373 (50000 positions) for asynchronous saving...\n",
      "  Chunk 1373 submitted. Main thread continues.\n",
      "  Total processed (optimistic): 68,750,000 positions\n",
      "  Progress: Line 79,513,143\n"
     ]
    },
    {
     "name": "stderr",
     "output_type": "stream",
     "text": [
      "Processing positions: 79570050lines [10:09:17, 1330.32lines/s]"
     ]
    },
    {
     "name": "stdout",
     "output_type": "stream",
     "text": [
      "\n",
      "✓ Previous chunk 1373 saved. Ledger updated.\n",
      "\n",
      "Submitting chunk 1374 (50000 positions) for asynchronous saving...\n",
      "  Chunk 1374 submitted. Main thread continues.\n",
      "  Total processed (optimistic): 68,800,000 positions\n",
      "  Progress: Line 79,570,071\n"
     ]
    },
    {
     "name": "stderr",
     "output_type": "stream",
     "text": [
      "Processing positions: 79600181lines [10:09:42, 1105.56lines/s]"
     ]
    },
    {
     "name": "stdout",
     "output_type": "stream",
     "text": [
      "Progress checkpoint: Line 79,600,000, Found 38,075,981 valid positions this session.\n"
     ]
    },
    {
     "name": "stderr",
     "output_type": "stream",
     "text": [
      "Processing positions: 79627075lines [10:10:04, 855.82lines/s] "
     ]
    },
    {
     "name": "stdout",
     "output_type": "stream",
     "text": [
      "\n",
      "✓ Previous chunk 1374 saved. Ledger updated.\n",
      "\n",
      "Submitting chunk 1375 (50000 positions) for asynchronous saving...\n",
      "  Chunk 1375 submitted. Main thread continues.\n",
      "  Total processed (optimistic): 68,850,000 positions\n",
      "  Progress: Line 79,627,042\n"
     ]
    },
    {
     "name": "stderr",
     "output_type": "stream",
     "text": [
      "Processing positions: 79683323lines [10:10:51, 873.18lines/s] "
     ]
    },
    {
     "name": "stdout",
     "output_type": "stream",
     "text": [
      "\n",
      "✓ Previous chunk 1375 saved. Ledger updated.\n",
      "\n",
      "Submitting chunk 1376 (50000 positions) for asynchronous saving...\n",
      "  Chunk 1376 submitted. Main thread continues.\n",
      "  Total processed (optimistic): 68,900,000 positions\n",
      "  Progress: Line 79,683,235\n"
     ]
    },
    {
     "name": "stderr",
     "output_type": "stream",
     "text": [
      "Processing positions: 79700201lines [10:11:05, 1231.43lines/s]"
     ]
    },
    {
     "name": "stdout",
     "output_type": "stream",
     "text": [
      "Progress checkpoint: Line 79,700,000, Found 38,164,831 valid positions this session.\n"
     ]
    },
    {
     "name": "stderr",
     "output_type": "stream",
     "text": [
      "Processing positions: 79739758lines [10:11:36, 969.40lines/s] "
     ]
    },
    {
     "name": "stdout",
     "output_type": "stream",
     "text": [
      "\n",
      "✓ Previous chunk 1376 saved. Ledger updated.\n",
      "\n",
      "Submitting chunk 1377 (50000 positions) for asynchronous saving...\n",
      "  Chunk 1377 submitted. Main thread continues.\n",
      "  Total processed (optimistic): 68,950,000 positions\n",
      "  Progress: Line 79,739,730\n"
     ]
    },
    {
     "name": "stderr",
     "output_type": "stream",
     "text": [
      "Processing positions: 79796947lines [10:12:22, 895.52lines/s] "
     ]
    },
    {
     "name": "stdout",
     "output_type": "stream",
     "text": [
      "\n",
      "✓ Previous chunk 1377 saved. Ledger updated.\n",
      "\n",
      "Submitting chunk 1378 (50000 positions) for asynchronous saving...\n",
      "  Chunk 1378 submitted. Main thread continues.\n",
      "  Total processed (optimistic): 69,000,000 positions\n",
      "  Progress: Line 79,796,939\n"
     ]
    },
    {
     "name": "stderr",
     "output_type": "stream",
     "text": [
      "Processing positions: 79800140lines [10:12:25, 1189.24lines/s]"
     ]
    },
    {
     "name": "stdout",
     "output_type": "stream",
     "text": [
      "Progress checkpoint: Line 79,800,000, Found 38,252,726 valid positions this session.\n"
     ]
    },
    {
     "name": "stderr",
     "output_type": "stream",
     "text": [
      "Processing positions: 79854216lines [10:13:08, 825.00lines/s] "
     ]
    },
    {
     "name": "stdout",
     "output_type": "stream",
     "text": [
      "\n",
      "✓ Previous chunk 1378 saved. Ledger updated.\n",
      "\n",
      "Submitting chunk 1379 (50000 positions) for asynchronous saving...\n",
      "  Chunk 1379 submitted. Main thread continues.\n",
      "  Total processed (optimistic): 69,050,000 positions\n",
      "  Progress: Line 79,854,135\n"
     ]
    },
    {
     "name": "stderr",
     "output_type": "stream",
     "text": [
      "Processing positions: 79900188lines [10:13:46, 1259.27lines/s]"
     ]
    },
    {
     "name": "stdout",
     "output_type": "stream",
     "text": [
      "Progress checkpoint: Line 79,900,000, Found 38,340,289 valid positions this session.\n"
     ]
    },
    {
     "name": "stderr",
     "output_type": "stream",
     "text": [
      "Processing positions: 79911299lines [10:13:55, 1008.08lines/s]"
     ]
    },
    {
     "name": "stdout",
     "output_type": "stream",
     "text": [
      "\n",
      "✓ Previous chunk 1379 saved. Ledger updated.\n",
      "\n",
      "Submitting chunk 1380 (50000 positions) for asynchronous saving...\n",
      "  Chunk 1380 submitted. Main thread continues.\n",
      "  Total processed (optimistic): 69,100,000 positions\n",
      "  Progress: Line 79,911,251\n"
     ]
    },
    {
     "name": "stderr",
     "output_type": "stream",
     "text": [
      "Processing positions: 79969390lines [10:14:41, 909.00lines/s] "
     ]
    },
    {
     "name": "stdout",
     "output_type": "stream",
     "text": [
      "\n",
      "✓ Previous chunk 1380 saved. Ledger updated.\n",
      "\n",
      "Submitting chunk 1381 (50000 positions) for asynchronous saving...\n",
      "  Chunk 1381 submitted. Main thread continues.\n",
      "  Total processed (optimistic): 69,150,000 positions\n",
      "  Progress: Line 79,969,361\n"
     ]
    },
    {
     "name": "stderr",
     "output_type": "stream",
     "text": [
      "Processing positions: 80000200lines [10:15:06, 1283.00lines/s]"
     ]
    },
    {
     "name": "stdout",
     "output_type": "stream",
     "text": [
      "Progress checkpoint: Line 80,000,000, Found 38,426,006 valid positions this session.\n"
     ]
    },
    {
     "name": "stderr",
     "output_type": "stream",
     "text": [
      "Processing positions: 80027543lines [10:15:28, 941.30lines/s] "
     ]
    },
    {
     "name": "stdout",
     "output_type": "stream",
     "text": [
      "\n",
      "✓ Previous chunk 1381 saved. Ledger updated.\n",
      "\n",
      "Submitting chunk 1382 (50000 positions) for asynchronous saving...\n",
      "  Chunk 1382 submitted. Main thread continues.\n",
      "  Total processed (optimistic): 69,200,000 positions\n",
      "  Progress: Line 80,027,501\n"
     ]
    },
    {
     "name": "stderr",
     "output_type": "stream",
     "text": [
      "Processing positions: 80084353lines [10:16:14, 935.88lines/s] "
     ]
    },
    {
     "name": "stdout",
     "output_type": "stream",
     "text": [
      "\n",
      "✓ Previous chunk 1382 saved. Ledger updated.\n",
      "\n",
      "Submitting chunk 1383 (50000 positions) for asynchronous saving...\n",
      "  Chunk 1383 submitted. Main thread continues.\n",
      "  Total processed (optimistic): 69,250,000 positions\n",
      "  Progress: Line 80,084,280\n"
     ]
    },
    {
     "name": "stderr",
     "output_type": "stream",
     "text": [
      "Processing positions: 80100111lines [10:16:28, 1198.53lines/s]"
     ]
    },
    {
     "name": "stdout",
     "output_type": "stream",
     "text": [
      "Progress checkpoint: Line 80,100,000, Found 38,513,967 valid positions this session.\n"
     ]
    },
    {
     "name": "stderr",
     "output_type": "stream",
     "text": [
      "Processing positions: 80141433lines [10:17:01, 909.53lines/s] "
     ]
    },
    {
     "name": "stdout",
     "output_type": "stream",
     "text": [
      "\n",
      "✓ Previous chunk 1383 saved. Ledger updated.\n",
      "\n",
      "Submitting chunk 1384 (50000 positions) for asynchronous saving...\n",
      "  Chunk 1384 submitted. Main thread continues.\n",
      "  Total processed (optimistic): 69,300,000 positions\n",
      "  Progress: Line 80,141,395\n"
     ]
    },
    {
     "name": "stderr",
     "output_type": "stream",
     "text": [
      "Processing positions: 80198458lines [10:17:47, 912.04lines/s] "
     ]
    },
    {
     "name": "stdout",
     "output_type": "stream",
     "text": [
      "\n",
      "✓ Previous chunk 1384 saved. Ledger updated.\n",
      "\n",
      "Submitting chunk 1385 (50000 positions) for asynchronous saving...\n",
      "  Chunk 1385 submitted. Main thread continues.\n",
      "  Total processed (optimistic): 69,350,000 positions\n",
      "  Progress: Line 80,198,429\n"
     ]
    },
    {
     "name": "stderr",
     "output_type": "stream",
     "text": [
      "Processing positions: 80200203lines [10:17:49, 1158.73lines/s]"
     ]
    },
    {
     "name": "stdout",
     "output_type": "stream",
     "text": [
      "Progress checkpoint: Line 80,200,000, Found 38,601,281 valid positions this session.\n"
     ]
    },
    {
     "name": "stderr",
     "output_type": "stream",
     "text": [
      "Processing positions: 80257143lines [10:18:34, 1236.20lines/s]"
     ]
    },
    {
     "name": "stdout",
     "output_type": "stream",
     "text": [
      "\n",
      "✓ Previous chunk 1385 saved. Ledger updated.\n",
      "\n",
      "Submitting chunk 1386 (50000 positions) for asynchronous saving...\n",
      "  Chunk 1386 submitted. Main thread continues.\n",
      "  Total processed (optimistic): 69,400,000 positions\n",
      "  Progress: Line 80,257,165\n"
     ]
    },
    {
     "name": "stderr",
     "output_type": "stream",
     "text": [
      "Processing positions: 80300135lines [10:19:09, 1144.72lines/s]"
     ]
    },
    {
     "name": "stdout",
     "output_type": "stream",
     "text": [
      "Progress checkpoint: Line 80,300,000, Found 38,687,875 valid positions this session.\n"
     ]
    },
    {
     "name": "stderr",
     "output_type": "stream",
     "text": [
      "Processing positions: 80313771lines [10:19:20, 1230.14lines/s]"
     ]
    },
    {
     "name": "stdout",
     "output_type": "stream",
     "text": [
      "\n",
      "✓ Previous chunk 1386 saved. Ledger updated.\n",
      "\n",
      "Submitting chunk 1387 (50000 positions) for asynchronous saving...\n",
      "  Chunk 1387 submitted. Main thread continues.\n",
      "  Total processed (optimistic): 69,450,000 positions\n",
      "  Progress: Line 80,313,798\n"
     ]
    },
    {
     "name": "stderr",
     "output_type": "stream",
     "text": [
      "Processing positions: 80370219lines [10:20:07, 818.12lines/s] "
     ]
    },
    {
     "name": "stdout",
     "output_type": "stream",
     "text": [
      "\n",
      "✓ Previous chunk 1387 saved. Ledger updated.\n",
      "\n",
      "Submitting chunk 1388 (50000 positions) for asynchronous saving...\n",
      "  Chunk 1388 submitted. Main thread continues.\n",
      "  Total processed (optimistic): 69,500,000 positions\n",
      "  Progress: Line 80,370,179\n"
     ]
    },
    {
     "name": "stderr",
     "output_type": "stream",
     "text": [
      "Processing positions: 80400186lines [10:20:32, 1161.31lines/s]"
     ]
    },
    {
     "name": "stdout",
     "output_type": "stream",
     "text": [
      "Progress checkpoint: Line 80,400,000, Found 38,776,398 valid positions this session.\n"
     ]
    },
    {
     "name": "stderr",
     "output_type": "stream",
     "text": [
      "Processing positions: 80427398lines [10:20:54, 885.05lines/s] "
     ]
    },
    {
     "name": "stdout",
     "output_type": "stream",
     "text": [
      "\n",
      "✓ Previous chunk 1388 saved. Ledger updated.\n",
      "\n",
      "Submitting chunk 1389 (50000 positions) for asynchronous saving...\n",
      "  Chunk 1389 submitted. Main thread continues.\n",
      "  Total processed (optimistic): 69,550,000 positions\n",
      "  Progress: Line 80,427,300\n"
     ]
    },
    {
     "name": "stderr",
     "output_type": "stream",
     "text": [
      "Processing positions: 80428090lines [10:20:55, 1194.65lines/s]\n"
     ]
    },
    {
     "name": "stdout",
     "output_type": "stream",
     "text": [
      "\n",
      "⚠ Processing interrupted by user\n",
      "Progress saved. Can resume from line 80428092\n",
      "Shutting down save executor...\n",
      "Save executor shut down.\n",
      "\n",
      "✓ Processing completed successfully!\n",
      "Run verify_chunk_files() to verify all files\n"
     ]
    }
   ],
   "source": [
    "start_processing()   "
   ]
  }
 ],
 "metadata": {
  "kernelspec": {
   "display_name": "notebook-env",
   "language": "python",
   "name": "python3"
  },
  "language_info": {
   "codemirror_mode": {
    "name": "ipython",
    "version": 3
   },
   "file_extension": ".py",
   "mimetype": "text/x-python",
   "name": "python",
   "nbconvert_exporter": "python",
   "pygments_lexer": "ipython3",
   "version": "3.11.13"
  }
 },
 "nbformat": 4,
 "nbformat_minor": 5
}
